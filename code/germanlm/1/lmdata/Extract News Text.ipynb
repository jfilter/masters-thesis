{
 "cells": [
  {
   "cell_type": "code",
   "execution_count": 90,
   "metadata": {
    "ExecuteTime": {
     "end_time": "2018-11-21T13:43:08.657250Z",
     "start_time": "2018-11-21T13:43:08.653068Z"
    }
   },
   "outputs": [
    {
     "data": {
      "text/plain": [
       "RendererRegistry.enable('notebook')"
      ]
     },
     "execution_count": 90,
     "metadata": {},
     "output_type": "execute_result"
    }
   ],
   "source": [
    "from pathlib import Path\n",
    "import pandas as pd\n",
    "import json"
   ]
  },
  {
   "cell_type": "code",
   "execution_count": 2,
   "metadata": {
    "ExecuteTime": {
     "end_time": "2018-11-21T11:54:41.970261Z",
     "start_time": "2018-11-21T11:54:31.983043Z"
    }
   },
   "outputs": [],
   "source": [
    "txts = ! find ~/data/germanlm/news-please-repo -iname \"*.json\""
   ]
  },
  {
   "cell_type": "code",
   "execution_count": 3,
   "metadata": {
    "ExecuteTime": {
     "end_time": "2018-11-21T11:54:41.975947Z",
     "start_time": "2018-11-21T11:54:41.972471Z"
    }
   },
   "outputs": [
    {
     "data": {
      "text/plain": [
       "3011854"
      ]
     },
     "execution_count": 3,
     "metadata": {},
     "output_type": "execute_result"
    }
   ],
   "source": [
    "len(txts)"
   ]
  },
  {
   "cell_type": "code",
   "execution_count": 6,
   "metadata": {
    "ExecuteTime": {
     "end_time": "2018-11-21T11:59:56.618364Z",
     "start_time": "2018-11-21T11:54:42.199730Z"
    }
   },
   "outputs": [],
   "source": [
    "text_raw = []\n",
    "for t in txts:\n",
    "    with open(t) as json_data:\n",
    "        d = json.load(json_data)\n",
    "        text_raw.append(d)"
   ]
  },
  {
   "cell_type": "code",
   "execution_count": 7,
   "metadata": {
    "ExecuteTime": {
     "end_time": "2018-11-21T11:59:56.622837Z",
     "start_time": "2018-11-21T11:59:56.619760Z"
    }
   },
   "outputs": [
    {
     "data": {
      "text/plain": [
       "3011854"
      ]
     },
     "execution_count": 7,
     "metadata": {},
     "output_type": "execute_result"
    }
   ],
   "source": [
    "len(text_raw)"
   ]
  },
  {
   "cell_type": "code",
   "execution_count": 8,
   "metadata": {
    "ExecuteTime": {
     "end_time": "2018-11-21T11:59:57.190298Z",
     "start_time": "2018-11-21T11:59:56.625560Z"
    }
   },
   "outputs": [],
   "source": [
    "text_raw = [t for t in text_raw if type(t) is dict]"
   ]
  },
  {
   "cell_type": "code",
   "execution_count": 9,
   "metadata": {
    "ExecuteTime": {
     "end_time": "2018-11-21T11:59:57.194413Z",
     "start_time": "2018-11-21T11:59:57.191603Z"
    }
   },
   "outputs": [
    {
     "data": {
      "text/plain": [
       "3011852"
      ]
     },
     "execution_count": 9,
     "metadata": {},
     "output_type": "execute_result"
    }
   ],
   "source": [
    "len(text_raw)"
   ]
  },
  {
   "cell_type": "code",
   "execution_count": 10,
   "metadata": {
    "ExecuteTime": {
     "end_time": "2018-11-21T12:00:06.728544Z",
     "start_time": "2018-11-21T11:59:57.195662Z"
    }
   },
   "outputs": [],
   "source": [
    "df = pd.DataFrame(text_raw)"
   ]
  },
  {
   "cell_type": "code",
   "execution_count": 13,
   "metadata": {
    "ExecuteTime": {
     "end_time": "2018-11-21T12:01:56.090345Z",
     "start_time": "2018-11-21T12:01:53.129444Z"
    }
   },
   "outputs": [],
   "source": [
    "df = df.drop_duplicates(subset=['text'])"
   ]
  },
  {
   "cell_type": "code",
   "execution_count": 80,
   "metadata": {
    "ExecuteTime": {
     "end_time": "2018-11-21T13:28:10.076198Z",
     "start_time": "2018-11-21T13:28:08.732203Z"
    }
   },
   "outputs": [],
   "source": [
    "df_a = df[df['text'].str.len() > 500]"
   ]
  },
  {
   "cell_type": "code",
   "execution_count": 81,
   "metadata": {
    "ExecuteTime": {
     "end_time": "2018-11-21T13:28:11.523194Z",
     "start_time": "2018-11-21T13:28:10.077987Z"
    }
   },
   "outputs": [],
   "source": [
    "df_a = df_a.dropna(subset=['text'])"
   ]
  },
  {
   "cell_type": "code",
   "execution_count": 82,
   "metadata": {
    "ExecuteTime": {
     "end_time": "2018-11-21T13:29:42.953130Z",
     "start_time": "2018-11-21T13:28:11.525538Z"
    }
   },
   "outputs": [],
   "source": [
    "# remove Location and Source from the beginning\n",
    "df_a['text'] = df_a['text'].str.replace(r'^(\\S+\\s){1,3}\\(\\S+\\)\\s*(-|–|\\.|\\-)\\s*', '')\n",
    "df_a['text'] = df_a['text'].str.replace(r'^(\\S+\\s){1,3}\\(AFP\\)\\s*', '')\n",
    "df_a['text'] = df_a['text'].str.replace(r'^Inhalt Seite \\d —\\s*', '')"
   ]
  },
  {
   "cell_type": "code",
   "execution_count": 93,
   "metadata": {
    "ExecuteTime": {
     "end_time": "2018-11-21T13:47:49.586747Z",
     "start_time": "2018-11-21T13:44:51.088918Z"
    }
   },
   "outputs": [],
   "source": [
    "for i, t in enumerate(df_a['text']):\n",
    "    Path('/mnt/data/group07/johannes/germanlm/proc/final/news_' + str(i) + '.txt').write_text(t)"
   ]
  },
  {
   "cell_type": "code",
   "execution_count": null,
   "metadata": {},
   "outputs": [],
   "source": []
  }
 ],
 "metadata": {
  "kernelspec": {
   "display_name": "Python 3",
   "language": "python",
   "name": "python3"
  },
  "language_info": {
   "codemirror_mode": {
    "name": "ipython",
    "version": 3
   },
   "file_extension": ".py",
   "mimetype": "text/x-python",
   "name": "python",
   "nbconvert_exporter": "python",
   "pygments_lexer": "ipython3",
   "version": "3.7.1"
  },
  "toc": {
   "base_numbering": 1,
   "nav_menu": {},
   "number_sections": true,
   "sideBar": true,
   "skip_h1_title": false,
   "title_cell": "Table of Contents",
   "title_sidebar": "Contents",
   "toc_cell": false,
   "toc_position": {},
   "toc_section_display": true,
   "toc_window_display": false
  }
 },
 "nbformat": 4,
 "nbformat_minor": 2
}
