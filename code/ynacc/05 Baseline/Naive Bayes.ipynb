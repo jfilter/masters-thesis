{
 "cells": [
  {
   "cell_type": "code",
   "execution_count": 1,
   "metadata": {
    "ExecuteTime": {
     "end_time": "2019-02-21T19:09:13.373501Z",
     "start_time": "2019-02-21T19:09:11.081156Z"
    }
   },
   "outputs": [],
   "source": [
    "import numpy as np\n",
    "import pandas as pd\n",
    "from sklearn.feature_extraction.text import CountVectorizer\n",
    "from sklearn.linear_model import RidgeCV\n",
    "from sklearn.metrics import classification_report, cohen_kappa_score\n",
    "from sklearn.preprocessing import OneHotEncoder\n",
    "from sklearn.naive_bayes import MultinomialNB\n",
    "\n",
    "from cleantext import clean"
   ]
  },
  {
   "cell_type": "code",
   "execution_count": 2,
   "metadata": {
    "ExecuteTime": {
     "end_time": "2019-02-21T19:09:13.788384Z",
     "start_time": "2019-02-21T19:09:13.376457Z"
    }
   },
   "outputs": [],
   "source": [
    "df_train = pd.read_csv('~/data/ynacc_proc/replicate/split/train.csv')\n",
    "df_val = pd.read_csv('~/data/ynacc_proc/replicate/split/val.csv')\n",
    "df_test = pd.read_csv('~/data/ynacc_proc/replicate/split/test.csv')"
   ]
  },
  {
   "cell_type": "code",
   "execution_count": 3,
   "metadata": {
    "ExecuteTime": {
     "end_time": "2019-02-21T19:09:19.499753Z",
     "start_time": "2019-02-21T19:09:13.790553Z"
    }
   },
   "outputs": [],
   "source": [
    "df_train['text'] = df_train['text'].apply(lambda x: clean(x, lower=True, no_line_breaks=True, zero_digits=True, fix_unicode=True, to_ascii=True))\n",
    "df_val['text'] = df_val['text'].apply(lambda x: clean(x, lower=True, no_line_breaks=True, zero_digits=True, fix_unicode=True, to_ascii=True))\n",
    "df_test['text'] = df_test['text'].apply(lambda x: clean(x, lower=True, no_line_breaks=True, zero_digits=True, fix_unicode=True, to_ascii=True))"
   ]
  },
  {
   "cell_type": "code",
   "execution_count": 7,
   "metadata": {
    "ExecuteTime": {
     "end_time": "2019-02-21T13:35:45.827048Z",
     "start_time": "2019-02-21T13:35:45.478554Z"
    }
   },
   "outputs": [],
   "source": [
    "df_train['text'] = df_train.apply(lambda x: x['text'] + ' .  ' + ('xxtoplevelcomment' if pd.isna(x['parentid']) else 'xxreplycomment'), axis=1)\n",
    "df_val['text'] = df_val.apply(lambda x: x['text'] + ' .  ' + ('xxtoplevelcomment' if pd.isna(x['parentid']) else 'xxreplycomment'), axis=1)\n",
    "df_test['text'] = df_test.apply(lambda x: x['text'] + ' .  ' + ('xxtoplevelcomment' if pd.isna(x['parentid']) else 'xxreplycomment'), axis=1)"
   ]
  },
  {
   "cell_type": "code",
   "execution_count": 4,
   "metadata": {
    "ExecuteTime": {
     "end_time": "2019-02-21T19:09:20.993891Z",
     "start_time": "2019-02-21T19:09:20.395125Z"
    }
   },
   "outputs": [
    {
     "data": {
      "text/plain": [
       "CountVectorizer(analyzer='word', binary=False, decode_error='strict',\n",
       "        dtype=<class 'numpy.int64'>, encoding='utf-8', input='content',\n",
       "        lowercase=True, max_df=1.0, max_features=None, min_df=1,\n",
       "        ngram_range=(1, 1), preprocessor=None, stop_words=None,\n",
       "        strip_accents=None, token_pattern='(?u)\\\\b\\\\w\\\\w+\\\\b',\n",
       "        tokenizer=None, vocabulary=None)"
      ]
     },
     "execution_count": 4,
     "metadata": {},
     "output_type": "execute_result"
    }
   ],
   "source": [
    "text = df_train['text'].values\n",
    "vectorizer = CountVectorizer()\n",
    "vectorizer.fit(text)"
   ]
  },
  {
   "cell_type": "code",
   "execution_count": 5,
   "metadata": {
    "ExecuteTime": {
     "end_time": "2019-02-21T19:09:22.107305Z",
     "start_time": "2019-02-21T19:09:21.532711Z"
    }
   },
   "outputs": [],
   "source": [
    "x_train = vectorizer.transform(text)\n",
    "x_val = vectorizer.transform(df_val['text'].values)\n",
    "x_test = vectorizer.transform(df_test['text'].values)"
   ]
  },
  {
   "cell_type": "code",
   "execution_count": 6,
   "metadata": {
    "ExecuteTime": {
     "end_time": "2019-02-21T19:09:22.115137Z",
     "start_time": "2019-02-21T19:09:22.109991Z"
    }
   },
   "outputs": [],
   "source": [
    "import numpy as np\n",
    "# nb_classes = 6\n",
    "# data = [[2, 3, 4, 0]]\n",
    "\n",
    "def indices_to_one_hot(data, nb_classes):\n",
    "    \"\"\"Convert an iterable of indices to one-hot encoded labels.\"\"\"\n",
    "    targets = np.array(data).reshape(-1)\n",
    "    return np.eye(nb_classes)[targets]"
   ]
  },
  {
   "cell_type": "code",
   "execution_count": 7,
   "metadata": {
    "ExecuteTime": {
     "end_time": "2019-02-21T19:09:23.058510Z",
     "start_time": "2019-02-21T19:09:23.031375Z"
    }
   },
   "outputs": [],
   "source": [
    "def run_cl(col, nb=False):\n",
    "    y_train = df_train[col].values\n",
    "    y_val = df_val[col].values\n",
    "    y_test = df_test[col].values\n",
    "    \n",
    "    y_train = np.nan_to_num(y_train)\n",
    "    y_val = np.nan_to_num(y_val)\n",
    "    y_test = np.nan_to_num(y_test)\n",
    "    \n",
    "#     enc = OneHotEncoder(handle_unknown='ignore')\n",
    "#     enc.fit(y_train.reshape(-1, 1))\n",
    "    \n",
    "#     y_train = enc.transform(y_train.reshape(-1, 1)).toarray()\n",
    "#     y_val = enc.transform(y_val.reshape(-1, 1)).toarray()\n",
    "#     y_test = enc.transform(y_test.reshape(-1, 1)).toarray()\n",
    "    \n",
    "    if nb:\n",
    "        clf = MultinomialNB()\n",
    "    else:\n",
    "        clf = RidgeCV()\n",
    "        \n",
    "    clf.fit(x_train, y_train)\n",
    "    y_pred = clf.predict(x_val)\n",
    "\n",
    "#     y_pred = np.argmax(clf.predict(x_val), axis=1)\n",
    "#     y_val = np.argmax(y_val, axis=1)\n",
    "    \n",
    "    dct = classification_report(y_pred=y_pred, y_true=y_val,output_dict=True)\n",
    "    kappa = cohen_kappa_score(y_pred, y_val)\n",
    "\n",
    "#     y_pred_test = np.argmax(clf.predict(x_test), axis=1)\n",
    "#     y_test = np.argmax(y_test, axis=1)\n",
    "    y_pred_test = clf.predict(x_test)\n",
    "\n",
    "    dct_test = classification_report(y_pred=y_pred_test, y_true=y_test, output_dict=True)\n",
    "    kappa_test = cohen_kappa_score(y_pred_test, y_test)\n",
    "    \n",
    "    print(' & '.join([col[2:].title(), str(dct['micro avg']['f1-score']), str(dct['macro avg']['f1-score']), str(kappa), str(dct_test['micro avg']['f1-score']), str(dct_test['macro avg']['f1-score']), str(kappa_test)]) + ' \\\\\\\\')"
   ]
  },
  {
   "cell_type": "code",
   "execution_count": 8,
   "metadata": {
    "ExecuteTime": {
     "end_time": "2019-02-21T19:09:25.448436Z",
     "start_time": "2019-02-21T19:09:25.439886Z"
    }
   },
   "outputs": [],
   "source": [
    "cls = ['claudience', 'clpersuasive','clagreement','clinformative','clmean','clcontroversial', 'cldisagreement','cltopic', 'clsentiment']"
   ]
  },
  {
   "cell_type": "code",
   "execution_count": 9,
   "metadata": {
    "ExecuteTime": {
     "end_time": "2019-02-21T19:09:26.411469Z",
     "start_time": "2019-02-21T19:09:26.220040Z"
    }
   },
   "outputs": [
    {
     "name": "stdout",
     "output_type": "stream",
     "text": [
      "Audience & 0.6861063464837049 & 0.5866257511827132 & 0.20712103984125918 & 0.7197106690777576 & 0.6028200862799976 & 0.21824980619271295 \\\\\n",
      "Persuasive & 0.8147512864493998 & 0.5446893439777855 & 0.09783356258596965 & 0.8245931283905967 & 0.6150489791524634 & 0.24018017762794452 \\\\\n",
      "Agreement & 0.8850771869639794 & 0.497575406778571 & 0.046944003903867104 & 0.8517179023508138 & 0.504090113735783 & 0.07005455067470556 \\\\\n",
      "Informative & 0.8181818181818182 & 0.5588378069674471 & 0.13699586638364425 & 0.8119349005424954 & 0.5342403628117914 & 0.0721177115936884 \\\\\n",
      "Mean & 0.8130360205831904 & 0.6403128944434068 & 0.2964316161247108 & 0.8354430379746836 & 0.6510315176311501 & 0.3021840116480621 \\\\\n",
      "Controversial & 0.6638078902229846 & 0.6396331617721263 & 0.28632457279904067 & 0.6039783001808319 & 0.6038954030319383 & 0.24514295330877545 \\\\\n",
      "Disagreement & 0.6346483704974271 & 0.6265214606021782 & 0.2546770621387543 & 0.6401446654611211 & 0.6380568665822492 & 0.2892627635870443 \\\\\n",
      "Topic & 0.6826758147512865 & 0.5433839249804195 & 0.1274926182097642 & 0.6943942133815552 & 0.559524538937565 & 0.1383831026948289 \\\\\n",
      "Sentiment & 0.548885077186964 & 0.24851621808143542 & 0.09976456220900554 & 0.5949367088607594 & 0.27097773170070705 & 0.09781357882623698 \\\\\n"
     ]
    }
   ],
   "source": [
    "for cl in cls:\n",
    "    run_cl(cl, nb=True)"
   ]
  },
  {
   "cell_type": "code",
   "execution_count": null,
   "metadata": {},
   "outputs": [],
   "source": []
  }
 ],
 "metadata": {
  "kernelspec": {
   "display_name": "Python 3",
   "language": "python",
   "name": "python3"
  },
  "language_info": {
   "codemirror_mode": {
    "name": "ipython",
    "version": 3
   },
   "file_extension": ".py",
   "mimetype": "text/x-python",
   "name": "python",
   "nbconvert_exporter": "python",
   "pygments_lexer": "ipython3",
   "version": "3.7.1"
  },
  "toc": {
   "base_numbering": 1,
   "nav_menu": {},
   "number_sections": true,
   "sideBar": true,
   "skip_h1_title": false,
   "title_cell": "Table of Contents",
   "title_sidebar": "Contents",
   "toc_cell": false,
   "toc_position": {},
   "toc_section_display": true,
   "toc_window_display": false
  }
 },
 "nbformat": 4,
 "nbformat_minor": 2
}
