{
 "cells": [
  {
   "cell_type": "code",
   "execution_count": 7,
   "metadata": {
    "ExecuteTime": {
     "end_time": "2018-12-06T12:51:04.112602Z",
     "start_time": "2018-12-06T12:51:04.108936Z"
    }
   },
   "outputs": [],
   "source": [
    "from collections import defaultdict"
   ]
  },
  {
   "cell_type": "code",
   "execution_count": 86,
   "metadata": {
    "ExecuteTime": {
     "end_time": "2018-12-06T17:28:31.480090Z",
     "start_time": "2018-12-06T17:28:31.475727Z"
    }
   },
   "outputs": [],
   "source": [
    "text=\"\"\"epoch  train_loss  valid_loss  accuracy\n",
    "1      4.372642    4.177016    0.263221\n",
    "epoch  train_loss  valid_loss  accuracy\n",
    "1      4.027451    3.945590    0.286123\n",
    "2      3.951885    3.878929    0.294087\n",
    "3      3.899897    3.862061    0.296676\n",
    "4      3.848145    3.864187    0.296951\n",
    "5      3.905525    3.867463    0.296615\n",
    "6      3.878160    3.881567    0.296038\n",
    "7      3.904202    3.891063    0.295246\n",
    "8      3.941682    3.905075    0.294498\n",
    "9      3.918227    3.921756    0.292763\"\"\""
   ]
  },
  {
   "cell_type": "code",
   "execution_count": 84,
   "metadata": {
    "ExecuteTime": {
     "end_time": "2018-12-06T17:27:41.118588Z",
     "start_time": "2018-12-06T17:27:41.113956Z"
    }
   },
   "outputs": [],
   "source": [
    "# text=\"\"\"epoch  train_loss  valid_loss  accuracy\n",
    "# 1      4.339731    4.128653    0.266053\n",
    "# epoch  train_loss  valid_loss  accuracy\n",
    "# 1      4.023022    3.934242    0.287124\n",
    "# 2      3.962061    3.885226    0.292996\n",
    "# 3      3.918480    3.869871    0.295012\n",
    "# 4      3.890093    3.850875    0.298219\n",
    "# 5      3.797395    3.822968    0.301203\n",
    "# 6      3.755370    3.791306    0.304802\n",
    "# 7      3.699048    3.764314    0.307551\n",
    "# 8      3.548948    3.739092    0.310876\n",
    "# 9      3.509849    3.723798    0.312767\n",
    "# 10     3.440444    3.718909    0.314024\n",
    "# 11     3.372857    3.721872    0.314292\"\"\""
   ]
  },
  {
   "cell_type": "code",
   "execution_count": 79,
   "metadata": {
    "ExecuteTime": {
     "end_time": "2018-12-06T17:27:17.469598Z",
     "start_time": "2018-12-06T17:27:17.465171Z"
    }
   },
   "outputs": [],
   "source": [
    "# text=\"\"\"epoch  train_loss  valid_loss  accuracy\n",
    "# 1      4.310607    4.152143    0.265256\n",
    "# epoch  train_loss  valid_loss  accuracy\n",
    "# 1      4.020872    3.938158    0.286905\n",
    "# 2      3.946503    3.877094    0.294087\n",
    "# 3      3.875124    3.855972    0.296872\n",
    "# 4      3.837373    3.857630    0.296919\n",
    "# 5      3.842546    3.865411    0.296655\n",
    "# 6      3.861492    3.872628    0.296799\n",
    "# 7      3.845368    3.886682    0.295060\n",
    "# 8      3.871381    3.884652    0.295627\n",
    "# 9      3.850032    3.866189    0.298262\"\"\""
   ]
  },
  {
   "cell_type": "code",
   "execution_count": 80,
   "metadata": {
    "ExecuteTime": {
     "end_time": "2018-12-06T17:27:18.047313Z",
     "start_time": "2018-12-06T17:27:18.043314Z"
    }
   },
   "outputs": [],
   "source": [
    "# text=\"\"\"epoch  train_loss  valid_loss  accuracy\n",
    "# 1      4.452074    4.167853    0.262984\n",
    "# epoch  train_loss  valid_loss  accuracy\n",
    "# 1      4.105614    3.954849    0.285283\n",
    "# 2      4.009290    3.908577    0.291305\n",
    "# 3      3.965018    3.896338    0.292796\n",
    "# 4      3.945313    3.874606    0.295997\n",
    "# 5      3.899778    3.846656    0.299151\n",
    "# 6      3.818363    3.811530    0.303118\n",
    "# 7      3.753621    3.776657    0.305976\n",
    "# 8      3.653286    3.746670    0.309624\n",
    "# 9      3.581890    3.724043    0.312527\n",
    "# 10     3.523214    3.713683    0.313793\n",
    "# 11     3.460139    3.714541    0.314111\"\"\""
   ]
  },
  {
   "cell_type": "code",
   "execution_count": 81,
   "metadata": {
    "ExecuteTime": {
     "end_time": "2018-12-06T17:27:18.306919Z",
     "start_time": "2018-12-06T17:27:18.296176Z"
    }
   },
   "outputs": [],
   "source": [
    "def parse(cout):\n",
    "    cout_lines = cout.split('\\n')\n",
    "    \n",
    "    names = cout_lines[0].split()\n",
    "    res = defaultdict(list)\n",
    "\n",
    "    for l in cout_lines[1:]:\n",
    "        for idx, meas in enumerate(l.split()):\n",
    "            try:\n",
    "                meas_flt = float(meas) \n",
    "                res[names[idx]].append(meas_flt)\n",
    "            except ValueError:\n",
    "                pass\n",
    "    return res\n",
    "\n",
    "def for_r(cout, model):\n",
    "    dic = parse(cout)\n",
    "    datas = []\n",
    "    length = None\n",
    "    \n",
    "    losses = []\n",
    "    kinds = []\n",
    "    \n",
    "    for c in ['train_loss', 'valid_loss']:\n",
    "        length = len(dic[c])\n",
    "        losses += dic[c]\n",
    "        kinds += [f'\"{c}\"'] * length\n",
    "        \n",
    "    losses_str = ', '.join([str(x) for x in losses])\n",
    "    \n",
    "    model = '\"' + model + '\"'\n",
    "\n",
    "    datas.append(f\"losses=c({losses_str})\")\n",
    "    datas.append(f\"kinds=c({', '.join(kinds)})\")\n",
    "    datas.append(f\"model=c({', '.join([model] * 2 * length)})\")\n",
    "\n",
    "    datas.append(f\"epochs=c({', '.join([str(x) for x in list(range(1, length + 1)) * 2])})\")\n",
    "    \n",
    "    return f\"df <- data.frame({', '.join(datas)})\""
   ]
  },
  {
   "cell_type": "code",
   "execution_count": 87,
   "metadata": {
    "ExecuteTime": {
     "end_time": "2018-12-06T17:28:35.536655Z",
     "start_time": "2018-12-06T17:28:35.530741Z"
    }
   },
   "outputs": [
    {
     "data": {
      "text/plain": [
       "'df <- data.frame(losses=c(4.372642, 4.027451, 3.951885, 3.899897, 3.848145, 3.905525, 3.87816, 3.904202, 3.941682, 3.918227, 4.177016, 3.94559, 3.878929, 3.862061, 3.864187, 3.867463, 3.881567, 3.891063, 3.905075, 3.921756), kinds=c(\"train_loss\", \"train_loss\", \"train_loss\", \"train_loss\", \"train_loss\", \"train_loss\", \"train_loss\", \"train_loss\", \"train_loss\", \"train_loss\", \"valid_loss\", \"valid_loss\", \"valid_loss\", \"valid_loss\", \"valid_loss\", \"valid_loss\", \"valid_loss\", \"valid_loss\", \"valid_loss\", \"valid_loss\"), model=c(\"Ner No Over\", \"Ner No Over\", \"Ner No Over\", \"Ner No Over\", \"Ner No Over\", \"Ner No Over\", \"Ner No Over\", \"Ner No Over\", \"Ner No Over\", \"Ner No Over\", \"Ner No Over\", \"Ner No Over\", \"Ner No Over\", \"Ner No Over\", \"Ner No Over\", \"Ner No Over\", \"Ner No Over\", \"Ner No Over\", \"Ner No Over\", \"Ner No Over\"), epochs=c(1, 2, 3, 4, 5, 6, 7, 8, 9, 10, 1, 2, 3, 4, 5, 6, 7, 8, 9, 10))'"
      ]
     },
     "execution_count": 87,
     "metadata": {},
     "output_type": "execute_result"
    }
   ],
   "source": [
    "for_r(text, \"Ner No Over\")"
   ]
  },
  {
   "cell_type": "code",
   "execution_count": 83,
   "metadata": {
    "ExecuteTime": {
     "end_time": "2018-12-06T17:27:18.745154Z",
     "start_time": "2018-12-06T17:27:18.734134Z"
    }
   },
   "outputs": [
    {
     "ename": "NameError",
     "evalue": "name 'df' is not defined",
     "output_type": "error",
     "traceback": [
      "\u001b[0;31m---------------------------------------------------------------------------\u001b[0m",
      "\u001b[0;31mNameError\u001b[0m                                 Traceback (most recent call last)",
      "\u001b[0;32m<ipython-input-83-5ce125f30282>\u001b[0m in \u001b[0;36m<module>\u001b[0;34m()\u001b[0m\n\u001b[0;32m----> 1\u001b[0;31m df <- data.frame(dose=c(\"D0.5\", \"D1\", \"D2\"),\n\u001b[0m\u001b[1;32m      2\u001b[0m                 len=c(4.2, 10, 29.5))\n",
      "\u001b[0;31mNameError\u001b[0m: name 'df' is not defined"
     ]
    }
   ],
   "source": [
    "df <- data.frame(dose=c(\"D0.5\", \"D1\", \"D2\"),\n",
    "                len=c(4.2, 10, 29.5))"
   ]
  },
  {
   "cell_type": "code",
   "execution_count": null,
   "metadata": {},
   "outputs": [],
   "source": []
  }
 ],
 "metadata": {
  "kernelspec": {
   "display_name": "Python 3",
   "language": "python",
   "name": "python3"
  },
  "language_info": {
   "codemirror_mode": {
    "name": "ipython",
    "version": 3
   },
   "file_extension": ".py",
   "mimetype": "text/x-python",
   "name": "python",
   "nbconvert_exporter": "python",
   "pygments_lexer": "ipython3",
   "version": "3.6.5"
  },
  "toc": {
   "base_numbering": 1,
   "nav_menu": {},
   "number_sections": true,
   "sideBar": true,
   "skip_h1_title": false,
   "title_cell": "Table of Contents",
   "title_sidebar": "Contents",
   "toc_cell": false,
   "toc_position": {},
   "toc_section_display": true,
   "toc_window_display": false
  }
 },
 "nbformat": 4,
 "nbformat_minor": 2
}
