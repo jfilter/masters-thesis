{
 "cells": [
  {
   "cell_type": "code",
   "execution_count": 4,
   "metadata": {
    "ExecuteTime": {
     "end_time": "2018-11-28T10:18:57.981476Z",
     "start_time": "2018-11-28T10:18:57.396404Z"
    }
   },
   "outputs": [
    {
     "name": "stdout",
     "output_type": "stream",
     "text": [
      "no flair\n"
     ]
    }
   ],
   "source": [
    "import swifter\n",
    "import unidecode\n",
    "import spacy\n",
    "import pandas as pd\n",
    "from pathlib import Path\n",
    "import re\n",
    "\n",
    "try:\n",
    "    from flair.models import SequenceTagger\n",
    "    from flair.data import Sentence\n",
    "except:\n",
    "    print('no flair')"
   ]
  },
  {
   "cell_type": "code",
   "execution_count": 5,
   "metadata": {
    "ExecuteTime": {
     "end_time": "2018-11-28T10:18:59.391650Z",
     "start_time": "2018-11-28T10:18:59.384319Z"
    }
   },
   "outputs": [],
   "source": [
    "strange_quotes = ['«','‹','»','›','„','“','‟','‘','‛', '”', '’', '❛', '❜', '❝', '❞','❮', '❯', '〝','〞', '〟', '＂', '`', '´']\n",
    "\n",
    "def clean_quotes(df_col):\n",
    "    for q in strange_quotes + ['\"']:\n",
    "        df_col = df_col.str.replace(q,\"'\")\n",
    "    return df_col"
   ]
  },
  {
   "cell_type": "code",
   "execution_count": 6,
   "metadata": {
    "ExecuteTime": {
     "end_time": "2018-11-28T10:18:59.919306Z",
     "start_time": "2018-11-28T10:18:59.914797Z"
    }
   },
   "outputs": [],
   "source": [
    "def clean_whitespaces(df_col):\n",
    "    return df_col.str.replace(r'\\s+', ' ').str.strip()"
   ]
  },
  {
   "cell_type": "code",
   "execution_count": 7,
   "metadata": {
    "ExecuteTime": {
     "end_time": "2018-11-28T10:19:00.391930Z",
     "start_time": "2018-11-28T10:19:00.387402Z"
    }
   },
   "outputs": [],
   "source": [
    "def replace_numbers(df_col, token=\" xxnumber \"):\n",
    "    return df_col.str.replace(r\"\\d+\\s|\\s\\d+\\s|\\s\\d+\", \" xxnumber \")"
   ]
  },
  {
   "cell_type": "code",
   "execution_count": 8,
   "metadata": {
    "ExecuteTime": {
     "end_time": "2018-11-28T10:19:00.763021Z",
     "start_time": "2018-11-28T10:19:00.752720Z"
    }
   },
   "outputs": [],
   "source": [
    "def replace_ner_in_sent(sent):\n",
    "    dic = sent.to_dict(tag_type='ner')\n",
    "    text = dic['text']\n",
    "    if 'entities' in dic:\n",
    "        offset = 0\n",
    "        for ent in dic['entities']:\n",
    "            len_before = len(text)\n",
    "            start = ent['start_pos'] + offset\n",
    "            end = ent['end_pos'] + offset\n",
    "            text = text[:start] + ' xx' + ent['type'].lower() + ' ' + text[end:]\n",
    "            len_after = len(text)\n",
    "            offset += - len_before + len_after\n",
    "    return text"
   ]
  },
  {
   "cell_type": "code",
   "execution_count": 9,
   "metadata": {
    "ExecuteTime": {
     "end_time": "2018-11-28T10:19:02.416595Z",
     "start_time": "2018-11-28T10:19:02.408981Z"
    }
   },
   "outputs": [],
   "source": [
    "def replace_ner(t, nlp, tagger):\n",
    "    t = unidecode.unidecode(t) # TODO: fix for German\n",
    "    sents = []\n",
    "    for s in nlp(t).sents:\n",
    "        sents.append(Sentence(' '.join(), use_tokenizer=False)) # use_tokenizer important because the text is not whitespace tokenized\n",
    "    tagger.predict(sents, mini_batch_size=64)\n",
    "    proc_txt = ' '.join([replace_ner_in_sent(s) for s in sents])\n",
    "    return proc_txt"
   ]
  },
  {
   "cell_type": "code",
   "execution_count": 14,
   "metadata": {
    "ExecuteTime": {
     "end_time": "2018-11-28T10:19:53.912274Z",
     "start_time": "2018-11-28T10:19:53.906586Z"
    }
   },
   "outputs": [],
   "source": [
    "def preprocess_df(df, input_col='text', output_col='text_proc', replace_NER=True):\n",
    "#   clean\n",
    "    df[output_col] = df[input_col]\n",
    "    df[output_col] = clean_quotes(df[output_col])\n",
    "    df[output_col] = clean_whitespaces(df[output_col])\n",
    "    \n",
    "    if replace_NER:\n",
    "        \n",
    "    #   NER\n",
    "        nlp = spacy.load('en_core_web_lg', disable=['ner'])\n",
    "        tagger = SequenceTagger.load('ner-ontonotes')\n",
    "        df[output_col] = df[output_col].swifter.apply(lambda x: replace_ner(x, nlp, tagger))\n",
    "    \n",
    "#   clean\n",
    "    df[output_col] = replace_numbers(df[output_col])\n",
    "    df[output_col] = clean_whitespaces(df[output_col]) # the number adds some spaces again\n",
    "\n",
    "    return df"
   ]
  },
  {
   "cell_type": "code",
   "execution_count": 11,
   "metadata": {
    "ExecuteTime": {
     "end_time": "2018-11-28T10:19:04.447970Z",
     "start_time": "2018-11-28T10:19:04.440842Z"
    }
   },
   "outputs": [],
   "source": [
    "def peprocess_text(input_path, output_path, header=False, **kwargs):\n",
    "    if header:\n",
    "        df = pd.read_csv(input_path)\n",
    "    else:\n",
    "        df = pd.read_csv(input_path, header=None, names=['text'])\n",
    "    df = preprocess_df(df, **kwargs)\n",
    "    if header:\n",
    "        df.to_csv(output_path)\n",
    "    else:\n",
    "        df.to_csv(output_path, header=None)"
   ]
  },
  {
   "cell_type": "code",
   "execution_count": 12,
   "metadata": {
    "ExecuteTime": {
     "end_time": "2018-11-28T10:19:04.946168Z",
     "start_time": "2018-11-28T10:19:04.941829Z"
    }
   },
   "outputs": [],
   "source": [
    "# util to print unicodes\n",
    "def print_unicode(s):\n",
    "    for _c in s:\n",
    "        print(_c)\n",
    "        print('U+%04x' % ord(_c))"
   ]
  },
  {
   "cell_type": "code",
   "execution_count": 84,
   "metadata": {
    "ExecuteTime": {
     "end_time": "2018-11-25T21:13:00.441742Z",
     "start_time": "2018-11-25T21:13:00.436838Z"
    }
   },
   "outputs": [
    {
     "name": "stdout",
     "output_type": "stream",
     "text": [
      "p\n",
      "U+0070\n",
      "e\n",
      "U+0065\n",
      "t\n",
      "U+0074\n",
      "e\n",
      "U+0065\n",
      "r\n",
      "U+0072\n"
     ]
    }
   ],
   "source": [
    "print_unicode('peter')"
   ]
  },
  {
   "cell_type": "code",
   "execution_count": null,
   "metadata": {},
   "outputs": [],
   "source": []
  },
  {
   "cell_type": "code",
   "execution_count": 20,
   "metadata": {
    "ExecuteTime": {
     "end_time": "2018-11-28T10:23:04.616939Z",
     "start_time": "2018-11-28T10:23:04.525042Z"
    }
   },
   "outputs": [],
   "source": [
    "kind = 'val'\n",
    "IN_PATH = Path('/mnt/data/group07/johannes/ynacc_proc/replicate/split/' + kind + '.csv')\n",
    "OUT_PATH = Path('/mnt/data/group07/johannes/ynacc_proc/replicate/split/' + kind + '_proc_with_ner.csv')\n",
    "\n",
    "peprocess_text(IN_PATH, OUT_PATH, replace_NER=False, header=True)"
   ]
  },
  {
   "cell_type": "code",
   "execution_count": null,
   "metadata": {},
   "outputs": [],
   "source": []
  },
  {
   "cell_type": "code",
   "execution_count": 35,
   "metadata": {
    "ExecuteTime": {
     "end_time": "2018-11-20T17:41:26.315640Z",
     "start_time": "2018-11-20T17:41:26.298443Z"
    }
   },
   "outputs": [],
   "source": [
    "df = pd.read_csv(OUT_PATH)"
   ]
  },
  {
   "cell_type": "code",
   "execution_count": 49,
   "metadata": {
    "ExecuteTime": {
     "end_time": "2018-11-20T17:42:47.709927Z",
     "start_time": "2018-11-20T17:42:47.703612Z"
    }
   },
   "outputs": [
    {
     "data": {
      "text/plain": [
       "\"Exactly r, it isn't even close to the same thing. Priests are WAAaAAAaY worse.\""
      ]
     },
     "execution_count": 49,
     "metadata": {},
     "output_type": "execute_result"
    }
   ],
   "source": [
    "df['text_proc'][500]"
   ]
  },
  {
   "cell_type": "code",
   "execution_count": 50,
   "metadata": {
    "ExecuteTime": {
     "end_time": "2018-11-20T17:42:52.621739Z",
     "start_time": "2018-11-20T17:42:52.615530Z"
    }
   },
   "outputs": [
    {
     "data": {
      "text/plain": [
       "\"Exactly r, it isn't even close to the same thing. Priests are WAAaAAAaY worse.\""
      ]
     },
     "execution_count": 50,
     "metadata": {},
     "output_type": "execute_result"
    }
   ],
   "source": [
    "df['text'][500]"
   ]
  },
  {
   "cell_type": "code",
   "execution_count": null,
   "metadata": {},
   "outputs": [],
   "source": []
  }
 ],
 "metadata": {
  "kernelspec": {
   "display_name": "Python 3",
   "language": "python",
   "name": "python3"
  },
  "language_info": {
   "codemirror_mode": {
    "name": "ipython",
    "version": 3
   },
   "file_extension": ".py",
   "mimetype": "text/x-python",
   "name": "python",
   "nbconvert_exporter": "python",
   "pygments_lexer": "ipython3",
   "version": "3.6.7"
  },
  "toc": {
   "base_numbering": 1,
   "nav_menu": {},
   "number_sections": true,
   "sideBar": true,
   "skip_h1_title": false,
   "title_cell": "Table of Contents",
   "title_sidebar": "Contents",
   "toc_cell": false,
   "toc_position": {},
   "toc_section_display": true,
   "toc_window_display": false
  }
 },
 "nbformat": 4,
 "nbformat_minor": 2
}
