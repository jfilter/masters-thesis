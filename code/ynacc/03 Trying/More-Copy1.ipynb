{
 "cells": [
  {
   "cell_type": "code",
   "execution_count": 1,
   "metadata": {
    "ExecuteTime": {
     "end_time": "2018-11-11T18:31:14.843267Z",
     "start_time": "2018-11-11T18:31:13.686614Z"
    }
   },
   "outputs": [
    {
     "data": {
      "text/plain": [
       "'1.0.22'"
      ]
     },
     "execution_count": 1,
     "metadata": {},
     "output_type": "execute_result"
    }
   ],
   "source": [
    "from fastai.text import *\n",
    "from fastai.datasets import *\n",
    "from pathlib import Path\n",
    "import pandas as pd\n",
    "from fastai.metrics import *\n",
    "from fastai.train import *\n",
    "from fastai.vision import *\n",
    "from fastai.imports import nn, torch\n",
    "from sklearn import metrics\n",
    "from fastai.callbacks import *\n",
    "from fastai.basic_train import get_preds\n",
    "\n",
    "import sklearn.metrics\n",
    "import datetime\n",
    "torch.cuda.set_device(1)\n",
    "\n",
    "import fastai\n",
    "fastai.__version__"
   ]
  },
  {
   "cell_type": "code",
   "execution_count": 2,
   "metadata": {
    "ExecuteTime": {
     "end_time": "2018-11-11T18:31:14.850406Z",
     "start_time": "2018-11-11T18:31:14.846749Z"
    }
   },
   "outputs": [],
   "source": [
    "EX_PA = Path('/mnt/data/group07/johannes/ynacc_proc/replicate/lmmodels')"
   ]
  },
  {
   "cell_type": "code",
   "execution_count": 3,
   "metadata": {
    "ExecuteTime": {
     "end_time": "2018-11-11T18:31:16.348536Z",
     "start_time": "2018-11-11T18:31:14.853235Z"
    }
   },
   "outputs": [],
   "source": [
    "data_lm = TextLMDataBunch.load(EX_PA)"
   ]
  },
  {
   "cell_type": "code",
   "execution_count": 4,
   "metadata": {
    "ExecuteTime": {
     "end_time": "2018-11-11T18:31:22.737812Z",
     "start_time": "2018-11-11T18:31:16.350588Z"
    }
   },
   "outputs": [],
   "source": [
    "learn = language_model_learner(data_lm, drop_mult=0.2).load(EX_PA/\"models\"/\"2018_11_11_16_27_24_932260\")"
   ]
  },
  {
   "cell_type": "code",
   "execution_count": 5,
   "metadata": {
    "ExecuteTime": {
     "end_time": "2018-11-11T18:31:22.744724Z",
     "start_time": "2018-11-11T18:31:22.740951Z"
    }
   },
   "outputs": [],
   "source": [
    "learn.unfreeze()"
   ]
  },
  {
   "cell_type": "code",
   "execution_count": 6,
   "metadata": {
    "ExecuteTime": {
     "end_time": "2018-11-11T18:34:29.455766Z",
     "start_time": "2018-11-11T18:31:22.747840Z"
    }
   },
   "outputs": [
    {
     "name": "stdout",
     "output_type": "stream",
     "text": [
      "LR Finder complete, type {learner_name}.recorder.plot() to see the graph.\n"
     ]
    }
   ],
   "source": [
    "learn.lr_find(start_lr=1e-10, end_lr=1e-2, num_it=1000)"
   ]
  },
  {
   "cell_type": "code",
   "execution_count": 7,
   "metadata": {
    "ExecuteTime": {
     "end_time": "2018-11-11T18:34:30.000607Z",
     "start_time": "2018-11-11T18:34:29.457138Z"
    }
   },
   "outputs": [
    {
     "data": {
      "image/png": "[encoded data removed]",
      "text/plain": [
       "<Figure size 432x288 with 1 Axes>"
      ]
     },
     "metadata": {
      "needs_background": "light"
     },
     "output_type": "display_data"
    }
   ],
   "source": [
    "learn.recorder.plot()"
   ]
  },
  {
   "cell_type": "code",
   "execution_count": 8,
   "metadata": {
    "ExecuteTime": {
     "end_time": "2018-11-11T18:35:19.071609Z",
     "start_time": "2018-11-11T18:35:19.067946Z"
    }
   },
   "outputs": [],
   "source": [
    "lr = 1e-7\n",
    "factor = 2.6"
   ]
  },
  {
   "cell_type": "code",
   "execution_count": 9,
   "metadata": {
    "ExecuteTime": {
     "end_time": "2018-11-11T18:43:22.596185Z",
     "start_time": "2018-11-11T18:35:20.802311Z"
    }
   },
   "outputs": [
    {
     "name": "stdout",
     "output_type": "stream",
     "text": [
      "Total time: 08:01\n",
      "epoch  train_loss  valid_loss  accuracy\n",
      "1      4.253659    4.370007    0.251342  (08:01)\n",
      "\n"
     ]
    }
   ],
   "source": [
    "learn.fit_one_cycle(1, [lr / factor*3, lr / factor*2, lr / factor, lr])"
   ]
  },
  {
   "cell_type": "markdown",
   "metadata": {
    "ExecuteTime": {
     "end_time": "2018-11-11T17:59:53.238084Z",
     "start_time": "2018-11-11T17:59:53.233049Z"
    }
   },
   "source": [
    "## 1      4.109582    4.304508    0.257547  (08:11)\n",
    "\n",
    "learn.fit_one_cycle(1, [1e-4 / 2.6**3, 1e-4 / 2.6**2, 1e-4 / 2.6, 1e-4])\n",
    "\n",
    "executed in 8m 12s, finished 19:20:35 2018-11-11\n",
    "\n",
    "Total time: 08:12\n",
    "epoch  train_loss  valid_loss  accuracy\n",
    "1      4.229061    4.340976    0.253476  (08:12)\n",
    "\n"
   ]
  },
  {
   "cell_type": "code",
   "execution_count": null,
   "metadata": {},
   "outputs": [],
   "source": []
  }
 ],
 "metadata": {
  "kernelspec": {
   "display_name": "Python 3",
   "language": "python",
   "name": "python3"
  },
  "language_info": {
   "codemirror_mode": {
    "name": "ipython",
    "version": 3
   },
   "file_extension": ".py",
   "mimetype": "text/x-python",
   "name": "python",
   "nbconvert_exporter": "python",
   "pygments_lexer": "ipython3",
   "version": "3.6.6"
  },
  "toc": {
   "base_numbering": 1,
   "nav_menu": {},
   "number_sections": true,
   "sideBar": true,
   "skip_h1_title": false,
   "title_cell": "Table of Contents",
   "title_sidebar": "Contents",
   "toc_cell": false,
   "toc_position": {},
   "toc_section_display": true,
   "toc_window_display": false
  }
 },
 "nbformat": 4,
 "nbformat_minor": 2
}
