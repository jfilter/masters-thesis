{
 "cells": [
  {
   "cell_type": "code",
   "execution_count": 15,
   "metadata": {
    "ExecuteTime": {
     "end_time": "2019-01-30T20:00:04.236248Z",
     "start_time": "2019-01-30T20:00:04.224113Z"
    }
   },
   "outputs": [
    {
     "data": {
      "text/html": [
       "<script>requirejs.config({paths: { 'plotly': ['https://cdn.plot.ly/plotly-latest.min']},});if(!window.Plotly) {{require(['plotly'],function(plotly) {window.Plotly=plotly;});}}</script>"
      ],
      "text/vnd.plotly.v1+html": [
       "<script>requirejs.config({paths: { 'plotly': ['https://cdn.plot.ly/plotly-latest.min']},});if(!window.Plotly) {{require(['plotly'],function(plotly) {window.Plotly=plotly;});}}</script>"
      ]
     },
     "metadata": {},
     "output_type": "display_data"
    },
    {
     "data": {
      "text/plain": [
       "'0.7.1'"
      ]
     },
     "execution_count": 15,
     "metadata": {},
     "output_type": "execute_result"
    }
   ],
   "source": [
    "from plotly.offline import download_plotlyjs, init_notebook_mode, plot,iplot\n",
    "\n",
    "init_notebook_mode(connected=True)\n",
    "\n",
    "import plotly.plotly as py\n",
    "import plotly.graph_objs as go\n",
    "\n",
    "import igraph\n",
    "from igraph import *\n",
    "igraph.__version__"
   ]
  },
  {
   "cell_type": "code",
   "execution_count": 16,
   "metadata": {
    "ExecuteTime": {
     "end_time": "2019-01-30T20:00:05.043251Z",
     "start_time": "2019-01-30T20:00:05.039278Z"
    }
   },
   "outputs": [],
   "source": [
    "# plotly.__version__"
   ]
  },
  {
   "cell_type": "code",
   "execution_count": 17,
   "metadata": {
    "ExecuteTime": {
     "end_time": "2019-01-30T20:00:05.494736Z",
     "start_time": "2019-01-30T20:00:05.489270Z"
    }
   },
   "outputs": [],
   "source": [
    "def get_layer(i):\n",
    "    return int(math.floor(math.log(float(i) + 1, 2)))\n",
    "\n",
    "def get_parent(i):\n",
    "    return int(math.floor((i - 1) /2))"
   ]
  },
  {
   "cell_type": "code",
   "execution_count": 18,
   "metadata": {
    "ExecuteTime": {
     "end_time": "2019-01-30T20:00:05.914031Z",
     "start_time": "2019-01-30T20:00:05.908166Z"
    }
   },
   "outputs": [],
   "source": [
    "def get_parents(i, no_root=True):\n",
    "    res = []\n",
    "    while True:\n",
    "        i = get_parent(i)\n",
    "        if i > 0:\n",
    "            res.append(i)\n",
    "        else:\n",
    "            break\n",
    "    return res"
   ]
  },
  {
   "cell_type": "code",
   "execution_count": 19,
   "metadata": {
    "ExecuteTime": {
     "end_time": "2019-01-30T20:00:06.293077Z",
     "start_time": "2019-01-30T20:00:06.289337Z"
    }
   },
   "outputs": [],
   "source": [
    "def create_sequence(i):\n",
    "    return '<thr> ' + ' '.join(['<com> ' + str(n) + ' </com>' for n in get_parents(i) + [i]]) + ' </thr>'"
   ]
  },
  {
   "cell_type": "code",
   "execution_count": 24,
   "metadata": {
    "ExecuteTime": {
     "end_time": "2019-01-30T20:00:34.836476Z",
     "start_time": "2019-01-30T20:00:34.764411Z"
    }
   },
   "outputs": [],
   "source": [
    "def tree_plot(nr_vertices = 25, highlight = None):\n",
    "    v_label = map(str, range(nr_vertices))\n",
    "    G = Graph.Tree(nr_vertices, 2) # 2 stands for children number\n",
    "    lay = G.layout('rt', root=[0])\n",
    "\n",
    "    position = {k: lay[k] for k in range(nr_vertices)}\n",
    "    Y = [lay[k][1] for k in range(nr_vertices)]\n",
    "    M = max(Y)\n",
    "\n",
    "    es = EdgeSeq(G) # sequence of edges\n",
    "    E = [e.tuple for e in G.es] # list of edges\n",
    "\n",
    "    L = len(position)\n",
    "    Xn = [position[k][0] for k in range(L)]\n",
    "    Yn = [2*M-position[k][1] for k in range(L)]\n",
    "    Xe = []\n",
    "    Ye = []\n",
    "    for edge in E:\n",
    "        Xe+=[position[edge[0]][0],position[edge[1]][0], None]\n",
    "        Ye+=[2*M-position[edge[0]][1],2*M-position[edge[1]][1], None] \n",
    "\n",
    "    labels = v_label\n",
    "\n",
    "    labels = ['article']\n",
    "    for l in v_label[1:]:\n",
    "        labels.append(l + ',' + str(get_layer(l)))\n",
    "\n",
    "    colors = ['#989898']\n",
    "    if not highlight is None:\n",
    "        parents_highlight = get_parents(highlight)\n",
    "\n",
    "        for i in range(1, nr_vertices):\n",
    "            if i in parents_highlight:\n",
    "                colors.append('#EE7600')\n",
    "            else:\n",
    "                if i == highlight:\n",
    "                    colors.append('#DB4551')\n",
    "                else:\n",
    "                    colors.append('#6175c1')\n",
    "    else:\n",
    "        colors += ['#6175c1'] * (nr_vertices - 1)\n",
    "\n",
    "    lines = go.Scatter(x=Xe,\n",
    "                       y=Ye,\n",
    "                       mode='lines',\n",
    "                       line=dict(color='rgb(210,210,210)', width=1),\n",
    "                       hoverinfo='none'\n",
    "                       )\n",
    "    dots = go.Scatter(x=Xn,\n",
    "                      y=Yn,\n",
    "                      mode='markers',\n",
    "                      name='',\n",
    "                      marker=dict(symbol='dot',\n",
    "                                  size=35,\n",
    "                                  color=colors,\n",
    "                                  line=dict(color='rgb(50,50,50)', width=1)\n",
    "                                  ),\n",
    "                      text=labels,\n",
    "                      hoverinfo='text',\n",
    "                      opacity=0.8\n",
    "                      )\n",
    "\n",
    "    def make_annotations(pos, text, font_size=10, font_color='rgb(250,250,250)'):\n",
    "        L=len((pos))\n",
    "        if len((text))!=L:\n",
    "            raise ValueError('The lists pos and text must have the same len')\n",
    "        annotations = go.Annotations()\n",
    "        for k in range(L):\n",
    "            annotations.append(\n",
    "                go.Annotation(\n",
    "                    text=labels[k], # or replace labels with a different list for the text within the circle  \n",
    "                    x=pos[k][0], y=2*M-position[k][1],\n",
    "                    xref='x1', yref='y1',\n",
    "                    font=dict(color=font_color, size=font_size),\n",
    "                    showarrow=False)\n",
    "            )\n",
    "        return annotations  \n",
    "\n",
    "    axis = dict(showline=False, # hide axis line, grid, ticklabels and  title\n",
    "                zeroline=False,\n",
    "                showgrid=False,\n",
    "                showticklabels=False,\n",
    "                )\n",
    "    title = ''\n",
    "    if not highlight is None:\n",
    "        title=  create_sequence(highlight)\n",
    "    layout = dict(title=title,  \n",
    "                  annotations=make_annotations(position, v_label),\n",
    "                  font=dict(size=12),\n",
    "                  showlegend=False,\n",
    "                  xaxis=go.XAxis(axis),\n",
    "                  yaxis=go.YAxis(axis),          \n",
    "                  margin=dict(l=40, r=40, b=85, t=100),\n",
    "                  hovermode='closest',\n",
    "                  plot_bgcolor='rgb(248,248,248)'          \n",
    "                  )\n",
    "\n",
    "    data=go.Data([lines, dots])\n",
    "    fig=dict(data=data, layout=layout)\n",
    "    fig['layout'].update(annotations=make_annotations(position, v_label))\n",
    "    return iplot(fig, filename='Tree-Reingold-Tilf')"
   ]
  },
  {
   "cell_type": "code",
   "execution_count": 25,
   "metadata": {
    "ExecuteTime": {
     "end_time": "2019-01-30T20:00:35.940902Z",
     "start_time": "2019-01-30T20:00:35.466775Z"
    }
   },
   "outputs": [
    {
     "data": {
      "application/vnd.plotly.v1+json": {
       "data": [
        {
         "hoverinfo": "none",
         "line": {
          "color": "rgb(210,210,210)",
          "width": 1
         },
         "mode": "lines",
         "type": "scatter",
         "x": [
          0,
          -3.25,
          null,
          0,
          3.25,
          null,
          -3.25,
          -5.25,
          null,
          -3.25,
          -1.25,
          null,
          3.25,
          2.25,
          null,
          3.25,
          4.25,
          null,
          -5.25,
          -6.25,
          null,
          -5.25,
          -4.25,
          null,
          -1.25,
          -2.25,
          null,
          -1.25,
          -0.25,
          null,
          2.25,
          1.75,
          null,
          2.25,
          2.75,
          null,
          4.25,
          3.75,
          null,
          4.25,
          4.75,
          null,
          -6.25,
          -6.75,
          null,
          -6.25,
          -5.75,
          null,
          -4.25,
          -4.75,
          null,
          -4.25,
          -3.75,
          null,
          -2.25,
          -2.75,
          null,
          -2.25,
          -1.75,
          null,
          -0.25,
          -0.75,
          null,
          -0.25,
          0.25,
          null,
          1.75,
          1.25,
          null,
          1.75,
          2.25,
          null
         ],
         "y": [
          8,
          7,
          null,
          8,
          7,
          null,
          7,
          6,
          null,
          7,
          6,
          null,
          7,
          6,
          null,
          7,
          6,
          null,
          6,
          5,
          null,
          6,
          5,
          null,
          6,
          5,
          null,
          6,
          5,
          null,
          6,
          5,
          null,
          6,
          5,
          null,
          6,
          5,
          null,
          6,
          5,
          null,
          5,
          4,
          null,
          5,
          4,
          null,
          5,
          4,
          null,
          5,
          4,
          null,
          5,
          4,
          null,
          5,
          4,
          null,
          5,
          4,
          null,
          5,
          4,
          null,
          5,
          4,
          null,
          5,
          4,
          null
         ]
        },
        {
         "hoverinfo": "text",
         "marker": {
          "color": [
           "#989898",
           "#DB4551",
           "#6175c1",
           "#6175c1",
           "#6175c1",
           "#6175c1",
           "#6175c1",
           "#6175c1",
           "#6175c1",
           "#6175c1",
           "#6175c1",
           "#6175c1",
           "#6175c1",
           "#6175c1",
           "#6175c1",
           "#6175c1",
           "#6175c1",
           "#6175c1",
           "#6175c1",
           "#6175c1",
           "#6175c1",
           "#6175c1",
           "#6175c1",
           "#6175c1",
           "#6175c1"
          ],
          "line": {
           "color": "rgb(50,50,50)",
           "width": 1
          },
          "size": 35,
          "symbol": "dot"
         },
         "mode": "markers",
         "name": "",
         "opacity": 0.8,
         "text": [
          "article",
          "1,1",
          "2,1",
          "3,2",
          "4,2",
          "5,2",
          "6,2",
          "7,3",
          "8,3",
          "9,3",
          "10,3",
          "11,3",
          "12,3",
          "13,3",
          "14,3",
          "15,4",
          "16,4",
          "17,4",
          "18,4",
          "19,4",
          "20,4",
          "21,4",
          "22,4",
          "23,4",
          "24,4"
         ],
         "type": "scatter",
         "x": [
          0,
          -3.25,
          3.25,
          -5.25,
          -1.25,
          2.25,
          4.25,
          -6.25,
          -4.25,
          -2.25,
          -0.25,
          1.75,
          2.75,
          3.75,
          4.75,
          -6.75,
          -5.75,
          -4.75,
          -3.75,
          -2.75,
          -1.75,
          -0.75,
          0.25,
          1.25,
          2.25
         ],
         "y": [
          8,
          7,
          7,
          6,
          6,
          6,
          6,
          5,
          5,
          5,
          5,
          5,
          5,
          5,
          5,
          4,
          4,
          4,
          4,
          4,
          4,
          4,
          4,
          4,
          4
         ]
        }
       ],
       "layout": {
        "annotations": [
         {
          "font": {
           "color": "rgb(250,250,250)",
           "size": 10
          },
          "showarrow": false,
          "text": "article",
          "x": 0,
          "xref": "x1",
          "y": 8,
          "yref": "y1"
         },
         {
          "font": {
           "color": "rgb(250,250,250)",
           "size": 10
          },
          "showarrow": false,
          "text": "1,1",
          "x": -3.25,
          "xref": "x1",
          "y": 7,
          "yref": "y1"
         },
         {
          "font": {
           "color": "rgb(250,250,250)",
           "size": 10
          },
          "showarrow": false,
          "text": "2,1",
          "x": 3.25,
          "xref": "x1",
          "y": 7,
          "yref": "y1"
         },
         {
          "font": {
           "color": "rgb(250,250,250)",
           "size": 10
          },
          "showarrow": false,
          "text": "3,2",
          "x": -5.25,
          "xref": "x1",
          "y": 6,
          "yref": "y1"
         },
         {
          "font": {
           "color": "rgb(250,250,250)",
           "size": 10
          },
          "showarrow": false,
          "text": "4,2",
          "x": -1.25,
          "xref": "x1",
          "y": 6,
          "yref": "y1"
         },
         {
          "font": {
           "color": "rgb(250,250,250)",
           "size": 10
          },
          "showarrow": false,
          "text": "5,2",
          "x": 2.25,
          "xref": "x1",
          "y": 6,
          "yref": "y1"
         },
         {
          "font": {
           "color": "rgb(250,250,250)",
           "size": 10
          },
          "showarrow": false,
          "text": "6,2",
          "x": 4.25,
          "xref": "x1",
          "y": 6,
          "yref": "y1"
         },
         {
          "font": {
           "color": "rgb(250,250,250)",
           "size": 10
          },
          "showarrow": false,
          "text": "7,3",
          "x": -6.25,
          "xref": "x1",
          "y": 5,
          "yref": "y1"
         },
         {
          "font": {
           "color": "rgb(250,250,250)",
           "size": 10
          },
          "showarrow": false,
          "text": "8,3",
          "x": -4.25,
          "xref": "x1",
          "y": 5,
          "yref": "y1"
         },
         {
          "font": {
           "color": "rgb(250,250,250)",
           "size": 10
          },
          "showarrow": false,
          "text": "9,3",
          "x": -2.25,
          "xref": "x1",
          "y": 5,
          "yref": "y1"
         },
         {
          "font": {
           "color": "rgb(250,250,250)",
           "size": 10
          },
          "showarrow": false,
          "text": "10,3",
          "x": -0.25,
          "xref": "x1",
          "y": 5,
          "yref": "y1"
         },
         {
          "font": {
           "color": "rgb(250,250,250)",
           "size": 10
          },
          "showarrow": false,
          "text": "11,3",
          "x": 1.75,
          "xref": "x1",
          "y": 5,
          "yref": "y1"
         },
         {
          "font": {
           "color": "rgb(250,250,250)",
           "size": 10
          },
          "showarrow": false,
          "text": "12,3",
          "x": 2.75,
          "xref": "x1",
          "y": 5,
          "yref": "y1"
         },
         {
          "font": {
           "color": "rgb(250,250,250)",
           "size": 10
          },
          "showarrow": false,
          "text": "13,3",
          "x": 3.75,
          "xref": "x1",
          "y": 5,
          "yref": "y1"
         },
         {
          "font": {
           "color": "rgb(250,250,250)",
           "size": 10
          },
          "showarrow": false,
          "text": "14,3",
          "x": 4.75,
          "xref": "x1",
          "y": 5,
          "yref": "y1"
         },
         {
          "font": {
           "color": "rgb(250,250,250)",
           "size": 10
          },
          "showarrow": false,
          "text": "15,4",
          "x": -6.75,
          "xref": "x1",
          "y": 4,
          "yref": "y1"
         },
         {
          "font": {
           "color": "rgb(250,250,250)",
           "size": 10
          },
          "showarrow": false,
          "text": "16,4",
          "x": -5.75,
          "xref": "x1",
          "y": 4,
          "yref": "y1"
         },
         {
          "font": {
           "color": "rgb(250,250,250)",
           "size": 10
          },
          "showarrow": false,
          "text": "17,4",
          "x": -4.75,
          "xref": "x1",
          "y": 4,
          "yref": "y1"
         },
         {
          "font": {
           "color": "rgb(250,250,250)",
           "size": 10
          },
          "showarrow": false,
          "text": "18,4",
          "x": -3.75,
          "xref": "x1",
          "y": 4,
          "yref": "y1"
         },
         {
          "font": {
           "color": "rgb(250,250,250)",
           "size": 10
          },
          "showarrow": false,
          "text": "19,4",
          "x": -2.75,
          "xref": "x1",
          "y": 4,
          "yref": "y1"
         },
         {
          "font": {
           "color": "rgb(250,250,250)",
           "size": 10
          },
          "showarrow": false,
          "text": "20,4",
          "x": -1.75,
          "xref": "x1",
          "y": 4,
          "yref": "y1"
         },
         {
          "font": {
           "color": "rgb(250,250,250)",
           "size": 10
          },
          "showarrow": false,
          "text": "21,4",
          "x": -0.75,
          "xref": "x1",
          "y": 4,
          "yref": "y1"
         },
         {
          "font": {
           "color": "rgb(250,250,250)",
           "size": 10
          },
          "showarrow": false,
          "text": "22,4",
          "x": 0.25,
          "xref": "x1",
          "y": 4,
          "yref": "y1"
         },
         {
          "font": {
           "color": "rgb(250,250,250)",
           "size": 10
          },
          "showarrow": false,
          "text": "23,4",
          "x": 1.25,
          "xref": "x1",
          "y": 4,
          "yref": "y1"
         },
         {
          "font": {
           "color": "rgb(250,250,250)",
           "size": 10
          },
          "showarrow": false,
          "text": "24,4",
          "x": 2.25,
          "xref": "x1",
          "y": 4,
          "yref": "y1"
         }
        ],
        "font": {
         "size": 12
        },
        "hovermode": "closest",
        "margin": {
         "b": 85,
         "l": 40,
         "r": 40,
         "t": 100
        },
        "plot_bgcolor": "rgb(248,248,248)",
        "showlegend": false,
        "title": "<thr> <com> 1 </com> </thr>",
        "xaxis": {
         "showgrid": false,
         "showline": false,
         "showticklabels": false,
         "zeroline": false
        },
        "yaxis": {
         "showgrid": false,
         "showline": false,
         "showticklabels": false,
         "zeroline": false
        }
       }
      },
      "text/html": [
       "<div id=\"d74df22e-5c3c-40cc-910c-a1e1903e6470\" style=\"height: 525px; width: 100%;\" class=\"plotly-graph-div\"></div><script type=\"text/javascript\">require([\"plotly\"], function(Plotly) { window.PLOTLYENV=window.PLOTLYENV || {};window.PLOTLYENV.BASE_URL=\"https://plot.ly\";Plotly.newPlot(\"d74df22e-5c3c-40cc-910c-a1e1903e6470\", [{\"mode\": \"lines\", \"hoverinfo\": \"none\", \"y\": [8.0, 7.0, null, 8.0, 7.0, null, 7.0, 6.0, null, 7.0, 6.0, null, 7.0, 6.0, null, 7.0, 6.0, null, 6.0, 5.0, null, 6.0, 5.0, null, 6.0, 5.0, null, 6.0, 5.0, null, 6.0, 5.0, null, 6.0, 5.0, null, 6.0, 5.0, null, 6.0, 5.0, null, 5.0, 4.0, null, 5.0, 4.0, null, 5.0, 4.0, null, 5.0, 4.0, null, 5.0, 4.0, null, 5.0, 4.0, null, 5.0, 4.0, null, 5.0, 4.0, null, 5.0, 4.0, null, 5.0, 4.0, null], \"x\": [0.0, -3.25, null, 0.0, 3.25, null, -3.25, -5.25, null, -3.25, -1.25, null, 3.25, 2.25, null, 3.25, 4.25, null, -5.25, -6.25, null, -5.25, -4.25, null, -1.25, -2.25, null, -1.25, -0.25, null, 2.25, 1.75, null, 2.25, 2.75, null, 4.25, 3.75, null, 4.25, 4.75, null, -6.25, -6.75, null, -6.25, -5.75, null, -4.25, -4.75, null, -4.25, -3.75, null, -2.25, -2.75, null, -2.25, -1.75, null, -0.25, -0.75, null, -0.25, 0.25, null, 1.75, 1.25, null, 1.75, 2.25, null], \"line\": {\"color\": \"rgb(210,210,210)\", \"width\": 1}, \"type\": \"scatter\"}, {\"opacity\": 0.8, \"name\": \"\", \"text\": [\"article\", \"1,1\", \"2,1\", \"3,2\", \"4,2\", \"5,2\", \"6,2\", \"7,3\", \"8,3\", \"9,3\", \"10,3\", \"11,3\", \"12,3\", \"13,3\", \"14,3\", \"15,4\", \"16,4\", \"17,4\", \"18,4\", \"19,4\", \"20,4\", \"21,4\", \"22,4\", \"23,4\", \"24,4\"], \"marker\": {\"color\": [\"#989898\", \"#DB4551\", \"#6175c1\", \"#6175c1\", \"#6175c1\", \"#6175c1\", \"#6175c1\", \"#6175c1\", \"#6175c1\", \"#6175c1\", \"#6175c1\", \"#6175c1\", \"#6175c1\", \"#6175c1\", \"#6175c1\", \"#6175c1\", \"#6175c1\", \"#6175c1\", \"#6175c1\", \"#6175c1\", \"#6175c1\", \"#6175c1\", \"#6175c1\", \"#6175c1\", \"#6175c1\"], \"line\": {\"color\": \"rgb(50,50,50)\", \"width\": 1}, \"symbol\": \"dot\", \"size\": 35}, \"mode\": \"markers\", \"hoverinfo\": \"text\", \"y\": [8.0, 7.0, 7.0, 6.0, 6.0, 6.0, 6.0, 5.0, 5.0, 5.0, 5.0, 5.0, 5.0, 5.0, 5.0, 4.0, 4.0, 4.0, 4.0, 4.0, 4.0, 4.0, 4.0, 4.0, 4.0], \"x\": [0.0, -3.25, 3.25, -5.25, -1.25, 2.25, 4.25, -6.25, -4.25, -2.25, -0.25, 1.75, 2.75, 3.75, 4.75, -6.75, -5.75, -4.75, -3.75, -2.75, -1.75, -0.75, 0.25, 1.25, 2.25], \"type\": \"scatter\"}], {\"showlegend\": false, \"title\": \"<thr> <com> 1 </com> </thr>\", \"plot_bgcolor\": \"rgb(248,248,248)\", \"yaxis\": {\"zeroline\": false, \"showline\": false, \"showticklabels\": false, \"showgrid\": false}, \"xaxis\": {\"zeroline\": false, \"showline\": false, \"showticklabels\": false, \"showgrid\": false}, \"hovermode\": \"closest\", \"font\": {\"size\": 12}, \"margin\": {\"r\": 40, \"b\": 85, \"t\": 100, \"l\": 40}, \"annotations\": [{\"xref\": \"x1\", \"yref\": \"y1\", \"text\": \"article\", \"y\": 8.0, \"x\": 0.0, \"font\": {\"color\": \"rgb(250,250,250)\", \"size\": 10}, \"showarrow\": false}, {\"xref\": \"x1\", \"yref\": \"y1\", \"text\": \"1,1\", \"y\": 7.0, \"x\": -3.25, \"font\": {\"color\": \"rgb(250,250,250)\", \"size\": 10}, \"showarrow\": false}, {\"xref\": \"x1\", \"yref\": \"y1\", \"text\": \"2,1\", \"y\": 7.0, \"x\": 3.25, \"font\": {\"color\": \"rgb(250,250,250)\", \"size\": 10}, \"showarrow\": false}, {\"xref\": \"x1\", \"yref\": \"y1\", \"text\": \"3,2\", \"y\": 6.0, \"x\": -5.25, \"font\": {\"color\": \"rgb(250,250,250)\", \"size\": 10}, \"showarrow\": false}, {\"xref\": \"x1\", \"yref\": \"y1\", \"text\": \"4,2\", \"y\": 6.0, \"x\": -1.25, \"font\": {\"color\": \"rgb(250,250,250)\", \"size\": 10}, \"showarrow\": false}, {\"xref\": \"x1\", \"yref\": \"y1\", \"text\": \"5,2\", \"y\": 6.0, \"x\": 2.25, \"font\": {\"color\": \"rgb(250,250,250)\", \"size\": 10}, \"showarrow\": false}, {\"xref\": \"x1\", \"yref\": \"y1\", \"text\": \"6,2\", \"y\": 6.0, \"x\": 4.25, \"font\": {\"color\": \"rgb(250,250,250)\", \"size\": 10}, \"showarrow\": false}, {\"xref\": \"x1\", \"yref\": \"y1\", \"text\": \"7,3\", \"y\": 5.0, \"x\": -6.25, \"font\": {\"color\": \"rgb(250,250,250)\", \"size\": 10}, \"showarrow\": false}, {\"xref\": \"x1\", \"yref\": \"y1\", \"text\": \"8,3\", \"y\": 5.0, \"x\": -4.25, \"font\": {\"color\": \"rgb(250,250,250)\", \"size\": 10}, \"showarrow\": false}, {\"xref\": \"x1\", \"yref\": \"y1\", \"text\": \"9,3\", \"y\": 5.0, \"x\": -2.25, \"font\": {\"color\": \"rgb(250,250,250)\", \"size\": 10}, \"showarrow\": false}, {\"xref\": \"x1\", \"yref\": \"y1\", \"text\": \"10,3\", \"y\": 5.0, \"x\": -0.25, \"font\": {\"color\": \"rgb(250,250,250)\", \"size\": 10}, \"showarrow\": false}, {\"xref\": \"x1\", \"yref\": \"y1\", \"text\": \"11,3\", \"y\": 5.0, \"x\": 1.75, \"font\": {\"color\": \"rgb(250,250,250)\", \"size\": 10}, \"showarrow\": false}, {\"xref\": \"x1\", \"yref\": \"y1\", \"text\": \"12,3\", \"y\": 5.0, \"x\": 2.75, \"font\": {\"color\": \"rgb(250,250,250)\", \"size\": 10}, \"showarrow\": false}, {\"xref\": \"x1\", \"yref\": \"y1\", \"text\": \"13,3\", \"y\": 5.0, \"x\": 3.75, \"font\": {\"color\": \"rgb(250,250,250)\", \"size\": 10}, \"showarrow\": false}, {\"xref\": \"x1\", \"yref\": \"y1\", \"text\": \"14,3\", \"y\": 5.0, \"x\": 4.75, \"font\": {\"color\": \"rgb(250,250,250)\", \"size\": 10}, \"showarrow\": false}, {\"xref\": \"x1\", \"yref\": \"y1\", \"text\": \"15,4\", \"y\": 4.0, \"x\": -6.75, \"font\": {\"color\": \"rgb(250,250,250)\", \"size\": 10}, \"showarrow\": false}, {\"xref\": \"x1\", \"yref\": \"y1\", \"text\": \"16,4\", \"y\": 4.0, \"x\": -5.75, \"font\": {\"color\": \"rgb(250,250,250)\", \"size\": 10}, \"showarrow\": false}, {\"xref\": \"x1\", \"yref\": \"y1\", \"text\": \"17,4\", \"y\": 4.0, \"x\": -4.75, \"font\": {\"color\": \"rgb(250,250,250)\", \"size\": 10}, \"showarrow\": false}, {\"xref\": \"x1\", \"yref\": \"y1\", \"text\": \"18,4\", \"y\": 4.0, \"x\": -3.75, \"font\": {\"color\": \"rgb(250,250,250)\", \"size\": 10}, \"showarrow\": false}, {\"xref\": \"x1\", \"yref\": \"y1\", \"text\": \"19,4\", \"y\": 4.0, \"x\": -2.75, \"font\": {\"color\": \"rgb(250,250,250)\", \"size\": 10}, \"showarrow\": false}, {\"xref\": \"x1\", \"yref\": \"y1\", \"text\": \"20,4\", \"y\": 4.0, \"x\": -1.75, \"font\": {\"color\": \"rgb(250,250,250)\", \"size\": 10}, \"showarrow\": false}, {\"xref\": \"x1\", \"yref\": \"y1\", \"text\": \"21,4\", \"y\": 4.0, \"x\": -0.75, \"font\": {\"color\": \"rgb(250,250,250)\", \"size\": 10}, \"showarrow\": false}, {\"xref\": \"x1\", \"yref\": \"y1\", \"text\": \"22,4\", \"y\": 4.0, \"x\": 0.25, \"font\": {\"color\": \"rgb(250,250,250)\", \"size\": 10}, \"showarrow\": false}, {\"xref\": \"x1\", \"yref\": \"y1\", \"text\": \"23,4\", \"y\": 4.0, \"x\": 1.25, \"font\": {\"color\": \"rgb(250,250,250)\", \"size\": 10}, \"showarrow\": false}, {\"xref\": \"x1\", \"yref\": \"y1\", \"text\": \"24,4\", \"y\": 4.0, \"x\": 2.25, \"font\": {\"color\": \"rgb(250,250,250)\", \"size\": 10}, \"showarrow\": false}]}, {\"linkText\": \"Export to plot.ly\", \"showLink\": true})});</script>"
      ],
      "text/vnd.plotly.v1+html": [
       "<div id=\"d74df22e-5c3c-40cc-910c-a1e1903e6470\" style=\"height: 525px; width: 100%;\" class=\"plotly-graph-div\"></div><script type=\"text/javascript\">require([\"plotly\"], function(Plotly) { window.PLOTLYENV=window.PLOTLYENV || {};window.PLOTLYENV.BASE_URL=\"https://plot.ly\";Plotly.newPlot(\"d74df22e-5c3c-40cc-910c-a1e1903e6470\", [{\"mode\": \"lines\", \"hoverinfo\": \"none\", \"y\": [8.0, 7.0, null, 8.0, 7.0, null, 7.0, 6.0, null, 7.0, 6.0, null, 7.0, 6.0, null, 7.0, 6.0, null, 6.0, 5.0, null, 6.0, 5.0, null, 6.0, 5.0, null, 6.0, 5.0, null, 6.0, 5.0, null, 6.0, 5.0, null, 6.0, 5.0, null, 6.0, 5.0, null, 5.0, 4.0, null, 5.0, 4.0, null, 5.0, 4.0, null, 5.0, 4.0, null, 5.0, 4.0, null, 5.0, 4.0, null, 5.0, 4.0, null, 5.0, 4.0, null, 5.0, 4.0, null, 5.0, 4.0, null], \"x\": [0.0, -3.25, null, 0.0, 3.25, null, -3.25, -5.25, null, -3.25, -1.25, null, 3.25, 2.25, null, 3.25, 4.25, null, -5.25, -6.25, null, -5.25, -4.25, null, -1.25, -2.25, null, -1.25, -0.25, null, 2.25, 1.75, null, 2.25, 2.75, null, 4.25, 3.75, null, 4.25, 4.75, null, -6.25, -6.75, null, -6.25, -5.75, null, -4.25, -4.75, null, -4.25, -3.75, null, -2.25, -2.75, null, -2.25, -1.75, null, -0.25, -0.75, null, -0.25, 0.25, null, 1.75, 1.25, null, 1.75, 2.25, null], \"line\": {\"color\": \"rgb(210,210,210)\", \"width\": 1}, \"type\": \"scatter\"}, {\"opacity\": 0.8, \"name\": \"\", \"text\": [\"article\", \"1,1\", \"2,1\", \"3,2\", \"4,2\", \"5,2\", \"6,2\", \"7,3\", \"8,3\", \"9,3\", \"10,3\", \"11,3\", \"12,3\", \"13,3\", \"14,3\", \"15,4\", \"16,4\", \"17,4\", \"18,4\", \"19,4\", \"20,4\", \"21,4\", \"22,4\", \"23,4\", \"24,4\"], \"marker\": {\"color\": [\"#989898\", \"#DB4551\", \"#6175c1\", \"#6175c1\", \"#6175c1\", \"#6175c1\", \"#6175c1\", \"#6175c1\", \"#6175c1\", \"#6175c1\", \"#6175c1\", \"#6175c1\", \"#6175c1\", \"#6175c1\", \"#6175c1\", \"#6175c1\", \"#6175c1\", \"#6175c1\", \"#6175c1\", \"#6175c1\", \"#6175c1\", \"#6175c1\", \"#6175c1\", \"#6175c1\", \"#6175c1\"], \"line\": {\"color\": \"rgb(50,50,50)\", \"width\": 1}, \"symbol\": \"dot\", \"size\": 35}, \"mode\": \"markers\", \"hoverinfo\": \"text\", \"y\": [8.0, 7.0, 7.0, 6.0, 6.0, 6.0, 6.0, 5.0, 5.0, 5.0, 5.0, 5.0, 5.0, 5.0, 5.0, 4.0, 4.0, 4.0, 4.0, 4.0, 4.0, 4.0, 4.0, 4.0, 4.0], \"x\": [0.0, -3.25, 3.25, -5.25, -1.25, 2.25, 4.25, -6.25, -4.25, -2.25, -0.25, 1.75, 2.75, 3.75, 4.75, -6.75, -5.75, -4.75, -3.75, -2.75, -1.75, -0.75, 0.25, 1.25, 2.25], \"type\": \"scatter\"}], {\"showlegend\": false, \"title\": \"<thr> <com> 1 </com> </thr>\", \"plot_bgcolor\": \"rgb(248,248,248)\", \"yaxis\": {\"zeroline\": false, \"showline\": false, \"showticklabels\": false, \"showgrid\": false}, \"xaxis\": {\"zeroline\": false, \"showline\": false, \"showticklabels\": false, \"showgrid\": false}, \"hovermode\": \"closest\", \"font\": {\"size\": 12}, \"margin\": {\"r\": 40, \"b\": 85, \"t\": 100, \"l\": 40}, \"annotations\": [{\"xref\": \"x1\", \"yref\": \"y1\", \"text\": \"article\", \"y\": 8.0, \"x\": 0.0, \"font\": {\"color\": \"rgb(250,250,250)\", \"size\": 10}, \"showarrow\": false}, {\"xref\": \"x1\", \"yref\": \"y1\", \"text\": \"1,1\", \"y\": 7.0, \"x\": -3.25, \"font\": {\"color\": \"rgb(250,250,250)\", \"size\": 10}, \"showarrow\": false}, {\"xref\": \"x1\", \"yref\": \"y1\", \"text\": \"2,1\", \"y\": 7.0, \"x\": 3.25, \"font\": {\"color\": \"rgb(250,250,250)\", \"size\": 10}, \"showarrow\": false}, {\"xref\": \"x1\", \"yref\": \"y1\", \"text\": \"3,2\", \"y\": 6.0, \"x\": -5.25, \"font\": {\"color\": \"rgb(250,250,250)\", \"size\": 10}, \"showarrow\": false}, {\"xref\": \"x1\", \"yref\": \"y1\", \"text\": \"4,2\", \"y\": 6.0, \"x\": -1.25, \"font\": {\"color\": \"rgb(250,250,250)\", \"size\": 10}, \"showarrow\": false}, {\"xref\": \"x1\", \"yref\": \"y1\", \"text\": \"5,2\", \"y\": 6.0, \"x\": 2.25, \"font\": {\"color\": \"rgb(250,250,250)\", \"size\": 10}, \"showarrow\": false}, {\"xref\": \"x1\", \"yref\": \"y1\", \"text\": \"6,2\", \"y\": 6.0, \"x\": 4.25, \"font\": {\"color\": \"rgb(250,250,250)\", \"size\": 10}, \"showarrow\": false}, {\"xref\": \"x1\", \"yref\": \"y1\", \"text\": \"7,3\", \"y\": 5.0, \"x\": -6.25, \"font\": {\"color\": \"rgb(250,250,250)\", \"size\": 10}, \"showarrow\": false}, {\"xref\": \"x1\", \"yref\": \"y1\", \"text\": \"8,3\", \"y\": 5.0, \"x\": -4.25, \"font\": {\"color\": \"rgb(250,250,250)\", \"size\": 10}, \"showarrow\": false}, {\"xref\": \"x1\", \"yref\": \"y1\", \"text\": \"9,3\", \"y\": 5.0, \"x\": -2.25, \"font\": {\"color\": \"rgb(250,250,250)\", \"size\": 10}, \"showarrow\": false}, {\"xref\": \"x1\", \"yref\": \"y1\", \"text\": \"10,3\", \"y\": 5.0, \"x\": -0.25, \"font\": {\"color\": \"rgb(250,250,250)\", \"size\": 10}, \"showarrow\": false}, {\"xref\": \"x1\", \"yref\": \"y1\", \"text\": \"11,3\", \"y\": 5.0, \"x\": 1.75, \"font\": {\"color\": \"rgb(250,250,250)\", \"size\": 10}, \"showarrow\": false}, {\"xref\": \"x1\", \"yref\": \"y1\", \"text\": \"12,3\", \"y\": 5.0, \"x\": 2.75, \"font\": {\"color\": \"rgb(250,250,250)\", \"size\": 10}, \"showarrow\": false}, {\"xref\": \"x1\", \"yref\": \"y1\", \"text\": \"13,3\", \"y\": 5.0, \"x\": 3.75, \"font\": {\"color\": \"rgb(250,250,250)\", \"size\": 10}, \"showarrow\": false}, {\"xref\": \"x1\", \"yref\": \"y1\", \"text\": \"14,3\", \"y\": 5.0, \"x\": 4.75, \"font\": {\"color\": \"rgb(250,250,250)\", \"size\": 10}, \"showarrow\": false}, {\"xref\": \"x1\", \"yref\": \"y1\", \"text\": \"15,4\", \"y\": 4.0, \"x\": -6.75, \"font\": {\"color\": \"rgb(250,250,250)\", \"size\": 10}, \"showarrow\": false}, {\"xref\": \"x1\", \"yref\": \"y1\", \"text\": \"16,4\", \"y\": 4.0, \"x\": -5.75, \"font\": {\"color\": \"rgb(250,250,250)\", \"size\": 10}, \"showarrow\": false}, {\"xref\": \"x1\", \"yref\": \"y1\", \"text\": \"17,4\", \"y\": 4.0, \"x\": -4.75, \"font\": {\"color\": \"rgb(250,250,250)\", \"size\": 10}, \"showarrow\": false}, {\"xref\": \"x1\", \"yref\": \"y1\", \"text\": \"18,4\", \"y\": 4.0, \"x\": -3.75, \"font\": {\"color\": \"rgb(250,250,250)\", \"size\": 10}, \"showarrow\": false}, {\"xref\": \"x1\", \"yref\": \"y1\", \"text\": \"19,4\", \"y\": 4.0, \"x\": -2.75, \"font\": {\"color\": \"rgb(250,250,250)\", \"size\": 10}, \"showarrow\": false}, {\"xref\": \"x1\", \"yref\": \"y1\", \"text\": \"20,4\", \"y\": 4.0, \"x\": -1.75, \"font\": {\"color\": \"rgb(250,250,250)\", \"size\": 10}, \"showarrow\": false}, {\"xref\": \"x1\", \"yref\": \"y1\", \"text\": \"21,4\", \"y\": 4.0, \"x\": -0.75, \"font\": {\"color\": \"rgb(250,250,250)\", \"size\": 10}, \"showarrow\": false}, {\"xref\": \"x1\", \"yref\": \"y1\", \"text\": \"22,4\", \"y\": 4.0, \"x\": 0.25, \"font\": {\"color\": \"rgb(250,250,250)\", \"size\": 10}, \"showarrow\": false}, {\"xref\": \"x1\", \"yref\": \"y1\", \"text\": \"23,4\", \"y\": 4.0, \"x\": 1.25, \"font\": {\"color\": \"rgb(250,250,250)\", \"size\": 10}, \"showarrow\": false}, {\"xref\": \"x1\", \"yref\": \"y1\", \"text\": \"24,4\", \"y\": 4.0, \"x\": 2.25, \"font\": {\"color\": \"rgb(250,250,250)\", \"size\": 10}, \"showarrow\": false}]}, {\"linkText\": \"Export to plot.ly\", \"showLink\": true})});</script>"
      ]
     },
     "metadata": {},
     "output_type": "display_data"
    },
    {
     "data": {
      "application/vnd.plotly.v1+json": {
       "data": [
        {
         "hoverinfo": "none",
         "line": {
          "color": "rgb(210,210,210)",
          "width": 1
         },
         "mode": "lines",
         "type": "scatter",
         "x": [
          0,
          -3.25,
          null,
          0,
          3.25,
          null,
          -3.25,
          -5.25,
          null,
          -3.25,
          -1.25,
          null,
          3.25,
          2.25,
          null,
          3.25,
          4.25,
          null,
          -5.25,
          -6.25,
          null,
          -5.25,
          -4.25,
          null,
          -1.25,
          -2.25,
          null,
          -1.25,
          -0.25,
          null,
          2.25,
          1.75,
          null,
          2.25,
          2.75,
          null,
          4.25,
          3.75,
          null,
          4.25,
          4.75,
          null,
          -6.25,
          -6.75,
          null,
          -6.25,
          -5.75,
          null,
          -4.25,
          -4.75,
          null,
          -4.25,
          -3.75,
          null,
          -2.25,
          -2.75,
          null,
          -2.25,
          -1.75,
          null,
          -0.25,
          -0.75,
          null,
          -0.25,
          0.25,
          null,
          1.75,
          1.25,
          null,
          1.75,
          2.25,
          null
         ],
         "y": [
          8,
          7,
          null,
          8,
          7,
          null,
          7,
          6,
          null,
          7,
          6,
          null,
          7,
          6,
          null,
          7,
          6,
          null,
          6,
          5,
          null,
          6,
          5,
          null,
          6,
          5,
          null,
          6,
          5,
          null,
          6,
          5,
          null,
          6,
          5,
          null,
          6,
          5,
          null,
          6,
          5,
          null,
          5,
          4,
          null,
          5,
          4,
          null,
          5,
          4,
          null,
          5,
          4,
          null,
          5,
          4,
          null,
          5,
          4,
          null,
          5,
          4,
          null,
          5,
          4,
          null,
          5,
          4,
          null,
          5,
          4,
          null
         ]
        },
        {
         "hoverinfo": "text",
         "marker": {
          "color": [
           "#989898",
           "#6175c1",
           "#DB4551",
           "#6175c1",
           "#6175c1",
           "#6175c1",
           "#6175c1",
           "#6175c1",
           "#6175c1",
           "#6175c1",
           "#6175c1",
           "#6175c1",
           "#6175c1",
           "#6175c1",
           "#6175c1",
           "#6175c1",
           "#6175c1",
           "#6175c1",
           "#6175c1",
           "#6175c1",
           "#6175c1",
           "#6175c1",
           "#6175c1",
           "#6175c1",
           "#6175c1"
          ],
          "line": {
           "color": "rgb(50,50,50)",
           "width": 1
          },
          "size": 35,
          "symbol": "dot"
         },
         "mode": "markers",
         "name": "",
         "opacity": 0.8,
         "text": [
          "article",
          "1,1",
          "2,1",
          "3,2",
          "4,2",
          "5,2",
          "6,2",
          "7,3",
          "8,3",
          "9,3",
          "10,3",
          "11,3",
          "12,3",
          "13,3",
          "14,3",
          "15,4",
          "16,4",
          "17,4",
          "18,4",
          "19,4",
          "20,4",
          "21,4",
          "22,4",
          "23,4",
          "24,4"
         ],
         "type": "scatter",
         "x": [
          0,
          -3.25,
          3.25,
          -5.25,
          -1.25,
          2.25,
          4.25,
          -6.25,
          -4.25,
          -2.25,
          -0.25,
          1.75,
          2.75,
          3.75,
          4.75,
          -6.75,
          -5.75,
          -4.75,
          -3.75,
          -2.75,
          -1.75,
          -0.75,
          0.25,
          1.25,
          2.25
         ],
         "y": [
          8,
          7,
          7,
          6,
          6,
          6,
          6,
          5,
          5,
          5,
          5,
          5,
          5,
          5,
          5,
          4,
          4,
          4,
          4,
          4,
          4,
          4,
          4,
          4,
          4
         ]
        }
       ],
       "layout": {
        "annotations": [
         {
          "font": {
           "color": "rgb(250,250,250)",
           "size": 10
          },
          "showarrow": false,
          "text": "article",
          "x": 0,
          "xref": "x1",
          "y": 8,
          "yref": "y1"
         },
         {
          "font": {
           "color": "rgb(250,250,250)",
           "size": 10
          },
          "showarrow": false,
          "text": "1,1",
          "x": -3.25,
          "xref": "x1",
          "y": 7,
          "yref": "y1"
         },
         {
          "font": {
           "color": "rgb(250,250,250)",
           "size": 10
          },
          "showarrow": false,
          "text": "2,1",
          "x": 3.25,
          "xref": "x1",
          "y": 7,
          "yref": "y1"
         },
         {
          "font": {
           "color": "rgb(250,250,250)",
           "size": 10
          },
          "showarrow": false,
          "text": "3,2",
          "x": -5.25,
          "xref": "x1",
          "y": 6,
          "yref": "y1"
         },
         {
          "font": {
           "color": "rgb(250,250,250)",
           "size": 10
          },
          "showarrow": false,
          "text": "4,2",
          "x": -1.25,
          "xref": "x1",
          "y": 6,
          "yref": "y1"
         },
         {
          "font": {
           "color": "rgb(250,250,250)",
           "size": 10
          },
          "showarrow": false,
          "text": "5,2",
          "x": 2.25,
          "xref": "x1",
          "y": 6,
          "yref": "y1"
         },
         {
          "font": {
           "color": "rgb(250,250,250)",
           "size": 10
          },
          "showarrow": false,
          "text": "6,2",
          "x": 4.25,
          "xref": "x1",
          "y": 6,
          "yref": "y1"
         },
         {
          "font": {
           "color": "rgb(250,250,250)",
           "size": 10
          },
          "showarrow": false,
          "text": "7,3",
          "x": -6.25,
          "xref": "x1",
          "y": 5,
          "yref": "y1"
         },
         {
          "font": {
           "color": "rgb(250,250,250)",
           "size": 10
          },
          "showarrow": false,
          "text": "8,3",
          "x": -4.25,
          "xref": "x1",
          "y": 5,
          "yref": "y1"
         },
         {
          "font": {
           "color": "rgb(250,250,250)",
           "size": 10
          },
          "showarrow": false,
          "text": "9,3",
          "x": -2.25,
          "xref": "x1",
          "y": 5,
          "yref": "y1"
         },
         {
          "font": {
           "color": "rgb(250,250,250)",
           "size": 10
          },
          "showarrow": false,
          "text": "10,3",
          "x": -0.25,
          "xref": "x1",
          "y": 5,
          "yref": "y1"
         },
         {
          "font": {
           "color": "rgb(250,250,250)",
           "size": 10
          },
          "showarrow": false,
          "text": "11,3",
          "x": 1.75,
          "xref": "x1",
          "y": 5,
          "yref": "y1"
         },
         {
          "font": {
           "color": "rgb(250,250,250)",
           "size": 10
          },
          "showarrow": false,
          "text": "12,3",
          "x": 2.75,
          "xref": "x1",
          "y": 5,
          "yref": "y1"
         },
         {
          "font": {
           "color": "rgb(250,250,250)",
           "size": 10
          },
          "showarrow": false,
          "text": "13,3",
          "x": 3.75,
          "xref": "x1",
          "y": 5,
          "yref": "y1"
         },
         {
          "font": {
           "color": "rgb(250,250,250)",
           "size": 10
          },
          "showarrow": false,
          "text": "14,3",
          "x": 4.75,
          "xref": "x1",
          "y": 5,
          "yref": "y1"
         },
         {
          "font": {
           "color": "rgb(250,250,250)",
           "size": 10
          },
          "showarrow": false,
          "text": "15,4",
          "x": -6.75,
          "xref": "x1",
          "y": 4,
          "yref": "y1"
         },
         {
          "font": {
           "color": "rgb(250,250,250)",
           "size": 10
          },
          "showarrow": false,
          "text": "16,4",
          "x": -5.75,
          "xref": "x1",
          "y": 4,
          "yref": "y1"
         },
         {
          "font": {
           "color": "rgb(250,250,250)",
           "size": 10
          },
          "showarrow": false,
          "text": "17,4",
          "x": -4.75,
          "xref": "x1",
          "y": 4,
          "yref": "y1"
         },
         {
          "font": {
           "color": "rgb(250,250,250)",
           "size": 10
          },
          "showarrow": false,
          "text": "18,4",
          "x": -3.75,
          "xref": "x1",
          "y": 4,
          "yref": "y1"
         },
         {
          "font": {
           "color": "rgb(250,250,250)",
           "size": 10
          },
          "showarrow": false,
          "text": "19,4",
          "x": -2.75,
          "xref": "x1",
          "y": 4,
          "yref": "y1"
         },
         {
          "font": {
           "color": "rgb(250,250,250)",
           "size": 10
          },
          "showarrow": false,
          "text": "20,4",
          "x": -1.75,
          "xref": "x1",
          "y": 4,
          "yref": "y1"
         },
         {
          "font": {
           "color": "rgb(250,250,250)",
           "size": 10
          },
          "showarrow": false,
          "text": "21,4",
          "x": -0.75,
          "xref": "x1",
          "y": 4,
          "yref": "y1"
         },
         {
          "font": {
           "color": "rgb(250,250,250)",
           "size": 10
          },
          "showarrow": false,
          "text": "22,4",
          "x": 0.25,
          "xref": "x1",
          "y": 4,
          "yref": "y1"
         },
         {
          "font": {
           "color": "rgb(250,250,250)",
           "size": 10
          },
          "showarrow": false,
          "text": "23,4",
          "x": 1.25,
          "xref": "x1",
          "y": 4,
          "yref": "y1"
         },
         {
          "font": {
           "color": "rgb(250,250,250)",
           "size": 10
          },
          "showarrow": false,
          "text": "24,4",
          "x": 2.25,
          "xref": "x1",
          "y": 4,
          "yref": "y1"
         }
        ],
        "font": {
         "size": 12
        },
        "hovermode": "closest",
        "margin": {
         "b": 85,
         "l": 40,
         "r": 40,
         "t": 100
        },
        "plot_bgcolor": "rgb(248,248,248)",
        "showlegend": false,
        "title": "<thr> <com> 2 </com> </thr>",
        "xaxis": {
         "showgrid": false,
         "showline": false,
         "showticklabels": false,
         "zeroline": false
        },
        "yaxis": {
         "showgrid": false,
         "showline": false,
         "showticklabels": false,
         "zeroline": false
        }
       }
      },
      "text/html": [
       "<div id=\"23bc487c-884c-4a99-9f77-410d04418bfa\" style=\"height: 525px; width: 100%;\" class=\"plotly-graph-div\"></div><script type=\"text/javascript\">require([\"plotly\"], function(Plotly) { window.PLOTLYENV=window.PLOTLYENV || {};window.PLOTLYENV.BASE_URL=\"https://plot.ly\";Plotly.newPlot(\"23bc487c-884c-4a99-9f77-410d04418bfa\", [{\"mode\": \"lines\", \"hoverinfo\": \"none\", \"y\": [8.0, 7.0, null, 8.0, 7.0, null, 7.0, 6.0, null, 7.0, 6.0, null, 7.0, 6.0, null, 7.0, 6.0, null, 6.0, 5.0, null, 6.0, 5.0, null, 6.0, 5.0, null, 6.0, 5.0, null, 6.0, 5.0, null, 6.0, 5.0, null, 6.0, 5.0, null, 6.0, 5.0, null, 5.0, 4.0, null, 5.0, 4.0, null, 5.0, 4.0, null, 5.0, 4.0, null, 5.0, 4.0, null, 5.0, 4.0, null, 5.0, 4.0, null, 5.0, 4.0, null, 5.0, 4.0, null, 5.0, 4.0, null], \"x\": [0.0, -3.25, null, 0.0, 3.25, null, -3.25, -5.25, null, -3.25, -1.25, null, 3.25, 2.25, null, 3.25, 4.25, null, -5.25, -6.25, null, -5.25, -4.25, null, -1.25, -2.25, null, -1.25, -0.25, null, 2.25, 1.75, null, 2.25, 2.75, null, 4.25, 3.75, null, 4.25, 4.75, null, -6.25, -6.75, null, -6.25, -5.75, null, -4.25, -4.75, null, -4.25, -3.75, null, -2.25, -2.75, null, -2.25, -1.75, null, -0.25, -0.75, null, -0.25, 0.25, null, 1.75, 1.25, null, 1.75, 2.25, null], \"line\": {\"color\": \"rgb(210,210,210)\", \"width\": 1}, \"type\": \"scatter\"}, {\"opacity\": 0.8, \"name\": \"\", \"text\": [\"article\", \"1,1\", \"2,1\", \"3,2\", \"4,2\", \"5,2\", \"6,2\", \"7,3\", \"8,3\", \"9,3\", \"10,3\", \"11,3\", \"12,3\", \"13,3\", \"14,3\", \"15,4\", \"16,4\", \"17,4\", \"18,4\", \"19,4\", \"20,4\", \"21,4\", \"22,4\", \"23,4\", \"24,4\"], \"marker\": {\"color\": [\"#989898\", \"#6175c1\", \"#DB4551\", \"#6175c1\", \"#6175c1\", \"#6175c1\", \"#6175c1\", \"#6175c1\", \"#6175c1\", \"#6175c1\", \"#6175c1\", \"#6175c1\", \"#6175c1\", \"#6175c1\", \"#6175c1\", \"#6175c1\", \"#6175c1\", \"#6175c1\", \"#6175c1\", \"#6175c1\", \"#6175c1\", \"#6175c1\", \"#6175c1\", \"#6175c1\", \"#6175c1\"], \"line\": {\"color\": \"rgb(50,50,50)\", \"width\": 1}, \"symbol\": \"dot\", \"size\": 35}, \"mode\": \"markers\", \"hoverinfo\": \"text\", \"y\": [8.0, 7.0, 7.0, 6.0, 6.0, 6.0, 6.0, 5.0, 5.0, 5.0, 5.0, 5.0, 5.0, 5.0, 5.0, 4.0, 4.0, 4.0, 4.0, 4.0, 4.0, 4.0, 4.0, 4.0, 4.0], \"x\": [0.0, -3.25, 3.25, -5.25, -1.25, 2.25, 4.25, -6.25, -4.25, -2.25, -0.25, 1.75, 2.75, 3.75, 4.75, -6.75, -5.75, -4.75, -3.75, -2.75, -1.75, -0.75, 0.25, 1.25, 2.25], \"type\": \"scatter\"}], {\"showlegend\": false, \"title\": \"<thr> <com> 2 </com> </thr>\", \"plot_bgcolor\": \"rgb(248,248,248)\", \"yaxis\": {\"zeroline\": false, \"showline\": false, \"showticklabels\": false, \"showgrid\": false}, \"xaxis\": {\"zeroline\": false, \"showline\": false, \"showticklabels\": false, \"showgrid\": false}, \"hovermode\": \"closest\", \"font\": {\"size\": 12}, \"margin\": {\"r\": 40, \"b\": 85, \"t\": 100, \"l\": 40}, \"annotations\": [{\"xref\": \"x1\", \"yref\": \"y1\", \"text\": \"article\", \"y\": 8.0, \"x\": 0.0, \"font\": {\"color\": \"rgb(250,250,250)\", \"size\": 10}, \"showarrow\": false}, {\"xref\": \"x1\", \"yref\": \"y1\", \"text\": \"1,1\", \"y\": 7.0, \"x\": -3.25, \"font\": {\"color\": \"rgb(250,250,250)\", \"size\": 10}, \"showarrow\": false}, {\"xref\": \"x1\", \"yref\": \"y1\", \"text\": \"2,1\", \"y\": 7.0, \"x\": 3.25, \"font\": {\"color\": \"rgb(250,250,250)\", \"size\": 10}, \"showarrow\": false}, {\"xref\": \"x1\", \"yref\": \"y1\", \"text\": \"3,2\", \"y\": 6.0, \"x\": -5.25, \"font\": {\"color\": \"rgb(250,250,250)\", \"size\": 10}, \"showarrow\": false}, {\"xref\": \"x1\", \"yref\": \"y1\", \"text\": \"4,2\", \"y\": 6.0, \"x\": -1.25, \"font\": {\"color\": \"rgb(250,250,250)\", \"size\": 10}, \"showarrow\": false}, {\"xref\": \"x1\", \"yref\": \"y1\", \"text\": \"5,2\", \"y\": 6.0, \"x\": 2.25, \"font\": {\"color\": \"rgb(250,250,250)\", \"size\": 10}, \"showarrow\": false}, {\"xref\": \"x1\", \"yref\": \"y1\", \"text\": \"6,2\", \"y\": 6.0, \"x\": 4.25, \"font\": {\"color\": \"rgb(250,250,250)\", \"size\": 10}, \"showarrow\": false}, {\"xref\": \"x1\", \"yref\": \"y1\", \"text\": \"7,3\", \"y\": 5.0, \"x\": -6.25, \"font\": {\"color\": \"rgb(250,250,250)\", \"size\": 10}, \"showarrow\": false}, {\"xref\": \"x1\", \"yref\": \"y1\", \"text\": \"8,3\", \"y\": 5.0, \"x\": -4.25, \"font\": {\"color\": \"rgb(250,250,250)\", \"size\": 10}, \"showarrow\": false}, {\"xref\": \"x1\", \"yref\": \"y1\", \"text\": \"9,3\", \"y\": 5.0, \"x\": -2.25, \"font\": {\"color\": \"rgb(250,250,250)\", \"size\": 10}, \"showarrow\": false}, {\"xref\": \"x1\", \"yref\": \"y1\", \"text\": \"10,3\", \"y\": 5.0, \"x\": -0.25, \"font\": {\"color\": \"rgb(250,250,250)\", \"size\": 10}, \"showarrow\": false}, {\"xref\": \"x1\", \"yref\": \"y1\", \"text\": \"11,3\", \"y\": 5.0, \"x\": 1.75, \"font\": {\"color\": \"rgb(250,250,250)\", \"size\": 10}, \"showarrow\": false}, {\"xref\": \"x1\", \"yref\": \"y1\", \"text\": \"12,3\", \"y\": 5.0, \"x\": 2.75, \"font\": {\"color\": \"rgb(250,250,250)\", \"size\": 10}, \"showarrow\": false}, {\"xref\": \"x1\", \"yref\": \"y1\", \"text\": \"13,3\", \"y\": 5.0, \"x\": 3.75, \"font\": {\"color\": \"rgb(250,250,250)\", \"size\": 10}, \"showarrow\": false}, {\"xref\": \"x1\", \"yref\": \"y1\", \"text\": \"14,3\", \"y\": 5.0, \"x\": 4.75, \"font\": {\"color\": \"rgb(250,250,250)\", \"size\": 10}, \"showarrow\": false}, {\"xref\": \"x1\", \"yref\": \"y1\", \"text\": \"15,4\", \"y\": 4.0, \"x\": -6.75, \"font\": {\"color\": \"rgb(250,250,250)\", \"size\": 10}, \"showarrow\": false}, {\"xref\": \"x1\", \"yref\": \"y1\", \"text\": \"16,4\", \"y\": 4.0, \"x\": -5.75, \"font\": {\"color\": \"rgb(250,250,250)\", \"size\": 10}, \"showarrow\": false}, {\"xref\": \"x1\", \"yref\": \"y1\", \"text\": \"17,4\", \"y\": 4.0, \"x\": -4.75, \"font\": {\"color\": \"rgb(250,250,250)\", \"size\": 10}, \"showarrow\": false}, {\"xref\": \"x1\", \"yref\": \"y1\", \"text\": \"18,4\", \"y\": 4.0, \"x\": -3.75, \"font\": {\"color\": \"rgb(250,250,250)\", \"size\": 10}, \"showarrow\": false}, {\"xref\": \"x1\", \"yref\": \"y1\", \"text\": \"19,4\", \"y\": 4.0, \"x\": -2.75, \"font\": {\"color\": \"rgb(250,250,250)\", \"size\": 10}, \"showarrow\": false}, {\"xref\": \"x1\", \"yref\": \"y1\", \"text\": \"20,4\", \"y\": 4.0, \"x\": -1.75, \"font\": {\"color\": \"rgb(250,250,250)\", \"size\": 10}, \"showarrow\": false}, {\"xref\": \"x1\", \"yref\": \"y1\", \"text\": \"21,4\", \"y\": 4.0, \"x\": -0.75, \"font\": {\"color\": \"rgb(250,250,250)\", \"size\": 10}, \"showarrow\": false}, {\"xref\": \"x1\", \"yref\": \"y1\", \"text\": \"22,4\", \"y\": 4.0, \"x\": 0.25, \"font\": {\"color\": \"rgb(250,250,250)\", \"size\": 10}, \"showarrow\": false}, {\"xref\": \"x1\", \"yref\": \"y1\", \"text\": \"23,4\", \"y\": 4.0, \"x\": 1.25, \"font\": {\"color\": \"rgb(250,250,250)\", \"size\": 10}, \"showarrow\": false}, {\"xref\": \"x1\", \"yref\": \"y1\", \"text\": \"24,4\", \"y\": 4.0, \"x\": 2.25, \"font\": {\"color\": \"rgb(250,250,250)\", \"size\": 10}, \"showarrow\": false}]}, {\"linkText\": \"Export to plot.ly\", \"showLink\": true})});</script>"
      ],
      "text/vnd.plotly.v1+html": [
       "<div id=\"23bc487c-884c-4a99-9f77-410d04418bfa\" style=\"height: 525px; width: 100%;\" class=\"plotly-graph-div\"></div><script type=\"text/javascript\">require([\"plotly\"], function(Plotly) { window.PLOTLYENV=window.PLOTLYENV || {};window.PLOTLYENV.BASE_URL=\"https://plot.ly\";Plotly.newPlot(\"23bc487c-884c-4a99-9f77-410d04418bfa\", [{\"mode\": \"lines\", \"hoverinfo\": \"none\", \"y\": [8.0, 7.0, null, 8.0, 7.0, null, 7.0, 6.0, null, 7.0, 6.0, null, 7.0, 6.0, null, 7.0, 6.0, null, 6.0, 5.0, null, 6.0, 5.0, null, 6.0, 5.0, null, 6.0, 5.0, null, 6.0, 5.0, null, 6.0, 5.0, null, 6.0, 5.0, null, 6.0, 5.0, null, 5.0, 4.0, null, 5.0, 4.0, null, 5.0, 4.0, null, 5.0, 4.0, null, 5.0, 4.0, null, 5.0, 4.0, null, 5.0, 4.0, null, 5.0, 4.0, null, 5.0, 4.0, null, 5.0, 4.0, null], \"x\": [0.0, -3.25, null, 0.0, 3.25, null, -3.25, -5.25, null, -3.25, -1.25, null, 3.25, 2.25, null, 3.25, 4.25, null, -5.25, -6.25, null, -5.25, -4.25, null, -1.25, -2.25, null, -1.25, -0.25, null, 2.25, 1.75, null, 2.25, 2.75, null, 4.25, 3.75, null, 4.25, 4.75, null, -6.25, -6.75, null, -6.25, -5.75, null, -4.25, -4.75, null, -4.25, -3.75, null, -2.25, -2.75, null, -2.25, -1.75, null, -0.25, -0.75, null, -0.25, 0.25, null, 1.75, 1.25, null, 1.75, 2.25, null], \"line\": {\"color\": \"rgb(210,210,210)\", \"width\": 1}, \"type\": \"scatter\"}, {\"opacity\": 0.8, \"name\": \"\", \"text\": [\"article\", \"1,1\", \"2,1\", \"3,2\", \"4,2\", \"5,2\", \"6,2\", \"7,3\", \"8,3\", \"9,3\", \"10,3\", \"11,3\", \"12,3\", \"13,3\", \"14,3\", \"15,4\", \"16,4\", \"17,4\", \"18,4\", \"19,4\", \"20,4\", \"21,4\", \"22,4\", \"23,4\", \"24,4\"], \"marker\": {\"color\": [\"#989898\", \"#6175c1\", \"#DB4551\", \"#6175c1\", \"#6175c1\", \"#6175c1\", \"#6175c1\", \"#6175c1\", \"#6175c1\", \"#6175c1\", \"#6175c1\", \"#6175c1\", \"#6175c1\", \"#6175c1\", \"#6175c1\", \"#6175c1\", \"#6175c1\", \"#6175c1\", \"#6175c1\", \"#6175c1\", \"#6175c1\", \"#6175c1\", \"#6175c1\", \"#6175c1\", \"#6175c1\"], \"line\": {\"color\": \"rgb(50,50,50)\", \"width\": 1}, \"symbol\": \"dot\", \"size\": 35}, \"mode\": \"markers\", \"hoverinfo\": \"text\", \"y\": [8.0, 7.0, 7.0, 6.0, 6.0, 6.0, 6.0, 5.0, 5.0, 5.0, 5.0, 5.0, 5.0, 5.0, 5.0, 4.0, 4.0, 4.0, 4.0, 4.0, 4.0, 4.0, 4.0, 4.0, 4.0], \"x\": [0.0, -3.25, 3.25, -5.25, -1.25, 2.25, 4.25, -6.25, -4.25, -2.25, -0.25, 1.75, 2.75, 3.75, 4.75, -6.75, -5.75, -4.75, -3.75, -2.75, -1.75, -0.75, 0.25, 1.25, 2.25], \"type\": \"scatter\"}], {\"showlegend\": false, \"title\": \"<thr> <com> 2 </com> </thr>\", \"plot_bgcolor\": \"rgb(248,248,248)\", \"yaxis\": {\"zeroline\": false, \"showline\": false, \"showticklabels\": false, \"showgrid\": false}, \"xaxis\": {\"zeroline\": false, \"showline\": false, \"showticklabels\": false, \"showgrid\": false}, \"hovermode\": \"closest\", \"font\": {\"size\": 12}, \"margin\": {\"r\": 40, \"b\": 85, \"t\": 100, \"l\": 40}, \"annotations\": [{\"xref\": \"x1\", \"yref\": \"y1\", \"text\": \"article\", \"y\": 8.0, \"x\": 0.0, \"font\": {\"color\": \"rgb(250,250,250)\", \"size\": 10}, \"showarrow\": false}, {\"xref\": \"x1\", \"yref\": \"y1\", \"text\": \"1,1\", \"y\": 7.0, \"x\": -3.25, \"font\": {\"color\": \"rgb(250,250,250)\", \"size\": 10}, \"showarrow\": false}, {\"xref\": \"x1\", \"yref\": \"y1\", \"text\": \"2,1\", \"y\": 7.0, \"x\": 3.25, \"font\": {\"color\": \"rgb(250,250,250)\", \"size\": 10}, \"showarrow\": false}, {\"xref\": \"x1\", \"yref\": \"y1\", \"text\": \"3,2\", \"y\": 6.0, \"x\": -5.25, \"font\": {\"color\": \"rgb(250,250,250)\", \"size\": 10}, \"showarrow\": false}, {\"xref\": \"x1\", \"yref\": \"y1\", \"text\": \"4,2\", \"y\": 6.0, \"x\": -1.25, \"font\": {\"color\": \"rgb(250,250,250)\", \"size\": 10}, \"showarrow\": false}, {\"xref\": \"x1\", \"yref\": \"y1\", \"text\": \"5,2\", \"y\": 6.0, \"x\": 2.25, \"font\": {\"color\": \"rgb(250,250,250)\", \"size\": 10}, \"showarrow\": false}, {\"xref\": \"x1\", \"yref\": \"y1\", \"text\": \"6,2\", \"y\": 6.0, \"x\": 4.25, \"font\": {\"color\": \"rgb(250,250,250)\", \"size\": 10}, \"showarrow\": false}, {\"xref\": \"x1\", \"yref\": \"y1\", \"text\": \"7,3\", \"y\": 5.0, \"x\": -6.25, \"font\": {\"color\": \"rgb(250,250,250)\", \"size\": 10}, \"showarrow\": false}, {\"xref\": \"x1\", \"yref\": \"y1\", \"text\": \"8,3\", \"y\": 5.0, \"x\": -4.25, \"font\": {\"color\": \"rgb(250,250,250)\", \"size\": 10}, \"showarrow\": false}, {\"xref\": \"x1\", \"yref\": \"y1\", \"text\": \"9,3\", \"y\": 5.0, \"x\": -2.25, \"font\": {\"color\": \"rgb(250,250,250)\", \"size\": 10}, \"showarrow\": false}, {\"xref\": \"x1\", \"yref\": \"y1\", \"text\": \"10,3\", \"y\": 5.0, \"x\": -0.25, \"font\": {\"color\": \"rgb(250,250,250)\", \"size\": 10}, \"showarrow\": false}, {\"xref\": \"x1\", \"yref\": \"y1\", \"text\": \"11,3\", \"y\": 5.0, \"x\": 1.75, \"font\": {\"color\": \"rgb(250,250,250)\", \"size\": 10}, \"showarrow\": false}, {\"xref\": \"x1\", \"yref\": \"y1\", \"text\": \"12,3\", \"y\": 5.0, \"x\": 2.75, \"font\": {\"color\": \"rgb(250,250,250)\", \"size\": 10}, \"showarrow\": false}, {\"xref\": \"x1\", \"yref\": \"y1\", \"text\": \"13,3\", \"y\": 5.0, \"x\": 3.75, \"font\": {\"color\": \"rgb(250,250,250)\", \"size\": 10}, \"showarrow\": false}, {\"xref\": \"x1\", \"yref\": \"y1\", \"text\": \"14,3\", \"y\": 5.0, \"x\": 4.75, \"font\": {\"color\": \"rgb(250,250,250)\", \"size\": 10}, \"showarrow\": false}, {\"xref\": \"x1\", \"yref\": \"y1\", \"text\": \"15,4\", \"y\": 4.0, \"x\": -6.75, \"font\": {\"color\": \"rgb(250,250,250)\", \"size\": 10}, \"showarrow\": false}, {\"xref\": \"x1\", \"yref\": \"y1\", \"text\": \"16,4\", \"y\": 4.0, \"x\": -5.75, \"font\": {\"color\": \"rgb(250,250,250)\", \"size\": 10}, \"showarrow\": false}, {\"xref\": \"x1\", \"yref\": \"y1\", \"text\": \"17,4\", \"y\": 4.0, \"x\": -4.75, \"font\": {\"color\": \"rgb(250,250,250)\", \"size\": 10}, \"showarrow\": false}, {\"xref\": \"x1\", \"yref\": \"y1\", \"text\": \"18,4\", \"y\": 4.0, \"x\": -3.75, \"font\": {\"color\": \"rgb(250,250,250)\", \"size\": 10}, \"showarrow\": false}, {\"xref\": \"x1\", \"yref\": \"y1\", \"text\": \"19,4\", \"y\": 4.0, \"x\": -2.75, \"font\": {\"color\": \"rgb(250,250,250)\", \"size\": 10}, \"showarrow\": false}, {\"xref\": \"x1\", \"yref\": \"y1\", \"text\": \"20,4\", \"y\": 4.0, \"x\": -1.75, \"font\": {\"color\": \"rgb(250,250,250)\", \"size\": 10}, \"showarrow\": false}, {\"xref\": \"x1\", \"yref\": \"y1\", \"text\": \"21,4\", \"y\": 4.0, \"x\": -0.75, \"font\": {\"color\": \"rgb(250,250,250)\", \"size\": 10}, \"showarrow\": false}, {\"xref\": \"x1\", \"yref\": \"y1\", \"text\": \"22,4\", \"y\": 4.0, \"x\": 0.25, \"font\": {\"color\": \"rgb(250,250,250)\", \"size\": 10}, \"showarrow\": false}, {\"xref\": \"x1\", \"yref\": \"y1\", \"text\": \"23,4\", \"y\": 4.0, \"x\": 1.25, \"font\": {\"color\": \"rgb(250,250,250)\", \"size\": 10}, \"showarrow\": false}, {\"xref\": \"x1\", \"yref\": \"y1\", \"text\": \"24,4\", \"y\": 4.0, \"x\": 2.25, \"font\": {\"color\": \"rgb(250,250,250)\", \"size\": 10}, \"showarrow\": false}]}, {\"linkText\": \"Export to plot.ly\", \"showLink\": true})});</script>"
      ]
     },
     "metadata": {},
     "output_type": "display_data"
    },
    {
     "data": {
      "application/vnd.plotly.v1+json": {
       "data": [
        {
         "hoverinfo": "none",
         "line": {
          "color": "rgb(210,210,210)",
          "width": 1
         },
         "mode": "lines",
         "type": "scatter",
         "x": [
          0,
          -3.25,
          null,
          0,
          3.25,
          null,
          -3.25,
          -5.25,
          null,
          -3.25,
          -1.25,
          null,
          3.25,
          2.25,
          null,
          3.25,
          4.25,
          null,
          -5.25,
          -6.25,
          null,
          -5.25,
          -4.25,
          null,
          -1.25,
          -2.25,
          null,
          -1.25,
          -0.25,
          null,
          2.25,
          1.75,
          null,
          2.25,
          2.75,
          null,
          4.25,
          3.75,
          null,
          4.25,
          4.75,
          null,
          -6.25,
          -6.75,
          null,
          -6.25,
          -5.75,
          null,
          -4.25,
          -4.75,
          null,
          -4.25,
          -3.75,
          null,
          -2.25,
          -2.75,
          null,
          -2.25,
          -1.75,
          null,
          -0.25,
          -0.75,
          null,
          -0.25,
          0.25,
          null,
          1.75,
          1.25,
          null,
          1.75,
          2.25,
          null
         ],
         "y": [
          8,
          7,
          null,
          8,
          7,
          null,
          7,
          6,
          null,
          7,
          6,
          null,
          7,
          6,
          null,
          7,
          6,
          null,
          6,
          5,
          null,
          6,
          5,
          null,
          6,
          5,
          null,
          6,
          5,
          null,
          6,
          5,
          null,
          6,
          5,
          null,
          6,
          5,
          null,
          6,
          5,
          null,
          5,
          4,
          null,
          5,
          4,
          null,
          5,
          4,
          null,
          5,
          4,
          null,
          5,
          4,
          null,
          5,
          4,
          null,
          5,
          4,
          null,
          5,
          4,
          null,
          5,
          4,
          null,
          5,
          4,
          null
         ]
        },
        {
         "hoverinfo": "text",
         "marker": {
          "color": [
           "#989898",
           "#EE7600",
           "#6175c1",
           "#DB4551",
           "#6175c1",
           "#6175c1",
           "#6175c1",
           "#6175c1",
           "#6175c1",
           "#6175c1",
           "#6175c1",
           "#6175c1",
           "#6175c1",
           "#6175c1",
           "#6175c1",
           "#6175c1",
           "#6175c1",
           "#6175c1",
           "#6175c1",
           "#6175c1",
           "#6175c1",
           "#6175c1",
           "#6175c1",
           "#6175c1",
           "#6175c1"
          ],
          "line": {
           "color": "rgb(50,50,50)",
           "width": 1
          },
          "size": 35,
          "symbol": "dot"
         },
         "mode": "markers",
         "name": "",
         "opacity": 0.8,
         "text": [
          "article",
          "1,1",
          "2,1",
          "3,2",
          "4,2",
          "5,2",
          "6,2",
          "7,3",
          "8,3",
          "9,3",
          "10,3",
          "11,3",
          "12,3",
          "13,3",
          "14,3",
          "15,4",
          "16,4",
          "17,4",
          "18,4",
          "19,4",
          "20,4",
          "21,4",
          "22,4",
          "23,4",
          "24,4"
         ],
         "type": "scatter",
         "x": [
          0,
          -3.25,
          3.25,
          -5.25,
          -1.25,
          2.25,
          4.25,
          -6.25,
          -4.25,
          -2.25,
          -0.25,
          1.75,
          2.75,
          3.75,
          4.75,
          -6.75,
          -5.75,
          -4.75,
          -3.75,
          -2.75,
          -1.75,
          -0.75,
          0.25,
          1.25,
          2.25
         ],
         "y": [
          8,
          7,
          7,
          6,
          6,
          6,
          6,
          5,
          5,
          5,
          5,
          5,
          5,
          5,
          5,
          4,
          4,
          4,
          4,
          4,
          4,
          4,
          4,
          4,
          4
         ]
        }
       ],
       "layout": {
        "annotations": [
         {
          "font": {
           "color": "rgb(250,250,250)",
           "size": 10
          },
          "showarrow": false,
          "text": "article",
          "x": 0,
          "xref": "x1",
          "y": 8,
          "yref": "y1"
         },
         {
          "font": {
           "color": "rgb(250,250,250)",
           "size": 10
          },
          "showarrow": false,
          "text": "1,1",
          "x": -3.25,
          "xref": "x1",
          "y": 7,
          "yref": "y1"
         },
         {
          "font": {
           "color": "rgb(250,250,250)",
           "size": 10
          },
          "showarrow": false,
          "text": "2,1",
          "x": 3.25,
          "xref": "x1",
          "y": 7,
          "yref": "y1"
         },
         {
          "font": {
           "color": "rgb(250,250,250)",
           "size": 10
          },
          "showarrow": false,
          "text": "3,2",
          "x": -5.25,
          "xref": "x1",
          "y": 6,
          "yref": "y1"
         },
         {
          "font": {
           "color": "rgb(250,250,250)",
           "size": 10
          },
          "showarrow": false,
          "text": "4,2",
          "x": -1.25,
          "xref": "x1",
          "y": 6,
          "yref": "y1"
         },
         {
          "font": {
           "color": "rgb(250,250,250)",
           "size": 10
          },
          "showarrow": false,
          "text": "5,2",
          "x": 2.25,
          "xref": "x1",
          "y": 6,
          "yref": "y1"
         },
         {
          "font": {
           "color": "rgb(250,250,250)",
           "size": 10
          },
          "showarrow": false,
          "text": "6,2",
          "x": 4.25,
          "xref": "x1",
          "y": 6,
          "yref": "y1"
         },
         {
          "font": {
           "color": "rgb(250,250,250)",
           "size": 10
          },
          "showarrow": false,
          "text": "7,3",
          "x": -6.25,
          "xref": "x1",
          "y": 5,
          "yref": "y1"
         },
         {
          "font": {
           "color": "rgb(250,250,250)",
           "size": 10
          },
          "showarrow": false,
          "text": "8,3",
          "x": -4.25,
          "xref": "x1",
          "y": 5,
          "yref": "y1"
         },
         {
          "font": {
           "color": "rgb(250,250,250)",
           "size": 10
          },
          "showarrow": false,
          "text": "9,3",
          "x": -2.25,
          "xref": "x1",
          "y": 5,
          "yref": "y1"
         },
         {
          "font": {
           "color": "rgb(250,250,250)",
           "size": 10
          },
          "showarrow": false,
          "text": "10,3",
          "x": -0.25,
          "xref": "x1",
          "y": 5,
          "yref": "y1"
         },
         {
          "font": {
           "color": "rgb(250,250,250)",
           "size": 10
          },
          "showarrow": false,
          "text": "11,3",
          "x": 1.75,
          "xref": "x1",
          "y": 5,
          "yref": "y1"
         },
         {
          "font": {
           "color": "rgb(250,250,250)",
           "size": 10
          },
          "showarrow": false,
          "text": "12,3",
          "x": 2.75,
          "xref": "x1",
          "y": 5,
          "yref": "y1"
         },
         {
          "font": {
           "color": "rgb(250,250,250)",
           "size": 10
          },
          "showarrow": false,
          "text": "13,3",
          "x": 3.75,
          "xref": "x1",
          "y": 5,
          "yref": "y1"
         },
         {
          "font": {
           "color": "rgb(250,250,250)",
           "size": 10
          },
          "showarrow": false,
          "text": "14,3",
          "x": 4.75,
          "xref": "x1",
          "y": 5,
          "yref": "y1"
         },
         {
          "font": {
           "color": "rgb(250,250,250)",
           "size": 10
          },
          "showarrow": false,
          "text": "15,4",
          "x": -6.75,
          "xref": "x1",
          "y": 4,
          "yref": "y1"
         },
         {
          "font": {
           "color": "rgb(250,250,250)",
           "size": 10
          },
          "showarrow": false,
          "text": "16,4",
          "x": -5.75,
          "xref": "x1",
          "y": 4,
          "yref": "y1"
         },
         {
          "font": {
           "color": "rgb(250,250,250)",
           "size": 10
          },
          "showarrow": false,
          "text": "17,4",
          "x": -4.75,
          "xref": "x1",
          "y": 4,
          "yref": "y1"
         },
         {
          "font": {
           "color": "rgb(250,250,250)",
           "size": 10
          },
          "showarrow": false,
          "text": "18,4",
          "x": -3.75,
          "xref": "x1",
          "y": 4,
          "yref": "y1"
         },
         {
          "font": {
           "color": "rgb(250,250,250)",
           "size": 10
          },
          "showarrow": false,
          "text": "19,4",
          "x": -2.75,
          "xref": "x1",
          "y": 4,
          "yref": "y1"
         },
         {
          "font": {
           "color": "rgb(250,250,250)",
           "size": 10
          },
          "showarrow": false,
          "text": "20,4",
          "x": -1.75,
          "xref": "x1",
          "y": 4,
          "yref": "y1"
         },
         {
          "font": {
           "color": "rgb(250,250,250)",
           "size": 10
          },
          "showarrow": false,
          "text": "21,4",
          "x": -0.75,
          "xref": "x1",
          "y": 4,
          "yref": "y1"
         },
         {
          "font": {
           "color": "rgb(250,250,250)",
           "size": 10
          },
          "showarrow": false,
          "text": "22,4",
          "x": 0.25,
          "xref": "x1",
          "y": 4,
          "yref": "y1"
         },
         {
          "font": {
           "color": "rgb(250,250,250)",
           "size": 10
          },
          "showarrow": false,
          "text": "23,4",
          "x": 1.25,
          "xref": "x1",
          "y": 4,
          "yref": "y1"
         },
         {
          "font": {
           "color": "rgb(250,250,250)",
           "size": 10
          },
          "showarrow": false,
          "text": "24,4",
          "x": 2.25,
          "xref": "x1",
          "y": 4,
          "yref": "y1"
         }
        ],
        "font": {
         "size": 12
        },
        "hovermode": "closest",
        "margin": {
         "b": 85,
         "l": 40,
         "r": 40,
         "t": 100
        },
        "plot_bgcolor": "rgb(248,248,248)",
        "showlegend": false,
        "title": "<thr> <com> 1 </com> <com> 3 </com> </thr>",
        "xaxis": {
         "showgrid": false,
         "showline": false,
         "showticklabels": false,
         "zeroline": false
        },
        "yaxis": {
         "showgrid": false,
         "showline": false,
         "showticklabels": false,
         "zeroline": false
        }
       }
      },
      "text/html": [
       "<div id=\"f762e2ab-f850-4b4b-aa0a-273a90f58529\" style=\"height: 525px; width: 100%;\" class=\"plotly-graph-div\"></div><script type=\"text/javascript\">require([\"plotly\"], function(Plotly) { window.PLOTLYENV=window.PLOTLYENV || {};window.PLOTLYENV.BASE_URL=\"https://plot.ly\";Plotly.newPlot(\"f762e2ab-f850-4b4b-aa0a-273a90f58529\", [{\"mode\": \"lines\", \"hoverinfo\": \"none\", \"y\": [8.0, 7.0, null, 8.0, 7.0, null, 7.0, 6.0, null, 7.0, 6.0, null, 7.0, 6.0, null, 7.0, 6.0, null, 6.0, 5.0, null, 6.0, 5.0, null, 6.0, 5.0, null, 6.0, 5.0, null, 6.0, 5.0, null, 6.0, 5.0, null, 6.0, 5.0, null, 6.0, 5.0, null, 5.0, 4.0, null, 5.0, 4.0, null, 5.0, 4.0, null, 5.0, 4.0, null, 5.0, 4.0, null, 5.0, 4.0, null, 5.0, 4.0, null, 5.0, 4.0, null, 5.0, 4.0, null, 5.0, 4.0, null], \"x\": [0.0, -3.25, null, 0.0, 3.25, null, -3.25, -5.25, null, -3.25, -1.25, null, 3.25, 2.25, null, 3.25, 4.25, null, -5.25, -6.25, null, -5.25, -4.25, null, -1.25, -2.25, null, -1.25, -0.25, null, 2.25, 1.75, null, 2.25, 2.75, null, 4.25, 3.75, null, 4.25, 4.75, null, -6.25, -6.75, null, -6.25, -5.75, null, -4.25, -4.75, null, -4.25, -3.75, null, -2.25, -2.75, null, -2.25, -1.75, null, -0.25, -0.75, null, -0.25, 0.25, null, 1.75, 1.25, null, 1.75, 2.25, null], \"line\": {\"color\": \"rgb(210,210,210)\", \"width\": 1}, \"type\": \"scatter\"}, {\"opacity\": 0.8, \"name\": \"\", \"text\": [\"article\", \"1,1\", \"2,1\", \"3,2\", \"4,2\", \"5,2\", \"6,2\", \"7,3\", \"8,3\", \"9,3\", \"10,3\", \"11,3\", \"12,3\", \"13,3\", \"14,3\", \"15,4\", \"16,4\", \"17,4\", \"18,4\", \"19,4\", \"20,4\", \"21,4\", \"22,4\", \"23,4\", \"24,4\"], \"marker\": {\"color\": [\"#989898\", \"#EE7600\", \"#6175c1\", \"#DB4551\", \"#6175c1\", \"#6175c1\", \"#6175c1\", \"#6175c1\", \"#6175c1\", \"#6175c1\", \"#6175c1\", \"#6175c1\", \"#6175c1\", \"#6175c1\", \"#6175c1\", \"#6175c1\", \"#6175c1\", \"#6175c1\", \"#6175c1\", \"#6175c1\", \"#6175c1\", \"#6175c1\", \"#6175c1\", \"#6175c1\", \"#6175c1\"], \"line\": {\"color\": \"rgb(50,50,50)\", \"width\": 1}, \"symbol\": \"dot\", \"size\": 35}, \"mode\": \"markers\", \"hoverinfo\": \"text\", \"y\": [8.0, 7.0, 7.0, 6.0, 6.0, 6.0, 6.0, 5.0, 5.0, 5.0, 5.0, 5.0, 5.0, 5.0, 5.0, 4.0, 4.0, 4.0, 4.0, 4.0, 4.0, 4.0, 4.0, 4.0, 4.0], \"x\": [0.0, -3.25, 3.25, -5.25, -1.25, 2.25, 4.25, -6.25, -4.25, -2.25, -0.25, 1.75, 2.75, 3.75, 4.75, -6.75, -5.75, -4.75, -3.75, -2.75, -1.75, -0.75, 0.25, 1.25, 2.25], \"type\": \"scatter\"}], {\"showlegend\": false, \"title\": \"<thr> <com> 1 </com> <com> 3 </com> </thr>\", \"plot_bgcolor\": \"rgb(248,248,248)\", \"yaxis\": {\"zeroline\": false, \"showline\": false, \"showticklabels\": false, \"showgrid\": false}, \"xaxis\": {\"zeroline\": false, \"showline\": false, \"showticklabels\": false, \"showgrid\": false}, \"hovermode\": \"closest\", \"font\": {\"size\": 12}, \"margin\": {\"r\": 40, \"b\": 85, \"t\": 100, \"l\": 40}, \"annotations\": [{\"xref\": \"x1\", \"yref\": \"y1\", \"text\": \"article\", \"y\": 8.0, \"x\": 0.0, \"font\": {\"color\": \"rgb(250,250,250)\", \"size\": 10}, \"showarrow\": false}, {\"xref\": \"x1\", \"yref\": \"y1\", \"text\": \"1,1\", \"y\": 7.0, \"x\": -3.25, \"font\": {\"color\": \"rgb(250,250,250)\", \"size\": 10}, \"showarrow\": false}, {\"xref\": \"x1\", \"yref\": \"y1\", \"text\": \"2,1\", \"y\": 7.0, \"x\": 3.25, \"font\": {\"color\": \"rgb(250,250,250)\", \"size\": 10}, \"showarrow\": false}, {\"xref\": \"x1\", \"yref\": \"y1\", \"text\": \"3,2\", \"y\": 6.0, \"x\": -5.25, \"font\": {\"color\": \"rgb(250,250,250)\", \"size\": 10}, \"showarrow\": false}, {\"xref\": \"x1\", \"yref\": \"y1\", \"text\": \"4,2\", \"y\": 6.0, \"x\": -1.25, \"font\": {\"color\": \"rgb(250,250,250)\", \"size\": 10}, \"showarrow\": false}, {\"xref\": \"x1\", \"yref\": \"y1\", \"text\": \"5,2\", \"y\": 6.0, \"x\": 2.25, \"font\": {\"color\": \"rgb(250,250,250)\", \"size\": 10}, \"showarrow\": false}, {\"xref\": \"x1\", \"yref\": \"y1\", \"text\": \"6,2\", \"y\": 6.0, \"x\": 4.25, \"font\": {\"color\": \"rgb(250,250,250)\", \"size\": 10}, \"showarrow\": false}, {\"xref\": \"x1\", \"yref\": \"y1\", \"text\": \"7,3\", \"y\": 5.0, \"x\": -6.25, \"font\": {\"color\": \"rgb(250,250,250)\", \"size\": 10}, \"showarrow\": false}, {\"xref\": \"x1\", \"yref\": \"y1\", \"text\": \"8,3\", \"y\": 5.0, \"x\": -4.25, \"font\": {\"color\": \"rgb(250,250,250)\", \"size\": 10}, \"showarrow\": false}, {\"xref\": \"x1\", \"yref\": \"y1\", \"text\": \"9,3\", \"y\": 5.0, \"x\": -2.25, \"font\": {\"color\": \"rgb(250,250,250)\", \"size\": 10}, \"showarrow\": false}, {\"xref\": \"x1\", \"yref\": \"y1\", \"text\": \"10,3\", \"y\": 5.0, \"x\": -0.25, \"font\": {\"color\": \"rgb(250,250,250)\", \"size\": 10}, \"showarrow\": false}, {\"xref\": \"x1\", \"yref\": \"y1\", \"text\": \"11,3\", \"y\": 5.0, \"x\": 1.75, \"font\": {\"color\": \"rgb(250,250,250)\", \"size\": 10}, \"showarrow\": false}, {\"xref\": \"x1\", \"yref\": \"y1\", \"text\": \"12,3\", \"y\": 5.0, \"x\": 2.75, \"font\": {\"color\": \"rgb(250,250,250)\", \"size\": 10}, \"showarrow\": false}, {\"xref\": \"x1\", \"yref\": \"y1\", \"text\": \"13,3\", \"y\": 5.0, \"x\": 3.75, \"font\": {\"color\": \"rgb(250,250,250)\", \"size\": 10}, \"showarrow\": false}, {\"xref\": \"x1\", \"yref\": \"y1\", \"text\": \"14,3\", \"y\": 5.0, \"x\": 4.75, \"font\": {\"color\": \"rgb(250,250,250)\", \"size\": 10}, \"showarrow\": false}, {\"xref\": \"x1\", \"yref\": \"y1\", \"text\": \"15,4\", \"y\": 4.0, \"x\": -6.75, \"font\": {\"color\": \"rgb(250,250,250)\", \"size\": 10}, \"showarrow\": false}, {\"xref\": \"x1\", \"yref\": \"y1\", \"text\": \"16,4\", \"y\": 4.0, \"x\": -5.75, \"font\": {\"color\": \"rgb(250,250,250)\", \"size\": 10}, \"showarrow\": false}, {\"xref\": \"x1\", \"yref\": \"y1\", \"text\": \"17,4\", \"y\": 4.0, \"x\": -4.75, \"font\": {\"color\": \"rgb(250,250,250)\", \"size\": 10}, \"showarrow\": false}, {\"xref\": \"x1\", \"yref\": \"y1\", \"text\": \"18,4\", \"y\": 4.0, \"x\": -3.75, \"font\": {\"color\": \"rgb(250,250,250)\", \"size\": 10}, \"showarrow\": false}, {\"xref\": \"x1\", \"yref\": \"y1\", \"text\": \"19,4\", \"y\": 4.0, \"x\": -2.75, \"font\": {\"color\": \"rgb(250,250,250)\", \"size\": 10}, \"showarrow\": false}, {\"xref\": \"x1\", \"yref\": \"y1\", \"text\": \"20,4\", \"y\": 4.0, \"x\": -1.75, \"font\": {\"color\": \"rgb(250,250,250)\", \"size\": 10}, \"showarrow\": false}, {\"xref\": \"x1\", \"yref\": \"y1\", \"text\": \"21,4\", \"y\": 4.0, \"x\": -0.75, \"font\": {\"color\": \"rgb(250,250,250)\", \"size\": 10}, \"showarrow\": false}, {\"xref\": \"x1\", \"yref\": \"y1\", \"text\": \"22,4\", \"y\": 4.0, \"x\": 0.25, \"font\": {\"color\": \"rgb(250,250,250)\", \"size\": 10}, \"showarrow\": false}, {\"xref\": \"x1\", \"yref\": \"y1\", \"text\": \"23,4\", \"y\": 4.0, \"x\": 1.25, \"font\": {\"color\": \"rgb(250,250,250)\", \"size\": 10}, \"showarrow\": false}, {\"xref\": \"x1\", \"yref\": \"y1\", \"text\": \"24,4\", \"y\": 4.0, \"x\": 2.25, \"font\": {\"color\": \"rgb(250,250,250)\", \"size\": 10}, \"showarrow\": false}]}, {\"linkText\": \"Export to plot.ly\", \"showLink\": true})});</script>"
      ],
      "text/vnd.plotly.v1+html": [
       "<div id=\"f762e2ab-f850-4b4b-aa0a-273a90f58529\" style=\"height: 525px; width: 100%;\" class=\"plotly-graph-div\"></div><script type=\"text/javascript\">require([\"plotly\"], function(Plotly) { window.PLOTLYENV=window.PLOTLYENV || {};window.PLOTLYENV.BASE_URL=\"https://plot.ly\";Plotly.newPlot(\"f762e2ab-f850-4b4b-aa0a-273a90f58529\", [{\"mode\": \"lines\", \"hoverinfo\": \"none\", \"y\": [8.0, 7.0, null, 8.0, 7.0, null, 7.0, 6.0, null, 7.0, 6.0, null, 7.0, 6.0, null, 7.0, 6.0, null, 6.0, 5.0, null, 6.0, 5.0, null, 6.0, 5.0, null, 6.0, 5.0, null, 6.0, 5.0, null, 6.0, 5.0, null, 6.0, 5.0, null, 6.0, 5.0, null, 5.0, 4.0, null, 5.0, 4.0, null, 5.0, 4.0, null, 5.0, 4.0, null, 5.0, 4.0, null, 5.0, 4.0, null, 5.0, 4.0, null, 5.0, 4.0, null, 5.0, 4.0, null, 5.0, 4.0, null], \"x\": [0.0, -3.25, null, 0.0, 3.25, null, -3.25, -5.25, null, -3.25, -1.25, null, 3.25, 2.25, null, 3.25, 4.25, null, -5.25, -6.25, null, -5.25, -4.25, null, -1.25, -2.25, null, -1.25, -0.25, null, 2.25, 1.75, null, 2.25, 2.75, null, 4.25, 3.75, null, 4.25, 4.75, null, -6.25, -6.75, null, -6.25, -5.75, null, -4.25, -4.75, null, -4.25, -3.75, null, -2.25, -2.75, null, -2.25, -1.75, null, -0.25, -0.75, null, -0.25, 0.25, null, 1.75, 1.25, null, 1.75, 2.25, null], \"line\": {\"color\": \"rgb(210,210,210)\", \"width\": 1}, \"type\": \"scatter\"}, {\"opacity\": 0.8, \"name\": \"\", \"text\": [\"article\", \"1,1\", \"2,1\", \"3,2\", \"4,2\", \"5,2\", \"6,2\", \"7,3\", \"8,3\", \"9,3\", \"10,3\", \"11,3\", \"12,3\", \"13,3\", \"14,3\", \"15,4\", \"16,4\", \"17,4\", \"18,4\", \"19,4\", \"20,4\", \"21,4\", \"22,4\", \"23,4\", \"24,4\"], \"marker\": {\"color\": [\"#989898\", \"#EE7600\", \"#6175c1\", \"#DB4551\", \"#6175c1\", \"#6175c1\", \"#6175c1\", \"#6175c1\", \"#6175c1\", \"#6175c1\", \"#6175c1\", \"#6175c1\", \"#6175c1\", \"#6175c1\", \"#6175c1\", \"#6175c1\", \"#6175c1\", \"#6175c1\", \"#6175c1\", \"#6175c1\", \"#6175c1\", \"#6175c1\", \"#6175c1\", \"#6175c1\", \"#6175c1\"], \"line\": {\"color\": \"rgb(50,50,50)\", \"width\": 1}, \"symbol\": \"dot\", \"size\": 35}, \"mode\": \"markers\", \"hoverinfo\": \"text\", \"y\": [8.0, 7.0, 7.0, 6.0, 6.0, 6.0, 6.0, 5.0, 5.0, 5.0, 5.0, 5.0, 5.0, 5.0, 5.0, 4.0, 4.0, 4.0, 4.0, 4.0, 4.0, 4.0, 4.0, 4.0, 4.0], \"x\": [0.0, -3.25, 3.25, -5.25, -1.25, 2.25, 4.25, -6.25, -4.25, -2.25, -0.25, 1.75, 2.75, 3.75, 4.75, -6.75, -5.75, -4.75, -3.75, -2.75, -1.75, -0.75, 0.25, 1.25, 2.25], \"type\": \"scatter\"}], {\"showlegend\": false, \"title\": \"<thr> <com> 1 </com> <com> 3 </com> </thr>\", \"plot_bgcolor\": \"rgb(248,248,248)\", \"yaxis\": {\"zeroline\": false, \"showline\": false, \"showticklabels\": false, \"showgrid\": false}, \"xaxis\": {\"zeroline\": false, \"showline\": false, \"showticklabels\": false, \"showgrid\": false}, \"hovermode\": \"closest\", \"font\": {\"size\": 12}, \"margin\": {\"r\": 40, \"b\": 85, \"t\": 100, \"l\": 40}, \"annotations\": [{\"xref\": \"x1\", \"yref\": \"y1\", \"text\": \"article\", \"y\": 8.0, \"x\": 0.0, \"font\": {\"color\": \"rgb(250,250,250)\", \"size\": 10}, \"showarrow\": false}, {\"xref\": \"x1\", \"yref\": \"y1\", \"text\": \"1,1\", \"y\": 7.0, \"x\": -3.25, \"font\": {\"color\": \"rgb(250,250,250)\", \"size\": 10}, \"showarrow\": false}, {\"xref\": \"x1\", \"yref\": \"y1\", \"text\": \"2,1\", \"y\": 7.0, \"x\": 3.25, \"font\": {\"color\": \"rgb(250,250,250)\", \"size\": 10}, \"showarrow\": false}, {\"xref\": \"x1\", \"yref\": \"y1\", \"text\": \"3,2\", \"y\": 6.0, \"x\": -5.25, \"font\": {\"color\": \"rgb(250,250,250)\", \"size\": 10}, \"showarrow\": false}, {\"xref\": \"x1\", \"yref\": \"y1\", \"text\": \"4,2\", \"y\": 6.0, \"x\": -1.25, \"font\": {\"color\": \"rgb(250,250,250)\", \"size\": 10}, \"showarrow\": false}, {\"xref\": \"x1\", \"yref\": \"y1\", \"text\": \"5,2\", \"y\": 6.0, \"x\": 2.25, \"font\": {\"color\": \"rgb(250,250,250)\", \"size\": 10}, \"showarrow\": false}, {\"xref\": \"x1\", \"yref\": \"y1\", \"text\": \"6,2\", \"y\": 6.0, \"x\": 4.25, \"font\": {\"color\": \"rgb(250,250,250)\", \"size\": 10}, \"showarrow\": false}, {\"xref\": \"x1\", \"yref\": \"y1\", \"text\": \"7,3\", \"y\": 5.0, \"x\": -6.25, \"font\": {\"color\": \"rgb(250,250,250)\", \"size\": 10}, \"showarrow\": false}, {\"xref\": \"x1\", \"yref\": \"y1\", \"text\": \"8,3\", \"y\": 5.0, \"x\": -4.25, \"font\": {\"color\": \"rgb(250,250,250)\", \"size\": 10}, \"showarrow\": false}, {\"xref\": \"x1\", \"yref\": \"y1\", \"text\": \"9,3\", \"y\": 5.0, \"x\": -2.25, \"font\": {\"color\": \"rgb(250,250,250)\", \"size\": 10}, \"showarrow\": false}, {\"xref\": \"x1\", \"yref\": \"y1\", \"text\": \"10,3\", \"y\": 5.0, \"x\": -0.25, \"font\": {\"color\": \"rgb(250,250,250)\", \"size\": 10}, \"showarrow\": false}, {\"xref\": \"x1\", \"yref\": \"y1\", \"text\": \"11,3\", \"y\": 5.0, \"x\": 1.75, \"font\": {\"color\": \"rgb(250,250,250)\", \"size\": 10}, \"showarrow\": false}, {\"xref\": \"x1\", \"yref\": \"y1\", \"text\": \"12,3\", \"y\": 5.0, \"x\": 2.75, \"font\": {\"color\": \"rgb(250,250,250)\", \"size\": 10}, \"showarrow\": false}, {\"xref\": \"x1\", \"yref\": \"y1\", \"text\": \"13,3\", \"y\": 5.0, \"x\": 3.75, \"font\": {\"color\": \"rgb(250,250,250)\", \"size\": 10}, \"showarrow\": false}, {\"xref\": \"x1\", \"yref\": \"y1\", \"text\": \"14,3\", \"y\": 5.0, \"x\": 4.75, \"font\": {\"color\": \"rgb(250,250,250)\", \"size\": 10}, \"showarrow\": false}, {\"xref\": \"x1\", \"yref\": \"y1\", \"text\": \"15,4\", \"y\": 4.0, \"x\": -6.75, \"font\": {\"color\": \"rgb(250,250,250)\", \"size\": 10}, \"showarrow\": false}, {\"xref\": \"x1\", \"yref\": \"y1\", \"text\": \"16,4\", \"y\": 4.0, \"x\": -5.75, \"font\": {\"color\": \"rgb(250,250,250)\", \"size\": 10}, \"showarrow\": false}, {\"xref\": \"x1\", \"yref\": \"y1\", \"text\": \"17,4\", \"y\": 4.0, \"x\": -4.75, \"font\": {\"color\": \"rgb(250,250,250)\", \"size\": 10}, \"showarrow\": false}, {\"xref\": \"x1\", \"yref\": \"y1\", \"text\": \"18,4\", \"y\": 4.0, \"x\": -3.75, \"font\": {\"color\": \"rgb(250,250,250)\", \"size\": 10}, \"showarrow\": false}, {\"xref\": \"x1\", \"yref\": \"y1\", \"text\": \"19,4\", \"y\": 4.0, \"x\": -2.75, \"font\": {\"color\": \"rgb(250,250,250)\", \"size\": 10}, \"showarrow\": false}, {\"xref\": \"x1\", \"yref\": \"y1\", \"text\": \"20,4\", \"y\": 4.0, \"x\": -1.75, \"font\": {\"color\": \"rgb(250,250,250)\", \"size\": 10}, \"showarrow\": false}, {\"xref\": \"x1\", \"yref\": \"y1\", \"text\": \"21,4\", \"y\": 4.0, \"x\": -0.75, \"font\": {\"color\": \"rgb(250,250,250)\", \"size\": 10}, \"showarrow\": false}, {\"xref\": \"x1\", \"yref\": \"y1\", \"text\": \"22,4\", \"y\": 4.0, \"x\": 0.25, \"font\": {\"color\": \"rgb(250,250,250)\", \"size\": 10}, \"showarrow\": false}, {\"xref\": \"x1\", \"yref\": \"y1\", \"text\": \"23,4\", \"y\": 4.0, \"x\": 1.25, \"font\": {\"color\": \"rgb(250,250,250)\", \"size\": 10}, \"showarrow\": false}, {\"xref\": \"x1\", \"yref\": \"y1\", \"text\": \"24,4\", \"y\": 4.0, \"x\": 2.25, \"font\": {\"color\": \"rgb(250,250,250)\", \"size\": 10}, \"showarrow\": false}]}, {\"linkText\": \"Export to plot.ly\", \"showLink\": true})});</script>"
      ]
     },
     "metadata": {},
     "output_type": "display_data"
    },
    {
     "data": {
      "application/vnd.plotly.v1+json": {
       "data": [
        {
         "hoverinfo": "none",
         "line": {
          "color": "rgb(210,210,210)",
          "width": 1
         },
         "mode": "lines",
         "type": "scatter",
         "x": [
          0,
          -3.25,
          null,
          0,
          3.25,
          null,
          -3.25,
          -5.25,
          null,
          -3.25,
          -1.25,
          null,
          3.25,
          2.25,
          null,
          3.25,
          4.25,
          null,
          -5.25,
          -6.25,
          null,
          -5.25,
          -4.25,
          null,
          -1.25,
          -2.25,
          null,
          -1.25,
          -0.25,
          null,
          2.25,
          1.75,
          null,
          2.25,
          2.75,
          null,
          4.25,
          3.75,
          null,
          4.25,
          4.75,
          null,
          -6.25,
          -6.75,
          null,
          -6.25,
          -5.75,
          null,
          -4.25,
          -4.75,
          null,
          -4.25,
          -3.75,
          null,
          -2.25,
          -2.75,
          null,
          -2.25,
          -1.75,
          null,
          -0.25,
          -0.75,
          null,
          -0.25,
          0.25,
          null,
          1.75,
          1.25,
          null,
          1.75,
          2.25,
          null
         ],
         "y": [
          8,
          7,
          null,
          8,
          7,
          null,
          7,
          6,
          null,
          7,
          6,
          null,
          7,
          6,
          null,
          7,
          6,
          null,
          6,
          5,
          null,
          6,
          5,
          null,
          6,
          5,
          null,
          6,
          5,
          null,
          6,
          5,
          null,
          6,
          5,
          null,
          6,
          5,
          null,
          6,
          5,
          null,
          5,
          4,
          null,
          5,
          4,
          null,
          5,
          4,
          null,
          5,
          4,
          null,
          5,
          4,
          null,
          5,
          4,
          null,
          5,
          4,
          null,
          5,
          4,
          null,
          5,
          4,
          null,
          5,
          4,
          null
         ]
        },
        {
         "hoverinfo": "text",
         "marker": {
          "color": [
           "#989898",
           "#EE7600",
           "#6175c1",
           "#6175c1",
           "#DB4551",
           "#6175c1",
           "#6175c1",
           "#6175c1",
           "#6175c1",
           "#6175c1",
           "#6175c1",
           "#6175c1",
           "#6175c1",
           "#6175c1",
           "#6175c1",
           "#6175c1",
           "#6175c1",
           "#6175c1",
           "#6175c1",
           "#6175c1",
           "#6175c1",
           "#6175c1",
           "#6175c1",
           "#6175c1",
           "#6175c1"
          ],
          "line": {
           "color": "rgb(50,50,50)",
           "width": 1
          },
          "size": 35,
          "symbol": "dot"
         },
         "mode": "markers",
         "name": "",
         "opacity": 0.8,
         "text": [
          "article",
          "1,1",
          "2,1",
          "3,2",
          "4,2",
          "5,2",
          "6,2",
          "7,3",
          "8,3",
          "9,3",
          "10,3",
          "11,3",
          "12,3",
          "13,3",
          "14,3",
          "15,4",
          "16,4",
          "17,4",
          "18,4",
          "19,4",
          "20,4",
          "21,4",
          "22,4",
          "23,4",
          "24,4"
         ],
         "type": "scatter",
         "x": [
          0,
          -3.25,
          3.25,
          -5.25,
          -1.25,
          2.25,
          4.25,
          -6.25,
          -4.25,
          -2.25,
          -0.25,
          1.75,
          2.75,
          3.75,
          4.75,
          -6.75,
          -5.75,
          -4.75,
          -3.75,
          -2.75,
          -1.75,
          -0.75,
          0.25,
          1.25,
          2.25
         ],
         "y": [
          8,
          7,
          7,
          6,
          6,
          6,
          6,
          5,
          5,
          5,
          5,
          5,
          5,
          5,
          5,
          4,
          4,
          4,
          4,
          4,
          4,
          4,
          4,
          4,
          4
         ]
        }
       ],
       "layout": {
        "annotations": [
         {
          "font": {
           "color": "rgb(250,250,250)",
           "size": 10
          },
          "showarrow": false,
          "text": "article",
          "x": 0,
          "xref": "x1",
          "y": 8,
          "yref": "y1"
         },
         {
          "font": {
           "color": "rgb(250,250,250)",
           "size": 10
          },
          "showarrow": false,
          "text": "1,1",
          "x": -3.25,
          "xref": "x1",
          "y": 7,
          "yref": "y1"
         },
         {
          "font": {
           "color": "rgb(250,250,250)",
           "size": 10
          },
          "showarrow": false,
          "text": "2,1",
          "x": 3.25,
          "xref": "x1",
          "y": 7,
          "yref": "y1"
         },
         {
          "font": {
           "color": "rgb(250,250,250)",
           "size": 10
          },
          "showarrow": false,
          "text": "3,2",
          "x": -5.25,
          "xref": "x1",
          "y": 6,
          "yref": "y1"
         },
         {
          "font": {
           "color": "rgb(250,250,250)",
           "size": 10
          },
          "showarrow": false,
          "text": "4,2",
          "x": -1.25,
          "xref": "x1",
          "y": 6,
          "yref": "y1"
         },
         {
          "font": {
           "color": "rgb(250,250,250)",
           "size": 10
          },
          "showarrow": false,
          "text": "5,2",
          "x": 2.25,
          "xref": "x1",
          "y": 6,
          "yref": "y1"
         },
         {
          "font": {
           "color": "rgb(250,250,250)",
           "size": 10
          },
          "showarrow": false,
          "text": "6,2",
          "x": 4.25,
          "xref": "x1",
          "y": 6,
          "yref": "y1"
         },
         {
          "font": {
           "color": "rgb(250,250,250)",
           "size": 10
          },
          "showarrow": false,
          "text": "7,3",
          "x": -6.25,
          "xref": "x1",
          "y": 5,
          "yref": "y1"
         },
         {
          "font": {
           "color": "rgb(250,250,250)",
           "size": 10
          },
          "showarrow": false,
          "text": "8,3",
          "x": -4.25,
          "xref": "x1",
          "y": 5,
          "yref": "y1"
         },
         {
          "font": {
           "color": "rgb(250,250,250)",
           "size": 10
          },
          "showarrow": false,
          "text": "9,3",
          "x": -2.25,
          "xref": "x1",
          "y": 5,
          "yref": "y1"
         },
         {
          "font": {
           "color": "rgb(250,250,250)",
           "size": 10
          },
          "showarrow": false,
          "text": "10,3",
          "x": -0.25,
          "xref": "x1",
          "y": 5,
          "yref": "y1"
         },
         {
          "font": {
           "color": "rgb(250,250,250)",
           "size": 10
          },
          "showarrow": false,
          "text": "11,3",
          "x": 1.75,
          "xref": "x1",
          "y": 5,
          "yref": "y1"
         },
         {
          "font": {
           "color": "rgb(250,250,250)",
           "size": 10
          },
          "showarrow": false,
          "text": "12,3",
          "x": 2.75,
          "xref": "x1",
          "y": 5,
          "yref": "y1"
         },
         {
          "font": {
           "color": "rgb(250,250,250)",
           "size": 10
          },
          "showarrow": false,
          "text": "13,3",
          "x": 3.75,
          "xref": "x1",
          "y": 5,
          "yref": "y1"
         },
         {
          "font": {
           "color": "rgb(250,250,250)",
           "size": 10
          },
          "showarrow": false,
          "text": "14,3",
          "x": 4.75,
          "xref": "x1",
          "y": 5,
          "yref": "y1"
         },
         {
          "font": {
           "color": "rgb(250,250,250)",
           "size": 10
          },
          "showarrow": false,
          "text": "15,4",
          "x": -6.75,
          "xref": "x1",
          "y": 4,
          "yref": "y1"
         },
         {
          "font": {
           "color": "rgb(250,250,250)",
           "size": 10
          },
          "showarrow": false,
          "text": "16,4",
          "x": -5.75,
          "xref": "x1",
          "y": 4,
          "yref": "y1"
         },
         {
          "font": {
           "color": "rgb(250,250,250)",
           "size": 10
          },
          "showarrow": false,
          "text": "17,4",
          "x": -4.75,
          "xref": "x1",
          "y": 4,
          "yref": "y1"
         },
         {
          "font": {
           "color": "rgb(250,250,250)",
           "size": 10
          },
          "showarrow": false,
          "text": "18,4",
          "x": -3.75,
          "xref": "x1",
          "y": 4,
          "yref": "y1"
         },
         {
          "font": {
           "color": "rgb(250,250,250)",
           "size": 10
          },
          "showarrow": false,
          "text": "19,4",
          "x": -2.75,
          "xref": "x1",
          "y": 4,
          "yref": "y1"
         },
         {
          "font": {
           "color": "rgb(250,250,250)",
           "size": 10
          },
          "showarrow": false,
          "text": "20,4",
          "x": -1.75,
          "xref": "x1",
          "y": 4,
          "yref": "y1"
         },
         {
          "font": {
           "color": "rgb(250,250,250)",
           "size": 10
          },
          "showarrow": false,
          "text": "21,4",
          "x": -0.75,
          "xref": "x1",
          "y": 4,
          "yref": "y1"
         },
         {
          "font": {
           "color": "rgb(250,250,250)",
           "size": 10
          },
          "showarrow": false,
          "text": "22,4",
          "x": 0.25,
          "xref": "x1",
          "y": 4,
          "yref": "y1"
         },
         {
          "font": {
           "color": "rgb(250,250,250)",
           "size": 10
          },
          "showarrow": false,
          "text": "23,4",
          "x": 1.25,
          "xref": "x1",
          "y": 4,
          "yref": "y1"
         },
         {
          "font": {
           "color": "rgb(250,250,250)",
           "size": 10
          },
          "showarrow": false,
          "text": "24,4",
          "x": 2.25,
          "xref": "x1",
          "y": 4,
          "yref": "y1"
         }
        ],
        "font": {
         "size": 12
        },
        "hovermode": "closest",
        "margin": {
         "b": 85,
         "l": 40,
         "r": 40,
         "t": 100
        },
        "plot_bgcolor": "rgb(248,248,248)",
        "showlegend": false,
        "title": "<thr> <com> 1 </com> <com> 4 </com> </thr>",
        "xaxis": {
         "showgrid": false,
         "showline": false,
         "showticklabels": false,
         "zeroline": false
        },
        "yaxis": {
         "showgrid": false,
         "showline": false,
         "showticklabels": false,
         "zeroline": false
        }
       }
      },
      "text/html": [
       "<div id=\"c974a617-4c7a-4540-b84c-023cf19d439c\" style=\"height: 525px; width: 100%;\" class=\"plotly-graph-div\"></div><script type=\"text/javascript\">require([\"plotly\"], function(Plotly) { window.PLOTLYENV=window.PLOTLYENV || {};window.PLOTLYENV.BASE_URL=\"https://plot.ly\";Plotly.newPlot(\"c974a617-4c7a-4540-b84c-023cf19d439c\", [{\"mode\": \"lines\", \"hoverinfo\": \"none\", \"y\": [8.0, 7.0, null, 8.0, 7.0, null, 7.0, 6.0, null, 7.0, 6.0, null, 7.0, 6.0, null, 7.0, 6.0, null, 6.0, 5.0, null, 6.0, 5.0, null, 6.0, 5.0, null, 6.0, 5.0, null, 6.0, 5.0, null, 6.0, 5.0, null, 6.0, 5.0, null, 6.0, 5.0, null, 5.0, 4.0, null, 5.0, 4.0, null, 5.0, 4.0, null, 5.0, 4.0, null, 5.0, 4.0, null, 5.0, 4.0, null, 5.0, 4.0, null, 5.0, 4.0, null, 5.0, 4.0, null, 5.0, 4.0, null], \"x\": [0.0, -3.25, null, 0.0, 3.25, null, -3.25, -5.25, null, -3.25, -1.25, null, 3.25, 2.25, null, 3.25, 4.25, null, -5.25, -6.25, null, -5.25, -4.25, null, -1.25, -2.25, null, -1.25, -0.25, null, 2.25, 1.75, null, 2.25, 2.75, null, 4.25, 3.75, null, 4.25, 4.75, null, -6.25, -6.75, null, -6.25, -5.75, null, -4.25, -4.75, null, -4.25, -3.75, null, -2.25, -2.75, null, -2.25, -1.75, null, -0.25, -0.75, null, -0.25, 0.25, null, 1.75, 1.25, null, 1.75, 2.25, null], \"line\": {\"color\": \"rgb(210,210,210)\", \"width\": 1}, \"type\": \"scatter\"}, {\"opacity\": 0.8, \"name\": \"\", \"text\": [\"article\", \"1,1\", \"2,1\", \"3,2\", \"4,2\", \"5,2\", \"6,2\", \"7,3\", \"8,3\", \"9,3\", \"10,3\", \"11,3\", \"12,3\", \"13,3\", \"14,3\", \"15,4\", \"16,4\", \"17,4\", \"18,4\", \"19,4\", \"20,4\", \"21,4\", \"22,4\", \"23,4\", \"24,4\"], \"marker\": {\"color\": [\"#989898\", \"#EE7600\", \"#6175c1\", \"#6175c1\", \"#DB4551\", \"#6175c1\", \"#6175c1\", \"#6175c1\", \"#6175c1\", \"#6175c1\", \"#6175c1\", \"#6175c1\", \"#6175c1\", \"#6175c1\", \"#6175c1\", \"#6175c1\", \"#6175c1\", \"#6175c1\", \"#6175c1\", \"#6175c1\", \"#6175c1\", \"#6175c1\", \"#6175c1\", \"#6175c1\", \"#6175c1\"], \"line\": {\"color\": \"rgb(50,50,50)\", \"width\": 1}, \"symbol\": \"dot\", \"size\": 35}, \"mode\": \"markers\", \"hoverinfo\": \"text\", \"y\": [8.0, 7.0, 7.0, 6.0, 6.0, 6.0, 6.0, 5.0, 5.0, 5.0, 5.0, 5.0, 5.0, 5.0, 5.0, 4.0, 4.0, 4.0, 4.0, 4.0, 4.0, 4.0, 4.0, 4.0, 4.0], \"x\": [0.0, -3.25, 3.25, -5.25, -1.25, 2.25, 4.25, -6.25, -4.25, -2.25, -0.25, 1.75, 2.75, 3.75, 4.75, -6.75, -5.75, -4.75, -3.75, -2.75, -1.75, -0.75, 0.25, 1.25, 2.25], \"type\": \"scatter\"}], {\"showlegend\": false, \"title\": \"<thr> <com> 1 </com> <com> 4 </com> </thr>\", \"plot_bgcolor\": \"rgb(248,248,248)\", \"yaxis\": {\"zeroline\": false, \"showline\": false, \"showticklabels\": false, \"showgrid\": false}, \"xaxis\": {\"zeroline\": false, \"showline\": false, \"showticklabels\": false, \"showgrid\": false}, \"hovermode\": \"closest\", \"font\": {\"size\": 12}, \"margin\": {\"r\": 40, \"b\": 85, \"t\": 100, \"l\": 40}, \"annotations\": [{\"xref\": \"x1\", \"yref\": \"y1\", \"text\": \"article\", \"y\": 8.0, \"x\": 0.0, \"font\": {\"color\": \"rgb(250,250,250)\", \"size\": 10}, \"showarrow\": false}, {\"xref\": \"x1\", \"yref\": \"y1\", \"text\": \"1,1\", \"y\": 7.0, \"x\": -3.25, \"font\": {\"color\": \"rgb(250,250,250)\", \"size\": 10}, \"showarrow\": false}, {\"xref\": \"x1\", \"yref\": \"y1\", \"text\": \"2,1\", \"y\": 7.0, \"x\": 3.25, \"font\": {\"color\": \"rgb(250,250,250)\", \"size\": 10}, \"showarrow\": false}, {\"xref\": \"x1\", \"yref\": \"y1\", \"text\": \"3,2\", \"y\": 6.0, \"x\": -5.25, \"font\": {\"color\": \"rgb(250,250,250)\", \"size\": 10}, \"showarrow\": false}, {\"xref\": \"x1\", \"yref\": \"y1\", \"text\": \"4,2\", \"y\": 6.0, \"x\": -1.25, \"font\": {\"color\": \"rgb(250,250,250)\", \"size\": 10}, \"showarrow\": false}, {\"xref\": \"x1\", \"yref\": \"y1\", \"text\": \"5,2\", \"y\": 6.0, \"x\": 2.25, \"font\": {\"color\": \"rgb(250,250,250)\", \"size\": 10}, \"showarrow\": false}, {\"xref\": \"x1\", \"yref\": \"y1\", \"text\": \"6,2\", \"y\": 6.0, \"x\": 4.25, \"font\": {\"color\": \"rgb(250,250,250)\", \"size\": 10}, \"showarrow\": false}, {\"xref\": \"x1\", \"yref\": \"y1\", \"text\": \"7,3\", \"y\": 5.0, \"x\": -6.25, \"font\": {\"color\": \"rgb(250,250,250)\", \"size\": 10}, \"showarrow\": false}, {\"xref\": \"x1\", \"yref\": \"y1\", \"text\": \"8,3\", \"y\": 5.0, \"x\": -4.25, \"font\": {\"color\": \"rgb(250,250,250)\", \"size\": 10}, \"showarrow\": false}, {\"xref\": \"x1\", \"yref\": \"y1\", \"text\": \"9,3\", \"y\": 5.0, \"x\": -2.25, \"font\": {\"color\": \"rgb(250,250,250)\", \"size\": 10}, \"showarrow\": false}, {\"xref\": \"x1\", \"yref\": \"y1\", \"text\": \"10,3\", \"y\": 5.0, \"x\": -0.25, \"font\": {\"color\": \"rgb(250,250,250)\", \"size\": 10}, \"showarrow\": false}, {\"xref\": \"x1\", \"yref\": \"y1\", \"text\": \"11,3\", \"y\": 5.0, \"x\": 1.75, \"font\": {\"color\": \"rgb(250,250,250)\", \"size\": 10}, \"showarrow\": false}, {\"xref\": \"x1\", \"yref\": \"y1\", \"text\": \"12,3\", \"y\": 5.0, \"x\": 2.75, \"font\": {\"color\": \"rgb(250,250,250)\", \"size\": 10}, \"showarrow\": false}, {\"xref\": \"x1\", \"yref\": \"y1\", \"text\": \"13,3\", \"y\": 5.0, \"x\": 3.75, \"font\": {\"color\": \"rgb(250,250,250)\", \"size\": 10}, \"showarrow\": false}, {\"xref\": \"x1\", \"yref\": \"y1\", \"text\": \"14,3\", \"y\": 5.0, \"x\": 4.75, \"font\": {\"color\": \"rgb(250,250,250)\", \"size\": 10}, \"showarrow\": false}, {\"xref\": \"x1\", \"yref\": \"y1\", \"text\": \"15,4\", \"y\": 4.0, \"x\": -6.75, \"font\": {\"color\": \"rgb(250,250,250)\", \"size\": 10}, \"showarrow\": false}, {\"xref\": \"x1\", \"yref\": \"y1\", \"text\": \"16,4\", \"y\": 4.0, \"x\": -5.75, \"font\": {\"color\": \"rgb(250,250,250)\", \"size\": 10}, \"showarrow\": false}, {\"xref\": \"x1\", \"yref\": \"y1\", \"text\": \"17,4\", \"y\": 4.0, \"x\": -4.75, \"font\": {\"color\": \"rgb(250,250,250)\", \"size\": 10}, \"showarrow\": false}, {\"xref\": \"x1\", \"yref\": \"y1\", \"text\": \"18,4\", \"y\": 4.0, \"x\": -3.75, \"font\": {\"color\": \"rgb(250,250,250)\", \"size\": 10}, \"showarrow\": false}, {\"xref\": \"x1\", \"yref\": \"y1\", \"text\": \"19,4\", \"y\": 4.0, \"x\": -2.75, \"font\": {\"color\": \"rgb(250,250,250)\", \"size\": 10}, \"showarrow\": false}, {\"xref\": \"x1\", \"yref\": \"y1\", \"text\": \"20,4\", \"y\": 4.0, \"x\": -1.75, \"font\": {\"color\": \"rgb(250,250,250)\", \"size\": 10}, \"showarrow\": false}, {\"xref\": \"x1\", \"yref\": \"y1\", \"text\": \"21,4\", \"y\": 4.0, \"x\": -0.75, \"font\": {\"color\": \"rgb(250,250,250)\", \"size\": 10}, \"showarrow\": false}, {\"xref\": \"x1\", \"yref\": \"y1\", \"text\": \"22,4\", \"y\": 4.0, \"x\": 0.25, \"font\": {\"color\": \"rgb(250,250,250)\", \"size\": 10}, \"showarrow\": false}, {\"xref\": \"x1\", \"yref\": \"y1\", \"text\": \"23,4\", \"y\": 4.0, \"x\": 1.25, \"font\": {\"color\": \"rgb(250,250,250)\", \"size\": 10}, \"showarrow\": false}, {\"xref\": \"x1\", \"yref\": \"y1\", \"text\": \"24,4\", \"y\": 4.0, \"x\": 2.25, \"font\": {\"color\": \"rgb(250,250,250)\", \"size\": 10}, \"showarrow\": false}]}, {\"linkText\": \"Export to plot.ly\", \"showLink\": true})});</script>"
      ],
      "text/vnd.plotly.v1+html": [
       "<div id=\"c974a617-4c7a-4540-b84c-023cf19d439c\" style=\"height: 525px; width: 100%;\" class=\"plotly-graph-div\"></div><script type=\"text/javascript\">require([\"plotly\"], function(Plotly) { window.PLOTLYENV=window.PLOTLYENV || {};window.PLOTLYENV.BASE_URL=\"https://plot.ly\";Plotly.newPlot(\"c974a617-4c7a-4540-b84c-023cf19d439c\", [{\"mode\": \"lines\", \"hoverinfo\": \"none\", \"y\": [8.0, 7.0, null, 8.0, 7.0, null, 7.0, 6.0, null, 7.0, 6.0, null, 7.0, 6.0, null, 7.0, 6.0, null, 6.0, 5.0, null, 6.0, 5.0, null, 6.0, 5.0, null, 6.0, 5.0, null, 6.0, 5.0, null, 6.0, 5.0, null, 6.0, 5.0, null, 6.0, 5.0, null, 5.0, 4.0, null, 5.0, 4.0, null, 5.0, 4.0, null, 5.0, 4.0, null, 5.0, 4.0, null, 5.0, 4.0, null, 5.0, 4.0, null, 5.0, 4.0, null, 5.0, 4.0, null, 5.0, 4.0, null], \"x\": [0.0, -3.25, null, 0.0, 3.25, null, -3.25, -5.25, null, -3.25, -1.25, null, 3.25, 2.25, null, 3.25, 4.25, null, -5.25, -6.25, null, -5.25, -4.25, null, -1.25, -2.25, null, -1.25, -0.25, null, 2.25, 1.75, null, 2.25, 2.75, null, 4.25, 3.75, null, 4.25, 4.75, null, -6.25, -6.75, null, -6.25, -5.75, null, -4.25, -4.75, null, -4.25, -3.75, null, -2.25, -2.75, null, -2.25, -1.75, null, -0.25, -0.75, null, -0.25, 0.25, null, 1.75, 1.25, null, 1.75, 2.25, null], \"line\": {\"color\": \"rgb(210,210,210)\", \"width\": 1}, \"type\": \"scatter\"}, {\"opacity\": 0.8, \"name\": \"\", \"text\": [\"article\", \"1,1\", \"2,1\", \"3,2\", \"4,2\", \"5,2\", \"6,2\", \"7,3\", \"8,3\", \"9,3\", \"10,3\", \"11,3\", \"12,3\", \"13,3\", \"14,3\", \"15,4\", \"16,4\", \"17,4\", \"18,4\", \"19,4\", \"20,4\", \"21,4\", \"22,4\", \"23,4\", \"24,4\"], \"marker\": {\"color\": [\"#989898\", \"#EE7600\", \"#6175c1\", \"#6175c1\", \"#DB4551\", \"#6175c1\", \"#6175c1\", \"#6175c1\", \"#6175c1\", \"#6175c1\", \"#6175c1\", \"#6175c1\", \"#6175c1\", \"#6175c1\", \"#6175c1\", \"#6175c1\", \"#6175c1\", \"#6175c1\", \"#6175c1\", \"#6175c1\", \"#6175c1\", \"#6175c1\", \"#6175c1\", \"#6175c1\", \"#6175c1\"], \"line\": {\"color\": \"rgb(50,50,50)\", \"width\": 1}, \"symbol\": \"dot\", \"size\": 35}, \"mode\": \"markers\", \"hoverinfo\": \"text\", \"y\": [8.0, 7.0, 7.0, 6.0, 6.0, 6.0, 6.0, 5.0, 5.0, 5.0, 5.0, 5.0, 5.0, 5.0, 5.0, 4.0, 4.0, 4.0, 4.0, 4.0, 4.0, 4.0, 4.0, 4.0, 4.0], \"x\": [0.0, -3.25, 3.25, -5.25, -1.25, 2.25, 4.25, -6.25, -4.25, -2.25, -0.25, 1.75, 2.75, 3.75, 4.75, -6.75, -5.75, -4.75, -3.75, -2.75, -1.75, -0.75, 0.25, 1.25, 2.25], \"type\": \"scatter\"}], {\"showlegend\": false, \"title\": \"<thr> <com> 1 </com> <com> 4 </com> </thr>\", \"plot_bgcolor\": \"rgb(248,248,248)\", \"yaxis\": {\"zeroline\": false, \"showline\": false, \"showticklabels\": false, \"showgrid\": false}, \"xaxis\": {\"zeroline\": false, \"showline\": false, \"showticklabels\": false, \"showgrid\": false}, \"hovermode\": \"closest\", \"font\": {\"size\": 12}, \"margin\": {\"r\": 40, \"b\": 85, \"t\": 100, \"l\": 40}, \"annotations\": [{\"xref\": \"x1\", \"yref\": \"y1\", \"text\": \"article\", \"y\": 8.0, \"x\": 0.0, \"font\": {\"color\": \"rgb(250,250,250)\", \"size\": 10}, \"showarrow\": false}, {\"xref\": \"x1\", \"yref\": \"y1\", \"text\": \"1,1\", \"y\": 7.0, \"x\": -3.25, \"font\": {\"color\": \"rgb(250,250,250)\", \"size\": 10}, \"showarrow\": false}, {\"xref\": \"x1\", \"yref\": \"y1\", \"text\": \"2,1\", \"y\": 7.0, \"x\": 3.25, \"font\": {\"color\": \"rgb(250,250,250)\", \"size\": 10}, \"showarrow\": false}, {\"xref\": \"x1\", \"yref\": \"y1\", \"text\": \"3,2\", \"y\": 6.0, \"x\": -5.25, \"font\": {\"color\": \"rgb(250,250,250)\", \"size\": 10}, \"showarrow\": false}, {\"xref\": \"x1\", \"yref\": \"y1\", \"text\": \"4,2\", \"y\": 6.0, \"x\": -1.25, \"font\": {\"color\": \"rgb(250,250,250)\", \"size\": 10}, \"showarrow\": false}, {\"xref\": \"x1\", \"yref\": \"y1\", \"text\": \"5,2\", \"y\": 6.0, \"x\": 2.25, \"font\": {\"color\": \"rgb(250,250,250)\", \"size\": 10}, \"showarrow\": false}, {\"xref\": \"x1\", \"yref\": \"y1\", \"text\": \"6,2\", \"y\": 6.0, \"x\": 4.25, \"font\": {\"color\": \"rgb(250,250,250)\", \"size\": 10}, \"showarrow\": false}, {\"xref\": \"x1\", \"yref\": \"y1\", \"text\": \"7,3\", \"y\": 5.0, \"x\": -6.25, \"font\": {\"color\": \"rgb(250,250,250)\", \"size\": 10}, \"showarrow\": false}, {\"xref\": \"x1\", \"yref\": \"y1\", \"text\": \"8,3\", \"y\": 5.0, \"x\": -4.25, \"font\": {\"color\": \"rgb(250,250,250)\", \"size\": 10}, \"showarrow\": false}, {\"xref\": \"x1\", \"yref\": \"y1\", \"text\": \"9,3\", \"y\": 5.0, \"x\": -2.25, \"font\": {\"color\": \"rgb(250,250,250)\", \"size\": 10}, \"showarrow\": false}, {\"xref\": \"x1\", \"yref\": \"y1\", \"text\": \"10,3\", \"y\": 5.0, \"x\": -0.25, \"font\": {\"color\": \"rgb(250,250,250)\", \"size\": 10}, \"showarrow\": false}, {\"xref\": \"x1\", \"yref\": \"y1\", \"text\": \"11,3\", \"y\": 5.0, \"x\": 1.75, \"font\": {\"color\": \"rgb(250,250,250)\", \"size\": 10}, \"showarrow\": false}, {\"xref\": \"x1\", \"yref\": \"y1\", \"text\": \"12,3\", \"y\": 5.0, \"x\": 2.75, \"font\": {\"color\": \"rgb(250,250,250)\", \"size\": 10}, \"showarrow\": false}, {\"xref\": \"x1\", \"yref\": \"y1\", \"text\": \"13,3\", \"y\": 5.0, \"x\": 3.75, \"font\": {\"color\": \"rgb(250,250,250)\", \"size\": 10}, \"showarrow\": false}, {\"xref\": \"x1\", \"yref\": \"y1\", \"text\": \"14,3\", \"y\": 5.0, \"x\": 4.75, \"font\": {\"color\": \"rgb(250,250,250)\", \"size\": 10}, \"showarrow\": false}, {\"xref\": \"x1\", \"yref\": \"y1\", \"text\": \"15,4\", \"y\": 4.0, \"x\": -6.75, \"font\": {\"color\": \"rgb(250,250,250)\", \"size\": 10}, \"showarrow\": false}, {\"xref\": \"x1\", \"yref\": \"y1\", \"text\": \"16,4\", \"y\": 4.0, \"x\": -5.75, \"font\": {\"color\": \"rgb(250,250,250)\", \"size\": 10}, \"showarrow\": false}, {\"xref\": \"x1\", \"yref\": \"y1\", \"text\": \"17,4\", \"y\": 4.0, \"x\": -4.75, \"font\": {\"color\": \"rgb(250,250,250)\", \"size\": 10}, \"showarrow\": false}, {\"xref\": \"x1\", \"yref\": \"y1\", \"text\": \"18,4\", \"y\": 4.0, \"x\": -3.75, \"font\": {\"color\": \"rgb(250,250,250)\", \"size\": 10}, \"showarrow\": false}, {\"xref\": \"x1\", \"yref\": \"y1\", \"text\": \"19,4\", \"y\": 4.0, \"x\": -2.75, \"font\": {\"color\": \"rgb(250,250,250)\", \"size\": 10}, \"showarrow\": false}, {\"xref\": \"x1\", \"yref\": \"y1\", \"text\": \"20,4\", \"y\": 4.0, \"x\": -1.75, \"font\": {\"color\": \"rgb(250,250,250)\", \"size\": 10}, \"showarrow\": false}, {\"xref\": \"x1\", \"yref\": \"y1\", \"text\": \"21,4\", \"y\": 4.0, \"x\": -0.75, \"font\": {\"color\": \"rgb(250,250,250)\", \"size\": 10}, \"showarrow\": false}, {\"xref\": \"x1\", \"yref\": \"y1\", \"text\": \"22,4\", \"y\": 4.0, \"x\": 0.25, \"font\": {\"color\": \"rgb(250,250,250)\", \"size\": 10}, \"showarrow\": false}, {\"xref\": \"x1\", \"yref\": \"y1\", \"text\": \"23,4\", \"y\": 4.0, \"x\": 1.25, \"font\": {\"color\": \"rgb(250,250,250)\", \"size\": 10}, \"showarrow\": false}, {\"xref\": \"x1\", \"yref\": \"y1\", \"text\": \"24,4\", \"y\": 4.0, \"x\": 2.25, \"font\": {\"color\": \"rgb(250,250,250)\", \"size\": 10}, \"showarrow\": false}]}, {\"linkText\": \"Export to plot.ly\", \"showLink\": true})});</script>"
      ]
     },
     "metadata": {},
     "output_type": "display_data"
    },
    {
     "data": {
      "application/vnd.plotly.v1+json": {
       "data": [
        {
         "hoverinfo": "none",
         "line": {
          "color": "rgb(210,210,210)",
          "width": 1
         },
         "mode": "lines",
         "type": "scatter",
         "x": [
          0,
          -3.25,
          null,
          0,
          3.25,
          null,
          -3.25,
          -5.25,
          null,
          -3.25,
          -1.25,
          null,
          3.25,
          2.25,
          null,
          3.25,
          4.25,
          null,
          -5.25,
          -6.25,
          null,
          -5.25,
          -4.25,
          null,
          -1.25,
          -2.25,
          null,
          -1.25,
          -0.25,
          null,
          2.25,
          1.75,
          null,
          2.25,
          2.75,
          null,
          4.25,
          3.75,
          null,
          4.25,
          4.75,
          null,
          -6.25,
          -6.75,
          null,
          -6.25,
          -5.75,
          null,
          -4.25,
          -4.75,
          null,
          -4.25,
          -3.75,
          null,
          -2.25,
          -2.75,
          null,
          -2.25,
          -1.75,
          null,
          -0.25,
          -0.75,
          null,
          -0.25,
          0.25,
          null,
          1.75,
          1.25,
          null,
          1.75,
          2.25,
          null
         ],
         "y": [
          8,
          7,
          null,
          8,
          7,
          null,
          7,
          6,
          null,
          7,
          6,
          null,
          7,
          6,
          null,
          7,
          6,
          null,
          6,
          5,
          null,
          6,
          5,
          null,
          6,
          5,
          null,
          6,
          5,
          null,
          6,
          5,
          null,
          6,
          5,
          null,
          6,
          5,
          null,
          6,
          5,
          null,
          5,
          4,
          null,
          5,
          4,
          null,
          5,
          4,
          null,
          5,
          4,
          null,
          5,
          4,
          null,
          5,
          4,
          null,
          5,
          4,
          null,
          5,
          4,
          null,
          5,
          4,
          null,
          5,
          4,
          null
         ]
        },
        {
         "hoverinfo": "text",
         "marker": {
          "color": [
           "#989898",
           "#6175c1",
           "#EE7600",
           "#6175c1",
           "#6175c1",
           "#DB4551",
           "#6175c1",
           "#6175c1",
           "#6175c1",
           "#6175c1",
           "#6175c1",
           "#6175c1",
           "#6175c1",
           "#6175c1",
           "#6175c1",
           "#6175c1",
           "#6175c1",
           "#6175c1",
           "#6175c1",
           "#6175c1",
           "#6175c1",
           "#6175c1",
           "#6175c1",
           "#6175c1",
           "#6175c1"
          ],
          "line": {
           "color": "rgb(50,50,50)",
           "width": 1
          },
          "size": 35,
          "symbol": "dot"
         },
         "mode": "markers",
         "name": "",
         "opacity": 0.8,
         "text": [
          "article",
          "1,1",
          "2,1",
          "3,2",
          "4,2",
          "5,2",
          "6,2",
          "7,3",
          "8,3",
          "9,3",
          "10,3",
          "11,3",
          "12,3",
          "13,3",
          "14,3",
          "15,4",
          "16,4",
          "17,4",
          "18,4",
          "19,4",
          "20,4",
          "21,4",
          "22,4",
          "23,4",
          "24,4"
         ],
         "type": "scatter",
         "x": [
          0,
          -3.25,
          3.25,
          -5.25,
          -1.25,
          2.25,
          4.25,
          -6.25,
          -4.25,
          -2.25,
          -0.25,
          1.75,
          2.75,
          3.75,
          4.75,
          -6.75,
          -5.75,
          -4.75,
          -3.75,
          -2.75,
          -1.75,
          -0.75,
          0.25,
          1.25,
          2.25
         ],
         "y": [
          8,
          7,
          7,
          6,
          6,
          6,
          6,
          5,
          5,
          5,
          5,
          5,
          5,
          5,
          5,
          4,
          4,
          4,
          4,
          4,
          4,
          4,
          4,
          4,
          4
         ]
        }
       ],
       "layout": {
        "annotations": [
         {
          "font": {
           "color": "rgb(250,250,250)",
           "size": 10
          },
          "showarrow": false,
          "text": "article",
          "x": 0,
          "xref": "x1",
          "y": 8,
          "yref": "y1"
         },
         {
          "font": {
           "color": "rgb(250,250,250)",
           "size": 10
          },
          "showarrow": false,
          "text": "1,1",
          "x": -3.25,
          "xref": "x1",
          "y": 7,
          "yref": "y1"
         },
         {
          "font": {
           "color": "rgb(250,250,250)",
           "size": 10
          },
          "showarrow": false,
          "text": "2,1",
          "x": 3.25,
          "xref": "x1",
          "y": 7,
          "yref": "y1"
         },
         {
          "font": {
           "color": "rgb(250,250,250)",
           "size": 10
          },
          "showarrow": false,
          "text": "3,2",
          "x": -5.25,
          "xref": "x1",
          "y": 6,
          "yref": "y1"
         },
         {
          "font": {
           "color": "rgb(250,250,250)",
           "size": 10
          },
          "showarrow": false,
          "text": "4,2",
          "x": -1.25,
          "xref": "x1",
          "y": 6,
          "yref": "y1"
         },
         {
          "font": {
           "color": "rgb(250,250,250)",
           "size": 10
          },
          "showarrow": false,
          "text": "5,2",
          "x": 2.25,
          "xref": "x1",
          "y": 6,
          "yref": "y1"
         },
         {
          "font": {
           "color": "rgb(250,250,250)",
           "size": 10
          },
          "showarrow": false,
          "text": "6,2",
          "x": 4.25,
          "xref": "x1",
          "y": 6,
          "yref": "y1"
         },
         {
          "font": {
           "color": "rgb(250,250,250)",
           "size": 10
          },
          "showarrow": false,
          "text": "7,3",
          "x": -6.25,
          "xref": "x1",
          "y": 5,
          "yref": "y1"
         },
         {
          "font": {
           "color": "rgb(250,250,250)",
           "size": 10
          },
          "showarrow": false,
          "text": "8,3",
          "x": -4.25,
          "xref": "x1",
          "y": 5,
          "yref": "y1"
         },
         {
          "font": {
           "color": "rgb(250,250,250)",
           "size": 10
          },
          "showarrow": false,
          "text": "9,3",
          "x": -2.25,
          "xref": "x1",
          "y": 5,
          "yref": "y1"
         },
         {
          "font": {
           "color": "rgb(250,250,250)",
           "size": 10
          },
          "showarrow": false,
          "text": "10,3",
          "x": -0.25,
          "xref": "x1",
          "y": 5,
          "yref": "y1"
         },
         {
          "font": {
           "color": "rgb(250,250,250)",
           "size": 10
          },
          "showarrow": false,
          "text": "11,3",
          "x": 1.75,
          "xref": "x1",
          "y": 5,
          "yref": "y1"
         },
         {
          "font": {
           "color": "rgb(250,250,250)",
           "size": 10
          },
          "showarrow": false,
          "text": "12,3",
          "x": 2.75,
          "xref": "x1",
          "y": 5,
          "yref": "y1"
         },
         {
          "font": {
           "color": "rgb(250,250,250)",
           "size": 10
          },
          "showarrow": false,
          "text": "13,3",
          "x": 3.75,
          "xref": "x1",
          "y": 5,
          "yref": "y1"
         },
         {
          "font": {
           "color": "rgb(250,250,250)",
           "size": 10
          },
          "showarrow": false,
          "text": "14,3",
          "x": 4.75,
          "xref": "x1",
          "y": 5,
          "yref": "y1"
         },
         {
          "font": {
           "color": "rgb(250,250,250)",
           "size": 10
          },
          "showarrow": false,
          "text": "15,4",
          "x": -6.75,
          "xref": "x1",
          "y": 4,
          "yref": "y1"
         },
         {
          "font": {
           "color": "rgb(250,250,250)",
           "size": 10
          },
          "showarrow": false,
          "text": "16,4",
          "x": -5.75,
          "xref": "x1",
          "y": 4,
          "yref": "y1"
         },
         {
          "font": {
           "color": "rgb(250,250,250)",
           "size": 10
          },
          "showarrow": false,
          "text": "17,4",
          "x": -4.75,
          "xref": "x1",
          "y": 4,
          "yref": "y1"
         },
         {
          "font": {
           "color": "rgb(250,250,250)",
           "size": 10
          },
          "showarrow": false,
          "text": "18,4",
          "x": -3.75,
          "xref": "x1",
          "y": 4,
          "yref": "y1"
         },
         {
          "font": {
           "color": "rgb(250,250,250)",
           "size": 10
          },
          "showarrow": false,
          "text": "19,4",
          "x": -2.75,
          "xref": "x1",
          "y": 4,
          "yref": "y1"
         },
         {
          "font": {
           "color": "rgb(250,250,250)",
           "size": 10
          },
          "showarrow": false,
          "text": "20,4",
          "x": -1.75,
          "xref": "x1",
          "y": 4,
          "yref": "y1"
         },
         {
          "font": {
           "color": "rgb(250,250,250)",
           "size": 10
          },
          "showarrow": false,
          "text": "21,4",
          "x": -0.75,
          "xref": "x1",
          "y": 4,
          "yref": "y1"
         },
         {
          "font": {
           "color": "rgb(250,250,250)",
           "size": 10
          },
          "showarrow": false,
          "text": "22,4",
          "x": 0.25,
          "xref": "x1",
          "y": 4,
          "yref": "y1"
         },
         {
          "font": {
           "color": "rgb(250,250,250)",
           "size": 10
          },
          "showarrow": false,
          "text": "23,4",
          "x": 1.25,
          "xref": "x1",
          "y": 4,
          "yref": "y1"
         },
         {
          "font": {
           "color": "rgb(250,250,250)",
           "size": 10
          },
          "showarrow": false,
          "text": "24,4",
          "x": 2.25,
          "xref": "x1",
          "y": 4,
          "yref": "y1"
         }
        ],
        "font": {
         "size": 12
        },
        "hovermode": "closest",
        "margin": {
         "b": 85,
         "l": 40,
         "r": 40,
         "t": 100
        },
        "plot_bgcolor": "rgb(248,248,248)",
        "showlegend": false,
        "title": "<thr> <com> 2 </com> <com> 5 </com> </thr>",
        "xaxis": {
         "showgrid": false,
         "showline": false,
         "showticklabels": false,
         "zeroline": false
        },
        "yaxis": {
         "showgrid": false,
         "showline": false,
         "showticklabels": false,
         "zeroline": false
        }
       }
      },
      "text/html": [
       "<div id=\"a285eeb3-b050-4efd-aa51-3b74e126b302\" style=\"height: 525px; width: 100%;\" class=\"plotly-graph-div\"></div><script type=\"text/javascript\">require([\"plotly\"], function(Plotly) { window.PLOTLYENV=window.PLOTLYENV || {};window.PLOTLYENV.BASE_URL=\"https://plot.ly\";Plotly.newPlot(\"a285eeb3-b050-4efd-aa51-3b74e126b302\", [{\"mode\": \"lines\", \"hoverinfo\": \"none\", \"y\": [8.0, 7.0, null, 8.0, 7.0, null, 7.0, 6.0, null, 7.0, 6.0, null, 7.0, 6.0, null, 7.0, 6.0, null, 6.0, 5.0, null, 6.0, 5.0, null, 6.0, 5.0, null, 6.0, 5.0, null, 6.0, 5.0, null, 6.0, 5.0, null, 6.0, 5.0, null, 6.0, 5.0, null, 5.0, 4.0, null, 5.0, 4.0, null, 5.0, 4.0, null, 5.0, 4.0, null, 5.0, 4.0, null, 5.0, 4.0, null, 5.0, 4.0, null, 5.0, 4.0, null, 5.0, 4.0, null, 5.0, 4.0, null], \"x\": [0.0, -3.25, null, 0.0, 3.25, null, -3.25, -5.25, null, -3.25, -1.25, null, 3.25, 2.25, null, 3.25, 4.25, null, -5.25, -6.25, null, -5.25, -4.25, null, -1.25, -2.25, null, -1.25, -0.25, null, 2.25, 1.75, null, 2.25, 2.75, null, 4.25, 3.75, null, 4.25, 4.75, null, -6.25, -6.75, null, -6.25, -5.75, null, -4.25, -4.75, null, -4.25, -3.75, null, -2.25, -2.75, null, -2.25, -1.75, null, -0.25, -0.75, null, -0.25, 0.25, null, 1.75, 1.25, null, 1.75, 2.25, null], \"line\": {\"color\": \"rgb(210,210,210)\", \"width\": 1}, \"type\": \"scatter\"}, {\"opacity\": 0.8, \"name\": \"\", \"text\": [\"article\", \"1,1\", \"2,1\", \"3,2\", \"4,2\", \"5,2\", \"6,2\", \"7,3\", \"8,3\", \"9,3\", \"10,3\", \"11,3\", \"12,3\", \"13,3\", \"14,3\", \"15,4\", \"16,4\", \"17,4\", \"18,4\", \"19,4\", \"20,4\", \"21,4\", \"22,4\", \"23,4\", \"24,4\"], \"marker\": {\"color\": [\"#989898\", \"#6175c1\", \"#EE7600\", \"#6175c1\", \"#6175c1\", \"#DB4551\", \"#6175c1\", \"#6175c1\", \"#6175c1\", \"#6175c1\", \"#6175c1\", \"#6175c1\", \"#6175c1\", \"#6175c1\", \"#6175c1\", \"#6175c1\", \"#6175c1\", \"#6175c1\", \"#6175c1\", \"#6175c1\", \"#6175c1\", \"#6175c1\", \"#6175c1\", \"#6175c1\", \"#6175c1\"], \"line\": {\"color\": \"rgb(50,50,50)\", \"width\": 1}, \"symbol\": \"dot\", \"size\": 35}, \"mode\": \"markers\", \"hoverinfo\": \"text\", \"y\": [8.0, 7.0, 7.0, 6.0, 6.0, 6.0, 6.0, 5.0, 5.0, 5.0, 5.0, 5.0, 5.0, 5.0, 5.0, 4.0, 4.0, 4.0, 4.0, 4.0, 4.0, 4.0, 4.0, 4.0, 4.0], \"x\": [0.0, -3.25, 3.25, -5.25, -1.25, 2.25, 4.25, -6.25, -4.25, -2.25, -0.25, 1.75, 2.75, 3.75, 4.75, -6.75, -5.75, -4.75, -3.75, -2.75, -1.75, -0.75, 0.25, 1.25, 2.25], \"type\": \"scatter\"}], {\"showlegend\": false, \"title\": \"<thr> <com> 2 </com> <com> 5 </com> </thr>\", \"plot_bgcolor\": \"rgb(248,248,248)\", \"yaxis\": {\"zeroline\": false, \"showline\": false, \"showticklabels\": false, \"showgrid\": false}, \"xaxis\": {\"zeroline\": false, \"showline\": false, \"showticklabels\": false, \"showgrid\": false}, \"hovermode\": \"closest\", \"font\": {\"size\": 12}, \"margin\": {\"r\": 40, \"b\": 85, \"t\": 100, \"l\": 40}, \"annotations\": [{\"xref\": \"x1\", \"yref\": \"y1\", \"text\": \"article\", \"y\": 8.0, \"x\": 0.0, \"font\": {\"color\": \"rgb(250,250,250)\", \"size\": 10}, \"showarrow\": false}, {\"xref\": \"x1\", \"yref\": \"y1\", \"text\": \"1,1\", \"y\": 7.0, \"x\": -3.25, \"font\": {\"color\": \"rgb(250,250,250)\", \"size\": 10}, \"showarrow\": false}, {\"xref\": \"x1\", \"yref\": \"y1\", \"text\": \"2,1\", \"y\": 7.0, \"x\": 3.25, \"font\": {\"color\": \"rgb(250,250,250)\", \"size\": 10}, \"showarrow\": false}, {\"xref\": \"x1\", \"yref\": \"y1\", \"text\": \"3,2\", \"y\": 6.0, \"x\": -5.25, \"font\": {\"color\": \"rgb(250,250,250)\", \"size\": 10}, \"showarrow\": false}, {\"xref\": \"x1\", \"yref\": \"y1\", \"text\": \"4,2\", \"y\": 6.0, \"x\": -1.25, \"font\": {\"color\": \"rgb(250,250,250)\", \"size\": 10}, \"showarrow\": false}, {\"xref\": \"x1\", \"yref\": \"y1\", \"text\": \"5,2\", \"y\": 6.0, \"x\": 2.25, \"font\": {\"color\": \"rgb(250,250,250)\", \"size\": 10}, \"showarrow\": false}, {\"xref\": \"x1\", \"yref\": \"y1\", \"text\": \"6,2\", \"y\": 6.0, \"x\": 4.25, \"font\": {\"color\": \"rgb(250,250,250)\", \"size\": 10}, \"showarrow\": false}, {\"xref\": \"x1\", \"yref\": \"y1\", \"text\": \"7,3\", \"y\": 5.0, \"x\": -6.25, \"font\": {\"color\": \"rgb(250,250,250)\", \"size\": 10}, \"showarrow\": false}, {\"xref\": \"x1\", \"yref\": \"y1\", \"text\": \"8,3\", \"y\": 5.0, \"x\": -4.25, \"font\": {\"color\": \"rgb(250,250,250)\", \"size\": 10}, \"showarrow\": false}, {\"xref\": \"x1\", \"yref\": \"y1\", \"text\": \"9,3\", \"y\": 5.0, \"x\": -2.25, \"font\": {\"color\": \"rgb(250,250,250)\", \"size\": 10}, \"showarrow\": false}, {\"xref\": \"x1\", \"yref\": \"y1\", \"text\": \"10,3\", \"y\": 5.0, \"x\": -0.25, \"font\": {\"color\": \"rgb(250,250,250)\", \"size\": 10}, \"showarrow\": false}, {\"xref\": \"x1\", \"yref\": \"y1\", \"text\": \"11,3\", \"y\": 5.0, \"x\": 1.75, \"font\": {\"color\": \"rgb(250,250,250)\", \"size\": 10}, \"showarrow\": false}, {\"xref\": \"x1\", \"yref\": \"y1\", \"text\": \"12,3\", \"y\": 5.0, \"x\": 2.75, \"font\": {\"color\": \"rgb(250,250,250)\", \"size\": 10}, \"showarrow\": false}, {\"xref\": \"x1\", \"yref\": \"y1\", \"text\": \"13,3\", \"y\": 5.0, \"x\": 3.75, \"font\": {\"color\": \"rgb(250,250,250)\", \"size\": 10}, \"showarrow\": false}, {\"xref\": \"x1\", \"yref\": \"y1\", \"text\": \"14,3\", \"y\": 5.0, \"x\": 4.75, \"font\": {\"color\": \"rgb(250,250,250)\", \"size\": 10}, \"showarrow\": false}, {\"xref\": \"x1\", \"yref\": \"y1\", \"text\": \"15,4\", \"y\": 4.0, \"x\": -6.75, \"font\": {\"color\": \"rgb(250,250,250)\", \"size\": 10}, \"showarrow\": false}, {\"xref\": \"x1\", \"yref\": \"y1\", \"text\": \"16,4\", \"y\": 4.0, \"x\": -5.75, \"font\": {\"color\": \"rgb(250,250,250)\", \"size\": 10}, \"showarrow\": false}, {\"xref\": \"x1\", \"yref\": \"y1\", \"text\": \"17,4\", \"y\": 4.0, \"x\": -4.75, \"font\": {\"color\": \"rgb(250,250,250)\", \"size\": 10}, \"showarrow\": false}, {\"xref\": \"x1\", \"yref\": \"y1\", \"text\": \"18,4\", \"y\": 4.0, \"x\": -3.75, \"font\": {\"color\": \"rgb(250,250,250)\", \"size\": 10}, \"showarrow\": false}, {\"xref\": \"x1\", \"yref\": \"y1\", \"text\": \"19,4\", \"y\": 4.0, \"x\": -2.75, \"font\": {\"color\": \"rgb(250,250,250)\", \"size\": 10}, \"showarrow\": false}, {\"xref\": \"x1\", \"yref\": \"y1\", \"text\": \"20,4\", \"y\": 4.0, \"x\": -1.75, \"font\": {\"color\": \"rgb(250,250,250)\", \"size\": 10}, \"showarrow\": false}, {\"xref\": \"x1\", \"yref\": \"y1\", \"text\": \"21,4\", \"y\": 4.0, \"x\": -0.75, \"font\": {\"color\": \"rgb(250,250,250)\", \"size\": 10}, \"showarrow\": false}, {\"xref\": \"x1\", \"yref\": \"y1\", \"text\": \"22,4\", \"y\": 4.0, \"x\": 0.25, \"font\": {\"color\": \"rgb(250,250,250)\", \"size\": 10}, \"showarrow\": false}, {\"xref\": \"x1\", \"yref\": \"y1\", \"text\": \"23,4\", \"y\": 4.0, \"x\": 1.25, \"font\": {\"color\": \"rgb(250,250,250)\", \"size\": 10}, \"showarrow\": false}, {\"xref\": \"x1\", \"yref\": \"y1\", \"text\": \"24,4\", \"y\": 4.0, \"x\": 2.25, \"font\": {\"color\": \"rgb(250,250,250)\", \"size\": 10}, \"showarrow\": false}]}, {\"linkText\": \"Export to plot.ly\", \"showLink\": true})});</script>"
      ],
      "text/vnd.plotly.v1+html": [
       "<div id=\"a285eeb3-b050-4efd-aa51-3b74e126b302\" style=\"height: 525px; width: 100%;\" class=\"plotly-graph-div\"></div><script type=\"text/javascript\">require([\"plotly\"], function(Plotly) { window.PLOTLYENV=window.PLOTLYENV || {};window.PLOTLYENV.BASE_URL=\"https://plot.ly\";Plotly.newPlot(\"a285eeb3-b050-4efd-aa51-3b74e126b302\", [{\"mode\": \"lines\", \"hoverinfo\": \"none\", \"y\": [8.0, 7.0, null, 8.0, 7.0, null, 7.0, 6.0, null, 7.0, 6.0, null, 7.0, 6.0, null, 7.0, 6.0, null, 6.0, 5.0, null, 6.0, 5.0, null, 6.0, 5.0, null, 6.0, 5.0, null, 6.0, 5.0, null, 6.0, 5.0, null, 6.0, 5.0, null, 6.0, 5.0, null, 5.0, 4.0, null, 5.0, 4.0, null, 5.0, 4.0, null, 5.0, 4.0, null, 5.0, 4.0, null, 5.0, 4.0, null, 5.0, 4.0, null, 5.0, 4.0, null, 5.0, 4.0, null, 5.0, 4.0, null], \"x\": [0.0, -3.25, null, 0.0, 3.25, null, -3.25, -5.25, null, -3.25, -1.25, null, 3.25, 2.25, null, 3.25, 4.25, null, -5.25, -6.25, null, -5.25, -4.25, null, -1.25, -2.25, null, -1.25, -0.25, null, 2.25, 1.75, null, 2.25, 2.75, null, 4.25, 3.75, null, 4.25, 4.75, null, -6.25, -6.75, null, -6.25, -5.75, null, -4.25, -4.75, null, -4.25, -3.75, null, -2.25, -2.75, null, -2.25, -1.75, null, -0.25, -0.75, null, -0.25, 0.25, null, 1.75, 1.25, null, 1.75, 2.25, null], \"line\": {\"color\": \"rgb(210,210,210)\", \"width\": 1}, \"type\": \"scatter\"}, {\"opacity\": 0.8, \"name\": \"\", \"text\": [\"article\", \"1,1\", \"2,1\", \"3,2\", \"4,2\", \"5,2\", \"6,2\", \"7,3\", \"8,3\", \"9,3\", \"10,3\", \"11,3\", \"12,3\", \"13,3\", \"14,3\", \"15,4\", \"16,4\", \"17,4\", \"18,4\", \"19,4\", \"20,4\", \"21,4\", \"22,4\", \"23,4\", \"24,4\"], \"marker\": {\"color\": [\"#989898\", \"#6175c1\", \"#EE7600\", \"#6175c1\", \"#6175c1\", \"#DB4551\", \"#6175c1\", \"#6175c1\", \"#6175c1\", \"#6175c1\", \"#6175c1\", \"#6175c1\", \"#6175c1\", \"#6175c1\", \"#6175c1\", \"#6175c1\", \"#6175c1\", \"#6175c1\", \"#6175c1\", \"#6175c1\", \"#6175c1\", \"#6175c1\", \"#6175c1\", \"#6175c1\", \"#6175c1\"], \"line\": {\"color\": \"rgb(50,50,50)\", \"width\": 1}, \"symbol\": \"dot\", \"size\": 35}, \"mode\": \"markers\", \"hoverinfo\": \"text\", \"y\": [8.0, 7.0, 7.0, 6.0, 6.0, 6.0, 6.0, 5.0, 5.0, 5.0, 5.0, 5.0, 5.0, 5.0, 5.0, 4.0, 4.0, 4.0, 4.0, 4.0, 4.0, 4.0, 4.0, 4.0, 4.0], \"x\": [0.0, -3.25, 3.25, -5.25, -1.25, 2.25, 4.25, -6.25, -4.25, -2.25, -0.25, 1.75, 2.75, 3.75, 4.75, -6.75, -5.75, -4.75, -3.75, -2.75, -1.75, -0.75, 0.25, 1.25, 2.25], \"type\": \"scatter\"}], {\"showlegend\": false, \"title\": \"<thr> <com> 2 </com> <com> 5 </com> </thr>\", \"plot_bgcolor\": \"rgb(248,248,248)\", \"yaxis\": {\"zeroline\": false, \"showline\": false, \"showticklabels\": false, \"showgrid\": false}, \"xaxis\": {\"zeroline\": false, \"showline\": false, \"showticklabels\": false, \"showgrid\": false}, \"hovermode\": \"closest\", \"font\": {\"size\": 12}, \"margin\": {\"r\": 40, \"b\": 85, \"t\": 100, \"l\": 40}, \"annotations\": [{\"xref\": \"x1\", \"yref\": \"y1\", \"text\": \"article\", \"y\": 8.0, \"x\": 0.0, \"font\": {\"color\": \"rgb(250,250,250)\", \"size\": 10}, \"showarrow\": false}, {\"xref\": \"x1\", \"yref\": \"y1\", \"text\": \"1,1\", \"y\": 7.0, \"x\": -3.25, \"font\": {\"color\": \"rgb(250,250,250)\", \"size\": 10}, \"showarrow\": false}, {\"xref\": \"x1\", \"yref\": \"y1\", \"text\": \"2,1\", \"y\": 7.0, \"x\": 3.25, \"font\": {\"color\": \"rgb(250,250,250)\", \"size\": 10}, \"showarrow\": false}, {\"xref\": \"x1\", \"yref\": \"y1\", \"text\": \"3,2\", \"y\": 6.0, \"x\": -5.25, \"font\": {\"color\": \"rgb(250,250,250)\", \"size\": 10}, \"showarrow\": false}, {\"xref\": \"x1\", \"yref\": \"y1\", \"text\": \"4,2\", \"y\": 6.0, \"x\": -1.25, \"font\": {\"color\": \"rgb(250,250,250)\", \"size\": 10}, \"showarrow\": false}, {\"xref\": \"x1\", \"yref\": \"y1\", \"text\": \"5,2\", \"y\": 6.0, \"x\": 2.25, \"font\": {\"color\": \"rgb(250,250,250)\", \"size\": 10}, \"showarrow\": false}, {\"xref\": \"x1\", \"yref\": \"y1\", \"text\": \"6,2\", \"y\": 6.0, \"x\": 4.25, \"font\": {\"color\": \"rgb(250,250,250)\", \"size\": 10}, \"showarrow\": false}, {\"xref\": \"x1\", \"yref\": \"y1\", \"text\": \"7,3\", \"y\": 5.0, \"x\": -6.25, \"font\": {\"color\": \"rgb(250,250,250)\", \"size\": 10}, \"showarrow\": false}, {\"xref\": \"x1\", \"yref\": \"y1\", \"text\": \"8,3\", \"y\": 5.0, \"x\": -4.25, \"font\": {\"color\": \"rgb(250,250,250)\", \"size\": 10}, \"showarrow\": false}, {\"xref\": \"x1\", \"yref\": \"y1\", \"text\": \"9,3\", \"y\": 5.0, \"x\": -2.25, \"font\": {\"color\": \"rgb(250,250,250)\", \"size\": 10}, \"showarrow\": false}, {\"xref\": \"x1\", \"yref\": \"y1\", \"text\": \"10,3\", \"y\": 5.0, \"x\": -0.25, \"font\": {\"color\": \"rgb(250,250,250)\", \"size\": 10}, \"showarrow\": false}, {\"xref\": \"x1\", \"yref\": \"y1\", \"text\": \"11,3\", \"y\": 5.0, \"x\": 1.75, \"font\": {\"color\": \"rgb(250,250,250)\", \"size\": 10}, \"showarrow\": false}, {\"xref\": \"x1\", \"yref\": \"y1\", \"text\": \"12,3\", \"y\": 5.0, \"x\": 2.75, \"font\": {\"color\": \"rgb(250,250,250)\", \"size\": 10}, \"showarrow\": false}, {\"xref\": \"x1\", \"yref\": \"y1\", \"text\": \"13,3\", \"y\": 5.0, \"x\": 3.75, \"font\": {\"color\": \"rgb(250,250,250)\", \"size\": 10}, \"showarrow\": false}, {\"xref\": \"x1\", \"yref\": \"y1\", \"text\": \"14,3\", \"y\": 5.0, \"x\": 4.75, \"font\": {\"color\": \"rgb(250,250,250)\", \"size\": 10}, \"showarrow\": false}, {\"xref\": \"x1\", \"yref\": \"y1\", \"text\": \"15,4\", \"y\": 4.0, \"x\": -6.75, \"font\": {\"color\": \"rgb(250,250,250)\", \"size\": 10}, \"showarrow\": false}, {\"xref\": \"x1\", \"yref\": \"y1\", \"text\": \"16,4\", \"y\": 4.0, \"x\": -5.75, \"font\": {\"color\": \"rgb(250,250,250)\", \"size\": 10}, \"showarrow\": false}, {\"xref\": \"x1\", \"yref\": \"y1\", \"text\": \"17,4\", \"y\": 4.0, \"x\": -4.75, \"font\": {\"color\": \"rgb(250,250,250)\", \"size\": 10}, \"showarrow\": false}, {\"xref\": \"x1\", \"yref\": \"y1\", \"text\": \"18,4\", \"y\": 4.0, \"x\": -3.75, \"font\": {\"color\": \"rgb(250,250,250)\", \"size\": 10}, \"showarrow\": false}, {\"xref\": \"x1\", \"yref\": \"y1\", \"text\": \"19,4\", \"y\": 4.0, \"x\": -2.75, \"font\": {\"color\": \"rgb(250,250,250)\", \"size\": 10}, \"showarrow\": false}, {\"xref\": \"x1\", \"yref\": \"y1\", \"text\": \"20,4\", \"y\": 4.0, \"x\": -1.75, \"font\": {\"color\": \"rgb(250,250,250)\", \"size\": 10}, \"showarrow\": false}, {\"xref\": \"x1\", \"yref\": \"y1\", \"text\": \"21,4\", \"y\": 4.0, \"x\": -0.75, \"font\": {\"color\": \"rgb(250,250,250)\", \"size\": 10}, \"showarrow\": false}, {\"xref\": \"x1\", \"yref\": \"y1\", \"text\": \"22,4\", \"y\": 4.0, \"x\": 0.25, \"font\": {\"color\": \"rgb(250,250,250)\", \"size\": 10}, \"showarrow\": false}, {\"xref\": \"x1\", \"yref\": \"y1\", \"text\": \"23,4\", \"y\": 4.0, \"x\": 1.25, \"font\": {\"color\": \"rgb(250,250,250)\", \"size\": 10}, \"showarrow\": false}, {\"xref\": \"x1\", \"yref\": \"y1\", \"text\": \"24,4\", \"y\": 4.0, \"x\": 2.25, \"font\": {\"color\": \"rgb(250,250,250)\", \"size\": 10}, \"showarrow\": false}]}, {\"linkText\": \"Export to plot.ly\", \"showLink\": true})});</script>"
      ]
     },
     "metadata": {},
     "output_type": "display_data"
    },
    {
     "data": {
      "application/vnd.plotly.v1+json": {
       "data": [
        {
         "hoverinfo": "none",
         "line": {
          "color": "rgb(210,210,210)",
          "width": 1
         },
         "mode": "lines",
         "type": "scatter",
         "x": [
          0,
          -3.25,
          null,
          0,
          3.25,
          null,
          -3.25,
          -5.25,
          null,
          -3.25,
          -1.25,
          null,
          3.25,
          2.25,
          null,
          3.25,
          4.25,
          null,
          -5.25,
          -6.25,
          null,
          -5.25,
          -4.25,
          null,
          -1.25,
          -2.25,
          null,
          -1.25,
          -0.25,
          null,
          2.25,
          1.75,
          null,
          2.25,
          2.75,
          null,
          4.25,
          3.75,
          null,
          4.25,
          4.75,
          null,
          -6.25,
          -6.75,
          null,
          -6.25,
          -5.75,
          null,
          -4.25,
          -4.75,
          null,
          -4.25,
          -3.75,
          null,
          -2.25,
          -2.75,
          null,
          -2.25,
          -1.75,
          null,
          -0.25,
          -0.75,
          null,
          -0.25,
          0.25,
          null,
          1.75,
          1.25,
          null,
          1.75,
          2.25,
          null
         ],
         "y": [
          8,
          7,
          null,
          8,
          7,
          null,
          7,
          6,
          null,
          7,
          6,
          null,
          7,
          6,
          null,
          7,
          6,
          null,
          6,
          5,
          null,
          6,
          5,
          null,
          6,
          5,
          null,
          6,
          5,
          null,
          6,
          5,
          null,
          6,
          5,
          null,
          6,
          5,
          null,
          6,
          5,
          null,
          5,
          4,
          null,
          5,
          4,
          null,
          5,
          4,
          null,
          5,
          4,
          null,
          5,
          4,
          null,
          5,
          4,
          null,
          5,
          4,
          null,
          5,
          4,
          null,
          5,
          4,
          null,
          5,
          4,
          null
         ]
        },
        {
         "hoverinfo": "text",
         "marker": {
          "color": [
           "#989898",
           "#6175c1",
           "#EE7600",
           "#6175c1",
           "#6175c1",
           "#6175c1",
           "#DB4551",
           "#6175c1",
           "#6175c1",
           "#6175c1",
           "#6175c1",
           "#6175c1",
           "#6175c1",
           "#6175c1",
           "#6175c1",
           "#6175c1",
           "#6175c1",
           "#6175c1",
           "#6175c1",
           "#6175c1",
           "#6175c1",
           "#6175c1",
           "#6175c1",
           "#6175c1",
           "#6175c1"
          ],
          "line": {
           "color": "rgb(50,50,50)",
           "width": 1
          },
          "size": 35,
          "symbol": "dot"
         },
         "mode": "markers",
         "name": "",
         "opacity": 0.8,
         "text": [
          "article",
          "1,1",
          "2,1",
          "3,2",
          "4,2",
          "5,2",
          "6,2",
          "7,3",
          "8,3",
          "9,3",
          "10,3",
          "11,3",
          "12,3",
          "13,3",
          "14,3",
          "15,4",
          "16,4",
          "17,4",
          "18,4",
          "19,4",
          "20,4",
          "21,4",
          "22,4",
          "23,4",
          "24,4"
         ],
         "type": "scatter",
         "x": [
          0,
          -3.25,
          3.25,
          -5.25,
          -1.25,
          2.25,
          4.25,
          -6.25,
          -4.25,
          -2.25,
          -0.25,
          1.75,
          2.75,
          3.75,
          4.75,
          -6.75,
          -5.75,
          -4.75,
          -3.75,
          -2.75,
          -1.75,
          -0.75,
          0.25,
          1.25,
          2.25
         ],
         "y": [
          8,
          7,
          7,
          6,
          6,
          6,
          6,
          5,
          5,
          5,
          5,
          5,
          5,
          5,
          5,
          4,
          4,
          4,
          4,
          4,
          4,
          4,
          4,
          4,
          4
         ]
        }
       ],
       "layout": {
        "annotations": [
         {
          "font": {
           "color": "rgb(250,250,250)",
           "size": 10
          },
          "showarrow": false,
          "text": "article",
          "x": 0,
          "xref": "x1",
          "y": 8,
          "yref": "y1"
         },
         {
          "font": {
           "color": "rgb(250,250,250)",
           "size": 10
          },
          "showarrow": false,
          "text": "1,1",
          "x": -3.25,
          "xref": "x1",
          "y": 7,
          "yref": "y1"
         },
         {
          "font": {
           "color": "rgb(250,250,250)",
           "size": 10
          },
          "showarrow": false,
          "text": "2,1",
          "x": 3.25,
          "xref": "x1",
          "y": 7,
          "yref": "y1"
         },
         {
          "font": {
           "color": "rgb(250,250,250)",
           "size": 10
          },
          "showarrow": false,
          "text": "3,2",
          "x": -5.25,
          "xref": "x1",
          "y": 6,
          "yref": "y1"
         },
         {
          "font": {
           "color": "rgb(250,250,250)",
           "size": 10
          },
          "showarrow": false,
          "text": "4,2",
          "x": -1.25,
          "xref": "x1",
          "y": 6,
          "yref": "y1"
         },
         {
          "font": {
           "color": "rgb(250,250,250)",
           "size": 10
          },
          "showarrow": false,
          "text": "5,2",
          "x": 2.25,
          "xref": "x1",
          "y": 6,
          "yref": "y1"
         },
         {
          "font": {
           "color": "rgb(250,250,250)",
           "size": 10
          },
          "showarrow": false,
          "text": "6,2",
          "x": 4.25,
          "xref": "x1",
          "y": 6,
          "yref": "y1"
         },
         {
          "font": {
           "color": "rgb(250,250,250)",
           "size": 10
          },
          "showarrow": false,
          "text": "7,3",
          "x": -6.25,
          "xref": "x1",
          "y": 5,
          "yref": "y1"
         },
         {
          "font": {
           "color": "rgb(250,250,250)",
           "size": 10
          },
          "showarrow": false,
          "text": "8,3",
          "x": -4.25,
          "xref": "x1",
          "y": 5,
          "yref": "y1"
         },
         {
          "font": {
           "color": "rgb(250,250,250)",
           "size": 10
          },
          "showarrow": false,
          "text": "9,3",
          "x": -2.25,
          "xref": "x1",
          "y": 5,
          "yref": "y1"
         },
         {
          "font": {
           "color": "rgb(250,250,250)",
           "size": 10
          },
          "showarrow": false,
          "text": "10,3",
          "x": -0.25,
          "xref": "x1",
          "y": 5,
          "yref": "y1"
         },
         {
          "font": {
           "color": "rgb(250,250,250)",
           "size": 10
          },
          "showarrow": false,
          "text": "11,3",
          "x": 1.75,
          "xref": "x1",
          "y": 5,
          "yref": "y1"
         },
         {
          "font": {
           "color": "rgb(250,250,250)",
           "size": 10
          },
          "showarrow": false,
          "text": "12,3",
          "x": 2.75,
          "xref": "x1",
          "y": 5,
          "yref": "y1"
         },
         {
          "font": {
           "color": "rgb(250,250,250)",
           "size": 10
          },
          "showarrow": false,
          "text": "13,3",
          "x": 3.75,
          "xref": "x1",
          "y": 5,
          "yref": "y1"
         },
         {
          "font": {
           "color": "rgb(250,250,250)",
           "size": 10
          },
          "showarrow": false,
          "text": "14,3",
          "x": 4.75,
          "xref": "x1",
          "y": 5,
          "yref": "y1"
         },
         {
          "font": {
           "color": "rgb(250,250,250)",
           "size": 10
          },
          "showarrow": false,
          "text": "15,4",
          "x": -6.75,
          "xref": "x1",
          "y": 4,
          "yref": "y1"
         },
         {
          "font": {
           "color": "rgb(250,250,250)",
           "size": 10
          },
          "showarrow": false,
          "text": "16,4",
          "x": -5.75,
          "xref": "x1",
          "y": 4,
          "yref": "y1"
         },
         {
          "font": {
           "color": "rgb(250,250,250)",
           "size": 10
          },
          "showarrow": false,
          "text": "17,4",
          "x": -4.75,
          "xref": "x1",
          "y": 4,
          "yref": "y1"
         },
         {
          "font": {
           "color": "rgb(250,250,250)",
           "size": 10
          },
          "showarrow": false,
          "text": "18,4",
          "x": -3.75,
          "xref": "x1",
          "y": 4,
          "yref": "y1"
         },
         {
          "font": {
           "color": "rgb(250,250,250)",
           "size": 10
          },
          "showarrow": false,
          "text": "19,4",
          "x": -2.75,
          "xref": "x1",
          "y": 4,
          "yref": "y1"
         },
         {
          "font": {
           "color": "rgb(250,250,250)",
           "size": 10
          },
          "showarrow": false,
          "text": "20,4",
          "x": -1.75,
          "xref": "x1",
          "y": 4,
          "yref": "y1"
         },
         {
          "font": {
           "color": "rgb(250,250,250)",
           "size": 10
          },
          "showarrow": false,
          "text": "21,4",
          "x": -0.75,
          "xref": "x1",
          "y": 4,
          "yref": "y1"
         },
         {
          "font": {
           "color": "rgb(250,250,250)",
           "size": 10
          },
          "showarrow": false,
          "text": "22,4",
          "x": 0.25,
          "xref": "x1",
          "y": 4,
          "yref": "y1"
         },
         {
          "font": {
           "color": "rgb(250,250,250)",
           "size": 10
          },
          "showarrow": false,
          "text": "23,4",
          "x": 1.25,
          "xref": "x1",
          "y": 4,
          "yref": "y1"
         },
         {
          "font": {
           "color": "rgb(250,250,250)",
           "size": 10
          },
          "showarrow": false,
          "text": "24,4",
          "x": 2.25,
          "xref": "x1",
          "y": 4,
          "yref": "y1"
         }
        ],
        "font": {
         "size": 12
        },
        "hovermode": "closest",
        "margin": {
         "b": 85,
         "l": 40,
         "r": 40,
         "t": 100
        },
        "plot_bgcolor": "rgb(248,248,248)",
        "showlegend": false,
        "title": "<thr> <com> 2 </com> <com> 6 </com> </thr>",
        "xaxis": {
         "showgrid": false,
         "showline": false,
         "showticklabels": false,
         "zeroline": false
        },
        "yaxis": {
         "showgrid": false,
         "showline": false,
         "showticklabels": false,
         "zeroline": false
        }
       }
      },
      "text/html": [
       "<div id=\"7412c1bf-a92d-41a3-ae62-6245acf87771\" style=\"height: 525px; width: 100%;\" class=\"plotly-graph-div\"></div><script type=\"text/javascript\">require([\"plotly\"], function(Plotly) { window.PLOTLYENV=window.PLOTLYENV || {};window.PLOTLYENV.BASE_URL=\"https://plot.ly\";Plotly.newPlot(\"7412c1bf-a92d-41a3-ae62-6245acf87771\", [{\"mode\": \"lines\", \"hoverinfo\": \"none\", \"y\": [8.0, 7.0, null, 8.0, 7.0, null, 7.0, 6.0, null, 7.0, 6.0, null, 7.0, 6.0, null, 7.0, 6.0, null, 6.0, 5.0, null, 6.0, 5.0, null, 6.0, 5.0, null, 6.0, 5.0, null, 6.0, 5.0, null, 6.0, 5.0, null, 6.0, 5.0, null, 6.0, 5.0, null, 5.0, 4.0, null, 5.0, 4.0, null, 5.0, 4.0, null, 5.0, 4.0, null, 5.0, 4.0, null, 5.0, 4.0, null, 5.0, 4.0, null, 5.0, 4.0, null, 5.0, 4.0, null, 5.0, 4.0, null], \"x\": [0.0, -3.25, null, 0.0, 3.25, null, -3.25, -5.25, null, -3.25, -1.25, null, 3.25, 2.25, null, 3.25, 4.25, null, -5.25, -6.25, null, -5.25, -4.25, null, -1.25, -2.25, null, -1.25, -0.25, null, 2.25, 1.75, null, 2.25, 2.75, null, 4.25, 3.75, null, 4.25, 4.75, null, -6.25, -6.75, null, -6.25, -5.75, null, -4.25, -4.75, null, -4.25, -3.75, null, -2.25, -2.75, null, -2.25, -1.75, null, -0.25, -0.75, null, -0.25, 0.25, null, 1.75, 1.25, null, 1.75, 2.25, null], \"line\": {\"color\": \"rgb(210,210,210)\", \"width\": 1}, \"type\": \"scatter\"}, {\"opacity\": 0.8, \"name\": \"\", \"text\": [\"article\", \"1,1\", \"2,1\", \"3,2\", \"4,2\", \"5,2\", \"6,2\", \"7,3\", \"8,3\", \"9,3\", \"10,3\", \"11,3\", \"12,3\", \"13,3\", \"14,3\", \"15,4\", \"16,4\", \"17,4\", \"18,4\", \"19,4\", \"20,4\", \"21,4\", \"22,4\", \"23,4\", \"24,4\"], \"marker\": {\"color\": [\"#989898\", \"#6175c1\", \"#EE7600\", \"#6175c1\", \"#6175c1\", \"#6175c1\", \"#DB4551\", \"#6175c1\", \"#6175c1\", \"#6175c1\", \"#6175c1\", \"#6175c1\", \"#6175c1\", \"#6175c1\", \"#6175c1\", \"#6175c1\", \"#6175c1\", \"#6175c1\", \"#6175c1\", \"#6175c1\", \"#6175c1\", \"#6175c1\", \"#6175c1\", \"#6175c1\", \"#6175c1\"], \"line\": {\"color\": \"rgb(50,50,50)\", \"width\": 1}, \"symbol\": \"dot\", \"size\": 35}, \"mode\": \"markers\", \"hoverinfo\": \"text\", \"y\": [8.0, 7.0, 7.0, 6.0, 6.0, 6.0, 6.0, 5.0, 5.0, 5.0, 5.0, 5.0, 5.0, 5.0, 5.0, 4.0, 4.0, 4.0, 4.0, 4.0, 4.0, 4.0, 4.0, 4.0, 4.0], \"x\": [0.0, -3.25, 3.25, -5.25, -1.25, 2.25, 4.25, -6.25, -4.25, -2.25, -0.25, 1.75, 2.75, 3.75, 4.75, -6.75, -5.75, -4.75, -3.75, -2.75, -1.75, -0.75, 0.25, 1.25, 2.25], \"type\": \"scatter\"}], {\"showlegend\": false, \"title\": \"<thr> <com> 2 </com> <com> 6 </com> </thr>\", \"plot_bgcolor\": \"rgb(248,248,248)\", \"yaxis\": {\"zeroline\": false, \"showline\": false, \"showticklabels\": false, \"showgrid\": false}, \"xaxis\": {\"zeroline\": false, \"showline\": false, \"showticklabels\": false, \"showgrid\": false}, \"hovermode\": \"closest\", \"font\": {\"size\": 12}, \"margin\": {\"r\": 40, \"b\": 85, \"t\": 100, \"l\": 40}, \"annotations\": [{\"xref\": \"x1\", \"yref\": \"y1\", \"text\": \"article\", \"y\": 8.0, \"x\": 0.0, \"font\": {\"color\": \"rgb(250,250,250)\", \"size\": 10}, \"showarrow\": false}, {\"xref\": \"x1\", \"yref\": \"y1\", \"text\": \"1,1\", \"y\": 7.0, \"x\": -3.25, \"font\": {\"color\": \"rgb(250,250,250)\", \"size\": 10}, \"showarrow\": false}, {\"xref\": \"x1\", \"yref\": \"y1\", \"text\": \"2,1\", \"y\": 7.0, \"x\": 3.25, \"font\": {\"color\": \"rgb(250,250,250)\", \"size\": 10}, \"showarrow\": false}, {\"xref\": \"x1\", \"yref\": \"y1\", \"text\": \"3,2\", \"y\": 6.0, \"x\": -5.25, \"font\": {\"color\": \"rgb(250,250,250)\", \"size\": 10}, \"showarrow\": false}, {\"xref\": \"x1\", \"yref\": \"y1\", \"text\": \"4,2\", \"y\": 6.0, \"x\": -1.25, \"font\": {\"color\": \"rgb(250,250,250)\", \"size\": 10}, \"showarrow\": false}, {\"xref\": \"x1\", \"yref\": \"y1\", \"text\": \"5,2\", \"y\": 6.0, \"x\": 2.25, \"font\": {\"color\": \"rgb(250,250,250)\", \"size\": 10}, \"showarrow\": false}, {\"xref\": \"x1\", \"yref\": \"y1\", \"text\": \"6,2\", \"y\": 6.0, \"x\": 4.25, \"font\": {\"color\": \"rgb(250,250,250)\", \"size\": 10}, \"showarrow\": false}, {\"xref\": \"x1\", \"yref\": \"y1\", \"text\": \"7,3\", \"y\": 5.0, \"x\": -6.25, \"font\": {\"color\": \"rgb(250,250,250)\", \"size\": 10}, \"showarrow\": false}, {\"xref\": \"x1\", \"yref\": \"y1\", \"text\": \"8,3\", \"y\": 5.0, \"x\": -4.25, \"font\": {\"color\": \"rgb(250,250,250)\", \"size\": 10}, \"showarrow\": false}, {\"xref\": \"x1\", \"yref\": \"y1\", \"text\": \"9,3\", \"y\": 5.0, \"x\": -2.25, \"font\": {\"color\": \"rgb(250,250,250)\", \"size\": 10}, \"showarrow\": false}, {\"xref\": \"x1\", \"yref\": \"y1\", \"text\": \"10,3\", \"y\": 5.0, \"x\": -0.25, \"font\": {\"color\": \"rgb(250,250,250)\", \"size\": 10}, \"showarrow\": false}, {\"xref\": \"x1\", \"yref\": \"y1\", \"text\": \"11,3\", \"y\": 5.0, \"x\": 1.75, \"font\": {\"color\": \"rgb(250,250,250)\", \"size\": 10}, \"showarrow\": false}, {\"xref\": \"x1\", \"yref\": \"y1\", \"text\": \"12,3\", \"y\": 5.0, \"x\": 2.75, \"font\": {\"color\": \"rgb(250,250,250)\", \"size\": 10}, \"showarrow\": false}, {\"xref\": \"x1\", \"yref\": \"y1\", \"text\": \"13,3\", \"y\": 5.0, \"x\": 3.75, \"font\": {\"color\": \"rgb(250,250,250)\", \"size\": 10}, \"showarrow\": false}, {\"xref\": \"x1\", \"yref\": \"y1\", \"text\": \"14,3\", \"y\": 5.0, \"x\": 4.75, \"font\": {\"color\": \"rgb(250,250,250)\", \"size\": 10}, \"showarrow\": false}, {\"xref\": \"x1\", \"yref\": \"y1\", \"text\": \"15,4\", \"y\": 4.0, \"x\": -6.75, \"font\": {\"color\": \"rgb(250,250,250)\", \"size\": 10}, \"showarrow\": false}, {\"xref\": \"x1\", \"yref\": \"y1\", \"text\": \"16,4\", \"y\": 4.0, \"x\": -5.75, \"font\": {\"color\": \"rgb(250,250,250)\", \"size\": 10}, \"showarrow\": false}, {\"xref\": \"x1\", \"yref\": \"y1\", \"text\": \"17,4\", \"y\": 4.0, \"x\": -4.75, \"font\": {\"color\": \"rgb(250,250,250)\", \"size\": 10}, \"showarrow\": false}, {\"xref\": \"x1\", \"yref\": \"y1\", \"text\": \"18,4\", \"y\": 4.0, \"x\": -3.75, \"font\": {\"color\": \"rgb(250,250,250)\", \"size\": 10}, \"showarrow\": false}, {\"xref\": \"x1\", \"yref\": \"y1\", \"text\": \"19,4\", \"y\": 4.0, \"x\": -2.75, \"font\": {\"color\": \"rgb(250,250,250)\", \"size\": 10}, \"showarrow\": false}, {\"xref\": \"x1\", \"yref\": \"y1\", \"text\": \"20,4\", \"y\": 4.0, \"x\": -1.75, \"font\": {\"color\": \"rgb(250,250,250)\", \"size\": 10}, \"showarrow\": false}, {\"xref\": \"x1\", \"yref\": \"y1\", \"text\": \"21,4\", \"y\": 4.0, \"x\": -0.75, \"font\": {\"color\": \"rgb(250,250,250)\", \"size\": 10}, \"showarrow\": false}, {\"xref\": \"x1\", \"yref\": \"y1\", \"text\": \"22,4\", \"y\": 4.0, \"x\": 0.25, \"font\": {\"color\": \"rgb(250,250,250)\", \"size\": 10}, \"showarrow\": false}, {\"xref\": \"x1\", \"yref\": \"y1\", \"text\": \"23,4\", \"y\": 4.0, \"x\": 1.25, \"font\": {\"color\": \"rgb(250,250,250)\", \"size\": 10}, \"showarrow\": false}, {\"xref\": \"x1\", \"yref\": \"y1\", \"text\": \"24,4\", \"y\": 4.0, \"x\": 2.25, \"font\": {\"color\": \"rgb(250,250,250)\", \"size\": 10}, \"showarrow\": false}]}, {\"linkText\": \"Export to plot.ly\", \"showLink\": true})});</script>"
      ],
      "text/vnd.plotly.v1+html": [
       "<div id=\"7412c1bf-a92d-41a3-ae62-6245acf87771\" style=\"height: 525px; width: 100%;\" class=\"plotly-graph-div\"></div><script type=\"text/javascript\">require([\"plotly\"], function(Plotly) { window.PLOTLYENV=window.PLOTLYENV || {};window.PLOTLYENV.BASE_URL=\"https://plot.ly\";Plotly.newPlot(\"7412c1bf-a92d-41a3-ae62-6245acf87771\", [{\"mode\": \"lines\", \"hoverinfo\": \"none\", \"y\": [8.0, 7.0, null, 8.0, 7.0, null, 7.0, 6.0, null, 7.0, 6.0, null, 7.0, 6.0, null, 7.0, 6.0, null, 6.0, 5.0, null, 6.0, 5.0, null, 6.0, 5.0, null, 6.0, 5.0, null, 6.0, 5.0, null, 6.0, 5.0, null, 6.0, 5.0, null, 6.0, 5.0, null, 5.0, 4.0, null, 5.0, 4.0, null, 5.0, 4.0, null, 5.0, 4.0, null, 5.0, 4.0, null, 5.0, 4.0, null, 5.0, 4.0, null, 5.0, 4.0, null, 5.0, 4.0, null, 5.0, 4.0, null], \"x\": [0.0, -3.25, null, 0.0, 3.25, null, -3.25, -5.25, null, -3.25, -1.25, null, 3.25, 2.25, null, 3.25, 4.25, null, -5.25, -6.25, null, -5.25, -4.25, null, -1.25, -2.25, null, -1.25, -0.25, null, 2.25, 1.75, null, 2.25, 2.75, null, 4.25, 3.75, null, 4.25, 4.75, null, -6.25, -6.75, null, -6.25, -5.75, null, -4.25, -4.75, null, -4.25, -3.75, null, -2.25, -2.75, null, -2.25, -1.75, null, -0.25, -0.75, null, -0.25, 0.25, null, 1.75, 1.25, null, 1.75, 2.25, null], \"line\": {\"color\": \"rgb(210,210,210)\", \"width\": 1}, \"type\": \"scatter\"}, {\"opacity\": 0.8, \"name\": \"\", \"text\": [\"article\", \"1,1\", \"2,1\", \"3,2\", \"4,2\", \"5,2\", \"6,2\", \"7,3\", \"8,3\", \"9,3\", \"10,3\", \"11,3\", \"12,3\", \"13,3\", \"14,3\", \"15,4\", \"16,4\", \"17,4\", \"18,4\", \"19,4\", \"20,4\", \"21,4\", \"22,4\", \"23,4\", \"24,4\"], \"marker\": {\"color\": [\"#989898\", \"#6175c1\", \"#EE7600\", \"#6175c1\", \"#6175c1\", \"#6175c1\", \"#DB4551\", \"#6175c1\", \"#6175c1\", \"#6175c1\", \"#6175c1\", \"#6175c1\", \"#6175c1\", \"#6175c1\", \"#6175c1\", \"#6175c1\", \"#6175c1\", \"#6175c1\", \"#6175c1\", \"#6175c1\", \"#6175c1\", \"#6175c1\", \"#6175c1\", \"#6175c1\", \"#6175c1\"], \"line\": {\"color\": \"rgb(50,50,50)\", \"width\": 1}, \"symbol\": \"dot\", \"size\": 35}, \"mode\": \"markers\", \"hoverinfo\": \"text\", \"y\": [8.0, 7.0, 7.0, 6.0, 6.0, 6.0, 6.0, 5.0, 5.0, 5.0, 5.0, 5.0, 5.0, 5.0, 5.0, 4.0, 4.0, 4.0, 4.0, 4.0, 4.0, 4.0, 4.0, 4.0, 4.0], \"x\": [0.0, -3.25, 3.25, -5.25, -1.25, 2.25, 4.25, -6.25, -4.25, -2.25, -0.25, 1.75, 2.75, 3.75, 4.75, -6.75, -5.75, -4.75, -3.75, -2.75, -1.75, -0.75, 0.25, 1.25, 2.25], \"type\": \"scatter\"}], {\"showlegend\": false, \"title\": \"<thr> <com> 2 </com> <com> 6 </com> </thr>\", \"plot_bgcolor\": \"rgb(248,248,248)\", \"yaxis\": {\"zeroline\": false, \"showline\": false, \"showticklabels\": false, \"showgrid\": false}, \"xaxis\": {\"zeroline\": false, \"showline\": false, \"showticklabels\": false, \"showgrid\": false}, \"hovermode\": \"closest\", \"font\": {\"size\": 12}, \"margin\": {\"r\": 40, \"b\": 85, \"t\": 100, \"l\": 40}, \"annotations\": [{\"xref\": \"x1\", \"yref\": \"y1\", \"text\": \"article\", \"y\": 8.0, \"x\": 0.0, \"font\": {\"color\": \"rgb(250,250,250)\", \"size\": 10}, \"showarrow\": false}, {\"xref\": \"x1\", \"yref\": \"y1\", \"text\": \"1,1\", \"y\": 7.0, \"x\": -3.25, \"font\": {\"color\": \"rgb(250,250,250)\", \"size\": 10}, \"showarrow\": false}, {\"xref\": \"x1\", \"yref\": \"y1\", \"text\": \"2,1\", \"y\": 7.0, \"x\": 3.25, \"font\": {\"color\": \"rgb(250,250,250)\", \"size\": 10}, \"showarrow\": false}, {\"xref\": \"x1\", \"yref\": \"y1\", \"text\": \"3,2\", \"y\": 6.0, \"x\": -5.25, \"font\": {\"color\": \"rgb(250,250,250)\", \"size\": 10}, \"showarrow\": false}, {\"xref\": \"x1\", \"yref\": \"y1\", \"text\": \"4,2\", \"y\": 6.0, \"x\": -1.25, \"font\": {\"color\": \"rgb(250,250,250)\", \"size\": 10}, \"showarrow\": false}, {\"xref\": \"x1\", \"yref\": \"y1\", \"text\": \"5,2\", \"y\": 6.0, \"x\": 2.25, \"font\": {\"color\": \"rgb(250,250,250)\", \"size\": 10}, \"showarrow\": false}, {\"xref\": \"x1\", \"yref\": \"y1\", \"text\": \"6,2\", \"y\": 6.0, \"x\": 4.25, \"font\": {\"color\": \"rgb(250,250,250)\", \"size\": 10}, \"showarrow\": false}, {\"xref\": \"x1\", \"yref\": \"y1\", \"text\": \"7,3\", \"y\": 5.0, \"x\": -6.25, \"font\": {\"color\": \"rgb(250,250,250)\", \"size\": 10}, \"showarrow\": false}, {\"xref\": \"x1\", \"yref\": \"y1\", \"text\": \"8,3\", \"y\": 5.0, \"x\": -4.25, \"font\": {\"color\": \"rgb(250,250,250)\", \"size\": 10}, \"showarrow\": false}, {\"xref\": \"x1\", \"yref\": \"y1\", \"text\": \"9,3\", \"y\": 5.0, \"x\": -2.25, \"font\": {\"color\": \"rgb(250,250,250)\", \"size\": 10}, \"showarrow\": false}, {\"xref\": \"x1\", \"yref\": \"y1\", \"text\": \"10,3\", \"y\": 5.0, \"x\": -0.25, \"font\": {\"color\": \"rgb(250,250,250)\", \"size\": 10}, \"showarrow\": false}, {\"xref\": \"x1\", \"yref\": \"y1\", \"text\": \"11,3\", \"y\": 5.0, \"x\": 1.75, \"font\": {\"color\": \"rgb(250,250,250)\", \"size\": 10}, \"showarrow\": false}, {\"xref\": \"x1\", \"yref\": \"y1\", \"text\": \"12,3\", \"y\": 5.0, \"x\": 2.75, \"font\": {\"color\": \"rgb(250,250,250)\", \"size\": 10}, \"showarrow\": false}, {\"xref\": \"x1\", \"yref\": \"y1\", \"text\": \"13,3\", \"y\": 5.0, \"x\": 3.75, \"font\": {\"color\": \"rgb(250,250,250)\", \"size\": 10}, \"showarrow\": false}, {\"xref\": \"x1\", \"yref\": \"y1\", \"text\": \"14,3\", \"y\": 5.0, \"x\": 4.75, \"font\": {\"color\": \"rgb(250,250,250)\", \"size\": 10}, \"showarrow\": false}, {\"xref\": \"x1\", \"yref\": \"y1\", \"text\": \"15,4\", \"y\": 4.0, \"x\": -6.75, \"font\": {\"color\": \"rgb(250,250,250)\", \"size\": 10}, \"showarrow\": false}, {\"xref\": \"x1\", \"yref\": \"y1\", \"text\": \"16,4\", \"y\": 4.0, \"x\": -5.75, \"font\": {\"color\": \"rgb(250,250,250)\", \"size\": 10}, \"showarrow\": false}, {\"xref\": \"x1\", \"yref\": \"y1\", \"text\": \"17,4\", \"y\": 4.0, \"x\": -4.75, \"font\": {\"color\": \"rgb(250,250,250)\", \"size\": 10}, \"showarrow\": false}, {\"xref\": \"x1\", \"yref\": \"y1\", \"text\": \"18,4\", \"y\": 4.0, \"x\": -3.75, \"font\": {\"color\": \"rgb(250,250,250)\", \"size\": 10}, \"showarrow\": false}, {\"xref\": \"x1\", \"yref\": \"y1\", \"text\": \"19,4\", \"y\": 4.0, \"x\": -2.75, \"font\": {\"color\": \"rgb(250,250,250)\", \"size\": 10}, \"showarrow\": false}, {\"xref\": \"x1\", \"yref\": \"y1\", \"text\": \"20,4\", \"y\": 4.0, \"x\": -1.75, \"font\": {\"color\": \"rgb(250,250,250)\", \"size\": 10}, \"showarrow\": false}, {\"xref\": \"x1\", \"yref\": \"y1\", \"text\": \"21,4\", \"y\": 4.0, \"x\": -0.75, \"font\": {\"color\": \"rgb(250,250,250)\", \"size\": 10}, \"showarrow\": false}, {\"xref\": \"x1\", \"yref\": \"y1\", \"text\": \"22,4\", \"y\": 4.0, \"x\": 0.25, \"font\": {\"color\": \"rgb(250,250,250)\", \"size\": 10}, \"showarrow\": false}, {\"xref\": \"x1\", \"yref\": \"y1\", \"text\": \"23,4\", \"y\": 4.0, \"x\": 1.25, \"font\": {\"color\": \"rgb(250,250,250)\", \"size\": 10}, \"showarrow\": false}, {\"xref\": \"x1\", \"yref\": \"y1\", \"text\": \"24,4\", \"y\": 4.0, \"x\": 2.25, \"font\": {\"color\": \"rgb(250,250,250)\", \"size\": 10}, \"showarrow\": false}]}, {\"linkText\": \"Export to plot.ly\", \"showLink\": true})});</script>"
      ]
     },
     "metadata": {},
     "output_type": "display_data"
    },
    {
     "data": {
      "application/vnd.plotly.v1+json": {
       "data": [
        {
         "hoverinfo": "none",
         "line": {
          "color": "rgb(210,210,210)",
          "width": 1
         },
         "mode": "lines",
         "type": "scatter",
         "x": [
          0,
          -3.25,
          null,
          0,
          3.25,
          null,
          -3.25,
          -5.25,
          null,
          -3.25,
          -1.25,
          null,
          3.25,
          2.25,
          null,
          3.25,
          4.25,
          null,
          -5.25,
          -6.25,
          null,
          -5.25,
          -4.25,
          null,
          -1.25,
          -2.25,
          null,
          -1.25,
          -0.25,
          null,
          2.25,
          1.75,
          null,
          2.25,
          2.75,
          null,
          4.25,
          3.75,
          null,
          4.25,
          4.75,
          null,
          -6.25,
          -6.75,
          null,
          -6.25,
          -5.75,
          null,
          -4.25,
          -4.75,
          null,
          -4.25,
          -3.75,
          null,
          -2.25,
          -2.75,
          null,
          -2.25,
          -1.75,
          null,
          -0.25,
          -0.75,
          null,
          -0.25,
          0.25,
          null,
          1.75,
          1.25,
          null,
          1.75,
          2.25,
          null
         ],
         "y": [
          8,
          7,
          null,
          8,
          7,
          null,
          7,
          6,
          null,
          7,
          6,
          null,
          7,
          6,
          null,
          7,
          6,
          null,
          6,
          5,
          null,
          6,
          5,
          null,
          6,
          5,
          null,
          6,
          5,
          null,
          6,
          5,
          null,
          6,
          5,
          null,
          6,
          5,
          null,
          6,
          5,
          null,
          5,
          4,
          null,
          5,
          4,
          null,
          5,
          4,
          null,
          5,
          4,
          null,
          5,
          4,
          null,
          5,
          4,
          null,
          5,
          4,
          null,
          5,
          4,
          null,
          5,
          4,
          null,
          5,
          4,
          null
         ]
        },
        {
         "hoverinfo": "text",
         "marker": {
          "color": [
           "#989898",
           "#EE7600",
           "#6175c1",
           "#EE7600",
           "#6175c1",
           "#6175c1",
           "#6175c1",
           "#DB4551",
           "#6175c1",
           "#6175c1",
           "#6175c1",
           "#6175c1",
           "#6175c1",
           "#6175c1",
           "#6175c1",
           "#6175c1",
           "#6175c1",
           "#6175c1",
           "#6175c1",
           "#6175c1",
           "#6175c1",
           "#6175c1",
           "#6175c1",
           "#6175c1",
           "#6175c1"
          ],
          "line": {
           "color": "rgb(50,50,50)",
           "width": 1
          },
          "size": 35,
          "symbol": "dot"
         },
         "mode": "markers",
         "name": "",
         "opacity": 0.8,
         "text": [
          "article",
          "1,1",
          "2,1",
          "3,2",
          "4,2",
          "5,2",
          "6,2",
          "7,3",
          "8,3",
          "9,3",
          "10,3",
          "11,3",
          "12,3",
          "13,3",
          "14,3",
          "15,4",
          "16,4",
          "17,4",
          "18,4",
          "19,4",
          "20,4",
          "21,4",
          "22,4",
          "23,4",
          "24,4"
         ],
         "type": "scatter",
         "x": [
          0,
          -3.25,
          3.25,
          -5.25,
          -1.25,
          2.25,
          4.25,
          -6.25,
          -4.25,
          -2.25,
          -0.25,
          1.75,
          2.75,
          3.75,
          4.75,
          -6.75,
          -5.75,
          -4.75,
          -3.75,
          -2.75,
          -1.75,
          -0.75,
          0.25,
          1.25,
          2.25
         ],
         "y": [
          8,
          7,
          7,
          6,
          6,
          6,
          6,
          5,
          5,
          5,
          5,
          5,
          5,
          5,
          5,
          4,
          4,
          4,
          4,
          4,
          4,
          4,
          4,
          4,
          4
         ]
        }
       ],
       "layout": {
        "annotations": [
         {
          "font": {
           "color": "rgb(250,250,250)",
           "size": 10
          },
          "showarrow": false,
          "text": "article",
          "x": 0,
          "xref": "x1",
          "y": 8,
          "yref": "y1"
         },
         {
          "font": {
           "color": "rgb(250,250,250)",
           "size": 10
          },
          "showarrow": false,
          "text": "1,1",
          "x": -3.25,
          "xref": "x1",
          "y": 7,
          "yref": "y1"
         },
         {
          "font": {
           "color": "rgb(250,250,250)",
           "size": 10
          },
          "showarrow": false,
          "text": "2,1",
          "x": 3.25,
          "xref": "x1",
          "y": 7,
          "yref": "y1"
         },
         {
          "font": {
           "color": "rgb(250,250,250)",
           "size": 10
          },
          "showarrow": false,
          "text": "3,2",
          "x": -5.25,
          "xref": "x1",
          "y": 6,
          "yref": "y1"
         },
         {
          "font": {
           "color": "rgb(250,250,250)",
           "size": 10
          },
          "showarrow": false,
          "text": "4,2",
          "x": -1.25,
          "xref": "x1",
          "y": 6,
          "yref": "y1"
         },
         {
          "font": {
           "color": "rgb(250,250,250)",
           "size": 10
          },
          "showarrow": false,
          "text": "5,2",
          "x": 2.25,
          "xref": "x1",
          "y": 6,
          "yref": "y1"
         },
         {
          "font": {
           "color": "rgb(250,250,250)",
           "size": 10
          },
          "showarrow": false,
          "text": "6,2",
          "x": 4.25,
          "xref": "x1",
          "y": 6,
          "yref": "y1"
         },
         {
          "font": {
           "color": "rgb(250,250,250)",
           "size": 10
          },
          "showarrow": false,
          "text": "7,3",
          "x": -6.25,
          "xref": "x1",
          "y": 5,
          "yref": "y1"
         },
         {
          "font": {
           "color": "rgb(250,250,250)",
           "size": 10
          },
          "showarrow": false,
          "text": "8,3",
          "x": -4.25,
          "xref": "x1",
          "y": 5,
          "yref": "y1"
         },
         {
          "font": {
           "color": "rgb(250,250,250)",
           "size": 10
          },
          "showarrow": false,
          "text": "9,3",
          "x": -2.25,
          "xref": "x1",
          "y": 5,
          "yref": "y1"
         },
         {
          "font": {
           "color": "rgb(250,250,250)",
           "size": 10
          },
          "showarrow": false,
          "text": "10,3",
          "x": -0.25,
          "xref": "x1",
          "y": 5,
          "yref": "y1"
         },
         {
          "font": {
           "color": "rgb(250,250,250)",
           "size": 10
          },
          "showarrow": false,
          "text": "11,3",
          "x": 1.75,
          "xref": "x1",
          "y": 5,
          "yref": "y1"
         },
         {
          "font": {
           "color": "rgb(250,250,250)",
           "size": 10
          },
          "showarrow": false,
          "text": "12,3",
          "x": 2.75,
          "xref": "x1",
          "y": 5,
          "yref": "y1"
         },
         {
          "font": {
           "color": "rgb(250,250,250)",
           "size": 10
          },
          "showarrow": false,
          "text": "13,3",
          "x": 3.75,
          "xref": "x1",
          "y": 5,
          "yref": "y1"
         },
         {
          "font": {
           "color": "rgb(250,250,250)",
           "size": 10
          },
          "showarrow": false,
          "text": "14,3",
          "x": 4.75,
          "xref": "x1",
          "y": 5,
          "yref": "y1"
         },
         {
          "font": {
           "color": "rgb(250,250,250)",
           "size": 10
          },
          "showarrow": false,
          "text": "15,4",
          "x": -6.75,
          "xref": "x1",
          "y": 4,
          "yref": "y1"
         },
         {
          "font": {
           "color": "rgb(250,250,250)",
           "size": 10
          },
          "showarrow": false,
          "text": "16,4",
          "x": -5.75,
          "xref": "x1",
          "y": 4,
          "yref": "y1"
         },
         {
          "font": {
           "color": "rgb(250,250,250)",
           "size": 10
          },
          "showarrow": false,
          "text": "17,4",
          "x": -4.75,
          "xref": "x1",
          "y": 4,
          "yref": "y1"
         },
         {
          "font": {
           "color": "rgb(250,250,250)",
           "size": 10
          },
          "showarrow": false,
          "text": "18,4",
          "x": -3.75,
          "xref": "x1",
          "y": 4,
          "yref": "y1"
         },
         {
          "font": {
           "color": "rgb(250,250,250)",
           "size": 10
          },
          "showarrow": false,
          "text": "19,4",
          "x": -2.75,
          "xref": "x1",
          "y": 4,
          "yref": "y1"
         },
         {
          "font": {
           "color": "rgb(250,250,250)",
           "size": 10
          },
          "showarrow": false,
          "text": "20,4",
          "x": -1.75,
          "xref": "x1",
          "y": 4,
          "yref": "y1"
         },
         {
          "font": {
           "color": "rgb(250,250,250)",
           "size": 10
          },
          "showarrow": false,
          "text": "21,4",
          "x": -0.75,
          "xref": "x1",
          "y": 4,
          "yref": "y1"
         },
         {
          "font": {
           "color": "rgb(250,250,250)",
           "size": 10
          },
          "showarrow": false,
          "text": "22,4",
          "x": 0.25,
          "xref": "x1",
          "y": 4,
          "yref": "y1"
         },
         {
          "font": {
           "color": "rgb(250,250,250)",
           "size": 10
          },
          "showarrow": false,
          "text": "23,4",
          "x": 1.25,
          "xref": "x1",
          "y": 4,
          "yref": "y1"
         },
         {
          "font": {
           "color": "rgb(250,250,250)",
           "size": 10
          },
          "showarrow": false,
          "text": "24,4",
          "x": 2.25,
          "xref": "x1",
          "y": 4,
          "yref": "y1"
         }
        ],
        "font": {
         "size": 12
        },
        "hovermode": "closest",
        "margin": {
         "b": 85,
         "l": 40,
         "r": 40,
         "t": 100
        },
        "plot_bgcolor": "rgb(248,248,248)",
        "showlegend": false,
        "title": "<thr> <com> 3 </com> <com> 1 </com> <com> 7 </com> </thr>",
        "xaxis": {
         "showgrid": false,
         "showline": false,
         "showticklabels": false,
         "zeroline": false
        },
        "yaxis": {
         "showgrid": false,
         "showline": false,
         "showticklabels": false,
         "zeroline": false
        }
       }
      },
      "text/html": [
       "<div id=\"436db623-bf99-41eb-a4df-68739a51e9fd\" style=\"height: 525px; width: 100%;\" class=\"plotly-graph-div\"></div><script type=\"text/javascript\">require([\"plotly\"], function(Plotly) { window.PLOTLYENV=window.PLOTLYENV || {};window.PLOTLYENV.BASE_URL=\"https://plot.ly\";Plotly.newPlot(\"436db623-bf99-41eb-a4df-68739a51e9fd\", [{\"mode\": \"lines\", \"hoverinfo\": \"none\", \"y\": [8.0, 7.0, null, 8.0, 7.0, null, 7.0, 6.0, null, 7.0, 6.0, null, 7.0, 6.0, null, 7.0, 6.0, null, 6.0, 5.0, null, 6.0, 5.0, null, 6.0, 5.0, null, 6.0, 5.0, null, 6.0, 5.0, null, 6.0, 5.0, null, 6.0, 5.0, null, 6.0, 5.0, null, 5.0, 4.0, null, 5.0, 4.0, null, 5.0, 4.0, null, 5.0, 4.0, null, 5.0, 4.0, null, 5.0, 4.0, null, 5.0, 4.0, null, 5.0, 4.0, null, 5.0, 4.0, null, 5.0, 4.0, null], \"x\": [0.0, -3.25, null, 0.0, 3.25, null, -3.25, -5.25, null, -3.25, -1.25, null, 3.25, 2.25, null, 3.25, 4.25, null, -5.25, -6.25, null, -5.25, -4.25, null, -1.25, -2.25, null, -1.25, -0.25, null, 2.25, 1.75, null, 2.25, 2.75, null, 4.25, 3.75, null, 4.25, 4.75, null, -6.25, -6.75, null, -6.25, -5.75, null, -4.25, -4.75, null, -4.25, -3.75, null, -2.25, -2.75, null, -2.25, -1.75, null, -0.25, -0.75, null, -0.25, 0.25, null, 1.75, 1.25, null, 1.75, 2.25, null], \"line\": {\"color\": \"rgb(210,210,210)\", \"width\": 1}, \"type\": \"scatter\"}, {\"opacity\": 0.8, \"name\": \"\", \"text\": [\"article\", \"1,1\", \"2,1\", \"3,2\", \"4,2\", \"5,2\", \"6,2\", \"7,3\", \"8,3\", \"9,3\", \"10,3\", \"11,3\", \"12,3\", \"13,3\", \"14,3\", \"15,4\", \"16,4\", \"17,4\", \"18,4\", \"19,4\", \"20,4\", \"21,4\", \"22,4\", \"23,4\", \"24,4\"], \"marker\": {\"color\": [\"#989898\", \"#EE7600\", \"#6175c1\", \"#EE7600\", \"#6175c1\", \"#6175c1\", \"#6175c1\", \"#DB4551\", \"#6175c1\", \"#6175c1\", \"#6175c1\", \"#6175c1\", \"#6175c1\", \"#6175c1\", \"#6175c1\", \"#6175c1\", \"#6175c1\", \"#6175c1\", \"#6175c1\", \"#6175c1\", \"#6175c1\", \"#6175c1\", \"#6175c1\", \"#6175c1\", \"#6175c1\"], \"line\": {\"color\": \"rgb(50,50,50)\", \"width\": 1}, \"symbol\": \"dot\", \"size\": 35}, \"mode\": \"markers\", \"hoverinfo\": \"text\", \"y\": [8.0, 7.0, 7.0, 6.0, 6.0, 6.0, 6.0, 5.0, 5.0, 5.0, 5.0, 5.0, 5.0, 5.0, 5.0, 4.0, 4.0, 4.0, 4.0, 4.0, 4.0, 4.0, 4.0, 4.0, 4.0], \"x\": [0.0, -3.25, 3.25, -5.25, -1.25, 2.25, 4.25, -6.25, -4.25, -2.25, -0.25, 1.75, 2.75, 3.75, 4.75, -6.75, -5.75, -4.75, -3.75, -2.75, -1.75, -0.75, 0.25, 1.25, 2.25], \"type\": \"scatter\"}], {\"showlegend\": false, \"title\": \"<thr> <com> 3 </com> <com> 1 </com> <com> 7 </com> </thr>\", \"plot_bgcolor\": \"rgb(248,248,248)\", \"yaxis\": {\"zeroline\": false, \"showline\": false, \"showticklabels\": false, \"showgrid\": false}, \"xaxis\": {\"zeroline\": false, \"showline\": false, \"showticklabels\": false, \"showgrid\": false}, \"hovermode\": \"closest\", \"font\": {\"size\": 12}, \"margin\": {\"r\": 40, \"b\": 85, \"t\": 100, \"l\": 40}, \"annotations\": [{\"xref\": \"x1\", \"yref\": \"y1\", \"text\": \"article\", \"y\": 8.0, \"x\": 0.0, \"font\": {\"color\": \"rgb(250,250,250)\", \"size\": 10}, \"showarrow\": false}, {\"xref\": \"x1\", \"yref\": \"y1\", \"text\": \"1,1\", \"y\": 7.0, \"x\": -3.25, \"font\": {\"color\": \"rgb(250,250,250)\", \"size\": 10}, \"showarrow\": false}, {\"xref\": \"x1\", \"yref\": \"y1\", \"text\": \"2,1\", \"y\": 7.0, \"x\": 3.25, \"font\": {\"color\": \"rgb(250,250,250)\", \"size\": 10}, \"showarrow\": false}, {\"xref\": \"x1\", \"yref\": \"y1\", \"text\": \"3,2\", \"y\": 6.0, \"x\": -5.25, \"font\": {\"color\": \"rgb(250,250,250)\", \"size\": 10}, \"showarrow\": false}, {\"xref\": \"x1\", \"yref\": \"y1\", \"text\": \"4,2\", \"y\": 6.0, \"x\": -1.25, \"font\": {\"color\": \"rgb(250,250,250)\", \"size\": 10}, \"showarrow\": false}, {\"xref\": \"x1\", \"yref\": \"y1\", \"text\": \"5,2\", \"y\": 6.0, \"x\": 2.25, \"font\": {\"color\": \"rgb(250,250,250)\", \"size\": 10}, \"showarrow\": false}, {\"xref\": \"x1\", \"yref\": \"y1\", \"text\": \"6,2\", \"y\": 6.0, \"x\": 4.25, \"font\": {\"color\": \"rgb(250,250,250)\", \"size\": 10}, \"showarrow\": false}, {\"xref\": \"x1\", \"yref\": \"y1\", \"text\": \"7,3\", \"y\": 5.0, \"x\": -6.25, \"font\": {\"color\": \"rgb(250,250,250)\", \"size\": 10}, \"showarrow\": false}, {\"xref\": \"x1\", \"yref\": \"y1\", \"text\": \"8,3\", \"y\": 5.0, \"x\": -4.25, \"font\": {\"color\": \"rgb(250,250,250)\", \"size\": 10}, \"showarrow\": false}, {\"xref\": \"x1\", \"yref\": \"y1\", \"text\": \"9,3\", \"y\": 5.0, \"x\": -2.25, \"font\": {\"color\": \"rgb(250,250,250)\", \"size\": 10}, \"showarrow\": false}, {\"xref\": \"x1\", \"yref\": \"y1\", \"text\": \"10,3\", \"y\": 5.0, \"x\": -0.25, \"font\": {\"color\": \"rgb(250,250,250)\", \"size\": 10}, \"showarrow\": false}, {\"xref\": \"x1\", \"yref\": \"y1\", \"text\": \"11,3\", \"y\": 5.0, \"x\": 1.75, \"font\": {\"color\": \"rgb(250,250,250)\", \"size\": 10}, \"showarrow\": false}, {\"xref\": \"x1\", \"yref\": \"y1\", \"text\": \"12,3\", \"y\": 5.0, \"x\": 2.75, \"font\": {\"color\": \"rgb(250,250,250)\", \"size\": 10}, \"showarrow\": false}, {\"xref\": \"x1\", \"yref\": \"y1\", \"text\": \"13,3\", \"y\": 5.0, \"x\": 3.75, \"font\": {\"color\": \"rgb(250,250,250)\", \"size\": 10}, \"showarrow\": false}, {\"xref\": \"x1\", \"yref\": \"y1\", \"text\": \"14,3\", \"y\": 5.0, \"x\": 4.75, \"font\": {\"color\": \"rgb(250,250,250)\", \"size\": 10}, \"showarrow\": false}, {\"xref\": \"x1\", \"yref\": \"y1\", \"text\": \"15,4\", \"y\": 4.0, \"x\": -6.75, \"font\": {\"color\": \"rgb(250,250,250)\", \"size\": 10}, \"showarrow\": false}, {\"xref\": \"x1\", \"yref\": \"y1\", \"text\": \"16,4\", \"y\": 4.0, \"x\": -5.75, \"font\": {\"color\": \"rgb(250,250,250)\", \"size\": 10}, \"showarrow\": false}, {\"xref\": \"x1\", \"yref\": \"y1\", \"text\": \"17,4\", \"y\": 4.0, \"x\": -4.75, \"font\": {\"color\": \"rgb(250,250,250)\", \"size\": 10}, \"showarrow\": false}, {\"xref\": \"x1\", \"yref\": \"y1\", \"text\": \"18,4\", \"y\": 4.0, \"x\": -3.75, \"font\": {\"color\": \"rgb(250,250,250)\", \"size\": 10}, \"showarrow\": false}, {\"xref\": \"x1\", \"yref\": \"y1\", \"text\": \"19,4\", \"y\": 4.0, \"x\": -2.75, \"font\": {\"color\": \"rgb(250,250,250)\", \"size\": 10}, \"showarrow\": false}, {\"xref\": \"x1\", \"yref\": \"y1\", \"text\": \"20,4\", \"y\": 4.0, \"x\": -1.75, \"font\": {\"color\": \"rgb(250,250,250)\", \"size\": 10}, \"showarrow\": false}, {\"xref\": \"x1\", \"yref\": \"y1\", \"text\": \"21,4\", \"y\": 4.0, \"x\": -0.75, \"font\": {\"color\": \"rgb(250,250,250)\", \"size\": 10}, \"showarrow\": false}, {\"xref\": \"x1\", \"yref\": \"y1\", \"text\": \"22,4\", \"y\": 4.0, \"x\": 0.25, \"font\": {\"color\": \"rgb(250,250,250)\", \"size\": 10}, \"showarrow\": false}, {\"xref\": \"x1\", \"yref\": \"y1\", \"text\": \"23,4\", \"y\": 4.0, \"x\": 1.25, \"font\": {\"color\": \"rgb(250,250,250)\", \"size\": 10}, \"showarrow\": false}, {\"xref\": \"x1\", \"yref\": \"y1\", \"text\": \"24,4\", \"y\": 4.0, \"x\": 2.25, \"font\": {\"color\": \"rgb(250,250,250)\", \"size\": 10}, \"showarrow\": false}]}, {\"linkText\": \"Export to plot.ly\", \"showLink\": true})});</script>"
      ],
      "text/vnd.plotly.v1+html": [
       "<div id=\"436db623-bf99-41eb-a4df-68739a51e9fd\" style=\"height: 525px; width: 100%;\" class=\"plotly-graph-div\"></div><script type=\"text/javascript\">require([\"plotly\"], function(Plotly) { window.PLOTLYENV=window.PLOTLYENV || {};window.PLOTLYENV.BASE_URL=\"https://plot.ly\";Plotly.newPlot(\"436db623-bf99-41eb-a4df-68739a51e9fd\", [{\"mode\": \"lines\", \"hoverinfo\": \"none\", \"y\": [8.0, 7.0, null, 8.0, 7.0, null, 7.0, 6.0, null, 7.0, 6.0, null, 7.0, 6.0, null, 7.0, 6.0, null, 6.0, 5.0, null, 6.0, 5.0, null, 6.0, 5.0, null, 6.0, 5.0, null, 6.0, 5.0, null, 6.0, 5.0, null, 6.0, 5.0, null, 6.0, 5.0, null, 5.0, 4.0, null, 5.0, 4.0, null, 5.0, 4.0, null, 5.0, 4.0, null, 5.0, 4.0, null, 5.0, 4.0, null, 5.0, 4.0, null, 5.0, 4.0, null, 5.0, 4.0, null, 5.0, 4.0, null], \"x\": [0.0, -3.25, null, 0.0, 3.25, null, -3.25, -5.25, null, -3.25, -1.25, null, 3.25, 2.25, null, 3.25, 4.25, null, -5.25, -6.25, null, -5.25, -4.25, null, -1.25, -2.25, null, -1.25, -0.25, null, 2.25, 1.75, null, 2.25, 2.75, null, 4.25, 3.75, null, 4.25, 4.75, null, -6.25, -6.75, null, -6.25, -5.75, null, -4.25, -4.75, null, -4.25, -3.75, null, -2.25, -2.75, null, -2.25, -1.75, null, -0.25, -0.75, null, -0.25, 0.25, null, 1.75, 1.25, null, 1.75, 2.25, null], \"line\": {\"color\": \"rgb(210,210,210)\", \"width\": 1}, \"type\": \"scatter\"}, {\"opacity\": 0.8, \"name\": \"\", \"text\": [\"article\", \"1,1\", \"2,1\", \"3,2\", \"4,2\", \"5,2\", \"6,2\", \"7,3\", \"8,3\", \"9,3\", \"10,3\", \"11,3\", \"12,3\", \"13,3\", \"14,3\", \"15,4\", \"16,4\", \"17,4\", \"18,4\", \"19,4\", \"20,4\", \"21,4\", \"22,4\", \"23,4\", \"24,4\"], \"marker\": {\"color\": [\"#989898\", \"#EE7600\", \"#6175c1\", \"#EE7600\", \"#6175c1\", \"#6175c1\", \"#6175c1\", \"#DB4551\", \"#6175c1\", \"#6175c1\", \"#6175c1\", \"#6175c1\", \"#6175c1\", \"#6175c1\", \"#6175c1\", \"#6175c1\", \"#6175c1\", \"#6175c1\", \"#6175c1\", \"#6175c1\", \"#6175c1\", \"#6175c1\", \"#6175c1\", \"#6175c1\", \"#6175c1\"], \"line\": {\"color\": \"rgb(50,50,50)\", \"width\": 1}, \"symbol\": \"dot\", \"size\": 35}, \"mode\": \"markers\", \"hoverinfo\": \"text\", \"y\": [8.0, 7.0, 7.0, 6.0, 6.0, 6.0, 6.0, 5.0, 5.0, 5.0, 5.0, 5.0, 5.0, 5.0, 5.0, 4.0, 4.0, 4.0, 4.0, 4.0, 4.0, 4.0, 4.0, 4.0, 4.0], \"x\": [0.0, -3.25, 3.25, -5.25, -1.25, 2.25, 4.25, -6.25, -4.25, -2.25, -0.25, 1.75, 2.75, 3.75, 4.75, -6.75, -5.75, -4.75, -3.75, -2.75, -1.75, -0.75, 0.25, 1.25, 2.25], \"type\": \"scatter\"}], {\"showlegend\": false, \"title\": \"<thr> <com> 3 </com> <com> 1 </com> <com> 7 </com> </thr>\", \"plot_bgcolor\": \"rgb(248,248,248)\", \"yaxis\": {\"zeroline\": false, \"showline\": false, \"showticklabels\": false, \"showgrid\": false}, \"xaxis\": {\"zeroline\": false, \"showline\": false, \"showticklabels\": false, \"showgrid\": false}, \"hovermode\": \"closest\", \"font\": {\"size\": 12}, \"margin\": {\"r\": 40, \"b\": 85, \"t\": 100, \"l\": 40}, \"annotations\": [{\"xref\": \"x1\", \"yref\": \"y1\", \"text\": \"article\", \"y\": 8.0, \"x\": 0.0, \"font\": {\"color\": \"rgb(250,250,250)\", \"size\": 10}, \"showarrow\": false}, {\"xref\": \"x1\", \"yref\": \"y1\", \"text\": \"1,1\", \"y\": 7.0, \"x\": -3.25, \"font\": {\"color\": \"rgb(250,250,250)\", \"size\": 10}, \"showarrow\": false}, {\"xref\": \"x1\", \"yref\": \"y1\", \"text\": \"2,1\", \"y\": 7.0, \"x\": 3.25, \"font\": {\"color\": \"rgb(250,250,250)\", \"size\": 10}, \"showarrow\": false}, {\"xref\": \"x1\", \"yref\": \"y1\", \"text\": \"3,2\", \"y\": 6.0, \"x\": -5.25, \"font\": {\"color\": \"rgb(250,250,250)\", \"size\": 10}, \"showarrow\": false}, {\"xref\": \"x1\", \"yref\": \"y1\", \"text\": \"4,2\", \"y\": 6.0, \"x\": -1.25, \"font\": {\"color\": \"rgb(250,250,250)\", \"size\": 10}, \"showarrow\": false}, {\"xref\": \"x1\", \"yref\": \"y1\", \"text\": \"5,2\", \"y\": 6.0, \"x\": 2.25, \"font\": {\"color\": \"rgb(250,250,250)\", \"size\": 10}, \"showarrow\": false}, {\"xref\": \"x1\", \"yref\": \"y1\", \"text\": \"6,2\", \"y\": 6.0, \"x\": 4.25, \"font\": {\"color\": \"rgb(250,250,250)\", \"size\": 10}, \"showarrow\": false}, {\"xref\": \"x1\", \"yref\": \"y1\", \"text\": \"7,3\", \"y\": 5.0, \"x\": -6.25, \"font\": {\"color\": \"rgb(250,250,250)\", \"size\": 10}, \"showarrow\": false}, {\"xref\": \"x1\", \"yref\": \"y1\", \"text\": \"8,3\", \"y\": 5.0, \"x\": -4.25, \"font\": {\"color\": \"rgb(250,250,250)\", \"size\": 10}, \"showarrow\": false}, {\"xref\": \"x1\", \"yref\": \"y1\", \"text\": \"9,3\", \"y\": 5.0, \"x\": -2.25, \"font\": {\"color\": \"rgb(250,250,250)\", \"size\": 10}, \"showarrow\": false}, {\"xref\": \"x1\", \"yref\": \"y1\", \"text\": \"10,3\", \"y\": 5.0, \"x\": -0.25, \"font\": {\"color\": \"rgb(250,250,250)\", \"size\": 10}, \"showarrow\": false}, {\"xref\": \"x1\", \"yref\": \"y1\", \"text\": \"11,3\", \"y\": 5.0, \"x\": 1.75, \"font\": {\"color\": \"rgb(250,250,250)\", \"size\": 10}, \"showarrow\": false}, {\"xref\": \"x1\", \"yref\": \"y1\", \"text\": \"12,3\", \"y\": 5.0, \"x\": 2.75, \"font\": {\"color\": \"rgb(250,250,250)\", \"size\": 10}, \"showarrow\": false}, {\"xref\": \"x1\", \"yref\": \"y1\", \"text\": \"13,3\", \"y\": 5.0, \"x\": 3.75, \"font\": {\"color\": \"rgb(250,250,250)\", \"size\": 10}, \"showarrow\": false}, {\"xref\": \"x1\", \"yref\": \"y1\", \"text\": \"14,3\", \"y\": 5.0, \"x\": 4.75, \"font\": {\"color\": \"rgb(250,250,250)\", \"size\": 10}, \"showarrow\": false}, {\"xref\": \"x1\", \"yref\": \"y1\", \"text\": \"15,4\", \"y\": 4.0, \"x\": -6.75, \"font\": {\"color\": \"rgb(250,250,250)\", \"size\": 10}, \"showarrow\": false}, {\"xref\": \"x1\", \"yref\": \"y1\", \"text\": \"16,4\", \"y\": 4.0, \"x\": -5.75, \"font\": {\"color\": \"rgb(250,250,250)\", \"size\": 10}, \"showarrow\": false}, {\"xref\": \"x1\", \"yref\": \"y1\", \"text\": \"17,4\", \"y\": 4.0, \"x\": -4.75, \"font\": {\"color\": \"rgb(250,250,250)\", \"size\": 10}, \"showarrow\": false}, {\"xref\": \"x1\", \"yref\": \"y1\", \"text\": \"18,4\", \"y\": 4.0, \"x\": -3.75, \"font\": {\"color\": \"rgb(250,250,250)\", \"size\": 10}, \"showarrow\": false}, {\"xref\": \"x1\", \"yref\": \"y1\", \"text\": \"19,4\", \"y\": 4.0, \"x\": -2.75, \"font\": {\"color\": \"rgb(250,250,250)\", \"size\": 10}, \"showarrow\": false}, {\"xref\": \"x1\", \"yref\": \"y1\", \"text\": \"20,4\", \"y\": 4.0, \"x\": -1.75, \"font\": {\"color\": \"rgb(250,250,250)\", \"size\": 10}, \"showarrow\": false}, {\"xref\": \"x1\", \"yref\": \"y1\", \"text\": \"21,4\", \"y\": 4.0, \"x\": -0.75, \"font\": {\"color\": \"rgb(250,250,250)\", \"size\": 10}, \"showarrow\": false}, {\"xref\": \"x1\", \"yref\": \"y1\", \"text\": \"22,4\", \"y\": 4.0, \"x\": 0.25, \"font\": {\"color\": \"rgb(250,250,250)\", \"size\": 10}, \"showarrow\": false}, {\"xref\": \"x1\", \"yref\": \"y1\", \"text\": \"23,4\", \"y\": 4.0, \"x\": 1.25, \"font\": {\"color\": \"rgb(250,250,250)\", \"size\": 10}, \"showarrow\": false}, {\"xref\": \"x1\", \"yref\": \"y1\", \"text\": \"24,4\", \"y\": 4.0, \"x\": 2.25, \"font\": {\"color\": \"rgb(250,250,250)\", \"size\": 10}, \"showarrow\": false}]}, {\"linkText\": \"Export to plot.ly\", \"showLink\": true})});</script>"
      ]
     },
     "metadata": {},
     "output_type": "display_data"
    },
    {
     "data": {
      "application/vnd.plotly.v1+json": {
       "data": [
        {
         "hoverinfo": "none",
         "line": {
          "color": "rgb(210,210,210)",
          "width": 1
         },
         "mode": "lines",
         "type": "scatter",
         "x": [
          0,
          -3.25,
          null,
          0,
          3.25,
          null,
          -3.25,
          -5.25,
          null,
          -3.25,
          -1.25,
          null,
          3.25,
          2.25,
          null,
          3.25,
          4.25,
          null,
          -5.25,
          -6.25,
          null,
          -5.25,
          -4.25,
          null,
          -1.25,
          -2.25,
          null,
          -1.25,
          -0.25,
          null,
          2.25,
          1.75,
          null,
          2.25,
          2.75,
          null,
          4.25,
          3.75,
          null,
          4.25,
          4.75,
          null,
          -6.25,
          -6.75,
          null,
          -6.25,
          -5.75,
          null,
          -4.25,
          -4.75,
          null,
          -4.25,
          -3.75,
          null,
          -2.25,
          -2.75,
          null,
          -2.25,
          -1.75,
          null,
          -0.25,
          -0.75,
          null,
          -0.25,
          0.25,
          null,
          1.75,
          1.25,
          null,
          1.75,
          2.25,
          null
         ],
         "y": [
          8,
          7,
          null,
          8,
          7,
          null,
          7,
          6,
          null,
          7,
          6,
          null,
          7,
          6,
          null,
          7,
          6,
          null,
          6,
          5,
          null,
          6,
          5,
          null,
          6,
          5,
          null,
          6,
          5,
          null,
          6,
          5,
          null,
          6,
          5,
          null,
          6,
          5,
          null,
          6,
          5,
          null,
          5,
          4,
          null,
          5,
          4,
          null,
          5,
          4,
          null,
          5,
          4,
          null,
          5,
          4,
          null,
          5,
          4,
          null,
          5,
          4,
          null,
          5,
          4,
          null,
          5,
          4,
          null,
          5,
          4,
          null
         ]
        },
        {
         "hoverinfo": "text",
         "marker": {
          "color": [
           "#989898",
           "#EE7600",
           "#6175c1",
           "#EE7600",
           "#6175c1",
           "#6175c1",
           "#6175c1",
           "#6175c1",
           "#DB4551",
           "#6175c1",
           "#6175c1",
           "#6175c1",
           "#6175c1",
           "#6175c1",
           "#6175c1",
           "#6175c1",
           "#6175c1",
           "#6175c1",
           "#6175c1",
           "#6175c1",
           "#6175c1",
           "#6175c1",
           "#6175c1",
           "#6175c1",
           "#6175c1"
          ],
          "line": {
           "color": "rgb(50,50,50)",
           "width": 1
          },
          "size": 35,
          "symbol": "dot"
         },
         "mode": "markers",
         "name": "",
         "opacity": 0.8,
         "text": [
          "article",
          "1,1",
          "2,1",
          "3,2",
          "4,2",
          "5,2",
          "6,2",
          "7,3",
          "8,3",
          "9,3",
          "10,3",
          "11,3",
          "12,3",
          "13,3",
          "14,3",
          "15,4",
          "16,4",
          "17,4",
          "18,4",
          "19,4",
          "20,4",
          "21,4",
          "22,4",
          "23,4",
          "24,4"
         ],
         "type": "scatter",
         "x": [
          0,
          -3.25,
          3.25,
          -5.25,
          -1.25,
          2.25,
          4.25,
          -6.25,
          -4.25,
          -2.25,
          -0.25,
          1.75,
          2.75,
          3.75,
          4.75,
          -6.75,
          -5.75,
          -4.75,
          -3.75,
          -2.75,
          -1.75,
          -0.75,
          0.25,
          1.25,
          2.25
         ],
         "y": [
          8,
          7,
          7,
          6,
          6,
          6,
          6,
          5,
          5,
          5,
          5,
          5,
          5,
          5,
          5,
          4,
          4,
          4,
          4,
          4,
          4,
          4,
          4,
          4,
          4
         ]
        }
       ],
       "layout": {
        "annotations": [
         {
          "font": {
           "color": "rgb(250,250,250)",
           "size": 10
          },
          "showarrow": false,
          "text": "article",
          "x": 0,
          "xref": "x1",
          "y": 8,
          "yref": "y1"
         },
         {
          "font": {
           "color": "rgb(250,250,250)",
           "size": 10
          },
          "showarrow": false,
          "text": "1,1",
          "x": -3.25,
          "xref": "x1",
          "y": 7,
          "yref": "y1"
         },
         {
          "font": {
           "color": "rgb(250,250,250)",
           "size": 10
          },
          "showarrow": false,
          "text": "2,1",
          "x": 3.25,
          "xref": "x1",
          "y": 7,
          "yref": "y1"
         },
         {
          "font": {
           "color": "rgb(250,250,250)",
           "size": 10
          },
          "showarrow": false,
          "text": "3,2",
          "x": -5.25,
          "xref": "x1",
          "y": 6,
          "yref": "y1"
         },
         {
          "font": {
           "color": "rgb(250,250,250)",
           "size": 10
          },
          "showarrow": false,
          "text": "4,2",
          "x": -1.25,
          "xref": "x1",
          "y": 6,
          "yref": "y1"
         },
         {
          "font": {
           "color": "rgb(250,250,250)",
           "size": 10
          },
          "showarrow": false,
          "text": "5,2",
          "x": 2.25,
          "xref": "x1",
          "y": 6,
          "yref": "y1"
         },
         {
          "font": {
           "color": "rgb(250,250,250)",
           "size": 10
          },
          "showarrow": false,
          "text": "6,2",
          "x": 4.25,
          "xref": "x1",
          "y": 6,
          "yref": "y1"
         },
         {
          "font": {
           "color": "rgb(250,250,250)",
           "size": 10
          },
          "showarrow": false,
          "text": "7,3",
          "x": -6.25,
          "xref": "x1",
          "y": 5,
          "yref": "y1"
         },
         {
          "font": {
           "color": "rgb(250,250,250)",
           "size": 10
          },
          "showarrow": false,
          "text": "8,3",
          "x": -4.25,
          "xref": "x1",
          "y": 5,
          "yref": "y1"
         },
         {
          "font": {
           "color": "rgb(250,250,250)",
           "size": 10
          },
          "showarrow": false,
          "text": "9,3",
          "x": -2.25,
          "xref": "x1",
          "y": 5,
          "yref": "y1"
         },
         {
          "font": {
           "color": "rgb(250,250,250)",
           "size": 10
          },
          "showarrow": false,
          "text": "10,3",
          "x": -0.25,
          "xref": "x1",
          "y": 5,
          "yref": "y1"
         },
         {
          "font": {
           "color": "rgb(250,250,250)",
           "size": 10
          },
          "showarrow": false,
          "text": "11,3",
          "x": 1.75,
          "xref": "x1",
          "y": 5,
          "yref": "y1"
         },
         {
          "font": {
           "color": "rgb(250,250,250)",
           "size": 10
          },
          "showarrow": false,
          "text": "12,3",
          "x": 2.75,
          "xref": "x1",
          "y": 5,
          "yref": "y1"
         },
         {
          "font": {
           "color": "rgb(250,250,250)",
           "size": 10
          },
          "showarrow": false,
          "text": "13,3",
          "x": 3.75,
          "xref": "x1",
          "y": 5,
          "yref": "y1"
         },
         {
          "font": {
           "color": "rgb(250,250,250)",
           "size": 10
          },
          "showarrow": false,
          "text": "14,3",
          "x": 4.75,
          "xref": "x1",
          "y": 5,
          "yref": "y1"
         },
         {
          "font": {
           "color": "rgb(250,250,250)",
           "size": 10
          },
          "showarrow": false,
          "text": "15,4",
          "x": -6.75,
          "xref": "x1",
          "y": 4,
          "yref": "y1"
         },
         {
          "font": {
           "color": "rgb(250,250,250)",
           "size": 10
          },
          "showarrow": false,
          "text": "16,4",
          "x": -5.75,
          "xref": "x1",
          "y": 4,
          "yref": "y1"
         },
         {
          "font": {
           "color": "rgb(250,250,250)",
           "size": 10
          },
          "showarrow": false,
          "text": "17,4",
          "x": -4.75,
          "xref": "x1",
          "y": 4,
          "yref": "y1"
         },
         {
          "font": {
           "color": "rgb(250,250,250)",
           "size": 10
          },
          "showarrow": false,
          "text": "18,4",
          "x": -3.75,
          "xref": "x1",
          "y": 4,
          "yref": "y1"
         },
         {
          "font": {
           "color": "rgb(250,250,250)",
           "size": 10
          },
          "showarrow": false,
          "text": "19,4",
          "x": -2.75,
          "xref": "x1",
          "y": 4,
          "yref": "y1"
         },
         {
          "font": {
           "color": "rgb(250,250,250)",
           "size": 10
          },
          "showarrow": false,
          "text": "20,4",
          "x": -1.75,
          "xref": "x1",
          "y": 4,
          "yref": "y1"
         },
         {
          "font": {
           "color": "rgb(250,250,250)",
           "size": 10
          },
          "showarrow": false,
          "text": "21,4",
          "x": -0.75,
          "xref": "x1",
          "y": 4,
          "yref": "y1"
         },
         {
          "font": {
           "color": "rgb(250,250,250)",
           "size": 10
          },
          "showarrow": false,
          "text": "22,4",
          "x": 0.25,
          "xref": "x1",
          "y": 4,
          "yref": "y1"
         },
         {
          "font": {
           "color": "rgb(250,250,250)",
           "size": 10
          },
          "showarrow": false,
          "text": "23,4",
          "x": 1.25,
          "xref": "x1",
          "y": 4,
          "yref": "y1"
         },
         {
          "font": {
           "color": "rgb(250,250,250)",
           "size": 10
          },
          "showarrow": false,
          "text": "24,4",
          "x": 2.25,
          "xref": "x1",
          "y": 4,
          "yref": "y1"
         }
        ],
        "font": {
         "size": 12
        },
        "hovermode": "closest",
        "margin": {
         "b": 85,
         "l": 40,
         "r": 40,
         "t": 100
        },
        "plot_bgcolor": "rgb(248,248,248)",
        "showlegend": false,
        "title": "<thr> <com> 3 </com> <com> 1 </com> <com> 8 </com> </thr>",
        "xaxis": {
         "showgrid": false,
         "showline": false,
         "showticklabels": false,
         "zeroline": false
        },
        "yaxis": {
         "showgrid": false,
         "showline": false,
         "showticklabels": false,
         "zeroline": false
        }
       }
      },
      "text/html": [
       "<div id=\"b8056c15-2715-4126-81e5-46ef96ca917c\" style=\"height: 525px; width: 100%;\" class=\"plotly-graph-div\"></div><script type=\"text/javascript\">require([\"plotly\"], function(Plotly) { window.PLOTLYENV=window.PLOTLYENV || {};window.PLOTLYENV.BASE_URL=\"https://plot.ly\";Plotly.newPlot(\"b8056c15-2715-4126-81e5-46ef96ca917c\", [{\"mode\": \"lines\", \"hoverinfo\": \"none\", \"y\": [8.0, 7.0, null, 8.0, 7.0, null, 7.0, 6.0, null, 7.0, 6.0, null, 7.0, 6.0, null, 7.0, 6.0, null, 6.0, 5.0, null, 6.0, 5.0, null, 6.0, 5.0, null, 6.0, 5.0, null, 6.0, 5.0, null, 6.0, 5.0, null, 6.0, 5.0, null, 6.0, 5.0, null, 5.0, 4.0, null, 5.0, 4.0, null, 5.0, 4.0, null, 5.0, 4.0, null, 5.0, 4.0, null, 5.0, 4.0, null, 5.0, 4.0, null, 5.0, 4.0, null, 5.0, 4.0, null, 5.0, 4.0, null], \"x\": [0.0, -3.25, null, 0.0, 3.25, null, -3.25, -5.25, null, -3.25, -1.25, null, 3.25, 2.25, null, 3.25, 4.25, null, -5.25, -6.25, null, -5.25, -4.25, null, -1.25, -2.25, null, -1.25, -0.25, null, 2.25, 1.75, null, 2.25, 2.75, null, 4.25, 3.75, null, 4.25, 4.75, null, -6.25, -6.75, null, -6.25, -5.75, null, -4.25, -4.75, null, -4.25, -3.75, null, -2.25, -2.75, null, -2.25, -1.75, null, -0.25, -0.75, null, -0.25, 0.25, null, 1.75, 1.25, null, 1.75, 2.25, null], \"line\": {\"color\": \"rgb(210,210,210)\", \"width\": 1}, \"type\": \"scatter\"}, {\"opacity\": 0.8, \"name\": \"\", \"text\": [\"article\", \"1,1\", \"2,1\", \"3,2\", \"4,2\", \"5,2\", \"6,2\", \"7,3\", \"8,3\", \"9,3\", \"10,3\", \"11,3\", \"12,3\", \"13,3\", \"14,3\", \"15,4\", \"16,4\", \"17,4\", \"18,4\", \"19,4\", \"20,4\", \"21,4\", \"22,4\", \"23,4\", \"24,4\"], \"marker\": {\"color\": [\"#989898\", \"#EE7600\", \"#6175c1\", \"#EE7600\", \"#6175c1\", \"#6175c1\", \"#6175c1\", \"#6175c1\", \"#DB4551\", \"#6175c1\", \"#6175c1\", \"#6175c1\", \"#6175c1\", \"#6175c1\", \"#6175c1\", \"#6175c1\", \"#6175c1\", \"#6175c1\", \"#6175c1\", \"#6175c1\", \"#6175c1\", \"#6175c1\", \"#6175c1\", \"#6175c1\", \"#6175c1\"], \"line\": {\"color\": \"rgb(50,50,50)\", \"width\": 1}, \"symbol\": \"dot\", \"size\": 35}, \"mode\": \"markers\", \"hoverinfo\": \"text\", \"y\": [8.0, 7.0, 7.0, 6.0, 6.0, 6.0, 6.0, 5.0, 5.0, 5.0, 5.0, 5.0, 5.0, 5.0, 5.0, 4.0, 4.0, 4.0, 4.0, 4.0, 4.0, 4.0, 4.0, 4.0, 4.0], \"x\": [0.0, -3.25, 3.25, -5.25, -1.25, 2.25, 4.25, -6.25, -4.25, -2.25, -0.25, 1.75, 2.75, 3.75, 4.75, -6.75, -5.75, -4.75, -3.75, -2.75, -1.75, -0.75, 0.25, 1.25, 2.25], \"type\": \"scatter\"}], {\"showlegend\": false, \"title\": \"<thr> <com> 3 </com> <com> 1 </com> <com> 8 </com> </thr>\", \"plot_bgcolor\": \"rgb(248,248,248)\", \"yaxis\": {\"zeroline\": false, \"showline\": false, \"showticklabels\": false, \"showgrid\": false}, \"xaxis\": {\"zeroline\": false, \"showline\": false, \"showticklabels\": false, \"showgrid\": false}, \"hovermode\": \"closest\", \"font\": {\"size\": 12}, \"margin\": {\"r\": 40, \"b\": 85, \"t\": 100, \"l\": 40}, \"annotations\": [{\"xref\": \"x1\", \"yref\": \"y1\", \"text\": \"article\", \"y\": 8.0, \"x\": 0.0, \"font\": {\"color\": \"rgb(250,250,250)\", \"size\": 10}, \"showarrow\": false}, {\"xref\": \"x1\", \"yref\": \"y1\", \"text\": \"1,1\", \"y\": 7.0, \"x\": -3.25, \"font\": {\"color\": \"rgb(250,250,250)\", \"size\": 10}, \"showarrow\": false}, {\"xref\": \"x1\", \"yref\": \"y1\", \"text\": \"2,1\", \"y\": 7.0, \"x\": 3.25, \"font\": {\"color\": \"rgb(250,250,250)\", \"size\": 10}, \"showarrow\": false}, {\"xref\": \"x1\", \"yref\": \"y1\", \"text\": \"3,2\", \"y\": 6.0, \"x\": -5.25, \"font\": {\"color\": \"rgb(250,250,250)\", \"size\": 10}, \"showarrow\": false}, {\"xref\": \"x1\", \"yref\": \"y1\", \"text\": \"4,2\", \"y\": 6.0, \"x\": -1.25, \"font\": {\"color\": \"rgb(250,250,250)\", \"size\": 10}, \"showarrow\": false}, {\"xref\": \"x1\", \"yref\": \"y1\", \"text\": \"5,2\", \"y\": 6.0, \"x\": 2.25, \"font\": {\"color\": \"rgb(250,250,250)\", \"size\": 10}, \"showarrow\": false}, {\"xref\": \"x1\", \"yref\": \"y1\", \"text\": \"6,2\", \"y\": 6.0, \"x\": 4.25, \"font\": {\"color\": \"rgb(250,250,250)\", \"size\": 10}, \"showarrow\": false}, {\"xref\": \"x1\", \"yref\": \"y1\", \"text\": \"7,3\", \"y\": 5.0, \"x\": -6.25, \"font\": {\"color\": \"rgb(250,250,250)\", \"size\": 10}, \"showarrow\": false}, {\"xref\": \"x1\", \"yref\": \"y1\", \"text\": \"8,3\", \"y\": 5.0, \"x\": -4.25, \"font\": {\"color\": \"rgb(250,250,250)\", \"size\": 10}, \"showarrow\": false}, {\"xref\": \"x1\", \"yref\": \"y1\", \"text\": \"9,3\", \"y\": 5.0, \"x\": -2.25, \"font\": {\"color\": \"rgb(250,250,250)\", \"size\": 10}, \"showarrow\": false}, {\"xref\": \"x1\", \"yref\": \"y1\", \"text\": \"10,3\", \"y\": 5.0, \"x\": -0.25, \"font\": {\"color\": \"rgb(250,250,250)\", \"size\": 10}, \"showarrow\": false}, {\"xref\": \"x1\", \"yref\": \"y1\", \"text\": \"11,3\", \"y\": 5.0, \"x\": 1.75, \"font\": {\"color\": \"rgb(250,250,250)\", \"size\": 10}, \"showarrow\": false}, {\"xref\": \"x1\", \"yref\": \"y1\", \"text\": \"12,3\", \"y\": 5.0, \"x\": 2.75, \"font\": {\"color\": \"rgb(250,250,250)\", \"size\": 10}, \"showarrow\": false}, {\"xref\": \"x1\", \"yref\": \"y1\", \"text\": \"13,3\", \"y\": 5.0, \"x\": 3.75, \"font\": {\"color\": \"rgb(250,250,250)\", \"size\": 10}, \"showarrow\": false}, {\"xref\": \"x1\", \"yref\": \"y1\", \"text\": \"14,3\", \"y\": 5.0, \"x\": 4.75, \"font\": {\"color\": \"rgb(250,250,250)\", \"size\": 10}, \"showarrow\": false}, {\"xref\": \"x1\", \"yref\": \"y1\", \"text\": \"15,4\", \"y\": 4.0, \"x\": -6.75, \"font\": {\"color\": \"rgb(250,250,250)\", \"size\": 10}, \"showarrow\": false}, {\"xref\": \"x1\", \"yref\": \"y1\", \"text\": \"16,4\", \"y\": 4.0, \"x\": -5.75, \"font\": {\"color\": \"rgb(250,250,250)\", \"size\": 10}, \"showarrow\": false}, {\"xref\": \"x1\", \"yref\": \"y1\", \"text\": \"17,4\", \"y\": 4.0, \"x\": -4.75, \"font\": {\"color\": \"rgb(250,250,250)\", \"size\": 10}, \"showarrow\": false}, {\"xref\": \"x1\", \"yref\": \"y1\", \"text\": \"18,4\", \"y\": 4.0, \"x\": -3.75, \"font\": {\"color\": \"rgb(250,250,250)\", \"size\": 10}, \"showarrow\": false}, {\"xref\": \"x1\", \"yref\": \"y1\", \"text\": \"19,4\", \"y\": 4.0, \"x\": -2.75, \"font\": {\"color\": \"rgb(250,250,250)\", \"size\": 10}, \"showarrow\": false}, {\"xref\": \"x1\", \"yref\": \"y1\", \"text\": \"20,4\", \"y\": 4.0, \"x\": -1.75, \"font\": {\"color\": \"rgb(250,250,250)\", \"size\": 10}, \"showarrow\": false}, {\"xref\": \"x1\", \"yref\": \"y1\", \"text\": \"21,4\", \"y\": 4.0, \"x\": -0.75, \"font\": {\"color\": \"rgb(250,250,250)\", \"size\": 10}, \"showarrow\": false}, {\"xref\": \"x1\", \"yref\": \"y1\", \"text\": \"22,4\", \"y\": 4.0, \"x\": 0.25, \"font\": {\"color\": \"rgb(250,250,250)\", \"size\": 10}, \"showarrow\": false}, {\"xref\": \"x1\", \"yref\": \"y1\", \"text\": \"23,4\", \"y\": 4.0, \"x\": 1.25, \"font\": {\"color\": \"rgb(250,250,250)\", \"size\": 10}, \"showarrow\": false}, {\"xref\": \"x1\", \"yref\": \"y1\", \"text\": \"24,4\", \"y\": 4.0, \"x\": 2.25, \"font\": {\"color\": \"rgb(250,250,250)\", \"size\": 10}, \"showarrow\": false}]}, {\"linkText\": \"Export to plot.ly\", \"showLink\": true})});</script>"
      ],
      "text/vnd.plotly.v1+html": [
       "<div id=\"b8056c15-2715-4126-81e5-46ef96ca917c\" style=\"height: 525px; width: 100%;\" class=\"plotly-graph-div\"></div><script type=\"text/javascript\">require([\"plotly\"], function(Plotly) { window.PLOTLYENV=window.PLOTLYENV || {};window.PLOTLYENV.BASE_URL=\"https://plot.ly\";Plotly.newPlot(\"b8056c15-2715-4126-81e5-46ef96ca917c\", [{\"mode\": \"lines\", \"hoverinfo\": \"none\", \"y\": [8.0, 7.0, null, 8.0, 7.0, null, 7.0, 6.0, null, 7.0, 6.0, null, 7.0, 6.0, null, 7.0, 6.0, null, 6.0, 5.0, null, 6.0, 5.0, null, 6.0, 5.0, null, 6.0, 5.0, null, 6.0, 5.0, null, 6.0, 5.0, null, 6.0, 5.0, null, 6.0, 5.0, null, 5.0, 4.0, null, 5.0, 4.0, null, 5.0, 4.0, null, 5.0, 4.0, null, 5.0, 4.0, null, 5.0, 4.0, null, 5.0, 4.0, null, 5.0, 4.0, null, 5.0, 4.0, null, 5.0, 4.0, null], \"x\": [0.0, -3.25, null, 0.0, 3.25, null, -3.25, -5.25, null, -3.25, -1.25, null, 3.25, 2.25, null, 3.25, 4.25, null, -5.25, -6.25, null, -5.25, -4.25, null, -1.25, -2.25, null, -1.25, -0.25, null, 2.25, 1.75, null, 2.25, 2.75, null, 4.25, 3.75, null, 4.25, 4.75, null, -6.25, -6.75, null, -6.25, -5.75, null, -4.25, -4.75, null, -4.25, -3.75, null, -2.25, -2.75, null, -2.25, -1.75, null, -0.25, -0.75, null, -0.25, 0.25, null, 1.75, 1.25, null, 1.75, 2.25, null], \"line\": {\"color\": \"rgb(210,210,210)\", \"width\": 1}, \"type\": \"scatter\"}, {\"opacity\": 0.8, \"name\": \"\", \"text\": [\"article\", \"1,1\", \"2,1\", \"3,2\", \"4,2\", \"5,2\", \"6,2\", \"7,3\", \"8,3\", \"9,3\", \"10,3\", \"11,3\", \"12,3\", \"13,3\", \"14,3\", \"15,4\", \"16,4\", \"17,4\", \"18,4\", \"19,4\", \"20,4\", \"21,4\", \"22,4\", \"23,4\", \"24,4\"], \"marker\": {\"color\": [\"#989898\", \"#EE7600\", \"#6175c1\", \"#EE7600\", \"#6175c1\", \"#6175c1\", \"#6175c1\", \"#6175c1\", \"#DB4551\", \"#6175c1\", \"#6175c1\", \"#6175c1\", \"#6175c1\", \"#6175c1\", \"#6175c1\", \"#6175c1\", \"#6175c1\", \"#6175c1\", \"#6175c1\", \"#6175c1\", \"#6175c1\", \"#6175c1\", \"#6175c1\", \"#6175c1\", \"#6175c1\"], \"line\": {\"color\": \"rgb(50,50,50)\", \"width\": 1}, \"symbol\": \"dot\", \"size\": 35}, \"mode\": \"markers\", \"hoverinfo\": \"text\", \"y\": [8.0, 7.0, 7.0, 6.0, 6.0, 6.0, 6.0, 5.0, 5.0, 5.0, 5.0, 5.0, 5.0, 5.0, 5.0, 4.0, 4.0, 4.0, 4.0, 4.0, 4.0, 4.0, 4.0, 4.0, 4.0], \"x\": [0.0, -3.25, 3.25, -5.25, -1.25, 2.25, 4.25, -6.25, -4.25, -2.25, -0.25, 1.75, 2.75, 3.75, 4.75, -6.75, -5.75, -4.75, -3.75, -2.75, -1.75, -0.75, 0.25, 1.25, 2.25], \"type\": \"scatter\"}], {\"showlegend\": false, \"title\": \"<thr> <com> 3 </com> <com> 1 </com> <com> 8 </com> </thr>\", \"plot_bgcolor\": \"rgb(248,248,248)\", \"yaxis\": {\"zeroline\": false, \"showline\": false, \"showticklabels\": false, \"showgrid\": false}, \"xaxis\": {\"zeroline\": false, \"showline\": false, \"showticklabels\": false, \"showgrid\": false}, \"hovermode\": \"closest\", \"font\": {\"size\": 12}, \"margin\": {\"r\": 40, \"b\": 85, \"t\": 100, \"l\": 40}, \"annotations\": [{\"xref\": \"x1\", \"yref\": \"y1\", \"text\": \"article\", \"y\": 8.0, \"x\": 0.0, \"font\": {\"color\": \"rgb(250,250,250)\", \"size\": 10}, \"showarrow\": false}, {\"xref\": \"x1\", \"yref\": \"y1\", \"text\": \"1,1\", \"y\": 7.0, \"x\": -3.25, \"font\": {\"color\": \"rgb(250,250,250)\", \"size\": 10}, \"showarrow\": false}, {\"xref\": \"x1\", \"yref\": \"y1\", \"text\": \"2,1\", \"y\": 7.0, \"x\": 3.25, \"font\": {\"color\": \"rgb(250,250,250)\", \"size\": 10}, \"showarrow\": false}, {\"xref\": \"x1\", \"yref\": \"y1\", \"text\": \"3,2\", \"y\": 6.0, \"x\": -5.25, \"font\": {\"color\": \"rgb(250,250,250)\", \"size\": 10}, \"showarrow\": false}, {\"xref\": \"x1\", \"yref\": \"y1\", \"text\": \"4,2\", \"y\": 6.0, \"x\": -1.25, \"font\": {\"color\": \"rgb(250,250,250)\", \"size\": 10}, \"showarrow\": false}, {\"xref\": \"x1\", \"yref\": \"y1\", \"text\": \"5,2\", \"y\": 6.0, \"x\": 2.25, \"font\": {\"color\": \"rgb(250,250,250)\", \"size\": 10}, \"showarrow\": false}, {\"xref\": \"x1\", \"yref\": \"y1\", \"text\": \"6,2\", \"y\": 6.0, \"x\": 4.25, \"font\": {\"color\": \"rgb(250,250,250)\", \"size\": 10}, \"showarrow\": false}, {\"xref\": \"x1\", \"yref\": \"y1\", \"text\": \"7,3\", \"y\": 5.0, \"x\": -6.25, \"font\": {\"color\": \"rgb(250,250,250)\", \"size\": 10}, \"showarrow\": false}, {\"xref\": \"x1\", \"yref\": \"y1\", \"text\": \"8,3\", \"y\": 5.0, \"x\": -4.25, \"font\": {\"color\": \"rgb(250,250,250)\", \"size\": 10}, \"showarrow\": false}, {\"xref\": \"x1\", \"yref\": \"y1\", \"text\": \"9,3\", \"y\": 5.0, \"x\": -2.25, \"font\": {\"color\": \"rgb(250,250,250)\", \"size\": 10}, \"showarrow\": false}, {\"xref\": \"x1\", \"yref\": \"y1\", \"text\": \"10,3\", \"y\": 5.0, \"x\": -0.25, \"font\": {\"color\": \"rgb(250,250,250)\", \"size\": 10}, \"showarrow\": false}, {\"xref\": \"x1\", \"yref\": \"y1\", \"text\": \"11,3\", \"y\": 5.0, \"x\": 1.75, \"font\": {\"color\": \"rgb(250,250,250)\", \"size\": 10}, \"showarrow\": false}, {\"xref\": \"x1\", \"yref\": \"y1\", \"text\": \"12,3\", \"y\": 5.0, \"x\": 2.75, \"font\": {\"color\": \"rgb(250,250,250)\", \"size\": 10}, \"showarrow\": false}, {\"xref\": \"x1\", \"yref\": \"y1\", \"text\": \"13,3\", \"y\": 5.0, \"x\": 3.75, \"font\": {\"color\": \"rgb(250,250,250)\", \"size\": 10}, \"showarrow\": false}, {\"xref\": \"x1\", \"yref\": \"y1\", \"text\": \"14,3\", \"y\": 5.0, \"x\": 4.75, \"font\": {\"color\": \"rgb(250,250,250)\", \"size\": 10}, \"showarrow\": false}, {\"xref\": \"x1\", \"yref\": \"y1\", \"text\": \"15,4\", \"y\": 4.0, \"x\": -6.75, \"font\": {\"color\": \"rgb(250,250,250)\", \"size\": 10}, \"showarrow\": false}, {\"xref\": \"x1\", \"yref\": \"y1\", \"text\": \"16,4\", \"y\": 4.0, \"x\": -5.75, \"font\": {\"color\": \"rgb(250,250,250)\", \"size\": 10}, \"showarrow\": false}, {\"xref\": \"x1\", \"yref\": \"y1\", \"text\": \"17,4\", \"y\": 4.0, \"x\": -4.75, \"font\": {\"color\": \"rgb(250,250,250)\", \"size\": 10}, \"showarrow\": false}, {\"xref\": \"x1\", \"yref\": \"y1\", \"text\": \"18,4\", \"y\": 4.0, \"x\": -3.75, \"font\": {\"color\": \"rgb(250,250,250)\", \"size\": 10}, \"showarrow\": false}, {\"xref\": \"x1\", \"yref\": \"y1\", \"text\": \"19,4\", \"y\": 4.0, \"x\": -2.75, \"font\": {\"color\": \"rgb(250,250,250)\", \"size\": 10}, \"showarrow\": false}, {\"xref\": \"x1\", \"yref\": \"y1\", \"text\": \"20,4\", \"y\": 4.0, \"x\": -1.75, \"font\": {\"color\": \"rgb(250,250,250)\", \"size\": 10}, \"showarrow\": false}, {\"xref\": \"x1\", \"yref\": \"y1\", \"text\": \"21,4\", \"y\": 4.0, \"x\": -0.75, \"font\": {\"color\": \"rgb(250,250,250)\", \"size\": 10}, \"showarrow\": false}, {\"xref\": \"x1\", \"yref\": \"y1\", \"text\": \"22,4\", \"y\": 4.0, \"x\": 0.25, \"font\": {\"color\": \"rgb(250,250,250)\", \"size\": 10}, \"showarrow\": false}, {\"xref\": \"x1\", \"yref\": \"y1\", \"text\": \"23,4\", \"y\": 4.0, \"x\": 1.25, \"font\": {\"color\": \"rgb(250,250,250)\", \"size\": 10}, \"showarrow\": false}, {\"xref\": \"x1\", \"yref\": \"y1\", \"text\": \"24,4\", \"y\": 4.0, \"x\": 2.25, \"font\": {\"color\": \"rgb(250,250,250)\", \"size\": 10}, \"showarrow\": false}]}, {\"linkText\": \"Export to plot.ly\", \"showLink\": true})});</script>"
      ]
     },
     "metadata": {},
     "output_type": "display_data"
    },
    {
     "data": {
      "application/vnd.plotly.v1+json": {
       "data": [
        {
         "hoverinfo": "none",
         "line": {
          "color": "rgb(210,210,210)",
          "width": 1
         },
         "mode": "lines",
         "type": "scatter",
         "x": [
          0,
          -3.25,
          null,
          0,
          3.25,
          null,
          -3.25,
          -5.25,
          null,
          -3.25,
          -1.25,
          null,
          3.25,
          2.25,
          null,
          3.25,
          4.25,
          null,
          -5.25,
          -6.25,
          null,
          -5.25,
          -4.25,
          null,
          -1.25,
          -2.25,
          null,
          -1.25,
          -0.25,
          null,
          2.25,
          1.75,
          null,
          2.25,
          2.75,
          null,
          4.25,
          3.75,
          null,
          4.25,
          4.75,
          null,
          -6.25,
          -6.75,
          null,
          -6.25,
          -5.75,
          null,
          -4.25,
          -4.75,
          null,
          -4.25,
          -3.75,
          null,
          -2.25,
          -2.75,
          null,
          -2.25,
          -1.75,
          null,
          -0.25,
          -0.75,
          null,
          -0.25,
          0.25,
          null,
          1.75,
          1.25,
          null,
          1.75,
          2.25,
          null
         ],
         "y": [
          8,
          7,
          null,
          8,
          7,
          null,
          7,
          6,
          null,
          7,
          6,
          null,
          7,
          6,
          null,
          7,
          6,
          null,
          6,
          5,
          null,
          6,
          5,
          null,
          6,
          5,
          null,
          6,
          5,
          null,
          6,
          5,
          null,
          6,
          5,
          null,
          6,
          5,
          null,
          6,
          5,
          null,
          5,
          4,
          null,
          5,
          4,
          null,
          5,
          4,
          null,
          5,
          4,
          null,
          5,
          4,
          null,
          5,
          4,
          null,
          5,
          4,
          null,
          5,
          4,
          null,
          5,
          4,
          null,
          5,
          4,
          null
         ]
        },
        {
         "hoverinfo": "text",
         "marker": {
          "color": [
           "#989898",
           "#EE7600",
           "#6175c1",
           "#6175c1",
           "#EE7600",
           "#6175c1",
           "#6175c1",
           "#6175c1",
           "#6175c1",
           "#DB4551",
           "#6175c1",
           "#6175c1",
           "#6175c1",
           "#6175c1",
           "#6175c1",
           "#6175c1",
           "#6175c1",
           "#6175c1",
           "#6175c1",
           "#6175c1",
           "#6175c1",
           "#6175c1",
           "#6175c1",
           "#6175c1",
           "#6175c1"
          ],
          "line": {
           "color": "rgb(50,50,50)",
           "width": 1
          },
          "size": 35,
          "symbol": "dot"
         },
         "mode": "markers",
         "name": "",
         "opacity": 0.8,
         "text": [
          "article",
          "1,1",
          "2,1",
          "3,2",
          "4,2",
          "5,2",
          "6,2",
          "7,3",
          "8,3",
          "9,3",
          "10,3",
          "11,3",
          "12,3",
          "13,3",
          "14,3",
          "15,4",
          "16,4",
          "17,4",
          "18,4",
          "19,4",
          "20,4",
          "21,4",
          "22,4",
          "23,4",
          "24,4"
         ],
         "type": "scatter",
         "x": [
          0,
          -3.25,
          3.25,
          -5.25,
          -1.25,
          2.25,
          4.25,
          -6.25,
          -4.25,
          -2.25,
          -0.25,
          1.75,
          2.75,
          3.75,
          4.75,
          -6.75,
          -5.75,
          -4.75,
          -3.75,
          -2.75,
          -1.75,
          -0.75,
          0.25,
          1.25,
          2.25
         ],
         "y": [
          8,
          7,
          7,
          6,
          6,
          6,
          6,
          5,
          5,
          5,
          5,
          5,
          5,
          5,
          5,
          4,
          4,
          4,
          4,
          4,
          4,
          4,
          4,
          4,
          4
         ]
        }
       ],
       "layout": {
        "annotations": [
         {
          "font": {
           "color": "rgb(250,250,250)",
           "size": 10
          },
          "showarrow": false,
          "text": "article",
          "x": 0,
          "xref": "x1",
          "y": 8,
          "yref": "y1"
         },
         {
          "font": {
           "color": "rgb(250,250,250)",
           "size": 10
          },
          "showarrow": false,
          "text": "1,1",
          "x": -3.25,
          "xref": "x1",
          "y": 7,
          "yref": "y1"
         },
         {
          "font": {
           "color": "rgb(250,250,250)",
           "size": 10
          },
          "showarrow": false,
          "text": "2,1",
          "x": 3.25,
          "xref": "x1",
          "y": 7,
          "yref": "y1"
         },
         {
          "font": {
           "color": "rgb(250,250,250)",
           "size": 10
          },
          "showarrow": false,
          "text": "3,2",
          "x": -5.25,
          "xref": "x1",
          "y": 6,
          "yref": "y1"
         },
         {
          "font": {
           "color": "rgb(250,250,250)",
           "size": 10
          },
          "showarrow": false,
          "text": "4,2",
          "x": -1.25,
          "xref": "x1",
          "y": 6,
          "yref": "y1"
         },
         {
          "font": {
           "color": "rgb(250,250,250)",
           "size": 10
          },
          "showarrow": false,
          "text": "5,2",
          "x": 2.25,
          "xref": "x1",
          "y": 6,
          "yref": "y1"
         },
         {
          "font": {
           "color": "rgb(250,250,250)",
           "size": 10
          },
          "showarrow": false,
          "text": "6,2",
          "x": 4.25,
          "xref": "x1",
          "y": 6,
          "yref": "y1"
         },
         {
          "font": {
           "color": "rgb(250,250,250)",
           "size": 10
          },
          "showarrow": false,
          "text": "7,3",
          "x": -6.25,
          "xref": "x1",
          "y": 5,
          "yref": "y1"
         },
         {
          "font": {
           "color": "rgb(250,250,250)",
           "size": 10
          },
          "showarrow": false,
          "text": "8,3",
          "x": -4.25,
          "xref": "x1",
          "y": 5,
          "yref": "y1"
         },
         {
          "font": {
           "color": "rgb(250,250,250)",
           "size": 10
          },
          "showarrow": false,
          "text": "9,3",
          "x": -2.25,
          "xref": "x1",
          "y": 5,
          "yref": "y1"
         },
         {
          "font": {
           "color": "rgb(250,250,250)",
           "size": 10
          },
          "showarrow": false,
          "text": "10,3",
          "x": -0.25,
          "xref": "x1",
          "y": 5,
          "yref": "y1"
         },
         {
          "font": {
           "color": "rgb(250,250,250)",
           "size": 10
          },
          "showarrow": false,
          "text": "11,3",
          "x": 1.75,
          "xref": "x1",
          "y": 5,
          "yref": "y1"
         },
         {
          "font": {
           "color": "rgb(250,250,250)",
           "size": 10
          },
          "showarrow": false,
          "text": "12,3",
          "x": 2.75,
          "xref": "x1",
          "y": 5,
          "yref": "y1"
         },
         {
          "font": {
           "color": "rgb(250,250,250)",
           "size": 10
          },
          "showarrow": false,
          "text": "13,3",
          "x": 3.75,
          "xref": "x1",
          "y": 5,
          "yref": "y1"
         },
         {
          "font": {
           "color": "rgb(250,250,250)",
           "size": 10
          },
          "showarrow": false,
          "text": "14,3",
          "x": 4.75,
          "xref": "x1",
          "y": 5,
          "yref": "y1"
         },
         {
          "font": {
           "color": "rgb(250,250,250)",
           "size": 10
          },
          "showarrow": false,
          "text": "15,4",
          "x": -6.75,
          "xref": "x1",
          "y": 4,
          "yref": "y1"
         },
         {
          "font": {
           "color": "rgb(250,250,250)",
           "size": 10
          },
          "showarrow": false,
          "text": "16,4",
          "x": -5.75,
          "xref": "x1",
          "y": 4,
          "yref": "y1"
         },
         {
          "font": {
           "color": "rgb(250,250,250)",
           "size": 10
          },
          "showarrow": false,
          "text": "17,4",
          "x": -4.75,
          "xref": "x1",
          "y": 4,
          "yref": "y1"
         },
         {
          "font": {
           "color": "rgb(250,250,250)",
           "size": 10
          },
          "showarrow": false,
          "text": "18,4",
          "x": -3.75,
          "xref": "x1",
          "y": 4,
          "yref": "y1"
         },
         {
          "font": {
           "color": "rgb(250,250,250)",
           "size": 10
          },
          "showarrow": false,
          "text": "19,4",
          "x": -2.75,
          "xref": "x1",
          "y": 4,
          "yref": "y1"
         },
         {
          "font": {
           "color": "rgb(250,250,250)",
           "size": 10
          },
          "showarrow": false,
          "text": "20,4",
          "x": -1.75,
          "xref": "x1",
          "y": 4,
          "yref": "y1"
         },
         {
          "font": {
           "color": "rgb(250,250,250)",
           "size": 10
          },
          "showarrow": false,
          "text": "21,4",
          "x": -0.75,
          "xref": "x1",
          "y": 4,
          "yref": "y1"
         },
         {
          "font": {
           "color": "rgb(250,250,250)",
           "size": 10
          },
          "showarrow": false,
          "text": "22,4",
          "x": 0.25,
          "xref": "x1",
          "y": 4,
          "yref": "y1"
         },
         {
          "font": {
           "color": "rgb(250,250,250)",
           "size": 10
          },
          "showarrow": false,
          "text": "23,4",
          "x": 1.25,
          "xref": "x1",
          "y": 4,
          "yref": "y1"
         },
         {
          "font": {
           "color": "rgb(250,250,250)",
           "size": 10
          },
          "showarrow": false,
          "text": "24,4",
          "x": 2.25,
          "xref": "x1",
          "y": 4,
          "yref": "y1"
         }
        ],
        "font": {
         "size": 12
        },
        "hovermode": "closest",
        "margin": {
         "b": 85,
         "l": 40,
         "r": 40,
         "t": 100
        },
        "plot_bgcolor": "rgb(248,248,248)",
        "showlegend": false,
        "title": "<thr> <com> 4 </com> <com> 1 </com> <com> 9 </com> </thr>",
        "xaxis": {
         "showgrid": false,
         "showline": false,
         "showticklabels": false,
         "zeroline": false
        },
        "yaxis": {
         "showgrid": false,
         "showline": false,
         "showticklabels": false,
         "zeroline": false
        }
       }
      },
      "text/html": [
       "<div id=\"20add735-455d-41b4-95fc-ab546278785b\" style=\"height: 525px; width: 100%;\" class=\"plotly-graph-div\"></div><script type=\"text/javascript\">require([\"plotly\"], function(Plotly) { window.PLOTLYENV=window.PLOTLYENV || {};window.PLOTLYENV.BASE_URL=\"https://plot.ly\";Plotly.newPlot(\"20add735-455d-41b4-95fc-ab546278785b\", [{\"mode\": \"lines\", \"hoverinfo\": \"none\", \"y\": [8.0, 7.0, null, 8.0, 7.0, null, 7.0, 6.0, null, 7.0, 6.0, null, 7.0, 6.0, null, 7.0, 6.0, null, 6.0, 5.0, null, 6.0, 5.0, null, 6.0, 5.0, null, 6.0, 5.0, null, 6.0, 5.0, null, 6.0, 5.0, null, 6.0, 5.0, null, 6.0, 5.0, null, 5.0, 4.0, null, 5.0, 4.0, null, 5.0, 4.0, null, 5.0, 4.0, null, 5.0, 4.0, null, 5.0, 4.0, null, 5.0, 4.0, null, 5.0, 4.0, null, 5.0, 4.0, null, 5.0, 4.0, null], \"x\": [0.0, -3.25, null, 0.0, 3.25, null, -3.25, -5.25, null, -3.25, -1.25, null, 3.25, 2.25, null, 3.25, 4.25, null, -5.25, -6.25, null, -5.25, -4.25, null, -1.25, -2.25, null, -1.25, -0.25, null, 2.25, 1.75, null, 2.25, 2.75, null, 4.25, 3.75, null, 4.25, 4.75, null, -6.25, -6.75, null, -6.25, -5.75, null, -4.25, -4.75, null, -4.25, -3.75, null, -2.25, -2.75, null, -2.25, -1.75, null, -0.25, -0.75, null, -0.25, 0.25, null, 1.75, 1.25, null, 1.75, 2.25, null], \"line\": {\"color\": \"rgb(210,210,210)\", \"width\": 1}, \"type\": \"scatter\"}, {\"opacity\": 0.8, \"name\": \"\", \"text\": [\"article\", \"1,1\", \"2,1\", \"3,2\", \"4,2\", \"5,2\", \"6,2\", \"7,3\", \"8,3\", \"9,3\", \"10,3\", \"11,3\", \"12,3\", \"13,3\", \"14,3\", \"15,4\", \"16,4\", \"17,4\", \"18,4\", \"19,4\", \"20,4\", \"21,4\", \"22,4\", \"23,4\", \"24,4\"], \"marker\": {\"color\": [\"#989898\", \"#EE7600\", \"#6175c1\", \"#6175c1\", \"#EE7600\", \"#6175c1\", \"#6175c1\", \"#6175c1\", \"#6175c1\", \"#DB4551\", \"#6175c1\", \"#6175c1\", \"#6175c1\", \"#6175c1\", \"#6175c1\", \"#6175c1\", \"#6175c1\", \"#6175c1\", \"#6175c1\", \"#6175c1\", \"#6175c1\", \"#6175c1\", \"#6175c1\", \"#6175c1\", \"#6175c1\"], \"line\": {\"color\": \"rgb(50,50,50)\", \"width\": 1}, \"symbol\": \"dot\", \"size\": 35}, \"mode\": \"markers\", \"hoverinfo\": \"text\", \"y\": [8.0, 7.0, 7.0, 6.0, 6.0, 6.0, 6.0, 5.0, 5.0, 5.0, 5.0, 5.0, 5.0, 5.0, 5.0, 4.0, 4.0, 4.0, 4.0, 4.0, 4.0, 4.0, 4.0, 4.0, 4.0], \"x\": [0.0, -3.25, 3.25, -5.25, -1.25, 2.25, 4.25, -6.25, -4.25, -2.25, -0.25, 1.75, 2.75, 3.75, 4.75, -6.75, -5.75, -4.75, -3.75, -2.75, -1.75, -0.75, 0.25, 1.25, 2.25], \"type\": \"scatter\"}], {\"showlegend\": false, \"title\": \"<thr> <com> 4 </com> <com> 1 </com> <com> 9 </com> </thr>\", \"plot_bgcolor\": \"rgb(248,248,248)\", \"yaxis\": {\"zeroline\": false, \"showline\": false, \"showticklabels\": false, \"showgrid\": false}, \"xaxis\": {\"zeroline\": false, \"showline\": false, \"showticklabels\": false, \"showgrid\": false}, \"hovermode\": \"closest\", \"font\": {\"size\": 12}, \"margin\": {\"r\": 40, \"b\": 85, \"t\": 100, \"l\": 40}, \"annotations\": [{\"xref\": \"x1\", \"yref\": \"y1\", \"text\": \"article\", \"y\": 8.0, \"x\": 0.0, \"font\": {\"color\": \"rgb(250,250,250)\", \"size\": 10}, \"showarrow\": false}, {\"xref\": \"x1\", \"yref\": \"y1\", \"text\": \"1,1\", \"y\": 7.0, \"x\": -3.25, \"font\": {\"color\": \"rgb(250,250,250)\", \"size\": 10}, \"showarrow\": false}, {\"xref\": \"x1\", \"yref\": \"y1\", \"text\": \"2,1\", \"y\": 7.0, \"x\": 3.25, \"font\": {\"color\": \"rgb(250,250,250)\", \"size\": 10}, \"showarrow\": false}, {\"xref\": \"x1\", \"yref\": \"y1\", \"text\": \"3,2\", \"y\": 6.0, \"x\": -5.25, \"font\": {\"color\": \"rgb(250,250,250)\", \"size\": 10}, \"showarrow\": false}, {\"xref\": \"x1\", \"yref\": \"y1\", \"text\": \"4,2\", \"y\": 6.0, \"x\": -1.25, \"font\": {\"color\": \"rgb(250,250,250)\", \"size\": 10}, \"showarrow\": false}, {\"xref\": \"x1\", \"yref\": \"y1\", \"text\": \"5,2\", \"y\": 6.0, \"x\": 2.25, \"font\": {\"color\": \"rgb(250,250,250)\", \"size\": 10}, \"showarrow\": false}, {\"xref\": \"x1\", \"yref\": \"y1\", \"text\": \"6,2\", \"y\": 6.0, \"x\": 4.25, \"font\": {\"color\": \"rgb(250,250,250)\", \"size\": 10}, \"showarrow\": false}, {\"xref\": \"x1\", \"yref\": \"y1\", \"text\": \"7,3\", \"y\": 5.0, \"x\": -6.25, \"font\": {\"color\": \"rgb(250,250,250)\", \"size\": 10}, \"showarrow\": false}, {\"xref\": \"x1\", \"yref\": \"y1\", \"text\": \"8,3\", \"y\": 5.0, \"x\": -4.25, \"font\": {\"color\": \"rgb(250,250,250)\", \"size\": 10}, \"showarrow\": false}, {\"xref\": \"x1\", \"yref\": \"y1\", \"text\": \"9,3\", \"y\": 5.0, \"x\": -2.25, \"font\": {\"color\": \"rgb(250,250,250)\", \"size\": 10}, \"showarrow\": false}, {\"xref\": \"x1\", \"yref\": \"y1\", \"text\": \"10,3\", \"y\": 5.0, \"x\": -0.25, \"font\": {\"color\": \"rgb(250,250,250)\", \"size\": 10}, \"showarrow\": false}, {\"xref\": \"x1\", \"yref\": \"y1\", \"text\": \"11,3\", \"y\": 5.0, \"x\": 1.75, \"font\": {\"color\": \"rgb(250,250,250)\", \"size\": 10}, \"showarrow\": false}, {\"xref\": \"x1\", \"yref\": \"y1\", \"text\": \"12,3\", \"y\": 5.0, \"x\": 2.75, \"font\": {\"color\": \"rgb(250,250,250)\", \"size\": 10}, \"showarrow\": false}, {\"xref\": \"x1\", \"yref\": \"y1\", \"text\": \"13,3\", \"y\": 5.0, \"x\": 3.75, \"font\": {\"color\": \"rgb(250,250,250)\", \"size\": 10}, \"showarrow\": false}, {\"xref\": \"x1\", \"yref\": \"y1\", \"text\": \"14,3\", \"y\": 5.0, \"x\": 4.75, \"font\": {\"color\": \"rgb(250,250,250)\", \"size\": 10}, \"showarrow\": false}, {\"xref\": \"x1\", \"yref\": \"y1\", \"text\": \"15,4\", \"y\": 4.0, \"x\": -6.75, \"font\": {\"color\": \"rgb(250,250,250)\", \"size\": 10}, \"showarrow\": false}, {\"xref\": \"x1\", \"yref\": \"y1\", \"text\": \"16,4\", \"y\": 4.0, \"x\": -5.75, \"font\": {\"color\": \"rgb(250,250,250)\", \"size\": 10}, \"showarrow\": false}, {\"xref\": \"x1\", \"yref\": \"y1\", \"text\": \"17,4\", \"y\": 4.0, \"x\": -4.75, \"font\": {\"color\": \"rgb(250,250,250)\", \"size\": 10}, \"showarrow\": false}, {\"xref\": \"x1\", \"yref\": \"y1\", \"text\": \"18,4\", \"y\": 4.0, \"x\": -3.75, \"font\": {\"color\": \"rgb(250,250,250)\", \"size\": 10}, \"showarrow\": false}, {\"xref\": \"x1\", \"yref\": \"y1\", \"text\": \"19,4\", \"y\": 4.0, \"x\": -2.75, \"font\": {\"color\": \"rgb(250,250,250)\", \"size\": 10}, \"showarrow\": false}, {\"xref\": \"x1\", \"yref\": \"y1\", \"text\": \"20,4\", \"y\": 4.0, \"x\": -1.75, \"font\": {\"color\": \"rgb(250,250,250)\", \"size\": 10}, \"showarrow\": false}, {\"xref\": \"x1\", \"yref\": \"y1\", \"text\": \"21,4\", \"y\": 4.0, \"x\": -0.75, \"font\": {\"color\": \"rgb(250,250,250)\", \"size\": 10}, \"showarrow\": false}, {\"xref\": \"x1\", \"yref\": \"y1\", \"text\": \"22,4\", \"y\": 4.0, \"x\": 0.25, \"font\": {\"color\": \"rgb(250,250,250)\", \"size\": 10}, \"showarrow\": false}, {\"xref\": \"x1\", \"yref\": \"y1\", \"text\": \"23,4\", \"y\": 4.0, \"x\": 1.25, \"font\": {\"color\": \"rgb(250,250,250)\", \"size\": 10}, \"showarrow\": false}, {\"xref\": \"x1\", \"yref\": \"y1\", \"text\": \"24,4\", \"y\": 4.0, \"x\": 2.25, \"font\": {\"color\": \"rgb(250,250,250)\", \"size\": 10}, \"showarrow\": false}]}, {\"linkText\": \"Export to plot.ly\", \"showLink\": true})});</script>"
      ],
      "text/vnd.plotly.v1+html": [
       "<div id=\"20add735-455d-41b4-95fc-ab546278785b\" style=\"height: 525px; width: 100%;\" class=\"plotly-graph-div\"></div><script type=\"text/javascript\">require([\"plotly\"], function(Plotly) { window.PLOTLYENV=window.PLOTLYENV || {};window.PLOTLYENV.BASE_URL=\"https://plot.ly\";Plotly.newPlot(\"20add735-455d-41b4-95fc-ab546278785b\", [{\"mode\": \"lines\", \"hoverinfo\": \"none\", \"y\": [8.0, 7.0, null, 8.0, 7.0, null, 7.0, 6.0, null, 7.0, 6.0, null, 7.0, 6.0, null, 7.0, 6.0, null, 6.0, 5.0, null, 6.0, 5.0, null, 6.0, 5.0, null, 6.0, 5.0, null, 6.0, 5.0, null, 6.0, 5.0, null, 6.0, 5.0, null, 6.0, 5.0, null, 5.0, 4.0, null, 5.0, 4.0, null, 5.0, 4.0, null, 5.0, 4.0, null, 5.0, 4.0, null, 5.0, 4.0, null, 5.0, 4.0, null, 5.0, 4.0, null, 5.0, 4.0, null, 5.0, 4.0, null], \"x\": [0.0, -3.25, null, 0.0, 3.25, null, -3.25, -5.25, null, -3.25, -1.25, null, 3.25, 2.25, null, 3.25, 4.25, null, -5.25, -6.25, null, -5.25, -4.25, null, -1.25, -2.25, null, -1.25, -0.25, null, 2.25, 1.75, null, 2.25, 2.75, null, 4.25, 3.75, null, 4.25, 4.75, null, -6.25, -6.75, null, -6.25, -5.75, null, -4.25, -4.75, null, -4.25, -3.75, null, -2.25, -2.75, null, -2.25, -1.75, null, -0.25, -0.75, null, -0.25, 0.25, null, 1.75, 1.25, null, 1.75, 2.25, null], \"line\": {\"color\": \"rgb(210,210,210)\", \"width\": 1}, \"type\": \"scatter\"}, {\"opacity\": 0.8, \"name\": \"\", \"text\": [\"article\", \"1,1\", \"2,1\", \"3,2\", \"4,2\", \"5,2\", \"6,2\", \"7,3\", \"8,3\", \"9,3\", \"10,3\", \"11,3\", \"12,3\", \"13,3\", \"14,3\", \"15,4\", \"16,4\", \"17,4\", \"18,4\", \"19,4\", \"20,4\", \"21,4\", \"22,4\", \"23,4\", \"24,4\"], \"marker\": {\"color\": [\"#989898\", \"#EE7600\", \"#6175c1\", \"#6175c1\", \"#EE7600\", \"#6175c1\", \"#6175c1\", \"#6175c1\", \"#6175c1\", \"#DB4551\", \"#6175c1\", \"#6175c1\", \"#6175c1\", \"#6175c1\", \"#6175c1\", \"#6175c1\", \"#6175c1\", \"#6175c1\", \"#6175c1\", \"#6175c1\", \"#6175c1\", \"#6175c1\", \"#6175c1\", \"#6175c1\", \"#6175c1\"], \"line\": {\"color\": \"rgb(50,50,50)\", \"width\": 1}, \"symbol\": \"dot\", \"size\": 35}, \"mode\": \"markers\", \"hoverinfo\": \"text\", \"y\": [8.0, 7.0, 7.0, 6.0, 6.0, 6.0, 6.0, 5.0, 5.0, 5.0, 5.0, 5.0, 5.0, 5.0, 5.0, 4.0, 4.0, 4.0, 4.0, 4.0, 4.0, 4.0, 4.0, 4.0, 4.0], \"x\": [0.0, -3.25, 3.25, -5.25, -1.25, 2.25, 4.25, -6.25, -4.25, -2.25, -0.25, 1.75, 2.75, 3.75, 4.75, -6.75, -5.75, -4.75, -3.75, -2.75, -1.75, -0.75, 0.25, 1.25, 2.25], \"type\": \"scatter\"}], {\"showlegend\": false, \"title\": \"<thr> <com> 4 </com> <com> 1 </com> <com> 9 </com> </thr>\", \"plot_bgcolor\": \"rgb(248,248,248)\", \"yaxis\": {\"zeroline\": false, \"showline\": false, \"showticklabels\": false, \"showgrid\": false}, \"xaxis\": {\"zeroline\": false, \"showline\": false, \"showticklabels\": false, \"showgrid\": false}, \"hovermode\": \"closest\", \"font\": {\"size\": 12}, \"margin\": {\"r\": 40, \"b\": 85, \"t\": 100, \"l\": 40}, \"annotations\": [{\"xref\": \"x1\", \"yref\": \"y1\", \"text\": \"article\", \"y\": 8.0, \"x\": 0.0, \"font\": {\"color\": \"rgb(250,250,250)\", \"size\": 10}, \"showarrow\": false}, {\"xref\": \"x1\", \"yref\": \"y1\", \"text\": \"1,1\", \"y\": 7.0, \"x\": -3.25, \"font\": {\"color\": \"rgb(250,250,250)\", \"size\": 10}, \"showarrow\": false}, {\"xref\": \"x1\", \"yref\": \"y1\", \"text\": \"2,1\", \"y\": 7.0, \"x\": 3.25, \"font\": {\"color\": \"rgb(250,250,250)\", \"size\": 10}, \"showarrow\": false}, {\"xref\": \"x1\", \"yref\": \"y1\", \"text\": \"3,2\", \"y\": 6.0, \"x\": -5.25, \"font\": {\"color\": \"rgb(250,250,250)\", \"size\": 10}, \"showarrow\": false}, {\"xref\": \"x1\", \"yref\": \"y1\", \"text\": \"4,2\", \"y\": 6.0, \"x\": -1.25, \"font\": {\"color\": \"rgb(250,250,250)\", \"size\": 10}, \"showarrow\": false}, {\"xref\": \"x1\", \"yref\": \"y1\", \"text\": \"5,2\", \"y\": 6.0, \"x\": 2.25, \"font\": {\"color\": \"rgb(250,250,250)\", \"size\": 10}, \"showarrow\": false}, {\"xref\": \"x1\", \"yref\": \"y1\", \"text\": \"6,2\", \"y\": 6.0, \"x\": 4.25, \"font\": {\"color\": \"rgb(250,250,250)\", \"size\": 10}, \"showarrow\": false}, {\"xref\": \"x1\", \"yref\": \"y1\", \"text\": \"7,3\", \"y\": 5.0, \"x\": -6.25, \"font\": {\"color\": \"rgb(250,250,250)\", \"size\": 10}, \"showarrow\": false}, {\"xref\": \"x1\", \"yref\": \"y1\", \"text\": \"8,3\", \"y\": 5.0, \"x\": -4.25, \"font\": {\"color\": \"rgb(250,250,250)\", \"size\": 10}, \"showarrow\": false}, {\"xref\": \"x1\", \"yref\": \"y1\", \"text\": \"9,3\", \"y\": 5.0, \"x\": -2.25, \"font\": {\"color\": \"rgb(250,250,250)\", \"size\": 10}, \"showarrow\": false}, {\"xref\": \"x1\", \"yref\": \"y1\", \"text\": \"10,3\", \"y\": 5.0, \"x\": -0.25, \"font\": {\"color\": \"rgb(250,250,250)\", \"size\": 10}, \"showarrow\": false}, {\"xref\": \"x1\", \"yref\": \"y1\", \"text\": \"11,3\", \"y\": 5.0, \"x\": 1.75, \"font\": {\"color\": \"rgb(250,250,250)\", \"size\": 10}, \"showarrow\": false}, {\"xref\": \"x1\", \"yref\": \"y1\", \"text\": \"12,3\", \"y\": 5.0, \"x\": 2.75, \"font\": {\"color\": \"rgb(250,250,250)\", \"size\": 10}, \"showarrow\": false}, {\"xref\": \"x1\", \"yref\": \"y1\", \"text\": \"13,3\", \"y\": 5.0, \"x\": 3.75, \"font\": {\"color\": \"rgb(250,250,250)\", \"size\": 10}, \"showarrow\": false}, {\"xref\": \"x1\", \"yref\": \"y1\", \"text\": \"14,3\", \"y\": 5.0, \"x\": 4.75, \"font\": {\"color\": \"rgb(250,250,250)\", \"size\": 10}, \"showarrow\": false}, {\"xref\": \"x1\", \"yref\": \"y1\", \"text\": \"15,4\", \"y\": 4.0, \"x\": -6.75, \"font\": {\"color\": \"rgb(250,250,250)\", \"size\": 10}, \"showarrow\": false}, {\"xref\": \"x1\", \"yref\": \"y1\", \"text\": \"16,4\", \"y\": 4.0, \"x\": -5.75, \"font\": {\"color\": \"rgb(250,250,250)\", \"size\": 10}, \"showarrow\": false}, {\"xref\": \"x1\", \"yref\": \"y1\", \"text\": \"17,4\", \"y\": 4.0, \"x\": -4.75, \"font\": {\"color\": \"rgb(250,250,250)\", \"size\": 10}, \"showarrow\": false}, {\"xref\": \"x1\", \"yref\": \"y1\", \"text\": \"18,4\", \"y\": 4.0, \"x\": -3.75, \"font\": {\"color\": \"rgb(250,250,250)\", \"size\": 10}, \"showarrow\": false}, {\"xref\": \"x1\", \"yref\": \"y1\", \"text\": \"19,4\", \"y\": 4.0, \"x\": -2.75, \"font\": {\"color\": \"rgb(250,250,250)\", \"size\": 10}, \"showarrow\": false}, {\"xref\": \"x1\", \"yref\": \"y1\", \"text\": \"20,4\", \"y\": 4.0, \"x\": -1.75, \"font\": {\"color\": \"rgb(250,250,250)\", \"size\": 10}, \"showarrow\": false}, {\"xref\": \"x1\", \"yref\": \"y1\", \"text\": \"21,4\", \"y\": 4.0, \"x\": -0.75, \"font\": {\"color\": \"rgb(250,250,250)\", \"size\": 10}, \"showarrow\": false}, {\"xref\": \"x1\", \"yref\": \"y1\", \"text\": \"22,4\", \"y\": 4.0, \"x\": 0.25, \"font\": {\"color\": \"rgb(250,250,250)\", \"size\": 10}, \"showarrow\": false}, {\"xref\": \"x1\", \"yref\": \"y1\", \"text\": \"23,4\", \"y\": 4.0, \"x\": 1.25, \"font\": {\"color\": \"rgb(250,250,250)\", \"size\": 10}, \"showarrow\": false}, {\"xref\": \"x1\", \"yref\": \"y1\", \"text\": \"24,4\", \"y\": 4.0, \"x\": 2.25, \"font\": {\"color\": \"rgb(250,250,250)\", \"size\": 10}, \"showarrow\": false}]}, {\"linkText\": \"Export to plot.ly\", \"showLink\": true})});</script>"
      ]
     },
     "metadata": {},
     "output_type": "display_data"
    },
    {
     "data": {
      "application/vnd.plotly.v1+json": {
       "data": [
        {
         "hoverinfo": "none",
         "line": {
          "color": "rgb(210,210,210)",
          "width": 1
         },
         "mode": "lines",
         "type": "scatter",
         "x": [
          0,
          -3.25,
          null,
          0,
          3.25,
          null,
          -3.25,
          -5.25,
          null,
          -3.25,
          -1.25,
          null,
          3.25,
          2.25,
          null,
          3.25,
          4.25,
          null,
          -5.25,
          -6.25,
          null,
          -5.25,
          -4.25,
          null,
          -1.25,
          -2.25,
          null,
          -1.25,
          -0.25,
          null,
          2.25,
          1.75,
          null,
          2.25,
          2.75,
          null,
          4.25,
          3.75,
          null,
          4.25,
          4.75,
          null,
          -6.25,
          -6.75,
          null,
          -6.25,
          -5.75,
          null,
          -4.25,
          -4.75,
          null,
          -4.25,
          -3.75,
          null,
          -2.25,
          -2.75,
          null,
          -2.25,
          -1.75,
          null,
          -0.25,
          -0.75,
          null,
          -0.25,
          0.25,
          null,
          1.75,
          1.25,
          null,
          1.75,
          2.25,
          null
         ],
         "y": [
          8,
          7,
          null,
          8,
          7,
          null,
          7,
          6,
          null,
          7,
          6,
          null,
          7,
          6,
          null,
          7,
          6,
          null,
          6,
          5,
          null,
          6,
          5,
          null,
          6,
          5,
          null,
          6,
          5,
          null,
          6,
          5,
          null,
          6,
          5,
          null,
          6,
          5,
          null,
          6,
          5,
          null,
          5,
          4,
          null,
          5,
          4,
          null,
          5,
          4,
          null,
          5,
          4,
          null,
          5,
          4,
          null,
          5,
          4,
          null,
          5,
          4,
          null,
          5,
          4,
          null,
          5,
          4,
          null,
          5,
          4,
          null
         ]
        },
        {
         "hoverinfo": "text",
         "marker": {
          "color": [
           "#989898",
           "#EE7600",
           "#6175c1",
           "#6175c1",
           "#EE7600",
           "#6175c1",
           "#6175c1",
           "#6175c1",
           "#6175c1",
           "#6175c1",
           "#DB4551",
           "#6175c1",
           "#6175c1",
           "#6175c1",
           "#6175c1",
           "#6175c1",
           "#6175c1",
           "#6175c1",
           "#6175c1",
           "#6175c1",
           "#6175c1",
           "#6175c1",
           "#6175c1",
           "#6175c1",
           "#6175c1"
          ],
          "line": {
           "color": "rgb(50,50,50)",
           "width": 1
          },
          "size": 35,
          "symbol": "dot"
         },
         "mode": "markers",
         "name": "",
         "opacity": 0.8,
         "text": [
          "article",
          "1,1",
          "2,1",
          "3,2",
          "4,2",
          "5,2",
          "6,2",
          "7,3",
          "8,3",
          "9,3",
          "10,3",
          "11,3",
          "12,3",
          "13,3",
          "14,3",
          "15,4",
          "16,4",
          "17,4",
          "18,4",
          "19,4",
          "20,4",
          "21,4",
          "22,4",
          "23,4",
          "24,4"
         ],
         "type": "scatter",
         "x": [
          0,
          -3.25,
          3.25,
          -5.25,
          -1.25,
          2.25,
          4.25,
          -6.25,
          -4.25,
          -2.25,
          -0.25,
          1.75,
          2.75,
          3.75,
          4.75,
          -6.75,
          -5.75,
          -4.75,
          -3.75,
          -2.75,
          -1.75,
          -0.75,
          0.25,
          1.25,
          2.25
         ],
         "y": [
          8,
          7,
          7,
          6,
          6,
          6,
          6,
          5,
          5,
          5,
          5,
          5,
          5,
          5,
          5,
          4,
          4,
          4,
          4,
          4,
          4,
          4,
          4,
          4,
          4
         ]
        }
       ],
       "layout": {
        "annotations": [
         {
          "font": {
           "color": "rgb(250,250,250)",
           "size": 10
          },
          "showarrow": false,
          "text": "article",
          "x": 0,
          "xref": "x1",
          "y": 8,
          "yref": "y1"
         },
         {
          "font": {
           "color": "rgb(250,250,250)",
           "size": 10
          },
          "showarrow": false,
          "text": "1,1",
          "x": -3.25,
          "xref": "x1",
          "y": 7,
          "yref": "y1"
         },
         {
          "font": {
           "color": "rgb(250,250,250)",
           "size": 10
          },
          "showarrow": false,
          "text": "2,1",
          "x": 3.25,
          "xref": "x1",
          "y": 7,
          "yref": "y1"
         },
         {
          "font": {
           "color": "rgb(250,250,250)",
           "size": 10
          },
          "showarrow": false,
          "text": "3,2",
          "x": -5.25,
          "xref": "x1",
          "y": 6,
          "yref": "y1"
         },
         {
          "font": {
           "color": "rgb(250,250,250)",
           "size": 10
          },
          "showarrow": false,
          "text": "4,2",
          "x": -1.25,
          "xref": "x1",
          "y": 6,
          "yref": "y1"
         },
         {
          "font": {
           "color": "rgb(250,250,250)",
           "size": 10
          },
          "showarrow": false,
          "text": "5,2",
          "x": 2.25,
          "xref": "x1",
          "y": 6,
          "yref": "y1"
         },
         {
          "font": {
           "color": "rgb(250,250,250)",
           "size": 10
          },
          "showarrow": false,
          "text": "6,2",
          "x": 4.25,
          "xref": "x1",
          "y": 6,
          "yref": "y1"
         },
         {
          "font": {
           "color": "rgb(250,250,250)",
           "size": 10
          },
          "showarrow": false,
          "text": "7,3",
          "x": -6.25,
          "xref": "x1",
          "y": 5,
          "yref": "y1"
         },
         {
          "font": {
           "color": "rgb(250,250,250)",
           "size": 10
          },
          "showarrow": false,
          "text": "8,3",
          "x": -4.25,
          "xref": "x1",
          "y": 5,
          "yref": "y1"
         },
         {
          "font": {
           "color": "rgb(250,250,250)",
           "size": 10
          },
          "showarrow": false,
          "text": "9,3",
          "x": -2.25,
          "xref": "x1",
          "y": 5,
          "yref": "y1"
         },
         {
          "font": {
           "color": "rgb(250,250,250)",
           "size": 10
          },
          "showarrow": false,
          "text": "10,3",
          "x": -0.25,
          "xref": "x1",
          "y": 5,
          "yref": "y1"
         },
         {
          "font": {
           "color": "rgb(250,250,250)",
           "size": 10
          },
          "showarrow": false,
          "text": "11,3",
          "x": 1.75,
          "xref": "x1",
          "y": 5,
          "yref": "y1"
         },
         {
          "font": {
           "color": "rgb(250,250,250)",
           "size": 10
          },
          "showarrow": false,
          "text": "12,3",
          "x": 2.75,
          "xref": "x1",
          "y": 5,
          "yref": "y1"
         },
         {
          "font": {
           "color": "rgb(250,250,250)",
           "size": 10
          },
          "showarrow": false,
          "text": "13,3",
          "x": 3.75,
          "xref": "x1",
          "y": 5,
          "yref": "y1"
         },
         {
          "font": {
           "color": "rgb(250,250,250)",
           "size": 10
          },
          "showarrow": false,
          "text": "14,3",
          "x": 4.75,
          "xref": "x1",
          "y": 5,
          "yref": "y1"
         },
         {
          "font": {
           "color": "rgb(250,250,250)",
           "size": 10
          },
          "showarrow": false,
          "text": "15,4",
          "x": -6.75,
          "xref": "x1",
          "y": 4,
          "yref": "y1"
         },
         {
          "font": {
           "color": "rgb(250,250,250)",
           "size": 10
          },
          "showarrow": false,
          "text": "16,4",
          "x": -5.75,
          "xref": "x1",
          "y": 4,
          "yref": "y1"
         },
         {
          "font": {
           "color": "rgb(250,250,250)",
           "size": 10
          },
          "showarrow": false,
          "text": "17,4",
          "x": -4.75,
          "xref": "x1",
          "y": 4,
          "yref": "y1"
         },
         {
          "font": {
           "color": "rgb(250,250,250)",
           "size": 10
          },
          "showarrow": false,
          "text": "18,4",
          "x": -3.75,
          "xref": "x1",
          "y": 4,
          "yref": "y1"
         },
         {
          "font": {
           "color": "rgb(250,250,250)",
           "size": 10
          },
          "showarrow": false,
          "text": "19,4",
          "x": -2.75,
          "xref": "x1",
          "y": 4,
          "yref": "y1"
         },
         {
          "font": {
           "color": "rgb(250,250,250)",
           "size": 10
          },
          "showarrow": false,
          "text": "20,4",
          "x": -1.75,
          "xref": "x1",
          "y": 4,
          "yref": "y1"
         },
         {
          "font": {
           "color": "rgb(250,250,250)",
           "size": 10
          },
          "showarrow": false,
          "text": "21,4",
          "x": -0.75,
          "xref": "x1",
          "y": 4,
          "yref": "y1"
         },
         {
          "font": {
           "color": "rgb(250,250,250)",
           "size": 10
          },
          "showarrow": false,
          "text": "22,4",
          "x": 0.25,
          "xref": "x1",
          "y": 4,
          "yref": "y1"
         },
         {
          "font": {
           "color": "rgb(250,250,250)",
           "size": 10
          },
          "showarrow": false,
          "text": "23,4",
          "x": 1.25,
          "xref": "x1",
          "y": 4,
          "yref": "y1"
         },
         {
          "font": {
           "color": "rgb(250,250,250)",
           "size": 10
          },
          "showarrow": false,
          "text": "24,4",
          "x": 2.25,
          "xref": "x1",
          "y": 4,
          "yref": "y1"
         }
        ],
        "font": {
         "size": 12
        },
        "hovermode": "closest",
        "margin": {
         "b": 85,
         "l": 40,
         "r": 40,
         "t": 100
        },
        "plot_bgcolor": "rgb(248,248,248)",
        "showlegend": false,
        "title": "<thr> <com> 4 </com> <com> 1 </com> <com> 10 </com> </thr>",
        "xaxis": {
         "showgrid": false,
         "showline": false,
         "showticklabels": false,
         "zeroline": false
        },
        "yaxis": {
         "showgrid": false,
         "showline": false,
         "showticklabels": false,
         "zeroline": false
        }
       }
      },
      "text/html": [
       "<div id=\"cef55ced-b4a5-4136-9f22-6485e0f045a1\" style=\"height: 525px; width: 100%;\" class=\"plotly-graph-div\"></div><script type=\"text/javascript\">require([\"plotly\"], function(Plotly) { window.PLOTLYENV=window.PLOTLYENV || {};window.PLOTLYENV.BASE_URL=\"https://plot.ly\";Plotly.newPlot(\"cef55ced-b4a5-4136-9f22-6485e0f045a1\", [{\"mode\": \"lines\", \"hoverinfo\": \"none\", \"y\": [8.0, 7.0, null, 8.0, 7.0, null, 7.0, 6.0, null, 7.0, 6.0, null, 7.0, 6.0, null, 7.0, 6.0, null, 6.0, 5.0, null, 6.0, 5.0, null, 6.0, 5.0, null, 6.0, 5.0, null, 6.0, 5.0, null, 6.0, 5.0, null, 6.0, 5.0, null, 6.0, 5.0, null, 5.0, 4.0, null, 5.0, 4.0, null, 5.0, 4.0, null, 5.0, 4.0, null, 5.0, 4.0, null, 5.0, 4.0, null, 5.0, 4.0, null, 5.0, 4.0, null, 5.0, 4.0, null, 5.0, 4.0, null], \"x\": [0.0, -3.25, null, 0.0, 3.25, null, -3.25, -5.25, null, -3.25, -1.25, null, 3.25, 2.25, null, 3.25, 4.25, null, -5.25, -6.25, null, -5.25, -4.25, null, -1.25, -2.25, null, -1.25, -0.25, null, 2.25, 1.75, null, 2.25, 2.75, null, 4.25, 3.75, null, 4.25, 4.75, null, -6.25, -6.75, null, -6.25, -5.75, null, -4.25, -4.75, null, -4.25, -3.75, null, -2.25, -2.75, null, -2.25, -1.75, null, -0.25, -0.75, null, -0.25, 0.25, null, 1.75, 1.25, null, 1.75, 2.25, null], \"line\": {\"color\": \"rgb(210,210,210)\", \"width\": 1}, \"type\": \"scatter\"}, {\"opacity\": 0.8, \"name\": \"\", \"text\": [\"article\", \"1,1\", \"2,1\", \"3,2\", \"4,2\", \"5,2\", \"6,2\", \"7,3\", \"8,3\", \"9,3\", \"10,3\", \"11,3\", \"12,3\", \"13,3\", \"14,3\", \"15,4\", \"16,4\", \"17,4\", \"18,4\", \"19,4\", \"20,4\", \"21,4\", \"22,4\", \"23,4\", \"24,4\"], \"marker\": {\"color\": [\"#989898\", \"#EE7600\", \"#6175c1\", \"#6175c1\", \"#EE7600\", \"#6175c1\", \"#6175c1\", \"#6175c1\", \"#6175c1\", \"#6175c1\", \"#DB4551\", \"#6175c1\", \"#6175c1\", \"#6175c1\", \"#6175c1\", \"#6175c1\", \"#6175c1\", \"#6175c1\", \"#6175c1\", \"#6175c1\", \"#6175c1\", \"#6175c1\", \"#6175c1\", \"#6175c1\", \"#6175c1\"], \"line\": {\"color\": \"rgb(50,50,50)\", \"width\": 1}, \"symbol\": \"dot\", \"size\": 35}, \"mode\": \"markers\", \"hoverinfo\": \"text\", \"y\": [8.0, 7.0, 7.0, 6.0, 6.0, 6.0, 6.0, 5.0, 5.0, 5.0, 5.0, 5.0, 5.0, 5.0, 5.0, 4.0, 4.0, 4.0, 4.0, 4.0, 4.0, 4.0, 4.0, 4.0, 4.0], \"x\": [0.0, -3.25, 3.25, -5.25, -1.25, 2.25, 4.25, -6.25, -4.25, -2.25, -0.25, 1.75, 2.75, 3.75, 4.75, -6.75, -5.75, -4.75, -3.75, -2.75, -1.75, -0.75, 0.25, 1.25, 2.25], \"type\": \"scatter\"}], {\"showlegend\": false, \"title\": \"<thr> <com> 4 </com> <com> 1 </com> <com> 10 </com> </thr>\", \"plot_bgcolor\": \"rgb(248,248,248)\", \"yaxis\": {\"zeroline\": false, \"showline\": false, \"showticklabels\": false, \"showgrid\": false}, \"xaxis\": {\"zeroline\": false, \"showline\": false, \"showticklabels\": false, \"showgrid\": false}, \"hovermode\": \"closest\", \"font\": {\"size\": 12}, \"margin\": {\"r\": 40, \"b\": 85, \"t\": 100, \"l\": 40}, \"annotations\": [{\"xref\": \"x1\", \"yref\": \"y1\", \"text\": \"article\", \"y\": 8.0, \"x\": 0.0, \"font\": {\"color\": \"rgb(250,250,250)\", \"size\": 10}, \"showarrow\": false}, {\"xref\": \"x1\", \"yref\": \"y1\", \"text\": \"1,1\", \"y\": 7.0, \"x\": -3.25, \"font\": {\"color\": \"rgb(250,250,250)\", \"size\": 10}, \"showarrow\": false}, {\"xref\": \"x1\", \"yref\": \"y1\", \"text\": \"2,1\", \"y\": 7.0, \"x\": 3.25, \"font\": {\"color\": \"rgb(250,250,250)\", \"size\": 10}, \"showarrow\": false}, {\"xref\": \"x1\", \"yref\": \"y1\", \"text\": \"3,2\", \"y\": 6.0, \"x\": -5.25, \"font\": {\"color\": \"rgb(250,250,250)\", \"size\": 10}, \"showarrow\": false}, {\"xref\": \"x1\", \"yref\": \"y1\", \"text\": \"4,2\", \"y\": 6.0, \"x\": -1.25, \"font\": {\"color\": \"rgb(250,250,250)\", \"size\": 10}, \"showarrow\": false}, {\"xref\": \"x1\", \"yref\": \"y1\", \"text\": \"5,2\", \"y\": 6.0, \"x\": 2.25, \"font\": {\"color\": \"rgb(250,250,250)\", \"size\": 10}, \"showarrow\": false}, {\"xref\": \"x1\", \"yref\": \"y1\", \"text\": \"6,2\", \"y\": 6.0, \"x\": 4.25, \"font\": {\"color\": \"rgb(250,250,250)\", \"size\": 10}, \"showarrow\": false}, {\"xref\": \"x1\", \"yref\": \"y1\", \"text\": \"7,3\", \"y\": 5.0, \"x\": -6.25, \"font\": {\"color\": \"rgb(250,250,250)\", \"size\": 10}, \"showarrow\": false}, {\"xref\": \"x1\", \"yref\": \"y1\", \"text\": \"8,3\", \"y\": 5.0, \"x\": -4.25, \"font\": {\"color\": \"rgb(250,250,250)\", \"size\": 10}, \"showarrow\": false}, {\"xref\": \"x1\", \"yref\": \"y1\", \"text\": \"9,3\", \"y\": 5.0, \"x\": -2.25, \"font\": {\"color\": \"rgb(250,250,250)\", \"size\": 10}, \"showarrow\": false}, {\"xref\": \"x1\", \"yref\": \"y1\", \"text\": \"10,3\", \"y\": 5.0, \"x\": -0.25, \"font\": {\"color\": \"rgb(250,250,250)\", \"size\": 10}, \"showarrow\": false}, {\"xref\": \"x1\", \"yref\": \"y1\", \"text\": \"11,3\", \"y\": 5.0, \"x\": 1.75, \"font\": {\"color\": \"rgb(250,250,250)\", \"size\": 10}, \"showarrow\": false}, {\"xref\": \"x1\", \"yref\": \"y1\", \"text\": \"12,3\", \"y\": 5.0, \"x\": 2.75, \"font\": {\"color\": \"rgb(250,250,250)\", \"size\": 10}, \"showarrow\": false}, {\"xref\": \"x1\", \"yref\": \"y1\", \"text\": \"13,3\", \"y\": 5.0, \"x\": 3.75, \"font\": {\"color\": \"rgb(250,250,250)\", \"size\": 10}, \"showarrow\": false}, {\"xref\": \"x1\", \"yref\": \"y1\", \"text\": \"14,3\", \"y\": 5.0, \"x\": 4.75, \"font\": {\"color\": \"rgb(250,250,250)\", \"size\": 10}, \"showarrow\": false}, {\"xref\": \"x1\", \"yref\": \"y1\", \"text\": \"15,4\", \"y\": 4.0, \"x\": -6.75, \"font\": {\"color\": \"rgb(250,250,250)\", \"size\": 10}, \"showarrow\": false}, {\"xref\": \"x1\", \"yref\": \"y1\", \"text\": \"16,4\", \"y\": 4.0, \"x\": -5.75, \"font\": {\"color\": \"rgb(250,250,250)\", \"size\": 10}, \"showarrow\": false}, {\"xref\": \"x1\", \"yref\": \"y1\", \"text\": \"17,4\", \"y\": 4.0, \"x\": -4.75, \"font\": {\"color\": \"rgb(250,250,250)\", \"size\": 10}, \"showarrow\": false}, {\"xref\": \"x1\", \"yref\": \"y1\", \"text\": \"18,4\", \"y\": 4.0, \"x\": -3.75, \"font\": {\"color\": \"rgb(250,250,250)\", \"size\": 10}, \"showarrow\": false}, {\"xref\": \"x1\", \"yref\": \"y1\", \"text\": \"19,4\", \"y\": 4.0, \"x\": -2.75, \"font\": {\"color\": \"rgb(250,250,250)\", \"size\": 10}, \"showarrow\": false}, {\"xref\": \"x1\", \"yref\": \"y1\", \"text\": \"20,4\", \"y\": 4.0, \"x\": -1.75, \"font\": {\"color\": \"rgb(250,250,250)\", \"size\": 10}, \"showarrow\": false}, {\"xref\": \"x1\", \"yref\": \"y1\", \"text\": \"21,4\", \"y\": 4.0, \"x\": -0.75, \"font\": {\"color\": \"rgb(250,250,250)\", \"size\": 10}, \"showarrow\": false}, {\"xref\": \"x1\", \"yref\": \"y1\", \"text\": \"22,4\", \"y\": 4.0, \"x\": 0.25, \"font\": {\"color\": \"rgb(250,250,250)\", \"size\": 10}, \"showarrow\": false}, {\"xref\": \"x1\", \"yref\": \"y1\", \"text\": \"23,4\", \"y\": 4.0, \"x\": 1.25, \"font\": {\"color\": \"rgb(250,250,250)\", \"size\": 10}, \"showarrow\": false}, {\"xref\": \"x1\", \"yref\": \"y1\", \"text\": \"24,4\", \"y\": 4.0, \"x\": 2.25, \"font\": {\"color\": \"rgb(250,250,250)\", \"size\": 10}, \"showarrow\": false}]}, {\"linkText\": \"Export to plot.ly\", \"showLink\": true})});</script>"
      ],
      "text/vnd.plotly.v1+html": [
       "<div id=\"cef55ced-b4a5-4136-9f22-6485e0f045a1\" style=\"height: 525px; width: 100%;\" class=\"plotly-graph-div\"></div><script type=\"text/javascript\">require([\"plotly\"], function(Plotly) { window.PLOTLYENV=window.PLOTLYENV || {};window.PLOTLYENV.BASE_URL=\"https://plot.ly\";Plotly.newPlot(\"cef55ced-b4a5-4136-9f22-6485e0f045a1\", [{\"mode\": \"lines\", \"hoverinfo\": \"none\", \"y\": [8.0, 7.0, null, 8.0, 7.0, null, 7.0, 6.0, null, 7.0, 6.0, null, 7.0, 6.0, null, 7.0, 6.0, null, 6.0, 5.0, null, 6.0, 5.0, null, 6.0, 5.0, null, 6.0, 5.0, null, 6.0, 5.0, null, 6.0, 5.0, null, 6.0, 5.0, null, 6.0, 5.0, null, 5.0, 4.0, null, 5.0, 4.0, null, 5.0, 4.0, null, 5.0, 4.0, null, 5.0, 4.0, null, 5.0, 4.0, null, 5.0, 4.0, null, 5.0, 4.0, null, 5.0, 4.0, null, 5.0, 4.0, null], \"x\": [0.0, -3.25, null, 0.0, 3.25, null, -3.25, -5.25, null, -3.25, -1.25, null, 3.25, 2.25, null, 3.25, 4.25, null, -5.25, -6.25, null, -5.25, -4.25, null, -1.25, -2.25, null, -1.25, -0.25, null, 2.25, 1.75, null, 2.25, 2.75, null, 4.25, 3.75, null, 4.25, 4.75, null, -6.25, -6.75, null, -6.25, -5.75, null, -4.25, -4.75, null, -4.25, -3.75, null, -2.25, -2.75, null, -2.25, -1.75, null, -0.25, -0.75, null, -0.25, 0.25, null, 1.75, 1.25, null, 1.75, 2.25, null], \"line\": {\"color\": \"rgb(210,210,210)\", \"width\": 1}, \"type\": \"scatter\"}, {\"opacity\": 0.8, \"name\": \"\", \"text\": [\"article\", \"1,1\", \"2,1\", \"3,2\", \"4,2\", \"5,2\", \"6,2\", \"7,3\", \"8,3\", \"9,3\", \"10,3\", \"11,3\", \"12,3\", \"13,3\", \"14,3\", \"15,4\", \"16,4\", \"17,4\", \"18,4\", \"19,4\", \"20,4\", \"21,4\", \"22,4\", \"23,4\", \"24,4\"], \"marker\": {\"color\": [\"#989898\", \"#EE7600\", \"#6175c1\", \"#6175c1\", \"#EE7600\", \"#6175c1\", \"#6175c1\", \"#6175c1\", \"#6175c1\", \"#6175c1\", \"#DB4551\", \"#6175c1\", \"#6175c1\", \"#6175c1\", \"#6175c1\", \"#6175c1\", \"#6175c1\", \"#6175c1\", \"#6175c1\", \"#6175c1\", \"#6175c1\", \"#6175c1\", \"#6175c1\", \"#6175c1\", \"#6175c1\"], \"line\": {\"color\": \"rgb(50,50,50)\", \"width\": 1}, \"symbol\": \"dot\", \"size\": 35}, \"mode\": \"markers\", \"hoverinfo\": \"text\", \"y\": [8.0, 7.0, 7.0, 6.0, 6.0, 6.0, 6.0, 5.0, 5.0, 5.0, 5.0, 5.0, 5.0, 5.0, 5.0, 4.0, 4.0, 4.0, 4.0, 4.0, 4.0, 4.0, 4.0, 4.0, 4.0], \"x\": [0.0, -3.25, 3.25, -5.25, -1.25, 2.25, 4.25, -6.25, -4.25, -2.25, -0.25, 1.75, 2.75, 3.75, 4.75, -6.75, -5.75, -4.75, -3.75, -2.75, -1.75, -0.75, 0.25, 1.25, 2.25], \"type\": \"scatter\"}], {\"showlegend\": false, \"title\": \"<thr> <com> 4 </com> <com> 1 </com> <com> 10 </com> </thr>\", \"plot_bgcolor\": \"rgb(248,248,248)\", \"yaxis\": {\"zeroline\": false, \"showline\": false, \"showticklabels\": false, \"showgrid\": false}, \"xaxis\": {\"zeroline\": false, \"showline\": false, \"showticklabels\": false, \"showgrid\": false}, \"hovermode\": \"closest\", \"font\": {\"size\": 12}, \"margin\": {\"r\": 40, \"b\": 85, \"t\": 100, \"l\": 40}, \"annotations\": [{\"xref\": \"x1\", \"yref\": \"y1\", \"text\": \"article\", \"y\": 8.0, \"x\": 0.0, \"font\": {\"color\": \"rgb(250,250,250)\", \"size\": 10}, \"showarrow\": false}, {\"xref\": \"x1\", \"yref\": \"y1\", \"text\": \"1,1\", \"y\": 7.0, \"x\": -3.25, \"font\": {\"color\": \"rgb(250,250,250)\", \"size\": 10}, \"showarrow\": false}, {\"xref\": \"x1\", \"yref\": \"y1\", \"text\": \"2,1\", \"y\": 7.0, \"x\": 3.25, \"font\": {\"color\": \"rgb(250,250,250)\", \"size\": 10}, \"showarrow\": false}, {\"xref\": \"x1\", \"yref\": \"y1\", \"text\": \"3,2\", \"y\": 6.0, \"x\": -5.25, \"font\": {\"color\": \"rgb(250,250,250)\", \"size\": 10}, \"showarrow\": false}, {\"xref\": \"x1\", \"yref\": \"y1\", \"text\": \"4,2\", \"y\": 6.0, \"x\": -1.25, \"font\": {\"color\": \"rgb(250,250,250)\", \"size\": 10}, \"showarrow\": false}, {\"xref\": \"x1\", \"yref\": \"y1\", \"text\": \"5,2\", \"y\": 6.0, \"x\": 2.25, \"font\": {\"color\": \"rgb(250,250,250)\", \"size\": 10}, \"showarrow\": false}, {\"xref\": \"x1\", \"yref\": \"y1\", \"text\": \"6,2\", \"y\": 6.0, \"x\": 4.25, \"font\": {\"color\": \"rgb(250,250,250)\", \"size\": 10}, \"showarrow\": false}, {\"xref\": \"x1\", \"yref\": \"y1\", \"text\": \"7,3\", \"y\": 5.0, \"x\": -6.25, \"font\": {\"color\": \"rgb(250,250,250)\", \"size\": 10}, \"showarrow\": false}, {\"xref\": \"x1\", \"yref\": \"y1\", \"text\": \"8,3\", \"y\": 5.0, \"x\": -4.25, \"font\": {\"color\": \"rgb(250,250,250)\", \"size\": 10}, \"showarrow\": false}, {\"xref\": \"x1\", \"yref\": \"y1\", \"text\": \"9,3\", \"y\": 5.0, \"x\": -2.25, \"font\": {\"color\": \"rgb(250,250,250)\", \"size\": 10}, \"showarrow\": false}, {\"xref\": \"x1\", \"yref\": \"y1\", \"text\": \"10,3\", \"y\": 5.0, \"x\": -0.25, \"font\": {\"color\": \"rgb(250,250,250)\", \"size\": 10}, \"showarrow\": false}, {\"xref\": \"x1\", \"yref\": \"y1\", \"text\": \"11,3\", \"y\": 5.0, \"x\": 1.75, \"font\": {\"color\": \"rgb(250,250,250)\", \"size\": 10}, \"showarrow\": false}, {\"xref\": \"x1\", \"yref\": \"y1\", \"text\": \"12,3\", \"y\": 5.0, \"x\": 2.75, \"font\": {\"color\": \"rgb(250,250,250)\", \"size\": 10}, \"showarrow\": false}, {\"xref\": \"x1\", \"yref\": \"y1\", \"text\": \"13,3\", \"y\": 5.0, \"x\": 3.75, \"font\": {\"color\": \"rgb(250,250,250)\", \"size\": 10}, \"showarrow\": false}, {\"xref\": \"x1\", \"yref\": \"y1\", \"text\": \"14,3\", \"y\": 5.0, \"x\": 4.75, \"font\": {\"color\": \"rgb(250,250,250)\", \"size\": 10}, \"showarrow\": false}, {\"xref\": \"x1\", \"yref\": \"y1\", \"text\": \"15,4\", \"y\": 4.0, \"x\": -6.75, \"font\": {\"color\": \"rgb(250,250,250)\", \"size\": 10}, \"showarrow\": false}, {\"xref\": \"x1\", \"yref\": \"y1\", \"text\": \"16,4\", \"y\": 4.0, \"x\": -5.75, \"font\": {\"color\": \"rgb(250,250,250)\", \"size\": 10}, \"showarrow\": false}, {\"xref\": \"x1\", \"yref\": \"y1\", \"text\": \"17,4\", \"y\": 4.0, \"x\": -4.75, \"font\": {\"color\": \"rgb(250,250,250)\", \"size\": 10}, \"showarrow\": false}, {\"xref\": \"x1\", \"yref\": \"y1\", \"text\": \"18,4\", \"y\": 4.0, \"x\": -3.75, \"font\": {\"color\": \"rgb(250,250,250)\", \"size\": 10}, \"showarrow\": false}, {\"xref\": \"x1\", \"yref\": \"y1\", \"text\": \"19,4\", \"y\": 4.0, \"x\": -2.75, \"font\": {\"color\": \"rgb(250,250,250)\", \"size\": 10}, \"showarrow\": false}, {\"xref\": \"x1\", \"yref\": \"y1\", \"text\": \"20,4\", \"y\": 4.0, \"x\": -1.75, \"font\": {\"color\": \"rgb(250,250,250)\", \"size\": 10}, \"showarrow\": false}, {\"xref\": \"x1\", \"yref\": \"y1\", \"text\": \"21,4\", \"y\": 4.0, \"x\": -0.75, \"font\": {\"color\": \"rgb(250,250,250)\", \"size\": 10}, \"showarrow\": false}, {\"xref\": \"x1\", \"yref\": \"y1\", \"text\": \"22,4\", \"y\": 4.0, \"x\": 0.25, \"font\": {\"color\": \"rgb(250,250,250)\", \"size\": 10}, \"showarrow\": false}, {\"xref\": \"x1\", \"yref\": \"y1\", \"text\": \"23,4\", \"y\": 4.0, \"x\": 1.25, \"font\": {\"color\": \"rgb(250,250,250)\", \"size\": 10}, \"showarrow\": false}, {\"xref\": \"x1\", \"yref\": \"y1\", \"text\": \"24,4\", \"y\": 4.0, \"x\": 2.25, \"font\": {\"color\": \"rgb(250,250,250)\", \"size\": 10}, \"showarrow\": false}]}, {\"linkText\": \"Export to plot.ly\", \"showLink\": true})});</script>"
      ]
     },
     "metadata": {},
     "output_type": "display_data"
    },
    {
     "data": {
      "application/vnd.plotly.v1+json": {
       "data": [
        {
         "hoverinfo": "none",
         "line": {
          "color": "rgb(210,210,210)",
          "width": 1
         },
         "mode": "lines",
         "type": "scatter",
         "x": [
          0,
          -3.25,
          null,
          0,
          3.25,
          null,
          -3.25,
          -5.25,
          null,
          -3.25,
          -1.25,
          null,
          3.25,
          2.25,
          null,
          3.25,
          4.25,
          null,
          -5.25,
          -6.25,
          null,
          -5.25,
          -4.25,
          null,
          -1.25,
          -2.25,
          null,
          -1.25,
          -0.25,
          null,
          2.25,
          1.75,
          null,
          2.25,
          2.75,
          null,
          4.25,
          3.75,
          null,
          4.25,
          4.75,
          null,
          -6.25,
          -6.75,
          null,
          -6.25,
          -5.75,
          null,
          -4.25,
          -4.75,
          null,
          -4.25,
          -3.75,
          null,
          -2.25,
          -2.75,
          null,
          -2.25,
          -1.75,
          null,
          -0.25,
          -0.75,
          null,
          -0.25,
          0.25,
          null,
          1.75,
          1.25,
          null,
          1.75,
          2.25,
          null
         ],
         "y": [
          8,
          7,
          null,
          8,
          7,
          null,
          7,
          6,
          null,
          7,
          6,
          null,
          7,
          6,
          null,
          7,
          6,
          null,
          6,
          5,
          null,
          6,
          5,
          null,
          6,
          5,
          null,
          6,
          5,
          null,
          6,
          5,
          null,
          6,
          5,
          null,
          6,
          5,
          null,
          6,
          5,
          null,
          5,
          4,
          null,
          5,
          4,
          null,
          5,
          4,
          null,
          5,
          4,
          null,
          5,
          4,
          null,
          5,
          4,
          null,
          5,
          4,
          null,
          5,
          4,
          null,
          5,
          4,
          null,
          5,
          4,
          null
         ]
        },
        {
         "hoverinfo": "text",
         "marker": {
          "color": [
           "#989898",
           "#6175c1",
           "#EE7600",
           "#6175c1",
           "#6175c1",
           "#EE7600",
           "#6175c1",
           "#6175c1",
           "#6175c1",
           "#6175c1",
           "#6175c1",
           "#DB4551",
           "#6175c1",
           "#6175c1",
           "#6175c1",
           "#6175c1",
           "#6175c1",
           "#6175c1",
           "#6175c1",
           "#6175c1",
           "#6175c1",
           "#6175c1",
           "#6175c1",
           "#6175c1",
           "#6175c1"
          ],
          "line": {
           "color": "rgb(50,50,50)",
           "width": 1
          },
          "size": 35,
          "symbol": "dot"
         },
         "mode": "markers",
         "name": "",
         "opacity": 0.8,
         "text": [
          "article",
          "1,1",
          "2,1",
          "3,2",
          "4,2",
          "5,2",
          "6,2",
          "7,3",
          "8,3",
          "9,3",
          "10,3",
          "11,3",
          "12,3",
          "13,3",
          "14,3",
          "15,4",
          "16,4",
          "17,4",
          "18,4",
          "19,4",
          "20,4",
          "21,4",
          "22,4",
          "23,4",
          "24,4"
         ],
         "type": "scatter",
         "x": [
          0,
          -3.25,
          3.25,
          -5.25,
          -1.25,
          2.25,
          4.25,
          -6.25,
          -4.25,
          -2.25,
          -0.25,
          1.75,
          2.75,
          3.75,
          4.75,
          -6.75,
          -5.75,
          -4.75,
          -3.75,
          -2.75,
          -1.75,
          -0.75,
          0.25,
          1.25,
          2.25
         ],
         "y": [
          8,
          7,
          7,
          6,
          6,
          6,
          6,
          5,
          5,
          5,
          5,
          5,
          5,
          5,
          5,
          4,
          4,
          4,
          4,
          4,
          4,
          4,
          4,
          4,
          4
         ]
        }
       ],
       "layout": {
        "annotations": [
         {
          "font": {
           "color": "rgb(250,250,250)",
           "size": 10
          },
          "showarrow": false,
          "text": "article",
          "x": 0,
          "xref": "x1",
          "y": 8,
          "yref": "y1"
         },
         {
          "font": {
           "color": "rgb(250,250,250)",
           "size": 10
          },
          "showarrow": false,
          "text": "1,1",
          "x": -3.25,
          "xref": "x1",
          "y": 7,
          "yref": "y1"
         },
         {
          "font": {
           "color": "rgb(250,250,250)",
           "size": 10
          },
          "showarrow": false,
          "text": "2,1",
          "x": 3.25,
          "xref": "x1",
          "y": 7,
          "yref": "y1"
         },
         {
          "font": {
           "color": "rgb(250,250,250)",
           "size": 10
          },
          "showarrow": false,
          "text": "3,2",
          "x": -5.25,
          "xref": "x1",
          "y": 6,
          "yref": "y1"
         },
         {
          "font": {
           "color": "rgb(250,250,250)",
           "size": 10
          },
          "showarrow": false,
          "text": "4,2",
          "x": -1.25,
          "xref": "x1",
          "y": 6,
          "yref": "y1"
         },
         {
          "font": {
           "color": "rgb(250,250,250)",
           "size": 10
          },
          "showarrow": false,
          "text": "5,2",
          "x": 2.25,
          "xref": "x1",
          "y": 6,
          "yref": "y1"
         },
         {
          "font": {
           "color": "rgb(250,250,250)",
           "size": 10
          },
          "showarrow": false,
          "text": "6,2",
          "x": 4.25,
          "xref": "x1",
          "y": 6,
          "yref": "y1"
         },
         {
          "font": {
           "color": "rgb(250,250,250)",
           "size": 10
          },
          "showarrow": false,
          "text": "7,3",
          "x": -6.25,
          "xref": "x1",
          "y": 5,
          "yref": "y1"
         },
         {
          "font": {
           "color": "rgb(250,250,250)",
           "size": 10
          },
          "showarrow": false,
          "text": "8,3",
          "x": -4.25,
          "xref": "x1",
          "y": 5,
          "yref": "y1"
         },
         {
          "font": {
           "color": "rgb(250,250,250)",
           "size": 10
          },
          "showarrow": false,
          "text": "9,3",
          "x": -2.25,
          "xref": "x1",
          "y": 5,
          "yref": "y1"
         },
         {
          "font": {
           "color": "rgb(250,250,250)",
           "size": 10
          },
          "showarrow": false,
          "text": "10,3",
          "x": -0.25,
          "xref": "x1",
          "y": 5,
          "yref": "y1"
         },
         {
          "font": {
           "color": "rgb(250,250,250)",
           "size": 10
          },
          "showarrow": false,
          "text": "11,3",
          "x": 1.75,
          "xref": "x1",
          "y": 5,
          "yref": "y1"
         },
         {
          "font": {
           "color": "rgb(250,250,250)",
           "size": 10
          },
          "showarrow": false,
          "text": "12,3",
          "x": 2.75,
          "xref": "x1",
          "y": 5,
          "yref": "y1"
         },
         {
          "font": {
           "color": "rgb(250,250,250)",
           "size": 10
          },
          "showarrow": false,
          "text": "13,3",
          "x": 3.75,
          "xref": "x1",
          "y": 5,
          "yref": "y1"
         },
         {
          "font": {
           "color": "rgb(250,250,250)",
           "size": 10
          },
          "showarrow": false,
          "text": "14,3",
          "x": 4.75,
          "xref": "x1",
          "y": 5,
          "yref": "y1"
         },
         {
          "font": {
           "color": "rgb(250,250,250)",
           "size": 10
          },
          "showarrow": false,
          "text": "15,4",
          "x": -6.75,
          "xref": "x1",
          "y": 4,
          "yref": "y1"
         },
         {
          "font": {
           "color": "rgb(250,250,250)",
           "size": 10
          },
          "showarrow": false,
          "text": "16,4",
          "x": -5.75,
          "xref": "x1",
          "y": 4,
          "yref": "y1"
         },
         {
          "font": {
           "color": "rgb(250,250,250)",
           "size": 10
          },
          "showarrow": false,
          "text": "17,4",
          "x": -4.75,
          "xref": "x1",
          "y": 4,
          "yref": "y1"
         },
         {
          "font": {
           "color": "rgb(250,250,250)",
           "size": 10
          },
          "showarrow": false,
          "text": "18,4",
          "x": -3.75,
          "xref": "x1",
          "y": 4,
          "yref": "y1"
         },
         {
          "font": {
           "color": "rgb(250,250,250)",
           "size": 10
          },
          "showarrow": false,
          "text": "19,4",
          "x": -2.75,
          "xref": "x1",
          "y": 4,
          "yref": "y1"
         },
         {
          "font": {
           "color": "rgb(250,250,250)",
           "size": 10
          },
          "showarrow": false,
          "text": "20,4",
          "x": -1.75,
          "xref": "x1",
          "y": 4,
          "yref": "y1"
         },
         {
          "font": {
           "color": "rgb(250,250,250)",
           "size": 10
          },
          "showarrow": false,
          "text": "21,4",
          "x": -0.75,
          "xref": "x1",
          "y": 4,
          "yref": "y1"
         },
         {
          "font": {
           "color": "rgb(250,250,250)",
           "size": 10
          },
          "showarrow": false,
          "text": "22,4",
          "x": 0.25,
          "xref": "x1",
          "y": 4,
          "yref": "y1"
         },
         {
          "font": {
           "color": "rgb(250,250,250)",
           "size": 10
          },
          "showarrow": false,
          "text": "23,4",
          "x": 1.25,
          "xref": "x1",
          "y": 4,
          "yref": "y1"
         },
         {
          "font": {
           "color": "rgb(250,250,250)",
           "size": 10
          },
          "showarrow": false,
          "text": "24,4",
          "x": 2.25,
          "xref": "x1",
          "y": 4,
          "yref": "y1"
         }
        ],
        "font": {
         "size": 12
        },
        "hovermode": "closest",
        "margin": {
         "b": 85,
         "l": 40,
         "r": 40,
         "t": 100
        },
        "plot_bgcolor": "rgb(248,248,248)",
        "showlegend": false,
        "title": "<thr> <com> 5 </com> <com> 2 </com> <com> 11 </com> </thr>",
        "xaxis": {
         "showgrid": false,
         "showline": false,
         "showticklabels": false,
         "zeroline": false
        },
        "yaxis": {
         "showgrid": false,
         "showline": false,
         "showticklabels": false,
         "zeroline": false
        }
       }
      },
      "text/html": [
       "<div id=\"1cb7e1fd-8e09-460b-96b5-0c703df104f6\" style=\"height: 525px; width: 100%;\" class=\"plotly-graph-div\"></div><script type=\"text/javascript\">require([\"plotly\"], function(Plotly) { window.PLOTLYENV=window.PLOTLYENV || {};window.PLOTLYENV.BASE_URL=\"https://plot.ly\";Plotly.newPlot(\"1cb7e1fd-8e09-460b-96b5-0c703df104f6\", [{\"mode\": \"lines\", \"hoverinfo\": \"none\", \"y\": [8.0, 7.0, null, 8.0, 7.0, null, 7.0, 6.0, null, 7.0, 6.0, null, 7.0, 6.0, null, 7.0, 6.0, null, 6.0, 5.0, null, 6.0, 5.0, null, 6.0, 5.0, null, 6.0, 5.0, null, 6.0, 5.0, null, 6.0, 5.0, null, 6.0, 5.0, null, 6.0, 5.0, null, 5.0, 4.0, null, 5.0, 4.0, null, 5.0, 4.0, null, 5.0, 4.0, null, 5.0, 4.0, null, 5.0, 4.0, null, 5.0, 4.0, null, 5.0, 4.0, null, 5.0, 4.0, null, 5.0, 4.0, null], \"x\": [0.0, -3.25, null, 0.0, 3.25, null, -3.25, -5.25, null, -3.25, -1.25, null, 3.25, 2.25, null, 3.25, 4.25, null, -5.25, -6.25, null, -5.25, -4.25, null, -1.25, -2.25, null, -1.25, -0.25, null, 2.25, 1.75, null, 2.25, 2.75, null, 4.25, 3.75, null, 4.25, 4.75, null, -6.25, -6.75, null, -6.25, -5.75, null, -4.25, -4.75, null, -4.25, -3.75, null, -2.25, -2.75, null, -2.25, -1.75, null, -0.25, -0.75, null, -0.25, 0.25, null, 1.75, 1.25, null, 1.75, 2.25, null], \"line\": {\"color\": \"rgb(210,210,210)\", \"width\": 1}, \"type\": \"scatter\"}, {\"opacity\": 0.8, \"name\": \"\", \"text\": [\"article\", \"1,1\", \"2,1\", \"3,2\", \"4,2\", \"5,2\", \"6,2\", \"7,3\", \"8,3\", \"9,3\", \"10,3\", \"11,3\", \"12,3\", \"13,3\", \"14,3\", \"15,4\", \"16,4\", \"17,4\", \"18,4\", \"19,4\", \"20,4\", \"21,4\", \"22,4\", \"23,4\", \"24,4\"], \"marker\": {\"color\": [\"#989898\", \"#6175c1\", \"#EE7600\", \"#6175c1\", \"#6175c1\", \"#EE7600\", \"#6175c1\", \"#6175c1\", \"#6175c1\", \"#6175c1\", \"#6175c1\", \"#DB4551\", \"#6175c1\", \"#6175c1\", \"#6175c1\", \"#6175c1\", \"#6175c1\", \"#6175c1\", \"#6175c1\", \"#6175c1\", \"#6175c1\", \"#6175c1\", \"#6175c1\", \"#6175c1\", \"#6175c1\"], \"line\": {\"color\": \"rgb(50,50,50)\", \"width\": 1}, \"symbol\": \"dot\", \"size\": 35}, \"mode\": \"markers\", \"hoverinfo\": \"text\", \"y\": [8.0, 7.0, 7.0, 6.0, 6.0, 6.0, 6.0, 5.0, 5.0, 5.0, 5.0, 5.0, 5.0, 5.0, 5.0, 4.0, 4.0, 4.0, 4.0, 4.0, 4.0, 4.0, 4.0, 4.0, 4.0], \"x\": [0.0, -3.25, 3.25, -5.25, -1.25, 2.25, 4.25, -6.25, -4.25, -2.25, -0.25, 1.75, 2.75, 3.75, 4.75, -6.75, -5.75, -4.75, -3.75, -2.75, -1.75, -0.75, 0.25, 1.25, 2.25], \"type\": \"scatter\"}], {\"showlegend\": false, \"title\": \"<thr> <com> 5 </com> <com> 2 </com> <com> 11 </com> </thr>\", \"plot_bgcolor\": \"rgb(248,248,248)\", \"yaxis\": {\"zeroline\": false, \"showline\": false, \"showticklabels\": false, \"showgrid\": false}, \"xaxis\": {\"zeroline\": false, \"showline\": false, \"showticklabels\": false, \"showgrid\": false}, \"hovermode\": \"closest\", \"font\": {\"size\": 12}, \"margin\": {\"r\": 40, \"b\": 85, \"t\": 100, \"l\": 40}, \"annotations\": [{\"xref\": \"x1\", \"yref\": \"y1\", \"text\": \"article\", \"y\": 8.0, \"x\": 0.0, \"font\": {\"color\": \"rgb(250,250,250)\", \"size\": 10}, \"showarrow\": false}, {\"xref\": \"x1\", \"yref\": \"y1\", \"text\": \"1,1\", \"y\": 7.0, \"x\": -3.25, \"font\": {\"color\": \"rgb(250,250,250)\", \"size\": 10}, \"showarrow\": false}, {\"xref\": \"x1\", \"yref\": \"y1\", \"text\": \"2,1\", \"y\": 7.0, \"x\": 3.25, \"font\": {\"color\": \"rgb(250,250,250)\", \"size\": 10}, \"showarrow\": false}, {\"xref\": \"x1\", \"yref\": \"y1\", \"text\": \"3,2\", \"y\": 6.0, \"x\": -5.25, \"font\": {\"color\": \"rgb(250,250,250)\", \"size\": 10}, \"showarrow\": false}, {\"xref\": \"x1\", \"yref\": \"y1\", \"text\": \"4,2\", \"y\": 6.0, \"x\": -1.25, \"font\": {\"color\": \"rgb(250,250,250)\", \"size\": 10}, \"showarrow\": false}, {\"xref\": \"x1\", \"yref\": \"y1\", \"text\": \"5,2\", \"y\": 6.0, \"x\": 2.25, \"font\": {\"color\": \"rgb(250,250,250)\", \"size\": 10}, \"showarrow\": false}, {\"xref\": \"x1\", \"yref\": \"y1\", \"text\": \"6,2\", \"y\": 6.0, \"x\": 4.25, \"font\": {\"color\": \"rgb(250,250,250)\", \"size\": 10}, \"showarrow\": false}, {\"xref\": \"x1\", \"yref\": \"y1\", \"text\": \"7,3\", \"y\": 5.0, \"x\": -6.25, \"font\": {\"color\": \"rgb(250,250,250)\", \"size\": 10}, \"showarrow\": false}, {\"xref\": \"x1\", \"yref\": \"y1\", \"text\": \"8,3\", \"y\": 5.0, \"x\": -4.25, \"font\": {\"color\": \"rgb(250,250,250)\", \"size\": 10}, \"showarrow\": false}, {\"xref\": \"x1\", \"yref\": \"y1\", \"text\": \"9,3\", \"y\": 5.0, \"x\": -2.25, \"font\": {\"color\": \"rgb(250,250,250)\", \"size\": 10}, \"showarrow\": false}, {\"xref\": \"x1\", \"yref\": \"y1\", \"text\": \"10,3\", \"y\": 5.0, \"x\": -0.25, \"font\": {\"color\": \"rgb(250,250,250)\", \"size\": 10}, \"showarrow\": false}, {\"xref\": \"x1\", \"yref\": \"y1\", \"text\": \"11,3\", \"y\": 5.0, \"x\": 1.75, \"font\": {\"color\": \"rgb(250,250,250)\", \"size\": 10}, \"showarrow\": false}, {\"xref\": \"x1\", \"yref\": \"y1\", \"text\": \"12,3\", \"y\": 5.0, \"x\": 2.75, \"font\": {\"color\": \"rgb(250,250,250)\", \"size\": 10}, \"showarrow\": false}, {\"xref\": \"x1\", \"yref\": \"y1\", \"text\": \"13,3\", \"y\": 5.0, \"x\": 3.75, \"font\": {\"color\": \"rgb(250,250,250)\", \"size\": 10}, \"showarrow\": false}, {\"xref\": \"x1\", \"yref\": \"y1\", \"text\": \"14,3\", \"y\": 5.0, \"x\": 4.75, \"font\": {\"color\": \"rgb(250,250,250)\", \"size\": 10}, \"showarrow\": false}, {\"xref\": \"x1\", \"yref\": \"y1\", \"text\": \"15,4\", \"y\": 4.0, \"x\": -6.75, \"font\": {\"color\": \"rgb(250,250,250)\", \"size\": 10}, \"showarrow\": false}, {\"xref\": \"x1\", \"yref\": \"y1\", \"text\": \"16,4\", \"y\": 4.0, \"x\": -5.75, \"font\": {\"color\": \"rgb(250,250,250)\", \"size\": 10}, \"showarrow\": false}, {\"xref\": \"x1\", \"yref\": \"y1\", \"text\": \"17,4\", \"y\": 4.0, \"x\": -4.75, \"font\": {\"color\": \"rgb(250,250,250)\", \"size\": 10}, \"showarrow\": false}, {\"xref\": \"x1\", \"yref\": \"y1\", \"text\": \"18,4\", \"y\": 4.0, \"x\": -3.75, \"font\": {\"color\": \"rgb(250,250,250)\", \"size\": 10}, \"showarrow\": false}, {\"xref\": \"x1\", \"yref\": \"y1\", \"text\": \"19,4\", \"y\": 4.0, \"x\": -2.75, \"font\": {\"color\": \"rgb(250,250,250)\", \"size\": 10}, \"showarrow\": false}, {\"xref\": \"x1\", \"yref\": \"y1\", \"text\": \"20,4\", \"y\": 4.0, \"x\": -1.75, \"font\": {\"color\": \"rgb(250,250,250)\", \"size\": 10}, \"showarrow\": false}, {\"xref\": \"x1\", \"yref\": \"y1\", \"text\": \"21,4\", \"y\": 4.0, \"x\": -0.75, \"font\": {\"color\": \"rgb(250,250,250)\", \"size\": 10}, \"showarrow\": false}, {\"xref\": \"x1\", \"yref\": \"y1\", \"text\": \"22,4\", \"y\": 4.0, \"x\": 0.25, \"font\": {\"color\": \"rgb(250,250,250)\", \"size\": 10}, \"showarrow\": false}, {\"xref\": \"x1\", \"yref\": \"y1\", \"text\": \"23,4\", \"y\": 4.0, \"x\": 1.25, \"font\": {\"color\": \"rgb(250,250,250)\", \"size\": 10}, \"showarrow\": false}, {\"xref\": \"x1\", \"yref\": \"y1\", \"text\": \"24,4\", \"y\": 4.0, \"x\": 2.25, \"font\": {\"color\": \"rgb(250,250,250)\", \"size\": 10}, \"showarrow\": false}]}, {\"linkText\": \"Export to plot.ly\", \"showLink\": true})});</script>"
      ],
      "text/vnd.plotly.v1+html": [
       "<div id=\"1cb7e1fd-8e09-460b-96b5-0c703df104f6\" style=\"height: 525px; width: 100%;\" class=\"plotly-graph-div\"></div><script type=\"text/javascript\">require([\"plotly\"], function(Plotly) { window.PLOTLYENV=window.PLOTLYENV || {};window.PLOTLYENV.BASE_URL=\"https://plot.ly\";Plotly.newPlot(\"1cb7e1fd-8e09-460b-96b5-0c703df104f6\", [{\"mode\": \"lines\", \"hoverinfo\": \"none\", \"y\": [8.0, 7.0, null, 8.0, 7.0, null, 7.0, 6.0, null, 7.0, 6.0, null, 7.0, 6.0, null, 7.0, 6.0, null, 6.0, 5.0, null, 6.0, 5.0, null, 6.0, 5.0, null, 6.0, 5.0, null, 6.0, 5.0, null, 6.0, 5.0, null, 6.0, 5.0, null, 6.0, 5.0, null, 5.0, 4.0, null, 5.0, 4.0, null, 5.0, 4.0, null, 5.0, 4.0, null, 5.0, 4.0, null, 5.0, 4.0, null, 5.0, 4.0, null, 5.0, 4.0, null, 5.0, 4.0, null, 5.0, 4.0, null], \"x\": [0.0, -3.25, null, 0.0, 3.25, null, -3.25, -5.25, null, -3.25, -1.25, null, 3.25, 2.25, null, 3.25, 4.25, null, -5.25, -6.25, null, -5.25, -4.25, null, -1.25, -2.25, null, -1.25, -0.25, null, 2.25, 1.75, null, 2.25, 2.75, null, 4.25, 3.75, null, 4.25, 4.75, null, -6.25, -6.75, null, -6.25, -5.75, null, -4.25, -4.75, null, -4.25, -3.75, null, -2.25, -2.75, null, -2.25, -1.75, null, -0.25, -0.75, null, -0.25, 0.25, null, 1.75, 1.25, null, 1.75, 2.25, null], \"line\": {\"color\": \"rgb(210,210,210)\", \"width\": 1}, \"type\": \"scatter\"}, {\"opacity\": 0.8, \"name\": \"\", \"text\": [\"article\", \"1,1\", \"2,1\", \"3,2\", \"4,2\", \"5,2\", \"6,2\", \"7,3\", \"8,3\", \"9,3\", \"10,3\", \"11,3\", \"12,3\", \"13,3\", \"14,3\", \"15,4\", \"16,4\", \"17,4\", \"18,4\", \"19,4\", \"20,4\", \"21,4\", \"22,4\", \"23,4\", \"24,4\"], \"marker\": {\"color\": [\"#989898\", \"#6175c1\", \"#EE7600\", \"#6175c1\", \"#6175c1\", \"#EE7600\", \"#6175c1\", \"#6175c1\", \"#6175c1\", \"#6175c1\", \"#6175c1\", \"#DB4551\", \"#6175c1\", \"#6175c1\", \"#6175c1\", \"#6175c1\", \"#6175c1\", \"#6175c1\", \"#6175c1\", \"#6175c1\", \"#6175c1\", \"#6175c1\", \"#6175c1\", \"#6175c1\", \"#6175c1\"], \"line\": {\"color\": \"rgb(50,50,50)\", \"width\": 1}, \"symbol\": \"dot\", \"size\": 35}, \"mode\": \"markers\", \"hoverinfo\": \"text\", \"y\": [8.0, 7.0, 7.0, 6.0, 6.0, 6.0, 6.0, 5.0, 5.0, 5.0, 5.0, 5.0, 5.0, 5.0, 5.0, 4.0, 4.0, 4.0, 4.0, 4.0, 4.0, 4.0, 4.0, 4.0, 4.0], \"x\": [0.0, -3.25, 3.25, -5.25, -1.25, 2.25, 4.25, -6.25, -4.25, -2.25, -0.25, 1.75, 2.75, 3.75, 4.75, -6.75, -5.75, -4.75, -3.75, -2.75, -1.75, -0.75, 0.25, 1.25, 2.25], \"type\": \"scatter\"}], {\"showlegend\": false, \"title\": \"<thr> <com> 5 </com> <com> 2 </com> <com> 11 </com> </thr>\", \"plot_bgcolor\": \"rgb(248,248,248)\", \"yaxis\": {\"zeroline\": false, \"showline\": false, \"showticklabels\": false, \"showgrid\": false}, \"xaxis\": {\"zeroline\": false, \"showline\": false, \"showticklabels\": false, \"showgrid\": false}, \"hovermode\": \"closest\", \"font\": {\"size\": 12}, \"margin\": {\"r\": 40, \"b\": 85, \"t\": 100, \"l\": 40}, \"annotations\": [{\"xref\": \"x1\", \"yref\": \"y1\", \"text\": \"article\", \"y\": 8.0, \"x\": 0.0, \"font\": {\"color\": \"rgb(250,250,250)\", \"size\": 10}, \"showarrow\": false}, {\"xref\": \"x1\", \"yref\": \"y1\", \"text\": \"1,1\", \"y\": 7.0, \"x\": -3.25, \"font\": {\"color\": \"rgb(250,250,250)\", \"size\": 10}, \"showarrow\": false}, {\"xref\": \"x1\", \"yref\": \"y1\", \"text\": \"2,1\", \"y\": 7.0, \"x\": 3.25, \"font\": {\"color\": \"rgb(250,250,250)\", \"size\": 10}, \"showarrow\": false}, {\"xref\": \"x1\", \"yref\": \"y1\", \"text\": \"3,2\", \"y\": 6.0, \"x\": -5.25, \"font\": {\"color\": \"rgb(250,250,250)\", \"size\": 10}, \"showarrow\": false}, {\"xref\": \"x1\", \"yref\": \"y1\", \"text\": \"4,2\", \"y\": 6.0, \"x\": -1.25, \"font\": {\"color\": \"rgb(250,250,250)\", \"size\": 10}, \"showarrow\": false}, {\"xref\": \"x1\", \"yref\": \"y1\", \"text\": \"5,2\", \"y\": 6.0, \"x\": 2.25, \"font\": {\"color\": \"rgb(250,250,250)\", \"size\": 10}, \"showarrow\": false}, {\"xref\": \"x1\", \"yref\": \"y1\", \"text\": \"6,2\", \"y\": 6.0, \"x\": 4.25, \"font\": {\"color\": \"rgb(250,250,250)\", \"size\": 10}, \"showarrow\": false}, {\"xref\": \"x1\", \"yref\": \"y1\", \"text\": \"7,3\", \"y\": 5.0, \"x\": -6.25, \"font\": {\"color\": \"rgb(250,250,250)\", \"size\": 10}, \"showarrow\": false}, {\"xref\": \"x1\", \"yref\": \"y1\", \"text\": \"8,3\", \"y\": 5.0, \"x\": -4.25, \"font\": {\"color\": \"rgb(250,250,250)\", \"size\": 10}, \"showarrow\": false}, {\"xref\": \"x1\", \"yref\": \"y1\", \"text\": \"9,3\", \"y\": 5.0, \"x\": -2.25, \"font\": {\"color\": \"rgb(250,250,250)\", \"size\": 10}, \"showarrow\": false}, {\"xref\": \"x1\", \"yref\": \"y1\", \"text\": \"10,3\", \"y\": 5.0, \"x\": -0.25, \"font\": {\"color\": \"rgb(250,250,250)\", \"size\": 10}, \"showarrow\": false}, {\"xref\": \"x1\", \"yref\": \"y1\", \"text\": \"11,3\", \"y\": 5.0, \"x\": 1.75, \"font\": {\"color\": \"rgb(250,250,250)\", \"size\": 10}, \"showarrow\": false}, {\"xref\": \"x1\", \"yref\": \"y1\", \"text\": \"12,3\", \"y\": 5.0, \"x\": 2.75, \"font\": {\"color\": \"rgb(250,250,250)\", \"size\": 10}, \"showarrow\": false}, {\"xref\": \"x1\", \"yref\": \"y1\", \"text\": \"13,3\", \"y\": 5.0, \"x\": 3.75, \"font\": {\"color\": \"rgb(250,250,250)\", \"size\": 10}, \"showarrow\": false}, {\"xref\": \"x1\", \"yref\": \"y1\", \"text\": \"14,3\", \"y\": 5.0, \"x\": 4.75, \"font\": {\"color\": \"rgb(250,250,250)\", \"size\": 10}, \"showarrow\": false}, {\"xref\": \"x1\", \"yref\": \"y1\", \"text\": \"15,4\", \"y\": 4.0, \"x\": -6.75, \"font\": {\"color\": \"rgb(250,250,250)\", \"size\": 10}, \"showarrow\": false}, {\"xref\": \"x1\", \"yref\": \"y1\", \"text\": \"16,4\", \"y\": 4.0, \"x\": -5.75, \"font\": {\"color\": \"rgb(250,250,250)\", \"size\": 10}, \"showarrow\": false}, {\"xref\": \"x1\", \"yref\": \"y1\", \"text\": \"17,4\", \"y\": 4.0, \"x\": -4.75, \"font\": {\"color\": \"rgb(250,250,250)\", \"size\": 10}, \"showarrow\": false}, {\"xref\": \"x1\", \"yref\": \"y1\", \"text\": \"18,4\", \"y\": 4.0, \"x\": -3.75, \"font\": {\"color\": \"rgb(250,250,250)\", \"size\": 10}, \"showarrow\": false}, {\"xref\": \"x1\", \"yref\": \"y1\", \"text\": \"19,4\", \"y\": 4.0, \"x\": -2.75, \"font\": {\"color\": \"rgb(250,250,250)\", \"size\": 10}, \"showarrow\": false}, {\"xref\": \"x1\", \"yref\": \"y1\", \"text\": \"20,4\", \"y\": 4.0, \"x\": -1.75, \"font\": {\"color\": \"rgb(250,250,250)\", \"size\": 10}, \"showarrow\": false}, {\"xref\": \"x1\", \"yref\": \"y1\", \"text\": \"21,4\", \"y\": 4.0, \"x\": -0.75, \"font\": {\"color\": \"rgb(250,250,250)\", \"size\": 10}, \"showarrow\": false}, {\"xref\": \"x1\", \"yref\": \"y1\", \"text\": \"22,4\", \"y\": 4.0, \"x\": 0.25, \"font\": {\"color\": \"rgb(250,250,250)\", \"size\": 10}, \"showarrow\": false}, {\"xref\": \"x1\", \"yref\": \"y1\", \"text\": \"23,4\", \"y\": 4.0, \"x\": 1.25, \"font\": {\"color\": \"rgb(250,250,250)\", \"size\": 10}, \"showarrow\": false}, {\"xref\": \"x1\", \"yref\": \"y1\", \"text\": \"24,4\", \"y\": 4.0, \"x\": 2.25, \"font\": {\"color\": \"rgb(250,250,250)\", \"size\": 10}, \"showarrow\": false}]}, {\"linkText\": \"Export to plot.ly\", \"showLink\": true})});</script>"
      ]
     },
     "metadata": {},
     "output_type": "display_data"
    },
    {
     "data": {
      "application/vnd.plotly.v1+json": {
       "data": [
        {
         "hoverinfo": "none",
         "line": {
          "color": "rgb(210,210,210)",
          "width": 1
         },
         "mode": "lines",
         "type": "scatter",
         "x": [
          0,
          -3.25,
          null,
          0,
          3.25,
          null,
          -3.25,
          -5.25,
          null,
          -3.25,
          -1.25,
          null,
          3.25,
          2.25,
          null,
          3.25,
          4.25,
          null,
          -5.25,
          -6.25,
          null,
          -5.25,
          -4.25,
          null,
          -1.25,
          -2.25,
          null,
          -1.25,
          -0.25,
          null,
          2.25,
          1.75,
          null,
          2.25,
          2.75,
          null,
          4.25,
          3.75,
          null,
          4.25,
          4.75,
          null,
          -6.25,
          -6.75,
          null,
          -6.25,
          -5.75,
          null,
          -4.25,
          -4.75,
          null,
          -4.25,
          -3.75,
          null,
          -2.25,
          -2.75,
          null,
          -2.25,
          -1.75,
          null,
          -0.25,
          -0.75,
          null,
          -0.25,
          0.25,
          null,
          1.75,
          1.25,
          null,
          1.75,
          2.25,
          null
         ],
         "y": [
          8,
          7,
          null,
          8,
          7,
          null,
          7,
          6,
          null,
          7,
          6,
          null,
          7,
          6,
          null,
          7,
          6,
          null,
          6,
          5,
          null,
          6,
          5,
          null,
          6,
          5,
          null,
          6,
          5,
          null,
          6,
          5,
          null,
          6,
          5,
          null,
          6,
          5,
          null,
          6,
          5,
          null,
          5,
          4,
          null,
          5,
          4,
          null,
          5,
          4,
          null,
          5,
          4,
          null,
          5,
          4,
          null,
          5,
          4,
          null,
          5,
          4,
          null,
          5,
          4,
          null,
          5,
          4,
          null,
          5,
          4,
          null
         ]
        },
        {
         "hoverinfo": "text",
         "marker": {
          "color": [
           "#989898",
           "#6175c1",
           "#EE7600",
           "#6175c1",
           "#6175c1",
           "#EE7600",
           "#6175c1",
           "#6175c1",
           "#6175c1",
           "#6175c1",
           "#6175c1",
           "#6175c1",
           "#DB4551",
           "#6175c1",
           "#6175c1",
           "#6175c1",
           "#6175c1",
           "#6175c1",
           "#6175c1",
           "#6175c1",
           "#6175c1",
           "#6175c1",
           "#6175c1",
           "#6175c1",
           "#6175c1"
          ],
          "line": {
           "color": "rgb(50,50,50)",
           "width": 1
          },
          "size": 35,
          "symbol": "dot"
         },
         "mode": "markers",
         "name": "",
         "opacity": 0.8,
         "text": [
          "article",
          "1,1",
          "2,1",
          "3,2",
          "4,2",
          "5,2",
          "6,2",
          "7,3",
          "8,3",
          "9,3",
          "10,3",
          "11,3",
          "12,3",
          "13,3",
          "14,3",
          "15,4",
          "16,4",
          "17,4",
          "18,4",
          "19,4",
          "20,4",
          "21,4",
          "22,4",
          "23,4",
          "24,4"
         ],
         "type": "scatter",
         "x": [
          0,
          -3.25,
          3.25,
          -5.25,
          -1.25,
          2.25,
          4.25,
          -6.25,
          -4.25,
          -2.25,
          -0.25,
          1.75,
          2.75,
          3.75,
          4.75,
          -6.75,
          -5.75,
          -4.75,
          -3.75,
          -2.75,
          -1.75,
          -0.75,
          0.25,
          1.25,
          2.25
         ],
         "y": [
          8,
          7,
          7,
          6,
          6,
          6,
          6,
          5,
          5,
          5,
          5,
          5,
          5,
          5,
          5,
          4,
          4,
          4,
          4,
          4,
          4,
          4,
          4,
          4,
          4
         ]
        }
       ],
       "layout": {
        "annotations": [
         {
          "font": {
           "color": "rgb(250,250,250)",
           "size": 10
          },
          "showarrow": false,
          "text": "article",
          "x": 0,
          "xref": "x1",
          "y": 8,
          "yref": "y1"
         },
         {
          "font": {
           "color": "rgb(250,250,250)",
           "size": 10
          },
          "showarrow": false,
          "text": "1,1",
          "x": -3.25,
          "xref": "x1",
          "y": 7,
          "yref": "y1"
         },
         {
          "font": {
           "color": "rgb(250,250,250)",
           "size": 10
          },
          "showarrow": false,
          "text": "2,1",
          "x": 3.25,
          "xref": "x1",
          "y": 7,
          "yref": "y1"
         },
         {
          "font": {
           "color": "rgb(250,250,250)",
           "size": 10
          },
          "showarrow": false,
          "text": "3,2",
          "x": -5.25,
          "xref": "x1",
          "y": 6,
          "yref": "y1"
         },
         {
          "font": {
           "color": "rgb(250,250,250)",
           "size": 10
          },
          "showarrow": false,
          "text": "4,2",
          "x": -1.25,
          "xref": "x1",
          "y": 6,
          "yref": "y1"
         },
         {
          "font": {
           "color": "rgb(250,250,250)",
           "size": 10
          },
          "showarrow": false,
          "text": "5,2",
          "x": 2.25,
          "xref": "x1",
          "y": 6,
          "yref": "y1"
         },
         {
          "font": {
           "color": "rgb(250,250,250)",
           "size": 10
          },
          "showarrow": false,
          "text": "6,2",
          "x": 4.25,
          "xref": "x1",
          "y": 6,
          "yref": "y1"
         },
         {
          "font": {
           "color": "rgb(250,250,250)",
           "size": 10
          },
          "showarrow": false,
          "text": "7,3",
          "x": -6.25,
          "xref": "x1",
          "y": 5,
          "yref": "y1"
         },
         {
          "font": {
           "color": "rgb(250,250,250)",
           "size": 10
          },
          "showarrow": false,
          "text": "8,3",
          "x": -4.25,
          "xref": "x1",
          "y": 5,
          "yref": "y1"
         },
         {
          "font": {
           "color": "rgb(250,250,250)",
           "size": 10
          },
          "showarrow": false,
          "text": "9,3",
          "x": -2.25,
          "xref": "x1",
          "y": 5,
          "yref": "y1"
         },
         {
          "font": {
           "color": "rgb(250,250,250)",
           "size": 10
          },
          "showarrow": false,
          "text": "10,3",
          "x": -0.25,
          "xref": "x1",
          "y": 5,
          "yref": "y1"
         },
         {
          "font": {
           "color": "rgb(250,250,250)",
           "size": 10
          },
          "showarrow": false,
          "text": "11,3",
          "x": 1.75,
          "xref": "x1",
          "y": 5,
          "yref": "y1"
         },
         {
          "font": {
           "color": "rgb(250,250,250)",
           "size": 10
          },
          "showarrow": false,
          "text": "12,3",
          "x": 2.75,
          "xref": "x1",
          "y": 5,
          "yref": "y1"
         },
         {
          "font": {
           "color": "rgb(250,250,250)",
           "size": 10
          },
          "showarrow": false,
          "text": "13,3",
          "x": 3.75,
          "xref": "x1",
          "y": 5,
          "yref": "y1"
         },
         {
          "font": {
           "color": "rgb(250,250,250)",
           "size": 10
          },
          "showarrow": false,
          "text": "14,3",
          "x": 4.75,
          "xref": "x1",
          "y": 5,
          "yref": "y1"
         },
         {
          "font": {
           "color": "rgb(250,250,250)",
           "size": 10
          },
          "showarrow": false,
          "text": "15,4",
          "x": -6.75,
          "xref": "x1",
          "y": 4,
          "yref": "y1"
         },
         {
          "font": {
           "color": "rgb(250,250,250)",
           "size": 10
          },
          "showarrow": false,
          "text": "16,4",
          "x": -5.75,
          "xref": "x1",
          "y": 4,
          "yref": "y1"
         },
         {
          "font": {
           "color": "rgb(250,250,250)",
           "size": 10
          },
          "showarrow": false,
          "text": "17,4",
          "x": -4.75,
          "xref": "x1",
          "y": 4,
          "yref": "y1"
         },
         {
          "font": {
           "color": "rgb(250,250,250)",
           "size": 10
          },
          "showarrow": false,
          "text": "18,4",
          "x": -3.75,
          "xref": "x1",
          "y": 4,
          "yref": "y1"
         },
         {
          "font": {
           "color": "rgb(250,250,250)",
           "size": 10
          },
          "showarrow": false,
          "text": "19,4",
          "x": -2.75,
          "xref": "x1",
          "y": 4,
          "yref": "y1"
         },
         {
          "font": {
           "color": "rgb(250,250,250)",
           "size": 10
          },
          "showarrow": false,
          "text": "20,4",
          "x": -1.75,
          "xref": "x1",
          "y": 4,
          "yref": "y1"
         },
         {
          "font": {
           "color": "rgb(250,250,250)",
           "size": 10
          },
          "showarrow": false,
          "text": "21,4",
          "x": -0.75,
          "xref": "x1",
          "y": 4,
          "yref": "y1"
         },
         {
          "font": {
           "color": "rgb(250,250,250)",
           "size": 10
          },
          "showarrow": false,
          "text": "22,4",
          "x": 0.25,
          "xref": "x1",
          "y": 4,
          "yref": "y1"
         },
         {
          "font": {
           "color": "rgb(250,250,250)",
           "size": 10
          },
          "showarrow": false,
          "text": "23,4",
          "x": 1.25,
          "xref": "x1",
          "y": 4,
          "yref": "y1"
         },
         {
          "font": {
           "color": "rgb(250,250,250)",
           "size": 10
          },
          "showarrow": false,
          "text": "24,4",
          "x": 2.25,
          "xref": "x1",
          "y": 4,
          "yref": "y1"
         }
        ],
        "font": {
         "size": 12
        },
        "hovermode": "closest",
        "margin": {
         "b": 85,
         "l": 40,
         "r": 40,
         "t": 100
        },
        "plot_bgcolor": "rgb(248,248,248)",
        "showlegend": false,
        "title": "<thr> <com> 5 </com> <com> 2 </com> <com> 12 </com> </thr>",
        "xaxis": {
         "showgrid": false,
         "showline": false,
         "showticklabels": false,
         "zeroline": false
        },
        "yaxis": {
         "showgrid": false,
         "showline": false,
         "showticklabels": false,
         "zeroline": false
        }
       }
      },
      "text/html": [
       "<div id=\"21317234-157d-4cdc-b198-ff325a0ae065\" style=\"height: 525px; width: 100%;\" class=\"plotly-graph-div\"></div><script type=\"text/javascript\">require([\"plotly\"], function(Plotly) { window.PLOTLYENV=window.PLOTLYENV || {};window.PLOTLYENV.BASE_URL=\"https://plot.ly\";Plotly.newPlot(\"21317234-157d-4cdc-b198-ff325a0ae065\", [{\"mode\": \"lines\", \"hoverinfo\": \"none\", \"y\": [8.0, 7.0, null, 8.0, 7.0, null, 7.0, 6.0, null, 7.0, 6.0, null, 7.0, 6.0, null, 7.0, 6.0, null, 6.0, 5.0, null, 6.0, 5.0, null, 6.0, 5.0, null, 6.0, 5.0, null, 6.0, 5.0, null, 6.0, 5.0, null, 6.0, 5.0, null, 6.0, 5.0, null, 5.0, 4.0, null, 5.0, 4.0, null, 5.0, 4.0, null, 5.0, 4.0, null, 5.0, 4.0, null, 5.0, 4.0, null, 5.0, 4.0, null, 5.0, 4.0, null, 5.0, 4.0, null, 5.0, 4.0, null], \"x\": [0.0, -3.25, null, 0.0, 3.25, null, -3.25, -5.25, null, -3.25, -1.25, null, 3.25, 2.25, null, 3.25, 4.25, null, -5.25, -6.25, null, -5.25, -4.25, null, -1.25, -2.25, null, -1.25, -0.25, null, 2.25, 1.75, null, 2.25, 2.75, null, 4.25, 3.75, null, 4.25, 4.75, null, -6.25, -6.75, null, -6.25, -5.75, null, -4.25, -4.75, null, -4.25, -3.75, null, -2.25, -2.75, null, -2.25, -1.75, null, -0.25, -0.75, null, -0.25, 0.25, null, 1.75, 1.25, null, 1.75, 2.25, null], \"line\": {\"color\": \"rgb(210,210,210)\", \"width\": 1}, \"type\": \"scatter\"}, {\"opacity\": 0.8, \"name\": \"\", \"text\": [\"article\", \"1,1\", \"2,1\", \"3,2\", \"4,2\", \"5,2\", \"6,2\", \"7,3\", \"8,3\", \"9,3\", \"10,3\", \"11,3\", \"12,3\", \"13,3\", \"14,3\", \"15,4\", \"16,4\", \"17,4\", \"18,4\", \"19,4\", \"20,4\", \"21,4\", \"22,4\", \"23,4\", \"24,4\"], \"marker\": {\"color\": [\"#989898\", \"#6175c1\", \"#EE7600\", \"#6175c1\", \"#6175c1\", \"#EE7600\", \"#6175c1\", \"#6175c1\", \"#6175c1\", \"#6175c1\", \"#6175c1\", \"#6175c1\", \"#DB4551\", \"#6175c1\", \"#6175c1\", \"#6175c1\", \"#6175c1\", \"#6175c1\", \"#6175c1\", \"#6175c1\", \"#6175c1\", \"#6175c1\", \"#6175c1\", \"#6175c1\", \"#6175c1\"], \"line\": {\"color\": \"rgb(50,50,50)\", \"width\": 1}, \"symbol\": \"dot\", \"size\": 35}, \"mode\": \"markers\", \"hoverinfo\": \"text\", \"y\": [8.0, 7.0, 7.0, 6.0, 6.0, 6.0, 6.0, 5.0, 5.0, 5.0, 5.0, 5.0, 5.0, 5.0, 5.0, 4.0, 4.0, 4.0, 4.0, 4.0, 4.0, 4.0, 4.0, 4.0, 4.0], \"x\": [0.0, -3.25, 3.25, -5.25, -1.25, 2.25, 4.25, -6.25, -4.25, -2.25, -0.25, 1.75, 2.75, 3.75, 4.75, -6.75, -5.75, -4.75, -3.75, -2.75, -1.75, -0.75, 0.25, 1.25, 2.25], \"type\": \"scatter\"}], {\"showlegend\": false, \"title\": \"<thr> <com> 5 </com> <com> 2 </com> <com> 12 </com> </thr>\", \"plot_bgcolor\": \"rgb(248,248,248)\", \"yaxis\": {\"zeroline\": false, \"showline\": false, \"showticklabels\": false, \"showgrid\": false}, \"xaxis\": {\"zeroline\": false, \"showline\": false, \"showticklabels\": false, \"showgrid\": false}, \"hovermode\": \"closest\", \"font\": {\"size\": 12}, \"margin\": {\"r\": 40, \"b\": 85, \"t\": 100, \"l\": 40}, \"annotations\": [{\"xref\": \"x1\", \"yref\": \"y1\", \"text\": \"article\", \"y\": 8.0, \"x\": 0.0, \"font\": {\"color\": \"rgb(250,250,250)\", \"size\": 10}, \"showarrow\": false}, {\"xref\": \"x1\", \"yref\": \"y1\", \"text\": \"1,1\", \"y\": 7.0, \"x\": -3.25, \"font\": {\"color\": \"rgb(250,250,250)\", \"size\": 10}, \"showarrow\": false}, {\"xref\": \"x1\", \"yref\": \"y1\", \"text\": \"2,1\", \"y\": 7.0, \"x\": 3.25, \"font\": {\"color\": \"rgb(250,250,250)\", \"size\": 10}, \"showarrow\": false}, {\"xref\": \"x1\", \"yref\": \"y1\", \"text\": \"3,2\", \"y\": 6.0, \"x\": -5.25, \"font\": {\"color\": \"rgb(250,250,250)\", \"size\": 10}, \"showarrow\": false}, {\"xref\": \"x1\", \"yref\": \"y1\", \"text\": \"4,2\", \"y\": 6.0, \"x\": -1.25, \"font\": {\"color\": \"rgb(250,250,250)\", \"size\": 10}, \"showarrow\": false}, {\"xref\": \"x1\", \"yref\": \"y1\", \"text\": \"5,2\", \"y\": 6.0, \"x\": 2.25, \"font\": {\"color\": \"rgb(250,250,250)\", \"size\": 10}, \"showarrow\": false}, {\"xref\": \"x1\", \"yref\": \"y1\", \"text\": \"6,2\", \"y\": 6.0, \"x\": 4.25, \"font\": {\"color\": \"rgb(250,250,250)\", \"size\": 10}, \"showarrow\": false}, {\"xref\": \"x1\", \"yref\": \"y1\", \"text\": \"7,3\", \"y\": 5.0, \"x\": -6.25, \"font\": {\"color\": \"rgb(250,250,250)\", \"size\": 10}, \"showarrow\": false}, {\"xref\": \"x1\", \"yref\": \"y1\", \"text\": \"8,3\", \"y\": 5.0, \"x\": -4.25, \"font\": {\"color\": \"rgb(250,250,250)\", \"size\": 10}, \"showarrow\": false}, {\"xref\": \"x1\", \"yref\": \"y1\", \"text\": \"9,3\", \"y\": 5.0, \"x\": -2.25, \"font\": {\"color\": \"rgb(250,250,250)\", \"size\": 10}, \"showarrow\": false}, {\"xref\": \"x1\", \"yref\": \"y1\", \"text\": \"10,3\", \"y\": 5.0, \"x\": -0.25, \"font\": {\"color\": \"rgb(250,250,250)\", \"size\": 10}, \"showarrow\": false}, {\"xref\": \"x1\", \"yref\": \"y1\", \"text\": \"11,3\", \"y\": 5.0, \"x\": 1.75, \"font\": {\"color\": \"rgb(250,250,250)\", \"size\": 10}, \"showarrow\": false}, {\"xref\": \"x1\", \"yref\": \"y1\", \"text\": \"12,3\", \"y\": 5.0, \"x\": 2.75, \"font\": {\"color\": \"rgb(250,250,250)\", \"size\": 10}, \"showarrow\": false}, {\"xref\": \"x1\", \"yref\": \"y1\", \"text\": \"13,3\", \"y\": 5.0, \"x\": 3.75, \"font\": {\"color\": \"rgb(250,250,250)\", \"size\": 10}, \"showarrow\": false}, {\"xref\": \"x1\", \"yref\": \"y1\", \"text\": \"14,3\", \"y\": 5.0, \"x\": 4.75, \"font\": {\"color\": \"rgb(250,250,250)\", \"size\": 10}, \"showarrow\": false}, {\"xref\": \"x1\", \"yref\": \"y1\", \"text\": \"15,4\", \"y\": 4.0, \"x\": -6.75, \"font\": {\"color\": \"rgb(250,250,250)\", \"size\": 10}, \"showarrow\": false}, {\"xref\": \"x1\", \"yref\": \"y1\", \"text\": \"16,4\", \"y\": 4.0, \"x\": -5.75, \"font\": {\"color\": \"rgb(250,250,250)\", \"size\": 10}, \"showarrow\": false}, {\"xref\": \"x1\", \"yref\": \"y1\", \"text\": \"17,4\", \"y\": 4.0, \"x\": -4.75, \"font\": {\"color\": \"rgb(250,250,250)\", \"size\": 10}, \"showarrow\": false}, {\"xref\": \"x1\", \"yref\": \"y1\", \"text\": \"18,4\", \"y\": 4.0, \"x\": -3.75, \"font\": {\"color\": \"rgb(250,250,250)\", \"size\": 10}, \"showarrow\": false}, {\"xref\": \"x1\", \"yref\": \"y1\", \"text\": \"19,4\", \"y\": 4.0, \"x\": -2.75, \"font\": {\"color\": \"rgb(250,250,250)\", \"size\": 10}, \"showarrow\": false}, {\"xref\": \"x1\", \"yref\": \"y1\", \"text\": \"20,4\", \"y\": 4.0, \"x\": -1.75, \"font\": {\"color\": \"rgb(250,250,250)\", \"size\": 10}, \"showarrow\": false}, {\"xref\": \"x1\", \"yref\": \"y1\", \"text\": \"21,4\", \"y\": 4.0, \"x\": -0.75, \"font\": {\"color\": \"rgb(250,250,250)\", \"size\": 10}, \"showarrow\": false}, {\"xref\": \"x1\", \"yref\": \"y1\", \"text\": \"22,4\", \"y\": 4.0, \"x\": 0.25, \"font\": {\"color\": \"rgb(250,250,250)\", \"size\": 10}, \"showarrow\": false}, {\"xref\": \"x1\", \"yref\": \"y1\", \"text\": \"23,4\", \"y\": 4.0, \"x\": 1.25, \"font\": {\"color\": \"rgb(250,250,250)\", \"size\": 10}, \"showarrow\": false}, {\"xref\": \"x1\", \"yref\": \"y1\", \"text\": \"24,4\", \"y\": 4.0, \"x\": 2.25, \"font\": {\"color\": \"rgb(250,250,250)\", \"size\": 10}, \"showarrow\": false}]}, {\"linkText\": \"Export to plot.ly\", \"showLink\": true})});</script>"
      ],
      "text/vnd.plotly.v1+html": [
       "<div id=\"21317234-157d-4cdc-b198-ff325a0ae065\" style=\"height: 525px; width: 100%;\" class=\"plotly-graph-div\"></div><script type=\"text/javascript\">require([\"plotly\"], function(Plotly) { window.PLOTLYENV=window.PLOTLYENV || {};window.PLOTLYENV.BASE_URL=\"https://plot.ly\";Plotly.newPlot(\"21317234-157d-4cdc-b198-ff325a0ae065\", [{\"mode\": \"lines\", \"hoverinfo\": \"none\", \"y\": [8.0, 7.0, null, 8.0, 7.0, null, 7.0, 6.0, null, 7.0, 6.0, null, 7.0, 6.0, null, 7.0, 6.0, null, 6.0, 5.0, null, 6.0, 5.0, null, 6.0, 5.0, null, 6.0, 5.0, null, 6.0, 5.0, null, 6.0, 5.0, null, 6.0, 5.0, null, 6.0, 5.0, null, 5.0, 4.0, null, 5.0, 4.0, null, 5.0, 4.0, null, 5.0, 4.0, null, 5.0, 4.0, null, 5.0, 4.0, null, 5.0, 4.0, null, 5.0, 4.0, null, 5.0, 4.0, null, 5.0, 4.0, null], \"x\": [0.0, -3.25, null, 0.0, 3.25, null, -3.25, -5.25, null, -3.25, -1.25, null, 3.25, 2.25, null, 3.25, 4.25, null, -5.25, -6.25, null, -5.25, -4.25, null, -1.25, -2.25, null, -1.25, -0.25, null, 2.25, 1.75, null, 2.25, 2.75, null, 4.25, 3.75, null, 4.25, 4.75, null, -6.25, -6.75, null, -6.25, -5.75, null, -4.25, -4.75, null, -4.25, -3.75, null, -2.25, -2.75, null, -2.25, -1.75, null, -0.25, -0.75, null, -0.25, 0.25, null, 1.75, 1.25, null, 1.75, 2.25, null], \"line\": {\"color\": \"rgb(210,210,210)\", \"width\": 1}, \"type\": \"scatter\"}, {\"opacity\": 0.8, \"name\": \"\", \"text\": [\"article\", \"1,1\", \"2,1\", \"3,2\", \"4,2\", \"5,2\", \"6,2\", \"7,3\", \"8,3\", \"9,3\", \"10,3\", \"11,3\", \"12,3\", \"13,3\", \"14,3\", \"15,4\", \"16,4\", \"17,4\", \"18,4\", \"19,4\", \"20,4\", \"21,4\", \"22,4\", \"23,4\", \"24,4\"], \"marker\": {\"color\": [\"#989898\", \"#6175c1\", \"#EE7600\", \"#6175c1\", \"#6175c1\", \"#EE7600\", \"#6175c1\", \"#6175c1\", \"#6175c1\", \"#6175c1\", \"#6175c1\", \"#6175c1\", \"#DB4551\", \"#6175c1\", \"#6175c1\", \"#6175c1\", \"#6175c1\", \"#6175c1\", \"#6175c1\", \"#6175c1\", \"#6175c1\", \"#6175c1\", \"#6175c1\", \"#6175c1\", \"#6175c1\"], \"line\": {\"color\": \"rgb(50,50,50)\", \"width\": 1}, \"symbol\": \"dot\", \"size\": 35}, \"mode\": \"markers\", \"hoverinfo\": \"text\", \"y\": [8.0, 7.0, 7.0, 6.0, 6.0, 6.0, 6.0, 5.0, 5.0, 5.0, 5.0, 5.0, 5.0, 5.0, 5.0, 4.0, 4.0, 4.0, 4.0, 4.0, 4.0, 4.0, 4.0, 4.0, 4.0], \"x\": [0.0, -3.25, 3.25, -5.25, -1.25, 2.25, 4.25, -6.25, -4.25, -2.25, -0.25, 1.75, 2.75, 3.75, 4.75, -6.75, -5.75, -4.75, -3.75, -2.75, -1.75, -0.75, 0.25, 1.25, 2.25], \"type\": \"scatter\"}], {\"showlegend\": false, \"title\": \"<thr> <com> 5 </com> <com> 2 </com> <com> 12 </com> </thr>\", \"plot_bgcolor\": \"rgb(248,248,248)\", \"yaxis\": {\"zeroline\": false, \"showline\": false, \"showticklabels\": false, \"showgrid\": false}, \"xaxis\": {\"zeroline\": false, \"showline\": false, \"showticklabels\": false, \"showgrid\": false}, \"hovermode\": \"closest\", \"font\": {\"size\": 12}, \"margin\": {\"r\": 40, \"b\": 85, \"t\": 100, \"l\": 40}, \"annotations\": [{\"xref\": \"x1\", \"yref\": \"y1\", \"text\": \"article\", \"y\": 8.0, \"x\": 0.0, \"font\": {\"color\": \"rgb(250,250,250)\", \"size\": 10}, \"showarrow\": false}, {\"xref\": \"x1\", \"yref\": \"y1\", \"text\": \"1,1\", \"y\": 7.0, \"x\": -3.25, \"font\": {\"color\": \"rgb(250,250,250)\", \"size\": 10}, \"showarrow\": false}, {\"xref\": \"x1\", \"yref\": \"y1\", \"text\": \"2,1\", \"y\": 7.0, \"x\": 3.25, \"font\": {\"color\": \"rgb(250,250,250)\", \"size\": 10}, \"showarrow\": false}, {\"xref\": \"x1\", \"yref\": \"y1\", \"text\": \"3,2\", \"y\": 6.0, \"x\": -5.25, \"font\": {\"color\": \"rgb(250,250,250)\", \"size\": 10}, \"showarrow\": false}, {\"xref\": \"x1\", \"yref\": \"y1\", \"text\": \"4,2\", \"y\": 6.0, \"x\": -1.25, \"font\": {\"color\": \"rgb(250,250,250)\", \"size\": 10}, \"showarrow\": false}, {\"xref\": \"x1\", \"yref\": \"y1\", \"text\": \"5,2\", \"y\": 6.0, \"x\": 2.25, \"font\": {\"color\": \"rgb(250,250,250)\", \"size\": 10}, \"showarrow\": false}, {\"xref\": \"x1\", \"yref\": \"y1\", \"text\": \"6,2\", \"y\": 6.0, \"x\": 4.25, \"font\": {\"color\": \"rgb(250,250,250)\", \"size\": 10}, \"showarrow\": false}, {\"xref\": \"x1\", \"yref\": \"y1\", \"text\": \"7,3\", \"y\": 5.0, \"x\": -6.25, \"font\": {\"color\": \"rgb(250,250,250)\", \"size\": 10}, \"showarrow\": false}, {\"xref\": \"x1\", \"yref\": \"y1\", \"text\": \"8,3\", \"y\": 5.0, \"x\": -4.25, \"font\": {\"color\": \"rgb(250,250,250)\", \"size\": 10}, \"showarrow\": false}, {\"xref\": \"x1\", \"yref\": \"y1\", \"text\": \"9,3\", \"y\": 5.0, \"x\": -2.25, \"font\": {\"color\": \"rgb(250,250,250)\", \"size\": 10}, \"showarrow\": false}, {\"xref\": \"x1\", \"yref\": \"y1\", \"text\": \"10,3\", \"y\": 5.0, \"x\": -0.25, \"font\": {\"color\": \"rgb(250,250,250)\", \"size\": 10}, \"showarrow\": false}, {\"xref\": \"x1\", \"yref\": \"y1\", \"text\": \"11,3\", \"y\": 5.0, \"x\": 1.75, \"font\": {\"color\": \"rgb(250,250,250)\", \"size\": 10}, \"showarrow\": false}, {\"xref\": \"x1\", \"yref\": \"y1\", \"text\": \"12,3\", \"y\": 5.0, \"x\": 2.75, \"font\": {\"color\": \"rgb(250,250,250)\", \"size\": 10}, \"showarrow\": false}, {\"xref\": \"x1\", \"yref\": \"y1\", \"text\": \"13,3\", \"y\": 5.0, \"x\": 3.75, \"font\": {\"color\": \"rgb(250,250,250)\", \"size\": 10}, \"showarrow\": false}, {\"xref\": \"x1\", \"yref\": \"y1\", \"text\": \"14,3\", \"y\": 5.0, \"x\": 4.75, \"font\": {\"color\": \"rgb(250,250,250)\", \"size\": 10}, \"showarrow\": false}, {\"xref\": \"x1\", \"yref\": \"y1\", \"text\": \"15,4\", \"y\": 4.0, \"x\": -6.75, \"font\": {\"color\": \"rgb(250,250,250)\", \"size\": 10}, \"showarrow\": false}, {\"xref\": \"x1\", \"yref\": \"y1\", \"text\": \"16,4\", \"y\": 4.0, \"x\": -5.75, \"font\": {\"color\": \"rgb(250,250,250)\", \"size\": 10}, \"showarrow\": false}, {\"xref\": \"x1\", \"yref\": \"y1\", \"text\": \"17,4\", \"y\": 4.0, \"x\": -4.75, \"font\": {\"color\": \"rgb(250,250,250)\", \"size\": 10}, \"showarrow\": false}, {\"xref\": \"x1\", \"yref\": \"y1\", \"text\": \"18,4\", \"y\": 4.0, \"x\": -3.75, \"font\": {\"color\": \"rgb(250,250,250)\", \"size\": 10}, \"showarrow\": false}, {\"xref\": \"x1\", \"yref\": \"y1\", \"text\": \"19,4\", \"y\": 4.0, \"x\": -2.75, \"font\": {\"color\": \"rgb(250,250,250)\", \"size\": 10}, \"showarrow\": false}, {\"xref\": \"x1\", \"yref\": \"y1\", \"text\": \"20,4\", \"y\": 4.0, \"x\": -1.75, \"font\": {\"color\": \"rgb(250,250,250)\", \"size\": 10}, \"showarrow\": false}, {\"xref\": \"x1\", \"yref\": \"y1\", \"text\": \"21,4\", \"y\": 4.0, \"x\": -0.75, \"font\": {\"color\": \"rgb(250,250,250)\", \"size\": 10}, \"showarrow\": false}, {\"xref\": \"x1\", \"yref\": \"y1\", \"text\": \"22,4\", \"y\": 4.0, \"x\": 0.25, \"font\": {\"color\": \"rgb(250,250,250)\", \"size\": 10}, \"showarrow\": false}, {\"xref\": \"x1\", \"yref\": \"y1\", \"text\": \"23,4\", \"y\": 4.0, \"x\": 1.25, \"font\": {\"color\": \"rgb(250,250,250)\", \"size\": 10}, \"showarrow\": false}, {\"xref\": \"x1\", \"yref\": \"y1\", \"text\": \"24,4\", \"y\": 4.0, \"x\": 2.25, \"font\": {\"color\": \"rgb(250,250,250)\", \"size\": 10}, \"showarrow\": false}]}, {\"linkText\": \"Export to plot.ly\", \"showLink\": true})});</script>"
      ]
     },
     "metadata": {},
     "output_type": "display_data"
    },
    {
     "data": {
      "application/vnd.plotly.v1+json": {
       "data": [
        {
         "hoverinfo": "none",
         "line": {
          "color": "rgb(210,210,210)",
          "width": 1
         },
         "mode": "lines",
         "type": "scatter",
         "x": [
          0,
          -3.25,
          null,
          0,
          3.25,
          null,
          -3.25,
          -5.25,
          null,
          -3.25,
          -1.25,
          null,
          3.25,
          2.25,
          null,
          3.25,
          4.25,
          null,
          -5.25,
          -6.25,
          null,
          -5.25,
          -4.25,
          null,
          -1.25,
          -2.25,
          null,
          -1.25,
          -0.25,
          null,
          2.25,
          1.75,
          null,
          2.25,
          2.75,
          null,
          4.25,
          3.75,
          null,
          4.25,
          4.75,
          null,
          -6.25,
          -6.75,
          null,
          -6.25,
          -5.75,
          null,
          -4.25,
          -4.75,
          null,
          -4.25,
          -3.75,
          null,
          -2.25,
          -2.75,
          null,
          -2.25,
          -1.75,
          null,
          -0.25,
          -0.75,
          null,
          -0.25,
          0.25,
          null,
          1.75,
          1.25,
          null,
          1.75,
          2.25,
          null
         ],
         "y": [
          8,
          7,
          null,
          8,
          7,
          null,
          7,
          6,
          null,
          7,
          6,
          null,
          7,
          6,
          null,
          7,
          6,
          null,
          6,
          5,
          null,
          6,
          5,
          null,
          6,
          5,
          null,
          6,
          5,
          null,
          6,
          5,
          null,
          6,
          5,
          null,
          6,
          5,
          null,
          6,
          5,
          null,
          5,
          4,
          null,
          5,
          4,
          null,
          5,
          4,
          null,
          5,
          4,
          null,
          5,
          4,
          null,
          5,
          4,
          null,
          5,
          4,
          null,
          5,
          4,
          null,
          5,
          4,
          null,
          5,
          4,
          null
         ]
        },
        {
         "hoverinfo": "text",
         "marker": {
          "color": [
           "#989898",
           "#6175c1",
           "#EE7600",
           "#6175c1",
           "#6175c1",
           "#6175c1",
           "#EE7600",
           "#6175c1",
           "#6175c1",
           "#6175c1",
           "#6175c1",
           "#6175c1",
           "#6175c1",
           "#DB4551",
           "#6175c1",
           "#6175c1",
           "#6175c1",
           "#6175c1",
           "#6175c1",
           "#6175c1",
           "#6175c1",
           "#6175c1",
           "#6175c1",
           "#6175c1",
           "#6175c1"
          ],
          "line": {
           "color": "rgb(50,50,50)",
           "width": 1
          },
          "size": 35,
          "symbol": "dot"
         },
         "mode": "markers",
         "name": "",
         "opacity": 0.8,
         "text": [
          "article",
          "1,1",
          "2,1",
          "3,2",
          "4,2",
          "5,2",
          "6,2",
          "7,3",
          "8,3",
          "9,3",
          "10,3",
          "11,3",
          "12,3",
          "13,3",
          "14,3",
          "15,4",
          "16,4",
          "17,4",
          "18,4",
          "19,4",
          "20,4",
          "21,4",
          "22,4",
          "23,4",
          "24,4"
         ],
         "type": "scatter",
         "x": [
          0,
          -3.25,
          3.25,
          -5.25,
          -1.25,
          2.25,
          4.25,
          -6.25,
          -4.25,
          -2.25,
          -0.25,
          1.75,
          2.75,
          3.75,
          4.75,
          -6.75,
          -5.75,
          -4.75,
          -3.75,
          -2.75,
          -1.75,
          -0.75,
          0.25,
          1.25,
          2.25
         ],
         "y": [
          8,
          7,
          7,
          6,
          6,
          6,
          6,
          5,
          5,
          5,
          5,
          5,
          5,
          5,
          5,
          4,
          4,
          4,
          4,
          4,
          4,
          4,
          4,
          4,
          4
         ]
        }
       ],
       "layout": {
        "annotations": [
         {
          "font": {
           "color": "rgb(250,250,250)",
           "size": 10
          },
          "showarrow": false,
          "text": "article",
          "x": 0,
          "xref": "x1",
          "y": 8,
          "yref": "y1"
         },
         {
          "font": {
           "color": "rgb(250,250,250)",
           "size": 10
          },
          "showarrow": false,
          "text": "1,1",
          "x": -3.25,
          "xref": "x1",
          "y": 7,
          "yref": "y1"
         },
         {
          "font": {
           "color": "rgb(250,250,250)",
           "size": 10
          },
          "showarrow": false,
          "text": "2,1",
          "x": 3.25,
          "xref": "x1",
          "y": 7,
          "yref": "y1"
         },
         {
          "font": {
           "color": "rgb(250,250,250)",
           "size": 10
          },
          "showarrow": false,
          "text": "3,2",
          "x": -5.25,
          "xref": "x1",
          "y": 6,
          "yref": "y1"
         },
         {
          "font": {
           "color": "rgb(250,250,250)",
           "size": 10
          },
          "showarrow": false,
          "text": "4,2",
          "x": -1.25,
          "xref": "x1",
          "y": 6,
          "yref": "y1"
         },
         {
          "font": {
           "color": "rgb(250,250,250)",
           "size": 10
          },
          "showarrow": false,
          "text": "5,2",
          "x": 2.25,
          "xref": "x1",
          "y": 6,
          "yref": "y1"
         },
         {
          "font": {
           "color": "rgb(250,250,250)",
           "size": 10
          },
          "showarrow": false,
          "text": "6,2",
          "x": 4.25,
          "xref": "x1",
          "y": 6,
          "yref": "y1"
         },
         {
          "font": {
           "color": "rgb(250,250,250)",
           "size": 10
          },
          "showarrow": false,
          "text": "7,3",
          "x": -6.25,
          "xref": "x1",
          "y": 5,
          "yref": "y1"
         },
         {
          "font": {
           "color": "rgb(250,250,250)",
           "size": 10
          },
          "showarrow": false,
          "text": "8,3",
          "x": -4.25,
          "xref": "x1",
          "y": 5,
          "yref": "y1"
         },
         {
          "font": {
           "color": "rgb(250,250,250)",
           "size": 10
          },
          "showarrow": false,
          "text": "9,3",
          "x": -2.25,
          "xref": "x1",
          "y": 5,
          "yref": "y1"
         },
         {
          "font": {
           "color": "rgb(250,250,250)",
           "size": 10
          },
          "showarrow": false,
          "text": "10,3",
          "x": -0.25,
          "xref": "x1",
          "y": 5,
          "yref": "y1"
         },
         {
          "font": {
           "color": "rgb(250,250,250)",
           "size": 10
          },
          "showarrow": false,
          "text": "11,3",
          "x": 1.75,
          "xref": "x1",
          "y": 5,
          "yref": "y1"
         },
         {
          "font": {
           "color": "rgb(250,250,250)",
           "size": 10
          },
          "showarrow": false,
          "text": "12,3",
          "x": 2.75,
          "xref": "x1",
          "y": 5,
          "yref": "y1"
         },
         {
          "font": {
           "color": "rgb(250,250,250)",
           "size": 10
          },
          "showarrow": false,
          "text": "13,3",
          "x": 3.75,
          "xref": "x1",
          "y": 5,
          "yref": "y1"
         },
         {
          "font": {
           "color": "rgb(250,250,250)",
           "size": 10
          },
          "showarrow": false,
          "text": "14,3",
          "x": 4.75,
          "xref": "x1",
          "y": 5,
          "yref": "y1"
         },
         {
          "font": {
           "color": "rgb(250,250,250)",
           "size": 10
          },
          "showarrow": false,
          "text": "15,4",
          "x": -6.75,
          "xref": "x1",
          "y": 4,
          "yref": "y1"
         },
         {
          "font": {
           "color": "rgb(250,250,250)",
           "size": 10
          },
          "showarrow": false,
          "text": "16,4",
          "x": -5.75,
          "xref": "x1",
          "y": 4,
          "yref": "y1"
         },
         {
          "font": {
           "color": "rgb(250,250,250)",
           "size": 10
          },
          "showarrow": false,
          "text": "17,4",
          "x": -4.75,
          "xref": "x1",
          "y": 4,
          "yref": "y1"
         },
         {
          "font": {
           "color": "rgb(250,250,250)",
           "size": 10
          },
          "showarrow": false,
          "text": "18,4",
          "x": -3.75,
          "xref": "x1",
          "y": 4,
          "yref": "y1"
         },
         {
          "font": {
           "color": "rgb(250,250,250)",
           "size": 10
          },
          "showarrow": false,
          "text": "19,4",
          "x": -2.75,
          "xref": "x1",
          "y": 4,
          "yref": "y1"
         },
         {
          "font": {
           "color": "rgb(250,250,250)",
           "size": 10
          },
          "showarrow": false,
          "text": "20,4",
          "x": -1.75,
          "xref": "x1",
          "y": 4,
          "yref": "y1"
         },
         {
          "font": {
           "color": "rgb(250,250,250)",
           "size": 10
          },
          "showarrow": false,
          "text": "21,4",
          "x": -0.75,
          "xref": "x1",
          "y": 4,
          "yref": "y1"
         },
         {
          "font": {
           "color": "rgb(250,250,250)",
           "size": 10
          },
          "showarrow": false,
          "text": "22,4",
          "x": 0.25,
          "xref": "x1",
          "y": 4,
          "yref": "y1"
         },
         {
          "font": {
           "color": "rgb(250,250,250)",
           "size": 10
          },
          "showarrow": false,
          "text": "23,4",
          "x": 1.25,
          "xref": "x1",
          "y": 4,
          "yref": "y1"
         },
         {
          "font": {
           "color": "rgb(250,250,250)",
           "size": 10
          },
          "showarrow": false,
          "text": "24,4",
          "x": 2.25,
          "xref": "x1",
          "y": 4,
          "yref": "y1"
         }
        ],
        "font": {
         "size": 12
        },
        "hovermode": "closest",
        "margin": {
         "b": 85,
         "l": 40,
         "r": 40,
         "t": 100
        },
        "plot_bgcolor": "rgb(248,248,248)",
        "showlegend": false,
        "title": "<thr> <com> 6 </com> <com> 2 </com> <com> 13 </com> </thr>",
        "xaxis": {
         "showgrid": false,
         "showline": false,
         "showticklabels": false,
         "zeroline": false
        },
        "yaxis": {
         "showgrid": false,
         "showline": false,
         "showticklabels": false,
         "zeroline": false
        }
       }
      },
      "text/html": [
       "<div id=\"d2afc8e9-fed4-4767-8bef-b108bcc46dc5\" style=\"height: 525px; width: 100%;\" class=\"plotly-graph-div\"></div><script type=\"text/javascript\">require([\"plotly\"], function(Plotly) { window.PLOTLYENV=window.PLOTLYENV || {};window.PLOTLYENV.BASE_URL=\"https://plot.ly\";Plotly.newPlot(\"d2afc8e9-fed4-4767-8bef-b108bcc46dc5\", [{\"mode\": \"lines\", \"hoverinfo\": \"none\", \"y\": [8.0, 7.0, null, 8.0, 7.0, null, 7.0, 6.0, null, 7.0, 6.0, null, 7.0, 6.0, null, 7.0, 6.0, null, 6.0, 5.0, null, 6.0, 5.0, null, 6.0, 5.0, null, 6.0, 5.0, null, 6.0, 5.0, null, 6.0, 5.0, null, 6.0, 5.0, null, 6.0, 5.0, null, 5.0, 4.0, null, 5.0, 4.0, null, 5.0, 4.0, null, 5.0, 4.0, null, 5.0, 4.0, null, 5.0, 4.0, null, 5.0, 4.0, null, 5.0, 4.0, null, 5.0, 4.0, null, 5.0, 4.0, null], \"x\": [0.0, -3.25, null, 0.0, 3.25, null, -3.25, -5.25, null, -3.25, -1.25, null, 3.25, 2.25, null, 3.25, 4.25, null, -5.25, -6.25, null, -5.25, -4.25, null, -1.25, -2.25, null, -1.25, -0.25, null, 2.25, 1.75, null, 2.25, 2.75, null, 4.25, 3.75, null, 4.25, 4.75, null, -6.25, -6.75, null, -6.25, -5.75, null, -4.25, -4.75, null, -4.25, -3.75, null, -2.25, -2.75, null, -2.25, -1.75, null, -0.25, -0.75, null, -0.25, 0.25, null, 1.75, 1.25, null, 1.75, 2.25, null], \"line\": {\"color\": \"rgb(210,210,210)\", \"width\": 1}, \"type\": \"scatter\"}, {\"opacity\": 0.8, \"name\": \"\", \"text\": [\"article\", \"1,1\", \"2,1\", \"3,2\", \"4,2\", \"5,2\", \"6,2\", \"7,3\", \"8,3\", \"9,3\", \"10,3\", \"11,3\", \"12,3\", \"13,3\", \"14,3\", \"15,4\", \"16,4\", \"17,4\", \"18,4\", \"19,4\", \"20,4\", \"21,4\", \"22,4\", \"23,4\", \"24,4\"], \"marker\": {\"color\": [\"#989898\", \"#6175c1\", \"#EE7600\", \"#6175c1\", \"#6175c1\", \"#6175c1\", \"#EE7600\", \"#6175c1\", \"#6175c1\", \"#6175c1\", \"#6175c1\", \"#6175c1\", \"#6175c1\", \"#DB4551\", \"#6175c1\", \"#6175c1\", \"#6175c1\", \"#6175c1\", \"#6175c1\", \"#6175c1\", \"#6175c1\", \"#6175c1\", \"#6175c1\", \"#6175c1\", \"#6175c1\"], \"line\": {\"color\": \"rgb(50,50,50)\", \"width\": 1}, \"symbol\": \"dot\", \"size\": 35}, \"mode\": \"markers\", \"hoverinfo\": \"text\", \"y\": [8.0, 7.0, 7.0, 6.0, 6.0, 6.0, 6.0, 5.0, 5.0, 5.0, 5.0, 5.0, 5.0, 5.0, 5.0, 4.0, 4.0, 4.0, 4.0, 4.0, 4.0, 4.0, 4.0, 4.0, 4.0], \"x\": [0.0, -3.25, 3.25, -5.25, -1.25, 2.25, 4.25, -6.25, -4.25, -2.25, -0.25, 1.75, 2.75, 3.75, 4.75, -6.75, -5.75, -4.75, -3.75, -2.75, -1.75, -0.75, 0.25, 1.25, 2.25], \"type\": \"scatter\"}], {\"showlegend\": false, \"title\": \"<thr> <com> 6 </com> <com> 2 </com> <com> 13 </com> </thr>\", \"plot_bgcolor\": \"rgb(248,248,248)\", \"yaxis\": {\"zeroline\": false, \"showline\": false, \"showticklabels\": false, \"showgrid\": false}, \"xaxis\": {\"zeroline\": false, \"showline\": false, \"showticklabels\": false, \"showgrid\": false}, \"hovermode\": \"closest\", \"font\": {\"size\": 12}, \"margin\": {\"r\": 40, \"b\": 85, \"t\": 100, \"l\": 40}, \"annotations\": [{\"xref\": \"x1\", \"yref\": \"y1\", \"text\": \"article\", \"y\": 8.0, \"x\": 0.0, \"font\": {\"color\": \"rgb(250,250,250)\", \"size\": 10}, \"showarrow\": false}, {\"xref\": \"x1\", \"yref\": \"y1\", \"text\": \"1,1\", \"y\": 7.0, \"x\": -3.25, \"font\": {\"color\": \"rgb(250,250,250)\", \"size\": 10}, \"showarrow\": false}, {\"xref\": \"x1\", \"yref\": \"y1\", \"text\": \"2,1\", \"y\": 7.0, \"x\": 3.25, \"font\": {\"color\": \"rgb(250,250,250)\", \"size\": 10}, \"showarrow\": false}, {\"xref\": \"x1\", \"yref\": \"y1\", \"text\": \"3,2\", \"y\": 6.0, \"x\": -5.25, \"font\": {\"color\": \"rgb(250,250,250)\", \"size\": 10}, \"showarrow\": false}, {\"xref\": \"x1\", \"yref\": \"y1\", \"text\": \"4,2\", \"y\": 6.0, \"x\": -1.25, \"font\": {\"color\": \"rgb(250,250,250)\", \"size\": 10}, \"showarrow\": false}, {\"xref\": \"x1\", \"yref\": \"y1\", \"text\": \"5,2\", \"y\": 6.0, \"x\": 2.25, \"font\": {\"color\": \"rgb(250,250,250)\", \"size\": 10}, \"showarrow\": false}, {\"xref\": \"x1\", \"yref\": \"y1\", \"text\": \"6,2\", \"y\": 6.0, \"x\": 4.25, \"font\": {\"color\": \"rgb(250,250,250)\", \"size\": 10}, \"showarrow\": false}, {\"xref\": \"x1\", \"yref\": \"y1\", \"text\": \"7,3\", \"y\": 5.0, \"x\": -6.25, \"font\": {\"color\": \"rgb(250,250,250)\", \"size\": 10}, \"showarrow\": false}, {\"xref\": \"x1\", \"yref\": \"y1\", \"text\": \"8,3\", \"y\": 5.0, \"x\": -4.25, \"font\": {\"color\": \"rgb(250,250,250)\", \"size\": 10}, \"showarrow\": false}, {\"xref\": \"x1\", \"yref\": \"y1\", \"text\": \"9,3\", \"y\": 5.0, \"x\": -2.25, \"font\": {\"color\": \"rgb(250,250,250)\", \"size\": 10}, \"showarrow\": false}, {\"xref\": \"x1\", \"yref\": \"y1\", \"text\": \"10,3\", \"y\": 5.0, \"x\": -0.25, \"font\": {\"color\": \"rgb(250,250,250)\", \"size\": 10}, \"showarrow\": false}, {\"xref\": \"x1\", \"yref\": \"y1\", \"text\": \"11,3\", \"y\": 5.0, \"x\": 1.75, \"font\": {\"color\": \"rgb(250,250,250)\", \"size\": 10}, \"showarrow\": false}, {\"xref\": \"x1\", \"yref\": \"y1\", \"text\": \"12,3\", \"y\": 5.0, \"x\": 2.75, \"font\": {\"color\": \"rgb(250,250,250)\", \"size\": 10}, \"showarrow\": false}, {\"xref\": \"x1\", \"yref\": \"y1\", \"text\": \"13,3\", \"y\": 5.0, \"x\": 3.75, \"font\": {\"color\": \"rgb(250,250,250)\", \"size\": 10}, \"showarrow\": false}, {\"xref\": \"x1\", \"yref\": \"y1\", \"text\": \"14,3\", \"y\": 5.0, \"x\": 4.75, \"font\": {\"color\": \"rgb(250,250,250)\", \"size\": 10}, \"showarrow\": false}, {\"xref\": \"x1\", \"yref\": \"y1\", \"text\": \"15,4\", \"y\": 4.0, \"x\": -6.75, \"font\": {\"color\": \"rgb(250,250,250)\", \"size\": 10}, \"showarrow\": false}, {\"xref\": \"x1\", \"yref\": \"y1\", \"text\": \"16,4\", \"y\": 4.0, \"x\": -5.75, \"font\": {\"color\": \"rgb(250,250,250)\", \"size\": 10}, \"showarrow\": false}, {\"xref\": \"x1\", \"yref\": \"y1\", \"text\": \"17,4\", \"y\": 4.0, \"x\": -4.75, \"font\": {\"color\": \"rgb(250,250,250)\", \"size\": 10}, \"showarrow\": false}, {\"xref\": \"x1\", \"yref\": \"y1\", \"text\": \"18,4\", \"y\": 4.0, \"x\": -3.75, \"font\": {\"color\": \"rgb(250,250,250)\", \"size\": 10}, \"showarrow\": false}, {\"xref\": \"x1\", \"yref\": \"y1\", \"text\": \"19,4\", \"y\": 4.0, \"x\": -2.75, \"font\": {\"color\": \"rgb(250,250,250)\", \"size\": 10}, \"showarrow\": false}, {\"xref\": \"x1\", \"yref\": \"y1\", \"text\": \"20,4\", \"y\": 4.0, \"x\": -1.75, \"font\": {\"color\": \"rgb(250,250,250)\", \"size\": 10}, \"showarrow\": false}, {\"xref\": \"x1\", \"yref\": \"y1\", \"text\": \"21,4\", \"y\": 4.0, \"x\": -0.75, \"font\": {\"color\": \"rgb(250,250,250)\", \"size\": 10}, \"showarrow\": false}, {\"xref\": \"x1\", \"yref\": \"y1\", \"text\": \"22,4\", \"y\": 4.0, \"x\": 0.25, \"font\": {\"color\": \"rgb(250,250,250)\", \"size\": 10}, \"showarrow\": false}, {\"xref\": \"x1\", \"yref\": \"y1\", \"text\": \"23,4\", \"y\": 4.0, \"x\": 1.25, \"font\": {\"color\": \"rgb(250,250,250)\", \"size\": 10}, \"showarrow\": false}, {\"xref\": \"x1\", \"yref\": \"y1\", \"text\": \"24,4\", \"y\": 4.0, \"x\": 2.25, \"font\": {\"color\": \"rgb(250,250,250)\", \"size\": 10}, \"showarrow\": false}]}, {\"linkText\": \"Export to plot.ly\", \"showLink\": true})});</script>"
      ],
      "text/vnd.plotly.v1+html": [
       "<div id=\"d2afc8e9-fed4-4767-8bef-b108bcc46dc5\" style=\"height: 525px; width: 100%;\" class=\"plotly-graph-div\"></div><script type=\"text/javascript\">require([\"plotly\"], function(Plotly) { window.PLOTLYENV=window.PLOTLYENV || {};window.PLOTLYENV.BASE_URL=\"https://plot.ly\";Plotly.newPlot(\"d2afc8e9-fed4-4767-8bef-b108bcc46dc5\", [{\"mode\": \"lines\", \"hoverinfo\": \"none\", \"y\": [8.0, 7.0, null, 8.0, 7.0, null, 7.0, 6.0, null, 7.0, 6.0, null, 7.0, 6.0, null, 7.0, 6.0, null, 6.0, 5.0, null, 6.0, 5.0, null, 6.0, 5.0, null, 6.0, 5.0, null, 6.0, 5.0, null, 6.0, 5.0, null, 6.0, 5.0, null, 6.0, 5.0, null, 5.0, 4.0, null, 5.0, 4.0, null, 5.0, 4.0, null, 5.0, 4.0, null, 5.0, 4.0, null, 5.0, 4.0, null, 5.0, 4.0, null, 5.0, 4.0, null, 5.0, 4.0, null, 5.0, 4.0, null], \"x\": [0.0, -3.25, null, 0.0, 3.25, null, -3.25, -5.25, null, -3.25, -1.25, null, 3.25, 2.25, null, 3.25, 4.25, null, -5.25, -6.25, null, -5.25, -4.25, null, -1.25, -2.25, null, -1.25, -0.25, null, 2.25, 1.75, null, 2.25, 2.75, null, 4.25, 3.75, null, 4.25, 4.75, null, -6.25, -6.75, null, -6.25, -5.75, null, -4.25, -4.75, null, -4.25, -3.75, null, -2.25, -2.75, null, -2.25, -1.75, null, -0.25, -0.75, null, -0.25, 0.25, null, 1.75, 1.25, null, 1.75, 2.25, null], \"line\": {\"color\": \"rgb(210,210,210)\", \"width\": 1}, \"type\": \"scatter\"}, {\"opacity\": 0.8, \"name\": \"\", \"text\": [\"article\", \"1,1\", \"2,1\", \"3,2\", \"4,2\", \"5,2\", \"6,2\", \"7,3\", \"8,3\", \"9,3\", \"10,3\", \"11,3\", \"12,3\", \"13,3\", \"14,3\", \"15,4\", \"16,4\", \"17,4\", \"18,4\", \"19,4\", \"20,4\", \"21,4\", \"22,4\", \"23,4\", \"24,4\"], \"marker\": {\"color\": [\"#989898\", \"#6175c1\", \"#EE7600\", \"#6175c1\", \"#6175c1\", \"#6175c1\", \"#EE7600\", \"#6175c1\", \"#6175c1\", \"#6175c1\", \"#6175c1\", \"#6175c1\", \"#6175c1\", \"#DB4551\", \"#6175c1\", \"#6175c1\", \"#6175c1\", \"#6175c1\", \"#6175c1\", \"#6175c1\", \"#6175c1\", \"#6175c1\", \"#6175c1\", \"#6175c1\", \"#6175c1\"], \"line\": {\"color\": \"rgb(50,50,50)\", \"width\": 1}, \"symbol\": \"dot\", \"size\": 35}, \"mode\": \"markers\", \"hoverinfo\": \"text\", \"y\": [8.0, 7.0, 7.0, 6.0, 6.0, 6.0, 6.0, 5.0, 5.0, 5.0, 5.0, 5.0, 5.0, 5.0, 5.0, 4.0, 4.0, 4.0, 4.0, 4.0, 4.0, 4.0, 4.0, 4.0, 4.0], \"x\": [0.0, -3.25, 3.25, -5.25, -1.25, 2.25, 4.25, -6.25, -4.25, -2.25, -0.25, 1.75, 2.75, 3.75, 4.75, -6.75, -5.75, -4.75, -3.75, -2.75, -1.75, -0.75, 0.25, 1.25, 2.25], \"type\": \"scatter\"}], {\"showlegend\": false, \"title\": \"<thr> <com> 6 </com> <com> 2 </com> <com> 13 </com> </thr>\", \"plot_bgcolor\": \"rgb(248,248,248)\", \"yaxis\": {\"zeroline\": false, \"showline\": false, \"showticklabels\": false, \"showgrid\": false}, \"xaxis\": {\"zeroline\": false, \"showline\": false, \"showticklabels\": false, \"showgrid\": false}, \"hovermode\": \"closest\", \"font\": {\"size\": 12}, \"margin\": {\"r\": 40, \"b\": 85, \"t\": 100, \"l\": 40}, \"annotations\": [{\"xref\": \"x1\", \"yref\": \"y1\", \"text\": \"article\", \"y\": 8.0, \"x\": 0.0, \"font\": {\"color\": \"rgb(250,250,250)\", \"size\": 10}, \"showarrow\": false}, {\"xref\": \"x1\", \"yref\": \"y1\", \"text\": \"1,1\", \"y\": 7.0, \"x\": -3.25, \"font\": {\"color\": \"rgb(250,250,250)\", \"size\": 10}, \"showarrow\": false}, {\"xref\": \"x1\", \"yref\": \"y1\", \"text\": \"2,1\", \"y\": 7.0, \"x\": 3.25, \"font\": {\"color\": \"rgb(250,250,250)\", \"size\": 10}, \"showarrow\": false}, {\"xref\": \"x1\", \"yref\": \"y1\", \"text\": \"3,2\", \"y\": 6.0, \"x\": -5.25, \"font\": {\"color\": \"rgb(250,250,250)\", \"size\": 10}, \"showarrow\": false}, {\"xref\": \"x1\", \"yref\": \"y1\", \"text\": \"4,2\", \"y\": 6.0, \"x\": -1.25, \"font\": {\"color\": \"rgb(250,250,250)\", \"size\": 10}, \"showarrow\": false}, {\"xref\": \"x1\", \"yref\": \"y1\", \"text\": \"5,2\", \"y\": 6.0, \"x\": 2.25, \"font\": {\"color\": \"rgb(250,250,250)\", \"size\": 10}, \"showarrow\": false}, {\"xref\": \"x1\", \"yref\": \"y1\", \"text\": \"6,2\", \"y\": 6.0, \"x\": 4.25, \"font\": {\"color\": \"rgb(250,250,250)\", \"size\": 10}, \"showarrow\": false}, {\"xref\": \"x1\", \"yref\": \"y1\", \"text\": \"7,3\", \"y\": 5.0, \"x\": -6.25, \"font\": {\"color\": \"rgb(250,250,250)\", \"size\": 10}, \"showarrow\": false}, {\"xref\": \"x1\", \"yref\": \"y1\", \"text\": \"8,3\", \"y\": 5.0, \"x\": -4.25, \"font\": {\"color\": \"rgb(250,250,250)\", \"size\": 10}, \"showarrow\": false}, {\"xref\": \"x1\", \"yref\": \"y1\", \"text\": \"9,3\", \"y\": 5.0, \"x\": -2.25, \"font\": {\"color\": \"rgb(250,250,250)\", \"size\": 10}, \"showarrow\": false}, {\"xref\": \"x1\", \"yref\": \"y1\", \"text\": \"10,3\", \"y\": 5.0, \"x\": -0.25, \"font\": {\"color\": \"rgb(250,250,250)\", \"size\": 10}, \"showarrow\": false}, {\"xref\": \"x1\", \"yref\": \"y1\", \"text\": \"11,3\", \"y\": 5.0, \"x\": 1.75, \"font\": {\"color\": \"rgb(250,250,250)\", \"size\": 10}, \"showarrow\": false}, {\"xref\": \"x1\", \"yref\": \"y1\", \"text\": \"12,3\", \"y\": 5.0, \"x\": 2.75, \"font\": {\"color\": \"rgb(250,250,250)\", \"size\": 10}, \"showarrow\": false}, {\"xref\": \"x1\", \"yref\": \"y1\", \"text\": \"13,3\", \"y\": 5.0, \"x\": 3.75, \"font\": {\"color\": \"rgb(250,250,250)\", \"size\": 10}, \"showarrow\": false}, {\"xref\": \"x1\", \"yref\": \"y1\", \"text\": \"14,3\", \"y\": 5.0, \"x\": 4.75, \"font\": {\"color\": \"rgb(250,250,250)\", \"size\": 10}, \"showarrow\": false}, {\"xref\": \"x1\", \"yref\": \"y1\", \"text\": \"15,4\", \"y\": 4.0, \"x\": -6.75, \"font\": {\"color\": \"rgb(250,250,250)\", \"size\": 10}, \"showarrow\": false}, {\"xref\": \"x1\", \"yref\": \"y1\", \"text\": \"16,4\", \"y\": 4.0, \"x\": -5.75, \"font\": {\"color\": \"rgb(250,250,250)\", \"size\": 10}, \"showarrow\": false}, {\"xref\": \"x1\", \"yref\": \"y1\", \"text\": \"17,4\", \"y\": 4.0, \"x\": -4.75, \"font\": {\"color\": \"rgb(250,250,250)\", \"size\": 10}, \"showarrow\": false}, {\"xref\": \"x1\", \"yref\": \"y1\", \"text\": \"18,4\", \"y\": 4.0, \"x\": -3.75, \"font\": {\"color\": \"rgb(250,250,250)\", \"size\": 10}, \"showarrow\": false}, {\"xref\": \"x1\", \"yref\": \"y1\", \"text\": \"19,4\", \"y\": 4.0, \"x\": -2.75, \"font\": {\"color\": \"rgb(250,250,250)\", \"size\": 10}, \"showarrow\": false}, {\"xref\": \"x1\", \"yref\": \"y1\", \"text\": \"20,4\", \"y\": 4.0, \"x\": -1.75, \"font\": {\"color\": \"rgb(250,250,250)\", \"size\": 10}, \"showarrow\": false}, {\"xref\": \"x1\", \"yref\": \"y1\", \"text\": \"21,4\", \"y\": 4.0, \"x\": -0.75, \"font\": {\"color\": \"rgb(250,250,250)\", \"size\": 10}, \"showarrow\": false}, {\"xref\": \"x1\", \"yref\": \"y1\", \"text\": \"22,4\", \"y\": 4.0, \"x\": 0.25, \"font\": {\"color\": \"rgb(250,250,250)\", \"size\": 10}, \"showarrow\": false}, {\"xref\": \"x1\", \"yref\": \"y1\", \"text\": \"23,4\", \"y\": 4.0, \"x\": 1.25, \"font\": {\"color\": \"rgb(250,250,250)\", \"size\": 10}, \"showarrow\": false}, {\"xref\": \"x1\", \"yref\": \"y1\", \"text\": \"24,4\", \"y\": 4.0, \"x\": 2.25, \"font\": {\"color\": \"rgb(250,250,250)\", \"size\": 10}, \"showarrow\": false}]}, {\"linkText\": \"Export to plot.ly\", \"showLink\": true})});</script>"
      ]
     },
     "metadata": {},
     "output_type": "display_data"
    },
    {
     "data": {
      "application/vnd.plotly.v1+json": {
       "data": [
        {
         "hoverinfo": "none",
         "line": {
          "color": "rgb(210,210,210)",
          "width": 1
         },
         "mode": "lines",
         "type": "scatter",
         "x": [
          0,
          -3.25,
          null,
          0,
          3.25,
          null,
          -3.25,
          -5.25,
          null,
          -3.25,
          -1.25,
          null,
          3.25,
          2.25,
          null,
          3.25,
          4.25,
          null,
          -5.25,
          -6.25,
          null,
          -5.25,
          -4.25,
          null,
          -1.25,
          -2.25,
          null,
          -1.25,
          -0.25,
          null,
          2.25,
          1.75,
          null,
          2.25,
          2.75,
          null,
          4.25,
          3.75,
          null,
          4.25,
          4.75,
          null,
          -6.25,
          -6.75,
          null,
          -6.25,
          -5.75,
          null,
          -4.25,
          -4.75,
          null,
          -4.25,
          -3.75,
          null,
          -2.25,
          -2.75,
          null,
          -2.25,
          -1.75,
          null,
          -0.25,
          -0.75,
          null,
          -0.25,
          0.25,
          null,
          1.75,
          1.25,
          null,
          1.75,
          2.25,
          null
         ],
         "y": [
          8,
          7,
          null,
          8,
          7,
          null,
          7,
          6,
          null,
          7,
          6,
          null,
          7,
          6,
          null,
          7,
          6,
          null,
          6,
          5,
          null,
          6,
          5,
          null,
          6,
          5,
          null,
          6,
          5,
          null,
          6,
          5,
          null,
          6,
          5,
          null,
          6,
          5,
          null,
          6,
          5,
          null,
          5,
          4,
          null,
          5,
          4,
          null,
          5,
          4,
          null,
          5,
          4,
          null,
          5,
          4,
          null,
          5,
          4,
          null,
          5,
          4,
          null,
          5,
          4,
          null,
          5,
          4,
          null,
          5,
          4,
          null
         ]
        },
        {
         "hoverinfo": "text",
         "marker": {
          "color": [
           "#989898",
           "#6175c1",
           "#EE7600",
           "#6175c1",
           "#6175c1",
           "#6175c1",
           "#EE7600",
           "#6175c1",
           "#6175c1",
           "#6175c1",
           "#6175c1",
           "#6175c1",
           "#6175c1",
           "#6175c1",
           "#DB4551",
           "#6175c1",
           "#6175c1",
           "#6175c1",
           "#6175c1",
           "#6175c1",
           "#6175c1",
           "#6175c1",
           "#6175c1",
           "#6175c1",
           "#6175c1"
          ],
          "line": {
           "color": "rgb(50,50,50)",
           "width": 1
          },
          "size": 35,
          "symbol": "dot"
         },
         "mode": "markers",
         "name": "",
         "opacity": 0.8,
         "text": [
          "article",
          "1,1",
          "2,1",
          "3,2",
          "4,2",
          "5,2",
          "6,2",
          "7,3",
          "8,3",
          "9,3",
          "10,3",
          "11,3",
          "12,3",
          "13,3",
          "14,3",
          "15,4",
          "16,4",
          "17,4",
          "18,4",
          "19,4",
          "20,4",
          "21,4",
          "22,4",
          "23,4",
          "24,4"
         ],
         "type": "scatter",
         "x": [
          0,
          -3.25,
          3.25,
          -5.25,
          -1.25,
          2.25,
          4.25,
          -6.25,
          -4.25,
          -2.25,
          -0.25,
          1.75,
          2.75,
          3.75,
          4.75,
          -6.75,
          -5.75,
          -4.75,
          -3.75,
          -2.75,
          -1.75,
          -0.75,
          0.25,
          1.25,
          2.25
         ],
         "y": [
          8,
          7,
          7,
          6,
          6,
          6,
          6,
          5,
          5,
          5,
          5,
          5,
          5,
          5,
          5,
          4,
          4,
          4,
          4,
          4,
          4,
          4,
          4,
          4,
          4
         ]
        }
       ],
       "layout": {
        "annotations": [
         {
          "font": {
           "color": "rgb(250,250,250)",
           "size": 10
          },
          "showarrow": false,
          "text": "article",
          "x": 0,
          "xref": "x1",
          "y": 8,
          "yref": "y1"
         },
         {
          "font": {
           "color": "rgb(250,250,250)",
           "size": 10
          },
          "showarrow": false,
          "text": "1,1",
          "x": -3.25,
          "xref": "x1",
          "y": 7,
          "yref": "y1"
         },
         {
          "font": {
           "color": "rgb(250,250,250)",
           "size": 10
          },
          "showarrow": false,
          "text": "2,1",
          "x": 3.25,
          "xref": "x1",
          "y": 7,
          "yref": "y1"
         },
         {
          "font": {
           "color": "rgb(250,250,250)",
           "size": 10
          },
          "showarrow": false,
          "text": "3,2",
          "x": -5.25,
          "xref": "x1",
          "y": 6,
          "yref": "y1"
         },
         {
          "font": {
           "color": "rgb(250,250,250)",
           "size": 10
          },
          "showarrow": false,
          "text": "4,2",
          "x": -1.25,
          "xref": "x1",
          "y": 6,
          "yref": "y1"
         },
         {
          "font": {
           "color": "rgb(250,250,250)",
           "size": 10
          },
          "showarrow": false,
          "text": "5,2",
          "x": 2.25,
          "xref": "x1",
          "y": 6,
          "yref": "y1"
         },
         {
          "font": {
           "color": "rgb(250,250,250)",
           "size": 10
          },
          "showarrow": false,
          "text": "6,2",
          "x": 4.25,
          "xref": "x1",
          "y": 6,
          "yref": "y1"
         },
         {
          "font": {
           "color": "rgb(250,250,250)",
           "size": 10
          },
          "showarrow": false,
          "text": "7,3",
          "x": -6.25,
          "xref": "x1",
          "y": 5,
          "yref": "y1"
         },
         {
          "font": {
           "color": "rgb(250,250,250)",
           "size": 10
          },
          "showarrow": false,
          "text": "8,3",
          "x": -4.25,
          "xref": "x1",
          "y": 5,
          "yref": "y1"
         },
         {
          "font": {
           "color": "rgb(250,250,250)",
           "size": 10
          },
          "showarrow": false,
          "text": "9,3",
          "x": -2.25,
          "xref": "x1",
          "y": 5,
          "yref": "y1"
         },
         {
          "font": {
           "color": "rgb(250,250,250)",
           "size": 10
          },
          "showarrow": false,
          "text": "10,3",
          "x": -0.25,
          "xref": "x1",
          "y": 5,
          "yref": "y1"
         },
         {
          "font": {
           "color": "rgb(250,250,250)",
           "size": 10
          },
          "showarrow": false,
          "text": "11,3",
          "x": 1.75,
          "xref": "x1",
          "y": 5,
          "yref": "y1"
         },
         {
          "font": {
           "color": "rgb(250,250,250)",
           "size": 10
          },
          "showarrow": false,
          "text": "12,3",
          "x": 2.75,
          "xref": "x1",
          "y": 5,
          "yref": "y1"
         },
         {
          "font": {
           "color": "rgb(250,250,250)",
           "size": 10
          },
          "showarrow": false,
          "text": "13,3",
          "x": 3.75,
          "xref": "x1",
          "y": 5,
          "yref": "y1"
         },
         {
          "font": {
           "color": "rgb(250,250,250)",
           "size": 10
          },
          "showarrow": false,
          "text": "14,3",
          "x": 4.75,
          "xref": "x1",
          "y": 5,
          "yref": "y1"
         },
         {
          "font": {
           "color": "rgb(250,250,250)",
           "size": 10
          },
          "showarrow": false,
          "text": "15,4",
          "x": -6.75,
          "xref": "x1",
          "y": 4,
          "yref": "y1"
         },
         {
          "font": {
           "color": "rgb(250,250,250)",
           "size": 10
          },
          "showarrow": false,
          "text": "16,4",
          "x": -5.75,
          "xref": "x1",
          "y": 4,
          "yref": "y1"
         },
         {
          "font": {
           "color": "rgb(250,250,250)",
           "size": 10
          },
          "showarrow": false,
          "text": "17,4",
          "x": -4.75,
          "xref": "x1",
          "y": 4,
          "yref": "y1"
         },
         {
          "font": {
           "color": "rgb(250,250,250)",
           "size": 10
          },
          "showarrow": false,
          "text": "18,4",
          "x": -3.75,
          "xref": "x1",
          "y": 4,
          "yref": "y1"
         },
         {
          "font": {
           "color": "rgb(250,250,250)",
           "size": 10
          },
          "showarrow": false,
          "text": "19,4",
          "x": -2.75,
          "xref": "x1",
          "y": 4,
          "yref": "y1"
         },
         {
          "font": {
           "color": "rgb(250,250,250)",
           "size": 10
          },
          "showarrow": false,
          "text": "20,4",
          "x": -1.75,
          "xref": "x1",
          "y": 4,
          "yref": "y1"
         },
         {
          "font": {
           "color": "rgb(250,250,250)",
           "size": 10
          },
          "showarrow": false,
          "text": "21,4",
          "x": -0.75,
          "xref": "x1",
          "y": 4,
          "yref": "y1"
         },
         {
          "font": {
           "color": "rgb(250,250,250)",
           "size": 10
          },
          "showarrow": false,
          "text": "22,4",
          "x": 0.25,
          "xref": "x1",
          "y": 4,
          "yref": "y1"
         },
         {
          "font": {
           "color": "rgb(250,250,250)",
           "size": 10
          },
          "showarrow": false,
          "text": "23,4",
          "x": 1.25,
          "xref": "x1",
          "y": 4,
          "yref": "y1"
         },
         {
          "font": {
           "color": "rgb(250,250,250)",
           "size": 10
          },
          "showarrow": false,
          "text": "24,4",
          "x": 2.25,
          "xref": "x1",
          "y": 4,
          "yref": "y1"
         }
        ],
        "font": {
         "size": 12
        },
        "hovermode": "closest",
        "margin": {
         "b": 85,
         "l": 40,
         "r": 40,
         "t": 100
        },
        "plot_bgcolor": "rgb(248,248,248)",
        "showlegend": false,
        "title": "<thr> <com> 6 </com> <com> 2 </com> <com> 14 </com> </thr>",
        "xaxis": {
         "showgrid": false,
         "showline": false,
         "showticklabels": false,
         "zeroline": false
        },
        "yaxis": {
         "showgrid": false,
         "showline": false,
         "showticklabels": false,
         "zeroline": false
        }
       }
      },
      "text/html": [
       "<div id=\"ca182dc5-c208-4dd0-afd9-d28f7f08c42a\" style=\"height: 525px; width: 100%;\" class=\"plotly-graph-div\"></div><script type=\"text/javascript\">require([\"plotly\"], function(Plotly) { window.PLOTLYENV=window.PLOTLYENV || {};window.PLOTLYENV.BASE_URL=\"https://plot.ly\";Plotly.newPlot(\"ca182dc5-c208-4dd0-afd9-d28f7f08c42a\", [{\"mode\": \"lines\", \"hoverinfo\": \"none\", \"y\": [8.0, 7.0, null, 8.0, 7.0, null, 7.0, 6.0, null, 7.0, 6.0, null, 7.0, 6.0, null, 7.0, 6.0, null, 6.0, 5.0, null, 6.0, 5.0, null, 6.0, 5.0, null, 6.0, 5.0, null, 6.0, 5.0, null, 6.0, 5.0, null, 6.0, 5.0, null, 6.0, 5.0, null, 5.0, 4.0, null, 5.0, 4.0, null, 5.0, 4.0, null, 5.0, 4.0, null, 5.0, 4.0, null, 5.0, 4.0, null, 5.0, 4.0, null, 5.0, 4.0, null, 5.0, 4.0, null, 5.0, 4.0, null], \"x\": [0.0, -3.25, null, 0.0, 3.25, null, -3.25, -5.25, null, -3.25, -1.25, null, 3.25, 2.25, null, 3.25, 4.25, null, -5.25, -6.25, null, -5.25, -4.25, null, -1.25, -2.25, null, -1.25, -0.25, null, 2.25, 1.75, null, 2.25, 2.75, null, 4.25, 3.75, null, 4.25, 4.75, null, -6.25, -6.75, null, -6.25, -5.75, null, -4.25, -4.75, null, -4.25, -3.75, null, -2.25, -2.75, null, -2.25, -1.75, null, -0.25, -0.75, null, -0.25, 0.25, null, 1.75, 1.25, null, 1.75, 2.25, null], \"line\": {\"color\": \"rgb(210,210,210)\", \"width\": 1}, \"type\": \"scatter\"}, {\"opacity\": 0.8, \"name\": \"\", \"text\": [\"article\", \"1,1\", \"2,1\", \"3,2\", \"4,2\", \"5,2\", \"6,2\", \"7,3\", \"8,3\", \"9,3\", \"10,3\", \"11,3\", \"12,3\", \"13,3\", \"14,3\", \"15,4\", \"16,4\", \"17,4\", \"18,4\", \"19,4\", \"20,4\", \"21,4\", \"22,4\", \"23,4\", \"24,4\"], \"marker\": {\"color\": [\"#989898\", \"#6175c1\", \"#EE7600\", \"#6175c1\", \"#6175c1\", \"#6175c1\", \"#EE7600\", \"#6175c1\", \"#6175c1\", \"#6175c1\", \"#6175c1\", \"#6175c1\", \"#6175c1\", \"#6175c1\", \"#DB4551\", \"#6175c1\", \"#6175c1\", \"#6175c1\", \"#6175c1\", \"#6175c1\", \"#6175c1\", \"#6175c1\", \"#6175c1\", \"#6175c1\", \"#6175c1\"], \"line\": {\"color\": \"rgb(50,50,50)\", \"width\": 1}, \"symbol\": \"dot\", \"size\": 35}, \"mode\": \"markers\", \"hoverinfo\": \"text\", \"y\": [8.0, 7.0, 7.0, 6.0, 6.0, 6.0, 6.0, 5.0, 5.0, 5.0, 5.0, 5.0, 5.0, 5.0, 5.0, 4.0, 4.0, 4.0, 4.0, 4.0, 4.0, 4.0, 4.0, 4.0, 4.0], \"x\": [0.0, -3.25, 3.25, -5.25, -1.25, 2.25, 4.25, -6.25, -4.25, -2.25, -0.25, 1.75, 2.75, 3.75, 4.75, -6.75, -5.75, -4.75, -3.75, -2.75, -1.75, -0.75, 0.25, 1.25, 2.25], \"type\": \"scatter\"}], {\"showlegend\": false, \"title\": \"<thr> <com> 6 </com> <com> 2 </com> <com> 14 </com> </thr>\", \"plot_bgcolor\": \"rgb(248,248,248)\", \"yaxis\": {\"zeroline\": false, \"showline\": false, \"showticklabels\": false, \"showgrid\": false}, \"xaxis\": {\"zeroline\": false, \"showline\": false, \"showticklabels\": false, \"showgrid\": false}, \"hovermode\": \"closest\", \"font\": {\"size\": 12}, \"margin\": {\"r\": 40, \"b\": 85, \"t\": 100, \"l\": 40}, \"annotations\": [{\"xref\": \"x1\", \"yref\": \"y1\", \"text\": \"article\", \"y\": 8.0, \"x\": 0.0, \"font\": {\"color\": \"rgb(250,250,250)\", \"size\": 10}, \"showarrow\": false}, {\"xref\": \"x1\", \"yref\": \"y1\", \"text\": \"1,1\", \"y\": 7.0, \"x\": -3.25, \"font\": {\"color\": \"rgb(250,250,250)\", \"size\": 10}, \"showarrow\": false}, {\"xref\": \"x1\", \"yref\": \"y1\", \"text\": \"2,1\", \"y\": 7.0, \"x\": 3.25, \"font\": {\"color\": \"rgb(250,250,250)\", \"size\": 10}, \"showarrow\": false}, {\"xref\": \"x1\", \"yref\": \"y1\", \"text\": \"3,2\", \"y\": 6.0, \"x\": -5.25, \"font\": {\"color\": \"rgb(250,250,250)\", \"size\": 10}, \"showarrow\": false}, {\"xref\": \"x1\", \"yref\": \"y1\", \"text\": \"4,2\", \"y\": 6.0, \"x\": -1.25, \"font\": {\"color\": \"rgb(250,250,250)\", \"size\": 10}, \"showarrow\": false}, {\"xref\": \"x1\", \"yref\": \"y1\", \"text\": \"5,2\", \"y\": 6.0, \"x\": 2.25, \"font\": {\"color\": \"rgb(250,250,250)\", \"size\": 10}, \"showarrow\": false}, {\"xref\": \"x1\", \"yref\": \"y1\", \"text\": \"6,2\", \"y\": 6.0, \"x\": 4.25, \"font\": {\"color\": \"rgb(250,250,250)\", \"size\": 10}, \"showarrow\": false}, {\"xref\": \"x1\", \"yref\": \"y1\", \"text\": \"7,3\", \"y\": 5.0, \"x\": -6.25, \"font\": {\"color\": \"rgb(250,250,250)\", \"size\": 10}, \"showarrow\": false}, {\"xref\": \"x1\", \"yref\": \"y1\", \"text\": \"8,3\", \"y\": 5.0, \"x\": -4.25, \"font\": {\"color\": \"rgb(250,250,250)\", \"size\": 10}, \"showarrow\": false}, {\"xref\": \"x1\", \"yref\": \"y1\", \"text\": \"9,3\", \"y\": 5.0, \"x\": -2.25, \"font\": {\"color\": \"rgb(250,250,250)\", \"size\": 10}, \"showarrow\": false}, {\"xref\": \"x1\", \"yref\": \"y1\", \"text\": \"10,3\", \"y\": 5.0, \"x\": -0.25, \"font\": {\"color\": \"rgb(250,250,250)\", \"size\": 10}, \"showarrow\": false}, {\"xref\": \"x1\", \"yref\": \"y1\", \"text\": \"11,3\", \"y\": 5.0, \"x\": 1.75, \"font\": {\"color\": \"rgb(250,250,250)\", \"size\": 10}, \"showarrow\": false}, {\"xref\": \"x1\", \"yref\": \"y1\", \"text\": \"12,3\", \"y\": 5.0, \"x\": 2.75, \"font\": {\"color\": \"rgb(250,250,250)\", \"size\": 10}, \"showarrow\": false}, {\"xref\": \"x1\", \"yref\": \"y1\", \"text\": \"13,3\", \"y\": 5.0, \"x\": 3.75, \"font\": {\"color\": \"rgb(250,250,250)\", \"size\": 10}, \"showarrow\": false}, {\"xref\": \"x1\", \"yref\": \"y1\", \"text\": \"14,3\", \"y\": 5.0, \"x\": 4.75, \"font\": {\"color\": \"rgb(250,250,250)\", \"size\": 10}, \"showarrow\": false}, {\"xref\": \"x1\", \"yref\": \"y1\", \"text\": \"15,4\", \"y\": 4.0, \"x\": -6.75, \"font\": {\"color\": \"rgb(250,250,250)\", \"size\": 10}, \"showarrow\": false}, {\"xref\": \"x1\", \"yref\": \"y1\", \"text\": \"16,4\", \"y\": 4.0, \"x\": -5.75, \"font\": {\"color\": \"rgb(250,250,250)\", \"size\": 10}, \"showarrow\": false}, {\"xref\": \"x1\", \"yref\": \"y1\", \"text\": \"17,4\", \"y\": 4.0, \"x\": -4.75, \"font\": {\"color\": \"rgb(250,250,250)\", \"size\": 10}, \"showarrow\": false}, {\"xref\": \"x1\", \"yref\": \"y1\", \"text\": \"18,4\", \"y\": 4.0, \"x\": -3.75, \"font\": {\"color\": \"rgb(250,250,250)\", \"size\": 10}, \"showarrow\": false}, {\"xref\": \"x1\", \"yref\": \"y1\", \"text\": \"19,4\", \"y\": 4.0, \"x\": -2.75, \"font\": {\"color\": \"rgb(250,250,250)\", \"size\": 10}, \"showarrow\": false}, {\"xref\": \"x1\", \"yref\": \"y1\", \"text\": \"20,4\", \"y\": 4.0, \"x\": -1.75, \"font\": {\"color\": \"rgb(250,250,250)\", \"size\": 10}, \"showarrow\": false}, {\"xref\": \"x1\", \"yref\": \"y1\", \"text\": \"21,4\", \"y\": 4.0, \"x\": -0.75, \"font\": {\"color\": \"rgb(250,250,250)\", \"size\": 10}, \"showarrow\": false}, {\"xref\": \"x1\", \"yref\": \"y1\", \"text\": \"22,4\", \"y\": 4.0, \"x\": 0.25, \"font\": {\"color\": \"rgb(250,250,250)\", \"size\": 10}, \"showarrow\": false}, {\"xref\": \"x1\", \"yref\": \"y1\", \"text\": \"23,4\", \"y\": 4.0, \"x\": 1.25, \"font\": {\"color\": \"rgb(250,250,250)\", \"size\": 10}, \"showarrow\": false}, {\"xref\": \"x1\", \"yref\": \"y1\", \"text\": \"24,4\", \"y\": 4.0, \"x\": 2.25, \"font\": {\"color\": \"rgb(250,250,250)\", \"size\": 10}, \"showarrow\": false}]}, {\"linkText\": \"Export to plot.ly\", \"showLink\": true})});</script>"
      ],
      "text/vnd.plotly.v1+html": [
       "<div id=\"ca182dc5-c208-4dd0-afd9-d28f7f08c42a\" style=\"height: 525px; width: 100%;\" class=\"plotly-graph-div\"></div><script type=\"text/javascript\">require([\"plotly\"], function(Plotly) { window.PLOTLYENV=window.PLOTLYENV || {};window.PLOTLYENV.BASE_URL=\"https://plot.ly\";Plotly.newPlot(\"ca182dc5-c208-4dd0-afd9-d28f7f08c42a\", [{\"mode\": \"lines\", \"hoverinfo\": \"none\", \"y\": [8.0, 7.0, null, 8.0, 7.0, null, 7.0, 6.0, null, 7.0, 6.0, null, 7.0, 6.0, null, 7.0, 6.0, null, 6.0, 5.0, null, 6.0, 5.0, null, 6.0, 5.0, null, 6.0, 5.0, null, 6.0, 5.0, null, 6.0, 5.0, null, 6.0, 5.0, null, 6.0, 5.0, null, 5.0, 4.0, null, 5.0, 4.0, null, 5.0, 4.0, null, 5.0, 4.0, null, 5.0, 4.0, null, 5.0, 4.0, null, 5.0, 4.0, null, 5.0, 4.0, null, 5.0, 4.0, null, 5.0, 4.0, null], \"x\": [0.0, -3.25, null, 0.0, 3.25, null, -3.25, -5.25, null, -3.25, -1.25, null, 3.25, 2.25, null, 3.25, 4.25, null, -5.25, -6.25, null, -5.25, -4.25, null, -1.25, -2.25, null, -1.25, -0.25, null, 2.25, 1.75, null, 2.25, 2.75, null, 4.25, 3.75, null, 4.25, 4.75, null, -6.25, -6.75, null, -6.25, -5.75, null, -4.25, -4.75, null, -4.25, -3.75, null, -2.25, -2.75, null, -2.25, -1.75, null, -0.25, -0.75, null, -0.25, 0.25, null, 1.75, 1.25, null, 1.75, 2.25, null], \"line\": {\"color\": \"rgb(210,210,210)\", \"width\": 1}, \"type\": \"scatter\"}, {\"opacity\": 0.8, \"name\": \"\", \"text\": [\"article\", \"1,1\", \"2,1\", \"3,2\", \"4,2\", \"5,2\", \"6,2\", \"7,3\", \"8,3\", \"9,3\", \"10,3\", \"11,3\", \"12,3\", \"13,3\", \"14,3\", \"15,4\", \"16,4\", \"17,4\", \"18,4\", \"19,4\", \"20,4\", \"21,4\", \"22,4\", \"23,4\", \"24,4\"], \"marker\": {\"color\": [\"#989898\", \"#6175c1\", \"#EE7600\", \"#6175c1\", \"#6175c1\", \"#6175c1\", \"#EE7600\", \"#6175c1\", \"#6175c1\", \"#6175c1\", \"#6175c1\", \"#6175c1\", \"#6175c1\", \"#6175c1\", \"#DB4551\", \"#6175c1\", \"#6175c1\", \"#6175c1\", \"#6175c1\", \"#6175c1\", \"#6175c1\", \"#6175c1\", \"#6175c1\", \"#6175c1\", \"#6175c1\"], \"line\": {\"color\": \"rgb(50,50,50)\", \"width\": 1}, \"symbol\": \"dot\", \"size\": 35}, \"mode\": \"markers\", \"hoverinfo\": \"text\", \"y\": [8.0, 7.0, 7.0, 6.0, 6.0, 6.0, 6.0, 5.0, 5.0, 5.0, 5.0, 5.0, 5.0, 5.0, 5.0, 4.0, 4.0, 4.0, 4.0, 4.0, 4.0, 4.0, 4.0, 4.0, 4.0], \"x\": [0.0, -3.25, 3.25, -5.25, -1.25, 2.25, 4.25, -6.25, -4.25, -2.25, -0.25, 1.75, 2.75, 3.75, 4.75, -6.75, -5.75, -4.75, -3.75, -2.75, -1.75, -0.75, 0.25, 1.25, 2.25], \"type\": \"scatter\"}], {\"showlegend\": false, \"title\": \"<thr> <com> 6 </com> <com> 2 </com> <com> 14 </com> </thr>\", \"plot_bgcolor\": \"rgb(248,248,248)\", \"yaxis\": {\"zeroline\": false, \"showline\": false, \"showticklabels\": false, \"showgrid\": false}, \"xaxis\": {\"zeroline\": false, \"showline\": false, \"showticklabels\": false, \"showgrid\": false}, \"hovermode\": \"closest\", \"font\": {\"size\": 12}, \"margin\": {\"r\": 40, \"b\": 85, \"t\": 100, \"l\": 40}, \"annotations\": [{\"xref\": \"x1\", \"yref\": \"y1\", \"text\": \"article\", \"y\": 8.0, \"x\": 0.0, \"font\": {\"color\": \"rgb(250,250,250)\", \"size\": 10}, \"showarrow\": false}, {\"xref\": \"x1\", \"yref\": \"y1\", \"text\": \"1,1\", \"y\": 7.0, \"x\": -3.25, \"font\": {\"color\": \"rgb(250,250,250)\", \"size\": 10}, \"showarrow\": false}, {\"xref\": \"x1\", \"yref\": \"y1\", \"text\": \"2,1\", \"y\": 7.0, \"x\": 3.25, \"font\": {\"color\": \"rgb(250,250,250)\", \"size\": 10}, \"showarrow\": false}, {\"xref\": \"x1\", \"yref\": \"y1\", \"text\": \"3,2\", \"y\": 6.0, \"x\": -5.25, \"font\": {\"color\": \"rgb(250,250,250)\", \"size\": 10}, \"showarrow\": false}, {\"xref\": \"x1\", \"yref\": \"y1\", \"text\": \"4,2\", \"y\": 6.0, \"x\": -1.25, \"font\": {\"color\": \"rgb(250,250,250)\", \"size\": 10}, \"showarrow\": false}, {\"xref\": \"x1\", \"yref\": \"y1\", \"text\": \"5,2\", \"y\": 6.0, \"x\": 2.25, \"font\": {\"color\": \"rgb(250,250,250)\", \"size\": 10}, \"showarrow\": false}, {\"xref\": \"x1\", \"yref\": \"y1\", \"text\": \"6,2\", \"y\": 6.0, \"x\": 4.25, \"font\": {\"color\": \"rgb(250,250,250)\", \"size\": 10}, \"showarrow\": false}, {\"xref\": \"x1\", \"yref\": \"y1\", \"text\": \"7,3\", \"y\": 5.0, \"x\": -6.25, \"font\": {\"color\": \"rgb(250,250,250)\", \"size\": 10}, \"showarrow\": false}, {\"xref\": \"x1\", \"yref\": \"y1\", \"text\": \"8,3\", \"y\": 5.0, \"x\": -4.25, \"font\": {\"color\": \"rgb(250,250,250)\", \"size\": 10}, \"showarrow\": false}, {\"xref\": \"x1\", \"yref\": \"y1\", \"text\": \"9,3\", \"y\": 5.0, \"x\": -2.25, \"font\": {\"color\": \"rgb(250,250,250)\", \"size\": 10}, \"showarrow\": false}, {\"xref\": \"x1\", \"yref\": \"y1\", \"text\": \"10,3\", \"y\": 5.0, \"x\": -0.25, \"font\": {\"color\": \"rgb(250,250,250)\", \"size\": 10}, \"showarrow\": false}, {\"xref\": \"x1\", \"yref\": \"y1\", \"text\": \"11,3\", \"y\": 5.0, \"x\": 1.75, \"font\": {\"color\": \"rgb(250,250,250)\", \"size\": 10}, \"showarrow\": false}, {\"xref\": \"x1\", \"yref\": \"y1\", \"text\": \"12,3\", \"y\": 5.0, \"x\": 2.75, \"font\": {\"color\": \"rgb(250,250,250)\", \"size\": 10}, \"showarrow\": false}, {\"xref\": \"x1\", \"yref\": \"y1\", \"text\": \"13,3\", \"y\": 5.0, \"x\": 3.75, \"font\": {\"color\": \"rgb(250,250,250)\", \"size\": 10}, \"showarrow\": false}, {\"xref\": \"x1\", \"yref\": \"y1\", \"text\": \"14,3\", \"y\": 5.0, \"x\": 4.75, \"font\": {\"color\": \"rgb(250,250,250)\", \"size\": 10}, \"showarrow\": false}, {\"xref\": \"x1\", \"yref\": \"y1\", \"text\": \"15,4\", \"y\": 4.0, \"x\": -6.75, \"font\": {\"color\": \"rgb(250,250,250)\", \"size\": 10}, \"showarrow\": false}, {\"xref\": \"x1\", \"yref\": \"y1\", \"text\": \"16,4\", \"y\": 4.0, \"x\": -5.75, \"font\": {\"color\": \"rgb(250,250,250)\", \"size\": 10}, \"showarrow\": false}, {\"xref\": \"x1\", \"yref\": \"y1\", \"text\": \"17,4\", \"y\": 4.0, \"x\": -4.75, \"font\": {\"color\": \"rgb(250,250,250)\", \"size\": 10}, \"showarrow\": false}, {\"xref\": \"x1\", \"yref\": \"y1\", \"text\": \"18,4\", \"y\": 4.0, \"x\": -3.75, \"font\": {\"color\": \"rgb(250,250,250)\", \"size\": 10}, \"showarrow\": false}, {\"xref\": \"x1\", \"yref\": \"y1\", \"text\": \"19,4\", \"y\": 4.0, \"x\": -2.75, \"font\": {\"color\": \"rgb(250,250,250)\", \"size\": 10}, \"showarrow\": false}, {\"xref\": \"x1\", \"yref\": \"y1\", \"text\": \"20,4\", \"y\": 4.0, \"x\": -1.75, \"font\": {\"color\": \"rgb(250,250,250)\", \"size\": 10}, \"showarrow\": false}, {\"xref\": \"x1\", \"yref\": \"y1\", \"text\": \"21,4\", \"y\": 4.0, \"x\": -0.75, \"font\": {\"color\": \"rgb(250,250,250)\", \"size\": 10}, \"showarrow\": false}, {\"xref\": \"x1\", \"yref\": \"y1\", \"text\": \"22,4\", \"y\": 4.0, \"x\": 0.25, \"font\": {\"color\": \"rgb(250,250,250)\", \"size\": 10}, \"showarrow\": false}, {\"xref\": \"x1\", \"yref\": \"y1\", \"text\": \"23,4\", \"y\": 4.0, \"x\": 1.25, \"font\": {\"color\": \"rgb(250,250,250)\", \"size\": 10}, \"showarrow\": false}, {\"xref\": \"x1\", \"yref\": \"y1\", \"text\": \"24,4\", \"y\": 4.0, \"x\": 2.25, \"font\": {\"color\": \"rgb(250,250,250)\", \"size\": 10}, \"showarrow\": false}]}, {\"linkText\": \"Export to plot.ly\", \"showLink\": true})});</script>"
      ]
     },
     "metadata": {},
     "output_type": "display_data"
    },
    {
     "data": {
      "application/vnd.plotly.v1+json": {
       "data": [
        {
         "hoverinfo": "none",
         "line": {
          "color": "rgb(210,210,210)",
          "width": 1
         },
         "mode": "lines",
         "type": "scatter",
         "x": [
          0,
          -3.25,
          null,
          0,
          3.25,
          null,
          -3.25,
          -5.25,
          null,
          -3.25,
          -1.25,
          null,
          3.25,
          2.25,
          null,
          3.25,
          4.25,
          null,
          -5.25,
          -6.25,
          null,
          -5.25,
          -4.25,
          null,
          -1.25,
          -2.25,
          null,
          -1.25,
          -0.25,
          null,
          2.25,
          1.75,
          null,
          2.25,
          2.75,
          null,
          4.25,
          3.75,
          null,
          4.25,
          4.75,
          null,
          -6.25,
          -6.75,
          null,
          -6.25,
          -5.75,
          null,
          -4.25,
          -4.75,
          null,
          -4.25,
          -3.75,
          null,
          -2.25,
          -2.75,
          null,
          -2.25,
          -1.75,
          null,
          -0.25,
          -0.75,
          null,
          -0.25,
          0.25,
          null,
          1.75,
          1.25,
          null,
          1.75,
          2.25,
          null
         ],
         "y": [
          8,
          7,
          null,
          8,
          7,
          null,
          7,
          6,
          null,
          7,
          6,
          null,
          7,
          6,
          null,
          7,
          6,
          null,
          6,
          5,
          null,
          6,
          5,
          null,
          6,
          5,
          null,
          6,
          5,
          null,
          6,
          5,
          null,
          6,
          5,
          null,
          6,
          5,
          null,
          6,
          5,
          null,
          5,
          4,
          null,
          5,
          4,
          null,
          5,
          4,
          null,
          5,
          4,
          null,
          5,
          4,
          null,
          5,
          4,
          null,
          5,
          4,
          null,
          5,
          4,
          null,
          5,
          4,
          null,
          5,
          4,
          null
         ]
        },
        {
         "hoverinfo": "text",
         "marker": {
          "color": [
           "#989898",
           "#EE7600",
           "#6175c1",
           "#EE7600",
           "#6175c1",
           "#6175c1",
           "#6175c1",
           "#EE7600",
           "#6175c1",
           "#6175c1",
           "#6175c1",
           "#6175c1",
           "#6175c1",
           "#6175c1",
           "#6175c1",
           "#DB4551",
           "#6175c1",
           "#6175c1",
           "#6175c1",
           "#6175c1",
           "#6175c1",
           "#6175c1",
           "#6175c1",
           "#6175c1",
           "#6175c1"
          ],
          "line": {
           "color": "rgb(50,50,50)",
           "width": 1
          },
          "size": 35,
          "symbol": "dot"
         },
         "mode": "markers",
         "name": "",
         "opacity": 0.8,
         "text": [
          "article",
          "1,1",
          "2,1",
          "3,2",
          "4,2",
          "5,2",
          "6,2",
          "7,3",
          "8,3",
          "9,3",
          "10,3",
          "11,3",
          "12,3",
          "13,3",
          "14,3",
          "15,4",
          "16,4",
          "17,4",
          "18,4",
          "19,4",
          "20,4",
          "21,4",
          "22,4",
          "23,4",
          "24,4"
         ],
         "type": "scatter",
         "x": [
          0,
          -3.25,
          3.25,
          -5.25,
          -1.25,
          2.25,
          4.25,
          -6.25,
          -4.25,
          -2.25,
          -0.25,
          1.75,
          2.75,
          3.75,
          4.75,
          -6.75,
          -5.75,
          -4.75,
          -3.75,
          -2.75,
          -1.75,
          -0.75,
          0.25,
          1.25,
          2.25
         ],
         "y": [
          8,
          7,
          7,
          6,
          6,
          6,
          6,
          5,
          5,
          5,
          5,
          5,
          5,
          5,
          5,
          4,
          4,
          4,
          4,
          4,
          4,
          4,
          4,
          4,
          4
         ]
        }
       ],
       "layout": {
        "annotations": [
         {
          "font": {
           "color": "rgb(250,250,250)",
           "size": 10
          },
          "showarrow": false,
          "text": "article",
          "x": 0,
          "xref": "x1",
          "y": 8,
          "yref": "y1"
         },
         {
          "font": {
           "color": "rgb(250,250,250)",
           "size": 10
          },
          "showarrow": false,
          "text": "1,1",
          "x": -3.25,
          "xref": "x1",
          "y": 7,
          "yref": "y1"
         },
         {
          "font": {
           "color": "rgb(250,250,250)",
           "size": 10
          },
          "showarrow": false,
          "text": "2,1",
          "x": 3.25,
          "xref": "x1",
          "y": 7,
          "yref": "y1"
         },
         {
          "font": {
           "color": "rgb(250,250,250)",
           "size": 10
          },
          "showarrow": false,
          "text": "3,2",
          "x": -5.25,
          "xref": "x1",
          "y": 6,
          "yref": "y1"
         },
         {
          "font": {
           "color": "rgb(250,250,250)",
           "size": 10
          },
          "showarrow": false,
          "text": "4,2",
          "x": -1.25,
          "xref": "x1",
          "y": 6,
          "yref": "y1"
         },
         {
          "font": {
           "color": "rgb(250,250,250)",
           "size": 10
          },
          "showarrow": false,
          "text": "5,2",
          "x": 2.25,
          "xref": "x1",
          "y": 6,
          "yref": "y1"
         },
         {
          "font": {
           "color": "rgb(250,250,250)",
           "size": 10
          },
          "showarrow": false,
          "text": "6,2",
          "x": 4.25,
          "xref": "x1",
          "y": 6,
          "yref": "y1"
         },
         {
          "font": {
           "color": "rgb(250,250,250)",
           "size": 10
          },
          "showarrow": false,
          "text": "7,3",
          "x": -6.25,
          "xref": "x1",
          "y": 5,
          "yref": "y1"
         },
         {
          "font": {
           "color": "rgb(250,250,250)",
           "size": 10
          },
          "showarrow": false,
          "text": "8,3",
          "x": -4.25,
          "xref": "x1",
          "y": 5,
          "yref": "y1"
         },
         {
          "font": {
           "color": "rgb(250,250,250)",
           "size": 10
          },
          "showarrow": false,
          "text": "9,3",
          "x": -2.25,
          "xref": "x1",
          "y": 5,
          "yref": "y1"
         },
         {
          "font": {
           "color": "rgb(250,250,250)",
           "size": 10
          },
          "showarrow": false,
          "text": "10,3",
          "x": -0.25,
          "xref": "x1",
          "y": 5,
          "yref": "y1"
         },
         {
          "font": {
           "color": "rgb(250,250,250)",
           "size": 10
          },
          "showarrow": false,
          "text": "11,3",
          "x": 1.75,
          "xref": "x1",
          "y": 5,
          "yref": "y1"
         },
         {
          "font": {
           "color": "rgb(250,250,250)",
           "size": 10
          },
          "showarrow": false,
          "text": "12,3",
          "x": 2.75,
          "xref": "x1",
          "y": 5,
          "yref": "y1"
         },
         {
          "font": {
           "color": "rgb(250,250,250)",
           "size": 10
          },
          "showarrow": false,
          "text": "13,3",
          "x": 3.75,
          "xref": "x1",
          "y": 5,
          "yref": "y1"
         },
         {
          "font": {
           "color": "rgb(250,250,250)",
           "size": 10
          },
          "showarrow": false,
          "text": "14,3",
          "x": 4.75,
          "xref": "x1",
          "y": 5,
          "yref": "y1"
         },
         {
          "font": {
           "color": "rgb(250,250,250)",
           "size": 10
          },
          "showarrow": false,
          "text": "15,4",
          "x": -6.75,
          "xref": "x1",
          "y": 4,
          "yref": "y1"
         },
         {
          "font": {
           "color": "rgb(250,250,250)",
           "size": 10
          },
          "showarrow": false,
          "text": "16,4",
          "x": -5.75,
          "xref": "x1",
          "y": 4,
          "yref": "y1"
         },
         {
          "font": {
           "color": "rgb(250,250,250)",
           "size": 10
          },
          "showarrow": false,
          "text": "17,4",
          "x": -4.75,
          "xref": "x1",
          "y": 4,
          "yref": "y1"
         },
         {
          "font": {
           "color": "rgb(250,250,250)",
           "size": 10
          },
          "showarrow": false,
          "text": "18,4",
          "x": -3.75,
          "xref": "x1",
          "y": 4,
          "yref": "y1"
         },
         {
          "font": {
           "color": "rgb(250,250,250)",
           "size": 10
          },
          "showarrow": false,
          "text": "19,4",
          "x": -2.75,
          "xref": "x1",
          "y": 4,
          "yref": "y1"
         },
         {
          "font": {
           "color": "rgb(250,250,250)",
           "size": 10
          },
          "showarrow": false,
          "text": "20,4",
          "x": -1.75,
          "xref": "x1",
          "y": 4,
          "yref": "y1"
         },
         {
          "font": {
           "color": "rgb(250,250,250)",
           "size": 10
          },
          "showarrow": false,
          "text": "21,4",
          "x": -0.75,
          "xref": "x1",
          "y": 4,
          "yref": "y1"
         },
         {
          "font": {
           "color": "rgb(250,250,250)",
           "size": 10
          },
          "showarrow": false,
          "text": "22,4",
          "x": 0.25,
          "xref": "x1",
          "y": 4,
          "yref": "y1"
         },
         {
          "font": {
           "color": "rgb(250,250,250)",
           "size": 10
          },
          "showarrow": false,
          "text": "23,4",
          "x": 1.25,
          "xref": "x1",
          "y": 4,
          "yref": "y1"
         },
         {
          "font": {
           "color": "rgb(250,250,250)",
           "size": 10
          },
          "showarrow": false,
          "text": "24,4",
          "x": 2.25,
          "xref": "x1",
          "y": 4,
          "yref": "y1"
         }
        ],
        "font": {
         "size": 12
        },
        "hovermode": "closest",
        "margin": {
         "b": 85,
         "l": 40,
         "r": 40,
         "t": 100
        },
        "plot_bgcolor": "rgb(248,248,248)",
        "showlegend": false,
        "title": "<thr> <com> 7 </com> <com> 3 </com> <com> 1 </com> <com> 15 </com> </thr>",
        "xaxis": {
         "showgrid": false,
         "showline": false,
         "showticklabels": false,
         "zeroline": false
        },
        "yaxis": {
         "showgrid": false,
         "showline": false,
         "showticklabels": false,
         "zeroline": false
        }
       }
      },
      "text/html": [
       "<div id=\"ca55af78-7ec1-4eed-a6ae-d66311bc1b9e\" style=\"height: 525px; width: 100%;\" class=\"plotly-graph-div\"></div><script type=\"text/javascript\">require([\"plotly\"], function(Plotly) { window.PLOTLYENV=window.PLOTLYENV || {};window.PLOTLYENV.BASE_URL=\"https://plot.ly\";Plotly.newPlot(\"ca55af78-7ec1-4eed-a6ae-d66311bc1b9e\", [{\"mode\": \"lines\", \"hoverinfo\": \"none\", \"y\": [8.0, 7.0, null, 8.0, 7.0, null, 7.0, 6.0, null, 7.0, 6.0, null, 7.0, 6.0, null, 7.0, 6.0, null, 6.0, 5.0, null, 6.0, 5.0, null, 6.0, 5.0, null, 6.0, 5.0, null, 6.0, 5.0, null, 6.0, 5.0, null, 6.0, 5.0, null, 6.0, 5.0, null, 5.0, 4.0, null, 5.0, 4.0, null, 5.0, 4.0, null, 5.0, 4.0, null, 5.0, 4.0, null, 5.0, 4.0, null, 5.0, 4.0, null, 5.0, 4.0, null, 5.0, 4.0, null, 5.0, 4.0, null], \"x\": [0.0, -3.25, null, 0.0, 3.25, null, -3.25, -5.25, null, -3.25, -1.25, null, 3.25, 2.25, null, 3.25, 4.25, null, -5.25, -6.25, null, -5.25, -4.25, null, -1.25, -2.25, null, -1.25, -0.25, null, 2.25, 1.75, null, 2.25, 2.75, null, 4.25, 3.75, null, 4.25, 4.75, null, -6.25, -6.75, null, -6.25, -5.75, null, -4.25, -4.75, null, -4.25, -3.75, null, -2.25, -2.75, null, -2.25, -1.75, null, -0.25, -0.75, null, -0.25, 0.25, null, 1.75, 1.25, null, 1.75, 2.25, null], \"line\": {\"color\": \"rgb(210,210,210)\", \"width\": 1}, \"type\": \"scatter\"}, {\"opacity\": 0.8, \"name\": \"\", \"text\": [\"article\", \"1,1\", \"2,1\", \"3,2\", \"4,2\", \"5,2\", \"6,2\", \"7,3\", \"8,3\", \"9,3\", \"10,3\", \"11,3\", \"12,3\", \"13,3\", \"14,3\", \"15,4\", \"16,4\", \"17,4\", \"18,4\", \"19,4\", \"20,4\", \"21,4\", \"22,4\", \"23,4\", \"24,4\"], \"marker\": {\"color\": [\"#989898\", \"#EE7600\", \"#6175c1\", \"#EE7600\", \"#6175c1\", \"#6175c1\", \"#6175c1\", \"#EE7600\", \"#6175c1\", \"#6175c1\", \"#6175c1\", \"#6175c1\", \"#6175c1\", \"#6175c1\", \"#6175c1\", \"#DB4551\", \"#6175c1\", \"#6175c1\", \"#6175c1\", \"#6175c1\", \"#6175c1\", \"#6175c1\", \"#6175c1\", \"#6175c1\", \"#6175c1\"], \"line\": {\"color\": \"rgb(50,50,50)\", \"width\": 1}, \"symbol\": \"dot\", \"size\": 35}, \"mode\": \"markers\", \"hoverinfo\": \"text\", \"y\": [8.0, 7.0, 7.0, 6.0, 6.0, 6.0, 6.0, 5.0, 5.0, 5.0, 5.0, 5.0, 5.0, 5.0, 5.0, 4.0, 4.0, 4.0, 4.0, 4.0, 4.0, 4.0, 4.0, 4.0, 4.0], \"x\": [0.0, -3.25, 3.25, -5.25, -1.25, 2.25, 4.25, -6.25, -4.25, -2.25, -0.25, 1.75, 2.75, 3.75, 4.75, -6.75, -5.75, -4.75, -3.75, -2.75, -1.75, -0.75, 0.25, 1.25, 2.25], \"type\": \"scatter\"}], {\"showlegend\": false, \"title\": \"<thr> <com> 7 </com> <com> 3 </com> <com> 1 </com> <com> 15 </com> </thr>\", \"plot_bgcolor\": \"rgb(248,248,248)\", \"yaxis\": {\"zeroline\": false, \"showline\": false, \"showticklabels\": false, \"showgrid\": false}, \"xaxis\": {\"zeroline\": false, \"showline\": false, \"showticklabels\": false, \"showgrid\": false}, \"hovermode\": \"closest\", \"font\": {\"size\": 12}, \"margin\": {\"r\": 40, \"b\": 85, \"t\": 100, \"l\": 40}, \"annotations\": [{\"xref\": \"x1\", \"yref\": \"y1\", \"text\": \"article\", \"y\": 8.0, \"x\": 0.0, \"font\": {\"color\": \"rgb(250,250,250)\", \"size\": 10}, \"showarrow\": false}, {\"xref\": \"x1\", \"yref\": \"y1\", \"text\": \"1,1\", \"y\": 7.0, \"x\": -3.25, \"font\": {\"color\": \"rgb(250,250,250)\", \"size\": 10}, \"showarrow\": false}, {\"xref\": \"x1\", \"yref\": \"y1\", \"text\": \"2,1\", \"y\": 7.0, \"x\": 3.25, \"font\": {\"color\": \"rgb(250,250,250)\", \"size\": 10}, \"showarrow\": false}, {\"xref\": \"x1\", \"yref\": \"y1\", \"text\": \"3,2\", \"y\": 6.0, \"x\": -5.25, \"font\": {\"color\": \"rgb(250,250,250)\", \"size\": 10}, \"showarrow\": false}, {\"xref\": \"x1\", \"yref\": \"y1\", \"text\": \"4,2\", \"y\": 6.0, \"x\": -1.25, \"font\": {\"color\": \"rgb(250,250,250)\", \"size\": 10}, \"showarrow\": false}, {\"xref\": \"x1\", \"yref\": \"y1\", \"text\": \"5,2\", \"y\": 6.0, \"x\": 2.25, \"font\": {\"color\": \"rgb(250,250,250)\", \"size\": 10}, \"showarrow\": false}, {\"xref\": \"x1\", \"yref\": \"y1\", \"text\": \"6,2\", \"y\": 6.0, \"x\": 4.25, \"font\": {\"color\": \"rgb(250,250,250)\", \"size\": 10}, \"showarrow\": false}, {\"xref\": \"x1\", \"yref\": \"y1\", \"text\": \"7,3\", \"y\": 5.0, \"x\": -6.25, \"font\": {\"color\": \"rgb(250,250,250)\", \"size\": 10}, \"showarrow\": false}, {\"xref\": \"x1\", \"yref\": \"y1\", \"text\": \"8,3\", \"y\": 5.0, \"x\": -4.25, \"font\": {\"color\": \"rgb(250,250,250)\", \"size\": 10}, \"showarrow\": false}, {\"xref\": \"x1\", \"yref\": \"y1\", \"text\": \"9,3\", \"y\": 5.0, \"x\": -2.25, \"font\": {\"color\": \"rgb(250,250,250)\", \"size\": 10}, \"showarrow\": false}, {\"xref\": \"x1\", \"yref\": \"y1\", \"text\": \"10,3\", \"y\": 5.0, \"x\": -0.25, \"font\": {\"color\": \"rgb(250,250,250)\", \"size\": 10}, \"showarrow\": false}, {\"xref\": \"x1\", \"yref\": \"y1\", \"text\": \"11,3\", \"y\": 5.0, \"x\": 1.75, \"font\": {\"color\": \"rgb(250,250,250)\", \"size\": 10}, \"showarrow\": false}, {\"xref\": \"x1\", \"yref\": \"y1\", \"text\": \"12,3\", \"y\": 5.0, \"x\": 2.75, \"font\": {\"color\": \"rgb(250,250,250)\", \"size\": 10}, \"showarrow\": false}, {\"xref\": \"x1\", \"yref\": \"y1\", \"text\": \"13,3\", \"y\": 5.0, \"x\": 3.75, \"font\": {\"color\": \"rgb(250,250,250)\", \"size\": 10}, \"showarrow\": false}, {\"xref\": \"x1\", \"yref\": \"y1\", \"text\": \"14,3\", \"y\": 5.0, \"x\": 4.75, \"font\": {\"color\": \"rgb(250,250,250)\", \"size\": 10}, \"showarrow\": false}, {\"xref\": \"x1\", \"yref\": \"y1\", \"text\": \"15,4\", \"y\": 4.0, \"x\": -6.75, \"font\": {\"color\": \"rgb(250,250,250)\", \"size\": 10}, \"showarrow\": false}, {\"xref\": \"x1\", \"yref\": \"y1\", \"text\": \"16,4\", \"y\": 4.0, \"x\": -5.75, \"font\": {\"color\": \"rgb(250,250,250)\", \"size\": 10}, \"showarrow\": false}, {\"xref\": \"x1\", \"yref\": \"y1\", \"text\": \"17,4\", \"y\": 4.0, \"x\": -4.75, \"font\": {\"color\": \"rgb(250,250,250)\", \"size\": 10}, \"showarrow\": false}, {\"xref\": \"x1\", \"yref\": \"y1\", \"text\": \"18,4\", \"y\": 4.0, \"x\": -3.75, \"font\": {\"color\": \"rgb(250,250,250)\", \"size\": 10}, \"showarrow\": false}, {\"xref\": \"x1\", \"yref\": \"y1\", \"text\": \"19,4\", \"y\": 4.0, \"x\": -2.75, \"font\": {\"color\": \"rgb(250,250,250)\", \"size\": 10}, \"showarrow\": false}, {\"xref\": \"x1\", \"yref\": \"y1\", \"text\": \"20,4\", \"y\": 4.0, \"x\": -1.75, \"font\": {\"color\": \"rgb(250,250,250)\", \"size\": 10}, \"showarrow\": false}, {\"xref\": \"x1\", \"yref\": \"y1\", \"text\": \"21,4\", \"y\": 4.0, \"x\": -0.75, \"font\": {\"color\": \"rgb(250,250,250)\", \"size\": 10}, \"showarrow\": false}, {\"xref\": \"x1\", \"yref\": \"y1\", \"text\": \"22,4\", \"y\": 4.0, \"x\": 0.25, \"font\": {\"color\": \"rgb(250,250,250)\", \"size\": 10}, \"showarrow\": false}, {\"xref\": \"x1\", \"yref\": \"y1\", \"text\": \"23,4\", \"y\": 4.0, \"x\": 1.25, \"font\": {\"color\": \"rgb(250,250,250)\", \"size\": 10}, \"showarrow\": false}, {\"xref\": \"x1\", \"yref\": \"y1\", \"text\": \"24,4\", \"y\": 4.0, \"x\": 2.25, \"font\": {\"color\": \"rgb(250,250,250)\", \"size\": 10}, \"showarrow\": false}]}, {\"linkText\": \"Export to plot.ly\", \"showLink\": true})});</script>"
      ],
      "text/vnd.plotly.v1+html": [
       "<div id=\"ca55af78-7ec1-4eed-a6ae-d66311bc1b9e\" style=\"height: 525px; width: 100%;\" class=\"plotly-graph-div\"></div><script type=\"text/javascript\">require([\"plotly\"], function(Plotly) { window.PLOTLYENV=window.PLOTLYENV || {};window.PLOTLYENV.BASE_URL=\"https://plot.ly\";Plotly.newPlot(\"ca55af78-7ec1-4eed-a6ae-d66311bc1b9e\", [{\"mode\": \"lines\", \"hoverinfo\": \"none\", \"y\": [8.0, 7.0, null, 8.0, 7.0, null, 7.0, 6.0, null, 7.0, 6.0, null, 7.0, 6.0, null, 7.0, 6.0, null, 6.0, 5.0, null, 6.0, 5.0, null, 6.0, 5.0, null, 6.0, 5.0, null, 6.0, 5.0, null, 6.0, 5.0, null, 6.0, 5.0, null, 6.0, 5.0, null, 5.0, 4.0, null, 5.0, 4.0, null, 5.0, 4.0, null, 5.0, 4.0, null, 5.0, 4.0, null, 5.0, 4.0, null, 5.0, 4.0, null, 5.0, 4.0, null, 5.0, 4.0, null, 5.0, 4.0, null], \"x\": [0.0, -3.25, null, 0.0, 3.25, null, -3.25, -5.25, null, -3.25, -1.25, null, 3.25, 2.25, null, 3.25, 4.25, null, -5.25, -6.25, null, -5.25, -4.25, null, -1.25, -2.25, null, -1.25, -0.25, null, 2.25, 1.75, null, 2.25, 2.75, null, 4.25, 3.75, null, 4.25, 4.75, null, -6.25, -6.75, null, -6.25, -5.75, null, -4.25, -4.75, null, -4.25, -3.75, null, -2.25, -2.75, null, -2.25, -1.75, null, -0.25, -0.75, null, -0.25, 0.25, null, 1.75, 1.25, null, 1.75, 2.25, null], \"line\": {\"color\": \"rgb(210,210,210)\", \"width\": 1}, \"type\": \"scatter\"}, {\"opacity\": 0.8, \"name\": \"\", \"text\": [\"article\", \"1,1\", \"2,1\", \"3,2\", \"4,2\", \"5,2\", \"6,2\", \"7,3\", \"8,3\", \"9,3\", \"10,3\", \"11,3\", \"12,3\", \"13,3\", \"14,3\", \"15,4\", \"16,4\", \"17,4\", \"18,4\", \"19,4\", \"20,4\", \"21,4\", \"22,4\", \"23,4\", \"24,4\"], \"marker\": {\"color\": [\"#989898\", \"#EE7600\", \"#6175c1\", \"#EE7600\", \"#6175c1\", \"#6175c1\", \"#6175c1\", \"#EE7600\", \"#6175c1\", \"#6175c1\", \"#6175c1\", \"#6175c1\", \"#6175c1\", \"#6175c1\", \"#6175c1\", \"#DB4551\", \"#6175c1\", \"#6175c1\", \"#6175c1\", \"#6175c1\", \"#6175c1\", \"#6175c1\", \"#6175c1\", \"#6175c1\", \"#6175c1\"], \"line\": {\"color\": \"rgb(50,50,50)\", \"width\": 1}, \"symbol\": \"dot\", \"size\": 35}, \"mode\": \"markers\", \"hoverinfo\": \"text\", \"y\": [8.0, 7.0, 7.0, 6.0, 6.0, 6.0, 6.0, 5.0, 5.0, 5.0, 5.0, 5.0, 5.0, 5.0, 5.0, 4.0, 4.0, 4.0, 4.0, 4.0, 4.0, 4.0, 4.0, 4.0, 4.0], \"x\": [0.0, -3.25, 3.25, -5.25, -1.25, 2.25, 4.25, -6.25, -4.25, -2.25, -0.25, 1.75, 2.75, 3.75, 4.75, -6.75, -5.75, -4.75, -3.75, -2.75, -1.75, -0.75, 0.25, 1.25, 2.25], \"type\": \"scatter\"}], {\"showlegend\": false, \"title\": \"<thr> <com> 7 </com> <com> 3 </com> <com> 1 </com> <com> 15 </com> </thr>\", \"plot_bgcolor\": \"rgb(248,248,248)\", \"yaxis\": {\"zeroline\": false, \"showline\": false, \"showticklabels\": false, \"showgrid\": false}, \"xaxis\": {\"zeroline\": false, \"showline\": false, \"showticklabels\": false, \"showgrid\": false}, \"hovermode\": \"closest\", \"font\": {\"size\": 12}, \"margin\": {\"r\": 40, \"b\": 85, \"t\": 100, \"l\": 40}, \"annotations\": [{\"xref\": \"x1\", \"yref\": \"y1\", \"text\": \"article\", \"y\": 8.0, \"x\": 0.0, \"font\": {\"color\": \"rgb(250,250,250)\", \"size\": 10}, \"showarrow\": false}, {\"xref\": \"x1\", \"yref\": \"y1\", \"text\": \"1,1\", \"y\": 7.0, \"x\": -3.25, \"font\": {\"color\": \"rgb(250,250,250)\", \"size\": 10}, \"showarrow\": false}, {\"xref\": \"x1\", \"yref\": \"y1\", \"text\": \"2,1\", \"y\": 7.0, \"x\": 3.25, \"font\": {\"color\": \"rgb(250,250,250)\", \"size\": 10}, \"showarrow\": false}, {\"xref\": \"x1\", \"yref\": \"y1\", \"text\": \"3,2\", \"y\": 6.0, \"x\": -5.25, \"font\": {\"color\": \"rgb(250,250,250)\", \"size\": 10}, \"showarrow\": false}, {\"xref\": \"x1\", \"yref\": \"y1\", \"text\": \"4,2\", \"y\": 6.0, \"x\": -1.25, \"font\": {\"color\": \"rgb(250,250,250)\", \"size\": 10}, \"showarrow\": false}, {\"xref\": \"x1\", \"yref\": \"y1\", \"text\": \"5,2\", \"y\": 6.0, \"x\": 2.25, \"font\": {\"color\": \"rgb(250,250,250)\", \"size\": 10}, \"showarrow\": false}, {\"xref\": \"x1\", \"yref\": \"y1\", \"text\": \"6,2\", \"y\": 6.0, \"x\": 4.25, \"font\": {\"color\": \"rgb(250,250,250)\", \"size\": 10}, \"showarrow\": false}, {\"xref\": \"x1\", \"yref\": \"y1\", \"text\": \"7,3\", \"y\": 5.0, \"x\": -6.25, \"font\": {\"color\": \"rgb(250,250,250)\", \"size\": 10}, \"showarrow\": false}, {\"xref\": \"x1\", \"yref\": \"y1\", \"text\": \"8,3\", \"y\": 5.0, \"x\": -4.25, \"font\": {\"color\": \"rgb(250,250,250)\", \"size\": 10}, \"showarrow\": false}, {\"xref\": \"x1\", \"yref\": \"y1\", \"text\": \"9,3\", \"y\": 5.0, \"x\": -2.25, \"font\": {\"color\": \"rgb(250,250,250)\", \"size\": 10}, \"showarrow\": false}, {\"xref\": \"x1\", \"yref\": \"y1\", \"text\": \"10,3\", \"y\": 5.0, \"x\": -0.25, \"font\": {\"color\": \"rgb(250,250,250)\", \"size\": 10}, \"showarrow\": false}, {\"xref\": \"x1\", \"yref\": \"y1\", \"text\": \"11,3\", \"y\": 5.0, \"x\": 1.75, \"font\": {\"color\": \"rgb(250,250,250)\", \"size\": 10}, \"showarrow\": false}, {\"xref\": \"x1\", \"yref\": \"y1\", \"text\": \"12,3\", \"y\": 5.0, \"x\": 2.75, \"font\": {\"color\": \"rgb(250,250,250)\", \"size\": 10}, \"showarrow\": false}, {\"xref\": \"x1\", \"yref\": \"y1\", \"text\": \"13,3\", \"y\": 5.0, \"x\": 3.75, \"font\": {\"color\": \"rgb(250,250,250)\", \"size\": 10}, \"showarrow\": false}, {\"xref\": \"x1\", \"yref\": \"y1\", \"text\": \"14,3\", \"y\": 5.0, \"x\": 4.75, \"font\": {\"color\": \"rgb(250,250,250)\", \"size\": 10}, \"showarrow\": false}, {\"xref\": \"x1\", \"yref\": \"y1\", \"text\": \"15,4\", \"y\": 4.0, \"x\": -6.75, \"font\": {\"color\": \"rgb(250,250,250)\", \"size\": 10}, \"showarrow\": false}, {\"xref\": \"x1\", \"yref\": \"y1\", \"text\": \"16,4\", \"y\": 4.0, \"x\": -5.75, \"font\": {\"color\": \"rgb(250,250,250)\", \"size\": 10}, \"showarrow\": false}, {\"xref\": \"x1\", \"yref\": \"y1\", \"text\": \"17,4\", \"y\": 4.0, \"x\": -4.75, \"font\": {\"color\": \"rgb(250,250,250)\", \"size\": 10}, \"showarrow\": false}, {\"xref\": \"x1\", \"yref\": \"y1\", \"text\": \"18,4\", \"y\": 4.0, \"x\": -3.75, \"font\": {\"color\": \"rgb(250,250,250)\", \"size\": 10}, \"showarrow\": false}, {\"xref\": \"x1\", \"yref\": \"y1\", \"text\": \"19,4\", \"y\": 4.0, \"x\": -2.75, \"font\": {\"color\": \"rgb(250,250,250)\", \"size\": 10}, \"showarrow\": false}, {\"xref\": \"x1\", \"yref\": \"y1\", \"text\": \"20,4\", \"y\": 4.0, \"x\": -1.75, \"font\": {\"color\": \"rgb(250,250,250)\", \"size\": 10}, \"showarrow\": false}, {\"xref\": \"x1\", \"yref\": \"y1\", \"text\": \"21,4\", \"y\": 4.0, \"x\": -0.75, \"font\": {\"color\": \"rgb(250,250,250)\", \"size\": 10}, \"showarrow\": false}, {\"xref\": \"x1\", \"yref\": \"y1\", \"text\": \"22,4\", \"y\": 4.0, \"x\": 0.25, \"font\": {\"color\": \"rgb(250,250,250)\", \"size\": 10}, \"showarrow\": false}, {\"xref\": \"x1\", \"yref\": \"y1\", \"text\": \"23,4\", \"y\": 4.0, \"x\": 1.25, \"font\": {\"color\": \"rgb(250,250,250)\", \"size\": 10}, \"showarrow\": false}, {\"xref\": \"x1\", \"yref\": \"y1\", \"text\": \"24,4\", \"y\": 4.0, \"x\": 2.25, \"font\": {\"color\": \"rgb(250,250,250)\", \"size\": 10}, \"showarrow\": false}]}, {\"linkText\": \"Export to plot.ly\", \"showLink\": true})});</script>"
      ]
     },
     "metadata": {},
     "output_type": "display_data"
    },
    {
     "data": {
      "application/vnd.plotly.v1+json": {
       "data": [
        {
         "hoverinfo": "none",
         "line": {
          "color": "rgb(210,210,210)",
          "width": 1
         },
         "mode": "lines",
         "type": "scatter",
         "x": [
          0,
          -3.25,
          null,
          0,
          3.25,
          null,
          -3.25,
          -5.25,
          null,
          -3.25,
          -1.25,
          null,
          3.25,
          2.25,
          null,
          3.25,
          4.25,
          null,
          -5.25,
          -6.25,
          null,
          -5.25,
          -4.25,
          null,
          -1.25,
          -2.25,
          null,
          -1.25,
          -0.25,
          null,
          2.25,
          1.75,
          null,
          2.25,
          2.75,
          null,
          4.25,
          3.75,
          null,
          4.25,
          4.75,
          null,
          -6.25,
          -6.75,
          null,
          -6.25,
          -5.75,
          null,
          -4.25,
          -4.75,
          null,
          -4.25,
          -3.75,
          null,
          -2.25,
          -2.75,
          null,
          -2.25,
          -1.75,
          null,
          -0.25,
          -0.75,
          null,
          -0.25,
          0.25,
          null,
          1.75,
          1.25,
          null,
          1.75,
          2.25,
          null
         ],
         "y": [
          8,
          7,
          null,
          8,
          7,
          null,
          7,
          6,
          null,
          7,
          6,
          null,
          7,
          6,
          null,
          7,
          6,
          null,
          6,
          5,
          null,
          6,
          5,
          null,
          6,
          5,
          null,
          6,
          5,
          null,
          6,
          5,
          null,
          6,
          5,
          null,
          6,
          5,
          null,
          6,
          5,
          null,
          5,
          4,
          null,
          5,
          4,
          null,
          5,
          4,
          null,
          5,
          4,
          null,
          5,
          4,
          null,
          5,
          4,
          null,
          5,
          4,
          null,
          5,
          4,
          null,
          5,
          4,
          null,
          5,
          4,
          null
         ]
        },
        {
         "hoverinfo": "text",
         "marker": {
          "color": [
           "#989898",
           "#EE7600",
           "#6175c1",
           "#EE7600",
           "#6175c1",
           "#6175c1",
           "#6175c1",
           "#EE7600",
           "#6175c1",
           "#6175c1",
           "#6175c1",
           "#6175c1",
           "#6175c1",
           "#6175c1",
           "#6175c1",
           "#6175c1",
           "#DB4551",
           "#6175c1",
           "#6175c1",
           "#6175c1",
           "#6175c1",
           "#6175c1",
           "#6175c1",
           "#6175c1",
           "#6175c1"
          ],
          "line": {
           "color": "rgb(50,50,50)",
           "width": 1
          },
          "size": 35,
          "symbol": "dot"
         },
         "mode": "markers",
         "name": "",
         "opacity": 0.8,
         "text": [
          "article",
          "1,1",
          "2,1",
          "3,2",
          "4,2",
          "5,2",
          "6,2",
          "7,3",
          "8,3",
          "9,3",
          "10,3",
          "11,3",
          "12,3",
          "13,3",
          "14,3",
          "15,4",
          "16,4",
          "17,4",
          "18,4",
          "19,4",
          "20,4",
          "21,4",
          "22,4",
          "23,4",
          "24,4"
         ],
         "type": "scatter",
         "x": [
          0,
          -3.25,
          3.25,
          -5.25,
          -1.25,
          2.25,
          4.25,
          -6.25,
          -4.25,
          -2.25,
          -0.25,
          1.75,
          2.75,
          3.75,
          4.75,
          -6.75,
          -5.75,
          -4.75,
          -3.75,
          -2.75,
          -1.75,
          -0.75,
          0.25,
          1.25,
          2.25
         ],
         "y": [
          8,
          7,
          7,
          6,
          6,
          6,
          6,
          5,
          5,
          5,
          5,
          5,
          5,
          5,
          5,
          4,
          4,
          4,
          4,
          4,
          4,
          4,
          4,
          4,
          4
         ]
        }
       ],
       "layout": {
        "annotations": [
         {
          "font": {
           "color": "rgb(250,250,250)",
           "size": 10
          },
          "showarrow": false,
          "text": "article",
          "x": 0,
          "xref": "x1",
          "y": 8,
          "yref": "y1"
         },
         {
          "font": {
           "color": "rgb(250,250,250)",
           "size": 10
          },
          "showarrow": false,
          "text": "1,1",
          "x": -3.25,
          "xref": "x1",
          "y": 7,
          "yref": "y1"
         },
         {
          "font": {
           "color": "rgb(250,250,250)",
           "size": 10
          },
          "showarrow": false,
          "text": "2,1",
          "x": 3.25,
          "xref": "x1",
          "y": 7,
          "yref": "y1"
         },
         {
          "font": {
           "color": "rgb(250,250,250)",
           "size": 10
          },
          "showarrow": false,
          "text": "3,2",
          "x": -5.25,
          "xref": "x1",
          "y": 6,
          "yref": "y1"
         },
         {
          "font": {
           "color": "rgb(250,250,250)",
           "size": 10
          },
          "showarrow": false,
          "text": "4,2",
          "x": -1.25,
          "xref": "x1",
          "y": 6,
          "yref": "y1"
         },
         {
          "font": {
           "color": "rgb(250,250,250)",
           "size": 10
          },
          "showarrow": false,
          "text": "5,2",
          "x": 2.25,
          "xref": "x1",
          "y": 6,
          "yref": "y1"
         },
         {
          "font": {
           "color": "rgb(250,250,250)",
           "size": 10
          },
          "showarrow": false,
          "text": "6,2",
          "x": 4.25,
          "xref": "x1",
          "y": 6,
          "yref": "y1"
         },
         {
          "font": {
           "color": "rgb(250,250,250)",
           "size": 10
          },
          "showarrow": false,
          "text": "7,3",
          "x": -6.25,
          "xref": "x1",
          "y": 5,
          "yref": "y1"
         },
         {
          "font": {
           "color": "rgb(250,250,250)",
           "size": 10
          },
          "showarrow": false,
          "text": "8,3",
          "x": -4.25,
          "xref": "x1",
          "y": 5,
          "yref": "y1"
         },
         {
          "font": {
           "color": "rgb(250,250,250)",
           "size": 10
          },
          "showarrow": false,
          "text": "9,3",
          "x": -2.25,
          "xref": "x1",
          "y": 5,
          "yref": "y1"
         },
         {
          "font": {
           "color": "rgb(250,250,250)",
           "size": 10
          },
          "showarrow": false,
          "text": "10,3",
          "x": -0.25,
          "xref": "x1",
          "y": 5,
          "yref": "y1"
         },
         {
          "font": {
           "color": "rgb(250,250,250)",
           "size": 10
          },
          "showarrow": false,
          "text": "11,3",
          "x": 1.75,
          "xref": "x1",
          "y": 5,
          "yref": "y1"
         },
         {
          "font": {
           "color": "rgb(250,250,250)",
           "size": 10
          },
          "showarrow": false,
          "text": "12,3",
          "x": 2.75,
          "xref": "x1",
          "y": 5,
          "yref": "y1"
         },
         {
          "font": {
           "color": "rgb(250,250,250)",
           "size": 10
          },
          "showarrow": false,
          "text": "13,3",
          "x": 3.75,
          "xref": "x1",
          "y": 5,
          "yref": "y1"
         },
         {
          "font": {
           "color": "rgb(250,250,250)",
           "size": 10
          },
          "showarrow": false,
          "text": "14,3",
          "x": 4.75,
          "xref": "x1",
          "y": 5,
          "yref": "y1"
         },
         {
          "font": {
           "color": "rgb(250,250,250)",
           "size": 10
          },
          "showarrow": false,
          "text": "15,4",
          "x": -6.75,
          "xref": "x1",
          "y": 4,
          "yref": "y1"
         },
         {
          "font": {
           "color": "rgb(250,250,250)",
           "size": 10
          },
          "showarrow": false,
          "text": "16,4",
          "x": -5.75,
          "xref": "x1",
          "y": 4,
          "yref": "y1"
         },
         {
          "font": {
           "color": "rgb(250,250,250)",
           "size": 10
          },
          "showarrow": false,
          "text": "17,4",
          "x": -4.75,
          "xref": "x1",
          "y": 4,
          "yref": "y1"
         },
         {
          "font": {
           "color": "rgb(250,250,250)",
           "size": 10
          },
          "showarrow": false,
          "text": "18,4",
          "x": -3.75,
          "xref": "x1",
          "y": 4,
          "yref": "y1"
         },
         {
          "font": {
           "color": "rgb(250,250,250)",
           "size": 10
          },
          "showarrow": false,
          "text": "19,4",
          "x": -2.75,
          "xref": "x1",
          "y": 4,
          "yref": "y1"
         },
         {
          "font": {
           "color": "rgb(250,250,250)",
           "size": 10
          },
          "showarrow": false,
          "text": "20,4",
          "x": -1.75,
          "xref": "x1",
          "y": 4,
          "yref": "y1"
         },
         {
          "font": {
           "color": "rgb(250,250,250)",
           "size": 10
          },
          "showarrow": false,
          "text": "21,4",
          "x": -0.75,
          "xref": "x1",
          "y": 4,
          "yref": "y1"
         },
         {
          "font": {
           "color": "rgb(250,250,250)",
           "size": 10
          },
          "showarrow": false,
          "text": "22,4",
          "x": 0.25,
          "xref": "x1",
          "y": 4,
          "yref": "y1"
         },
         {
          "font": {
           "color": "rgb(250,250,250)",
           "size": 10
          },
          "showarrow": false,
          "text": "23,4",
          "x": 1.25,
          "xref": "x1",
          "y": 4,
          "yref": "y1"
         },
         {
          "font": {
           "color": "rgb(250,250,250)",
           "size": 10
          },
          "showarrow": false,
          "text": "24,4",
          "x": 2.25,
          "xref": "x1",
          "y": 4,
          "yref": "y1"
         }
        ],
        "font": {
         "size": 12
        },
        "hovermode": "closest",
        "margin": {
         "b": 85,
         "l": 40,
         "r": 40,
         "t": 100
        },
        "plot_bgcolor": "rgb(248,248,248)",
        "showlegend": false,
        "title": "<thr> <com> 7 </com> <com> 3 </com> <com> 1 </com> <com> 16 </com> </thr>",
        "xaxis": {
         "showgrid": false,
         "showline": false,
         "showticklabels": false,
         "zeroline": false
        },
        "yaxis": {
         "showgrid": false,
         "showline": false,
         "showticklabels": false,
         "zeroline": false
        }
       }
      },
      "text/html": [
       "<div id=\"5727dddf-e138-4e68-bb4d-0c65e605923b\" style=\"height: 525px; width: 100%;\" class=\"plotly-graph-div\"></div><script type=\"text/javascript\">require([\"plotly\"], function(Plotly) { window.PLOTLYENV=window.PLOTLYENV || {};window.PLOTLYENV.BASE_URL=\"https://plot.ly\";Plotly.newPlot(\"5727dddf-e138-4e68-bb4d-0c65e605923b\", [{\"mode\": \"lines\", \"hoverinfo\": \"none\", \"y\": [8.0, 7.0, null, 8.0, 7.0, null, 7.0, 6.0, null, 7.0, 6.0, null, 7.0, 6.0, null, 7.0, 6.0, null, 6.0, 5.0, null, 6.0, 5.0, null, 6.0, 5.0, null, 6.0, 5.0, null, 6.0, 5.0, null, 6.0, 5.0, null, 6.0, 5.0, null, 6.0, 5.0, null, 5.0, 4.0, null, 5.0, 4.0, null, 5.0, 4.0, null, 5.0, 4.0, null, 5.0, 4.0, null, 5.0, 4.0, null, 5.0, 4.0, null, 5.0, 4.0, null, 5.0, 4.0, null, 5.0, 4.0, null], \"x\": [0.0, -3.25, null, 0.0, 3.25, null, -3.25, -5.25, null, -3.25, -1.25, null, 3.25, 2.25, null, 3.25, 4.25, null, -5.25, -6.25, null, -5.25, -4.25, null, -1.25, -2.25, null, -1.25, -0.25, null, 2.25, 1.75, null, 2.25, 2.75, null, 4.25, 3.75, null, 4.25, 4.75, null, -6.25, -6.75, null, -6.25, -5.75, null, -4.25, -4.75, null, -4.25, -3.75, null, -2.25, -2.75, null, -2.25, -1.75, null, -0.25, -0.75, null, -0.25, 0.25, null, 1.75, 1.25, null, 1.75, 2.25, null], \"line\": {\"color\": \"rgb(210,210,210)\", \"width\": 1}, \"type\": \"scatter\"}, {\"opacity\": 0.8, \"name\": \"\", \"text\": [\"article\", \"1,1\", \"2,1\", \"3,2\", \"4,2\", \"5,2\", \"6,2\", \"7,3\", \"8,3\", \"9,3\", \"10,3\", \"11,3\", \"12,3\", \"13,3\", \"14,3\", \"15,4\", \"16,4\", \"17,4\", \"18,4\", \"19,4\", \"20,4\", \"21,4\", \"22,4\", \"23,4\", \"24,4\"], \"marker\": {\"color\": [\"#989898\", \"#EE7600\", \"#6175c1\", \"#EE7600\", \"#6175c1\", \"#6175c1\", \"#6175c1\", \"#EE7600\", \"#6175c1\", \"#6175c1\", \"#6175c1\", \"#6175c1\", \"#6175c1\", \"#6175c1\", \"#6175c1\", \"#6175c1\", \"#DB4551\", \"#6175c1\", \"#6175c1\", \"#6175c1\", \"#6175c1\", \"#6175c1\", \"#6175c1\", \"#6175c1\", \"#6175c1\"], \"line\": {\"color\": \"rgb(50,50,50)\", \"width\": 1}, \"symbol\": \"dot\", \"size\": 35}, \"mode\": \"markers\", \"hoverinfo\": \"text\", \"y\": [8.0, 7.0, 7.0, 6.0, 6.0, 6.0, 6.0, 5.0, 5.0, 5.0, 5.0, 5.0, 5.0, 5.0, 5.0, 4.0, 4.0, 4.0, 4.0, 4.0, 4.0, 4.0, 4.0, 4.0, 4.0], \"x\": [0.0, -3.25, 3.25, -5.25, -1.25, 2.25, 4.25, -6.25, -4.25, -2.25, -0.25, 1.75, 2.75, 3.75, 4.75, -6.75, -5.75, -4.75, -3.75, -2.75, -1.75, -0.75, 0.25, 1.25, 2.25], \"type\": \"scatter\"}], {\"showlegend\": false, \"title\": \"<thr> <com> 7 </com> <com> 3 </com> <com> 1 </com> <com> 16 </com> </thr>\", \"plot_bgcolor\": \"rgb(248,248,248)\", \"yaxis\": {\"zeroline\": false, \"showline\": false, \"showticklabels\": false, \"showgrid\": false}, \"xaxis\": {\"zeroline\": false, \"showline\": false, \"showticklabels\": false, \"showgrid\": false}, \"hovermode\": \"closest\", \"font\": {\"size\": 12}, \"margin\": {\"r\": 40, \"b\": 85, \"t\": 100, \"l\": 40}, \"annotations\": [{\"xref\": \"x1\", \"yref\": \"y1\", \"text\": \"article\", \"y\": 8.0, \"x\": 0.0, \"font\": {\"color\": \"rgb(250,250,250)\", \"size\": 10}, \"showarrow\": false}, {\"xref\": \"x1\", \"yref\": \"y1\", \"text\": \"1,1\", \"y\": 7.0, \"x\": -3.25, \"font\": {\"color\": \"rgb(250,250,250)\", \"size\": 10}, \"showarrow\": false}, {\"xref\": \"x1\", \"yref\": \"y1\", \"text\": \"2,1\", \"y\": 7.0, \"x\": 3.25, \"font\": {\"color\": \"rgb(250,250,250)\", \"size\": 10}, \"showarrow\": false}, {\"xref\": \"x1\", \"yref\": \"y1\", \"text\": \"3,2\", \"y\": 6.0, \"x\": -5.25, \"font\": {\"color\": \"rgb(250,250,250)\", \"size\": 10}, \"showarrow\": false}, {\"xref\": \"x1\", \"yref\": \"y1\", \"text\": \"4,2\", \"y\": 6.0, \"x\": -1.25, \"font\": {\"color\": \"rgb(250,250,250)\", \"size\": 10}, \"showarrow\": false}, {\"xref\": \"x1\", \"yref\": \"y1\", \"text\": \"5,2\", \"y\": 6.0, \"x\": 2.25, \"font\": {\"color\": \"rgb(250,250,250)\", \"size\": 10}, \"showarrow\": false}, {\"xref\": \"x1\", \"yref\": \"y1\", \"text\": \"6,2\", \"y\": 6.0, \"x\": 4.25, \"font\": {\"color\": \"rgb(250,250,250)\", \"size\": 10}, \"showarrow\": false}, {\"xref\": \"x1\", \"yref\": \"y1\", \"text\": \"7,3\", \"y\": 5.0, \"x\": -6.25, \"font\": {\"color\": \"rgb(250,250,250)\", \"size\": 10}, \"showarrow\": false}, {\"xref\": \"x1\", \"yref\": \"y1\", \"text\": \"8,3\", \"y\": 5.0, \"x\": -4.25, \"font\": {\"color\": \"rgb(250,250,250)\", \"size\": 10}, \"showarrow\": false}, {\"xref\": \"x1\", \"yref\": \"y1\", \"text\": \"9,3\", \"y\": 5.0, \"x\": -2.25, \"font\": {\"color\": \"rgb(250,250,250)\", \"size\": 10}, \"showarrow\": false}, {\"xref\": \"x1\", \"yref\": \"y1\", \"text\": \"10,3\", \"y\": 5.0, \"x\": -0.25, \"font\": {\"color\": \"rgb(250,250,250)\", \"size\": 10}, \"showarrow\": false}, {\"xref\": \"x1\", \"yref\": \"y1\", \"text\": \"11,3\", \"y\": 5.0, \"x\": 1.75, \"font\": {\"color\": \"rgb(250,250,250)\", \"size\": 10}, \"showarrow\": false}, {\"xref\": \"x1\", \"yref\": \"y1\", \"text\": \"12,3\", \"y\": 5.0, \"x\": 2.75, \"font\": {\"color\": \"rgb(250,250,250)\", \"size\": 10}, \"showarrow\": false}, {\"xref\": \"x1\", \"yref\": \"y1\", \"text\": \"13,3\", \"y\": 5.0, \"x\": 3.75, \"font\": {\"color\": \"rgb(250,250,250)\", \"size\": 10}, \"showarrow\": false}, {\"xref\": \"x1\", \"yref\": \"y1\", \"text\": \"14,3\", \"y\": 5.0, \"x\": 4.75, \"font\": {\"color\": \"rgb(250,250,250)\", \"size\": 10}, \"showarrow\": false}, {\"xref\": \"x1\", \"yref\": \"y1\", \"text\": \"15,4\", \"y\": 4.0, \"x\": -6.75, \"font\": {\"color\": \"rgb(250,250,250)\", \"size\": 10}, \"showarrow\": false}, {\"xref\": \"x1\", \"yref\": \"y1\", \"text\": \"16,4\", \"y\": 4.0, \"x\": -5.75, \"font\": {\"color\": \"rgb(250,250,250)\", \"size\": 10}, \"showarrow\": false}, {\"xref\": \"x1\", \"yref\": \"y1\", \"text\": \"17,4\", \"y\": 4.0, \"x\": -4.75, \"font\": {\"color\": \"rgb(250,250,250)\", \"size\": 10}, \"showarrow\": false}, {\"xref\": \"x1\", \"yref\": \"y1\", \"text\": \"18,4\", \"y\": 4.0, \"x\": -3.75, \"font\": {\"color\": \"rgb(250,250,250)\", \"size\": 10}, \"showarrow\": false}, {\"xref\": \"x1\", \"yref\": \"y1\", \"text\": \"19,4\", \"y\": 4.0, \"x\": -2.75, \"font\": {\"color\": \"rgb(250,250,250)\", \"size\": 10}, \"showarrow\": false}, {\"xref\": \"x1\", \"yref\": \"y1\", \"text\": \"20,4\", \"y\": 4.0, \"x\": -1.75, \"font\": {\"color\": \"rgb(250,250,250)\", \"size\": 10}, \"showarrow\": false}, {\"xref\": \"x1\", \"yref\": \"y1\", \"text\": \"21,4\", \"y\": 4.0, \"x\": -0.75, \"font\": {\"color\": \"rgb(250,250,250)\", \"size\": 10}, \"showarrow\": false}, {\"xref\": \"x1\", \"yref\": \"y1\", \"text\": \"22,4\", \"y\": 4.0, \"x\": 0.25, \"font\": {\"color\": \"rgb(250,250,250)\", \"size\": 10}, \"showarrow\": false}, {\"xref\": \"x1\", \"yref\": \"y1\", \"text\": \"23,4\", \"y\": 4.0, \"x\": 1.25, \"font\": {\"color\": \"rgb(250,250,250)\", \"size\": 10}, \"showarrow\": false}, {\"xref\": \"x1\", \"yref\": \"y1\", \"text\": \"24,4\", \"y\": 4.0, \"x\": 2.25, \"font\": {\"color\": \"rgb(250,250,250)\", \"size\": 10}, \"showarrow\": false}]}, {\"linkText\": \"Export to plot.ly\", \"showLink\": true})});</script>"
      ],
      "text/vnd.plotly.v1+html": [
       "<div id=\"5727dddf-e138-4e68-bb4d-0c65e605923b\" style=\"height: 525px; width: 100%;\" class=\"plotly-graph-div\"></div><script type=\"text/javascript\">require([\"plotly\"], function(Plotly) { window.PLOTLYENV=window.PLOTLYENV || {};window.PLOTLYENV.BASE_URL=\"https://plot.ly\";Plotly.newPlot(\"5727dddf-e138-4e68-bb4d-0c65e605923b\", [{\"mode\": \"lines\", \"hoverinfo\": \"none\", \"y\": [8.0, 7.0, null, 8.0, 7.0, null, 7.0, 6.0, null, 7.0, 6.0, null, 7.0, 6.0, null, 7.0, 6.0, null, 6.0, 5.0, null, 6.0, 5.0, null, 6.0, 5.0, null, 6.0, 5.0, null, 6.0, 5.0, null, 6.0, 5.0, null, 6.0, 5.0, null, 6.0, 5.0, null, 5.0, 4.0, null, 5.0, 4.0, null, 5.0, 4.0, null, 5.0, 4.0, null, 5.0, 4.0, null, 5.0, 4.0, null, 5.0, 4.0, null, 5.0, 4.0, null, 5.0, 4.0, null, 5.0, 4.0, null], \"x\": [0.0, -3.25, null, 0.0, 3.25, null, -3.25, -5.25, null, -3.25, -1.25, null, 3.25, 2.25, null, 3.25, 4.25, null, -5.25, -6.25, null, -5.25, -4.25, null, -1.25, -2.25, null, -1.25, -0.25, null, 2.25, 1.75, null, 2.25, 2.75, null, 4.25, 3.75, null, 4.25, 4.75, null, -6.25, -6.75, null, -6.25, -5.75, null, -4.25, -4.75, null, -4.25, -3.75, null, -2.25, -2.75, null, -2.25, -1.75, null, -0.25, -0.75, null, -0.25, 0.25, null, 1.75, 1.25, null, 1.75, 2.25, null], \"line\": {\"color\": \"rgb(210,210,210)\", \"width\": 1}, \"type\": \"scatter\"}, {\"opacity\": 0.8, \"name\": \"\", \"text\": [\"article\", \"1,1\", \"2,1\", \"3,2\", \"4,2\", \"5,2\", \"6,2\", \"7,3\", \"8,3\", \"9,3\", \"10,3\", \"11,3\", \"12,3\", \"13,3\", \"14,3\", \"15,4\", \"16,4\", \"17,4\", \"18,4\", \"19,4\", \"20,4\", \"21,4\", \"22,4\", \"23,4\", \"24,4\"], \"marker\": {\"color\": [\"#989898\", \"#EE7600\", \"#6175c1\", \"#EE7600\", \"#6175c1\", \"#6175c1\", \"#6175c1\", \"#EE7600\", \"#6175c1\", \"#6175c1\", \"#6175c1\", \"#6175c1\", \"#6175c1\", \"#6175c1\", \"#6175c1\", \"#6175c1\", \"#DB4551\", \"#6175c1\", \"#6175c1\", \"#6175c1\", \"#6175c1\", \"#6175c1\", \"#6175c1\", \"#6175c1\", \"#6175c1\"], \"line\": {\"color\": \"rgb(50,50,50)\", \"width\": 1}, \"symbol\": \"dot\", \"size\": 35}, \"mode\": \"markers\", \"hoverinfo\": \"text\", \"y\": [8.0, 7.0, 7.0, 6.0, 6.0, 6.0, 6.0, 5.0, 5.0, 5.0, 5.0, 5.0, 5.0, 5.0, 5.0, 4.0, 4.0, 4.0, 4.0, 4.0, 4.0, 4.0, 4.0, 4.0, 4.0], \"x\": [0.0, -3.25, 3.25, -5.25, -1.25, 2.25, 4.25, -6.25, -4.25, -2.25, -0.25, 1.75, 2.75, 3.75, 4.75, -6.75, -5.75, -4.75, -3.75, -2.75, -1.75, -0.75, 0.25, 1.25, 2.25], \"type\": \"scatter\"}], {\"showlegend\": false, \"title\": \"<thr> <com> 7 </com> <com> 3 </com> <com> 1 </com> <com> 16 </com> </thr>\", \"plot_bgcolor\": \"rgb(248,248,248)\", \"yaxis\": {\"zeroline\": false, \"showline\": false, \"showticklabels\": false, \"showgrid\": false}, \"xaxis\": {\"zeroline\": false, \"showline\": false, \"showticklabels\": false, \"showgrid\": false}, \"hovermode\": \"closest\", \"font\": {\"size\": 12}, \"margin\": {\"r\": 40, \"b\": 85, \"t\": 100, \"l\": 40}, \"annotations\": [{\"xref\": \"x1\", \"yref\": \"y1\", \"text\": \"article\", \"y\": 8.0, \"x\": 0.0, \"font\": {\"color\": \"rgb(250,250,250)\", \"size\": 10}, \"showarrow\": false}, {\"xref\": \"x1\", \"yref\": \"y1\", \"text\": \"1,1\", \"y\": 7.0, \"x\": -3.25, \"font\": {\"color\": \"rgb(250,250,250)\", \"size\": 10}, \"showarrow\": false}, {\"xref\": \"x1\", \"yref\": \"y1\", \"text\": \"2,1\", \"y\": 7.0, \"x\": 3.25, \"font\": {\"color\": \"rgb(250,250,250)\", \"size\": 10}, \"showarrow\": false}, {\"xref\": \"x1\", \"yref\": \"y1\", \"text\": \"3,2\", \"y\": 6.0, \"x\": -5.25, \"font\": {\"color\": \"rgb(250,250,250)\", \"size\": 10}, \"showarrow\": false}, {\"xref\": \"x1\", \"yref\": \"y1\", \"text\": \"4,2\", \"y\": 6.0, \"x\": -1.25, \"font\": {\"color\": \"rgb(250,250,250)\", \"size\": 10}, \"showarrow\": false}, {\"xref\": \"x1\", \"yref\": \"y1\", \"text\": \"5,2\", \"y\": 6.0, \"x\": 2.25, \"font\": {\"color\": \"rgb(250,250,250)\", \"size\": 10}, \"showarrow\": false}, {\"xref\": \"x1\", \"yref\": \"y1\", \"text\": \"6,2\", \"y\": 6.0, \"x\": 4.25, \"font\": {\"color\": \"rgb(250,250,250)\", \"size\": 10}, \"showarrow\": false}, {\"xref\": \"x1\", \"yref\": \"y1\", \"text\": \"7,3\", \"y\": 5.0, \"x\": -6.25, \"font\": {\"color\": \"rgb(250,250,250)\", \"size\": 10}, \"showarrow\": false}, {\"xref\": \"x1\", \"yref\": \"y1\", \"text\": \"8,3\", \"y\": 5.0, \"x\": -4.25, \"font\": {\"color\": \"rgb(250,250,250)\", \"size\": 10}, \"showarrow\": false}, {\"xref\": \"x1\", \"yref\": \"y1\", \"text\": \"9,3\", \"y\": 5.0, \"x\": -2.25, \"font\": {\"color\": \"rgb(250,250,250)\", \"size\": 10}, \"showarrow\": false}, {\"xref\": \"x1\", \"yref\": \"y1\", \"text\": \"10,3\", \"y\": 5.0, \"x\": -0.25, \"font\": {\"color\": \"rgb(250,250,250)\", \"size\": 10}, \"showarrow\": false}, {\"xref\": \"x1\", \"yref\": \"y1\", \"text\": \"11,3\", \"y\": 5.0, \"x\": 1.75, \"font\": {\"color\": \"rgb(250,250,250)\", \"size\": 10}, \"showarrow\": false}, {\"xref\": \"x1\", \"yref\": \"y1\", \"text\": \"12,3\", \"y\": 5.0, \"x\": 2.75, \"font\": {\"color\": \"rgb(250,250,250)\", \"size\": 10}, \"showarrow\": false}, {\"xref\": \"x1\", \"yref\": \"y1\", \"text\": \"13,3\", \"y\": 5.0, \"x\": 3.75, \"font\": {\"color\": \"rgb(250,250,250)\", \"size\": 10}, \"showarrow\": false}, {\"xref\": \"x1\", \"yref\": \"y1\", \"text\": \"14,3\", \"y\": 5.0, \"x\": 4.75, \"font\": {\"color\": \"rgb(250,250,250)\", \"size\": 10}, \"showarrow\": false}, {\"xref\": \"x1\", \"yref\": \"y1\", \"text\": \"15,4\", \"y\": 4.0, \"x\": -6.75, \"font\": {\"color\": \"rgb(250,250,250)\", \"size\": 10}, \"showarrow\": false}, {\"xref\": \"x1\", \"yref\": \"y1\", \"text\": \"16,4\", \"y\": 4.0, \"x\": -5.75, \"font\": {\"color\": \"rgb(250,250,250)\", \"size\": 10}, \"showarrow\": false}, {\"xref\": \"x1\", \"yref\": \"y1\", \"text\": \"17,4\", \"y\": 4.0, \"x\": -4.75, \"font\": {\"color\": \"rgb(250,250,250)\", \"size\": 10}, \"showarrow\": false}, {\"xref\": \"x1\", \"yref\": \"y1\", \"text\": \"18,4\", \"y\": 4.0, \"x\": -3.75, \"font\": {\"color\": \"rgb(250,250,250)\", \"size\": 10}, \"showarrow\": false}, {\"xref\": \"x1\", \"yref\": \"y1\", \"text\": \"19,4\", \"y\": 4.0, \"x\": -2.75, \"font\": {\"color\": \"rgb(250,250,250)\", \"size\": 10}, \"showarrow\": false}, {\"xref\": \"x1\", \"yref\": \"y1\", \"text\": \"20,4\", \"y\": 4.0, \"x\": -1.75, \"font\": {\"color\": \"rgb(250,250,250)\", \"size\": 10}, \"showarrow\": false}, {\"xref\": \"x1\", \"yref\": \"y1\", \"text\": \"21,4\", \"y\": 4.0, \"x\": -0.75, \"font\": {\"color\": \"rgb(250,250,250)\", \"size\": 10}, \"showarrow\": false}, {\"xref\": \"x1\", \"yref\": \"y1\", \"text\": \"22,4\", \"y\": 4.0, \"x\": 0.25, \"font\": {\"color\": \"rgb(250,250,250)\", \"size\": 10}, \"showarrow\": false}, {\"xref\": \"x1\", \"yref\": \"y1\", \"text\": \"23,4\", \"y\": 4.0, \"x\": 1.25, \"font\": {\"color\": \"rgb(250,250,250)\", \"size\": 10}, \"showarrow\": false}, {\"xref\": \"x1\", \"yref\": \"y1\", \"text\": \"24,4\", \"y\": 4.0, \"x\": 2.25, \"font\": {\"color\": \"rgb(250,250,250)\", \"size\": 10}, \"showarrow\": false}]}, {\"linkText\": \"Export to plot.ly\", \"showLink\": true})});</script>"
      ]
     },
     "metadata": {},
     "output_type": "display_data"
    },
    {
     "data": {
      "application/vnd.plotly.v1+json": {
       "data": [
        {
         "hoverinfo": "none",
         "line": {
          "color": "rgb(210,210,210)",
          "width": 1
         },
         "mode": "lines",
         "type": "scatter",
         "x": [
          0,
          -3.25,
          null,
          0,
          3.25,
          null,
          -3.25,
          -5.25,
          null,
          -3.25,
          -1.25,
          null,
          3.25,
          2.25,
          null,
          3.25,
          4.25,
          null,
          -5.25,
          -6.25,
          null,
          -5.25,
          -4.25,
          null,
          -1.25,
          -2.25,
          null,
          -1.25,
          -0.25,
          null,
          2.25,
          1.75,
          null,
          2.25,
          2.75,
          null,
          4.25,
          3.75,
          null,
          4.25,
          4.75,
          null,
          -6.25,
          -6.75,
          null,
          -6.25,
          -5.75,
          null,
          -4.25,
          -4.75,
          null,
          -4.25,
          -3.75,
          null,
          -2.25,
          -2.75,
          null,
          -2.25,
          -1.75,
          null,
          -0.25,
          -0.75,
          null,
          -0.25,
          0.25,
          null,
          1.75,
          1.25,
          null,
          1.75,
          2.25,
          null
         ],
         "y": [
          8,
          7,
          null,
          8,
          7,
          null,
          7,
          6,
          null,
          7,
          6,
          null,
          7,
          6,
          null,
          7,
          6,
          null,
          6,
          5,
          null,
          6,
          5,
          null,
          6,
          5,
          null,
          6,
          5,
          null,
          6,
          5,
          null,
          6,
          5,
          null,
          6,
          5,
          null,
          6,
          5,
          null,
          5,
          4,
          null,
          5,
          4,
          null,
          5,
          4,
          null,
          5,
          4,
          null,
          5,
          4,
          null,
          5,
          4,
          null,
          5,
          4,
          null,
          5,
          4,
          null,
          5,
          4,
          null,
          5,
          4,
          null
         ]
        },
        {
         "hoverinfo": "text",
         "marker": {
          "color": [
           "#989898",
           "#EE7600",
           "#6175c1",
           "#EE7600",
           "#6175c1",
           "#6175c1",
           "#6175c1",
           "#6175c1",
           "#EE7600",
           "#6175c1",
           "#6175c1",
           "#6175c1",
           "#6175c1",
           "#6175c1",
           "#6175c1",
           "#6175c1",
           "#6175c1",
           "#DB4551",
           "#6175c1",
           "#6175c1",
           "#6175c1",
           "#6175c1",
           "#6175c1",
           "#6175c1",
           "#6175c1"
          ],
          "line": {
           "color": "rgb(50,50,50)",
           "width": 1
          },
          "size": 35,
          "symbol": "dot"
         },
         "mode": "markers",
         "name": "",
         "opacity": 0.8,
         "text": [
          "article",
          "1,1",
          "2,1",
          "3,2",
          "4,2",
          "5,2",
          "6,2",
          "7,3",
          "8,3",
          "9,3",
          "10,3",
          "11,3",
          "12,3",
          "13,3",
          "14,3",
          "15,4",
          "16,4",
          "17,4",
          "18,4",
          "19,4",
          "20,4",
          "21,4",
          "22,4",
          "23,4",
          "24,4"
         ],
         "type": "scatter",
         "x": [
          0,
          -3.25,
          3.25,
          -5.25,
          -1.25,
          2.25,
          4.25,
          -6.25,
          -4.25,
          -2.25,
          -0.25,
          1.75,
          2.75,
          3.75,
          4.75,
          -6.75,
          -5.75,
          -4.75,
          -3.75,
          -2.75,
          -1.75,
          -0.75,
          0.25,
          1.25,
          2.25
         ],
         "y": [
          8,
          7,
          7,
          6,
          6,
          6,
          6,
          5,
          5,
          5,
          5,
          5,
          5,
          5,
          5,
          4,
          4,
          4,
          4,
          4,
          4,
          4,
          4,
          4,
          4
         ]
        }
       ],
       "layout": {
        "annotations": [
         {
          "font": {
           "color": "rgb(250,250,250)",
           "size": 10
          },
          "showarrow": false,
          "text": "article",
          "x": 0,
          "xref": "x1",
          "y": 8,
          "yref": "y1"
         },
         {
          "font": {
           "color": "rgb(250,250,250)",
           "size": 10
          },
          "showarrow": false,
          "text": "1,1",
          "x": -3.25,
          "xref": "x1",
          "y": 7,
          "yref": "y1"
         },
         {
          "font": {
           "color": "rgb(250,250,250)",
           "size": 10
          },
          "showarrow": false,
          "text": "2,1",
          "x": 3.25,
          "xref": "x1",
          "y": 7,
          "yref": "y1"
         },
         {
          "font": {
           "color": "rgb(250,250,250)",
           "size": 10
          },
          "showarrow": false,
          "text": "3,2",
          "x": -5.25,
          "xref": "x1",
          "y": 6,
          "yref": "y1"
         },
         {
          "font": {
           "color": "rgb(250,250,250)",
           "size": 10
          },
          "showarrow": false,
          "text": "4,2",
          "x": -1.25,
          "xref": "x1",
          "y": 6,
          "yref": "y1"
         },
         {
          "font": {
           "color": "rgb(250,250,250)",
           "size": 10
          },
          "showarrow": false,
          "text": "5,2",
          "x": 2.25,
          "xref": "x1",
          "y": 6,
          "yref": "y1"
         },
         {
          "font": {
           "color": "rgb(250,250,250)",
           "size": 10
          },
          "showarrow": false,
          "text": "6,2",
          "x": 4.25,
          "xref": "x1",
          "y": 6,
          "yref": "y1"
         },
         {
          "font": {
           "color": "rgb(250,250,250)",
           "size": 10
          },
          "showarrow": false,
          "text": "7,3",
          "x": -6.25,
          "xref": "x1",
          "y": 5,
          "yref": "y1"
         },
         {
          "font": {
           "color": "rgb(250,250,250)",
           "size": 10
          },
          "showarrow": false,
          "text": "8,3",
          "x": -4.25,
          "xref": "x1",
          "y": 5,
          "yref": "y1"
         },
         {
          "font": {
           "color": "rgb(250,250,250)",
           "size": 10
          },
          "showarrow": false,
          "text": "9,3",
          "x": -2.25,
          "xref": "x1",
          "y": 5,
          "yref": "y1"
         },
         {
          "font": {
           "color": "rgb(250,250,250)",
           "size": 10
          },
          "showarrow": false,
          "text": "10,3",
          "x": -0.25,
          "xref": "x1",
          "y": 5,
          "yref": "y1"
         },
         {
          "font": {
           "color": "rgb(250,250,250)",
           "size": 10
          },
          "showarrow": false,
          "text": "11,3",
          "x": 1.75,
          "xref": "x1",
          "y": 5,
          "yref": "y1"
         },
         {
          "font": {
           "color": "rgb(250,250,250)",
           "size": 10
          },
          "showarrow": false,
          "text": "12,3",
          "x": 2.75,
          "xref": "x1",
          "y": 5,
          "yref": "y1"
         },
         {
          "font": {
           "color": "rgb(250,250,250)",
           "size": 10
          },
          "showarrow": false,
          "text": "13,3",
          "x": 3.75,
          "xref": "x1",
          "y": 5,
          "yref": "y1"
         },
         {
          "font": {
           "color": "rgb(250,250,250)",
           "size": 10
          },
          "showarrow": false,
          "text": "14,3",
          "x": 4.75,
          "xref": "x1",
          "y": 5,
          "yref": "y1"
         },
         {
          "font": {
           "color": "rgb(250,250,250)",
           "size": 10
          },
          "showarrow": false,
          "text": "15,4",
          "x": -6.75,
          "xref": "x1",
          "y": 4,
          "yref": "y1"
         },
         {
          "font": {
           "color": "rgb(250,250,250)",
           "size": 10
          },
          "showarrow": false,
          "text": "16,4",
          "x": -5.75,
          "xref": "x1",
          "y": 4,
          "yref": "y1"
         },
         {
          "font": {
           "color": "rgb(250,250,250)",
           "size": 10
          },
          "showarrow": false,
          "text": "17,4",
          "x": -4.75,
          "xref": "x1",
          "y": 4,
          "yref": "y1"
         },
         {
          "font": {
           "color": "rgb(250,250,250)",
           "size": 10
          },
          "showarrow": false,
          "text": "18,4",
          "x": -3.75,
          "xref": "x1",
          "y": 4,
          "yref": "y1"
         },
         {
          "font": {
           "color": "rgb(250,250,250)",
           "size": 10
          },
          "showarrow": false,
          "text": "19,4",
          "x": -2.75,
          "xref": "x1",
          "y": 4,
          "yref": "y1"
         },
         {
          "font": {
           "color": "rgb(250,250,250)",
           "size": 10
          },
          "showarrow": false,
          "text": "20,4",
          "x": -1.75,
          "xref": "x1",
          "y": 4,
          "yref": "y1"
         },
         {
          "font": {
           "color": "rgb(250,250,250)",
           "size": 10
          },
          "showarrow": false,
          "text": "21,4",
          "x": -0.75,
          "xref": "x1",
          "y": 4,
          "yref": "y1"
         },
         {
          "font": {
           "color": "rgb(250,250,250)",
           "size": 10
          },
          "showarrow": false,
          "text": "22,4",
          "x": 0.25,
          "xref": "x1",
          "y": 4,
          "yref": "y1"
         },
         {
          "font": {
           "color": "rgb(250,250,250)",
           "size": 10
          },
          "showarrow": false,
          "text": "23,4",
          "x": 1.25,
          "xref": "x1",
          "y": 4,
          "yref": "y1"
         },
         {
          "font": {
           "color": "rgb(250,250,250)",
           "size": 10
          },
          "showarrow": false,
          "text": "24,4",
          "x": 2.25,
          "xref": "x1",
          "y": 4,
          "yref": "y1"
         }
        ],
        "font": {
         "size": 12
        },
        "hovermode": "closest",
        "margin": {
         "b": 85,
         "l": 40,
         "r": 40,
         "t": 100
        },
        "plot_bgcolor": "rgb(248,248,248)",
        "showlegend": false,
        "title": "<thr> <com> 8 </com> <com> 3 </com> <com> 1 </com> <com> 17 </com> </thr>",
        "xaxis": {
         "showgrid": false,
         "showline": false,
         "showticklabels": false,
         "zeroline": false
        },
        "yaxis": {
         "showgrid": false,
         "showline": false,
         "showticklabels": false,
         "zeroline": false
        }
       }
      },
      "text/html": [
       "<div id=\"e2fd6a44-2f1f-44c8-912b-256f63bbe582\" style=\"height: 525px; width: 100%;\" class=\"plotly-graph-div\"></div><script type=\"text/javascript\">require([\"plotly\"], function(Plotly) { window.PLOTLYENV=window.PLOTLYENV || {};window.PLOTLYENV.BASE_URL=\"https://plot.ly\";Plotly.newPlot(\"e2fd6a44-2f1f-44c8-912b-256f63bbe582\", [{\"mode\": \"lines\", \"hoverinfo\": \"none\", \"y\": [8.0, 7.0, null, 8.0, 7.0, null, 7.0, 6.0, null, 7.0, 6.0, null, 7.0, 6.0, null, 7.0, 6.0, null, 6.0, 5.0, null, 6.0, 5.0, null, 6.0, 5.0, null, 6.0, 5.0, null, 6.0, 5.0, null, 6.0, 5.0, null, 6.0, 5.0, null, 6.0, 5.0, null, 5.0, 4.0, null, 5.0, 4.0, null, 5.0, 4.0, null, 5.0, 4.0, null, 5.0, 4.0, null, 5.0, 4.0, null, 5.0, 4.0, null, 5.0, 4.0, null, 5.0, 4.0, null, 5.0, 4.0, null], \"x\": [0.0, -3.25, null, 0.0, 3.25, null, -3.25, -5.25, null, -3.25, -1.25, null, 3.25, 2.25, null, 3.25, 4.25, null, -5.25, -6.25, null, -5.25, -4.25, null, -1.25, -2.25, null, -1.25, -0.25, null, 2.25, 1.75, null, 2.25, 2.75, null, 4.25, 3.75, null, 4.25, 4.75, null, -6.25, -6.75, null, -6.25, -5.75, null, -4.25, -4.75, null, -4.25, -3.75, null, -2.25, -2.75, null, -2.25, -1.75, null, -0.25, -0.75, null, -0.25, 0.25, null, 1.75, 1.25, null, 1.75, 2.25, null], \"line\": {\"color\": \"rgb(210,210,210)\", \"width\": 1}, \"type\": \"scatter\"}, {\"opacity\": 0.8, \"name\": \"\", \"text\": [\"article\", \"1,1\", \"2,1\", \"3,2\", \"4,2\", \"5,2\", \"6,2\", \"7,3\", \"8,3\", \"9,3\", \"10,3\", \"11,3\", \"12,3\", \"13,3\", \"14,3\", \"15,4\", \"16,4\", \"17,4\", \"18,4\", \"19,4\", \"20,4\", \"21,4\", \"22,4\", \"23,4\", \"24,4\"], \"marker\": {\"color\": [\"#989898\", \"#EE7600\", \"#6175c1\", \"#EE7600\", \"#6175c1\", \"#6175c1\", \"#6175c1\", \"#6175c1\", \"#EE7600\", \"#6175c1\", \"#6175c1\", \"#6175c1\", \"#6175c1\", \"#6175c1\", \"#6175c1\", \"#6175c1\", \"#6175c1\", \"#DB4551\", \"#6175c1\", \"#6175c1\", \"#6175c1\", \"#6175c1\", \"#6175c1\", \"#6175c1\", \"#6175c1\"], \"line\": {\"color\": \"rgb(50,50,50)\", \"width\": 1}, \"symbol\": \"dot\", \"size\": 35}, \"mode\": \"markers\", \"hoverinfo\": \"text\", \"y\": [8.0, 7.0, 7.0, 6.0, 6.0, 6.0, 6.0, 5.0, 5.0, 5.0, 5.0, 5.0, 5.0, 5.0, 5.0, 4.0, 4.0, 4.0, 4.0, 4.0, 4.0, 4.0, 4.0, 4.0, 4.0], \"x\": [0.0, -3.25, 3.25, -5.25, -1.25, 2.25, 4.25, -6.25, -4.25, -2.25, -0.25, 1.75, 2.75, 3.75, 4.75, -6.75, -5.75, -4.75, -3.75, -2.75, -1.75, -0.75, 0.25, 1.25, 2.25], \"type\": \"scatter\"}], {\"showlegend\": false, \"title\": \"<thr> <com> 8 </com> <com> 3 </com> <com> 1 </com> <com> 17 </com> </thr>\", \"plot_bgcolor\": \"rgb(248,248,248)\", \"yaxis\": {\"zeroline\": false, \"showline\": false, \"showticklabels\": false, \"showgrid\": false}, \"xaxis\": {\"zeroline\": false, \"showline\": false, \"showticklabels\": false, \"showgrid\": false}, \"hovermode\": \"closest\", \"font\": {\"size\": 12}, \"margin\": {\"r\": 40, \"b\": 85, \"t\": 100, \"l\": 40}, \"annotations\": [{\"xref\": \"x1\", \"yref\": \"y1\", \"text\": \"article\", \"y\": 8.0, \"x\": 0.0, \"font\": {\"color\": \"rgb(250,250,250)\", \"size\": 10}, \"showarrow\": false}, {\"xref\": \"x1\", \"yref\": \"y1\", \"text\": \"1,1\", \"y\": 7.0, \"x\": -3.25, \"font\": {\"color\": \"rgb(250,250,250)\", \"size\": 10}, \"showarrow\": false}, {\"xref\": \"x1\", \"yref\": \"y1\", \"text\": \"2,1\", \"y\": 7.0, \"x\": 3.25, \"font\": {\"color\": \"rgb(250,250,250)\", \"size\": 10}, \"showarrow\": false}, {\"xref\": \"x1\", \"yref\": \"y1\", \"text\": \"3,2\", \"y\": 6.0, \"x\": -5.25, \"font\": {\"color\": \"rgb(250,250,250)\", \"size\": 10}, \"showarrow\": false}, {\"xref\": \"x1\", \"yref\": \"y1\", \"text\": \"4,2\", \"y\": 6.0, \"x\": -1.25, \"font\": {\"color\": \"rgb(250,250,250)\", \"size\": 10}, \"showarrow\": false}, {\"xref\": \"x1\", \"yref\": \"y1\", \"text\": \"5,2\", \"y\": 6.0, \"x\": 2.25, \"font\": {\"color\": \"rgb(250,250,250)\", \"size\": 10}, \"showarrow\": false}, {\"xref\": \"x1\", \"yref\": \"y1\", \"text\": \"6,2\", \"y\": 6.0, \"x\": 4.25, \"font\": {\"color\": \"rgb(250,250,250)\", \"size\": 10}, \"showarrow\": false}, {\"xref\": \"x1\", \"yref\": \"y1\", \"text\": \"7,3\", \"y\": 5.0, \"x\": -6.25, \"font\": {\"color\": \"rgb(250,250,250)\", \"size\": 10}, \"showarrow\": false}, {\"xref\": \"x1\", \"yref\": \"y1\", \"text\": \"8,3\", \"y\": 5.0, \"x\": -4.25, \"font\": {\"color\": \"rgb(250,250,250)\", \"size\": 10}, \"showarrow\": false}, {\"xref\": \"x1\", \"yref\": \"y1\", \"text\": \"9,3\", \"y\": 5.0, \"x\": -2.25, \"font\": {\"color\": \"rgb(250,250,250)\", \"size\": 10}, \"showarrow\": false}, {\"xref\": \"x1\", \"yref\": \"y1\", \"text\": \"10,3\", \"y\": 5.0, \"x\": -0.25, \"font\": {\"color\": \"rgb(250,250,250)\", \"size\": 10}, \"showarrow\": false}, {\"xref\": \"x1\", \"yref\": \"y1\", \"text\": \"11,3\", \"y\": 5.0, \"x\": 1.75, \"font\": {\"color\": \"rgb(250,250,250)\", \"size\": 10}, \"showarrow\": false}, {\"xref\": \"x1\", \"yref\": \"y1\", \"text\": \"12,3\", \"y\": 5.0, \"x\": 2.75, \"font\": {\"color\": \"rgb(250,250,250)\", \"size\": 10}, \"showarrow\": false}, {\"xref\": \"x1\", \"yref\": \"y1\", \"text\": \"13,3\", \"y\": 5.0, \"x\": 3.75, \"font\": {\"color\": \"rgb(250,250,250)\", \"size\": 10}, \"showarrow\": false}, {\"xref\": \"x1\", \"yref\": \"y1\", \"text\": \"14,3\", \"y\": 5.0, \"x\": 4.75, \"font\": {\"color\": \"rgb(250,250,250)\", \"size\": 10}, \"showarrow\": false}, {\"xref\": \"x1\", \"yref\": \"y1\", \"text\": \"15,4\", \"y\": 4.0, \"x\": -6.75, \"font\": {\"color\": \"rgb(250,250,250)\", \"size\": 10}, \"showarrow\": false}, {\"xref\": \"x1\", \"yref\": \"y1\", \"text\": \"16,4\", \"y\": 4.0, \"x\": -5.75, \"font\": {\"color\": \"rgb(250,250,250)\", \"size\": 10}, \"showarrow\": false}, {\"xref\": \"x1\", \"yref\": \"y1\", \"text\": \"17,4\", \"y\": 4.0, \"x\": -4.75, \"font\": {\"color\": \"rgb(250,250,250)\", \"size\": 10}, \"showarrow\": false}, {\"xref\": \"x1\", \"yref\": \"y1\", \"text\": \"18,4\", \"y\": 4.0, \"x\": -3.75, \"font\": {\"color\": \"rgb(250,250,250)\", \"size\": 10}, \"showarrow\": false}, {\"xref\": \"x1\", \"yref\": \"y1\", \"text\": \"19,4\", \"y\": 4.0, \"x\": -2.75, \"font\": {\"color\": \"rgb(250,250,250)\", \"size\": 10}, \"showarrow\": false}, {\"xref\": \"x1\", \"yref\": \"y1\", \"text\": \"20,4\", \"y\": 4.0, \"x\": -1.75, \"font\": {\"color\": \"rgb(250,250,250)\", \"size\": 10}, \"showarrow\": false}, {\"xref\": \"x1\", \"yref\": \"y1\", \"text\": \"21,4\", \"y\": 4.0, \"x\": -0.75, \"font\": {\"color\": \"rgb(250,250,250)\", \"size\": 10}, \"showarrow\": false}, {\"xref\": \"x1\", \"yref\": \"y1\", \"text\": \"22,4\", \"y\": 4.0, \"x\": 0.25, \"font\": {\"color\": \"rgb(250,250,250)\", \"size\": 10}, \"showarrow\": false}, {\"xref\": \"x1\", \"yref\": \"y1\", \"text\": \"23,4\", \"y\": 4.0, \"x\": 1.25, \"font\": {\"color\": \"rgb(250,250,250)\", \"size\": 10}, \"showarrow\": false}, {\"xref\": \"x1\", \"yref\": \"y1\", \"text\": \"24,4\", \"y\": 4.0, \"x\": 2.25, \"font\": {\"color\": \"rgb(250,250,250)\", \"size\": 10}, \"showarrow\": false}]}, {\"linkText\": \"Export to plot.ly\", \"showLink\": true})});</script>"
      ],
      "text/vnd.plotly.v1+html": [
       "<div id=\"e2fd6a44-2f1f-44c8-912b-256f63bbe582\" style=\"height: 525px; width: 100%;\" class=\"plotly-graph-div\"></div><script type=\"text/javascript\">require([\"plotly\"], function(Plotly) { window.PLOTLYENV=window.PLOTLYENV || {};window.PLOTLYENV.BASE_URL=\"https://plot.ly\";Plotly.newPlot(\"e2fd6a44-2f1f-44c8-912b-256f63bbe582\", [{\"mode\": \"lines\", \"hoverinfo\": \"none\", \"y\": [8.0, 7.0, null, 8.0, 7.0, null, 7.0, 6.0, null, 7.0, 6.0, null, 7.0, 6.0, null, 7.0, 6.0, null, 6.0, 5.0, null, 6.0, 5.0, null, 6.0, 5.0, null, 6.0, 5.0, null, 6.0, 5.0, null, 6.0, 5.0, null, 6.0, 5.0, null, 6.0, 5.0, null, 5.0, 4.0, null, 5.0, 4.0, null, 5.0, 4.0, null, 5.0, 4.0, null, 5.0, 4.0, null, 5.0, 4.0, null, 5.0, 4.0, null, 5.0, 4.0, null, 5.0, 4.0, null, 5.0, 4.0, null], \"x\": [0.0, -3.25, null, 0.0, 3.25, null, -3.25, -5.25, null, -3.25, -1.25, null, 3.25, 2.25, null, 3.25, 4.25, null, -5.25, -6.25, null, -5.25, -4.25, null, -1.25, -2.25, null, -1.25, -0.25, null, 2.25, 1.75, null, 2.25, 2.75, null, 4.25, 3.75, null, 4.25, 4.75, null, -6.25, -6.75, null, -6.25, -5.75, null, -4.25, -4.75, null, -4.25, -3.75, null, -2.25, -2.75, null, -2.25, -1.75, null, -0.25, -0.75, null, -0.25, 0.25, null, 1.75, 1.25, null, 1.75, 2.25, null], \"line\": {\"color\": \"rgb(210,210,210)\", \"width\": 1}, \"type\": \"scatter\"}, {\"opacity\": 0.8, \"name\": \"\", \"text\": [\"article\", \"1,1\", \"2,1\", \"3,2\", \"4,2\", \"5,2\", \"6,2\", \"7,3\", \"8,3\", \"9,3\", \"10,3\", \"11,3\", \"12,3\", \"13,3\", \"14,3\", \"15,4\", \"16,4\", \"17,4\", \"18,4\", \"19,4\", \"20,4\", \"21,4\", \"22,4\", \"23,4\", \"24,4\"], \"marker\": {\"color\": [\"#989898\", \"#EE7600\", \"#6175c1\", \"#EE7600\", \"#6175c1\", \"#6175c1\", \"#6175c1\", \"#6175c1\", \"#EE7600\", \"#6175c1\", \"#6175c1\", \"#6175c1\", \"#6175c1\", \"#6175c1\", \"#6175c1\", \"#6175c1\", \"#6175c1\", \"#DB4551\", \"#6175c1\", \"#6175c1\", \"#6175c1\", \"#6175c1\", \"#6175c1\", \"#6175c1\", \"#6175c1\"], \"line\": {\"color\": \"rgb(50,50,50)\", \"width\": 1}, \"symbol\": \"dot\", \"size\": 35}, \"mode\": \"markers\", \"hoverinfo\": \"text\", \"y\": [8.0, 7.0, 7.0, 6.0, 6.0, 6.0, 6.0, 5.0, 5.0, 5.0, 5.0, 5.0, 5.0, 5.0, 5.0, 4.0, 4.0, 4.0, 4.0, 4.0, 4.0, 4.0, 4.0, 4.0, 4.0], \"x\": [0.0, -3.25, 3.25, -5.25, -1.25, 2.25, 4.25, -6.25, -4.25, -2.25, -0.25, 1.75, 2.75, 3.75, 4.75, -6.75, -5.75, -4.75, -3.75, -2.75, -1.75, -0.75, 0.25, 1.25, 2.25], \"type\": \"scatter\"}], {\"showlegend\": false, \"title\": \"<thr> <com> 8 </com> <com> 3 </com> <com> 1 </com> <com> 17 </com> </thr>\", \"plot_bgcolor\": \"rgb(248,248,248)\", \"yaxis\": {\"zeroline\": false, \"showline\": false, \"showticklabels\": false, \"showgrid\": false}, \"xaxis\": {\"zeroline\": false, \"showline\": false, \"showticklabels\": false, \"showgrid\": false}, \"hovermode\": \"closest\", \"font\": {\"size\": 12}, \"margin\": {\"r\": 40, \"b\": 85, \"t\": 100, \"l\": 40}, \"annotations\": [{\"xref\": \"x1\", \"yref\": \"y1\", \"text\": \"article\", \"y\": 8.0, \"x\": 0.0, \"font\": {\"color\": \"rgb(250,250,250)\", \"size\": 10}, \"showarrow\": false}, {\"xref\": \"x1\", \"yref\": \"y1\", \"text\": \"1,1\", \"y\": 7.0, \"x\": -3.25, \"font\": {\"color\": \"rgb(250,250,250)\", \"size\": 10}, \"showarrow\": false}, {\"xref\": \"x1\", \"yref\": \"y1\", \"text\": \"2,1\", \"y\": 7.0, \"x\": 3.25, \"font\": {\"color\": \"rgb(250,250,250)\", \"size\": 10}, \"showarrow\": false}, {\"xref\": \"x1\", \"yref\": \"y1\", \"text\": \"3,2\", \"y\": 6.0, \"x\": -5.25, \"font\": {\"color\": \"rgb(250,250,250)\", \"size\": 10}, \"showarrow\": false}, {\"xref\": \"x1\", \"yref\": \"y1\", \"text\": \"4,2\", \"y\": 6.0, \"x\": -1.25, \"font\": {\"color\": \"rgb(250,250,250)\", \"size\": 10}, \"showarrow\": false}, {\"xref\": \"x1\", \"yref\": \"y1\", \"text\": \"5,2\", \"y\": 6.0, \"x\": 2.25, \"font\": {\"color\": \"rgb(250,250,250)\", \"size\": 10}, \"showarrow\": false}, {\"xref\": \"x1\", \"yref\": \"y1\", \"text\": \"6,2\", \"y\": 6.0, \"x\": 4.25, \"font\": {\"color\": \"rgb(250,250,250)\", \"size\": 10}, \"showarrow\": false}, {\"xref\": \"x1\", \"yref\": \"y1\", \"text\": \"7,3\", \"y\": 5.0, \"x\": -6.25, \"font\": {\"color\": \"rgb(250,250,250)\", \"size\": 10}, \"showarrow\": false}, {\"xref\": \"x1\", \"yref\": \"y1\", \"text\": \"8,3\", \"y\": 5.0, \"x\": -4.25, \"font\": {\"color\": \"rgb(250,250,250)\", \"size\": 10}, \"showarrow\": false}, {\"xref\": \"x1\", \"yref\": \"y1\", \"text\": \"9,3\", \"y\": 5.0, \"x\": -2.25, \"font\": {\"color\": \"rgb(250,250,250)\", \"size\": 10}, \"showarrow\": false}, {\"xref\": \"x1\", \"yref\": \"y1\", \"text\": \"10,3\", \"y\": 5.0, \"x\": -0.25, \"font\": {\"color\": \"rgb(250,250,250)\", \"size\": 10}, \"showarrow\": false}, {\"xref\": \"x1\", \"yref\": \"y1\", \"text\": \"11,3\", \"y\": 5.0, \"x\": 1.75, \"font\": {\"color\": \"rgb(250,250,250)\", \"size\": 10}, \"showarrow\": false}, {\"xref\": \"x1\", \"yref\": \"y1\", \"text\": \"12,3\", \"y\": 5.0, \"x\": 2.75, \"font\": {\"color\": \"rgb(250,250,250)\", \"size\": 10}, \"showarrow\": false}, {\"xref\": \"x1\", \"yref\": \"y1\", \"text\": \"13,3\", \"y\": 5.0, \"x\": 3.75, \"font\": {\"color\": \"rgb(250,250,250)\", \"size\": 10}, \"showarrow\": false}, {\"xref\": \"x1\", \"yref\": \"y1\", \"text\": \"14,3\", \"y\": 5.0, \"x\": 4.75, \"font\": {\"color\": \"rgb(250,250,250)\", \"size\": 10}, \"showarrow\": false}, {\"xref\": \"x1\", \"yref\": \"y1\", \"text\": \"15,4\", \"y\": 4.0, \"x\": -6.75, \"font\": {\"color\": \"rgb(250,250,250)\", \"size\": 10}, \"showarrow\": false}, {\"xref\": \"x1\", \"yref\": \"y1\", \"text\": \"16,4\", \"y\": 4.0, \"x\": -5.75, \"font\": {\"color\": \"rgb(250,250,250)\", \"size\": 10}, \"showarrow\": false}, {\"xref\": \"x1\", \"yref\": \"y1\", \"text\": \"17,4\", \"y\": 4.0, \"x\": -4.75, \"font\": {\"color\": \"rgb(250,250,250)\", \"size\": 10}, \"showarrow\": false}, {\"xref\": \"x1\", \"yref\": \"y1\", \"text\": \"18,4\", \"y\": 4.0, \"x\": -3.75, \"font\": {\"color\": \"rgb(250,250,250)\", \"size\": 10}, \"showarrow\": false}, {\"xref\": \"x1\", \"yref\": \"y1\", \"text\": \"19,4\", \"y\": 4.0, \"x\": -2.75, \"font\": {\"color\": \"rgb(250,250,250)\", \"size\": 10}, \"showarrow\": false}, {\"xref\": \"x1\", \"yref\": \"y1\", \"text\": \"20,4\", \"y\": 4.0, \"x\": -1.75, \"font\": {\"color\": \"rgb(250,250,250)\", \"size\": 10}, \"showarrow\": false}, {\"xref\": \"x1\", \"yref\": \"y1\", \"text\": \"21,4\", \"y\": 4.0, \"x\": -0.75, \"font\": {\"color\": \"rgb(250,250,250)\", \"size\": 10}, \"showarrow\": false}, {\"xref\": \"x1\", \"yref\": \"y1\", \"text\": \"22,4\", \"y\": 4.0, \"x\": 0.25, \"font\": {\"color\": \"rgb(250,250,250)\", \"size\": 10}, \"showarrow\": false}, {\"xref\": \"x1\", \"yref\": \"y1\", \"text\": \"23,4\", \"y\": 4.0, \"x\": 1.25, \"font\": {\"color\": \"rgb(250,250,250)\", \"size\": 10}, \"showarrow\": false}, {\"xref\": \"x1\", \"yref\": \"y1\", \"text\": \"24,4\", \"y\": 4.0, \"x\": 2.25, \"font\": {\"color\": \"rgb(250,250,250)\", \"size\": 10}, \"showarrow\": false}]}, {\"linkText\": \"Export to plot.ly\", \"showLink\": true})});</script>"
      ]
     },
     "metadata": {},
     "output_type": "display_data"
    },
    {
     "data": {
      "application/vnd.plotly.v1+json": {
       "data": [
        {
         "hoverinfo": "none",
         "line": {
          "color": "rgb(210,210,210)",
          "width": 1
         },
         "mode": "lines",
         "type": "scatter",
         "x": [
          0,
          -3.25,
          null,
          0,
          3.25,
          null,
          -3.25,
          -5.25,
          null,
          -3.25,
          -1.25,
          null,
          3.25,
          2.25,
          null,
          3.25,
          4.25,
          null,
          -5.25,
          -6.25,
          null,
          -5.25,
          -4.25,
          null,
          -1.25,
          -2.25,
          null,
          -1.25,
          -0.25,
          null,
          2.25,
          1.75,
          null,
          2.25,
          2.75,
          null,
          4.25,
          3.75,
          null,
          4.25,
          4.75,
          null,
          -6.25,
          -6.75,
          null,
          -6.25,
          -5.75,
          null,
          -4.25,
          -4.75,
          null,
          -4.25,
          -3.75,
          null,
          -2.25,
          -2.75,
          null,
          -2.25,
          -1.75,
          null,
          -0.25,
          -0.75,
          null,
          -0.25,
          0.25,
          null,
          1.75,
          1.25,
          null,
          1.75,
          2.25,
          null
         ],
         "y": [
          8,
          7,
          null,
          8,
          7,
          null,
          7,
          6,
          null,
          7,
          6,
          null,
          7,
          6,
          null,
          7,
          6,
          null,
          6,
          5,
          null,
          6,
          5,
          null,
          6,
          5,
          null,
          6,
          5,
          null,
          6,
          5,
          null,
          6,
          5,
          null,
          6,
          5,
          null,
          6,
          5,
          null,
          5,
          4,
          null,
          5,
          4,
          null,
          5,
          4,
          null,
          5,
          4,
          null,
          5,
          4,
          null,
          5,
          4,
          null,
          5,
          4,
          null,
          5,
          4,
          null,
          5,
          4,
          null,
          5,
          4,
          null
         ]
        },
        {
         "hoverinfo": "text",
         "marker": {
          "color": [
           "#989898",
           "#EE7600",
           "#6175c1",
           "#EE7600",
           "#6175c1",
           "#6175c1",
           "#6175c1",
           "#6175c1",
           "#EE7600",
           "#6175c1",
           "#6175c1",
           "#6175c1",
           "#6175c1",
           "#6175c1",
           "#6175c1",
           "#6175c1",
           "#6175c1",
           "#6175c1",
           "#DB4551",
           "#6175c1",
           "#6175c1",
           "#6175c1",
           "#6175c1",
           "#6175c1",
           "#6175c1"
          ],
          "line": {
           "color": "rgb(50,50,50)",
           "width": 1
          },
          "size": 35,
          "symbol": "dot"
         },
         "mode": "markers",
         "name": "",
         "opacity": 0.8,
         "text": [
          "article",
          "1,1",
          "2,1",
          "3,2",
          "4,2",
          "5,2",
          "6,2",
          "7,3",
          "8,3",
          "9,3",
          "10,3",
          "11,3",
          "12,3",
          "13,3",
          "14,3",
          "15,4",
          "16,4",
          "17,4",
          "18,4",
          "19,4",
          "20,4",
          "21,4",
          "22,4",
          "23,4",
          "24,4"
         ],
         "type": "scatter",
         "x": [
          0,
          -3.25,
          3.25,
          -5.25,
          -1.25,
          2.25,
          4.25,
          -6.25,
          -4.25,
          -2.25,
          -0.25,
          1.75,
          2.75,
          3.75,
          4.75,
          -6.75,
          -5.75,
          -4.75,
          -3.75,
          -2.75,
          -1.75,
          -0.75,
          0.25,
          1.25,
          2.25
         ],
         "y": [
          8,
          7,
          7,
          6,
          6,
          6,
          6,
          5,
          5,
          5,
          5,
          5,
          5,
          5,
          5,
          4,
          4,
          4,
          4,
          4,
          4,
          4,
          4,
          4,
          4
         ]
        }
       ],
       "layout": {
        "annotations": [
         {
          "font": {
           "color": "rgb(250,250,250)",
           "size": 10
          },
          "showarrow": false,
          "text": "article",
          "x": 0,
          "xref": "x1",
          "y": 8,
          "yref": "y1"
         },
         {
          "font": {
           "color": "rgb(250,250,250)",
           "size": 10
          },
          "showarrow": false,
          "text": "1,1",
          "x": -3.25,
          "xref": "x1",
          "y": 7,
          "yref": "y1"
         },
         {
          "font": {
           "color": "rgb(250,250,250)",
           "size": 10
          },
          "showarrow": false,
          "text": "2,1",
          "x": 3.25,
          "xref": "x1",
          "y": 7,
          "yref": "y1"
         },
         {
          "font": {
           "color": "rgb(250,250,250)",
           "size": 10
          },
          "showarrow": false,
          "text": "3,2",
          "x": -5.25,
          "xref": "x1",
          "y": 6,
          "yref": "y1"
         },
         {
          "font": {
           "color": "rgb(250,250,250)",
           "size": 10
          },
          "showarrow": false,
          "text": "4,2",
          "x": -1.25,
          "xref": "x1",
          "y": 6,
          "yref": "y1"
         },
         {
          "font": {
           "color": "rgb(250,250,250)",
           "size": 10
          },
          "showarrow": false,
          "text": "5,2",
          "x": 2.25,
          "xref": "x1",
          "y": 6,
          "yref": "y1"
         },
         {
          "font": {
           "color": "rgb(250,250,250)",
           "size": 10
          },
          "showarrow": false,
          "text": "6,2",
          "x": 4.25,
          "xref": "x1",
          "y": 6,
          "yref": "y1"
         },
         {
          "font": {
           "color": "rgb(250,250,250)",
           "size": 10
          },
          "showarrow": false,
          "text": "7,3",
          "x": -6.25,
          "xref": "x1",
          "y": 5,
          "yref": "y1"
         },
         {
          "font": {
           "color": "rgb(250,250,250)",
           "size": 10
          },
          "showarrow": false,
          "text": "8,3",
          "x": -4.25,
          "xref": "x1",
          "y": 5,
          "yref": "y1"
         },
         {
          "font": {
           "color": "rgb(250,250,250)",
           "size": 10
          },
          "showarrow": false,
          "text": "9,3",
          "x": -2.25,
          "xref": "x1",
          "y": 5,
          "yref": "y1"
         },
         {
          "font": {
           "color": "rgb(250,250,250)",
           "size": 10
          },
          "showarrow": false,
          "text": "10,3",
          "x": -0.25,
          "xref": "x1",
          "y": 5,
          "yref": "y1"
         },
         {
          "font": {
           "color": "rgb(250,250,250)",
           "size": 10
          },
          "showarrow": false,
          "text": "11,3",
          "x": 1.75,
          "xref": "x1",
          "y": 5,
          "yref": "y1"
         },
         {
          "font": {
           "color": "rgb(250,250,250)",
           "size": 10
          },
          "showarrow": false,
          "text": "12,3",
          "x": 2.75,
          "xref": "x1",
          "y": 5,
          "yref": "y1"
         },
         {
          "font": {
           "color": "rgb(250,250,250)",
           "size": 10
          },
          "showarrow": false,
          "text": "13,3",
          "x": 3.75,
          "xref": "x1",
          "y": 5,
          "yref": "y1"
         },
         {
          "font": {
           "color": "rgb(250,250,250)",
           "size": 10
          },
          "showarrow": false,
          "text": "14,3",
          "x": 4.75,
          "xref": "x1",
          "y": 5,
          "yref": "y1"
         },
         {
          "font": {
           "color": "rgb(250,250,250)",
           "size": 10
          },
          "showarrow": false,
          "text": "15,4",
          "x": -6.75,
          "xref": "x1",
          "y": 4,
          "yref": "y1"
         },
         {
          "font": {
           "color": "rgb(250,250,250)",
           "size": 10
          },
          "showarrow": false,
          "text": "16,4",
          "x": -5.75,
          "xref": "x1",
          "y": 4,
          "yref": "y1"
         },
         {
          "font": {
           "color": "rgb(250,250,250)",
           "size": 10
          },
          "showarrow": false,
          "text": "17,4",
          "x": -4.75,
          "xref": "x1",
          "y": 4,
          "yref": "y1"
         },
         {
          "font": {
           "color": "rgb(250,250,250)",
           "size": 10
          },
          "showarrow": false,
          "text": "18,4",
          "x": -3.75,
          "xref": "x1",
          "y": 4,
          "yref": "y1"
         },
         {
          "font": {
           "color": "rgb(250,250,250)",
           "size": 10
          },
          "showarrow": false,
          "text": "19,4",
          "x": -2.75,
          "xref": "x1",
          "y": 4,
          "yref": "y1"
         },
         {
          "font": {
           "color": "rgb(250,250,250)",
           "size": 10
          },
          "showarrow": false,
          "text": "20,4",
          "x": -1.75,
          "xref": "x1",
          "y": 4,
          "yref": "y1"
         },
         {
          "font": {
           "color": "rgb(250,250,250)",
           "size": 10
          },
          "showarrow": false,
          "text": "21,4",
          "x": -0.75,
          "xref": "x1",
          "y": 4,
          "yref": "y1"
         },
         {
          "font": {
           "color": "rgb(250,250,250)",
           "size": 10
          },
          "showarrow": false,
          "text": "22,4",
          "x": 0.25,
          "xref": "x1",
          "y": 4,
          "yref": "y1"
         },
         {
          "font": {
           "color": "rgb(250,250,250)",
           "size": 10
          },
          "showarrow": false,
          "text": "23,4",
          "x": 1.25,
          "xref": "x1",
          "y": 4,
          "yref": "y1"
         },
         {
          "font": {
           "color": "rgb(250,250,250)",
           "size": 10
          },
          "showarrow": false,
          "text": "24,4",
          "x": 2.25,
          "xref": "x1",
          "y": 4,
          "yref": "y1"
         }
        ],
        "font": {
         "size": 12
        },
        "hovermode": "closest",
        "margin": {
         "b": 85,
         "l": 40,
         "r": 40,
         "t": 100
        },
        "plot_bgcolor": "rgb(248,248,248)",
        "showlegend": false,
        "title": "<thr> <com> 8 </com> <com> 3 </com> <com> 1 </com> <com> 18 </com> </thr>",
        "xaxis": {
         "showgrid": false,
         "showline": false,
         "showticklabels": false,
         "zeroline": false
        },
        "yaxis": {
         "showgrid": false,
         "showline": false,
         "showticklabels": false,
         "zeroline": false
        }
       }
      },
      "text/html": [
       "<div id=\"37873e8b-0fc1-437e-9f82-f0d805d2c684\" style=\"height: 525px; width: 100%;\" class=\"plotly-graph-div\"></div><script type=\"text/javascript\">require([\"plotly\"], function(Plotly) { window.PLOTLYENV=window.PLOTLYENV || {};window.PLOTLYENV.BASE_URL=\"https://plot.ly\";Plotly.newPlot(\"37873e8b-0fc1-437e-9f82-f0d805d2c684\", [{\"mode\": \"lines\", \"hoverinfo\": \"none\", \"y\": [8.0, 7.0, null, 8.0, 7.0, null, 7.0, 6.0, null, 7.0, 6.0, null, 7.0, 6.0, null, 7.0, 6.0, null, 6.0, 5.0, null, 6.0, 5.0, null, 6.0, 5.0, null, 6.0, 5.0, null, 6.0, 5.0, null, 6.0, 5.0, null, 6.0, 5.0, null, 6.0, 5.0, null, 5.0, 4.0, null, 5.0, 4.0, null, 5.0, 4.0, null, 5.0, 4.0, null, 5.0, 4.0, null, 5.0, 4.0, null, 5.0, 4.0, null, 5.0, 4.0, null, 5.0, 4.0, null, 5.0, 4.0, null], \"x\": [0.0, -3.25, null, 0.0, 3.25, null, -3.25, -5.25, null, -3.25, -1.25, null, 3.25, 2.25, null, 3.25, 4.25, null, -5.25, -6.25, null, -5.25, -4.25, null, -1.25, -2.25, null, -1.25, -0.25, null, 2.25, 1.75, null, 2.25, 2.75, null, 4.25, 3.75, null, 4.25, 4.75, null, -6.25, -6.75, null, -6.25, -5.75, null, -4.25, -4.75, null, -4.25, -3.75, null, -2.25, -2.75, null, -2.25, -1.75, null, -0.25, -0.75, null, -0.25, 0.25, null, 1.75, 1.25, null, 1.75, 2.25, null], \"line\": {\"color\": \"rgb(210,210,210)\", \"width\": 1}, \"type\": \"scatter\"}, {\"opacity\": 0.8, \"name\": \"\", \"text\": [\"article\", \"1,1\", \"2,1\", \"3,2\", \"4,2\", \"5,2\", \"6,2\", \"7,3\", \"8,3\", \"9,3\", \"10,3\", \"11,3\", \"12,3\", \"13,3\", \"14,3\", \"15,4\", \"16,4\", \"17,4\", \"18,4\", \"19,4\", \"20,4\", \"21,4\", \"22,4\", \"23,4\", \"24,4\"], \"marker\": {\"color\": [\"#989898\", \"#EE7600\", \"#6175c1\", \"#EE7600\", \"#6175c1\", \"#6175c1\", \"#6175c1\", \"#6175c1\", \"#EE7600\", \"#6175c1\", \"#6175c1\", \"#6175c1\", \"#6175c1\", \"#6175c1\", \"#6175c1\", \"#6175c1\", \"#6175c1\", \"#6175c1\", \"#DB4551\", \"#6175c1\", \"#6175c1\", \"#6175c1\", \"#6175c1\", \"#6175c1\", \"#6175c1\"], \"line\": {\"color\": \"rgb(50,50,50)\", \"width\": 1}, \"symbol\": \"dot\", \"size\": 35}, \"mode\": \"markers\", \"hoverinfo\": \"text\", \"y\": [8.0, 7.0, 7.0, 6.0, 6.0, 6.0, 6.0, 5.0, 5.0, 5.0, 5.0, 5.0, 5.0, 5.0, 5.0, 4.0, 4.0, 4.0, 4.0, 4.0, 4.0, 4.0, 4.0, 4.0, 4.0], \"x\": [0.0, -3.25, 3.25, -5.25, -1.25, 2.25, 4.25, -6.25, -4.25, -2.25, -0.25, 1.75, 2.75, 3.75, 4.75, -6.75, -5.75, -4.75, -3.75, -2.75, -1.75, -0.75, 0.25, 1.25, 2.25], \"type\": \"scatter\"}], {\"showlegend\": false, \"title\": \"<thr> <com> 8 </com> <com> 3 </com> <com> 1 </com> <com> 18 </com> </thr>\", \"plot_bgcolor\": \"rgb(248,248,248)\", \"yaxis\": {\"zeroline\": false, \"showline\": false, \"showticklabels\": false, \"showgrid\": false}, \"xaxis\": {\"zeroline\": false, \"showline\": false, \"showticklabels\": false, \"showgrid\": false}, \"hovermode\": \"closest\", \"font\": {\"size\": 12}, \"margin\": {\"r\": 40, \"b\": 85, \"t\": 100, \"l\": 40}, \"annotations\": [{\"xref\": \"x1\", \"yref\": \"y1\", \"text\": \"article\", \"y\": 8.0, \"x\": 0.0, \"font\": {\"color\": \"rgb(250,250,250)\", \"size\": 10}, \"showarrow\": false}, {\"xref\": \"x1\", \"yref\": \"y1\", \"text\": \"1,1\", \"y\": 7.0, \"x\": -3.25, \"font\": {\"color\": \"rgb(250,250,250)\", \"size\": 10}, \"showarrow\": false}, {\"xref\": \"x1\", \"yref\": \"y1\", \"text\": \"2,1\", \"y\": 7.0, \"x\": 3.25, \"font\": {\"color\": \"rgb(250,250,250)\", \"size\": 10}, \"showarrow\": false}, {\"xref\": \"x1\", \"yref\": \"y1\", \"text\": \"3,2\", \"y\": 6.0, \"x\": -5.25, \"font\": {\"color\": \"rgb(250,250,250)\", \"size\": 10}, \"showarrow\": false}, {\"xref\": \"x1\", \"yref\": \"y1\", \"text\": \"4,2\", \"y\": 6.0, \"x\": -1.25, \"font\": {\"color\": \"rgb(250,250,250)\", \"size\": 10}, \"showarrow\": false}, {\"xref\": \"x1\", \"yref\": \"y1\", \"text\": \"5,2\", \"y\": 6.0, \"x\": 2.25, \"font\": {\"color\": \"rgb(250,250,250)\", \"size\": 10}, \"showarrow\": false}, {\"xref\": \"x1\", \"yref\": \"y1\", \"text\": \"6,2\", \"y\": 6.0, \"x\": 4.25, \"font\": {\"color\": \"rgb(250,250,250)\", \"size\": 10}, \"showarrow\": false}, {\"xref\": \"x1\", \"yref\": \"y1\", \"text\": \"7,3\", \"y\": 5.0, \"x\": -6.25, \"font\": {\"color\": \"rgb(250,250,250)\", \"size\": 10}, \"showarrow\": false}, {\"xref\": \"x1\", \"yref\": \"y1\", \"text\": \"8,3\", \"y\": 5.0, \"x\": -4.25, \"font\": {\"color\": \"rgb(250,250,250)\", \"size\": 10}, \"showarrow\": false}, {\"xref\": \"x1\", \"yref\": \"y1\", \"text\": \"9,3\", \"y\": 5.0, \"x\": -2.25, \"font\": {\"color\": \"rgb(250,250,250)\", \"size\": 10}, \"showarrow\": false}, {\"xref\": \"x1\", \"yref\": \"y1\", \"text\": \"10,3\", \"y\": 5.0, \"x\": -0.25, \"font\": {\"color\": \"rgb(250,250,250)\", \"size\": 10}, \"showarrow\": false}, {\"xref\": \"x1\", \"yref\": \"y1\", \"text\": \"11,3\", \"y\": 5.0, \"x\": 1.75, \"font\": {\"color\": \"rgb(250,250,250)\", \"size\": 10}, \"showarrow\": false}, {\"xref\": \"x1\", \"yref\": \"y1\", \"text\": \"12,3\", \"y\": 5.0, \"x\": 2.75, \"font\": {\"color\": \"rgb(250,250,250)\", \"size\": 10}, \"showarrow\": false}, {\"xref\": \"x1\", \"yref\": \"y1\", \"text\": \"13,3\", \"y\": 5.0, \"x\": 3.75, \"font\": {\"color\": \"rgb(250,250,250)\", \"size\": 10}, \"showarrow\": false}, {\"xref\": \"x1\", \"yref\": \"y1\", \"text\": \"14,3\", \"y\": 5.0, \"x\": 4.75, \"font\": {\"color\": \"rgb(250,250,250)\", \"size\": 10}, \"showarrow\": false}, {\"xref\": \"x1\", \"yref\": \"y1\", \"text\": \"15,4\", \"y\": 4.0, \"x\": -6.75, \"font\": {\"color\": \"rgb(250,250,250)\", \"size\": 10}, \"showarrow\": false}, {\"xref\": \"x1\", \"yref\": \"y1\", \"text\": \"16,4\", \"y\": 4.0, \"x\": -5.75, \"font\": {\"color\": \"rgb(250,250,250)\", \"size\": 10}, \"showarrow\": false}, {\"xref\": \"x1\", \"yref\": \"y1\", \"text\": \"17,4\", \"y\": 4.0, \"x\": -4.75, \"font\": {\"color\": \"rgb(250,250,250)\", \"size\": 10}, \"showarrow\": false}, {\"xref\": \"x1\", \"yref\": \"y1\", \"text\": \"18,4\", \"y\": 4.0, \"x\": -3.75, \"font\": {\"color\": \"rgb(250,250,250)\", \"size\": 10}, \"showarrow\": false}, {\"xref\": \"x1\", \"yref\": \"y1\", \"text\": \"19,4\", \"y\": 4.0, \"x\": -2.75, \"font\": {\"color\": \"rgb(250,250,250)\", \"size\": 10}, \"showarrow\": false}, {\"xref\": \"x1\", \"yref\": \"y1\", \"text\": \"20,4\", \"y\": 4.0, \"x\": -1.75, \"font\": {\"color\": \"rgb(250,250,250)\", \"size\": 10}, \"showarrow\": false}, {\"xref\": \"x1\", \"yref\": \"y1\", \"text\": \"21,4\", \"y\": 4.0, \"x\": -0.75, \"font\": {\"color\": \"rgb(250,250,250)\", \"size\": 10}, \"showarrow\": false}, {\"xref\": \"x1\", \"yref\": \"y1\", \"text\": \"22,4\", \"y\": 4.0, \"x\": 0.25, \"font\": {\"color\": \"rgb(250,250,250)\", \"size\": 10}, \"showarrow\": false}, {\"xref\": \"x1\", \"yref\": \"y1\", \"text\": \"23,4\", \"y\": 4.0, \"x\": 1.25, \"font\": {\"color\": \"rgb(250,250,250)\", \"size\": 10}, \"showarrow\": false}, {\"xref\": \"x1\", \"yref\": \"y1\", \"text\": \"24,4\", \"y\": 4.0, \"x\": 2.25, \"font\": {\"color\": \"rgb(250,250,250)\", \"size\": 10}, \"showarrow\": false}]}, {\"linkText\": \"Export to plot.ly\", \"showLink\": true})});</script>"
      ],
      "text/vnd.plotly.v1+html": [
       "<div id=\"37873e8b-0fc1-437e-9f82-f0d805d2c684\" style=\"height: 525px; width: 100%;\" class=\"plotly-graph-div\"></div><script type=\"text/javascript\">require([\"plotly\"], function(Plotly) { window.PLOTLYENV=window.PLOTLYENV || {};window.PLOTLYENV.BASE_URL=\"https://plot.ly\";Plotly.newPlot(\"37873e8b-0fc1-437e-9f82-f0d805d2c684\", [{\"mode\": \"lines\", \"hoverinfo\": \"none\", \"y\": [8.0, 7.0, null, 8.0, 7.0, null, 7.0, 6.0, null, 7.0, 6.0, null, 7.0, 6.0, null, 7.0, 6.0, null, 6.0, 5.0, null, 6.0, 5.0, null, 6.0, 5.0, null, 6.0, 5.0, null, 6.0, 5.0, null, 6.0, 5.0, null, 6.0, 5.0, null, 6.0, 5.0, null, 5.0, 4.0, null, 5.0, 4.0, null, 5.0, 4.0, null, 5.0, 4.0, null, 5.0, 4.0, null, 5.0, 4.0, null, 5.0, 4.0, null, 5.0, 4.0, null, 5.0, 4.0, null, 5.0, 4.0, null], \"x\": [0.0, -3.25, null, 0.0, 3.25, null, -3.25, -5.25, null, -3.25, -1.25, null, 3.25, 2.25, null, 3.25, 4.25, null, -5.25, -6.25, null, -5.25, -4.25, null, -1.25, -2.25, null, -1.25, -0.25, null, 2.25, 1.75, null, 2.25, 2.75, null, 4.25, 3.75, null, 4.25, 4.75, null, -6.25, -6.75, null, -6.25, -5.75, null, -4.25, -4.75, null, -4.25, -3.75, null, -2.25, -2.75, null, -2.25, -1.75, null, -0.25, -0.75, null, -0.25, 0.25, null, 1.75, 1.25, null, 1.75, 2.25, null], \"line\": {\"color\": \"rgb(210,210,210)\", \"width\": 1}, \"type\": \"scatter\"}, {\"opacity\": 0.8, \"name\": \"\", \"text\": [\"article\", \"1,1\", \"2,1\", \"3,2\", \"4,2\", \"5,2\", \"6,2\", \"7,3\", \"8,3\", \"9,3\", \"10,3\", \"11,3\", \"12,3\", \"13,3\", \"14,3\", \"15,4\", \"16,4\", \"17,4\", \"18,4\", \"19,4\", \"20,4\", \"21,4\", \"22,4\", \"23,4\", \"24,4\"], \"marker\": {\"color\": [\"#989898\", \"#EE7600\", \"#6175c1\", \"#EE7600\", \"#6175c1\", \"#6175c1\", \"#6175c1\", \"#6175c1\", \"#EE7600\", \"#6175c1\", \"#6175c1\", \"#6175c1\", \"#6175c1\", \"#6175c1\", \"#6175c1\", \"#6175c1\", \"#6175c1\", \"#6175c1\", \"#DB4551\", \"#6175c1\", \"#6175c1\", \"#6175c1\", \"#6175c1\", \"#6175c1\", \"#6175c1\"], \"line\": {\"color\": \"rgb(50,50,50)\", \"width\": 1}, \"symbol\": \"dot\", \"size\": 35}, \"mode\": \"markers\", \"hoverinfo\": \"text\", \"y\": [8.0, 7.0, 7.0, 6.0, 6.0, 6.0, 6.0, 5.0, 5.0, 5.0, 5.0, 5.0, 5.0, 5.0, 5.0, 4.0, 4.0, 4.0, 4.0, 4.0, 4.0, 4.0, 4.0, 4.0, 4.0], \"x\": [0.0, -3.25, 3.25, -5.25, -1.25, 2.25, 4.25, -6.25, -4.25, -2.25, -0.25, 1.75, 2.75, 3.75, 4.75, -6.75, -5.75, -4.75, -3.75, -2.75, -1.75, -0.75, 0.25, 1.25, 2.25], \"type\": \"scatter\"}], {\"showlegend\": false, \"title\": \"<thr> <com> 8 </com> <com> 3 </com> <com> 1 </com> <com> 18 </com> </thr>\", \"plot_bgcolor\": \"rgb(248,248,248)\", \"yaxis\": {\"zeroline\": false, \"showline\": false, \"showticklabels\": false, \"showgrid\": false}, \"xaxis\": {\"zeroline\": false, \"showline\": false, \"showticklabels\": false, \"showgrid\": false}, \"hovermode\": \"closest\", \"font\": {\"size\": 12}, \"margin\": {\"r\": 40, \"b\": 85, \"t\": 100, \"l\": 40}, \"annotations\": [{\"xref\": \"x1\", \"yref\": \"y1\", \"text\": \"article\", \"y\": 8.0, \"x\": 0.0, \"font\": {\"color\": \"rgb(250,250,250)\", \"size\": 10}, \"showarrow\": false}, {\"xref\": \"x1\", \"yref\": \"y1\", \"text\": \"1,1\", \"y\": 7.0, \"x\": -3.25, \"font\": {\"color\": \"rgb(250,250,250)\", \"size\": 10}, \"showarrow\": false}, {\"xref\": \"x1\", \"yref\": \"y1\", \"text\": \"2,1\", \"y\": 7.0, \"x\": 3.25, \"font\": {\"color\": \"rgb(250,250,250)\", \"size\": 10}, \"showarrow\": false}, {\"xref\": \"x1\", \"yref\": \"y1\", \"text\": \"3,2\", \"y\": 6.0, \"x\": -5.25, \"font\": {\"color\": \"rgb(250,250,250)\", \"size\": 10}, \"showarrow\": false}, {\"xref\": \"x1\", \"yref\": \"y1\", \"text\": \"4,2\", \"y\": 6.0, \"x\": -1.25, \"font\": {\"color\": \"rgb(250,250,250)\", \"size\": 10}, \"showarrow\": false}, {\"xref\": \"x1\", \"yref\": \"y1\", \"text\": \"5,2\", \"y\": 6.0, \"x\": 2.25, \"font\": {\"color\": \"rgb(250,250,250)\", \"size\": 10}, \"showarrow\": false}, {\"xref\": \"x1\", \"yref\": \"y1\", \"text\": \"6,2\", \"y\": 6.0, \"x\": 4.25, \"font\": {\"color\": \"rgb(250,250,250)\", \"size\": 10}, \"showarrow\": false}, {\"xref\": \"x1\", \"yref\": \"y1\", \"text\": \"7,3\", \"y\": 5.0, \"x\": -6.25, \"font\": {\"color\": \"rgb(250,250,250)\", \"size\": 10}, \"showarrow\": false}, {\"xref\": \"x1\", \"yref\": \"y1\", \"text\": \"8,3\", \"y\": 5.0, \"x\": -4.25, \"font\": {\"color\": \"rgb(250,250,250)\", \"size\": 10}, \"showarrow\": false}, {\"xref\": \"x1\", \"yref\": \"y1\", \"text\": \"9,3\", \"y\": 5.0, \"x\": -2.25, \"font\": {\"color\": \"rgb(250,250,250)\", \"size\": 10}, \"showarrow\": false}, {\"xref\": \"x1\", \"yref\": \"y1\", \"text\": \"10,3\", \"y\": 5.0, \"x\": -0.25, \"font\": {\"color\": \"rgb(250,250,250)\", \"size\": 10}, \"showarrow\": false}, {\"xref\": \"x1\", \"yref\": \"y1\", \"text\": \"11,3\", \"y\": 5.0, \"x\": 1.75, \"font\": {\"color\": \"rgb(250,250,250)\", \"size\": 10}, \"showarrow\": false}, {\"xref\": \"x1\", \"yref\": \"y1\", \"text\": \"12,3\", \"y\": 5.0, \"x\": 2.75, \"font\": {\"color\": \"rgb(250,250,250)\", \"size\": 10}, \"showarrow\": false}, {\"xref\": \"x1\", \"yref\": \"y1\", \"text\": \"13,3\", \"y\": 5.0, \"x\": 3.75, \"font\": {\"color\": \"rgb(250,250,250)\", \"size\": 10}, \"showarrow\": false}, {\"xref\": \"x1\", \"yref\": \"y1\", \"text\": \"14,3\", \"y\": 5.0, \"x\": 4.75, \"font\": {\"color\": \"rgb(250,250,250)\", \"size\": 10}, \"showarrow\": false}, {\"xref\": \"x1\", \"yref\": \"y1\", \"text\": \"15,4\", \"y\": 4.0, \"x\": -6.75, \"font\": {\"color\": \"rgb(250,250,250)\", \"size\": 10}, \"showarrow\": false}, {\"xref\": \"x1\", \"yref\": \"y1\", \"text\": \"16,4\", \"y\": 4.0, \"x\": -5.75, \"font\": {\"color\": \"rgb(250,250,250)\", \"size\": 10}, \"showarrow\": false}, {\"xref\": \"x1\", \"yref\": \"y1\", \"text\": \"17,4\", \"y\": 4.0, \"x\": -4.75, \"font\": {\"color\": \"rgb(250,250,250)\", \"size\": 10}, \"showarrow\": false}, {\"xref\": \"x1\", \"yref\": \"y1\", \"text\": \"18,4\", \"y\": 4.0, \"x\": -3.75, \"font\": {\"color\": \"rgb(250,250,250)\", \"size\": 10}, \"showarrow\": false}, {\"xref\": \"x1\", \"yref\": \"y1\", \"text\": \"19,4\", \"y\": 4.0, \"x\": -2.75, \"font\": {\"color\": \"rgb(250,250,250)\", \"size\": 10}, \"showarrow\": false}, {\"xref\": \"x1\", \"yref\": \"y1\", \"text\": \"20,4\", \"y\": 4.0, \"x\": -1.75, \"font\": {\"color\": \"rgb(250,250,250)\", \"size\": 10}, \"showarrow\": false}, {\"xref\": \"x1\", \"yref\": \"y1\", \"text\": \"21,4\", \"y\": 4.0, \"x\": -0.75, \"font\": {\"color\": \"rgb(250,250,250)\", \"size\": 10}, \"showarrow\": false}, {\"xref\": \"x1\", \"yref\": \"y1\", \"text\": \"22,4\", \"y\": 4.0, \"x\": 0.25, \"font\": {\"color\": \"rgb(250,250,250)\", \"size\": 10}, \"showarrow\": false}, {\"xref\": \"x1\", \"yref\": \"y1\", \"text\": \"23,4\", \"y\": 4.0, \"x\": 1.25, \"font\": {\"color\": \"rgb(250,250,250)\", \"size\": 10}, \"showarrow\": false}, {\"xref\": \"x1\", \"yref\": \"y1\", \"text\": \"24,4\", \"y\": 4.0, \"x\": 2.25, \"font\": {\"color\": \"rgb(250,250,250)\", \"size\": 10}, \"showarrow\": false}]}, {\"linkText\": \"Export to plot.ly\", \"showLink\": true})});</script>"
      ]
     },
     "metadata": {},
     "output_type": "display_data"
    },
    {
     "data": {
      "application/vnd.plotly.v1+json": {
       "data": [
        {
         "hoverinfo": "none",
         "line": {
          "color": "rgb(210,210,210)",
          "width": 1
         },
         "mode": "lines",
         "type": "scatter",
         "x": [
          0,
          -3.25,
          null,
          0,
          3.25,
          null,
          -3.25,
          -5.25,
          null,
          -3.25,
          -1.25,
          null,
          3.25,
          2.25,
          null,
          3.25,
          4.25,
          null,
          -5.25,
          -6.25,
          null,
          -5.25,
          -4.25,
          null,
          -1.25,
          -2.25,
          null,
          -1.25,
          -0.25,
          null,
          2.25,
          1.75,
          null,
          2.25,
          2.75,
          null,
          4.25,
          3.75,
          null,
          4.25,
          4.75,
          null,
          -6.25,
          -6.75,
          null,
          -6.25,
          -5.75,
          null,
          -4.25,
          -4.75,
          null,
          -4.25,
          -3.75,
          null,
          -2.25,
          -2.75,
          null,
          -2.25,
          -1.75,
          null,
          -0.25,
          -0.75,
          null,
          -0.25,
          0.25,
          null,
          1.75,
          1.25,
          null,
          1.75,
          2.25,
          null
         ],
         "y": [
          8,
          7,
          null,
          8,
          7,
          null,
          7,
          6,
          null,
          7,
          6,
          null,
          7,
          6,
          null,
          7,
          6,
          null,
          6,
          5,
          null,
          6,
          5,
          null,
          6,
          5,
          null,
          6,
          5,
          null,
          6,
          5,
          null,
          6,
          5,
          null,
          6,
          5,
          null,
          6,
          5,
          null,
          5,
          4,
          null,
          5,
          4,
          null,
          5,
          4,
          null,
          5,
          4,
          null,
          5,
          4,
          null,
          5,
          4,
          null,
          5,
          4,
          null,
          5,
          4,
          null,
          5,
          4,
          null,
          5,
          4,
          null
         ]
        },
        {
         "hoverinfo": "text",
         "marker": {
          "color": [
           "#989898",
           "#EE7600",
           "#6175c1",
           "#6175c1",
           "#EE7600",
           "#6175c1",
           "#6175c1",
           "#6175c1",
           "#6175c1",
           "#EE7600",
           "#6175c1",
           "#6175c1",
           "#6175c1",
           "#6175c1",
           "#6175c1",
           "#6175c1",
           "#6175c1",
           "#6175c1",
           "#6175c1",
           "#DB4551",
           "#6175c1",
           "#6175c1",
           "#6175c1",
           "#6175c1",
           "#6175c1"
          ],
          "line": {
           "color": "rgb(50,50,50)",
           "width": 1
          },
          "size": 35,
          "symbol": "dot"
         },
         "mode": "markers",
         "name": "",
         "opacity": 0.8,
         "text": [
          "article",
          "1,1",
          "2,1",
          "3,2",
          "4,2",
          "5,2",
          "6,2",
          "7,3",
          "8,3",
          "9,3",
          "10,3",
          "11,3",
          "12,3",
          "13,3",
          "14,3",
          "15,4",
          "16,4",
          "17,4",
          "18,4",
          "19,4",
          "20,4",
          "21,4",
          "22,4",
          "23,4",
          "24,4"
         ],
         "type": "scatter",
         "x": [
          0,
          -3.25,
          3.25,
          -5.25,
          -1.25,
          2.25,
          4.25,
          -6.25,
          -4.25,
          -2.25,
          -0.25,
          1.75,
          2.75,
          3.75,
          4.75,
          -6.75,
          -5.75,
          -4.75,
          -3.75,
          -2.75,
          -1.75,
          -0.75,
          0.25,
          1.25,
          2.25
         ],
         "y": [
          8,
          7,
          7,
          6,
          6,
          6,
          6,
          5,
          5,
          5,
          5,
          5,
          5,
          5,
          5,
          4,
          4,
          4,
          4,
          4,
          4,
          4,
          4,
          4,
          4
         ]
        }
       ],
       "layout": {
        "annotations": [
         {
          "font": {
           "color": "rgb(250,250,250)",
           "size": 10
          },
          "showarrow": false,
          "text": "article",
          "x": 0,
          "xref": "x1",
          "y": 8,
          "yref": "y1"
         },
         {
          "font": {
           "color": "rgb(250,250,250)",
           "size": 10
          },
          "showarrow": false,
          "text": "1,1",
          "x": -3.25,
          "xref": "x1",
          "y": 7,
          "yref": "y1"
         },
         {
          "font": {
           "color": "rgb(250,250,250)",
           "size": 10
          },
          "showarrow": false,
          "text": "2,1",
          "x": 3.25,
          "xref": "x1",
          "y": 7,
          "yref": "y1"
         },
         {
          "font": {
           "color": "rgb(250,250,250)",
           "size": 10
          },
          "showarrow": false,
          "text": "3,2",
          "x": -5.25,
          "xref": "x1",
          "y": 6,
          "yref": "y1"
         },
         {
          "font": {
           "color": "rgb(250,250,250)",
           "size": 10
          },
          "showarrow": false,
          "text": "4,2",
          "x": -1.25,
          "xref": "x1",
          "y": 6,
          "yref": "y1"
         },
         {
          "font": {
           "color": "rgb(250,250,250)",
           "size": 10
          },
          "showarrow": false,
          "text": "5,2",
          "x": 2.25,
          "xref": "x1",
          "y": 6,
          "yref": "y1"
         },
         {
          "font": {
           "color": "rgb(250,250,250)",
           "size": 10
          },
          "showarrow": false,
          "text": "6,2",
          "x": 4.25,
          "xref": "x1",
          "y": 6,
          "yref": "y1"
         },
         {
          "font": {
           "color": "rgb(250,250,250)",
           "size": 10
          },
          "showarrow": false,
          "text": "7,3",
          "x": -6.25,
          "xref": "x1",
          "y": 5,
          "yref": "y1"
         },
         {
          "font": {
           "color": "rgb(250,250,250)",
           "size": 10
          },
          "showarrow": false,
          "text": "8,3",
          "x": -4.25,
          "xref": "x1",
          "y": 5,
          "yref": "y1"
         },
         {
          "font": {
           "color": "rgb(250,250,250)",
           "size": 10
          },
          "showarrow": false,
          "text": "9,3",
          "x": -2.25,
          "xref": "x1",
          "y": 5,
          "yref": "y1"
         },
         {
          "font": {
           "color": "rgb(250,250,250)",
           "size": 10
          },
          "showarrow": false,
          "text": "10,3",
          "x": -0.25,
          "xref": "x1",
          "y": 5,
          "yref": "y1"
         },
         {
          "font": {
           "color": "rgb(250,250,250)",
           "size": 10
          },
          "showarrow": false,
          "text": "11,3",
          "x": 1.75,
          "xref": "x1",
          "y": 5,
          "yref": "y1"
         },
         {
          "font": {
           "color": "rgb(250,250,250)",
           "size": 10
          },
          "showarrow": false,
          "text": "12,3",
          "x": 2.75,
          "xref": "x1",
          "y": 5,
          "yref": "y1"
         },
         {
          "font": {
           "color": "rgb(250,250,250)",
           "size": 10
          },
          "showarrow": false,
          "text": "13,3",
          "x": 3.75,
          "xref": "x1",
          "y": 5,
          "yref": "y1"
         },
         {
          "font": {
           "color": "rgb(250,250,250)",
           "size": 10
          },
          "showarrow": false,
          "text": "14,3",
          "x": 4.75,
          "xref": "x1",
          "y": 5,
          "yref": "y1"
         },
         {
          "font": {
           "color": "rgb(250,250,250)",
           "size": 10
          },
          "showarrow": false,
          "text": "15,4",
          "x": -6.75,
          "xref": "x1",
          "y": 4,
          "yref": "y1"
         },
         {
          "font": {
           "color": "rgb(250,250,250)",
           "size": 10
          },
          "showarrow": false,
          "text": "16,4",
          "x": -5.75,
          "xref": "x1",
          "y": 4,
          "yref": "y1"
         },
         {
          "font": {
           "color": "rgb(250,250,250)",
           "size": 10
          },
          "showarrow": false,
          "text": "17,4",
          "x": -4.75,
          "xref": "x1",
          "y": 4,
          "yref": "y1"
         },
         {
          "font": {
           "color": "rgb(250,250,250)",
           "size": 10
          },
          "showarrow": false,
          "text": "18,4",
          "x": -3.75,
          "xref": "x1",
          "y": 4,
          "yref": "y1"
         },
         {
          "font": {
           "color": "rgb(250,250,250)",
           "size": 10
          },
          "showarrow": false,
          "text": "19,4",
          "x": -2.75,
          "xref": "x1",
          "y": 4,
          "yref": "y1"
         },
         {
          "font": {
           "color": "rgb(250,250,250)",
           "size": 10
          },
          "showarrow": false,
          "text": "20,4",
          "x": -1.75,
          "xref": "x1",
          "y": 4,
          "yref": "y1"
         },
         {
          "font": {
           "color": "rgb(250,250,250)",
           "size": 10
          },
          "showarrow": false,
          "text": "21,4",
          "x": -0.75,
          "xref": "x1",
          "y": 4,
          "yref": "y1"
         },
         {
          "font": {
           "color": "rgb(250,250,250)",
           "size": 10
          },
          "showarrow": false,
          "text": "22,4",
          "x": 0.25,
          "xref": "x1",
          "y": 4,
          "yref": "y1"
         },
         {
          "font": {
           "color": "rgb(250,250,250)",
           "size": 10
          },
          "showarrow": false,
          "text": "23,4",
          "x": 1.25,
          "xref": "x1",
          "y": 4,
          "yref": "y1"
         },
         {
          "font": {
           "color": "rgb(250,250,250)",
           "size": 10
          },
          "showarrow": false,
          "text": "24,4",
          "x": 2.25,
          "xref": "x1",
          "y": 4,
          "yref": "y1"
         }
        ],
        "font": {
         "size": 12
        },
        "hovermode": "closest",
        "margin": {
         "b": 85,
         "l": 40,
         "r": 40,
         "t": 100
        },
        "plot_bgcolor": "rgb(248,248,248)",
        "showlegend": false,
        "title": "<thr> <com> 9 </com> <com> 4 </com> <com> 1 </com> <com> 19 </com> </thr>",
        "xaxis": {
         "showgrid": false,
         "showline": false,
         "showticklabels": false,
         "zeroline": false
        },
        "yaxis": {
         "showgrid": false,
         "showline": false,
         "showticklabels": false,
         "zeroline": false
        }
       }
      },
      "text/html": [
       "<div id=\"9b6b3b67-27ac-495d-b9c7-6209355ae2c8\" style=\"height: 525px; width: 100%;\" class=\"plotly-graph-div\"></div><script type=\"text/javascript\">require([\"plotly\"], function(Plotly) { window.PLOTLYENV=window.PLOTLYENV || {};window.PLOTLYENV.BASE_URL=\"https://plot.ly\";Plotly.newPlot(\"9b6b3b67-27ac-495d-b9c7-6209355ae2c8\", [{\"mode\": \"lines\", \"hoverinfo\": \"none\", \"y\": [8.0, 7.0, null, 8.0, 7.0, null, 7.0, 6.0, null, 7.0, 6.0, null, 7.0, 6.0, null, 7.0, 6.0, null, 6.0, 5.0, null, 6.0, 5.0, null, 6.0, 5.0, null, 6.0, 5.0, null, 6.0, 5.0, null, 6.0, 5.0, null, 6.0, 5.0, null, 6.0, 5.0, null, 5.0, 4.0, null, 5.0, 4.0, null, 5.0, 4.0, null, 5.0, 4.0, null, 5.0, 4.0, null, 5.0, 4.0, null, 5.0, 4.0, null, 5.0, 4.0, null, 5.0, 4.0, null, 5.0, 4.0, null], \"x\": [0.0, -3.25, null, 0.0, 3.25, null, -3.25, -5.25, null, -3.25, -1.25, null, 3.25, 2.25, null, 3.25, 4.25, null, -5.25, -6.25, null, -5.25, -4.25, null, -1.25, -2.25, null, -1.25, -0.25, null, 2.25, 1.75, null, 2.25, 2.75, null, 4.25, 3.75, null, 4.25, 4.75, null, -6.25, -6.75, null, -6.25, -5.75, null, -4.25, -4.75, null, -4.25, -3.75, null, -2.25, -2.75, null, -2.25, -1.75, null, -0.25, -0.75, null, -0.25, 0.25, null, 1.75, 1.25, null, 1.75, 2.25, null], \"line\": {\"color\": \"rgb(210,210,210)\", \"width\": 1}, \"type\": \"scatter\"}, {\"opacity\": 0.8, \"name\": \"\", \"text\": [\"article\", \"1,1\", \"2,1\", \"3,2\", \"4,2\", \"5,2\", \"6,2\", \"7,3\", \"8,3\", \"9,3\", \"10,3\", \"11,3\", \"12,3\", \"13,3\", \"14,3\", \"15,4\", \"16,4\", \"17,4\", \"18,4\", \"19,4\", \"20,4\", \"21,4\", \"22,4\", \"23,4\", \"24,4\"], \"marker\": {\"color\": [\"#989898\", \"#EE7600\", \"#6175c1\", \"#6175c1\", \"#EE7600\", \"#6175c1\", \"#6175c1\", \"#6175c1\", \"#6175c1\", \"#EE7600\", \"#6175c1\", \"#6175c1\", \"#6175c1\", \"#6175c1\", \"#6175c1\", \"#6175c1\", \"#6175c1\", \"#6175c1\", \"#6175c1\", \"#DB4551\", \"#6175c1\", \"#6175c1\", \"#6175c1\", \"#6175c1\", \"#6175c1\"], \"line\": {\"color\": \"rgb(50,50,50)\", \"width\": 1}, \"symbol\": \"dot\", \"size\": 35}, \"mode\": \"markers\", \"hoverinfo\": \"text\", \"y\": [8.0, 7.0, 7.0, 6.0, 6.0, 6.0, 6.0, 5.0, 5.0, 5.0, 5.0, 5.0, 5.0, 5.0, 5.0, 4.0, 4.0, 4.0, 4.0, 4.0, 4.0, 4.0, 4.0, 4.0, 4.0], \"x\": [0.0, -3.25, 3.25, -5.25, -1.25, 2.25, 4.25, -6.25, -4.25, -2.25, -0.25, 1.75, 2.75, 3.75, 4.75, -6.75, -5.75, -4.75, -3.75, -2.75, -1.75, -0.75, 0.25, 1.25, 2.25], \"type\": \"scatter\"}], {\"showlegend\": false, \"title\": \"<thr> <com> 9 </com> <com> 4 </com> <com> 1 </com> <com> 19 </com> </thr>\", \"plot_bgcolor\": \"rgb(248,248,248)\", \"yaxis\": {\"zeroline\": false, \"showline\": false, \"showticklabels\": false, \"showgrid\": false}, \"xaxis\": {\"zeroline\": false, \"showline\": false, \"showticklabels\": false, \"showgrid\": false}, \"hovermode\": \"closest\", \"font\": {\"size\": 12}, \"margin\": {\"r\": 40, \"b\": 85, \"t\": 100, \"l\": 40}, \"annotations\": [{\"xref\": \"x1\", \"yref\": \"y1\", \"text\": \"article\", \"y\": 8.0, \"x\": 0.0, \"font\": {\"color\": \"rgb(250,250,250)\", \"size\": 10}, \"showarrow\": false}, {\"xref\": \"x1\", \"yref\": \"y1\", \"text\": \"1,1\", \"y\": 7.0, \"x\": -3.25, \"font\": {\"color\": \"rgb(250,250,250)\", \"size\": 10}, \"showarrow\": false}, {\"xref\": \"x1\", \"yref\": \"y1\", \"text\": \"2,1\", \"y\": 7.0, \"x\": 3.25, \"font\": {\"color\": \"rgb(250,250,250)\", \"size\": 10}, \"showarrow\": false}, {\"xref\": \"x1\", \"yref\": \"y1\", \"text\": \"3,2\", \"y\": 6.0, \"x\": -5.25, \"font\": {\"color\": \"rgb(250,250,250)\", \"size\": 10}, \"showarrow\": false}, {\"xref\": \"x1\", \"yref\": \"y1\", \"text\": \"4,2\", \"y\": 6.0, \"x\": -1.25, \"font\": {\"color\": \"rgb(250,250,250)\", \"size\": 10}, \"showarrow\": false}, {\"xref\": \"x1\", \"yref\": \"y1\", \"text\": \"5,2\", \"y\": 6.0, \"x\": 2.25, \"font\": {\"color\": \"rgb(250,250,250)\", \"size\": 10}, \"showarrow\": false}, {\"xref\": \"x1\", \"yref\": \"y1\", \"text\": \"6,2\", \"y\": 6.0, \"x\": 4.25, \"font\": {\"color\": \"rgb(250,250,250)\", \"size\": 10}, \"showarrow\": false}, {\"xref\": \"x1\", \"yref\": \"y1\", \"text\": \"7,3\", \"y\": 5.0, \"x\": -6.25, \"font\": {\"color\": \"rgb(250,250,250)\", \"size\": 10}, \"showarrow\": false}, {\"xref\": \"x1\", \"yref\": \"y1\", \"text\": \"8,3\", \"y\": 5.0, \"x\": -4.25, \"font\": {\"color\": \"rgb(250,250,250)\", \"size\": 10}, \"showarrow\": false}, {\"xref\": \"x1\", \"yref\": \"y1\", \"text\": \"9,3\", \"y\": 5.0, \"x\": -2.25, \"font\": {\"color\": \"rgb(250,250,250)\", \"size\": 10}, \"showarrow\": false}, {\"xref\": \"x1\", \"yref\": \"y1\", \"text\": \"10,3\", \"y\": 5.0, \"x\": -0.25, \"font\": {\"color\": \"rgb(250,250,250)\", \"size\": 10}, \"showarrow\": false}, {\"xref\": \"x1\", \"yref\": \"y1\", \"text\": \"11,3\", \"y\": 5.0, \"x\": 1.75, \"font\": {\"color\": \"rgb(250,250,250)\", \"size\": 10}, \"showarrow\": false}, {\"xref\": \"x1\", \"yref\": \"y1\", \"text\": \"12,3\", \"y\": 5.0, \"x\": 2.75, \"font\": {\"color\": \"rgb(250,250,250)\", \"size\": 10}, \"showarrow\": false}, {\"xref\": \"x1\", \"yref\": \"y1\", \"text\": \"13,3\", \"y\": 5.0, \"x\": 3.75, \"font\": {\"color\": \"rgb(250,250,250)\", \"size\": 10}, \"showarrow\": false}, {\"xref\": \"x1\", \"yref\": \"y1\", \"text\": \"14,3\", \"y\": 5.0, \"x\": 4.75, \"font\": {\"color\": \"rgb(250,250,250)\", \"size\": 10}, \"showarrow\": false}, {\"xref\": \"x1\", \"yref\": \"y1\", \"text\": \"15,4\", \"y\": 4.0, \"x\": -6.75, \"font\": {\"color\": \"rgb(250,250,250)\", \"size\": 10}, \"showarrow\": false}, {\"xref\": \"x1\", \"yref\": \"y1\", \"text\": \"16,4\", \"y\": 4.0, \"x\": -5.75, \"font\": {\"color\": \"rgb(250,250,250)\", \"size\": 10}, \"showarrow\": false}, {\"xref\": \"x1\", \"yref\": \"y1\", \"text\": \"17,4\", \"y\": 4.0, \"x\": -4.75, \"font\": {\"color\": \"rgb(250,250,250)\", \"size\": 10}, \"showarrow\": false}, {\"xref\": \"x1\", \"yref\": \"y1\", \"text\": \"18,4\", \"y\": 4.0, \"x\": -3.75, \"font\": {\"color\": \"rgb(250,250,250)\", \"size\": 10}, \"showarrow\": false}, {\"xref\": \"x1\", \"yref\": \"y1\", \"text\": \"19,4\", \"y\": 4.0, \"x\": -2.75, \"font\": {\"color\": \"rgb(250,250,250)\", \"size\": 10}, \"showarrow\": false}, {\"xref\": \"x1\", \"yref\": \"y1\", \"text\": \"20,4\", \"y\": 4.0, \"x\": -1.75, \"font\": {\"color\": \"rgb(250,250,250)\", \"size\": 10}, \"showarrow\": false}, {\"xref\": \"x1\", \"yref\": \"y1\", \"text\": \"21,4\", \"y\": 4.0, \"x\": -0.75, \"font\": {\"color\": \"rgb(250,250,250)\", \"size\": 10}, \"showarrow\": false}, {\"xref\": \"x1\", \"yref\": \"y1\", \"text\": \"22,4\", \"y\": 4.0, \"x\": 0.25, \"font\": {\"color\": \"rgb(250,250,250)\", \"size\": 10}, \"showarrow\": false}, {\"xref\": \"x1\", \"yref\": \"y1\", \"text\": \"23,4\", \"y\": 4.0, \"x\": 1.25, \"font\": {\"color\": \"rgb(250,250,250)\", \"size\": 10}, \"showarrow\": false}, {\"xref\": \"x1\", \"yref\": \"y1\", \"text\": \"24,4\", \"y\": 4.0, \"x\": 2.25, \"font\": {\"color\": \"rgb(250,250,250)\", \"size\": 10}, \"showarrow\": false}]}, {\"linkText\": \"Export to plot.ly\", \"showLink\": true})});</script>"
      ],
      "text/vnd.plotly.v1+html": [
       "<div id=\"9b6b3b67-27ac-495d-b9c7-6209355ae2c8\" style=\"height: 525px; width: 100%;\" class=\"plotly-graph-div\"></div><script type=\"text/javascript\">require([\"plotly\"], function(Plotly) { window.PLOTLYENV=window.PLOTLYENV || {};window.PLOTLYENV.BASE_URL=\"https://plot.ly\";Plotly.newPlot(\"9b6b3b67-27ac-495d-b9c7-6209355ae2c8\", [{\"mode\": \"lines\", \"hoverinfo\": \"none\", \"y\": [8.0, 7.0, null, 8.0, 7.0, null, 7.0, 6.0, null, 7.0, 6.0, null, 7.0, 6.0, null, 7.0, 6.0, null, 6.0, 5.0, null, 6.0, 5.0, null, 6.0, 5.0, null, 6.0, 5.0, null, 6.0, 5.0, null, 6.0, 5.0, null, 6.0, 5.0, null, 6.0, 5.0, null, 5.0, 4.0, null, 5.0, 4.0, null, 5.0, 4.0, null, 5.0, 4.0, null, 5.0, 4.0, null, 5.0, 4.0, null, 5.0, 4.0, null, 5.0, 4.0, null, 5.0, 4.0, null, 5.0, 4.0, null], \"x\": [0.0, -3.25, null, 0.0, 3.25, null, -3.25, -5.25, null, -3.25, -1.25, null, 3.25, 2.25, null, 3.25, 4.25, null, -5.25, -6.25, null, -5.25, -4.25, null, -1.25, -2.25, null, -1.25, -0.25, null, 2.25, 1.75, null, 2.25, 2.75, null, 4.25, 3.75, null, 4.25, 4.75, null, -6.25, -6.75, null, -6.25, -5.75, null, -4.25, -4.75, null, -4.25, -3.75, null, -2.25, -2.75, null, -2.25, -1.75, null, -0.25, -0.75, null, -0.25, 0.25, null, 1.75, 1.25, null, 1.75, 2.25, null], \"line\": {\"color\": \"rgb(210,210,210)\", \"width\": 1}, \"type\": \"scatter\"}, {\"opacity\": 0.8, \"name\": \"\", \"text\": [\"article\", \"1,1\", \"2,1\", \"3,2\", \"4,2\", \"5,2\", \"6,2\", \"7,3\", \"8,3\", \"9,3\", \"10,3\", \"11,3\", \"12,3\", \"13,3\", \"14,3\", \"15,4\", \"16,4\", \"17,4\", \"18,4\", \"19,4\", \"20,4\", \"21,4\", \"22,4\", \"23,4\", \"24,4\"], \"marker\": {\"color\": [\"#989898\", \"#EE7600\", \"#6175c1\", \"#6175c1\", \"#EE7600\", \"#6175c1\", \"#6175c1\", \"#6175c1\", \"#6175c1\", \"#EE7600\", \"#6175c1\", \"#6175c1\", \"#6175c1\", \"#6175c1\", \"#6175c1\", \"#6175c1\", \"#6175c1\", \"#6175c1\", \"#6175c1\", \"#DB4551\", \"#6175c1\", \"#6175c1\", \"#6175c1\", \"#6175c1\", \"#6175c1\"], \"line\": {\"color\": \"rgb(50,50,50)\", \"width\": 1}, \"symbol\": \"dot\", \"size\": 35}, \"mode\": \"markers\", \"hoverinfo\": \"text\", \"y\": [8.0, 7.0, 7.0, 6.0, 6.0, 6.0, 6.0, 5.0, 5.0, 5.0, 5.0, 5.0, 5.0, 5.0, 5.0, 4.0, 4.0, 4.0, 4.0, 4.0, 4.0, 4.0, 4.0, 4.0, 4.0], \"x\": [0.0, -3.25, 3.25, -5.25, -1.25, 2.25, 4.25, -6.25, -4.25, -2.25, -0.25, 1.75, 2.75, 3.75, 4.75, -6.75, -5.75, -4.75, -3.75, -2.75, -1.75, -0.75, 0.25, 1.25, 2.25], \"type\": \"scatter\"}], {\"showlegend\": false, \"title\": \"<thr> <com> 9 </com> <com> 4 </com> <com> 1 </com> <com> 19 </com> </thr>\", \"plot_bgcolor\": \"rgb(248,248,248)\", \"yaxis\": {\"zeroline\": false, \"showline\": false, \"showticklabels\": false, \"showgrid\": false}, \"xaxis\": {\"zeroline\": false, \"showline\": false, \"showticklabels\": false, \"showgrid\": false}, \"hovermode\": \"closest\", \"font\": {\"size\": 12}, \"margin\": {\"r\": 40, \"b\": 85, \"t\": 100, \"l\": 40}, \"annotations\": [{\"xref\": \"x1\", \"yref\": \"y1\", \"text\": \"article\", \"y\": 8.0, \"x\": 0.0, \"font\": {\"color\": \"rgb(250,250,250)\", \"size\": 10}, \"showarrow\": false}, {\"xref\": \"x1\", \"yref\": \"y1\", \"text\": \"1,1\", \"y\": 7.0, \"x\": -3.25, \"font\": {\"color\": \"rgb(250,250,250)\", \"size\": 10}, \"showarrow\": false}, {\"xref\": \"x1\", \"yref\": \"y1\", \"text\": \"2,1\", \"y\": 7.0, \"x\": 3.25, \"font\": {\"color\": \"rgb(250,250,250)\", \"size\": 10}, \"showarrow\": false}, {\"xref\": \"x1\", \"yref\": \"y1\", \"text\": \"3,2\", \"y\": 6.0, \"x\": -5.25, \"font\": {\"color\": \"rgb(250,250,250)\", \"size\": 10}, \"showarrow\": false}, {\"xref\": \"x1\", \"yref\": \"y1\", \"text\": \"4,2\", \"y\": 6.0, \"x\": -1.25, \"font\": {\"color\": \"rgb(250,250,250)\", \"size\": 10}, \"showarrow\": false}, {\"xref\": \"x1\", \"yref\": \"y1\", \"text\": \"5,2\", \"y\": 6.0, \"x\": 2.25, \"font\": {\"color\": \"rgb(250,250,250)\", \"size\": 10}, \"showarrow\": false}, {\"xref\": \"x1\", \"yref\": \"y1\", \"text\": \"6,2\", \"y\": 6.0, \"x\": 4.25, \"font\": {\"color\": \"rgb(250,250,250)\", \"size\": 10}, \"showarrow\": false}, {\"xref\": \"x1\", \"yref\": \"y1\", \"text\": \"7,3\", \"y\": 5.0, \"x\": -6.25, \"font\": {\"color\": \"rgb(250,250,250)\", \"size\": 10}, \"showarrow\": false}, {\"xref\": \"x1\", \"yref\": \"y1\", \"text\": \"8,3\", \"y\": 5.0, \"x\": -4.25, \"font\": {\"color\": \"rgb(250,250,250)\", \"size\": 10}, \"showarrow\": false}, {\"xref\": \"x1\", \"yref\": \"y1\", \"text\": \"9,3\", \"y\": 5.0, \"x\": -2.25, \"font\": {\"color\": \"rgb(250,250,250)\", \"size\": 10}, \"showarrow\": false}, {\"xref\": \"x1\", \"yref\": \"y1\", \"text\": \"10,3\", \"y\": 5.0, \"x\": -0.25, \"font\": {\"color\": \"rgb(250,250,250)\", \"size\": 10}, \"showarrow\": false}, {\"xref\": \"x1\", \"yref\": \"y1\", \"text\": \"11,3\", \"y\": 5.0, \"x\": 1.75, \"font\": {\"color\": \"rgb(250,250,250)\", \"size\": 10}, \"showarrow\": false}, {\"xref\": \"x1\", \"yref\": \"y1\", \"text\": \"12,3\", \"y\": 5.0, \"x\": 2.75, \"font\": {\"color\": \"rgb(250,250,250)\", \"size\": 10}, \"showarrow\": false}, {\"xref\": \"x1\", \"yref\": \"y1\", \"text\": \"13,3\", \"y\": 5.0, \"x\": 3.75, \"font\": {\"color\": \"rgb(250,250,250)\", \"size\": 10}, \"showarrow\": false}, {\"xref\": \"x1\", \"yref\": \"y1\", \"text\": \"14,3\", \"y\": 5.0, \"x\": 4.75, \"font\": {\"color\": \"rgb(250,250,250)\", \"size\": 10}, \"showarrow\": false}, {\"xref\": \"x1\", \"yref\": \"y1\", \"text\": \"15,4\", \"y\": 4.0, \"x\": -6.75, \"font\": {\"color\": \"rgb(250,250,250)\", \"size\": 10}, \"showarrow\": false}, {\"xref\": \"x1\", \"yref\": \"y1\", \"text\": \"16,4\", \"y\": 4.0, \"x\": -5.75, \"font\": {\"color\": \"rgb(250,250,250)\", \"size\": 10}, \"showarrow\": false}, {\"xref\": \"x1\", \"yref\": \"y1\", \"text\": \"17,4\", \"y\": 4.0, \"x\": -4.75, \"font\": {\"color\": \"rgb(250,250,250)\", \"size\": 10}, \"showarrow\": false}, {\"xref\": \"x1\", \"yref\": \"y1\", \"text\": \"18,4\", \"y\": 4.0, \"x\": -3.75, \"font\": {\"color\": \"rgb(250,250,250)\", \"size\": 10}, \"showarrow\": false}, {\"xref\": \"x1\", \"yref\": \"y1\", \"text\": \"19,4\", \"y\": 4.0, \"x\": -2.75, \"font\": {\"color\": \"rgb(250,250,250)\", \"size\": 10}, \"showarrow\": false}, {\"xref\": \"x1\", \"yref\": \"y1\", \"text\": \"20,4\", \"y\": 4.0, \"x\": -1.75, \"font\": {\"color\": \"rgb(250,250,250)\", \"size\": 10}, \"showarrow\": false}, {\"xref\": \"x1\", \"yref\": \"y1\", \"text\": \"21,4\", \"y\": 4.0, \"x\": -0.75, \"font\": {\"color\": \"rgb(250,250,250)\", \"size\": 10}, \"showarrow\": false}, {\"xref\": \"x1\", \"yref\": \"y1\", \"text\": \"22,4\", \"y\": 4.0, \"x\": 0.25, \"font\": {\"color\": \"rgb(250,250,250)\", \"size\": 10}, \"showarrow\": false}, {\"xref\": \"x1\", \"yref\": \"y1\", \"text\": \"23,4\", \"y\": 4.0, \"x\": 1.25, \"font\": {\"color\": \"rgb(250,250,250)\", \"size\": 10}, \"showarrow\": false}, {\"xref\": \"x1\", \"yref\": \"y1\", \"text\": \"24,4\", \"y\": 4.0, \"x\": 2.25, \"font\": {\"color\": \"rgb(250,250,250)\", \"size\": 10}, \"showarrow\": false}]}, {\"linkText\": \"Export to plot.ly\", \"showLink\": true})});</script>"
      ]
     },
     "metadata": {},
     "output_type": "display_data"
    }
   ],
   "source": [
    "for i in range(1, 20):\n",
    "    tree_plot(25, i)"
   ]
  },
  {
   "cell_type": "code",
   "execution_count": null,
   "metadata": {},
   "outputs": [],
   "source": []
  },
  {
   "cell_type": "code",
   "execution_count": null,
   "metadata": {},
   "outputs": [],
   "source": []
  },
  {
   "cell_type": "code",
   "execution_count": null,
   "metadata": {},
   "outputs": [],
   "source": []
  }
 ],
 "metadata": {
  "kernelspec": {
   "display_name": "Python 2",
   "language": "python",
   "name": "python2"
  },
  "language_info": {
   "codemirror_mode": {
    "name": "ipython",
    "version": 2
   },
   "file_extension": ".py",
   "mimetype": "text/x-python",
   "name": "python",
   "nbconvert_exporter": "python",
   "pygments_lexer": "ipython2",
   "version": "2.7.15"
  },
  "toc": {
   "base_numbering": 1,
   "nav_menu": {},
   "number_sections": true,
   "sideBar": true,
   "skip_h1_title": false,
   "title_cell": "Table of Contents",
   "title_sidebar": "Contents",
   "toc_cell": false,
   "toc_position": {},
   "toc_section_display": true,
   "toc_window_display": false
  }
 },
 "nbformat": 4,
 "nbformat_minor": 2
}
