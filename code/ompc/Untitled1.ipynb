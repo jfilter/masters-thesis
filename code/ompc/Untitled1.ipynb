{
 "cells": [
  {
   "cell_type": "code",
   "execution_count": 11,
   "metadata": {
    "ExecuteTime": {
     "end_time": "2019-04-07T20:46:08.068021Z",
     "start_time": "2019-04-07T20:46:07.965410Z"
    }
   },
   "outputs": [],
   "source": [
    "import pandas as pd\n",
    "from pathlib import Path\n",
    "from bpemb import BPEmb\n"
   ]
  },
  {
   "cell_type": "code",
   "execution_count": 12,
   "metadata": {
    "ExecuteTime": {
     "end_time": "2019-04-07T20:46:13.704524Z",
     "start_time": "2019-04-07T20:46:08.930101Z"
    }
   },
   "outputs": [],
   "source": [
    "bpemb_de = BPEmb(lang=\"de\", vs=25000, dim=300)\n",
    "itos = dict(enumerate(bpemb_de.words + ['xxpad']))\n",
    "# voc = Vocab(itos)"
   ]
  },
  {
   "cell_type": "code",
   "execution_count": 13,
   "metadata": {
    "ExecuteTime": {
     "end_time": "2019-04-07T20:46:13.711961Z",
     "start_time": "2019-04-07T20:46:13.707105Z"
    }
   },
   "outputs": [],
   "source": [
    "cat = 'OffTopic'\n",
    "fold = '2'"
   ]
  },
  {
   "cell_type": "code",
   "execution_count": 18,
   "metadata": {
    "ExecuteTime": {
     "end_time": "2019-04-07T20:56:27.085185Z",
     "start_time": "2019-04-07T20:56:26.800998Z"
    }
   },
   "outputs": [],
   "source": [
    "train_df = pd.read_pickle(Path('/mnt/data/group07/johannes/ompc/data_ann_pp_short2')/cat/fold/'train.pkl')\n",
    "test_df = pd.read_pickle(Path('/mnt/data/group07/johannes/ompc/data_ann_pp_short2')/cat/fold/'test.pkl')"
   ]
  },
  {
   "cell_type": "code",
   "execution_count": 19,
   "metadata": {
    "ExecuteTime": {
     "end_time": "2019-04-07T20:56:27.622140Z",
     "start_time": "2019-04-07T20:56:27.603798Z"
    }
   },
   "outputs": [
    {
     "data": {
      "text/plain": [
       "ID_Post                                                        5321\n",
       "Category                                                   OffTopic\n",
       "Value                                                             0\n",
       "Fold                                                              1\n",
       "ID_Parent_Post                                                 5316\n",
       "ID_Article                                                       66\n",
       "ID_User                                                        7054\n",
       "CreatedAt                                   2015-06-01 21:15:03.110\n",
       "Status                                                       online\n",
       "Headline                                                           \n",
       "Body              Gott sei dank ist für sie eine Umfrage alles, ...\n",
       "PositiveVotes                                                     2\n",
       "NegativeVotes                                                     1\n",
       "Path                          Newsroom/Inland/bundeslaender/ipowien\n",
       "publishingDate                               2015-06-01 17:19:56.00\n",
       "Title                Wiener SPÖ will FPÖ nicht in die Hände spielen\n",
       "Body_Article      <div class=\"section\" id=\"content-main\" itempro...\n",
       "depth                                                             2\n",
       "rank                                                              2\n",
       "res               [24957, 3477, 164, 10683, 24957, 673, 408, 143...\n",
       "Name: 121, dtype: object"
      ]
     },
     "execution_count": 19,
     "metadata": {},
     "output_type": "execute_result"
    }
   ],
   "source": [
    "train_df.iloc[1]"
   ]
  },
  {
   "cell_type": "code",
   "execution_count": 20,
   "metadata": {
    "ExecuteTime": {
     "end_time": "2019-04-07T20:56:28.107851Z",
     "start_time": "2019-04-07T20:56:28.095934Z"
    }
   },
   "outputs": [
    {
     "data": {
      "text/plain": [
       "'/bundeslaender/ipowien xxs wiener spö will fpö nicht in die hände spielen xxd xxc stimmt, extrem viele fehler... wien ist eine der lebenswertesten städte der welt - dem müssen wir ein ende setzen! wählt blau, damit mit wien bundesland #0 verschuldet untergeht. xxs newsroom/inland/bundeslaender/ipowien xxs wiener spö will fpö nicht in die hände spielen xxd xxc ich bin kein feind der häupl\"schen regierungsjahre, aber ich glaub, bei der verschuldung müsste man dann nicht mehr viel machen. aber es könnte unter strache trotzdem sehr viel draufgehen. xxs newsroom/inland/bundeslaender/ipowien xxs wiener spö will fpö nicht in die hände spielen xxd xxc gott sei dank ist für sie eine umfrage alles, alles negative wird für sie wegen einer umfrage unwichtig, weil manager befragt wurden... xxd xxe'"
      ]
     },
     "execution_count": 20,
     "metadata": {},
     "output_type": "execute_result"
    }
   ],
   "source": [
    "bpemb_de.decode_ids(train_df.iloc[1]['res'])"
   ]
  },
  {
   "cell_type": "code",
   "execution_count": 21,
   "metadata": {
    "ExecuteTime": {
     "end_time": "2019-04-07T20:56:29.646800Z",
     "start_time": "2019-04-07T20:56:29.634602Z"
    }
   },
   "outputs": [
    {
     "data": {
      "text/plain": [
       "200"
      ]
     },
     "execution_count": 21,
     "metadata": {},
     "output_type": "execute_result"
    }
   ],
   "source": [
    "len(train_df.iloc[1]['res'])"
   ]
  },
  {
   "cell_type": "code",
   "execution_count": null,
   "metadata": {},
   "outputs": [],
   "source": []
  }
 ],
 "metadata": {
  "kernelspec": {
   "display_name": "Python 3",
   "language": "python",
   "name": "python3"
  },
  "language_info": {
   "codemirror_mode": {
    "name": "ipython",
    "version": 3
   },
   "file_extension": ".py",
   "mimetype": "text/x-python",
   "name": "python",
   "nbconvert_exporter": "python",
   "pygments_lexer": "ipython3",
   "version": "3.7.1"
  },
  "toc": {
   "base_numbering": 1,
   "nav_menu": {},
   "number_sections": true,
   "sideBar": true,
   "skip_h1_title": false,
   "title_cell": "Table of Contents",
   "title_sidebar": "Contents",
   "toc_cell": false,
   "toc_position": {},
   "toc_section_display": true,
   "toc_window_display": false
  }
 },
 "nbformat": 4,
 "nbformat_minor": 2
}
