{
 "cells": [
  {
   "cell_type": "code",
   "execution_count": 3,
   "metadata": {
    "ExecuteTime": {
     "end_time": "2019-04-12T12:34:00.976630Z",
     "start_time": "2019-04-12T12:34:00.962573Z"
    }
   },
   "outputs": [
    {
     "data": {
      "text/plain": [
       "'0.7.1'"
      ]
     },
     "execution_count": 3,
     "metadata": {},
     "output_type": "execute_result"
    }
   ],
   "source": [
    "from plotly.offline import download_plotlyjs, init_notebook_mode, plot, iplot\n",
    "\n",
    "\n",
    "import plotly.plotly as py\n",
    "import plotly.graph_objs as go\n",
    "import plotly\n",
    "\n",
    "import igraph\n",
    "from igraph import *\n",
    "igraph.__version__"
   ]
  },
  {
   "cell_type": "code",
   "execution_count": 4,
   "metadata": {
    "ExecuteTime": {
     "end_time": "2019-04-12T12:34:01.249372Z",
     "start_time": "2019-04-12T12:34:01.131172Z"
    }
   },
   "outputs": [
    {
     "name": "stdout",
     "output_type": "stream",
     "text": [
      "Python 2.7.15\r\n"
     ]
    }
   ],
   "source": [
    "! python --version"
   ]
  },
  {
   "cell_type": "code",
   "execution_count": 5,
   "metadata": {
    "ExecuteTime": {
     "end_time": "2019-04-12T12:34:01.308042Z",
     "start_time": "2019-04-12T12:34:01.299384Z"
    }
   },
   "outputs": [
    {
     "data": {
      "text/plain": [
       "'2.7.0'"
      ]
     },
     "execution_count": 5,
     "metadata": {},
     "output_type": "execute_result"
    }
   ],
   "source": [
    "plotly.__version__"
   ]
  },
  {
   "cell_type": "code",
   "execution_count": 6,
   "metadata": {
    "ExecuteTime": {
     "end_time": "2019-04-12T12:34:01.462054Z",
     "start_time": "2019-04-12T12:34:01.453378Z"
    }
   },
   "outputs": [
    {
     "data": {
      "text/html": [
       "<script>requirejs.config({paths: { 'plotly': ['https://cdn.plot.ly/plotly-latest.min']},});if(!window.Plotly) {{require(['plotly'],function(plotly) {window.Plotly=plotly;});}}</script>"
      ],
      "text/vnd.plotly.v1+html": [
       "<script>requirejs.config({paths: { 'plotly': ['https://cdn.plot.ly/plotly-latest.min']},});if(!window.Plotly) {{require(['plotly'],function(plotly) {window.Plotly=plotly;});}}</script>"
      ]
     },
     "metadata": {},
     "output_type": "display_data"
    }
   ],
   "source": [
    "init_notebook_mode(connected=True)"
   ]
  },
  {
   "cell_type": "code",
   "execution_count": 7,
   "metadata": {
    "ExecuteTime": {
     "end_time": "2019-04-12T12:34:01.586609Z",
     "start_time": "2019-04-12T12:34:01.581652Z"
    }
   },
   "outputs": [],
   "source": [
    "# plotly.__version__"
   ]
  },
  {
   "cell_type": "code",
   "execution_count": 8,
   "metadata": {
    "ExecuteTime": {
     "end_time": "2019-04-12T12:34:01.716278Z",
     "start_time": "2019-04-12T12:34:01.708678Z"
    }
   },
   "outputs": [],
   "source": [
    "def get_layer(i):\n",
    "    return int(math.floor(math.log(float(i) + 1, 2)))\n",
    "\n",
    "def get_parent(i):\n",
    "    return int(math.floor((i - 1) /2))"
   ]
  },
  {
   "cell_type": "code",
   "execution_count": 9,
   "metadata": {
    "ExecuteTime": {
     "end_time": "2019-04-12T12:34:01.872779Z",
     "start_time": "2019-04-12T12:34:01.856991Z"
    }
   },
   "outputs": [],
   "source": [
    "def get_parents(children, high,  no_root=True):\n",
    "    print(children)\n",
    "    start_id = []\n",
    "    i = 1\n",
    "    for c in children:\n",
    "        if i == high:\n",
    "            return []\n",
    "        start_id.append(i)\n",
    "        i += c + 1\n",
    "    \n",
    "    for i, x in enumerate(reversed(start_id)):\n",
    "        if high > x:\n",
    "            res = []\n",
    "            c = x\n",
    "            while x < high:\n",
    "                res.append(x)\n",
    "                x += 1\n",
    "            return res\n",
    "    return []"
   ]
  },
  {
   "cell_type": "code",
   "execution_count": 10,
   "metadata": {
    "ExecuteTime": {
     "end_time": "2019-04-12T12:34:02.011860Z",
     "start_time": "2019-04-12T12:34:02.005676Z"
    }
   },
   "outputs": [],
   "source": [
    "def create_sequence(*kwargs):\n",
    "    return '<th> ' + ' '.join(['<cm> ' + str(n) + ' </cm>' for n in get_parents(*kwargs) + [i]]) + ' </th>'"
   ]
  },
  {
   "cell_type": "code",
   "execution_count": 24,
   "metadata": {
    "ExecuteTime": {
     "end_time": "2019-04-12T12:39:03.910775Z",
     "start_time": "2019-04-12T12:39:03.810453Z"
    }
   },
   "outputs": [],
   "source": [
    "def tree_plot(children=[2, 1, 4, 3], highlight = None, save=False):\n",
    "#     G = Graph.Tree(nr_vertices, 2) # 2 stands for children number\n",
    "\n",
    "    G = Graph()\n",
    "    \n",
    "#     root, article\n",
    "    G.add_vertex(0)\n",
    "    \n",
    "#     first level comments\n",
    "    base_vertix = len(children)\n",
    "    vcount = 0\n",
    "    \n",
    "    for i, num in enumerate(children):\n",
    "        vcount += 1\n",
    "        G.add_vertex(vcount)\n",
    "        G.add_edge(0, vcount)\n",
    "        \n",
    "        for ii in range(num):\n",
    "            vcount += 1\n",
    "            G.add_vertex(vcount)\n",
    "            G.add_edge(vcount - 1, vcount)\n",
    "    \n",
    "    for x in [1, 4, 6, 9]:\n",
    "        G.add_vertex(vcount + 1)\n",
    "        G.add_edge(x, vcount + 1)\n",
    "        vcount += 1\n",
    "    \n",
    "    nr_vertices = vcount + 1\n",
    "    print(nr_vertices)\n",
    "    \n",
    "    v_label = map(str, range(nr_vertices))\n",
    "\n",
    "    lay = G.layout('rt', root=[0])\n",
    "\n",
    "    position = {k: lay[k] for k in range(nr_vertices)}\n",
    "    Y = [lay[k][1] for k in range(nr_vertices)]\n",
    "    M = max(Y)\n",
    "\n",
    "    es = EdgeSeq(G) # sequence of edges\n",
    "    E = [e.tuple for e in G.es] # list of edges\n",
    "\n",
    "    L = len(position)\n",
    "    Xn = [position[k][0] for k in range(L)]\n",
    "    Yn = [2*M-position[k][1] for k in range(L)]\n",
    "    Xe = []\n",
    "    Ye = []\n",
    "    for edge in E:\n",
    "        Xe+=[position[edge[0]][0],position[edge[1]][0], None]\n",
    "        Ye+=[2*M-position[edge[0]][1],2*M-position[edge[1]][1], None] \n",
    "\n",
    "    labels = v_label\n",
    "\n",
    "    labels = ['article']\n",
    "    \n",
    "    bla = 0\n",
    "    for l in v_label[1:]:\n",
    "          \n",
    "        labels.append(l)\n",
    "\n",
    "    colors = ['#deebf7']\n",
    "    if not highlight is None:\n",
    "        parents_highlight = get_parents(children, highlight)\n",
    "\n",
    "        for i in range(1, nr_vertices):\n",
    "            if i in parents_highlight:\n",
    "                colors.append('#fdcc8a')\n",
    "            else:\n",
    "                if i == highlight:\n",
    "                    colors.append('#fc8d59')\n",
    "                else:\n",
    "                    colors.append('#9ecae1')\n",
    "    else:\n",
    "        colors += ['#9ecae1'] * (nr_vertices - 1)\n",
    "\n",
    "    lines = go.Scatter(x=Xe,\n",
    "                       y=Ye,\n",
    "                       mode='lines',\n",
    "                       line=dict(color='rgb(210,210,210)', width=1),\n",
    "                       hoverinfo='none'\n",
    "                       )\n",
    "    dots = go.Scatter(x=Xn,\n",
    "                      y=Yn,\n",
    "                      mode='markers',\n",
    "                      name='',\n",
    "                      marker=dict(symbol='dot',\n",
    "                                  size=100,\n",
    "                                  color=colors,\n",
    "                                  line=dict(color='rgb(10,10,10)', width=1)\n",
    "                                  ),\n",
    "                      text=labels,\n",
    "                      hoverinfo='text',\n",
    "                      opacity=1\n",
    "                      )\n",
    "\n",
    "    def make_annotations(pos, text, font_size=30, font_color='rgb(0,0,0)'):\n",
    "        L=len((pos))\n",
    "        if len((text))!=L:\n",
    "            raise ValueError('The lists pos and text must have the same len')\n",
    "        annotations = go.Annotations()\n",
    "        for k in range(L):\n",
    "            annotations.append(\n",
    "                go.Annotation(\n",
    "                    text=labels[k], # or replace labels with a different list for the text within the circle  \n",
    "                    x=pos[k][0], y=2*M-position[k][1],\n",
    "                    xref='x1', yref='y1',\n",
    "                    font=dict(color=font_color, size=font_size),\n",
    "                    showarrow=False)\n",
    "            )\n",
    "        return annotations  \n",
    "\n",
    "    axis = dict(showline=False, # hide axis line, grid, ticklabels and  title\n",
    "                zeroline=False,\n",
    "                showgrid=False,\n",
    "                showticklabels=False,\n",
    "                )\n",
    "    title = ''\n",
    "    if not highlight is None:\n",
    "        title=  create_sequence(children, highlight)\n",
    "    layout = dict(title=title,  \n",
    "                  annotations=make_annotations(position, v_label),\n",
    "                  font=dict(size=20),\n",
    "                  showlegend=False,\n",
    "                  xaxis=go.XAxis(axis),\n",
    "                  yaxis=go.YAxis(axis),          \n",
    "                  margin=dict(l=40, r=40, b=85, t=100),\n",
    "                  hovermode='closest',\n",
    "#                   plot_bgcolor='rgb(248,248,248)'          \n",
    "                  )\n",
    "\n",
    "    data=go.Data([lines, dots])\n",
    "    fig=dict(data=data, layout=layout)\n",
    "    fig['layout'].update(annotations=make_annotations(position, v_label))\n",
    "    if save:\n",
    "        iplot(fig, filename=str(highlight) , image='png', image_width=1000, image_height=1000)\n",
    "    else:\n",
    "        iplot(fig, image_width=1000, image_height=1000)\n",
    "\n",
    "    return fig"
   ]
  },
  {
   "cell_type": "code",
   "execution_count": 25,
   "metadata": {
    "ExecuteTime": {
     "end_time": "2019-04-12T12:39:05.725237Z",
     "start_time": "2019-04-12T12:39:04.673235Z"
    }
   },
   "outputs": [
    {
     "name": "stdout",
     "output_type": "stream",
     "text": [
      "19\n",
      "[2, 1, 4, 3]\n",
      "[2, 1, 4, 3]\n"
     ]
    },
    {
     "data": {
      "application/vnd.plotly.v1+json": {
       "data": [
        {
         "hoverinfo": "none",
         "line": {
          "color": "rgb(210,210,210)",
          "width": 1
         },
         "mode": "lines",
         "type": "scatter",
         "x": [
          0,
          -2.875,
          null,
          -2.875,
          -3.375,
          null,
          -3.375,
          -3.375,
          null,
          0,
          -0.875,
          null,
          -0.875,
          -1.375,
          null,
          0,
          1.125,
          null,
          1.125,
          0.625,
          null,
          0.625,
          0.625,
          null,
          0.625,
          0.625,
          null,
          0.625,
          0.125,
          null,
          0,
          2.625,
          null,
          2.625,
          2.625,
          null,
          2.625,
          2.625,
          null,
          2.625,
          2.625,
          null,
          -2.875,
          -2.375,
          null,
          -0.875,
          -0.375,
          null,
          1.125,
          1.625,
          null,
          0.625,
          1.125,
          null
         ],
         "y": [
          10,
          9,
          null,
          9,
          8,
          null,
          8,
          7,
          null,
          10,
          9,
          null,
          9,
          8,
          null,
          10,
          9,
          null,
          9,
          8,
          null,
          8,
          7,
          null,
          7,
          6,
          null,
          6,
          5,
          null,
          10,
          9,
          null,
          9,
          8,
          null,
          8,
          7,
          null,
          7,
          6,
          null,
          9,
          8,
          null,
          9,
          8,
          null,
          9,
          8,
          null,
          6,
          5,
          null
         ]
        },
        {
         "hoverinfo": "text",
         "marker": {
          "color": [
           "#deebf7",
           "#9ecae1",
           "#9ecae1",
           "#9ecae1",
           "#9ecae1",
           "#9ecae1",
           "#fdcc8a",
           "#fdcc8a",
           "#fdcc8a",
           "#fdcc8a",
           "#fc8d59",
           "#9ecae1",
           "#9ecae1",
           "#9ecae1",
           "#9ecae1",
           "#9ecae1",
           "#9ecae1",
           "#9ecae1",
           "#9ecae1"
          ],
          "line": {
           "color": "rgb(10,10,10)",
           "width": 1
          },
          "size": 100,
          "symbol": "dot"
         },
         "mode": "markers",
         "name": "",
         "opacity": 1,
         "text": [
          "article",
          "1",
          "2",
          "3",
          "4",
          "5",
          "6",
          "7",
          "8",
          "9",
          "10",
          "11",
          "12",
          "13",
          "14",
          "15",
          "16",
          "17",
          "18"
         ],
         "type": "scatter",
         "x": [
          0,
          -2.875,
          -3.375,
          -3.375,
          -0.875,
          -1.375,
          1.125,
          0.625,
          0.625,
          0.625,
          0.125,
          2.625,
          2.625,
          2.625,
          2.625,
          -2.375,
          -0.375,
          1.625,
          1.125
         ],
         "y": [
          10,
          9,
          8,
          7,
          9,
          8,
          9,
          8,
          7,
          6,
          5,
          9,
          8,
          7,
          6,
          8,
          8,
          8,
          5
         ]
        }
       ],
       "layout": {
        "annotations": [
         {
          "font": {
           "color": "rgb(0,0,0)",
           "size": 30
          },
          "showarrow": false,
          "text": "article",
          "x": 0,
          "xref": "x1",
          "y": 10,
          "yref": "y1"
         },
         {
          "font": {
           "color": "rgb(0,0,0)",
           "size": 30
          },
          "showarrow": false,
          "text": "1",
          "x": -2.875,
          "xref": "x1",
          "y": 9,
          "yref": "y1"
         },
         {
          "font": {
           "color": "rgb(0,0,0)",
           "size": 30
          },
          "showarrow": false,
          "text": "2",
          "x": -3.375,
          "xref": "x1",
          "y": 8,
          "yref": "y1"
         },
         {
          "font": {
           "color": "rgb(0,0,0)",
           "size": 30
          },
          "showarrow": false,
          "text": "3",
          "x": -3.375,
          "xref": "x1",
          "y": 7,
          "yref": "y1"
         },
         {
          "font": {
           "color": "rgb(0,0,0)",
           "size": 30
          },
          "showarrow": false,
          "text": "4",
          "x": -0.875,
          "xref": "x1",
          "y": 9,
          "yref": "y1"
         },
         {
          "font": {
           "color": "rgb(0,0,0)",
           "size": 30
          },
          "showarrow": false,
          "text": "5",
          "x": -1.375,
          "xref": "x1",
          "y": 8,
          "yref": "y1"
         },
         {
          "font": {
           "color": "rgb(0,0,0)",
           "size": 30
          },
          "showarrow": false,
          "text": "6",
          "x": 1.125,
          "xref": "x1",
          "y": 9,
          "yref": "y1"
         },
         {
          "font": {
           "color": "rgb(0,0,0)",
           "size": 30
          },
          "showarrow": false,
          "text": "7",
          "x": 0.625,
          "xref": "x1",
          "y": 8,
          "yref": "y1"
         },
         {
          "font": {
           "color": "rgb(0,0,0)",
           "size": 30
          },
          "showarrow": false,
          "text": "8",
          "x": 0.625,
          "xref": "x1",
          "y": 7,
          "yref": "y1"
         },
         {
          "font": {
           "color": "rgb(0,0,0)",
           "size": 30
          },
          "showarrow": false,
          "text": "9",
          "x": 0.625,
          "xref": "x1",
          "y": 6,
          "yref": "y1"
         },
         {
          "font": {
           "color": "rgb(0,0,0)",
           "size": 30
          },
          "showarrow": false,
          "text": "10",
          "x": 0.125,
          "xref": "x1",
          "y": 5,
          "yref": "y1"
         },
         {
          "font": {
           "color": "rgb(0,0,0)",
           "size": 30
          },
          "showarrow": false,
          "text": "11",
          "x": 2.625,
          "xref": "x1",
          "y": 9,
          "yref": "y1"
         },
         {
          "font": {
           "color": "rgb(0,0,0)",
           "size": 30
          },
          "showarrow": false,
          "text": "12",
          "x": 2.625,
          "xref": "x1",
          "y": 8,
          "yref": "y1"
         },
         {
          "font": {
           "color": "rgb(0,0,0)",
           "size": 30
          },
          "showarrow": false,
          "text": "13",
          "x": 2.625,
          "xref": "x1",
          "y": 7,
          "yref": "y1"
         },
         {
          "font": {
           "color": "rgb(0,0,0)",
           "size": 30
          },
          "showarrow": false,
          "text": "14",
          "x": 2.625,
          "xref": "x1",
          "y": 6,
          "yref": "y1"
         },
         {
          "font": {
           "color": "rgb(0,0,0)",
           "size": 30
          },
          "showarrow": false,
          "text": "15",
          "x": -2.375,
          "xref": "x1",
          "y": 8,
          "yref": "y1"
         },
         {
          "font": {
           "color": "rgb(0,0,0)",
           "size": 30
          },
          "showarrow": false,
          "text": "16",
          "x": -0.375,
          "xref": "x1",
          "y": 8,
          "yref": "y1"
         },
         {
          "font": {
           "color": "rgb(0,0,0)",
           "size": 30
          },
          "showarrow": false,
          "text": "17",
          "x": 1.625,
          "xref": "x1",
          "y": 8,
          "yref": "y1"
         },
         {
          "font": {
           "color": "rgb(0,0,0)",
           "size": 30
          },
          "showarrow": false,
          "text": "18",
          "x": 1.125,
          "xref": "x1",
          "y": 5,
          "yref": "y1"
         }
        ],
        "font": {
         "size": 20
        },
        "hovermode": "closest",
        "margin": {
         "b": 85,
         "l": 40,
         "r": 40,
         "t": 100
        },
        "showlegend": false,
        "title": "<th> <cm> 6 </cm> <cm> 7 </cm> <cm> 8 </cm> <cm> 9 </cm> <cm> 10 </cm> </th>",
        "xaxis": {
         "showgrid": false,
         "showline": false,
         "showticklabels": false,
         "zeroline": false
        },
        "yaxis": {
         "showgrid": false,
         "showline": false,
         "showticklabels": false,
         "zeroline": false
        }
       }
      },
      "text/html": [
       "<div id=\"0ecedfdc-c5c7-478c-b4c8-d31372b24099\" style=\"height: 525px; width: 100%;\" class=\"plotly-graph-div\"></div><script type=\"text/javascript\">require([\"plotly\"], function(Plotly) { window.PLOTLYENV=window.PLOTLYENV || {};window.PLOTLYENV.BASE_URL=\"https://plot.ly\";Plotly.newPlot(\"0ecedfdc-c5c7-478c-b4c8-d31372b24099\", [{\"mode\": \"lines\", \"hoverinfo\": \"none\", \"y\": [10.0, 9.0, null, 9.0, 8.0, null, 8.0, 7.0, null, 10.0, 9.0, null, 9.0, 8.0, null, 10.0, 9.0, null, 9.0, 8.0, null, 8.0, 7.0, null, 7.0, 6.0, null, 6.0, 5.0, null, 10.0, 9.0, null, 9.0, 8.0, null, 8.0, 7.0, null, 7.0, 6.0, null, 9.0, 8.0, null, 9.0, 8.0, null, 9.0, 8.0, null, 6.0, 5.0, null], \"x\": [0.0, -2.875, null, -2.875, -3.375, null, -3.375, -3.375, null, 0.0, -0.875, null, -0.875, -1.375, null, 0.0, 1.125, null, 1.125, 0.625, null, 0.625, 0.625, null, 0.625, 0.625, null, 0.625, 0.125, null, 0.0, 2.625, null, 2.625, 2.625, null, 2.625, 2.625, null, 2.625, 2.625, null, -2.875, -2.375, null, -0.875, -0.375, null, 1.125, 1.625, null, 0.625, 1.125, null], \"line\": {\"color\": \"rgb(210,210,210)\", \"width\": 1}, \"type\": \"scatter\"}, {\"opacity\": 1, \"name\": \"\", \"text\": [\"article\", \"1\", \"2\", \"3\", \"4\", \"5\", \"6\", \"7\", \"8\", \"9\", \"10\", \"11\", \"12\", \"13\", \"14\", \"15\", \"16\", \"17\", \"18\"], \"marker\": {\"color\": [\"#deebf7\", \"#9ecae1\", \"#9ecae1\", \"#9ecae1\", \"#9ecae1\", \"#9ecae1\", \"#fdcc8a\", \"#fdcc8a\", \"#fdcc8a\", \"#fdcc8a\", \"#fc8d59\", \"#9ecae1\", \"#9ecae1\", \"#9ecae1\", \"#9ecae1\", \"#9ecae1\", \"#9ecae1\", \"#9ecae1\", \"#9ecae1\"], \"line\": {\"color\": \"rgb(10,10,10)\", \"width\": 1}, \"symbol\": \"dot\", \"size\": 100}, \"mode\": \"markers\", \"hoverinfo\": \"text\", \"y\": [10.0, 9.0, 8.0, 7.0, 9.0, 8.0, 9.0, 8.0, 7.0, 6.0, 5.0, 9.0, 8.0, 7.0, 6.0, 8.0, 8.0, 8.0, 5.0], \"x\": [0.0, -2.875, -3.375, -3.375, -0.875, -1.375, 1.125, 0.625, 0.625, 0.625, 0.125, 2.625, 2.625, 2.625, 2.625, -2.375, -0.375, 1.625, 1.125], \"type\": \"scatter\"}], {\"showlegend\": false, \"title\": \"<th> <cm> 6 </cm> <cm> 7 </cm> <cm> 8 </cm> <cm> 9 </cm> <cm> 10 </cm> </th>\", \"yaxis\": {\"zeroline\": false, \"showline\": false, \"showticklabels\": false, \"showgrid\": false}, \"xaxis\": {\"zeroline\": false, \"showline\": false, \"showticklabels\": false, \"showgrid\": false}, \"hovermode\": \"closest\", \"font\": {\"size\": 20}, \"margin\": {\"r\": 40, \"b\": 85, \"t\": 100, \"l\": 40}, \"annotations\": [{\"xref\": \"x1\", \"yref\": \"y1\", \"text\": \"article\", \"y\": 10.0, \"x\": 0.0, \"font\": {\"color\": \"rgb(0,0,0)\", \"size\": 30}, \"showarrow\": false}, {\"xref\": \"x1\", \"yref\": \"y1\", \"text\": \"1\", \"y\": 9.0, \"x\": -2.875, \"font\": {\"color\": \"rgb(0,0,0)\", \"size\": 30}, \"showarrow\": false}, {\"xref\": \"x1\", \"yref\": \"y1\", \"text\": \"2\", \"y\": 8.0, \"x\": -3.375, \"font\": {\"color\": \"rgb(0,0,0)\", \"size\": 30}, \"showarrow\": false}, {\"xref\": \"x1\", \"yref\": \"y1\", \"text\": \"3\", \"y\": 7.0, \"x\": -3.375, \"font\": {\"color\": \"rgb(0,0,0)\", \"size\": 30}, \"showarrow\": false}, {\"xref\": \"x1\", \"yref\": \"y1\", \"text\": \"4\", \"y\": 9.0, \"x\": -0.875, \"font\": {\"color\": \"rgb(0,0,0)\", \"size\": 30}, \"showarrow\": false}, {\"xref\": \"x1\", \"yref\": \"y1\", \"text\": \"5\", \"y\": 8.0, \"x\": -1.375, \"font\": {\"color\": \"rgb(0,0,0)\", \"size\": 30}, \"showarrow\": false}, {\"xref\": \"x1\", \"yref\": \"y1\", \"text\": \"6\", \"y\": 9.0, \"x\": 1.125, \"font\": {\"color\": \"rgb(0,0,0)\", \"size\": 30}, \"showarrow\": false}, {\"xref\": \"x1\", \"yref\": \"y1\", \"text\": \"7\", \"y\": 8.0, \"x\": 0.625, \"font\": {\"color\": \"rgb(0,0,0)\", \"size\": 30}, \"showarrow\": false}, {\"xref\": \"x1\", \"yref\": \"y1\", \"text\": \"8\", \"y\": 7.0, \"x\": 0.625, \"font\": {\"color\": \"rgb(0,0,0)\", \"size\": 30}, \"showarrow\": false}, {\"xref\": \"x1\", \"yref\": \"y1\", \"text\": \"9\", \"y\": 6.0, \"x\": 0.625, \"font\": {\"color\": \"rgb(0,0,0)\", \"size\": 30}, \"showarrow\": false}, {\"xref\": \"x1\", \"yref\": \"y1\", \"text\": \"10\", \"y\": 5.0, \"x\": 0.125, \"font\": {\"color\": \"rgb(0,0,0)\", \"size\": 30}, \"showarrow\": false}, {\"xref\": \"x1\", \"yref\": \"y1\", \"text\": \"11\", \"y\": 9.0, \"x\": 2.625, \"font\": {\"color\": \"rgb(0,0,0)\", \"size\": 30}, \"showarrow\": false}, {\"xref\": \"x1\", \"yref\": \"y1\", \"text\": \"12\", \"y\": 8.0, \"x\": 2.625, \"font\": {\"color\": \"rgb(0,0,0)\", \"size\": 30}, \"showarrow\": false}, {\"xref\": \"x1\", \"yref\": \"y1\", \"text\": \"13\", \"y\": 7.0, \"x\": 2.625, \"font\": {\"color\": \"rgb(0,0,0)\", \"size\": 30}, \"showarrow\": false}, {\"xref\": \"x1\", \"yref\": \"y1\", \"text\": \"14\", \"y\": 6.0, \"x\": 2.625, \"font\": {\"color\": \"rgb(0,0,0)\", \"size\": 30}, \"showarrow\": false}, {\"xref\": \"x1\", \"yref\": \"y1\", \"text\": \"15\", \"y\": 8.0, \"x\": -2.375, \"font\": {\"color\": \"rgb(0,0,0)\", \"size\": 30}, \"showarrow\": false}, {\"xref\": \"x1\", \"yref\": \"y1\", \"text\": \"16\", \"y\": 8.0, \"x\": -0.375, \"font\": {\"color\": \"rgb(0,0,0)\", \"size\": 30}, \"showarrow\": false}, {\"xref\": \"x1\", \"yref\": \"y1\", \"text\": \"17\", \"y\": 8.0, \"x\": 1.625, \"font\": {\"color\": \"rgb(0,0,0)\", \"size\": 30}, \"showarrow\": false}, {\"xref\": \"x1\", \"yref\": \"y1\", \"text\": \"18\", \"y\": 5.0, \"x\": 1.125, \"font\": {\"color\": \"rgb(0,0,0)\", \"size\": 30}, \"showarrow\": false}]}, {\"linkText\": \"Export to plot.ly\", \"showLink\": true})});</script>"
      ],
      "text/vnd.plotly.v1+html": [
       "<div id=\"0ecedfdc-c5c7-478c-b4c8-d31372b24099\" style=\"height: 525px; width: 100%;\" class=\"plotly-graph-div\"></div><script type=\"text/javascript\">require([\"plotly\"], function(Plotly) { window.PLOTLYENV=window.PLOTLYENV || {};window.PLOTLYENV.BASE_URL=\"https://plot.ly\";Plotly.newPlot(\"0ecedfdc-c5c7-478c-b4c8-d31372b24099\", [{\"mode\": \"lines\", \"hoverinfo\": \"none\", \"y\": [10.0, 9.0, null, 9.0, 8.0, null, 8.0, 7.0, null, 10.0, 9.0, null, 9.0, 8.0, null, 10.0, 9.0, null, 9.0, 8.0, null, 8.0, 7.0, null, 7.0, 6.0, null, 6.0, 5.0, null, 10.0, 9.0, null, 9.0, 8.0, null, 8.0, 7.0, null, 7.0, 6.0, null, 9.0, 8.0, null, 9.0, 8.0, null, 9.0, 8.0, null, 6.0, 5.0, null], \"x\": [0.0, -2.875, null, -2.875, -3.375, null, -3.375, -3.375, null, 0.0, -0.875, null, -0.875, -1.375, null, 0.0, 1.125, null, 1.125, 0.625, null, 0.625, 0.625, null, 0.625, 0.625, null, 0.625, 0.125, null, 0.0, 2.625, null, 2.625, 2.625, null, 2.625, 2.625, null, 2.625, 2.625, null, -2.875, -2.375, null, -0.875, -0.375, null, 1.125, 1.625, null, 0.625, 1.125, null], \"line\": {\"color\": \"rgb(210,210,210)\", \"width\": 1}, \"type\": \"scatter\"}, {\"opacity\": 1, \"name\": \"\", \"text\": [\"article\", \"1\", \"2\", \"3\", \"4\", \"5\", \"6\", \"7\", \"8\", \"9\", \"10\", \"11\", \"12\", \"13\", \"14\", \"15\", \"16\", \"17\", \"18\"], \"marker\": {\"color\": [\"#deebf7\", \"#9ecae1\", \"#9ecae1\", \"#9ecae1\", \"#9ecae1\", \"#9ecae1\", \"#fdcc8a\", \"#fdcc8a\", \"#fdcc8a\", \"#fdcc8a\", \"#fc8d59\", \"#9ecae1\", \"#9ecae1\", \"#9ecae1\", \"#9ecae1\", \"#9ecae1\", \"#9ecae1\", \"#9ecae1\", \"#9ecae1\"], \"line\": {\"color\": \"rgb(10,10,10)\", \"width\": 1}, \"symbol\": \"dot\", \"size\": 100}, \"mode\": \"markers\", \"hoverinfo\": \"text\", \"y\": [10.0, 9.0, 8.0, 7.0, 9.0, 8.0, 9.0, 8.0, 7.0, 6.0, 5.0, 9.0, 8.0, 7.0, 6.0, 8.0, 8.0, 8.0, 5.0], \"x\": [0.0, -2.875, -3.375, -3.375, -0.875, -1.375, 1.125, 0.625, 0.625, 0.625, 0.125, 2.625, 2.625, 2.625, 2.625, -2.375, -0.375, 1.625, 1.125], \"type\": \"scatter\"}], {\"showlegend\": false, \"title\": \"<th> <cm> 6 </cm> <cm> 7 </cm> <cm> 8 </cm> <cm> 9 </cm> <cm> 10 </cm> </th>\", \"yaxis\": {\"zeroline\": false, \"showline\": false, \"showticklabels\": false, \"showgrid\": false}, \"xaxis\": {\"zeroline\": false, \"showline\": false, \"showticklabels\": false, \"showgrid\": false}, \"hovermode\": \"closest\", \"font\": {\"size\": 20}, \"margin\": {\"r\": 40, \"b\": 85, \"t\": 100, \"l\": 40}, \"annotations\": [{\"xref\": \"x1\", \"yref\": \"y1\", \"text\": \"article\", \"y\": 10.0, \"x\": 0.0, \"font\": {\"color\": \"rgb(0,0,0)\", \"size\": 30}, \"showarrow\": false}, {\"xref\": \"x1\", \"yref\": \"y1\", \"text\": \"1\", \"y\": 9.0, \"x\": -2.875, \"font\": {\"color\": \"rgb(0,0,0)\", \"size\": 30}, \"showarrow\": false}, {\"xref\": \"x1\", \"yref\": \"y1\", \"text\": \"2\", \"y\": 8.0, \"x\": -3.375, \"font\": {\"color\": \"rgb(0,0,0)\", \"size\": 30}, \"showarrow\": false}, {\"xref\": \"x1\", \"yref\": \"y1\", \"text\": \"3\", \"y\": 7.0, \"x\": -3.375, \"font\": {\"color\": \"rgb(0,0,0)\", \"size\": 30}, \"showarrow\": false}, {\"xref\": \"x1\", \"yref\": \"y1\", \"text\": \"4\", \"y\": 9.0, \"x\": -0.875, \"font\": {\"color\": \"rgb(0,0,0)\", \"size\": 30}, \"showarrow\": false}, {\"xref\": \"x1\", \"yref\": \"y1\", \"text\": \"5\", \"y\": 8.0, \"x\": -1.375, \"font\": {\"color\": \"rgb(0,0,0)\", \"size\": 30}, \"showarrow\": false}, {\"xref\": \"x1\", \"yref\": \"y1\", \"text\": \"6\", \"y\": 9.0, \"x\": 1.125, \"font\": {\"color\": \"rgb(0,0,0)\", \"size\": 30}, \"showarrow\": false}, {\"xref\": \"x1\", \"yref\": \"y1\", \"text\": \"7\", \"y\": 8.0, \"x\": 0.625, \"font\": {\"color\": \"rgb(0,0,0)\", \"size\": 30}, \"showarrow\": false}, {\"xref\": \"x1\", \"yref\": \"y1\", \"text\": \"8\", \"y\": 7.0, \"x\": 0.625, \"font\": {\"color\": \"rgb(0,0,0)\", \"size\": 30}, \"showarrow\": false}, {\"xref\": \"x1\", \"yref\": \"y1\", \"text\": \"9\", \"y\": 6.0, \"x\": 0.625, \"font\": {\"color\": \"rgb(0,0,0)\", \"size\": 30}, \"showarrow\": false}, {\"xref\": \"x1\", \"yref\": \"y1\", \"text\": \"10\", \"y\": 5.0, \"x\": 0.125, \"font\": {\"color\": \"rgb(0,0,0)\", \"size\": 30}, \"showarrow\": false}, {\"xref\": \"x1\", \"yref\": \"y1\", \"text\": \"11\", \"y\": 9.0, \"x\": 2.625, \"font\": {\"color\": \"rgb(0,0,0)\", \"size\": 30}, \"showarrow\": false}, {\"xref\": \"x1\", \"yref\": \"y1\", \"text\": \"12\", \"y\": 8.0, \"x\": 2.625, \"font\": {\"color\": \"rgb(0,0,0)\", \"size\": 30}, \"showarrow\": false}, {\"xref\": \"x1\", \"yref\": \"y1\", \"text\": \"13\", \"y\": 7.0, \"x\": 2.625, \"font\": {\"color\": \"rgb(0,0,0)\", \"size\": 30}, \"showarrow\": false}, {\"xref\": \"x1\", \"yref\": \"y1\", \"text\": \"14\", \"y\": 6.0, \"x\": 2.625, \"font\": {\"color\": \"rgb(0,0,0)\", \"size\": 30}, \"showarrow\": false}, {\"xref\": \"x1\", \"yref\": \"y1\", \"text\": \"15\", \"y\": 8.0, \"x\": -2.375, \"font\": {\"color\": \"rgb(0,0,0)\", \"size\": 30}, \"showarrow\": false}, {\"xref\": \"x1\", \"yref\": \"y1\", \"text\": \"16\", \"y\": 8.0, \"x\": -0.375, \"font\": {\"color\": \"rgb(0,0,0)\", \"size\": 30}, \"showarrow\": false}, {\"xref\": \"x1\", \"yref\": \"y1\", \"text\": \"17\", \"y\": 8.0, \"x\": 1.625, \"font\": {\"color\": \"rgb(0,0,0)\", \"size\": 30}, \"showarrow\": false}, {\"xref\": \"x1\", \"yref\": \"y1\", \"text\": \"18\", \"y\": 5.0, \"x\": 1.125, \"font\": {\"color\": \"rgb(0,0,0)\", \"size\": 30}, \"showarrow\": false}]}, {\"linkText\": \"Export to plot.ly\", \"showLink\": true})});</script>"
      ]
     },
     "metadata": {},
     "output_type": "display_data"
    },
    {
     "data": {
      "text/html": [
       "<script>function downloadimage(format, height, width, filename) {var p = document.getElementById('0ecedfdc-c5c7-478c-b4c8-d31372b24099');Plotly.downloadImage(p, {format: format, height: height, width: width, filename: filename});};if(document.readyState == 'complete') {{downloadimage('png', 1000, 1000, '10');}}</script>"
      ],
      "text/plain": [
       "<IPython.core.display.HTML object>"
      ]
     },
     "metadata": {},
     "output_type": "display_data"
    }
   ],
   "source": [
    "for i in range(10, 11):\n",
    "    fig = tree_plot(highlight=i, save=True)"
   ]
  },
  {
   "cell_type": "code",
   "execution_count": 13,
   "metadata": {
    "ExecuteTime": {
     "end_time": "2019-04-12T12:34:17.960240Z",
     "start_time": "2019-04-12T12:34:16.892644Z"
    }
   },
   "outputs": [
    {
     "name": "stdout",
     "output_type": "stream",
     "text": [
      "15\n"
     ]
    },
    {
     "data": {
      "application/vnd.plotly.v1+json": {
       "data": [
        {
         "hoverinfo": "none",
         "line": {
          "color": "rgb(210,210,210)",
          "width": 1
         },
         "mode": "lines",
         "type": "scatter",
         "x": [
          0,
          -1.5,
          null,
          -1.5,
          -1.5,
          null,
          -1.5,
          -1.5,
          null,
          0,
          -0.5,
          null,
          -0.5,
          -0.5,
          null,
          0,
          0.5,
          null,
          0.5,
          0.5,
          null,
          0.5,
          0.5,
          null,
          0.5,
          0.5,
          null,
          0.5,
          0.5,
          null,
          0,
          1.5,
          null,
          1.5,
          1.5,
          null,
          1.5,
          1.5,
          null,
          1.5,
          1.5,
          null
         ],
         "y": [
          10,
          9,
          null,
          9,
          8,
          null,
          8,
          7,
          null,
          10,
          9,
          null,
          9,
          8,
          null,
          10,
          9,
          null,
          9,
          8,
          null,
          8,
          7,
          null,
          7,
          6,
          null,
          6,
          5,
          null,
          10,
          9,
          null,
          9,
          8,
          null,
          8,
          7,
          null,
          7,
          6,
          null
         ]
        },
        {
         "hoverinfo": "text",
         "marker": {
          "color": [
           "#deebf7",
           "#9ecae1",
           "#9ecae1",
           "#9ecae1",
           "#9ecae1",
           "#9ecae1",
           "#9ecae1",
           "#9ecae1",
           "#9ecae1",
           "#9ecae1",
           "#9ecae1",
           "#9ecae1",
           "#9ecae1",
           "#9ecae1",
           "#9ecae1"
          ],
          "line": {
           "color": "rgb(10,10,10)",
           "width": 1
          },
          "size": 100,
          "symbol": "dot"
         },
         "mode": "markers",
         "name": "",
         "opacity": 1,
         "text": [
          "article",
          "1",
          "2",
          "3",
          "4",
          "5",
          "6",
          "7",
          "8",
          "9",
          "10",
          "11",
          "12",
          "13",
          "14"
         ],
         "type": "scatter",
         "x": [
          0,
          -1.5,
          -1.5,
          -1.5,
          -0.5,
          -0.5,
          0.5,
          0.5,
          0.5,
          0.5,
          0.5,
          1.5,
          1.5,
          1.5,
          1.5
         ],
         "y": [
          10,
          9,
          8,
          7,
          9,
          8,
          9,
          8,
          7,
          6,
          5,
          9,
          8,
          7,
          6
         ]
        }
       ],
       "layout": {
        "annotations": [
         {
          "font": {
           "color": "rgb(0,0,0)",
           "size": 30
          },
          "showarrow": false,
          "text": "article",
          "x": 0,
          "xref": "x1",
          "y": 10,
          "yref": "y1"
         },
         {
          "font": {
           "color": "rgb(0,0,0)",
           "size": 30
          },
          "showarrow": false,
          "text": "1",
          "x": -1.5,
          "xref": "x1",
          "y": 9,
          "yref": "y1"
         },
         {
          "font": {
           "color": "rgb(0,0,0)",
           "size": 30
          },
          "showarrow": false,
          "text": "2",
          "x": -1.5,
          "xref": "x1",
          "y": 8,
          "yref": "y1"
         },
         {
          "font": {
           "color": "rgb(0,0,0)",
           "size": 30
          },
          "showarrow": false,
          "text": "3",
          "x": -1.5,
          "xref": "x1",
          "y": 7,
          "yref": "y1"
         },
         {
          "font": {
           "color": "rgb(0,0,0)",
           "size": 30
          },
          "showarrow": false,
          "text": "4",
          "x": -0.5,
          "xref": "x1",
          "y": 9,
          "yref": "y1"
         },
         {
          "font": {
           "color": "rgb(0,0,0)",
           "size": 30
          },
          "showarrow": false,
          "text": "5",
          "x": -0.5,
          "xref": "x1",
          "y": 8,
          "yref": "y1"
         },
         {
          "font": {
           "color": "rgb(0,0,0)",
           "size": 30
          },
          "showarrow": false,
          "text": "6",
          "x": 0.5,
          "xref": "x1",
          "y": 9,
          "yref": "y1"
         },
         {
          "font": {
           "color": "rgb(0,0,0)",
           "size": 30
          },
          "showarrow": false,
          "text": "7",
          "x": 0.5,
          "xref": "x1",
          "y": 8,
          "yref": "y1"
         },
         {
          "font": {
           "color": "rgb(0,0,0)",
           "size": 30
          },
          "showarrow": false,
          "text": "8",
          "x": 0.5,
          "xref": "x1",
          "y": 7,
          "yref": "y1"
         },
         {
          "font": {
           "color": "rgb(0,0,0)",
           "size": 30
          },
          "showarrow": false,
          "text": "9",
          "x": 0.5,
          "xref": "x1",
          "y": 6,
          "yref": "y1"
         },
         {
          "font": {
           "color": "rgb(0,0,0)",
           "size": 30
          },
          "showarrow": false,
          "text": "10",
          "x": 0.5,
          "xref": "x1",
          "y": 5,
          "yref": "y1"
         },
         {
          "font": {
           "color": "rgb(0,0,0)",
           "size": 30
          },
          "showarrow": false,
          "text": "11",
          "x": 1.5,
          "xref": "x1",
          "y": 9,
          "yref": "y1"
         },
         {
          "font": {
           "color": "rgb(0,0,0)",
           "size": 30
          },
          "showarrow": false,
          "text": "12",
          "x": 1.5,
          "xref": "x1",
          "y": 8,
          "yref": "y1"
         },
         {
          "font": {
           "color": "rgb(0,0,0)",
           "size": 30
          },
          "showarrow": false,
          "text": "13",
          "x": 1.5,
          "xref": "x1",
          "y": 7,
          "yref": "y1"
         },
         {
          "font": {
           "color": "rgb(0,0,0)",
           "size": 30
          },
          "showarrow": false,
          "text": "14",
          "x": 1.5,
          "xref": "x1",
          "y": 6,
          "yref": "y1"
         }
        ],
        "font": {
         "size": 20
        },
        "hovermode": "closest",
        "margin": {
         "b": 85,
         "l": 40,
         "r": 40,
         "t": 100
        },
        "showlegend": false,
        "title": "",
        "xaxis": {
         "showgrid": false,
         "showline": false,
         "showticklabels": false,
         "zeroline": false
        },
        "yaxis": {
         "showgrid": false,
         "showline": false,
         "showticklabels": false,
         "zeroline": false
        }
       }
      },
      "text/html": [
       "<div id=\"6aa1eebf-5b9c-4170-a15a-1afa3bd12874\" style=\"height: 525px; width: 100%;\" class=\"plotly-graph-div\"></div><script type=\"text/javascript\">require([\"plotly\"], function(Plotly) { window.PLOTLYENV=window.PLOTLYENV || {};window.PLOTLYENV.BASE_URL=\"https://plot.ly\";Plotly.newPlot(\"6aa1eebf-5b9c-4170-a15a-1afa3bd12874\", [{\"mode\": \"lines\", \"hoverinfo\": \"none\", \"y\": [10.0, 9.0, null, 9.0, 8.0, null, 8.0, 7.0, null, 10.0, 9.0, null, 9.0, 8.0, null, 10.0, 9.0, null, 9.0, 8.0, null, 8.0, 7.0, null, 7.0, 6.0, null, 6.0, 5.0, null, 10.0, 9.0, null, 9.0, 8.0, null, 8.0, 7.0, null, 7.0, 6.0, null], \"x\": [0.0, -1.5, null, -1.5, -1.5, null, -1.5, -1.5, null, 0.0, -0.5, null, -0.5, -0.5, null, 0.0, 0.5, null, 0.5, 0.5, null, 0.5, 0.5, null, 0.5, 0.5, null, 0.5, 0.5, null, 0.0, 1.5, null, 1.5, 1.5, null, 1.5, 1.5, null, 1.5, 1.5, null], \"line\": {\"color\": \"rgb(210,210,210)\", \"width\": 1}, \"type\": \"scatter\"}, {\"opacity\": 1, \"name\": \"\", \"text\": [\"article\", \"1\", \"2\", \"3\", \"4\", \"5\", \"6\", \"7\", \"8\", \"9\", \"10\", \"11\", \"12\", \"13\", \"14\"], \"marker\": {\"color\": [\"#deebf7\", \"#9ecae1\", \"#9ecae1\", \"#9ecae1\", \"#9ecae1\", \"#9ecae1\", \"#9ecae1\", \"#9ecae1\", \"#9ecae1\", \"#9ecae1\", \"#9ecae1\", \"#9ecae1\", \"#9ecae1\", \"#9ecae1\", \"#9ecae1\"], \"line\": {\"color\": \"rgb(10,10,10)\", \"width\": 1}, \"symbol\": \"dot\", \"size\": 100}, \"mode\": \"markers\", \"hoverinfo\": \"text\", \"y\": [10.0, 9.0, 8.0, 7.0, 9.0, 8.0, 9.0, 8.0, 7.0, 6.0, 5.0, 9.0, 8.0, 7.0, 6.0], \"x\": [0.0, -1.5, -1.5, -1.5, -0.5, -0.5, 0.5, 0.5, 0.5, 0.5, 0.5, 1.5, 1.5, 1.5, 1.5], \"type\": \"scatter\"}], {\"showlegend\": false, \"title\": \"\", \"yaxis\": {\"zeroline\": false, \"showline\": false, \"showticklabels\": false, \"showgrid\": false}, \"xaxis\": {\"zeroline\": false, \"showline\": false, \"showticklabels\": false, \"showgrid\": false}, \"hovermode\": \"closest\", \"font\": {\"size\": 20}, \"margin\": {\"r\": 40, \"b\": 85, \"t\": 100, \"l\": 40}, \"annotations\": [{\"xref\": \"x1\", \"yref\": \"y1\", \"text\": \"article\", \"y\": 10.0, \"x\": 0.0, \"font\": {\"color\": \"rgb(0,0,0)\", \"size\": 30}, \"showarrow\": false}, {\"xref\": \"x1\", \"yref\": \"y1\", \"text\": \"1\", \"y\": 9.0, \"x\": -1.5, \"font\": {\"color\": \"rgb(0,0,0)\", \"size\": 30}, \"showarrow\": false}, {\"xref\": \"x1\", \"yref\": \"y1\", \"text\": \"2\", \"y\": 8.0, \"x\": -1.5, \"font\": {\"color\": \"rgb(0,0,0)\", \"size\": 30}, \"showarrow\": false}, {\"xref\": \"x1\", \"yref\": \"y1\", \"text\": \"3\", \"y\": 7.0, \"x\": -1.5, \"font\": {\"color\": \"rgb(0,0,0)\", \"size\": 30}, \"showarrow\": false}, {\"xref\": \"x1\", \"yref\": \"y1\", \"text\": \"4\", \"y\": 9.0, \"x\": -0.5, \"font\": {\"color\": \"rgb(0,0,0)\", \"size\": 30}, \"showarrow\": false}, {\"xref\": \"x1\", \"yref\": \"y1\", \"text\": \"5\", \"y\": 8.0, \"x\": -0.5, \"font\": {\"color\": \"rgb(0,0,0)\", \"size\": 30}, \"showarrow\": false}, {\"xref\": \"x1\", \"yref\": \"y1\", \"text\": \"6\", \"y\": 9.0, \"x\": 0.5, \"font\": {\"color\": \"rgb(0,0,0)\", \"size\": 30}, \"showarrow\": false}, {\"xref\": \"x1\", \"yref\": \"y1\", \"text\": \"7\", \"y\": 8.0, \"x\": 0.5, \"font\": {\"color\": \"rgb(0,0,0)\", \"size\": 30}, \"showarrow\": false}, {\"xref\": \"x1\", \"yref\": \"y1\", \"text\": \"8\", \"y\": 7.0, \"x\": 0.5, \"font\": {\"color\": \"rgb(0,0,0)\", \"size\": 30}, \"showarrow\": false}, {\"xref\": \"x1\", \"yref\": \"y1\", \"text\": \"9\", \"y\": 6.0, \"x\": 0.5, \"font\": {\"color\": \"rgb(0,0,0)\", \"size\": 30}, \"showarrow\": false}, {\"xref\": \"x1\", \"yref\": \"y1\", \"text\": \"10\", \"y\": 5.0, \"x\": 0.5, \"font\": {\"color\": \"rgb(0,0,0)\", \"size\": 30}, \"showarrow\": false}, {\"xref\": \"x1\", \"yref\": \"y1\", \"text\": \"11\", \"y\": 9.0, \"x\": 1.5, \"font\": {\"color\": \"rgb(0,0,0)\", \"size\": 30}, \"showarrow\": false}, {\"xref\": \"x1\", \"yref\": \"y1\", \"text\": \"12\", \"y\": 8.0, \"x\": 1.5, \"font\": {\"color\": \"rgb(0,0,0)\", \"size\": 30}, \"showarrow\": false}, {\"xref\": \"x1\", \"yref\": \"y1\", \"text\": \"13\", \"y\": 7.0, \"x\": 1.5, \"font\": {\"color\": \"rgb(0,0,0)\", \"size\": 30}, \"showarrow\": false}, {\"xref\": \"x1\", \"yref\": \"y1\", \"text\": \"14\", \"y\": 6.0, \"x\": 1.5, \"font\": {\"color\": \"rgb(0,0,0)\", \"size\": 30}, \"showarrow\": false}]}, {\"linkText\": \"Export to plot.ly\", \"showLink\": true})});</script>"
      ],
      "text/vnd.plotly.v1+html": [
       "<div id=\"6aa1eebf-5b9c-4170-a15a-1afa3bd12874\" style=\"height: 525px; width: 100%;\" class=\"plotly-graph-div\"></div><script type=\"text/javascript\">require([\"plotly\"], function(Plotly) { window.PLOTLYENV=window.PLOTLYENV || {};window.PLOTLYENV.BASE_URL=\"https://plot.ly\";Plotly.newPlot(\"6aa1eebf-5b9c-4170-a15a-1afa3bd12874\", [{\"mode\": \"lines\", \"hoverinfo\": \"none\", \"y\": [10.0, 9.0, null, 9.0, 8.0, null, 8.0, 7.0, null, 10.0, 9.0, null, 9.0, 8.0, null, 10.0, 9.0, null, 9.0, 8.0, null, 8.0, 7.0, null, 7.0, 6.0, null, 6.0, 5.0, null, 10.0, 9.0, null, 9.0, 8.0, null, 8.0, 7.0, null, 7.0, 6.0, null], \"x\": [0.0, -1.5, null, -1.5, -1.5, null, -1.5, -1.5, null, 0.0, -0.5, null, -0.5, -0.5, null, 0.0, 0.5, null, 0.5, 0.5, null, 0.5, 0.5, null, 0.5, 0.5, null, 0.5, 0.5, null, 0.0, 1.5, null, 1.5, 1.5, null, 1.5, 1.5, null, 1.5, 1.5, null], \"line\": {\"color\": \"rgb(210,210,210)\", \"width\": 1}, \"type\": \"scatter\"}, {\"opacity\": 1, \"name\": \"\", \"text\": [\"article\", \"1\", \"2\", \"3\", \"4\", \"5\", \"6\", \"7\", \"8\", \"9\", \"10\", \"11\", \"12\", \"13\", \"14\"], \"marker\": {\"color\": [\"#deebf7\", \"#9ecae1\", \"#9ecae1\", \"#9ecae1\", \"#9ecae1\", \"#9ecae1\", \"#9ecae1\", \"#9ecae1\", \"#9ecae1\", \"#9ecae1\", \"#9ecae1\", \"#9ecae1\", \"#9ecae1\", \"#9ecae1\", \"#9ecae1\"], \"line\": {\"color\": \"rgb(10,10,10)\", \"width\": 1}, \"symbol\": \"dot\", \"size\": 100}, \"mode\": \"markers\", \"hoverinfo\": \"text\", \"y\": [10.0, 9.0, 8.0, 7.0, 9.0, 8.0, 9.0, 8.0, 7.0, 6.0, 5.0, 9.0, 8.0, 7.0, 6.0], \"x\": [0.0, -1.5, -1.5, -1.5, -0.5, -0.5, 0.5, 0.5, 0.5, 0.5, 0.5, 1.5, 1.5, 1.5, 1.5], \"type\": \"scatter\"}], {\"showlegend\": false, \"title\": \"\", \"yaxis\": {\"zeroline\": false, \"showline\": false, \"showticklabels\": false, \"showgrid\": false}, \"xaxis\": {\"zeroline\": false, \"showline\": false, \"showticklabels\": false, \"showgrid\": false}, \"hovermode\": \"closest\", \"font\": {\"size\": 20}, \"margin\": {\"r\": 40, \"b\": 85, \"t\": 100, \"l\": 40}, \"annotations\": [{\"xref\": \"x1\", \"yref\": \"y1\", \"text\": \"article\", \"y\": 10.0, \"x\": 0.0, \"font\": {\"color\": \"rgb(0,0,0)\", \"size\": 30}, \"showarrow\": false}, {\"xref\": \"x1\", \"yref\": \"y1\", \"text\": \"1\", \"y\": 9.0, \"x\": -1.5, \"font\": {\"color\": \"rgb(0,0,0)\", \"size\": 30}, \"showarrow\": false}, {\"xref\": \"x1\", \"yref\": \"y1\", \"text\": \"2\", \"y\": 8.0, \"x\": -1.5, \"font\": {\"color\": \"rgb(0,0,0)\", \"size\": 30}, \"showarrow\": false}, {\"xref\": \"x1\", \"yref\": \"y1\", \"text\": \"3\", \"y\": 7.0, \"x\": -1.5, \"font\": {\"color\": \"rgb(0,0,0)\", \"size\": 30}, \"showarrow\": false}, {\"xref\": \"x1\", \"yref\": \"y1\", \"text\": \"4\", \"y\": 9.0, \"x\": -0.5, \"font\": {\"color\": \"rgb(0,0,0)\", \"size\": 30}, \"showarrow\": false}, {\"xref\": \"x1\", \"yref\": \"y1\", \"text\": \"5\", \"y\": 8.0, \"x\": -0.5, \"font\": {\"color\": \"rgb(0,0,0)\", \"size\": 30}, \"showarrow\": false}, {\"xref\": \"x1\", \"yref\": \"y1\", \"text\": \"6\", \"y\": 9.0, \"x\": 0.5, \"font\": {\"color\": \"rgb(0,0,0)\", \"size\": 30}, \"showarrow\": false}, {\"xref\": \"x1\", \"yref\": \"y1\", \"text\": \"7\", \"y\": 8.0, \"x\": 0.5, \"font\": {\"color\": \"rgb(0,0,0)\", \"size\": 30}, \"showarrow\": false}, {\"xref\": \"x1\", \"yref\": \"y1\", \"text\": \"8\", \"y\": 7.0, \"x\": 0.5, \"font\": {\"color\": \"rgb(0,0,0)\", \"size\": 30}, \"showarrow\": false}, {\"xref\": \"x1\", \"yref\": \"y1\", \"text\": \"9\", \"y\": 6.0, \"x\": 0.5, \"font\": {\"color\": \"rgb(0,0,0)\", \"size\": 30}, \"showarrow\": false}, {\"xref\": \"x1\", \"yref\": \"y1\", \"text\": \"10\", \"y\": 5.0, \"x\": 0.5, \"font\": {\"color\": \"rgb(0,0,0)\", \"size\": 30}, \"showarrow\": false}, {\"xref\": \"x1\", \"yref\": \"y1\", \"text\": \"11\", \"y\": 9.0, \"x\": 1.5, \"font\": {\"color\": \"rgb(0,0,0)\", \"size\": 30}, \"showarrow\": false}, {\"xref\": \"x1\", \"yref\": \"y1\", \"text\": \"12\", \"y\": 8.0, \"x\": 1.5, \"font\": {\"color\": \"rgb(0,0,0)\", \"size\": 30}, \"showarrow\": false}, {\"xref\": \"x1\", \"yref\": \"y1\", \"text\": \"13\", \"y\": 7.0, \"x\": 1.5, \"font\": {\"color\": \"rgb(0,0,0)\", \"size\": 30}, \"showarrow\": false}, {\"xref\": \"x1\", \"yref\": \"y1\", \"text\": \"14\", \"y\": 6.0, \"x\": 1.5, \"font\": {\"color\": \"rgb(0,0,0)\", \"size\": 30}, \"showarrow\": false}]}, {\"linkText\": \"Export to plot.ly\", \"showLink\": true})});</script>"
      ]
     },
     "metadata": {},
     "output_type": "display_data"
    },
    {
     "data": {
      "text/html": [
       "<script>function downloadimage(format, height, width, filename) {var p = document.getElementById('6aa1eebf-5b9c-4170-a15a-1afa3bd12874');Plotly.downloadImage(p, {format: format, height: height, width: width, filename: filename});};if(document.readyState == 'complete') {{downloadimage('png', 1000, 1000, 'None');}}</script>"
      ],
      "text/plain": [
       "<IPython.core.display.HTML object>"
      ]
     },
     "metadata": {},
     "output_type": "display_data"
    },
    {
     "data": {
      "text/plain": [
       "{'data': [{'hoverinfo': 'none',\n",
       "   'line': {'color': 'rgb(210,210,210)', 'width': 1},\n",
       "   'mode': 'lines',\n",
       "   'type': 'scatter',\n",
       "   'x': [0.0,\n",
       "    -1.5,\n",
       "    None,\n",
       "    -1.5,\n",
       "    -1.5,\n",
       "    None,\n",
       "    -1.5,\n",
       "    -1.5,\n",
       "    None,\n",
       "    0.0,\n",
       "    -0.5,\n",
       "    None,\n",
       "    -0.5,\n",
       "    -0.5,\n",
       "    None,\n",
       "    0.0,\n",
       "    0.5,\n",
       "    None,\n",
       "    0.5,\n",
       "    0.5,\n",
       "    None,\n",
       "    0.5,\n",
       "    0.5,\n",
       "    None,\n",
       "    0.5,\n",
       "    0.5,\n",
       "    None,\n",
       "    0.5,\n",
       "    0.5,\n",
       "    None,\n",
       "    0.0,\n",
       "    1.5,\n",
       "    None,\n",
       "    1.5,\n",
       "    1.5,\n",
       "    None,\n",
       "    1.5,\n",
       "    1.5,\n",
       "    None,\n",
       "    1.5,\n",
       "    1.5,\n",
       "    None],\n",
       "   'y': [10.0,\n",
       "    9.0,\n",
       "    None,\n",
       "    9.0,\n",
       "    8.0,\n",
       "    None,\n",
       "    8.0,\n",
       "    7.0,\n",
       "    None,\n",
       "    10.0,\n",
       "    9.0,\n",
       "    None,\n",
       "    9.0,\n",
       "    8.0,\n",
       "    None,\n",
       "    10.0,\n",
       "    9.0,\n",
       "    None,\n",
       "    9.0,\n",
       "    8.0,\n",
       "    None,\n",
       "    8.0,\n",
       "    7.0,\n",
       "    None,\n",
       "    7.0,\n",
       "    6.0,\n",
       "    None,\n",
       "    6.0,\n",
       "    5.0,\n",
       "    None,\n",
       "    10.0,\n",
       "    9.0,\n",
       "    None,\n",
       "    9.0,\n",
       "    8.0,\n",
       "    None,\n",
       "    8.0,\n",
       "    7.0,\n",
       "    None,\n",
       "    7.0,\n",
       "    6.0,\n",
       "    None]},\n",
       "  {'hoverinfo': 'text',\n",
       "   'marker': {'color': ['#deebf7',\n",
       "     '#9ecae1',\n",
       "     '#9ecae1',\n",
       "     '#9ecae1',\n",
       "     '#9ecae1',\n",
       "     '#9ecae1',\n",
       "     '#9ecae1',\n",
       "     '#9ecae1',\n",
       "     '#9ecae1',\n",
       "     '#9ecae1',\n",
       "     '#9ecae1',\n",
       "     '#9ecae1',\n",
       "     '#9ecae1',\n",
       "     '#9ecae1',\n",
       "     '#9ecae1'],\n",
       "    'line': {'color': 'rgb(10,10,10)', 'width': 1},\n",
       "    'size': 100,\n",
       "    'symbol': 'dot'},\n",
       "   'mode': 'markers',\n",
       "   'name': '',\n",
       "   'opacity': 1,\n",
       "   'text': ['article',\n",
       "    '1',\n",
       "    '2',\n",
       "    '3',\n",
       "    '4',\n",
       "    '5',\n",
       "    '6',\n",
       "    '7',\n",
       "    '8',\n",
       "    '9',\n",
       "    '10',\n",
       "    '11',\n",
       "    '12',\n",
       "    '13',\n",
       "    '14'],\n",
       "   'type': 'scatter',\n",
       "   'x': [0.0,\n",
       "    -1.5,\n",
       "    -1.5,\n",
       "    -1.5,\n",
       "    -0.5,\n",
       "    -0.5,\n",
       "    0.5,\n",
       "    0.5,\n",
       "    0.5,\n",
       "    0.5,\n",
       "    0.5,\n",
       "    1.5,\n",
       "    1.5,\n",
       "    1.5,\n",
       "    1.5],\n",
       "   'y': [10.0,\n",
       "    9.0,\n",
       "    8.0,\n",
       "    7.0,\n",
       "    9.0,\n",
       "    8.0,\n",
       "    9.0,\n",
       "    8.0,\n",
       "    7.0,\n",
       "    6.0,\n",
       "    5.0,\n",
       "    9.0,\n",
       "    8.0,\n",
       "    7.0,\n",
       "    6.0]}],\n",
       " 'layout': {'annotations': [{'font': {'color': 'rgb(0,0,0)', 'size': 30},\n",
       "    'showarrow': False,\n",
       "    'text': 'article',\n",
       "    'x': 0.0,\n",
       "    'xref': 'x1',\n",
       "    'y': 10.0,\n",
       "    'yref': 'y1'},\n",
       "   {'font': {'color': 'rgb(0,0,0)', 'size': 30},\n",
       "    'showarrow': False,\n",
       "    'text': '1',\n",
       "    'x': -1.5,\n",
       "    'xref': 'x1',\n",
       "    'y': 9.0,\n",
       "    'yref': 'y1'},\n",
       "   {'font': {'color': 'rgb(0,0,0)', 'size': 30},\n",
       "    'showarrow': False,\n",
       "    'text': '2',\n",
       "    'x': -1.5,\n",
       "    'xref': 'x1',\n",
       "    'y': 8.0,\n",
       "    'yref': 'y1'},\n",
       "   {'font': {'color': 'rgb(0,0,0)', 'size': 30},\n",
       "    'showarrow': False,\n",
       "    'text': '3',\n",
       "    'x': -1.5,\n",
       "    'xref': 'x1',\n",
       "    'y': 7.0,\n",
       "    'yref': 'y1'},\n",
       "   {'font': {'color': 'rgb(0,0,0)', 'size': 30},\n",
       "    'showarrow': False,\n",
       "    'text': '4',\n",
       "    'x': -0.5,\n",
       "    'xref': 'x1',\n",
       "    'y': 9.0,\n",
       "    'yref': 'y1'},\n",
       "   {'font': {'color': 'rgb(0,0,0)', 'size': 30},\n",
       "    'showarrow': False,\n",
       "    'text': '5',\n",
       "    'x': -0.5,\n",
       "    'xref': 'x1',\n",
       "    'y': 8.0,\n",
       "    'yref': 'y1'},\n",
       "   {'font': {'color': 'rgb(0,0,0)', 'size': 30},\n",
       "    'showarrow': False,\n",
       "    'text': '6',\n",
       "    'x': 0.5,\n",
       "    'xref': 'x1',\n",
       "    'y': 9.0,\n",
       "    'yref': 'y1'},\n",
       "   {'font': {'color': 'rgb(0,0,0)', 'size': 30},\n",
       "    'showarrow': False,\n",
       "    'text': '7',\n",
       "    'x': 0.5,\n",
       "    'xref': 'x1',\n",
       "    'y': 8.0,\n",
       "    'yref': 'y1'},\n",
       "   {'font': {'color': 'rgb(0,0,0)', 'size': 30},\n",
       "    'showarrow': False,\n",
       "    'text': '8',\n",
       "    'x': 0.5,\n",
       "    'xref': 'x1',\n",
       "    'y': 7.0,\n",
       "    'yref': 'y1'},\n",
       "   {'font': {'color': 'rgb(0,0,0)', 'size': 30},\n",
       "    'showarrow': False,\n",
       "    'text': '9',\n",
       "    'x': 0.5,\n",
       "    'xref': 'x1',\n",
       "    'y': 6.0,\n",
       "    'yref': 'y1'},\n",
       "   {'font': {'color': 'rgb(0,0,0)', 'size': 30},\n",
       "    'showarrow': False,\n",
       "    'text': '10',\n",
       "    'x': 0.5,\n",
       "    'xref': 'x1',\n",
       "    'y': 5.0,\n",
       "    'yref': 'y1'},\n",
       "   {'font': {'color': 'rgb(0,0,0)', 'size': 30},\n",
       "    'showarrow': False,\n",
       "    'text': '11',\n",
       "    'x': 1.5,\n",
       "    'xref': 'x1',\n",
       "    'y': 9.0,\n",
       "    'yref': 'y1'},\n",
       "   {'font': {'color': 'rgb(0,0,0)', 'size': 30},\n",
       "    'showarrow': False,\n",
       "    'text': '12',\n",
       "    'x': 1.5,\n",
       "    'xref': 'x1',\n",
       "    'y': 8.0,\n",
       "    'yref': 'y1'},\n",
       "   {'font': {'color': 'rgb(0,0,0)', 'size': 30},\n",
       "    'showarrow': False,\n",
       "    'text': '13',\n",
       "    'x': 1.5,\n",
       "    'xref': 'x1',\n",
       "    'y': 7.0,\n",
       "    'yref': 'y1'},\n",
       "   {'font': {'color': 'rgb(0,0,0)', 'size': 30},\n",
       "    'showarrow': False,\n",
       "    'text': '14',\n",
       "    'x': 1.5,\n",
       "    'xref': 'x1',\n",
       "    'y': 6.0,\n",
       "    'yref': 'y1'}],\n",
       "  'font': {'size': 20},\n",
       "  'hovermode': 'closest',\n",
       "  'margin': {'b': 85, 'l': 40, 'r': 40, 't': 100},\n",
       "  'showlegend': False,\n",
       "  'title': '',\n",
       "  'xaxis': {'showgrid': False,\n",
       "   'showline': False,\n",
       "   'showticklabels': False,\n",
       "   'zeroline': False},\n",
       "  'yaxis': {'showgrid': False,\n",
       "   'showline': False,\n",
       "   'showticklabels': False,\n",
       "   'zeroline': False}}}"
      ]
     },
     "execution_count": 13,
     "metadata": {},
     "output_type": "execute_result"
    }
   ],
   "source": [
    "tree_plot(save=True)"
   ]
  },
  {
   "cell_type": "code",
   "execution_count": 14,
   "metadata": {
    "ExecuteTime": {
     "end_time": "2019-04-12T12:34:17.994043Z",
     "start_time": "2019-04-12T12:34:17.963928Z"
    }
   },
   "outputs": [
    {
     "data": {
      "text/plain": [
       "{'data': [{'hoverinfo': 'none',\n",
       "   'line': {'color': 'rgb(210,210,210)', 'width': 1},\n",
       "   'mode': 'lines',\n",
       "   'type': 'scatter',\n",
       "   'x': [0.0,\n",
       "    -1.5,\n",
       "    None,\n",
       "    -1.5,\n",
       "    -1.5,\n",
       "    None,\n",
       "    -1.5,\n",
       "    -1.5,\n",
       "    None,\n",
       "    0.0,\n",
       "    -0.5,\n",
       "    None,\n",
       "    -0.5,\n",
       "    -0.5,\n",
       "    None,\n",
       "    0.0,\n",
       "    0.5,\n",
       "    None,\n",
       "    0.5,\n",
       "    0.5,\n",
       "    None,\n",
       "    0.5,\n",
       "    0.5,\n",
       "    None,\n",
       "    0.5,\n",
       "    0.5,\n",
       "    None,\n",
       "    0.5,\n",
       "    0.5,\n",
       "    None,\n",
       "    0.0,\n",
       "    1.5,\n",
       "    None,\n",
       "    1.5,\n",
       "    1.5,\n",
       "    None,\n",
       "    1.5,\n",
       "    1.5,\n",
       "    None,\n",
       "    1.5,\n",
       "    1.5,\n",
       "    None],\n",
       "   'y': [10.0,\n",
       "    9.0,\n",
       "    None,\n",
       "    9.0,\n",
       "    8.0,\n",
       "    None,\n",
       "    8.0,\n",
       "    7.0,\n",
       "    None,\n",
       "    10.0,\n",
       "    9.0,\n",
       "    None,\n",
       "    9.0,\n",
       "    8.0,\n",
       "    None,\n",
       "    10.0,\n",
       "    9.0,\n",
       "    None,\n",
       "    9.0,\n",
       "    8.0,\n",
       "    None,\n",
       "    8.0,\n",
       "    7.0,\n",
       "    None,\n",
       "    7.0,\n",
       "    6.0,\n",
       "    None,\n",
       "    6.0,\n",
       "    5.0,\n",
       "    None,\n",
       "    10.0,\n",
       "    9.0,\n",
       "    None,\n",
       "    9.0,\n",
       "    8.0,\n",
       "    None,\n",
       "    8.0,\n",
       "    7.0,\n",
       "    None,\n",
       "    7.0,\n",
       "    6.0,\n",
       "    None]},\n",
       "  {'hoverinfo': 'text',\n",
       "   'marker': {'color': ['#deebf7',\n",
       "     '#9ecae1',\n",
       "     '#9ecae1',\n",
       "     '#9ecae1',\n",
       "     '#9ecae1',\n",
       "     '#9ecae1',\n",
       "     '#9ecae1',\n",
       "     '#9ecae1',\n",
       "     '#9ecae1',\n",
       "     '#9ecae1',\n",
       "     '#9ecae1',\n",
       "     '#fdcc8a',\n",
       "     '#fdcc8a',\n",
       "     '#fdcc8a',\n",
       "     '#fc8d59'],\n",
       "    'line': {'color': 'rgb(10,10,10)', 'width': 1},\n",
       "    'size': 100,\n",
       "    'symbol': 'dot'},\n",
       "   'mode': 'markers',\n",
       "   'name': '',\n",
       "   'opacity': 1,\n",
       "   'text': ['article',\n",
       "    '1',\n",
       "    '2',\n",
       "    '3',\n",
       "    '4',\n",
       "    '5',\n",
       "    '6',\n",
       "    '7',\n",
       "    '8',\n",
       "    '9',\n",
       "    '10',\n",
       "    '11',\n",
       "    '12',\n",
       "    '13',\n",
       "    '14'],\n",
       "   'type': 'scatter',\n",
       "   'x': [0.0,\n",
       "    -1.5,\n",
       "    -1.5,\n",
       "    -1.5,\n",
       "    -0.5,\n",
       "    -0.5,\n",
       "    0.5,\n",
       "    0.5,\n",
       "    0.5,\n",
       "    0.5,\n",
       "    0.5,\n",
       "    1.5,\n",
       "    1.5,\n",
       "    1.5,\n",
       "    1.5],\n",
       "   'y': [10.0,\n",
       "    9.0,\n",
       "    8.0,\n",
       "    7.0,\n",
       "    9.0,\n",
       "    8.0,\n",
       "    9.0,\n",
       "    8.0,\n",
       "    7.0,\n",
       "    6.0,\n",
       "    5.0,\n",
       "    9.0,\n",
       "    8.0,\n",
       "    7.0,\n",
       "    6.0]}],\n",
       " 'layout': {'annotations': [{'font': {'color': 'rgb(0,0,0)', 'size': 30},\n",
       "    'showarrow': False,\n",
       "    'text': 'article',\n",
       "    'x': 0.0,\n",
       "    'xref': 'x1',\n",
       "    'y': 10.0,\n",
       "    'yref': 'y1'},\n",
       "   {'font': {'color': 'rgb(0,0,0)', 'size': 30},\n",
       "    'showarrow': False,\n",
       "    'text': '1',\n",
       "    'x': -1.5,\n",
       "    'xref': 'x1',\n",
       "    'y': 9.0,\n",
       "    'yref': 'y1'},\n",
       "   {'font': {'color': 'rgb(0,0,0)', 'size': 30},\n",
       "    'showarrow': False,\n",
       "    'text': '2',\n",
       "    'x': -1.5,\n",
       "    'xref': 'x1',\n",
       "    'y': 8.0,\n",
       "    'yref': 'y1'},\n",
       "   {'font': {'color': 'rgb(0,0,0)', 'size': 30},\n",
       "    'showarrow': False,\n",
       "    'text': '3',\n",
       "    'x': -1.5,\n",
       "    'xref': 'x1',\n",
       "    'y': 7.0,\n",
       "    'yref': 'y1'},\n",
       "   {'font': {'color': 'rgb(0,0,0)', 'size': 30},\n",
       "    'showarrow': False,\n",
       "    'text': '4',\n",
       "    'x': -0.5,\n",
       "    'xref': 'x1',\n",
       "    'y': 9.0,\n",
       "    'yref': 'y1'},\n",
       "   {'font': {'color': 'rgb(0,0,0)', 'size': 30},\n",
       "    'showarrow': False,\n",
       "    'text': '5',\n",
       "    'x': -0.5,\n",
       "    'xref': 'x1',\n",
       "    'y': 8.0,\n",
       "    'yref': 'y1'},\n",
       "   {'font': {'color': 'rgb(0,0,0)', 'size': 30},\n",
       "    'showarrow': False,\n",
       "    'text': '6',\n",
       "    'x': 0.5,\n",
       "    'xref': 'x1',\n",
       "    'y': 9.0,\n",
       "    'yref': 'y1'},\n",
       "   {'font': {'color': 'rgb(0,0,0)', 'size': 30},\n",
       "    'showarrow': False,\n",
       "    'text': '7',\n",
       "    'x': 0.5,\n",
       "    'xref': 'x1',\n",
       "    'y': 8.0,\n",
       "    'yref': 'y1'},\n",
       "   {'font': {'color': 'rgb(0,0,0)', 'size': 30},\n",
       "    'showarrow': False,\n",
       "    'text': '8',\n",
       "    'x': 0.5,\n",
       "    'xref': 'x1',\n",
       "    'y': 7.0,\n",
       "    'yref': 'y1'},\n",
       "   {'font': {'color': 'rgb(0,0,0)', 'size': 30},\n",
       "    'showarrow': False,\n",
       "    'text': '9',\n",
       "    'x': 0.5,\n",
       "    'xref': 'x1',\n",
       "    'y': 6.0,\n",
       "    'yref': 'y1'},\n",
       "   {'font': {'color': 'rgb(0,0,0)', 'size': 30},\n",
       "    'showarrow': False,\n",
       "    'text': '10',\n",
       "    'x': 0.5,\n",
       "    'xref': 'x1',\n",
       "    'y': 5.0,\n",
       "    'yref': 'y1'},\n",
       "   {'font': {'color': 'rgb(0,0,0)', 'size': 30},\n",
       "    'showarrow': False,\n",
       "    'text': '11',\n",
       "    'x': 1.5,\n",
       "    'xref': 'x1',\n",
       "    'y': 9.0,\n",
       "    'yref': 'y1'},\n",
       "   {'font': {'color': 'rgb(0,0,0)', 'size': 30},\n",
       "    'showarrow': False,\n",
       "    'text': '12',\n",
       "    'x': 1.5,\n",
       "    'xref': 'x1',\n",
       "    'y': 8.0,\n",
       "    'yref': 'y1'},\n",
       "   {'font': {'color': 'rgb(0,0,0)', 'size': 30},\n",
       "    'showarrow': False,\n",
       "    'text': '13',\n",
       "    'x': 1.5,\n",
       "    'xref': 'x1',\n",
       "    'y': 7.0,\n",
       "    'yref': 'y1'},\n",
       "   {'font': {'color': 'rgb(0,0,0)', 'size': 30},\n",
       "    'showarrow': False,\n",
       "    'text': '14',\n",
       "    'x': 1.5,\n",
       "    'xref': 'x1',\n",
       "    'y': 6.0,\n",
       "    'yref': 'y1'}],\n",
       "  'font': {'size': 20},\n",
       "  'hovermode': 'closest',\n",
       "  'margin': {'b': 85, 'l': 40, 'r': 40, 't': 100},\n",
       "  'showlegend': False,\n",
       "  'title': '<th> <cm> 11 </cm> <cm> 12 </cm> <cm> 13 </cm> <cm> 14 </cm> </th>',\n",
       "  'xaxis': {'showgrid': False,\n",
       "   'showline': False,\n",
       "   'showticklabels': False,\n",
       "   'zeroline': False},\n",
       "  'yaxis': {'showgrid': False,\n",
       "   'showline': False,\n",
       "   'showticklabels': False,\n",
       "   'zeroline': False}}}"
      ]
     },
     "execution_count": 14,
     "metadata": {},
     "output_type": "execute_result"
    }
   ],
   "source": [
    "fig"
   ]
  },
  {
   "cell_type": "code",
   "execution_count": 146,
   "metadata": {
    "ExecuteTime": {
     "end_time": "2019-01-30T21:39:33.496873Z",
     "start_time": "2019-01-30T21:39:32.474111Z"
    }
   },
   "outputs": [
    {
     "data": {
      "application/vnd.plotly.v1+json": {
       "data": [
        {
         "hoverinfo": "none",
         "line": {
          "color": "rgb(210,210,210)",
          "width": 1
         },
         "mode": "lines",
         "type": "scatter",
         "x": [
          0,
          -1.5,
          null,
          -1.5,
          -1.5,
          null,
          -1.5,
          -1.5,
          null,
          0,
          -0.5,
          null,
          -0.5,
          -0.5,
          null,
          0,
          0.5,
          null,
          0.5,
          0.5,
          null,
          0.5,
          0.5,
          null,
          0.5,
          0.5,
          null,
          0.5,
          0.5,
          null,
          0,
          1.5,
          null,
          1.5,
          1.5,
          null,
          1.5,
          1.5,
          null,
          1.5,
          1.5,
          null
         ],
         "y": [
          10,
          9,
          null,
          9,
          8,
          null,
          8,
          7,
          null,
          10,
          9,
          null,
          9,
          8,
          null,
          10,
          9,
          null,
          9,
          8,
          null,
          8,
          7,
          null,
          7,
          6,
          null,
          6,
          5,
          null,
          10,
          9,
          null,
          9,
          8,
          null,
          8,
          7,
          null,
          7,
          6,
          null
         ]
        },
        {
         "hoverinfo": "text",
         "marker": {
          "color": [
           "#deebf7",
           "#9ecae1",
           "#9ecae1",
           "#9ecae1",
           "#9ecae1",
           "#9ecae1",
           "#fdcc8a",
           "#fdcc8a",
           "#fdcc8a",
           "#fc8d59",
           "#9ecae1",
           "#9ecae1",
           "#9ecae1",
           "#9ecae1",
           "#9ecae1"
          ],
          "line": {
           "color": "rgb(10,10,10)",
           "width": 1
          },
          "size": 35,
          "symbol": "dot"
         },
         "mode": "markers",
         "name": "",
         "opacity": 0.8,
         "text": [
          "article",
          "1",
          "2",
          "3",
          "4",
          "5",
          "6",
          "7",
          "8",
          "9",
          "10",
          "11",
          "12",
          "13",
          "14"
         ],
         "type": "scatter",
         "x": [
          0,
          -1.5,
          -1.5,
          -1.5,
          -0.5,
          -0.5,
          0.5,
          0.5,
          0.5,
          0.5,
          0.5,
          1.5,
          1.5,
          1.5,
          1.5
         ],
         "y": [
          10,
          9,
          8,
          7,
          9,
          8,
          9,
          8,
          7,
          6,
          5,
          9,
          8,
          7,
          6
         ]
        }
       ],
       "layout": {
        "annotations": [
         {
          "font": {
           "color": "rgb(0,0,0)",
           "size": 10
          },
          "showarrow": false,
          "text": "article",
          "x": 0,
          "xref": "x1",
          "y": 10,
          "yref": "y1"
         },
         {
          "font": {
           "color": "rgb(0,0,0)",
           "size": 10
          },
          "showarrow": false,
          "text": "1",
          "x": -1.5,
          "xref": "x1",
          "y": 9,
          "yref": "y1"
         },
         {
          "font": {
           "color": "rgb(0,0,0)",
           "size": 10
          },
          "showarrow": false,
          "text": "2",
          "x": -1.5,
          "xref": "x1",
          "y": 8,
          "yref": "y1"
         },
         {
          "font": {
           "color": "rgb(0,0,0)",
           "size": 10
          },
          "showarrow": false,
          "text": "3",
          "x": -1.5,
          "xref": "x1",
          "y": 7,
          "yref": "y1"
         },
         {
          "font": {
           "color": "rgb(0,0,0)",
           "size": 10
          },
          "showarrow": false,
          "text": "4",
          "x": -0.5,
          "xref": "x1",
          "y": 9,
          "yref": "y1"
         },
         {
          "font": {
           "color": "rgb(0,0,0)",
           "size": 10
          },
          "showarrow": false,
          "text": "5",
          "x": -0.5,
          "xref": "x1",
          "y": 8,
          "yref": "y1"
         },
         {
          "font": {
           "color": "rgb(0,0,0)",
           "size": 10
          },
          "showarrow": false,
          "text": "6",
          "x": 0.5,
          "xref": "x1",
          "y": 9,
          "yref": "y1"
         },
         {
          "font": {
           "color": "rgb(0,0,0)",
           "size": 10
          },
          "showarrow": false,
          "text": "7",
          "x": 0.5,
          "xref": "x1",
          "y": 8,
          "yref": "y1"
         },
         {
          "font": {
           "color": "rgb(0,0,0)",
           "size": 10
          },
          "showarrow": false,
          "text": "8",
          "x": 0.5,
          "xref": "x1",
          "y": 7,
          "yref": "y1"
         },
         {
          "font": {
           "color": "rgb(0,0,0)",
           "size": 10
          },
          "showarrow": false,
          "text": "9",
          "x": 0.5,
          "xref": "x1",
          "y": 6,
          "yref": "y1"
         },
         {
          "font": {
           "color": "rgb(0,0,0)",
           "size": 10
          },
          "showarrow": false,
          "text": "10",
          "x": 0.5,
          "xref": "x1",
          "y": 5,
          "yref": "y1"
         },
         {
          "font": {
           "color": "rgb(0,0,0)",
           "size": 10
          },
          "showarrow": false,
          "text": "11",
          "x": 1.5,
          "xref": "x1",
          "y": 9,
          "yref": "y1"
         },
         {
          "font": {
           "color": "rgb(0,0,0)",
           "size": 10
          },
          "showarrow": false,
          "text": "12",
          "x": 1.5,
          "xref": "x1",
          "y": 8,
          "yref": "y1"
         },
         {
          "font": {
           "color": "rgb(0,0,0)",
           "size": 10
          },
          "showarrow": false,
          "text": "13",
          "x": 1.5,
          "xref": "x1",
          "y": 7,
          "yref": "y1"
         },
         {
          "font": {
           "color": "rgb(0,0,0)",
           "size": 10
          },
          "showarrow": false,
          "text": "14",
          "x": 1.5,
          "xref": "x1",
          "y": 6,
          "yref": "y1"
         }
        ],
        "font": {
         "size": 12
        },
        "hovermode": "closest",
        "margin": {
         "b": 85,
         "l": 40,
         "r": 40,
         "t": 100
        },
        "showlegend": false,
        "title": "<thr> <com> 6 </com> <com> 7 </com> <com> 8 </com> <com> 9 </com> </thr>",
        "xaxis": {
         "showgrid": false,
         "showline": false,
         "showticklabels": false,
         "zeroline": false
        },
        "yaxis": {
         "showgrid": false,
         "showline": false,
         "showticklabels": false,
         "zeroline": false
        }
       }
      },
      "text/html": [
       "<div id=\"7d0f7085-66c1-41d3-a547-54c97d88a97c\" style=\"height: 525px; width: 100%;\" class=\"plotly-graph-div\"></div><script type=\"text/javascript\">require([\"plotly\"], function(Plotly) { window.PLOTLYENV=window.PLOTLYENV || {};window.PLOTLYENV.BASE_URL=\"https://plot.ly\";Plotly.newPlot(\"7d0f7085-66c1-41d3-a547-54c97d88a97c\", [{\"mode\": \"lines\", \"hoverinfo\": \"none\", \"y\": [10.0, 9.0, null, 9.0, 8.0, null, 8.0, 7.0, null, 10.0, 9.0, null, 9.0, 8.0, null, 10.0, 9.0, null, 9.0, 8.0, null, 8.0, 7.0, null, 7.0, 6.0, null, 6.0, 5.0, null, 10.0, 9.0, null, 9.0, 8.0, null, 8.0, 7.0, null, 7.0, 6.0, null], \"x\": [0.0, -1.5, null, -1.5, -1.5, null, -1.5, -1.5, null, 0.0, -0.5, null, -0.5, -0.5, null, 0.0, 0.5, null, 0.5, 0.5, null, 0.5, 0.5, null, 0.5, 0.5, null, 0.5, 0.5, null, 0.0, 1.5, null, 1.5, 1.5, null, 1.5, 1.5, null, 1.5, 1.5, null], \"line\": {\"color\": \"rgb(210,210,210)\", \"width\": 1}, \"type\": \"scatter\"}, {\"opacity\": 0.8, \"name\": \"\", \"text\": [\"article\", \"1\", \"2\", \"3\", \"4\", \"5\", \"6\", \"7\", \"8\", \"9\", \"10\", \"11\", \"12\", \"13\", \"14\"], \"marker\": {\"color\": [\"#deebf7\", \"#9ecae1\", \"#9ecae1\", \"#9ecae1\", \"#9ecae1\", \"#9ecae1\", \"#fdcc8a\", \"#fdcc8a\", \"#fdcc8a\", \"#fc8d59\", \"#9ecae1\", \"#9ecae1\", \"#9ecae1\", \"#9ecae1\", \"#9ecae1\"], \"line\": {\"color\": \"rgb(10,10,10)\", \"width\": 1}, \"symbol\": \"dot\", \"size\": 35}, \"mode\": \"markers\", \"hoverinfo\": \"text\", \"y\": [10.0, 9.0, 8.0, 7.0, 9.0, 8.0, 9.0, 8.0, 7.0, 6.0, 5.0, 9.0, 8.0, 7.0, 6.0], \"x\": [0.0, -1.5, -1.5, -1.5, -0.5, -0.5, 0.5, 0.5, 0.5, 0.5, 0.5, 1.5, 1.5, 1.5, 1.5], \"type\": \"scatter\"}], {\"showlegend\": false, \"title\": \"<thr> <com> 6 </com> <com> 7 </com> <com> 8 </com> <com> 9 </com> </thr>\", \"yaxis\": {\"zeroline\": false, \"showline\": false, \"showticklabels\": false, \"showgrid\": false}, \"xaxis\": {\"zeroline\": false, \"showline\": false, \"showticklabels\": false, \"showgrid\": false}, \"hovermode\": \"closest\", \"font\": {\"size\": 12}, \"margin\": {\"r\": 40, \"b\": 85, \"t\": 100, \"l\": 40}, \"annotations\": [{\"xref\": \"x1\", \"yref\": \"y1\", \"text\": \"article\", \"y\": 10.0, \"x\": 0.0, \"font\": {\"color\": \"rgb(0,0,0)\", \"size\": 10}, \"showarrow\": false}, {\"xref\": \"x1\", \"yref\": \"y1\", \"text\": \"1\", \"y\": 9.0, \"x\": -1.5, \"font\": {\"color\": \"rgb(0,0,0)\", \"size\": 10}, \"showarrow\": false}, {\"xref\": \"x1\", \"yref\": \"y1\", \"text\": \"2\", \"y\": 8.0, \"x\": -1.5, \"font\": {\"color\": \"rgb(0,0,0)\", \"size\": 10}, \"showarrow\": false}, {\"xref\": \"x1\", \"yref\": \"y1\", \"text\": \"3\", \"y\": 7.0, \"x\": -1.5, \"font\": {\"color\": \"rgb(0,0,0)\", \"size\": 10}, \"showarrow\": false}, {\"xref\": \"x1\", \"yref\": \"y1\", \"text\": \"4\", \"y\": 9.0, \"x\": -0.5, \"font\": {\"color\": \"rgb(0,0,0)\", \"size\": 10}, \"showarrow\": false}, {\"xref\": \"x1\", \"yref\": \"y1\", \"text\": \"5\", \"y\": 8.0, \"x\": -0.5, \"font\": {\"color\": \"rgb(0,0,0)\", \"size\": 10}, \"showarrow\": false}, {\"xref\": \"x1\", \"yref\": \"y1\", \"text\": \"6\", \"y\": 9.0, \"x\": 0.5, \"font\": {\"color\": \"rgb(0,0,0)\", \"size\": 10}, \"showarrow\": false}, {\"xref\": \"x1\", \"yref\": \"y1\", \"text\": \"7\", \"y\": 8.0, \"x\": 0.5, \"font\": {\"color\": \"rgb(0,0,0)\", \"size\": 10}, \"showarrow\": false}, {\"xref\": \"x1\", \"yref\": \"y1\", \"text\": \"8\", \"y\": 7.0, \"x\": 0.5, \"font\": {\"color\": \"rgb(0,0,0)\", \"size\": 10}, \"showarrow\": false}, {\"xref\": \"x1\", \"yref\": \"y1\", \"text\": \"9\", \"y\": 6.0, \"x\": 0.5, \"font\": {\"color\": \"rgb(0,0,0)\", \"size\": 10}, \"showarrow\": false}, {\"xref\": \"x1\", \"yref\": \"y1\", \"text\": \"10\", \"y\": 5.0, \"x\": 0.5, \"font\": {\"color\": \"rgb(0,0,0)\", \"size\": 10}, \"showarrow\": false}, {\"xref\": \"x1\", \"yref\": \"y1\", \"text\": \"11\", \"y\": 9.0, \"x\": 1.5, \"font\": {\"color\": \"rgb(0,0,0)\", \"size\": 10}, \"showarrow\": false}, {\"xref\": \"x1\", \"yref\": \"y1\", \"text\": \"12\", \"y\": 8.0, \"x\": 1.5, \"font\": {\"color\": \"rgb(0,0,0)\", \"size\": 10}, \"showarrow\": false}, {\"xref\": \"x1\", \"yref\": \"y1\", \"text\": \"13\", \"y\": 7.0, \"x\": 1.5, \"font\": {\"color\": \"rgb(0,0,0)\", \"size\": 10}, \"showarrow\": false}, {\"xref\": \"x1\", \"yref\": \"y1\", \"text\": \"14\", \"y\": 6.0, \"x\": 1.5, \"font\": {\"color\": \"rgb(0,0,0)\", \"size\": 10}, \"showarrow\": false}]}, {\"linkText\": \"Export to plot.ly\", \"showLink\": true})});</script>"
      ],
      "text/vnd.plotly.v1+html": [
       "<div id=\"7d0f7085-66c1-41d3-a547-54c97d88a97c\" style=\"height: 525px; width: 100%;\" class=\"plotly-graph-div\"></div><script type=\"text/javascript\">require([\"plotly\"], function(Plotly) { window.PLOTLYENV=window.PLOTLYENV || {};window.PLOTLYENV.BASE_URL=\"https://plot.ly\";Plotly.newPlot(\"7d0f7085-66c1-41d3-a547-54c97d88a97c\", [{\"mode\": \"lines\", \"hoverinfo\": \"none\", \"y\": [10.0, 9.0, null, 9.0, 8.0, null, 8.0, 7.0, null, 10.0, 9.0, null, 9.0, 8.0, null, 10.0, 9.0, null, 9.0, 8.0, null, 8.0, 7.0, null, 7.0, 6.0, null, 6.0, 5.0, null, 10.0, 9.0, null, 9.0, 8.0, null, 8.0, 7.0, null, 7.0, 6.0, null], \"x\": [0.0, -1.5, null, -1.5, -1.5, null, -1.5, -1.5, null, 0.0, -0.5, null, -0.5, -0.5, null, 0.0, 0.5, null, 0.5, 0.5, null, 0.5, 0.5, null, 0.5, 0.5, null, 0.5, 0.5, null, 0.0, 1.5, null, 1.5, 1.5, null, 1.5, 1.5, null, 1.5, 1.5, null], \"line\": {\"color\": \"rgb(210,210,210)\", \"width\": 1}, \"type\": \"scatter\"}, {\"opacity\": 0.8, \"name\": \"\", \"text\": [\"article\", \"1\", \"2\", \"3\", \"4\", \"5\", \"6\", \"7\", \"8\", \"9\", \"10\", \"11\", \"12\", \"13\", \"14\"], \"marker\": {\"color\": [\"#deebf7\", \"#9ecae1\", \"#9ecae1\", \"#9ecae1\", \"#9ecae1\", \"#9ecae1\", \"#fdcc8a\", \"#fdcc8a\", \"#fdcc8a\", \"#fc8d59\", \"#9ecae1\", \"#9ecae1\", \"#9ecae1\", \"#9ecae1\", \"#9ecae1\"], \"line\": {\"color\": \"rgb(10,10,10)\", \"width\": 1}, \"symbol\": \"dot\", \"size\": 35}, \"mode\": \"markers\", \"hoverinfo\": \"text\", \"y\": [10.0, 9.0, 8.0, 7.0, 9.0, 8.0, 9.0, 8.0, 7.0, 6.0, 5.0, 9.0, 8.0, 7.0, 6.0], \"x\": [0.0, -1.5, -1.5, -1.5, -0.5, -0.5, 0.5, 0.5, 0.5, 0.5, 0.5, 1.5, 1.5, 1.5, 1.5], \"type\": \"scatter\"}], {\"showlegend\": false, \"title\": \"<thr> <com> 6 </com> <com> 7 </com> <com> 8 </com> <com> 9 </com> </thr>\", \"yaxis\": {\"zeroline\": false, \"showline\": false, \"showticklabels\": false, \"showgrid\": false}, \"xaxis\": {\"zeroline\": false, \"showline\": false, \"showticklabels\": false, \"showgrid\": false}, \"hovermode\": \"closest\", \"font\": {\"size\": 12}, \"margin\": {\"r\": 40, \"b\": 85, \"t\": 100, \"l\": 40}, \"annotations\": [{\"xref\": \"x1\", \"yref\": \"y1\", \"text\": \"article\", \"y\": 10.0, \"x\": 0.0, \"font\": {\"color\": \"rgb(0,0,0)\", \"size\": 10}, \"showarrow\": false}, {\"xref\": \"x1\", \"yref\": \"y1\", \"text\": \"1\", \"y\": 9.0, \"x\": -1.5, \"font\": {\"color\": \"rgb(0,0,0)\", \"size\": 10}, \"showarrow\": false}, {\"xref\": \"x1\", \"yref\": \"y1\", \"text\": \"2\", \"y\": 8.0, \"x\": -1.5, \"font\": {\"color\": \"rgb(0,0,0)\", \"size\": 10}, \"showarrow\": false}, {\"xref\": \"x1\", \"yref\": \"y1\", \"text\": \"3\", \"y\": 7.0, \"x\": -1.5, \"font\": {\"color\": \"rgb(0,0,0)\", \"size\": 10}, \"showarrow\": false}, {\"xref\": \"x1\", \"yref\": \"y1\", \"text\": \"4\", \"y\": 9.0, \"x\": -0.5, \"font\": {\"color\": \"rgb(0,0,0)\", \"size\": 10}, \"showarrow\": false}, {\"xref\": \"x1\", \"yref\": \"y1\", \"text\": \"5\", \"y\": 8.0, \"x\": -0.5, \"font\": {\"color\": \"rgb(0,0,0)\", \"size\": 10}, \"showarrow\": false}, {\"xref\": \"x1\", \"yref\": \"y1\", \"text\": \"6\", \"y\": 9.0, \"x\": 0.5, \"font\": {\"color\": \"rgb(0,0,0)\", \"size\": 10}, \"showarrow\": false}, {\"xref\": \"x1\", \"yref\": \"y1\", \"text\": \"7\", \"y\": 8.0, \"x\": 0.5, \"font\": {\"color\": \"rgb(0,0,0)\", \"size\": 10}, \"showarrow\": false}, {\"xref\": \"x1\", \"yref\": \"y1\", \"text\": \"8\", \"y\": 7.0, \"x\": 0.5, \"font\": {\"color\": \"rgb(0,0,0)\", \"size\": 10}, \"showarrow\": false}, {\"xref\": \"x1\", \"yref\": \"y1\", \"text\": \"9\", \"y\": 6.0, \"x\": 0.5, \"font\": {\"color\": \"rgb(0,0,0)\", \"size\": 10}, \"showarrow\": false}, {\"xref\": \"x1\", \"yref\": \"y1\", \"text\": \"10\", \"y\": 5.0, \"x\": 0.5, \"font\": {\"color\": \"rgb(0,0,0)\", \"size\": 10}, \"showarrow\": false}, {\"xref\": \"x1\", \"yref\": \"y1\", \"text\": \"11\", \"y\": 9.0, \"x\": 1.5, \"font\": {\"color\": \"rgb(0,0,0)\", \"size\": 10}, \"showarrow\": false}, {\"xref\": \"x1\", \"yref\": \"y1\", \"text\": \"12\", \"y\": 8.0, \"x\": 1.5, \"font\": {\"color\": \"rgb(0,0,0)\", \"size\": 10}, \"showarrow\": false}, {\"xref\": \"x1\", \"yref\": \"y1\", \"text\": \"13\", \"y\": 7.0, \"x\": 1.5, \"font\": {\"color\": \"rgb(0,0,0)\", \"size\": 10}, \"showarrow\": false}, {\"xref\": \"x1\", \"yref\": \"y1\", \"text\": \"14\", \"y\": 6.0, \"x\": 1.5, \"font\": {\"color\": \"rgb(0,0,0)\", \"size\": 10}, \"showarrow\": false}]}, {\"linkText\": \"Export to plot.ly\", \"showLink\": true})});</script>"
      ]
     },
     "metadata": {},
     "output_type": "display_data"
    },
    {
     "data": {
      "text/html": [
       "<script>function downloadimage(format, height, width, filename) {var p = document.getElementById('7d0f7085-66c1-41d3-a547-54c97d88a97c');Plotly.downloadImage(p, {format: format, height: height, width: width, filename: filename});};if(document.readyState == 'complete') {{downloadimage('png', 600, 800, 'test');}}</script>"
      ],
      "text/plain": [
       "<IPython.core.display.HTML object>"
      ]
     },
     "metadata": {},
     "output_type": "display_data"
    }
   ],
   "source": [
    "iplot(fig, filename='test', image='png')"
   ]
  },
  {
   "cell_type": "code",
   "execution_count": 121,
   "metadata": {
    "ExecuteTime": {
     "end_time": "2019-01-30T21:28:41.454819Z",
     "start_time": "2019-01-30T21:28:41.424969Z"
    }
   },
   "outputs": [
    {
     "ename": "TypeError",
     "evalue": "not all arguments converted during string formatting",
     "output_type": "error",
     "traceback": [
      "\u001b[0;31m---------------------------------------------------------------------------\u001b[0m",
      "\u001b[0;31mTypeError\u001b[0m                                 Traceback (most recent call last)",
      "\u001b[0;32m/home/group7/anaconda3/envs/plot27/lib/python2.7/site-packages/IPython/core/formatters.pyc\u001b[0m in \u001b[0;36m__call__\u001b[0;34m(self, obj)\u001b[0m\n\u001b[1;32m    336\u001b[0m             \u001b[0mmethod\u001b[0m \u001b[0;34m=\u001b[0m \u001b[0mget_real_method\u001b[0m\u001b[0;34m(\u001b[0m\u001b[0mobj\u001b[0m\u001b[0;34m,\u001b[0m \u001b[0mself\u001b[0m\u001b[0;34m.\u001b[0m\u001b[0mprint_method\u001b[0m\u001b[0;34m)\u001b[0m\u001b[0;34m\u001b[0m\u001b[0m\n\u001b[1;32m    337\u001b[0m             \u001b[0;32mif\u001b[0m \u001b[0mmethod\u001b[0m \u001b[0;32mis\u001b[0m \u001b[0;32mnot\u001b[0m \u001b[0mNone\u001b[0m\u001b[0;34m:\u001b[0m\u001b[0;34m\u001b[0m\u001b[0m\n\u001b[0;32m--> 338\u001b[0;31m                 \u001b[0;32mreturn\u001b[0m \u001b[0mmethod\u001b[0m\u001b[0;34m(\u001b[0m\u001b[0;34m)\u001b[0m\u001b[0;34m\u001b[0m\u001b[0m\n\u001b[0m\u001b[1;32m    339\u001b[0m             \u001b[0;32mreturn\u001b[0m \u001b[0mNone\u001b[0m\u001b[0;34m\u001b[0m\u001b[0m\n\u001b[1;32m    340\u001b[0m         \u001b[0;32melse\u001b[0m\u001b[0;34m:\u001b[0m\u001b[0;34m\u001b[0m\u001b[0m\n",
      "\u001b[0;32m/home/group7/anaconda3/envs/plot27/lib/python2.7/site-packages/igraph/drawing/__init__.pyc\u001b[0m in \u001b[0;36m_repr_svg_\u001b[0;34m(self)\u001b[0m\n\u001b[1;32m    347\u001b[0m         \u001b[0mcontext\u001b[0m \u001b[0;34m=\u001b[0m \u001b[0mcairo\u001b[0m\u001b[0;34m.\u001b[0m\u001b[0mContext\u001b[0m\u001b[0;34m(\u001b[0m\u001b[0msurface\u001b[0m\u001b[0;34m)\u001b[0m\u001b[0;34m\u001b[0m\u001b[0m\n\u001b[1;32m    348\u001b[0m         \u001b[0;31m# Plot the graph on this context\u001b[0m\u001b[0;34m\u001b[0m\u001b[0;34m\u001b[0m\u001b[0m\n\u001b[0;32m--> 349\u001b[0;31m         \u001b[0mself\u001b[0m\u001b[0;34m.\u001b[0m\u001b[0mredraw\u001b[0m\u001b[0;34m(\u001b[0m\u001b[0mcontext\u001b[0m\u001b[0;34m)\u001b[0m\u001b[0;34m\u001b[0m\u001b[0m\n\u001b[0m\u001b[1;32m    350\u001b[0m         \u001b[0;31m# No idea why this is needed but python crashes without\u001b[0m\u001b[0;34m\u001b[0m\u001b[0;34m\u001b[0m\u001b[0m\n\u001b[1;32m    351\u001b[0m         \u001b[0mcontext\u001b[0m\u001b[0;34m.\u001b[0m\u001b[0mshow_page\u001b[0m\u001b[0;34m(\u001b[0m\u001b[0;34m)\u001b[0m\u001b[0;34m\u001b[0m\u001b[0m\n",
      "\u001b[0;32m/home/group7/anaconda3/envs/plot27/lib/python2.7/site-packages/igraph/drawing/__init__.pyc\u001b[0m in \u001b[0;36mredraw\u001b[0;34m(self, context)\u001b[0m\n\u001b[1;32m    261\u001b[0m             \u001b[0mplotter\u001b[0m \u001b[0;34m=\u001b[0m \u001b[0mgetattr\u001b[0m\u001b[0;34m(\u001b[0m\u001b[0mobj\u001b[0m\u001b[0;34m,\u001b[0m \u001b[0;34m\"__plot__\"\u001b[0m\u001b[0;34m,\u001b[0m \u001b[0mNone\u001b[0m\u001b[0;34m)\u001b[0m\u001b[0;34m\u001b[0m\u001b[0m\n\u001b[1;32m    262\u001b[0m             \u001b[0;32mif\u001b[0m \u001b[0mplotter\u001b[0m \u001b[0;32mis\u001b[0m \u001b[0mNone\u001b[0m\u001b[0;34m:\u001b[0m\u001b[0;34m\u001b[0m\u001b[0m\n\u001b[0;32m--> 263\u001b[0;31m                 \u001b[0mwarn\u001b[0m\u001b[0;34m(\u001b[0m\u001b[0;34m\"%s does not support plotting\"\u001b[0m \u001b[0;34m%\u001b[0m \u001b[0mobj\u001b[0m\u001b[0;34m)\u001b[0m\u001b[0;34m\u001b[0m\u001b[0m\n\u001b[0m\u001b[1;32m    264\u001b[0m             \u001b[0;32melse\u001b[0m\u001b[0;34m:\u001b[0m\u001b[0;34m\u001b[0m\u001b[0m\n\u001b[1;32m    265\u001b[0m                 \u001b[0;32mif\u001b[0m \u001b[0mopacity\u001b[0m \u001b[0;34m<\u001b[0m \u001b[0;36m1.0\u001b[0m\u001b[0;34m:\u001b[0m\u001b[0;34m\u001b[0m\u001b[0m\n",
      "\u001b[0;31mTypeError\u001b[0m: not all arguments converted during string formatting"
     ]
    },
    {
     "data": {
      "text/plain": [
       "<igraph.drawing.Plot at 0x7faac9172950>"
      ]
     },
     "execution_count": 121,
     "metadata": {},
     "output_type": "execute_result"
    }
   ],
   "source": [
    "plot(fig, image = 'jpg', image_filename='plot_image', output_type='file', image_width=800, image_height=600)"
   ]
  },
  {
   "cell_type": "code",
   "execution_count": 30,
   "metadata": {
    "ExecuteTime": {
     "end_time": "2019-02-27T16:19:55.379442Z",
     "start_time": "2019-02-27T16:19:55.281726Z"
    }
   },
   "outputs": [],
   "source": [
    "def tree_plot_ed(children=[2, 1, 3], highlight = None, save=False):\n",
    "#     G = Graph.Tree(nr_vertices, 2) # 2 stands for children number\n",
    "\n",
    "    G = Graph()\n",
    "    \n",
    "#     root, article\n",
    "    G.add_vertex(0)\n",
    "    \n",
    "#     first level comments\n",
    "    base_vertix = len(children)\n",
    "    vcount = 0\n",
    "    \n",
    "    for i, num in enumerate(children):\n",
    "        vcount += 1\n",
    "        G.add_vertex(vcount)\n",
    "        G.add_edge(0, vcount)\n",
    "        \n",
    "        for ii in range(num):\n",
    "            vcount += 1\n",
    "            G.add_vertex(vcount)\n",
    "            G.add_edge(vcount - 1, vcount)\n",
    "    \n",
    "    nr_vertices = vcount + 1\n",
    "    print(nr_vertices)\n",
    "    \n",
    "    v_label = map(str, range(nr_vertices))\n",
    "\n",
    "    lay = G.layout('rt', root=[0])\n",
    "\n",
    "    position = {k: lay[k] for k in range(nr_vertices)}\n",
    "    Y = [lay[k][1] for k in range(nr_vertices)]\n",
    "    M = max(Y)\n",
    "\n",
    "    es = EdgeSeq(G) # sequence of edges\n",
    "    E = [e.tuple for e in G.es] # list of edges\n",
    "\n",
    "    L = len(position)\n",
    "    Xn = [position[k][0] for k in range(L)]\n",
    "    Yn = [2*M-position[k][1] for k in range(L)]\n",
    "    Xe = []\n",
    "    Ye = []\n",
    "    for edge in E:\n",
    "        Xe+=[position[edge[0]][0],position[edge[1]][0], None]\n",
    "        Ye+=[2*M-position[edge[0]][1],2*M-position[edge[1]][1], None] \n",
    "\n",
    "    labels = v_label\n",
    "\n",
    "    labels = ['article']\n",
    "    \n",
    "    bla = 0\n",
    "    for l in v_label[1:]:\n",
    "          \n",
    "        labels.append(l)\n",
    "\n",
    "    colors = ['#deebf7']\n",
    "    if True:\n",
    "        parents_highlight = get_parents(children, highlight)\n",
    "\n",
    "        for i in range(1, nr_vertices):\n",
    "            if i in parents_highlight:\n",
    "                colors.append('#fdcc8a')\n",
    "            else:\n",
    "                if i in [1, 4, 6]:\n",
    "                    colors.append('#fdcc8a')\n",
    "                else:\n",
    "                    colors.append('#9ecae1')\n",
    "    else:\n",
    "        colors += ['#9ecae1'] * (nr_vertices - 1)\n",
    "\n",
    "    lines = go.Scatter(x=Xe,\n",
    "                       y=Ye,\n",
    "                       mode='lines',\n",
    "                       line=dict(color='rgb(210,210,210)', width=1),\n",
    "                       hoverinfo='none'\n",
    "                       )\n",
    "    dots = go.Scatter(x=Xn,\n",
    "                      y=Yn,\n",
    "                      mode='markers',\n",
    "                      name='',\n",
    "                      marker=dict(symbol='dot',\n",
    "                                  size=100,\n",
    "                                  color=colors,\n",
    "                                  line=dict(color='rgb(10,10,10)', width=1)\n",
    "                                  ),\n",
    "                      text=labels,\n",
    "                      hoverinfo='text',\n",
    "                      opacity=1\n",
    "                      )\n",
    "\n",
    "    def make_annotations(pos, text, font_size=30, font_color='rgb(0,0,0)'):\n",
    "        L=len((pos))\n",
    "        if len((text))!=L:\n",
    "            raise ValueError('The lists pos and text must have the same len')\n",
    "        annotations = go.Annotations()\n",
    "        for k in range(L):\n",
    "            annotations.append(\n",
    "                go.Annotation(\n",
    "                    text=labels[k], # or replace labels with a different list for the text within the circle  \n",
    "                    x=pos[k][0], y=2*M-position[k][1],\n",
    "                    xref='x1', yref='y1',\n",
    "                    font=dict(color=font_color, size=font_size),\n",
    "                    showarrow=False)\n",
    "            )\n",
    "        return annotations  \n",
    "\n",
    "    axis = dict(showline=False, # hide axis line, grid, ticklabels and  title\n",
    "                zeroline=False,\n",
    "                showgrid=False,\n",
    "                showticklabels=False,\n",
    "                )\n",
    "    title = ''\n",
    "    if not highlight is None:\n",
    "        title=  create_sequence(children, highlight)\n",
    "    layout = dict(annotations=make_annotations(position, v_label),\n",
    "                  font=dict(size=20),\n",
    "                  showlegend=False,\n",
    "                  xaxis=go.XAxis(axis),\n",
    "                  yaxis=go.YAxis(axis),          \n",
    "#                   margin=dict(l=40, r=40, b=85, t=100),\n",
    "                  hovermode='closest',\n",
    "#                   plot_bgcolor='rgb(248,248,248)'          \n",
    "                  )\n",
    "\n",
    "    data=go.Data([lines, dots])\n",
    "    fig=dict(data=data, layout=layout)\n",
    "    fig['layout'].update(annotations=make_annotations(position, v_label))\n",
    "    if save:\n",
    "        iplot(fig, filename=str(highlight) , image='png', image_width=650, image_height=1000)\n",
    "    else:\n",
    "        iplot(fig, image_width=500, image_height=1000)\n",
    "\n",
    "    return fig"
   ]
  },
  {
   "cell_type": "code",
   "execution_count": 31,
   "metadata": {
    "ExecuteTime": {
     "end_time": "2019-02-27T16:19:56.724772Z",
     "start_time": "2019-02-27T16:19:55.667376Z"
    }
   },
   "outputs": [
    {
     "name": "stdout",
     "output_type": "stream",
     "text": [
      "10\n",
      "[2, 1, 3]\n"
     ]
    },
    {
     "data": {
      "application/vnd.plotly.v1+json": {
       "data": [
        {
         "hoverinfo": "none",
         "line": {
          "color": "rgb(210,210,210)",
          "width": 1
         },
         "mode": "lines",
         "type": "scatter",
         "x": [
          0,
          -1,
          null,
          -1,
          -1,
          null,
          -1,
          -1,
          null,
          0,
          0,
          null,
          0,
          0,
          null,
          0,
          1,
          null,
          1,
          1,
          null,
          1,
          1,
          null,
          1,
          1,
          null
         ],
         "y": [
          8,
          7,
          null,
          7,
          6,
          null,
          6,
          5,
          null,
          8,
          7,
          null,
          7,
          6,
          null,
          8,
          7,
          null,
          7,
          6,
          null,
          6,
          5,
          null,
          5,
          4,
          null
         ]
        },
        {
         "hoverinfo": "text",
         "marker": {
          "color": [
           "#deebf7",
           "#fdcc8a",
           "#9ecae1",
           "#9ecae1",
           "#fdcc8a",
           "#9ecae1",
           "#fdcc8a",
           "#9ecae1",
           "#9ecae1",
           "#9ecae1"
          ],
          "line": {
           "color": "rgb(10,10,10)",
           "width": 1
          },
          "size": 100,
          "symbol": "dot"
         },
         "mode": "markers",
         "name": "",
         "opacity": 1,
         "text": [
          "article",
          "1",
          "2",
          "3",
          "4",
          "5",
          "6",
          "7",
          "8",
          "9"
         ],
         "type": "scatter",
         "x": [
          0,
          -1,
          -1,
          -1,
          0,
          0,
          1,
          1,
          1,
          1
         ],
         "y": [
          8,
          7,
          6,
          5,
          7,
          6,
          7,
          6,
          5,
          4
         ]
        }
       ],
       "layout": {
        "annotations": [
         {
          "font": {
           "color": "rgb(0,0,0)",
           "size": 30
          },
          "showarrow": false,
          "text": "article",
          "x": 0,
          "xref": "x1",
          "y": 8,
          "yref": "y1"
         },
         {
          "font": {
           "color": "rgb(0,0,0)",
           "size": 30
          },
          "showarrow": false,
          "text": "1",
          "x": -1,
          "xref": "x1",
          "y": 7,
          "yref": "y1"
         },
         {
          "font": {
           "color": "rgb(0,0,0)",
           "size": 30
          },
          "showarrow": false,
          "text": "2",
          "x": -1,
          "xref": "x1",
          "y": 6,
          "yref": "y1"
         },
         {
          "font": {
           "color": "rgb(0,0,0)",
           "size": 30
          },
          "showarrow": false,
          "text": "3",
          "x": -1,
          "xref": "x1",
          "y": 5,
          "yref": "y1"
         },
         {
          "font": {
           "color": "rgb(0,0,0)",
           "size": 30
          },
          "showarrow": false,
          "text": "4",
          "x": 0,
          "xref": "x1",
          "y": 7,
          "yref": "y1"
         },
         {
          "font": {
           "color": "rgb(0,0,0)",
           "size": 30
          },
          "showarrow": false,
          "text": "5",
          "x": 0,
          "xref": "x1",
          "y": 6,
          "yref": "y1"
         },
         {
          "font": {
           "color": "rgb(0,0,0)",
           "size": 30
          },
          "showarrow": false,
          "text": "6",
          "x": 1,
          "xref": "x1",
          "y": 7,
          "yref": "y1"
         },
         {
          "font": {
           "color": "rgb(0,0,0)",
           "size": 30
          },
          "showarrow": false,
          "text": "7",
          "x": 1,
          "xref": "x1",
          "y": 6,
          "yref": "y1"
         },
         {
          "font": {
           "color": "rgb(0,0,0)",
           "size": 30
          },
          "showarrow": false,
          "text": "8",
          "x": 1,
          "xref": "x1",
          "y": 5,
          "yref": "y1"
         },
         {
          "font": {
           "color": "rgb(0,0,0)",
           "size": 30
          },
          "showarrow": false,
          "text": "9",
          "x": 1,
          "xref": "x1",
          "y": 4,
          "yref": "y1"
         }
        ],
        "font": {
         "size": 20
        },
        "hovermode": "closest",
        "showlegend": false,
        "xaxis": {
         "showgrid": false,
         "showline": false,
         "showticklabels": false,
         "zeroline": false
        },
        "yaxis": {
         "showgrid": false,
         "showline": false,
         "showticklabels": false,
         "zeroline": false
        }
       }
      },
      "text/html": [
       "<div id=\"103abc64-cbde-4406-9afa-c1b309a0eccf\" style=\"height: 525px; width: 100%;\" class=\"plotly-graph-div\"></div><script type=\"text/javascript\">require([\"plotly\"], function(Plotly) { window.PLOTLYENV=window.PLOTLYENV || {};window.PLOTLYENV.BASE_URL=\"https://plot.ly\";Plotly.newPlot(\"103abc64-cbde-4406-9afa-c1b309a0eccf\", [{\"mode\": \"lines\", \"hoverinfo\": \"none\", \"y\": [8.0, 7.0, null, 7.0, 6.0, null, 6.0, 5.0, null, 8.0, 7.0, null, 7.0, 6.0, null, 8.0, 7.0, null, 7.0, 6.0, null, 6.0, 5.0, null, 5.0, 4.0, null], \"x\": [0.0, -1.0, null, -1.0, -1.0, null, -1.0, -1.0, null, 0.0, 0.0, null, 0.0, 0.0, null, 0.0, 1.0, null, 1.0, 1.0, null, 1.0, 1.0, null, 1.0, 1.0, null], \"line\": {\"color\": \"rgb(210,210,210)\", \"width\": 1}, \"type\": \"scatter\"}, {\"opacity\": 1, \"name\": \"\", \"text\": [\"article\", \"1\", \"2\", \"3\", \"4\", \"5\", \"6\", \"7\", \"8\", \"9\"], \"marker\": {\"color\": [\"#deebf7\", \"#fdcc8a\", \"#9ecae1\", \"#9ecae1\", \"#fdcc8a\", \"#9ecae1\", \"#fdcc8a\", \"#9ecae1\", \"#9ecae1\", \"#9ecae1\"], \"line\": {\"color\": \"rgb(10,10,10)\", \"width\": 1}, \"symbol\": \"dot\", \"size\": 100}, \"mode\": \"markers\", \"hoverinfo\": \"text\", \"y\": [8.0, 7.0, 6.0, 5.0, 7.0, 6.0, 7.0, 6.0, 5.0, 4.0], \"x\": [0.0, -1.0, -1.0, -1.0, 0.0, 0.0, 1.0, 1.0, 1.0, 1.0], \"type\": \"scatter\"}], {\"showlegend\": false, \"yaxis\": {\"zeroline\": false, \"showline\": false, \"showticklabels\": false, \"showgrid\": false}, \"xaxis\": {\"zeroline\": false, \"showline\": false, \"showticklabels\": false, \"showgrid\": false}, \"hovermode\": \"closest\", \"font\": {\"size\": 20}, \"annotations\": [{\"xref\": \"x1\", \"yref\": \"y1\", \"text\": \"article\", \"y\": 8.0, \"x\": 0.0, \"font\": {\"color\": \"rgb(0,0,0)\", \"size\": 30}, \"showarrow\": false}, {\"xref\": \"x1\", \"yref\": \"y1\", \"text\": \"1\", \"y\": 7.0, \"x\": -1.0, \"font\": {\"color\": \"rgb(0,0,0)\", \"size\": 30}, \"showarrow\": false}, {\"xref\": \"x1\", \"yref\": \"y1\", \"text\": \"2\", \"y\": 6.0, \"x\": -1.0, \"font\": {\"color\": \"rgb(0,0,0)\", \"size\": 30}, \"showarrow\": false}, {\"xref\": \"x1\", \"yref\": \"y1\", \"text\": \"3\", \"y\": 5.0, \"x\": -1.0, \"font\": {\"color\": \"rgb(0,0,0)\", \"size\": 30}, \"showarrow\": false}, {\"xref\": \"x1\", \"yref\": \"y1\", \"text\": \"4\", \"y\": 7.0, \"x\": 0.0, \"font\": {\"color\": \"rgb(0,0,0)\", \"size\": 30}, \"showarrow\": false}, {\"xref\": \"x1\", \"yref\": \"y1\", \"text\": \"5\", \"y\": 6.0, \"x\": 0.0, \"font\": {\"color\": \"rgb(0,0,0)\", \"size\": 30}, \"showarrow\": false}, {\"xref\": \"x1\", \"yref\": \"y1\", \"text\": \"6\", \"y\": 7.0, \"x\": 1.0, \"font\": {\"color\": \"rgb(0,0,0)\", \"size\": 30}, \"showarrow\": false}, {\"xref\": \"x1\", \"yref\": \"y1\", \"text\": \"7\", \"y\": 6.0, \"x\": 1.0, \"font\": {\"color\": \"rgb(0,0,0)\", \"size\": 30}, \"showarrow\": false}, {\"xref\": \"x1\", \"yref\": \"y1\", \"text\": \"8\", \"y\": 5.0, \"x\": 1.0, \"font\": {\"color\": \"rgb(0,0,0)\", \"size\": 30}, \"showarrow\": false}, {\"xref\": \"x1\", \"yref\": \"y1\", \"text\": \"9\", \"y\": 4.0, \"x\": 1.0, \"font\": {\"color\": \"rgb(0,0,0)\", \"size\": 30}, \"showarrow\": false}]}, {\"linkText\": \"Export to plot.ly\", \"showLink\": true})});</script>"
      ],
      "text/vnd.plotly.v1+html": [
       "<div id=\"103abc64-cbde-4406-9afa-c1b309a0eccf\" style=\"height: 525px; width: 100%;\" class=\"plotly-graph-div\"></div><script type=\"text/javascript\">require([\"plotly\"], function(Plotly) { window.PLOTLYENV=window.PLOTLYENV || {};window.PLOTLYENV.BASE_URL=\"https://plot.ly\";Plotly.newPlot(\"103abc64-cbde-4406-9afa-c1b309a0eccf\", [{\"mode\": \"lines\", \"hoverinfo\": \"none\", \"y\": [8.0, 7.0, null, 7.0, 6.0, null, 6.0, 5.0, null, 8.0, 7.0, null, 7.0, 6.0, null, 8.0, 7.0, null, 7.0, 6.0, null, 6.0, 5.0, null, 5.0, 4.0, null], \"x\": [0.0, -1.0, null, -1.0, -1.0, null, -1.0, -1.0, null, 0.0, 0.0, null, 0.0, 0.0, null, 0.0, 1.0, null, 1.0, 1.0, null, 1.0, 1.0, null, 1.0, 1.0, null], \"line\": {\"color\": \"rgb(210,210,210)\", \"width\": 1}, \"type\": \"scatter\"}, {\"opacity\": 1, \"name\": \"\", \"text\": [\"article\", \"1\", \"2\", \"3\", \"4\", \"5\", \"6\", \"7\", \"8\", \"9\"], \"marker\": {\"color\": [\"#deebf7\", \"#fdcc8a\", \"#9ecae1\", \"#9ecae1\", \"#fdcc8a\", \"#9ecae1\", \"#fdcc8a\", \"#9ecae1\", \"#9ecae1\", \"#9ecae1\"], \"line\": {\"color\": \"rgb(10,10,10)\", \"width\": 1}, \"symbol\": \"dot\", \"size\": 100}, \"mode\": \"markers\", \"hoverinfo\": \"text\", \"y\": [8.0, 7.0, 6.0, 5.0, 7.0, 6.0, 7.0, 6.0, 5.0, 4.0], \"x\": [0.0, -1.0, -1.0, -1.0, 0.0, 0.0, 1.0, 1.0, 1.0, 1.0], \"type\": \"scatter\"}], {\"showlegend\": false, \"yaxis\": {\"zeroline\": false, \"showline\": false, \"showticklabels\": false, \"showgrid\": false}, \"xaxis\": {\"zeroline\": false, \"showline\": false, \"showticklabels\": false, \"showgrid\": false}, \"hovermode\": \"closest\", \"font\": {\"size\": 20}, \"annotations\": [{\"xref\": \"x1\", \"yref\": \"y1\", \"text\": \"article\", \"y\": 8.0, \"x\": 0.0, \"font\": {\"color\": \"rgb(0,0,0)\", \"size\": 30}, \"showarrow\": false}, {\"xref\": \"x1\", \"yref\": \"y1\", \"text\": \"1\", \"y\": 7.0, \"x\": -1.0, \"font\": {\"color\": \"rgb(0,0,0)\", \"size\": 30}, \"showarrow\": false}, {\"xref\": \"x1\", \"yref\": \"y1\", \"text\": \"2\", \"y\": 6.0, \"x\": -1.0, \"font\": {\"color\": \"rgb(0,0,0)\", \"size\": 30}, \"showarrow\": false}, {\"xref\": \"x1\", \"yref\": \"y1\", \"text\": \"3\", \"y\": 5.0, \"x\": -1.0, \"font\": {\"color\": \"rgb(0,0,0)\", \"size\": 30}, \"showarrow\": false}, {\"xref\": \"x1\", \"yref\": \"y1\", \"text\": \"4\", \"y\": 7.0, \"x\": 0.0, \"font\": {\"color\": \"rgb(0,0,0)\", \"size\": 30}, \"showarrow\": false}, {\"xref\": \"x1\", \"yref\": \"y1\", \"text\": \"5\", \"y\": 6.0, \"x\": 0.0, \"font\": {\"color\": \"rgb(0,0,0)\", \"size\": 30}, \"showarrow\": false}, {\"xref\": \"x1\", \"yref\": \"y1\", \"text\": \"6\", \"y\": 7.0, \"x\": 1.0, \"font\": {\"color\": \"rgb(0,0,0)\", \"size\": 30}, \"showarrow\": false}, {\"xref\": \"x1\", \"yref\": \"y1\", \"text\": \"7\", \"y\": 6.0, \"x\": 1.0, \"font\": {\"color\": \"rgb(0,0,0)\", \"size\": 30}, \"showarrow\": false}, {\"xref\": \"x1\", \"yref\": \"y1\", \"text\": \"8\", \"y\": 5.0, \"x\": 1.0, \"font\": {\"color\": \"rgb(0,0,0)\", \"size\": 30}, \"showarrow\": false}, {\"xref\": \"x1\", \"yref\": \"y1\", \"text\": \"9\", \"y\": 4.0, \"x\": 1.0, \"font\": {\"color\": \"rgb(0,0,0)\", \"size\": 30}, \"showarrow\": false}]}, {\"linkText\": \"Export to plot.ly\", \"showLink\": true})});</script>"
      ]
     },
     "metadata": {},
     "output_type": "display_data"
    },
    {
     "data": {
      "text/html": [
       "<script>function downloadimage(format, height, width, filename) {var p = document.getElementById('103abc64-cbde-4406-9afa-c1b309a0eccf');Plotly.downloadImage(p, {format: format, height: height, width: width, filename: filename});};if(document.readyState == 'complete') {{downloadimage('png', 1000, 650, 'None');}}</script>"
      ],
      "text/plain": [
       "<IPython.core.display.HTML object>"
      ]
     },
     "metadata": {},
     "output_type": "display_data"
    },
    {
     "data": {
      "text/plain": [
       "{'data': [{'hoverinfo': 'none',\n",
       "   'line': {'color': 'rgb(210,210,210)', 'width': 1},\n",
       "   'mode': 'lines',\n",
       "   'type': 'scatter',\n",
       "   'x': [0.0,\n",
       "    -1.0,\n",
       "    None,\n",
       "    -1.0,\n",
       "    -1.0,\n",
       "    None,\n",
       "    -1.0,\n",
       "    -1.0,\n",
       "    None,\n",
       "    0.0,\n",
       "    0.0,\n",
       "    None,\n",
       "    0.0,\n",
       "    0.0,\n",
       "    None,\n",
       "    0.0,\n",
       "    1.0,\n",
       "    None,\n",
       "    1.0,\n",
       "    1.0,\n",
       "    None,\n",
       "    1.0,\n",
       "    1.0,\n",
       "    None,\n",
       "    1.0,\n",
       "    1.0,\n",
       "    None],\n",
       "   'y': [8.0,\n",
       "    7.0,\n",
       "    None,\n",
       "    7.0,\n",
       "    6.0,\n",
       "    None,\n",
       "    6.0,\n",
       "    5.0,\n",
       "    None,\n",
       "    8.0,\n",
       "    7.0,\n",
       "    None,\n",
       "    7.0,\n",
       "    6.0,\n",
       "    None,\n",
       "    8.0,\n",
       "    7.0,\n",
       "    None,\n",
       "    7.0,\n",
       "    6.0,\n",
       "    None,\n",
       "    6.0,\n",
       "    5.0,\n",
       "    None,\n",
       "    5.0,\n",
       "    4.0,\n",
       "    None]},\n",
       "  {'hoverinfo': 'text',\n",
       "   'marker': {'color': ['#deebf7',\n",
       "     '#fdcc8a',\n",
       "     '#9ecae1',\n",
       "     '#9ecae1',\n",
       "     '#fdcc8a',\n",
       "     '#9ecae1',\n",
       "     '#fdcc8a',\n",
       "     '#9ecae1',\n",
       "     '#9ecae1',\n",
       "     '#9ecae1'],\n",
       "    'line': {'color': 'rgb(10,10,10)', 'width': 1},\n",
       "    'size': 100,\n",
       "    'symbol': 'dot'},\n",
       "   'mode': 'markers',\n",
       "   'name': '',\n",
       "   'opacity': 1,\n",
       "   'text': ['article', '1', '2', '3', '4', '5', '6', '7', '8', '9'],\n",
       "   'type': 'scatter',\n",
       "   'x': [0.0, -1.0, -1.0, -1.0, 0.0, 0.0, 1.0, 1.0, 1.0, 1.0],\n",
       "   'y': [8.0, 7.0, 6.0, 5.0, 7.0, 6.0, 7.0, 6.0, 5.0, 4.0]}],\n",
       " 'layout': {'annotations': [{'font': {'color': 'rgb(0,0,0)', 'size': 30},\n",
       "    'showarrow': False,\n",
       "    'text': 'article',\n",
       "    'x': 0.0,\n",
       "    'xref': 'x1',\n",
       "    'y': 8.0,\n",
       "    'yref': 'y1'},\n",
       "   {'font': {'color': 'rgb(0,0,0)', 'size': 30},\n",
       "    'showarrow': False,\n",
       "    'text': '1',\n",
       "    'x': -1.0,\n",
       "    'xref': 'x1',\n",
       "    'y': 7.0,\n",
       "    'yref': 'y1'},\n",
       "   {'font': {'color': 'rgb(0,0,0)', 'size': 30},\n",
       "    'showarrow': False,\n",
       "    'text': '2',\n",
       "    'x': -1.0,\n",
       "    'xref': 'x1',\n",
       "    'y': 6.0,\n",
       "    'yref': 'y1'},\n",
       "   {'font': {'color': 'rgb(0,0,0)', 'size': 30},\n",
       "    'showarrow': False,\n",
       "    'text': '3',\n",
       "    'x': -1.0,\n",
       "    'xref': 'x1',\n",
       "    'y': 5.0,\n",
       "    'yref': 'y1'},\n",
       "   {'font': {'color': 'rgb(0,0,0)', 'size': 30},\n",
       "    'showarrow': False,\n",
       "    'text': '4',\n",
       "    'x': 0.0,\n",
       "    'xref': 'x1',\n",
       "    'y': 7.0,\n",
       "    'yref': 'y1'},\n",
       "   {'font': {'color': 'rgb(0,0,0)', 'size': 30},\n",
       "    'showarrow': False,\n",
       "    'text': '5',\n",
       "    'x': 0.0,\n",
       "    'xref': 'x1',\n",
       "    'y': 6.0,\n",
       "    'yref': 'y1'},\n",
       "   {'font': {'color': 'rgb(0,0,0)', 'size': 30},\n",
       "    'showarrow': False,\n",
       "    'text': '6',\n",
       "    'x': 1.0,\n",
       "    'xref': 'x1',\n",
       "    'y': 7.0,\n",
       "    'yref': 'y1'},\n",
       "   {'font': {'color': 'rgb(0,0,0)', 'size': 30},\n",
       "    'showarrow': False,\n",
       "    'text': '7',\n",
       "    'x': 1.0,\n",
       "    'xref': 'x1',\n",
       "    'y': 6.0,\n",
       "    'yref': 'y1'},\n",
       "   {'font': {'color': 'rgb(0,0,0)', 'size': 30},\n",
       "    'showarrow': False,\n",
       "    'text': '8',\n",
       "    'x': 1.0,\n",
       "    'xref': 'x1',\n",
       "    'y': 5.0,\n",
       "    'yref': 'y1'},\n",
       "   {'font': {'color': 'rgb(0,0,0)', 'size': 30},\n",
       "    'showarrow': False,\n",
       "    'text': '9',\n",
       "    'x': 1.0,\n",
       "    'xref': 'x1',\n",
       "    'y': 4.0,\n",
       "    'yref': 'y1'}],\n",
       "  'font': {'size': 20},\n",
       "  'hovermode': 'closest',\n",
       "  'showlegend': False,\n",
       "  'xaxis': {'showgrid': False,\n",
       "   'showline': False,\n",
       "   'showticklabels': False,\n",
       "   'zeroline': False},\n",
       "  'yaxis': {'showgrid': False,\n",
       "   'showline': False,\n",
       "   'showticklabels': False,\n",
       "   'zeroline': False}}}"
      ]
     },
     "execution_count": 31,
     "metadata": {},
     "output_type": "execute_result"
    }
   ],
   "source": [
    "tree_plot_ed(save=True)"
   ]
  },
  {
   "cell_type": "code",
   "execution_count": null,
   "metadata": {},
   "outputs": [],
   "source": []
  },
  {
   "cell_type": "code",
   "execution_count": null,
   "metadata": {},
   "outputs": [],
   "source": []
  }
 ],
 "metadata": {
  "kernelspec": {
   "display_name": "Python 2",
   "language": "python",
   "name": "python2"
  },
  "language_info": {
   "codemirror_mode": {
    "name": "ipython",
    "version": 2
   },
   "file_extension": ".py",
   "mimetype": "text/x-python",
   "name": "python",
   "nbconvert_exporter": "python",
   "pygments_lexer": "ipython2",
   "version": "2.7.15"
  },
  "toc": {
   "base_numbering": 1,
   "nav_menu": {},
   "number_sections": true,
   "sideBar": true,
   "skip_h1_title": false,
   "title_cell": "Table of Contents",
   "title_sidebar": "Contents",
   "toc_cell": false,
   "toc_position": {},
   "toc_section_display": true,
   "toc_window_display": false
  }
 },
 "nbformat": 4,
 "nbformat_minor": 2
}
