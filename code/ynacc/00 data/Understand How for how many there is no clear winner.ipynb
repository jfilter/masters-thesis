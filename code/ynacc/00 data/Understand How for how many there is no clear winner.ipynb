{
 "cells": [
  {
   "cell_type": "code",
   "execution_count": 1,
   "metadata": {
    "ExecuteTime": {
     "end_time": "2019-02-19T19:48:28.930498Z",
     "start_time": "2019-02-19T19:48:27.705922Z"
    }
   },
   "outputs": [],
   "source": [
    "%load_ext autoreload\n",
    "%autoreload 2\n",
    "%reload_ext autoreload\n",
    "\n",
    "from pathlib import Path\n",
    "import math\n",
    "import pandas as pd\n",
    "import altair as alt\n",
    "# alt.renderers.enable('notebook')\n",
    "from collections import Counter\n",
    "import numpy as np\n",
    "import csv\n",
    "import random\n",
    "\n",
    "random.seed(1337)\n",
    "\n",
    "from news_utils import plot"
   ]
  },
  {
   "cell_type": "code",
   "execution_count": 2,
   "metadata": {
    "ExecuteTime": {
     "end_time": "2019-02-19T19:48:28.960965Z",
     "start_time": "2019-02-19T19:48:28.933778Z"
    }
   },
   "outputs": [],
   "source": [
    "BASE_PATH = Path('/mnt/data/datasets/ydata-ynacc-v1_0')\n",
    "PATH = BASE_PATH/'ydata-ynacc-v1_0_expert_annotations.tsv'\n",
    "PATH_TRAIN = BASE_PATH/'ydata-ynacc-v1_0_train-ids.txt'\n",
    "PATH_VAL = BASE_PATH/'ydata-ynacc-v1_0_dev-ids.txt'\n",
    "PATH_TEST = BASE_PATH/'ydata-ynacc-v1_0_test-ids.txt'\n",
    "PATH_ARTICLES = Path('/mnt/data/group07/johannes/ynacc_proc/articles/articles_fixed_4.csv')"
   ]
  },
  {
   "cell_type": "code",
   "execution_count": 3,
   "metadata": {
    "ExecuteTime": {
     "end_time": "2019-02-19T19:48:29.273961Z",
     "start_time": "2019-02-19T19:48:28.963233Z"
    }
   },
   "outputs": [],
   "source": [
    "df = pd.read_table(PATH)"
   ]
  },
  {
   "cell_type": "code",
   "execution_count": 4,
   "metadata": {
    "ExecuteTime": {
     "end_time": "2019-02-19T19:48:29.308838Z",
     "start_time": "2019-02-19T19:48:29.277088Z"
    }
   },
   "outputs": [],
   "source": [
    "def maj(arr):\n",
    "    c = Counter(arr)\n",
    "    most = c.most_common(2)\n",
    "    if len(most) > 1 and most[0][1] == most[1][1]:\n",
    "        return -1\n",
    "    return most[0][0]\n",
    "\n",
    "def clear_winner(arr):\n",
    "    c = Counter(arr)\n",
    "    most = c.most_common(2)\n",
    "    if len(most) > 1:\n",
    "        return -1\n",
    "    return most[0][0]\n",
    "\n",
    "# NB: random seed of 1337\n",
    "def maj_and_random(arr):\n",
    "    c = Counter(arr)\n",
    "    most = c.most_common(2)\n",
    "    # no clear decision, we have to choose randomly\n",
    "    if len(most) > 1:\n",
    "        all_items =  list(c.items())\n",
    "        best = [it for it in all_items if it[1] == most[0][1]]\n",
    "        return random.sample(best, 1)[0][0]\n",
    "    return most[0][0]"
   ]
  },
  {
   "cell_type": "code",
   "execution_count": 5,
   "metadata": {
    "ExecuteTime": {
     "end_time": "2019-02-19T19:48:40.151660Z",
     "start_time": "2019-02-19T19:48:29.312186Z"
    }
   },
   "outputs": [
    {
     "name": "stdout",
     "output_type": "stream",
     "text": [
      "(23383, 29)\n"
     ]
    }
   ],
   "source": [
    "df_a = df\n",
    "decision_fun = maj\n",
    "\n",
    "col_dict = {\n",
    "    'topic': ['off-topic', 'on-topic'],\n",
    "    'audience': ['broadcast', 'reply'],\n",
    "    'persuasive': ['not persuasive', 'persuasive'],\n",
    "    'sentiment': ['negative', 'neutral', 'mixed', 'positive'],\n",
    "    'agreement': ['no agreement', 'agreement'],\n",
    "    'disagreement': ['no disagreement', 'disagreement'],\n",
    "    'informative': ['not informative', 'informative'],\n",
    "    'mean': ['not mean', 'mean'],\n",
    "    'controversial': ['not controversial', 'controversial'],\n",
    "}\n",
    "\n",
    "def get_index(key, attr):\n",
    "#     print(attr)\n",
    "    return col_dict[key].index(attr)\n",
    "\n",
    "def set_audience(x):\n",
    "    val = x['intendedaudience']\n",
    "    if not pd.isnull(val):\n",
    "        if val == \"Broadcast message / general audience\":\n",
    "            return get_index(\"audience\", \"broadcast\")\n",
    "        if val == \"Reply to a specific commenter\":\n",
    "            return get_index(\"audience\", \"reply\")\n",
    "    return np.NaN\n",
    "\n",
    "df_a['claudience'] = df_a.apply(set_audience, axis=1)\n",
    "df_a['clpersuasive'] = df_a.apply(lambda x: get_index('persuasive', 'persuasive') if isinstance(x['persuasiveness'], str) and x['persuasiveness'] == 'Persuasive' else get_index('persuasive', 'not persuasive'), axis=1)\n",
    "df_a['clsentiment'] = df_a.apply(lambda x: get_index('sentiment', x['sentiment']) if isinstance(x['sentiment'], str) else np.NaN, axis=1)\n",
    "df_a['clagreement'] = df_a.apply(lambda x: get_index('agreement', 'agreement') if x['commentagreement'] == \"Agreement with commenter\" else get_index('agreement', 'no agreement'), axis=1)\n",
    "df_a['cldisagreement'] = df_a.apply(lambda x: get_index('disagreement', 'disagreement') if x['commentagreement'] == \"Disagreement with commenter\" else get_index('disagreement', 'no disagreement'), axis=1)\n",
    "df_a['clinformative'] = df_a.apply(lambda x: get_index('informative', 'informative') if not pd.isnull(x['tone']) and \"Informative\" in x['tone'] else get_index('informative', 'not informative'), axis=1)\n",
    "df_a['clmean'] = df_a.apply(lambda x: get_index('mean', 'mean') if not pd.isnull(x['tone']) and \"Mean\" in x['tone'] else get_index('mean', 'not mean'), axis=1)\n",
    "df_a['clcontroversial'] = df_a.apply(lambda x: get_index('controversial', 'controversial') if not pd.isnull(x['tone']) and \"Controversial\" in x['tone'] else get_index('controversial', 'not controversial'), axis=1)\n",
    "df_a['cltopic'] = df_a.apply(lambda x: get_index('topic','off-topic') if isinstance(x['topic'], str) and 'Off-topic with article' in x['topic'] else \n",
    "                           get_index('topic','on-topic'), axis=1)\n",
    "\n",
    "print(df_a.shape)\n",
    "# df_a = df_a.dropna(subset=[col_name])\n",
    "\n",
    "for x in col_dict.keys():\n",
    "    col_name = 'cl' + x\n",
    "    res_group = df_a.groupby('commentid').agg({col_name: decision_fun}).reset_index()\n",
    "    df_a = res_group.merge(df_a, on='commentid', how='left', suffixes=('', '_old_' + x)).reset_index()\n",
    "    if 'level_0' in df_a.columns.tolist():\n",
    "        df_a = df_a.drop(['level_0'], axis=1)\n",
    "\n",
    "# remove columns added through merges\n",
    "for x in df_a.columns.tolist():\n",
    "    if '_old_' in x:\n",
    "        df_a = df_a.drop([x], axis=1)\n",
    "\n",
    "subset = ['commentid'] + ['cl' + x for x in col_dict.keys()]\n",
    "df_a = df_a.drop_duplicates(subset=subset) # make sure it's really the same\n",
    "df_a = df_a.reset_index(drop=True).reset_index(drop=True).reset_index(drop=True)\n",
    "df_a['url'] = df_a.apply(lambda x: x['url'] if x['url'] != 'noURL' else np.NaN, axis=1)\n",
    "\n",
    "# ensure we didn't destroy anthing\n",
    "assert df_a.shape[0] == len(df.commentid.unique())"
   ]
  },
  {
   "cell_type": "code",
   "execution_count": 6,
   "metadata": {
    "ExecuteTime": {
     "end_time": "2019-02-19T19:48:40.181380Z",
     "start_time": "2019-02-19T19:48:40.154003Z"
    }
   },
   "outputs": [],
   "source": [
    "rows = []\n",
    "all_cols =  ['clpersuasive', 'claudience', 'clagreement', 'clinformative', 'clmean', 'clcontroversial', 'cldisagreement', 'cltopic']\n",
    "col = 'cltopic'"
   ]
  },
  {
   "cell_type": "code",
   "execution_count": 7,
   "metadata": {
    "ExecuteTime": {
     "end_time": "2019-02-19T19:48:40.234789Z",
     "start_time": "2019-02-19T19:48:40.183735Z"
    }
   },
   "outputs": [],
   "source": [
    "for col in all_cols:\n",
    "    topic_v = df_a[col].value_counts().reset_index()\n",
    "    for _, x in topic_v.iterrows():\n",
    "        r = {}\n",
    "        r[\"col\"] = col[2:].title() if 'topic' not in col else 'Off-topic'\n",
    "        r[\"count\"] = int(x[col])\n",
    "        r['value'] = int(x['index'])\n",
    "        rows.append(r)"
   ]
  },
  {
   "cell_type": "code",
   "execution_count": 8,
   "metadata": {
    "ExecuteTime": {
     "end_time": "2019-02-19T19:48:40.277386Z",
     "start_time": "2019-02-19T19:48:40.236824Z"
    }
   },
   "outputs": [
    {
     "data": {
      "text/plain": [
       "[{'col': 'Persuasive', 'count': 7231, 'value': 0},\n",
       " {'col': 'Persuasive', 'count': 1315, 'value': 1},\n",
       " {'col': 'Persuasive', 'count': 614, 'value': -1},\n",
       " {'col': 'Audience', 'count': 6186, 'value': 1},\n",
       " {'col': 'Audience', 'count': 2434, 'value': 0},\n",
       " {'col': 'Audience', 'count': 537, 'value': -1},\n",
       " {'col': 'Agreement', 'count': 8111, 'value': 0},\n",
       " {'col': 'Agreement', 'count': 795, 'value': 1},\n",
       " {'col': 'Agreement', 'count': 254, 'value': -1},\n",
       " {'col': 'Informative', 'count': 7373, 'value': 0},\n",
       " {'col': 'Informative', 'count': 1242, 'value': 1},\n",
       " {'col': 'Informative', 'count': 545, 'value': -1},\n",
       " {'col': 'Mean', 'count': 6861, 'value': 0},\n",
       " {'col': 'Mean', 'count': 1647, 'value': 1},\n",
       " {'col': 'Mean', 'count': 652, 'value': -1},\n",
       " {'col': 'Controversial', 'count': 5137, 'value': 0},\n",
       " {'col': 'Controversial', 'count': 2971, 'value': 1},\n",
       " {'col': 'Controversial', 'count': 1052, 'value': -1},\n",
       " {'col': 'Disagreement', 'count': 4695, 'value': 0},\n",
       " {'col': 'Disagreement', 'count': 3730, 'value': 1},\n",
       " {'col': 'Disagreement', 'count': 735, 'value': -1},\n",
       " {'col': 'Off-topic', 'count': 5683, 'value': 1},\n",
       " {'col': 'Off-topic', 'count': 2356, 'value': 0},\n",
       " {'col': 'Off-topic', 'count': 1121, 'value': -1}]"
      ]
     },
     "execution_count": 8,
     "metadata": {},
     "output_type": "execute_result"
    }
   ],
   "source": [
    "rows"
   ]
  },
  {
   "cell_type": "code",
   "execution_count": 9,
   "metadata": {
    "ExecuteTime": {
     "end_time": "2019-02-19T19:48:40.318945Z",
     "start_time": "2019-02-19T19:48:40.281336Z"
    }
   },
   "outputs": [],
   "source": [
    "pd.DataFrame(rows).to_csv('class_dist_no_maj.csv', index=None)"
   ]
  },
  {
   "cell_type": "code",
   "execution_count": 11,
   "metadata": {
    "ExecuteTime": {
     "end_time": "2019-02-19T22:12:36.092406Z",
     "start_time": "2019-02-19T22:12:36.035836Z"
    }
   },
   "outputs": [
    {
     "data": {
      "text/html": [
       "<div>\n",
       "<style scoped>\n",
       "    .dataframe tbody tr th:only-of-type {\n",
       "        vertical-align: middle;\n",
       "    }\n",
       "\n",
       "    .dataframe tbody tr th {\n",
       "        vertical-align: top;\n",
       "    }\n",
       "\n",
       "    .dataframe thead th {\n",
       "        text-align: right;\n",
       "    }\n",
       "</style>\n",
       "<table border=\"1\" class=\"dataframe\">\n",
       "  <thead>\n",
       "    <tr style=\"text-align: right;\">\n",
       "      <th></th>\n",
       "      <th>index</th>\n",
       "      <th>clsentiment</th>\n",
       "    </tr>\n",
       "  </thead>\n",
       "  <tbody>\n",
       "    <tr>\n",
       "      <th>0</th>\n",
       "      <td>0.0</td>\n",
       "      <td>4366</td>\n",
       "    </tr>\n",
       "    <tr>\n",
       "      <th>1</th>\n",
       "      <td>-1.0</td>\n",
       "      <td>1969</td>\n",
       "    </tr>\n",
       "    <tr>\n",
       "      <th>2</th>\n",
       "      <td>1.0</td>\n",
       "      <td>1764</td>\n",
       "    </tr>\n",
       "    <tr>\n",
       "      <th>3</th>\n",
       "      <td>2.0</td>\n",
       "      <td>665</td>\n",
       "    </tr>\n",
       "    <tr>\n",
       "      <th>4</th>\n",
       "      <td>3.0</td>\n",
       "      <td>395</td>\n",
       "    </tr>\n",
       "  </tbody>\n",
       "</table>\n",
       "</div>"
      ],
      "text/plain": [
       "   index  clsentiment\n",
       "0    0.0         4366\n",
       "1   -1.0         1969\n",
       "2    1.0         1764\n",
       "3    2.0          665\n",
       "4    3.0          395"
      ]
     },
     "execution_count": 11,
     "metadata": {},
     "output_type": "execute_result"
    }
   ],
   "source": [
    "df_a['clsentiment'].value_counts().reset_index()"
   ]
  },
  {
   "cell_type": "code",
   "execution_count": null,
   "metadata": {},
   "outputs": [],
   "source": []
  }
 ],
 "metadata": {
  "kernelspec": {
   "display_name": "Python 3",
   "language": "python",
   "name": "python3"
  },
  "language_info": {
   "codemirror_mode": {
    "name": "ipython",
    "version": 3
   },
   "file_extension": ".py",
   "mimetype": "text/x-python",
   "name": "python",
   "nbconvert_exporter": "python",
   "pygments_lexer": "ipython3",
   "version": "3.7.1"
  },
  "toc": {
   "base_numbering": 1,
   "nav_menu": {},
   "number_sections": true,
   "sideBar": true,
   "skip_h1_title": false,
   "title_cell": "Table of Contents",
   "title_sidebar": "Contents",
   "toc_cell": false,
   "toc_position": {},
   "toc_section_display": true,
   "toc_window_display": false
  }
 },
 "nbformat": 4,
 "nbformat_minor": 2
}
