{
 "cells": [
  {
   "cell_type": "code",
   "execution_count": 6,
   "metadata": {
    "ExecuteTime": {
     "end_time": "2018-11-22T20:13:37.386470Z",
     "start_time": "2018-11-22T20:13:37.377124Z"
    }
   },
   "outputs": [],
   "source": [
    "from fastai.text import *\n",
    "from fastai.datasets import *\n",
    "from pathlib import Path\n",
    "import pandas as pd\n",
    "from fastai.metrics import *\n",
    "from fastai.train import *\n",
    "from fastai.vision import *\n",
    "from fastai.imports import nn, torch\n",
    "from sklearn import metrics\n",
    "from fastai.callbacks import *\n",
    "\n",
    "import sklearn.metrics\n",
    "import datetime\n",
    "torch.cuda.set_device(2)\n",
    "\n",
    "import fastai"
   ]
  },
  {
   "cell_type": "code",
   "execution_count": 7,
   "metadata": {
    "ExecuteTime": {
     "end_time": "2018-11-22T20:13:37.744138Z",
     "start_time": "2018-11-22T20:13:37.738206Z"
    }
   },
   "outputs": [
    {
     "data": {
      "text/plain": [
       "'1.0.29.dev0'"
      ]
     },
     "execution_count": 7,
     "metadata": {},
     "output_type": "execute_result"
    }
   ],
   "source": [
    "fastai.__version__"
   ]
  },
  {
   "cell_type": "code",
   "execution_count": 8,
   "metadata": {
    "ExecuteTime": {
     "end_time": "2018-11-22T20:13:38.712746Z",
     "start_time": "2018-11-22T20:13:38.708447Z"
    }
   },
   "outputs": [],
   "source": [
    "EX_PA = Path('/mnt/data/group07/johannes/ynacc_proc/replicate/20k_ner')\n",
    "LM_DATA_PATH = Path('/mnt/data/group07/johannes/ynacc_proc/replicate/lmdata/')"
   ]
  },
  {
   "cell_type": "code",
   "execution_count": 9,
   "metadata": {
    "ExecuteTime": {
     "end_time": "2018-11-22T20:14:14.042360Z",
     "start_time": "2018-11-22T20:13:43.481466Z"
    }
   },
   "outputs": [],
   "source": [
    "# Language model data\n",
    "data_clas_train = pd.read_csv(LM_DATA_PATH/'train_proc.csv')\n",
    "data_clas_val = pd.read_csv(LM_DATA_PATH/'val_proc.csv')\n",
    "\n",
    "data_clas_train = data_clas_train[['class', 'text_proc']]\n",
    "data_clas_val = data_clas_val[['class', 'text_proc']]\n",
    "\n",
    "data_lm = TextLMDataBunch.from_df(EX_PA, data_clas_train, data_clas_val, backwards=False, max_vocab=20000)"
   ]
  },
  {
   "cell_type": "code",
   "execution_count": 10,
   "metadata": {
    "ExecuteTime": {
     "end_time": "2018-11-22T20:14:14.047076Z",
     "start_time": "2018-11-22T20:14:14.044336Z"
    }
   },
   "outputs": [
    {
     "name": "stdout",
     "output_type": "stream",
     "text": [
      "20002\n"
     ]
    }
   ],
   "source": [
    "print(len(data_lm.train_ds.vocab.itos))"
   ]
  },
  {
   "cell_type": "code",
   "execution_count": 11,
   "metadata": {
    "ExecuteTime": {
     "end_time": "2018-11-22T20:17:40.481503Z",
     "start_time": "2018-11-22T20:17:39.164040Z"
    }
   },
   "outputs": [],
   "source": [
    "data_lm.save()"
   ]
  },
  {
   "cell_type": "code",
   "execution_count": 12,
   "metadata": {
    "ExecuteTime": {
     "end_time": "2018-11-22T20:17:40.643858Z",
     "start_time": "2018-11-22T20:17:40.483157Z"
    }
   },
   "outputs": [
    {
     "name": "stdout",
     "output_type": "stream",
     "text": [
      "tmp\r\n"
     ]
    }
   ],
   "source": [
    "!ls {EX_PA}"
   ]
  },
  {
   "cell_type": "code",
   "execution_count": 4,
   "metadata": {
    "ExecuteTime": {
     "end_time": "2018-11-10T15:01:51.590160Z",
     "start_time": "2018-11-10T15:01:50.135183Z"
    }
   },
   "outputs": [],
   "source": [
    "# data_lm = TextLMDataBunch.load(EX_PA)"
   ]
  },
  {
   "cell_type": "code",
   "execution_count": 68,
   "metadata": {
    "ExecuteTime": {
     "end_time": "2018-11-10T18:21:51.970915Z",
     "start_time": "2018-11-10T18:21:51.967130Z"
    }
   },
   "outputs": [],
   "source": [
    "data_lm.valid_dl"
   ]
  },
  {
   "cell_type": "code",
   "execution_count": 13,
   "metadata": {},
   "outputs": [],
   "source": [
    "download_wt103_model()"
   ]
  },
  {
   "cell_type": "code",
   "execution_count": 73,
   "metadata": {
    "ExecuteTime": {
     "end_time": "2018-11-10T18:22:47.933491Z",
     "start_time": "2018-11-10T18:22:47.927735Z"
    }
   },
   "outputs": [
    {
     "data": {
      "text/plain": [
       "DeviceDataLoader(dl=<fastai.text.data.LanguageModelLoader object at 0x7f47a7f43518>, device=device(type='cuda'), tfms=[], collate_fn=<function data_collate at 0x7f47d17d49d8>, skip_size1=False)"
      ]
     },
     "execution_count": 73,
     "metadata": {},
     "output_type": "execute_result"
    }
   ],
   "source": [
    "data_lm.valid_dl"
   ]
  },
  {
   "cell_type": "code",
   "execution_count": 18,
   "metadata": {
    "ExecuteTime": {
     "end_time": "2018-11-22T20:20:01.929662Z",
     "start_time": "2018-11-22T20:20:01.261794Z"
    }
   },
   "outputs": [],
   "source": [
    "learn = language_model_learner(data_lm, pretrained_fnames=['lstm_wt103', 'itos_wt103'], drop_mult=0.1)"
   ]
  },
  {
   "cell_type": "code",
   "execution_count": 38,
   "metadata": {
    "ExecuteTime": {
     "end_time": "2018-11-10T15:10:04.907916Z",
     "start_time": "2018-11-10T15:10:04.905811Z"
    }
   },
   "outputs": [],
   "source": [
    "exp_id = datetime.datetime.now().strftime(\"%Y_%_m_%d_%H_%M_%S_%f\")"
   ]
  },
  {
   "cell_type": "code",
   "execution_count": 39,
   "metadata": {
    "ExecuteTime": {
     "end_time": "2018-11-10T15:10:04.924898Z",
     "start_time": "2018-11-10T15:10:04.909209Z"
    }
   },
   "outputs": [
    {
     "data": {
      "text/plain": [
       "'2018_11_10_16_10_04_906710'"
      ]
     },
     "execution_count": 39,
     "metadata": {},
     "output_type": "execute_result"
    }
   ],
   "source": [
    "exp_id"
   ]
  },
  {
   "cell_type": "code",
   "execution_count": 40,
   "metadata": {
    "ExecuteTime": {
     "end_time": "2018-11-10T15:10:04.938764Z",
     "start_time": "2018-11-10T15:10:04.926022Z"
    }
   },
   "outputs": [],
   "source": [
    "Path(EX_PA/'models'/exp_id).mkdir(parents=True, exist_ok=True)"
   ]
  },
  {
   "cell_type": "code",
   "execution_count": 24,
   "metadata": {
    "ExecuteTime": {
     "end_time": "2018-11-10T15:00:38.363869Z",
     "start_time": "2018-11-10T15:00:38.360465Z"
    }
   },
   "outputs": [],
   "source": [
    "# ! ls {EX_PA/'models'}"
   ]
  },
  {
   "cell_type": "code",
   "execution_count": 75,
   "metadata": {
    "ExecuteTime": {
     "end_time": "2018-11-10T18:23:14.479830Z",
     "start_time": "2018-11-10T18:23:14.474469Z"
    }
   },
   "outputs": [],
   "source": [
    "learn.callbacks += [\n",
    "    SaveModelCallback(learn, name=exp_id),\n",
    "    CSVLogger(learn, 'history/' + exp_id ),\n",
    "    EarlyStoppingCallback(learn, patience=5)\n",
    "    ]"
   ]
  },
  {
   "cell_type": "code",
   "execution_count": 11,
   "metadata": {
    "ExecuteTime": {
     "end_time": "2018-11-10T14:32:10.528079Z",
     "start_time": "2018-11-10T14:32:10.324673Z"
    }
   },
   "outputs": [
    {
     "name": "stdout",
     "output_type": "stream",
     "text": [
      "2018_11_10_14_12_50  2018_11_10_15_20_41_558367  history  models  tmp\r\n"
     ]
    }
   ],
   "source": [
    "!ls /mnt/data/group07/johannes/ynacc_proc/replicate/lmmodels"
   ]
  },
  {
   "cell_type": "code",
   "execution_count": 45,
   "metadata": {
    "ExecuteTime": {
     "end_time": "2018-11-10T15:10:55.029486Z",
     "start_time": "2018-11-10T15:10:55.025506Z"
    }
   },
   "outputs": [],
   "source": [
    "data_lm.valid_dl"
   ]
  },
  {
   "cell_type": "code",
   "execution_count": 21,
   "metadata": {
    "ExecuteTime": {
     "end_time": "2018-11-22T20:20:24.254875Z",
     "start_time": "2018-11-22T20:20:13.174534Z"
    }
   },
   "outputs": [
    {
     "name": "stdout",
     "output_type": "stream",
     "text": [
      "LR Finder is complete, type {learner_name}.recorder.plot() to see the graph.\n"
     ]
    }
   ],
   "source": [
    "learn.lr_find()"
   ]
  },
  {
   "cell_type": "code",
   "execution_count": 22,
   "metadata": {
    "ExecuteTime": {
     "end_time": "2018-11-22T20:20:24.602731Z",
     "start_time": "2018-11-22T20:20:24.256454Z"
    },
    "scrolled": true
   },
   "outputs": [
    {
     "data": {
      "image/png": "[encoded data removed]",
      "text/plain": [
       "<Figure size 432x288 with 1 Axes>"
      ]
     },
     "metadata": {
      "needs_background": "light"
     },
     "output_type": "display_data"
    }
   ],
   "source": [
    "learn.recorder.plot()"
   ]
  },
  {
   "cell_type": "code",
   "execution_count": 23,
   "metadata": {
    "ExecuteTime": {
     "end_time": "2018-11-22T20:26:18.875091Z",
     "start_time": "2018-11-22T20:21:06.201237Z"
    }
   },
   "outputs": [
    {
     "name": "stdout",
     "output_type": "stream",
     "text": [
      "Total time: 05:12\n",
      "epoch  train_loss  valid_loss  accuracy\n",
      "1      4.280711    4.233982    0.260215  (05:12)\n",
      "\n"
     ]
    }
   ],
   "source": [
    "learn.fit_one_cycle(1, 5e-2)"
   ]
  },
  {
   "cell_type": "code",
   "execution_count": null,
   "metadata": {},
   "outputs": [],
   "source": []
  }
 ],
 "metadata": {
  "kernelspec": {
   "display_name": "Python 3",
   "language": "python",
   "name": "python3"
  },
  "language_info": {
   "codemirror_mode": {
    "name": "ipython",
    "version": 3
   },
   "file_extension": ".py",
   "mimetype": "text/x-python",
   "name": "python",
   "nbconvert_exporter": "python",
   "pygments_lexer": "ipython3",
   "version": "3.6.5"
  },
  "toc": {
   "base_numbering": 1,
   "nav_menu": {},
   "number_sections": true,
   "sideBar": true,
   "skip_h1_title": false,
   "title_cell": "Table of Contents",
   "title_sidebar": "Contents",
   "toc_cell": false,
   "toc_position": {},
   "toc_section_display": true,
   "toc_window_display": false
  }
 },
 "nbformat": 4,
 "nbformat_minor": 2
}
