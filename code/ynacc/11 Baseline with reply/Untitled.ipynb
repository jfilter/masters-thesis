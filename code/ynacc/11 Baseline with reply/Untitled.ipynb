{
 "cells": [
  {
   "cell_type": "code",
   "execution_count": 1,
   "metadata": {
    "ExecuteTime": {
     "end_time": "2019-01-14T23:16:03.042297Z",
     "start_time": "2019-01-14T23:15:59.289904Z"
    }
   },
   "outputs": [],
   "source": [
    "\n",
    "import argparse\n",
    "import datetime\n",
    "from pathlib import Path\n",
    "\n",
    "import fastai\n",
    "import pandas as pd\n",
    "import pymongo\n",
    "import sacred\n",
    "import sklearn.metrics\n",
    "from fastai.basic_train import get_preds\n",
    "from fastai.callbacks import *\n",
    "from fastai.datasets import *\n",
    "from fastai.imports import nn, torch\n",
    "from fastai.metrics import *\n",
    "from fastai.text import *\n",
    "from fastai.text.data import DataBunch\n",
    "from fastai.train import *\n",
    "from fastai.vision import *\n",
    "from sacred import Experiment\n",
    "from sacred.observers import MongoObserver\n",
    "from sklearn import metrics\n",
    "\n",
    "import news_utils.fastai"
   ]
  },
  {
   "cell_type": "code",
   "execution_count": 19,
   "metadata": {
    "ExecuteTime": {
     "end_time": "2019-01-14T23:27:23.923295Z",
     "start_time": "2019-01-14T23:27:23.919477Z"
    }
   },
   "outputs": [],
   "source": [
    "EX_PA = Path('/mnt/data/group07/johannes/ynacc_proc/proper_baseline/exp/dat_false_par_false_hea_false30000')\n"
   ]
  },
  {
   "cell_type": "code",
   "execution_count": 20,
   "metadata": {
    "ExecuteTime": {
     "end_time": "2019-01-14T23:27:26.034648Z",
     "start_time": "2019-01-14T23:27:24.451376Z"
    }
   },
   "outputs": [],
   "source": [
    "data_lm = TextLMDataBunch.load(EX_PA)"
   ]
  },
  {
   "cell_type": "code",
   "execution_count": 22,
   "metadata": {
    "ExecuteTime": {
     "end_time": "2019-01-14T23:27:37.491297Z",
     "start_time": "2019-01-14T23:27:32.555450Z"
    }
   },
   "outputs": [],
   "source": [
    "learn_lm = language_model_learner(data_lm, pretrained_model=URLs.WT103)"
   ]
  },
  {
   "cell_type": "code",
   "execution_count": 23,
   "metadata": {
    "ExecuteTime": {
     "end_time": "2019-01-14T23:28:00.119437Z",
     "start_time": "2019-01-14T23:27:59.962295Z"
    }
   },
   "outputs": [],
   "source": [
    "learn_lm.save_encoder('no_ft')"
   ]
  },
  {
   "cell_type": "code",
   "execution_count": null,
   "metadata": {},
   "outputs": [],
   "source": []
  }
 ],
 "metadata": {
  "kernelspec": {
   "display_name": "Python 3",
   "language": "python",
   "name": "python3"
  },
  "language_info": {
   "codemirror_mode": {
    "name": "ipython",
    "version": 3
   },
   "file_extension": ".py",
   "mimetype": "text/x-python",
   "name": "python",
   "nbconvert_exporter": "python",
   "pygments_lexer": "ipython3",
   "version": "3.6.7"
  },
  "toc": {
   "base_numbering": 1,
   "nav_menu": {},
   "number_sections": true,
   "sideBar": true,
   "skip_h1_title": false,
   "title_cell": "Table of Contents",
   "title_sidebar": "Contents",
   "toc_cell": false,
   "toc_position": {},
   "toc_section_display": true,
   "toc_window_display": false
  }
 },
 "nbformat": 4,
 "nbformat_minor": 2
}
