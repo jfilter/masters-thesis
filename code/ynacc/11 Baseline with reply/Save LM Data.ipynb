{
 "cells": [
  {
   "cell_type": "code",
   "execution_count": 4,
   "metadata": {
    "ExecuteTime": {
     "end_time": "2019-02-21T20:05:02.412814Z",
     "start_time": "2019-02-21T20:05:02.395066Z"
    }
   },
   "outputs": [],
   "source": [
    "from fastai.text import *\n",
    "from fastai.datasets import *\n",
    "from pathlib import Path\n",
    "import pandas as pd\n",
    "from fastai.metrics import *\n",
    "from fastai.train import *\n",
    "from fastai.vision import *\n",
    "from fastai.imports import nn, torch\n",
    "from sklearn import metrics\n",
    "from fastai.callbacks import *\n",
    "\n",
    "import sklearn.metrics\n",
    "import datetime\n",
    "torch.cuda.set_device(2)\n",
    "\n",
    "import fastai"
   ]
  },
  {
   "cell_type": "code",
   "execution_count": 5,
   "metadata": {
    "ExecuteTime": {
     "end_time": "2019-02-21T20:05:02.810107Z",
     "start_time": "2019-02-21T20:05:02.796064Z"
    }
   },
   "outputs": [
    {
     "data": {
      "text/plain": [
       "'dat_false_par_true_hea_false30000'"
      ]
     },
     "execution_count": 5,
     "metadata": {},
     "output_type": "execute_result"
    }
   ],
   "source": [
    "IN_PATH = Path('~/data/ynacc_proc/proper_baseline/lm/dat_false_par_true_hea_false')\n",
    "\n",
    "max_vocab = 30000\n",
    "exp_folder = IN_PATH.parts[-1] + str(max_vocab)\n",
    "\n",
    "EX_PA = Path('/mnt/data/group07/johannes/ynacc_proc/proper_baseline/exp/' + exp_folder)\n",
    "exp_folder"
   ]
  },
  {
   "cell_type": "code",
   "execution_count": 6,
   "metadata": {
    "ExecuteTime": {
     "end_time": "2019-02-21T20:05:06.045057Z",
     "start_time": "2019-02-21T20:05:03.807357Z"
    }
   },
   "outputs": [],
   "source": [
    "data_train = pd.read_csv(IN_PATH/'train.csv')\n",
    "data_val = pd.read_csv(IN_PATH/'val.csv')\n",
    "data_train = data_train[['text_proc']]\n",
    "data_val = data_val[['text_proc']]"
   ]
  },
  {
   "cell_type": "code",
   "execution_count": 7,
   "metadata": {
    "ExecuteTime": {
     "end_time": "2019-02-21T20:05:07.152051Z",
     "start_time": "2019-02-21T20:05:07.141962Z"
    }
   },
   "outputs": [
    {
     "data": {
      "text/plain": [
       "(200000, 1)"
      ]
     },
     "execution_count": 7,
     "metadata": {},
     "output_type": "execute_result"
    }
   ],
   "source": [
    "data_train.shape"
   ]
  },
  {
   "cell_type": "code",
   "execution_count": 8,
   "metadata": {
    "ExecuteTime": {
     "end_time": "2019-02-21T20:05:07.687761Z",
     "start_time": "2019-02-21T20:05:07.677986Z"
    }
   },
   "outputs": [
    {
     "data": {
      "text/plain": [
       "(38512, 1)"
      ]
     },
     "execution_count": 8,
     "metadata": {},
     "output_type": "execute_result"
    }
   ],
   "source": [
    "data_val.shape"
   ]
  },
  {
   "cell_type": "code",
   "execution_count": 9,
   "metadata": {
    "ExecuteTime": {
     "end_time": "2019-02-21T20:05:08.893096Z",
     "start_time": "2019-02-21T20:05:08.836722Z"
    }
   },
   "outputs": [],
   "source": [
    "data_train = data_train.dropna()"
   ]
  },
  {
   "cell_type": "code",
   "execution_count": 10,
   "metadata": {
    "ExecuteTime": {
     "end_time": "2019-02-21T20:05:09.395089Z",
     "start_time": "2019-02-21T20:05:09.373865Z"
    }
   },
   "outputs": [],
   "source": [
    "data_val = data_val.dropna()"
   ]
  },
  {
   "cell_type": "code",
   "execution_count": 11,
   "metadata": {
    "ExecuteTime": {
     "end_time": "2019-02-21T20:05:10.367347Z",
     "start_time": "2019-02-21T20:05:10.357348Z"
    }
   },
   "outputs": [
    {
     "data": {
      "text/plain": [
       "(200000, 1)"
      ]
     },
     "execution_count": 11,
     "metadata": {},
     "output_type": "execute_result"
    }
   ],
   "source": [
    "data_train.shape"
   ]
  },
  {
   "cell_type": "code",
   "execution_count": 12,
   "metadata": {
    "ExecuteTime": {
     "end_time": "2019-02-21T20:05:10.948503Z",
     "start_time": "2019-02-21T20:05:10.938783Z"
    }
   },
   "outputs": [
    {
     "data": {
      "text/plain": [
       "(38512, 1)"
      ]
     },
     "execution_count": 12,
     "metadata": {},
     "output_type": "execute_result"
    }
   ],
   "source": [
    "data_val.shape"
   ]
  },
  {
   "cell_type": "code",
   "execution_count": 13,
   "metadata": {
    "ExecuteTime": {
     "end_time": "2019-02-21T20:06:16.207259Z",
     "start_time": "2019-02-21T20:05:16.518795Z"
    }
   },
   "outputs": [],
   "source": [
    "data_lm = TextLMDataBunch.from_df(EX_PA, data_train, data_val, backwards=False, max_vocab=max_vocab, text_cols=0)"
   ]
  },
  {
   "cell_type": "code",
   "execution_count": 14,
   "metadata": {
    "ExecuteTime": {
     "end_time": "2019-02-21T20:06:19.204773Z",
     "start_time": "2019-02-21T20:06:16.210540Z"
    }
   },
   "outputs": [],
   "source": [
    "data_lm.save()"
   ]
  },
  {
   "cell_type": "code",
   "execution_count": null,
   "metadata": {},
   "outputs": [],
   "source": []
  }
 ],
 "metadata": {
  "kernelspec": {
   "display_name": "Python 3",
   "language": "python",
   "name": "python3"
  },
  "language_info": {
   "codemirror_mode": {
    "name": "ipython",
    "version": 3
   },
   "file_extension": ".py",
   "mimetype": "text/x-python",
   "name": "python",
   "nbconvert_exporter": "python",
   "pygments_lexer": "ipython3",
   "version": "3.7.1"
  },
  "toc": {
   "base_numbering": 1,
   "nav_menu": {},
   "number_sections": true,
   "sideBar": true,
   "skip_h1_title": false,
   "title_cell": "Table of Contents",
   "title_sidebar": "Contents",
   "toc_cell": false,
   "toc_position": {},
   "toc_section_display": true,
   "toc_window_display": false
  }
 },
 "nbformat": 4,
 "nbformat_minor": 2
}
