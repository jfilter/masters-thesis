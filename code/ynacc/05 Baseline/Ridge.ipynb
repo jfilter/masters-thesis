{
 "cells": [
  {
   "cell_type": "code",
   "execution_count": 1,
   "metadata": {
    "ExecuteTime": {
     "end_time": "2019-02-21T19:14:07.114446Z",
     "start_time": "2019-02-21T19:14:05.213211Z"
    }
   },
   "outputs": [],
   "source": [
    "import numpy as np\n",
    "import pandas as pd\n",
    "from sklearn.feature_extraction.text import CountVectorizer\n",
    "from sklearn.linear_model import RidgeCV\n",
    "from sklearn.metrics import classification_report, cohen_kappa_score\n",
    "from sklearn.preprocessing import OneHotEncoder\n",
    "from sklearn.naive_bayes import MultinomialNB\n",
    "\n",
    "from cleantext import clean"
   ]
  },
  {
   "cell_type": "code",
   "execution_count": 2,
   "metadata": {
    "ExecuteTime": {
     "end_time": "2019-02-21T19:14:07.356101Z",
     "start_time": "2019-02-21T19:14:07.117519Z"
    }
   },
   "outputs": [],
   "source": [
    "df_train = pd.read_csv('~/data/ynacc_proc/replicate/split/train.csv')\n",
    "df_val = pd.read_csv('~/data/ynacc_proc/replicate/split/val.csv')\n",
    "df_test = pd.read_csv('~/data/ynacc_proc/replicate/split/test.csv')"
   ]
  },
  {
   "cell_type": "code",
   "execution_count": 3,
   "metadata": {
    "ExecuteTime": {
     "end_time": "2019-02-21T19:14:13.027687Z",
     "start_time": "2019-02-21T19:14:07.359021Z"
    }
   },
   "outputs": [],
   "source": [
    "df_train['text'] = df_train['text'].apply(lambda x: clean(x, lower=True, no_line_breaks=True, zero_digits=True, fix_unicode=True, to_ascii=True))\n",
    "df_val['text'] = df_val['text'].apply(lambda x: clean(x, lower=True, no_line_breaks=True, zero_digits=True, fix_unicode=True, to_ascii=True))\n",
    "df_test['text'] = df_test['text'].apply(lambda x: clean(x, lower=True, no_line_breaks=True, zero_digits=True, fix_unicode=True, to_ascii=True))"
   ]
  },
  {
   "cell_type": "code",
   "execution_count": 44,
   "metadata": {
    "ExecuteTime": {
     "end_time": "2019-02-21T13:16:05.113671Z",
     "start_time": "2019-02-21T13:16:04.779546Z"
    }
   },
   "outputs": [],
   "source": [
    "df_train['text'] = df_train.apply(lambda x: x['text'] + ' .  ' + ('xxtoplevelcomment' if pd.isna(x['parentid']) else 'xxreplycomment'), axis=1)\n",
    "df_val['text'] = df_val.apply(lambda x: x['text'] + ' .  ' + ('xxtoplevelcomment' if pd.isna(x['parentid']) else 'xxreplycomment'), axis=1)\n",
    "df_test['text'] = df_test.apply(lambda x: x['text'] + ' .  ' + ('xxtoplevelcomment' if pd.isna(x['parentid']) else 'xxreplycomment'), axis=1)"
   ]
  },
  {
   "cell_type": "code",
   "execution_count": 4,
   "metadata": {
    "ExecuteTime": {
     "end_time": "2019-02-21T19:14:13.575815Z",
     "start_time": "2019-02-21T19:14:13.030518Z"
    }
   },
   "outputs": [
    {
     "data": {
      "text/plain": [
       "CountVectorizer(analyzer='word', binary=False, decode_error='strict',\n",
       "        dtype=<class 'numpy.int64'>, encoding='utf-8', input='content',\n",
       "        lowercase=True, max_df=1.0, max_features=None, min_df=1,\n",
       "        ngram_range=(1, 1), preprocessor=None, stop_words=None,\n",
       "        strip_accents=None, token_pattern='(?u)\\\\b\\\\w\\\\w+\\\\b',\n",
       "        tokenizer=None, vocabulary=None)"
      ]
     },
     "execution_count": 4,
     "metadata": {},
     "output_type": "execute_result"
    }
   ],
   "source": [
    "text = df_train['text'].values\n",
    "vectorizer = CountVectorizer()\n",
    "vectorizer.fit(text)"
   ]
  },
  {
   "cell_type": "code",
   "execution_count": 5,
   "metadata": {
    "ExecuteTime": {
     "end_time": "2019-02-21T19:14:14.138488Z",
     "start_time": "2019-02-21T19:14:13.577844Z"
    }
   },
   "outputs": [],
   "source": [
    "x_train = vectorizer.transform(text)\n",
    "x_val = vectorizer.transform(df_val['text'].values)\n",
    "x_test = vectorizer.transform(df_test['text'].values)"
   ]
  },
  {
   "cell_type": "code",
   "execution_count": 6,
   "metadata": {
    "ExecuteTime": {
     "end_time": "2019-02-21T19:14:14.147253Z",
     "start_time": "2019-02-21T19:14:14.142215Z"
    }
   },
   "outputs": [],
   "source": [
    "import numpy as np\n",
    "# nb_classes = 6\n",
    "# data = [[2, 3, 4, 0]]\n",
    "\n",
    "def indices_to_one_hot(data, nb_classes):\n",
    "    \"\"\"Convert an iterable of indices to one-hot encoded labels.\"\"\"\n",
    "    targets = np.array(data).reshape(-1)\n",
    "    return np.eye(nb_classes)[targets]"
   ]
  },
  {
   "cell_type": "code",
   "execution_count": 7,
   "metadata": {
    "ExecuteTime": {
     "end_time": "2019-02-21T19:14:14.168470Z",
     "start_time": "2019-02-21T19:14:14.149564Z"
    }
   },
   "outputs": [],
   "source": [
    "def run_cl(col, nb=False):\n",
    "    y_train = df_train[col].values\n",
    "    y_val = df_val[col].values\n",
    "    y_test = df_test[col].values\n",
    "    \n",
    "    y_train = np.nan_to_num(y_train)\n",
    "    y_val = np.nan_to_num(y_val)\n",
    "    y_test = np.nan_to_num(y_test)\n",
    "    \n",
    "    enc = OneHotEncoder(handle_unknown='ignore')\n",
    "    enc.fit(y_train.reshape(-1, 1))\n",
    "    \n",
    "    y_train = enc.transform(y_train.reshape(-1, 1)).toarray()\n",
    "    y_val = enc.transform(y_val.reshape(-1, 1)).toarray()\n",
    "    y_test = enc.transform(y_test.reshape(-1, 1)).toarray()\n",
    "    \n",
    "    if nb:\n",
    "        clf = MultinomialNB()\n",
    "    else:\n",
    "        clf = RidgeCV()\n",
    "        \n",
    "    clf.fit(x_train, y_train)\n",
    "    \n",
    "    y_pred = np.argmax(clf.predict(x_val), axis=1)\n",
    "    y_val = np.argmax(y_val, axis=1)\n",
    "    \n",
    "    dct = classification_report(y_pred=y_pred, y_true=y_val,output_dict=True)\n",
    "    kappa = cohen_kappa_score(y_pred, y_val)\n",
    "\n",
    "    y_pred_test = np.argmax(clf.predict(x_test), axis=1)\n",
    "    y_test = np.argmax(y_test, axis=1)\n",
    "    \n",
    "    dct_test = classification_report(y_pred=y_pred_test, y_true=y_test, output_dict=True)\n",
    "    kappa_test = cohen_kappa_score(y_pred_test, y_test)\n",
    "    \n",
    "    print(' & '.join([col[2:].title(), str(dct['micro avg']['f1-score']), str(dct['macro avg']['f1-score']), str(kappa), str(dct_test['micro avg']['f1-score']), str(dct_test['macro avg']['f1-score']), str(kappa_test)]) + ' \\\\\\\\')"
   ]
  },
  {
   "cell_type": "code",
   "execution_count": 10,
   "metadata": {
    "ExecuteTime": {
     "end_time": "2019-02-21T19:16:06.723372Z",
     "start_time": "2019-02-21T19:16:06.714572Z"
    }
   },
   "outputs": [],
   "source": [
    "cls = ['claudience', 'clpersuasive','clagreement','clinformative','clmean','clcontroversial', 'cldisagreement','cltopic', 'clsentiment']"
   ]
  },
  {
   "cell_type": "code",
   "execution_count": 11,
   "metadata": {
    "ExecuteTime": {
     "end_time": "2019-02-21T19:20:44.568273Z",
     "start_time": "2019-02-21T19:16:06.936003Z"
    }
   },
   "outputs": [
    {
     "name": "stdout",
     "output_type": "stream",
     "text": [
      "Audience & 0.6981132075471698 & 0.5942166540116427 & 0.22810501767847735 & 0.7432188065099458 & 0.6351157949518605 & 0.2822383093853973 \\\\\n",
      "Persuasive & 0.8559176672384219 & 0.6458694897604998 & 0.2983149931224208 & 0.840867992766727 & 0.6487063987063988 & 0.30709648023692904 \\\\\n",
      "Agreement & 0.8799313893653516 & 0.4949757449757449 & 0.035817228181259875 & 0.8372513562386981 & 0.47681019258262547 & 0.010576120233788067 \\\\\n",
      "Informative & 0.8181818181818182 & 0.5284035409035409 & 0.08715176223817556 & 0.8318264014466547 & 0.5106893106893107 & 0.03829683789292593 \\\\\n",
      "Mean & 0.8130360205831904 & 0.6300869089406189 & 0.2801246105919003 & 0.8245931283905967 & 0.6104757132794516 & 0.22190632298118618 \\\\\n",
      "Controversial & 0.6415094339622641 & 0.5740583433834967 & 0.1499738393386585 & 0.5352622061482821 & 0.5248140160823845 & 0.1587835238269989 \\\\\n",
      "Disagreement & 0.6466552315608919 & 0.6393453453453454 & 0.2806349206349207 & 0.5949367088607594 & 0.5919894598155467 & 0.20082580645161285 \\\\\n",
      "Topic & 0.6638078902229846 & 0.5393905191873589 & 0.10545021841581981 & 0.6455696202531646 & 0.5018933823529412 & 0.020000000000000018 \\\\\n",
      "Sentiment & 0.5334476843910806 & 0.29011799354004675 & 0.10260487699977927 & 0.593128390596745 & 0.2995629402668993 & 0.12799254317111441 \\\\\n"
     ]
    }
   ],
   "source": [
    "for cl in cls:\n",
    "    run_cl(cl)"
   ]
  },
  {
   "cell_type": "code",
   "execution_count": null,
   "metadata": {},
   "outputs": [],
   "source": []
  }
 ],
 "metadata": {
  "kernelspec": {
   "display_name": "Python 3",
   "language": "python",
   "name": "python3"
  },
  "language_info": {
   "codemirror_mode": {
    "name": "ipython",
    "version": 3
   },
   "file_extension": ".py",
   "mimetype": "text/x-python",
   "name": "python",
   "nbconvert_exporter": "python",
   "pygments_lexer": "ipython3",
   "version": "3.7.1"
  },
  "toc": {
   "base_numbering": 1,
   "nav_menu": {},
   "number_sections": true,
   "sideBar": true,
   "skip_h1_title": false,
   "title_cell": "Table of Contents",
   "title_sidebar": "Contents",
   "toc_cell": false,
   "toc_position": {},
   "toc_section_display": true,
   "toc_window_display": false
  }
 },
 "nbformat": 4,
 "nbformat_minor": 2
}
