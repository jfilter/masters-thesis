{
 "cells": [
  {
   "cell_type": "code",
   "execution_count": 13,
   "metadata": {
    "ExecuteTime": {
     "end_time": "2018-11-22T16:56:21.110819Z",
     "start_time": "2018-11-22T16:56:20.014755Z"
    }
   },
   "outputs": [
    {
     "name": "stdout",
     "output_type": "stream",
     "text": [
      "could not import flair\n"
     ]
    }
   ],
   "source": [
    "import unicodedata\n",
    "import re\n",
    "from pathlib import Path\n",
    "\n",
    "import unidecode\n",
    "\n",
    "from news_utils.clean import german"
   ]
  },
  {
   "cell_type": "code",
   "execution_count": 2,
   "metadata": {
    "ExecuteTime": {
     "end_time": "2018-11-22T16:47:01.594578Z",
     "start_time": "2018-11-22T16:47:01.591594Z"
    }
   },
   "outputs": [],
   "source": [
    "specials_both = [['ä', 'ae'], ['ü', 'ue'], ['ö', 'oe']]\n",
    "specials_lower = [['ß', 'ss']]\n",
    "escape_sequence = 'xxxxx'\n",
    "\n",
    "strange_quotes = ['«','‹','»','›','„','“','‟','‘','‛', '”', '’', '❛', '❜', '❝', '❞','❮', '❯', '〝','〞', '〟', '＂', '`', '´']"
   ]
  },
  {
   "cell_type": "code",
   "execution_count": 3,
   "metadata": {
    "ExecuteTime": {
     "end_time": "2018-11-22T16:47:01.731131Z",
     "start_time": "2018-11-22T16:47:01.728378Z"
    }
   },
   "outputs": [],
   "source": [
    "# only use \" for quotes\n",
    "def clean_quotes(text):\n",
    "    for q in strange_quotes + [\"'\"]:\n",
    "        text = text.replace(q,'\"')\n",
    "    return text\n",
    "\n",
    "# all whitespaces to single & trim\n",
    "def clean_whitespaces(text):\n",
    "    return re.sub(r'\\s+', ' ', text).strip()"
   ]
  },
  {
   "cell_type": "code",
   "execution_count": 4,
   "metadata": {
    "ExecuteTime": {
     "end_time": "2018-11-22T16:47:01.869195Z",
     "start_time": "2018-11-22T16:47:01.865541Z"
    }
   },
   "outputs": [],
   "source": [
    "def norm(text):\n",
    "    return unicodedata.normalize('NFC', text)"
   ]
  },
  {
   "cell_type": "code",
   "execution_count": 5,
   "metadata": {
    "ExecuteTime": {
     "end_time": "2018-11-22T16:47:02.022819Z",
     "start_time": "2018-11-22T16:47:02.014922Z"
    }
   },
   "outputs": [],
   "source": [
    "def save_replace(text, back=False):\n",
    "    can = specials_lower + [[norm(x[0]), x[1]] for x in specials_both] +[[norm(x[0].upper()), x[1].upper()] for x in specials_both]\n",
    "    for c, repl in can:\n",
    "        if not back:\n",
    "            text = text.replace(c, escape_sequence + repl + escape_sequence)\n",
    "        else:\n",
    "            text = text.replace(escape_sequence + repl + escape_sequence, c)\n",
    "    return text"
   ]
  },
  {
   "cell_type": "code",
   "execution_count": 6,
   "metadata": {
    "ExecuteTime": {
     "end_time": "2018-11-22T16:47:02.157217Z",
     "start_time": "2018-11-22T16:47:02.151521Z"
    }
   },
   "outputs": [],
   "source": [
    "def clean_german(text):\n",
    "    text = norm(text) # slight preprocssing, do it here to make sure the replacement works\n",
    "    text = save_replace(text)\n",
    "    text = clean_quotes(text)\n",
    "    text = unidecode.unidecode(text) # heavy preprocssing\n",
    "    text = save_replace(text, back=True)\n",
    "    text = clean_whitespaces(text)\n",
    "    return text"
   ]
  },
  {
   "cell_type": "code",
   "execution_count": 11,
   "metadata": {
    "ExecuteTime": {
     "end_time": "2018-11-22T16:47:44.431720Z",
     "start_time": "2018-11-22T16:47:44.425887Z"
    }
   },
   "outputs": [
    {
     "data": {
      "text/plain": [
       "'Peter l \" \" \" \" und Anke aßen zu abenbröt Ä xx'"
      ]
     },
     "execution_count": 11,
     "metadata": {},
     "output_type": "execute_result"
    }
   ],
   "source": [
    "clean_german('Peter ł \\\" \\' „ “ und Anke aßen zu abenbröt Ä  xx ')"
   ]
  },
  {
   "cell_type": "code",
   "execution_count": 12,
   "metadata": {
    "ExecuteTime": {
     "end_time": "2018-11-22T16:50:14.069002Z",
     "start_time": "2018-11-22T16:50:14.061372Z"
    }
   },
   "outputs": [
    {
     "data": {
      "text/plain": [
       "'Rückenschwimmer (Notonectidae) sind eine Familie von aquatisch lebenden Insekten in der Unterordnung der Wanzen (Heteroptera) innerhalb der Teilordnung der Wasserwanzen (Nepomorpha). Weltweit sind etwa 350 Arten bekannt. Das besondere Kennzeichen dieser Tiere ist, dass sie stets mit der Bauchseite nach oben schwimmen - und zwar unterhalb der Wasseroberfläche. Diese auffällige Schwimmposition resultiert aus dem bauchseits am Hinterleib mitgeführten Luftvorrat. Da sie empfindlich stechen können, werden Rückenschwimmer im Volksmund auch \"Wasserbienen\" genannt.'"
      ]
     },
     "execution_count": 12,
     "metadata": {},
     "output_type": "execute_result"
    }
   ],
   "source": [
    "clean_german(\"Rückenschwimmer (Notonectidae) sind eine Familie von aquatisch lebenden Insekten in der Unterordnung der Wanzen (Heteroptera) innerhalb der Teilordnung der Wasserwanzen (Nepomorpha). Weltweit sind etwa 350 Arten bekannt. Das besondere Kennzeichen dieser Tiere ist, dass sie stets mit der Bauchseite nach oben schwimmen – und zwar unterhalb der Wasseroberfläche. Diese auffällige Schwimmposition resultiert aus dem bauchseits am Hinterleib mitgeführten Luftvorrat. Da sie empfindlich stechen können, werden Rückenschwimmer im Volksmund auch „Wasserbienen“ genannt. \")"
   ]
  },
  {
   "cell_type": "code",
   "execution_count": 14,
   "metadata": {
    "ExecuteTime": {
     "end_time": "2018-11-22T16:56:23.309231Z",
     "start_time": "2018-11-22T16:56:23.301965Z"
    }
   },
   "outputs": [
    {
     "data": {
      "text/plain": [
       "'Rückenschwimmer (Notonectidae) sind eine Familie von aquatisch lebenden Insekten in der Unterordnung der Wanzen (Heteroptera) innerhalb der Teilordnung der Wasserwanzen (Nepomorpha). Weltweit sind etwa 350 Arten bekannt. Das besondere Kennzeichen dieser Tiere ist, dass sie stets mit der Bauchseite nach oben schwimmen - und zwar unterhalb der Wasseroberfläche. Diese auffällige Schwimmposition resultiert aus dem bauchseits am Hinterleib mitgeführten Luftvorrat. Da sie empfindlich stechen können, werden Rückenschwimmer im Volksmund auch \"Wasserbienen\" genannt.'"
      ]
     },
     "execution_count": 14,
     "metadata": {},
     "output_type": "execute_result"
    }
   ],
   "source": [
    "german.clean_german('Rückenschwimmer (Notonectidae) sind eine Familie von aquatisch lebenden Insekten in der Unterordnung der Wanzen (Heteroptera) innerhalb der Teilordnung der Wasserwanzen (Nepomorpha). Weltweit sind etwa 350 Arten bekannt. Das besondere Kennzeichen dieser Tiere ist, dass sie stets mit der Bauchseite nach oben schwimmen – und zwar unterhalb der Wasseroberfläche. Diese auffällige Schwimmposition resultiert aus dem bauchseits am Hinterleib mitgeführten Luftvorrat. Da sie empfindlich stechen können, werden Rückenschwimmer im Volksmund auch „Wasserbienen“ genannt. ')"
   ]
  },
  {
   "cell_type": "code",
   "execution_count": null,
   "metadata": {},
   "outputs": [],
   "source": []
  }
 ],
 "metadata": {
  "kernelspec": {
   "display_name": "Python 3",
   "language": "python",
   "name": "python3"
  },
  "language_info": {
   "codemirror_mode": {
    "name": "ipython",
    "version": 3
   },
   "file_extension": ".py",
   "mimetype": "text/x-python",
   "name": "python",
   "nbconvert_exporter": "python",
   "pygments_lexer": "ipython3",
   "version": "3.6.6"
  },
  "toc": {
   "base_numbering": 1,
   "nav_menu": {},
   "number_sections": true,
   "sideBar": true,
   "skip_h1_title": false,
   "title_cell": "Table of Contents",
   "title_sidebar": "Contents",
   "toc_cell": false,
   "toc_position": {},
   "toc_section_display": true,
   "toc_window_display": false
  }
 },
 "nbformat": 4,
 "nbformat_minor": 2
}
