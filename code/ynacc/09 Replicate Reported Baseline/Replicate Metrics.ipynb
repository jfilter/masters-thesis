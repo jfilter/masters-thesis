{
 "cells": [
  {
   "cell_type": "markdown",
   "metadata": {},
   "source": [
    "# Trying to understand what metrics where used"
   ]
  },
  {
   "cell_type": "code",
   "execution_count": null,
   "metadata": {
    "ExecuteTime": {
     "start_time": "2019-02-27T11:24:14.178Z"
    }
   },
   "outputs": [
    {
     "name": "stdout",
     "output_type": "stream",
     "text": [
      "Collecting sympy\n",
      "  Using cached https://files.pythonhosted.org/packages/dd/f6/ed485ff22efdd7b371d0dbbf6d77ad61c3b3b7e0815a83c89cbb38ce35de/sympy-1.3.tar.gz\n",
      "Collecting mpmath>=0.19 (from sympy)\n",
      "\u001b[?25l  Downloading https://files.pythonhosted.org/packages/ca/63/3384ebb3b51af9610086b23ea976e6d27d6d97bf140a76a365bd77a3eb32/mpmath-1.1.0.tar.gz (512kB)\n",
      "\u001b[K    100% |████████████████████████████████| 522kB 5.3MB/s ta 0:00:011\n",
      "\u001b[?25hBuilding wheels for collected packages: sympy, mpmath\n",
      "  Running setup.py bdist_wheel for sympy ... \u001b[?25ldone\n",
      "\u001b[?25h  Stored in directory: /home/group7/.cache/pip/wheels/6c/59/86/478e3c0f298368c119095cc5985dedac57c0e35a85c737f823\n",
      "  Running setup.py bdist_wheel for mpmath ... \u001b[?25ldone\n",
      "\u001b[?25h  Stored in directory: /home/group7/.cache/pip/wheels/63/9d/8e/37c3f6506ed3f152733a699e92d8e0c9f5e5f01dea262f80ad\n",
      "Successfully built sympy mpmath\n"
     ]
    }
   ],
   "source": [
    "! pip install sympy"
   ]
  },
  {
   "cell_type": "code",
   "execution_count": 64,
   "metadata": {
    "ExecuteTime": {
     "end_time": "2019-02-27T11:24:42.899298Z",
     "start_time": "2019-02-27T11:24:42.894854Z"
    }
   },
   "outputs": [],
   "source": [
    "from pathlib import Path\n",
    "import pandas as pd\n",
    "import sklearn.metrics\n",
    "from sympy import symbols, nonlinsolve"
   ]
  },
  {
   "cell_type": "code",
   "execution_count": 65,
   "metadata": {
    "ExecuteTime": {
     "end_time": "2019-02-27T11:24:43.582670Z",
     "start_time": "2019-02-27T11:24:43.579148Z"
    }
   },
   "outputs": [],
   "source": [
    "data =\"\"\"Persuasive   0.81 0.84 0.91\n",
    "Audience   0.80 0.99 0.88\n",
    "Agreement  0.69 0.85 0.76\n",
    "Informative   0.76 0.74 0.75\n",
    "Mean   0.74 0.78 0.75\n",
    "Controversial   0.67 0.64 0.65\n",
    "Disagreement  0.60 0.68 0.64\n",
    "topic 0.62 0.67 0.61\n",
    "Sentiment  0.44 0.46 0.43\"\"\""
   ]
  },
  {
   "cell_type": "code",
   "execution_count": 66,
   "metadata": {
    "ExecuteTime": {
     "end_time": "2019-02-27T11:24:43.885148Z",
     "start_time": "2019-02-27T11:24:43.881357Z"
    }
   },
   "outputs": [],
   "source": [
    "arr = data.split('\\n')"
   ]
  },
  {
   "cell_type": "code",
   "execution_count": 67,
   "metadata": {
    "ExecuteTime": {
     "end_time": "2019-02-27T11:24:43.988767Z",
     "start_time": "2019-02-27T11:24:43.983186Z"
    }
   },
   "outputs": [
    {
     "data": {
      "text/plain": [
       "['Persuasive   0.81 0.84 0.91',\n",
       " 'Audience   0.80 0.99 0.88',\n",
       " 'Agreement  0.69 0.85 0.76',\n",
       " 'Informative   0.76 0.74 0.75',\n",
       " 'Mean   0.74 0.78 0.75',\n",
       " 'Controversial   0.67 0.64 0.65',\n",
       " 'Disagreement  0.60 0.68 0.64',\n",
       " 'topic 0.62 0.67 0.61',\n",
       " 'Sentiment  0.44 0.46 0.43']"
      ]
     },
     "execution_count": 67,
     "metadata": {},
     "output_type": "execute_result"
    }
   ],
   "source": [
    "arr"
   ]
  },
  {
   "cell_type": "code",
   "execution_count": 68,
   "metadata": {
    "ExecuteTime": {
     "end_time": "2019-02-27T11:24:44.139110Z",
     "start_time": "2019-02-27T11:24:44.135026Z"
    }
   },
   "outputs": [],
   "source": [
    "pr_val, re_val, f1_val = {}, {}, {}"
   ]
  },
  {
   "cell_type": "code",
   "execution_count": 69,
   "metadata": {
    "ExecuteTime": {
     "end_time": "2019-02-27T11:24:44.293491Z",
     "start_time": "2019-02-27T11:24:44.287618Z"
    }
   },
   "outputs": [],
   "source": [
    "for l in arr:\n",
    "    name, prec, reca, f1sc = l.split()\n",
    "    pr_val[name] = float(prec)\n",
    "    re_val[name] = float(reca)\n",
    "    f1_val[name] = float(f1sc)"
   ]
  },
  {
   "cell_type": "code",
   "execution_count": 90,
   "metadata": {
    "ExecuteTime": {
     "end_time": "2019-02-27T11:30:25.200552Z",
     "start_time": "2019-02-27T11:30:25.194393Z"
    }
   },
   "outputs": [],
   "source": [
    "def f1(p, r):\n",
    "    return 2 * p * r * 1 / (p + r)\n",
    "\n",
    "def prec(true_pos, false_pos):\n",
    "    return true_pos / (false_pos + true_pos)\n",
    "\n",
    "def reca(true_pos, false_neg):\n",
    "    return true_pos  / (true_pos + false_neg)"
   ]
  },
  {
   "cell_type": "code",
   "execution_count": 91,
   "metadata": {
    "ExecuteTime": {
     "end_time": "2019-02-27T11:30:26.225146Z",
     "start_time": "2019-02-27T11:30:26.219939Z"
    }
   },
   "outputs": [
    {
     "data": {
      "text/plain": [
       "0.8247272727272728"
      ]
     },
     "execution_count": 91,
     "metadata": {},
     "output_type": "execute_result"
    }
   ],
   "source": [
    "# Persuasive\n",
    "f1(0.81, 0.84) # 0.91 🛑"
   ]
  },
  {
   "cell_type": "code",
   "execution_count": 92,
   "metadata": {
    "ExecuteTime": {
     "end_time": "2019-02-27T11:30:26.394798Z",
     "start_time": "2019-02-27T11:30:26.389949Z"
    }
   },
   "outputs": [
    {
     "data": {
      "text/plain": [
       "0.8849162011173185"
      ]
     },
     "execution_count": 92,
     "metadata": {},
     "output_type": "execute_result"
    }
   ],
   "source": [
    "# Audience\n",
    "f1(0.80, 0.99) # 0.88 ✔️"
   ]
  },
  {
   "cell_type": "code",
   "execution_count": 93,
   "metadata": {
    "ExecuteTime": {
     "end_time": "2019-02-27T11:30:26.553316Z",
     "start_time": "2019-02-27T11:30:26.548571Z"
    }
   },
   "outputs": [
    {
     "data": {
      "text/plain": [
       "0.7616883116883115"
      ]
     },
     "execution_count": 93,
     "metadata": {},
     "output_type": "execute_result"
    }
   ],
   "source": [
    "# Agreement w/ com\n",
    "f1(0.69, 0.85) # 0.76 ✔️"
   ]
  },
  {
   "cell_type": "code",
   "execution_count": 94,
   "metadata": {
    "ExecuteTime": {
     "end_time": "2019-02-27T11:30:26.698544Z",
     "start_time": "2019-02-27T11:30:26.693718Z"
    }
   },
   "outputs": [
    {
     "data": {
      "text/plain": [
       "0.7498666666666667"
      ]
     },
     "execution_count": 94,
     "metadata": {},
     "output_type": "execute_result"
    }
   ],
   "source": [
    "# Informative\n",
    "f1(0.76, 0.74) # 0.75 ✔️"
   ]
  },
  {
   "cell_type": "code",
   "execution_count": 95,
   "metadata": {
    "ExecuteTime": {
     "end_time": "2019-02-27T11:30:26.836167Z",
     "start_time": "2019-02-27T11:30:26.831329Z"
    }
   },
   "outputs": [
    {
     "data": {
      "text/plain": [
       "0.7594736842105264"
      ]
     },
     "execution_count": 95,
     "metadata": {},
     "output_type": "execute_result"
    }
   ],
   "source": [
    "# Mean\n",
    "f1(0.74, 0.78) # 0.75 ✔️"
   ]
  },
  {
   "cell_type": "code",
   "execution_count": 96,
   "metadata": {
    "ExecuteTime": {
     "end_time": "2019-02-27T11:30:26.982509Z",
     "start_time": "2019-02-27T11:30:26.977467Z"
    }
   },
   "outputs": [
    {
     "data": {
      "text/plain": [
       "0.6546564885496183"
      ]
     },
     "execution_count": 96,
     "metadata": {},
     "output_type": "execute_result"
    }
   ],
   "source": [
    "# controversial\n",
    "f1(0.67, 0.64) # 0.65 ✔️"
   ]
  },
  {
   "cell_type": "code",
   "execution_count": 97,
   "metadata": {
    "ExecuteTime": {
     "end_time": "2019-02-27T11:30:27.142963Z",
     "start_time": "2019-02-27T11:30:27.138008Z"
    }
   },
   "outputs": [
    {
     "data": {
      "text/plain": [
       "0.6375000000000001"
      ]
     },
     "execution_count": 97,
     "metadata": {},
     "output_type": "execute_result"
    }
   ],
   "source": [
    "# disagree\n",
    "f1(0.60, 0.68) # 0.64 ✔️"
   ]
  },
  {
   "cell_type": "code",
   "execution_count": 98,
   "metadata": {
    "ExecuteTime": {
     "end_time": "2019-02-27T11:30:27.274849Z",
     "start_time": "2019-02-27T11:30:27.269819Z"
    }
   },
   "outputs": [
    {
     "data": {
      "text/plain": [
       "0.644031007751938"
      ]
     },
     "execution_count": 98,
     "metadata": {},
     "output_type": "execute_result"
    }
   ],
   "source": [
    "# off-topic \n",
    "f1(0.62, 0.67) # 0.61 🛑"
   ]
  },
  {
   "cell_type": "code",
   "execution_count": 99,
   "metadata": {
    "ExecuteTime": {
     "end_time": "2019-02-27T11:30:27.423599Z",
     "start_time": "2019-02-27T11:30:27.418165Z"
    }
   },
   "outputs": [
    {
     "data": {
      "text/plain": [
       "0.4497777777777778"
      ]
     },
     "execution_count": 99,
     "metadata": {},
     "output_type": "execute_result"
    }
   ],
   "source": [
    "# sentiment\n",
    "f1(0.44, 0.46)  # 0.43 🛑"
   ]
  },
  {
   "cell_type": "code",
   "execution_count": 100,
   "metadata": {
    "ExecuteTime": {
     "end_time": "2019-02-27T11:30:27.614417Z",
     "start_time": "2019-02-27T11:30:27.585743Z"
    }
   },
   "outputs": [],
   "source": [
    "pth = Path('/mnt/data/group07/johannes/ynacc_proc/replicate/split/val.csv')\n",
    "df = pd.read_csv(pth)"
   ]
  },
  {
   "cell_type": "code",
   "execution_count": 133,
   "metadata": {
    "ExecuteTime": {
     "end_time": "2019-02-27T13:19:57.858774Z",
     "start_time": "2019-02-27T13:19:57.847284Z"
    }
   },
   "outputs": [],
   "source": [
    "def solve(name):\n",
    "    counts = df['cl' + name.lower()].value_counts()\n",
    "#     the reverse to ensure that there is only posibile solution\n",
    "\n",
    "#         for i in reversed([[0, 1], [1, 0]]):\n",
    "    all_res = []\n",
    "    for i in [[0, 1], [1, 0]]:\n",
    "        count_0 = counts[i[0]]\n",
    "        count_1 = counts[i[1]]\n",
    "\n",
    "        tp, tn, fp, fn = symbols('tp, tn, fp, fn', real=True)\n",
    "        eq1 = count_1 - tp - fn\n",
    "        eq2 = count_0 - tn - fp\n",
    "        eq3 = prec(tp, fp) - pr_val[name]\n",
    "        eq4 = reca(tp, fn) - re_val[name]\n",
    "\n",
    "        system = [eq1, eq2, eq3, eq4]\n",
    "        res = nonlinsolve(system, [tp, tn, fp, fn])\n",
    "        print(res)\n",
    "#         if len(res) > 0 and all(x > 0 for x in list(res)[0]):\n",
    "        all_res.append(list(list(res)[0]) + [i])\n",
    "    return all_res"
   ]
  },
  {
   "cell_type": "code",
   "execution_count": 134,
   "metadata": {
    "ExecuteTime": {
     "end_time": "2019-02-27T13:19:58.173587Z",
     "start_time": "2019-02-27T13:19:58.160767Z"
    }
   },
   "outputs": [],
   "source": [
    "def kappa(name):\n",
    "    solutions = solve(name)\n",
    "    print(solutions)\n",
    "    for s in solutions:\n",
    "        tp, tn, fp, fn, i = s\n",
    "        y_true, y_pred = [], []\n",
    "\n",
    "        for x in range(round(tp)):\n",
    "            y_true.append(1)\n",
    "            y_pred.append(1)\n",
    "\n",
    "        for x in range(round(tn)):\n",
    "            y_true.append(0)\n",
    "            y_pred.append(0)\n",
    "\n",
    "        for x in range(round(fp)):\n",
    "            y_true.append(0)\n",
    "            y_pred.append(1)\n",
    "\n",
    "        for x in range(round(fn)):\n",
    "            y_true.append(1)\n",
    "            y_pred.append(0)\n",
    "        print(i)\n",
    "        print('kappa:  ', sklearn.metrics.cohen_kappa_score(y_true, y_pred))\n",
    "        print('f1_mic: ', sklearn.metrics.f1_score(y_true, y_pred, average='micro'))\n",
    "        print('f1_mac: ',sklearn.metrics.f1_score(y_true, y_pred, average='macro'))"
   ]
  },
  {
   "cell_type": "code",
   "execution_count": 135,
   "metadata": {
    "ExecuteTime": {
     "end_time": "2019-02-27T13:20:01.389577Z",
     "start_time": "2019-02-27T13:19:58.370506Z"
    }
   },
   "outputs": [
    {
     "name": "stdout",
     "output_type": "stream",
     "text": [
      "Persuasive\n",
      "{(71.4, 481.251851851852, 16.7481481481481, 13.6)}\n",
      "{(418.32, -13.1244444444444, 98.1244444444444, 79.68)}\n",
      "[[71.4000000000000, 481.251851851852, 16.7481481481481, 13.6000000000000, [0, 1]], [418.320000000000, -13.1244444444444, 98.1244444444444, 79.6800000000000, [1, 0]]]\n",
      "[0, 1]\n",
      "kappa:   0.7896017415802279\n",
      "f1_mic:  0.9468267581475128\n",
      "f1_mac:  0.8947953594234788\n",
      "[1, 0]\n",
      "kappa:   -0.17343597911689246\n",
      "f1_mic:  0.7013422818791947\n",
      "f1_mac:  0.41222879684418146\n",
      "\n",
      "Audience\n",
      "{(378.18, 104.455, 94.545, 3.82)}\n",
      "{(197.01, 332.7475, 49.2525, 1.99)}\n",
      "[[378.180000000000, 104.455000000000, 94.5450000000000, 3.82000000000000, [0, 1]], [197.010000000000, 332.747500000000, 49.2525000000000, 1.99000000000000, [1, 0]]]\n",
      "[0, 1]\n",
      "kappa:   0.5751386806319849\n",
      "f1_mic:  0.8296041308089501\n",
      "f1_mac:  0.7808674781416081\n",
      "[1, 0]\n",
      "kappa:   0.8155406288713061\n",
      "f1_mic:  0.9122203098106713\n",
      "f1_mac:  0.9071317756569979\n",
      "\n",
      "Agreement\n",
      "{(57.8, 489.031884057971, 25.968115942029, 10.2)}\n",
      "{(437.75, -128.670289855072, 196.670289855072, 77.25)}\n",
      "[[57.8000000000000, 489.031884057971, 25.9681159420290, 10.2000000000000, [0, 1]], [437.750000000000, -128.670289855072, 196.670289855072, 77.2500000000000, [1, 0]]]\n",
      "[0, 1]\n",
      "kappa:   0.7281065395377759\n",
      "f1_mic:  0.9382504288164666\n",
      "f1_mac:  0.8638274680784803\n",
      "[1, 0]\n",
      "kappa:   -0.1841456752655537\n",
      "f1_mic:  0.6151685393258427\n",
      "f1_mac:  0.38086956521739135\n",
      "\n",
      "Informative\n",
      "{(71.04, 464.566315789474, 22.4336842105263, 24.96)}\n",
      "{(360.38, -17.8042105263158, 113.804210526316, 126.62)}\n",
      "[[71.0400000000000, 464.566315789474, 22.4336842105263, 24.9600000000000, [0, 1]], [360.380000000000, -17.8042105263158, 113.804210526316, 126.620000000000, [1, 0]]]\n",
      "[0, 1]\n",
      "kappa:   0.7032307675645233\n",
      "f1_mic:  0.9193825042881647\n",
      "f1_mac:  0.8516081515057974\n",
      "[1, 0]\n",
      "kappa:   -0.249868404021228\n",
      "f1_mic:  0.5990016638935108\n",
      "f1_mac:  0.3746097814776275\n",
      "\n",
      "Mean\n",
      "{(94.38, 428.839459459459, 33.1605405405405, 26.62)}\n",
      "{(360.36, -5.61297297297298, 126.612972972973, 101.64)}\n",
      "[[94.3800000000000, 428.839459459459, 33.1605405405405, 26.6200000000000, [0, 1]], [360.360000000000, -5.61297297297298, 126.612972972973, 101.640000000000, [1, 0]]]\n",
      "[0, 1]\n",
      "kappa:   0.6927536231884058\n",
      "f1_mic:  0.8970840480274442\n",
      "f1_mac:  0.8463525195024246\n",
      "[1, 0]\n",
      "kappa:   -0.23774696484450275\n",
      "f1_mic:  0.6112054329371817\n",
      "f1_mac:  0.37934668071654365\n",
      "\n",
      "Controversial\n",
      "{(120.32, 335.737910447761, 59.2620895522388, 67.68)}\n",
      "{(252.8, 63.4865671641791, 124.513432835821, 142.2)}\n",
      "[[120.320000000000, 335.737910447761, 59.2620895522388, 67.6800000000000, [0, 1]], [252.800000000000, 63.4865671641791, 124.513432835821, 142.200000000000, [1, 0]]]\n",
      "[0, 1]\n",
      "kappa:   0.4951417252500734\n",
      "f1_mic:  0.7821612349914236\n",
      "f1_mac:  0.7475011339105763\n",
      "[1, 0]\n",
      "kappa:   -0.023822834930511405\n",
      "f1_mic:  0.5420240137221269\n",
      "f1_mac:  0.487601591894374\n",
      "\n",
      "Disagreement\n",
      "{(159.8, 241.466666666667, 106.533333333333, 75.2)}\n",
      "{(236.64, 77.24, 157.76, 111.36)}\n",
      "[[159.800000000000, 241.466666666667, 106.533333333333, 75.2000000000000, [0, 1]], [236.640000000000, 77.2400000000000, 157.760000000000, 111.360000000000, [1, 0]]]\n",
      "[0, 1]\n",
      "kappa:   0.36530363210030137\n",
      "f1_mic:  0.6878216123499142\n",
      "f1_mac:  0.6816769068305093\n",
      "[1, 0]\n",
      "kappa:   0.008985838773072685\n",
      "f1_mic:  0.5385934819897084\n",
      "f1_mac:  0.5010102167113708\n",
      "\n",
      "topic\n",
      "{(268.0, 18.741935483871, 164.258064516129, 132.0)}\n",
      "{(122.61, 324.851935483871, 75.148064516129, 60.39)}\n",
      "[[268.000000000000, 18.7419354838710, 164.258064516129, 132.000000000000, [0, 1]], [122.610000000000, 324.851935483871, 75.1480645161290, 60.3900000000000, [1, 0]]]\n",
      "[0, 1]\n",
      "kappa:   -0.23743689765947673\n",
      "f1_mic:  0.4922813036020583\n",
      "f1_mac:  0.3790016121602948\n",
      "[1, 0]\n",
      "kappa:   0.47409040793825796\n",
      "f1_mic:  0.7684391080617495\n",
      "f1_mac:  0.7368473845227945\n",
      "\n",
      "Sentiment\n",
      "{(76.82, 209.229090909091, 97.7709090909091, 90.18)}\n",
      "{(141.22, -12.7345454545454, 179.734545454545, 165.78)}\n",
      "[[76.8200000000000, 209.229090909091, 97.7709090909091, 90.1800000000000, [0, 1]], [141.220000000000, -12.7345454545454, 179.734545454545, 165.780000000000, [1, 0]]]\n",
      "[0, 1]\n",
      "kappa:   0.14032684404483975\n",
      "f1_mic:  0.6033755274261603\n",
      "f1_mac:  0.5700306872792542\n",
      "[1, 0]\n",
      "kappa:   -0.5495576686101047\n",
      "f1_mic:  0.28952772073921973\n",
      "f1_mac:  0.22452229299363058\n",
      "\n"
     ]
    }
   ],
   "source": [
    "for k in f1_val.keys():\n",
    "    print(k)\n",
    "    kappa(k)\n",
    "    print()"
   ]
  },
  {
   "cell_type": "code",
   "execution_count": 107,
   "metadata": {
    "ExecuteTime": {
     "end_time": "2019-02-27T11:30:52.541568Z",
     "start_time": "2019-02-27T11:30:52.357738Z"
    }
   },
   "outputs": [
    {
     "name": "stdout",
     "output_type": "stream",
     "text": [
      "{(268.0, 18.741935483871, 164.258064516129, 132.0)}\n",
      "kappa:   -0.23743689765947673\n",
      "f1_mic:  0.4922813036020583\n",
      "f1_mac:  0.3790016121602948\n"
     ]
    }
   ],
   "source": [
    "kappa('topic')"
   ]
  },
  {
   "cell_type": "code",
   "execution_count": 108,
   "metadata": {
    "ExecuteTime": {
     "end_time": "2019-02-27T11:30:52.548279Z",
     "start_time": "2019-02-27T11:30:52.544308Z"
    }
   },
   "outputs": [],
   "source": [
    "from sympy.solvers.solveset import nonlinsolve\n",
    "from sympy.core.symbol import symbols"
   ]
  },
  {
   "cell_type": "code",
   "execution_count": 19,
   "metadata": {
    "ExecuteTime": {
     "end_time": "2019-01-29T13:45:22.726561Z",
     "start_time": "2019-01-29T13:45:22.396329Z"
    }
   },
   "outputs": [
    {
     "data": {
      "text/plain": [
       "{(120.32, 215.417910447761, 179.582089552239, 67.68)}"
      ]
     },
     "execution_count": 19,
     "metadata": {},
     "output_type": "execute_result"
    }
   ],
   "source": [
    "# binary\n",
    "tp, tn, fp, fn = symbols('tp, tn, fp, fn', real=True)\n",
    "eq1 = 188 - tp - fn\n",
    "eq2 = 395 - tn - fp\n",
    "eq3 = prec(tp, fp) - 0.67\n",
    "eq4 = reca(tp, fn) - 0.64\n",
    "eq5 = f1(eq3, eq4) - 0.65\n",
    "\n",
    "system = [eq1, eq2, eq3, eq4]\n",
    "nonlinsolve(system, [tp, tn, fp, fn])"
   ]
  },
  {
   "cell_type": "code",
   "execution_count": 138,
   "metadata": {
    "ExecuteTime": {
     "end_time": "2018-11-22T13:39:37.590247Z",
     "start_time": "2018-11-22T13:39:37.479331Z"
    }
   },
   "outputs": [
    {
     "data": {
      "text/plain": [
       "EmptySet()"
      ]
     },
     "execution_count": 138,
     "metadata": {},
     "output_type": "execute_result"
    }
   ],
   "source": [
    "# micro\n",
    "a, b, c, d = symbols('a, b, c, d', real=True)\n",
    "eq1 = 188 - a - b\n",
    "eq2 = 395 - c - d\n",
    "eq3 = prec(a + d, b + c) - 0.67\n",
    "eq4 = reca(a + d, b + c) - 0.64\n",
    "# eq5 = f1(eq3, eq4) - 0.65\n",
    "\n",
    "system = [eq1, eq2, eq3, eq4]\n",
    "nonlinsolve(system, [a, b, c, d])"
   ]
  },
  {
   "cell_type": "code",
   "execution_count": 139,
   "metadata": {
    "ExecuteTime": {
     "end_time": "2018-11-22T13:39:43.028322Z",
     "start_time": "2018-11-22T13:39:42.029703Z"
    }
   },
   "outputs": [
    {
     "data": {
      "text/plain": [
       "{(-0.67*d - 170.65*sqrt(-1.89242129226345e-5*d**2 + 0.005711568519704*d + 1.0) + 358.65, 0.67*d + 170.65*sqrt(-1.89242129226345e-5*d**2 + 0.005711568519704*d + 1.0) - 170.65, -d + 395, d), (-0.67*d + 170.65*sqrt(-1.89242129226345e-5*d**2 + 0.005711568519704*d + 1.0) + 358.65, 0.67*d - 170.65*sqrt(-1.89242129226345e-5*d**2 + 0.005711568519704*d + 1.0) - 170.65, -d + 395, d)}"
      ]
     },
     "execution_count": 139,
     "metadata": {},
     "output_type": "execute_result"
    }
   ],
   "source": [
    "# macro\n",
    "a, b, c, d = symbols('a, b, c, d', real=True)\n",
    "eq1 = 188 - a - b\n",
    "eq2 = 395 - c - d\n",
    "eq3 = (prec(a, c) + prec(d, b)) / 2 - 0.67\n",
    "eq4 = (reca(a, b) + reca(d, c)) / 2 - 0.64\n",
    "eq5 = (f1(prec(a, c), reca(a, b)) + f1(prec(d, b), reca(d, c))) / 2 - 0.65\n",
    "\n",
    "system = [eq1, eq2, eq3, eq4]\n",
    "nonlinsolve(system, [a, b, c, d])"
   ]
  },
  {
   "cell_type": "code",
   "execution_count": 141,
   "metadata": {
    "ExecuteTime": {
     "end_time": "2018-11-22T13:39:59.146672Z",
     "start_time": "2018-11-22T13:39:58.964255Z"
    }
   },
   "outputs": [
    {
     "data": {
      "text/plain": [
       "{(-14.4493657422819, 202.449365742282, 7.43063425771811, 387.569365742282), (582.023911196827, -394.023911196827, 603.903911196827, -208.903911196827)}"
      ]
     },
     "execution_count": 141,
     "metadata": {},
     "output_type": "execute_result"
    }
   ],
   "source": [
    "# weighted\n",
    "a, b, c, d = symbols('a, b, c, d', real=True)\n",
    "eq1 = 188 - a - b\n",
    "eq2 = 395 - c - d\n",
    "eq3 = ((a + b) * prec(a, c) + (c + d) * prec(d, b)) / (a + b + c + d) - 0.67\n",
    "eq4 = ((a + b) * reca(a, b) + (c + d) * reca(d, c)) / (a + b + c + d) - 0.64\n",
    "eq5 = ((a + b) * f1(prec(a, c), reca(a, b)) + (c + d) * f1(prec(d, b), reca(d, c))) / (a + b + c + d) - 0.65\n",
    "\n",
    "system = [eq1, eq2, eq3, eq4]\n",
    "nonlinsolve(system, [a, b, c, d])"
   ]
  },
  {
   "cell_type": "markdown",
   "metadata": {
    "ExecuteTime": {
     "end_time": "2018-11-22T13:41:13.875665Z",
     "start_time": "2018-11-22T13:41:13.753268Z"
    }
   },
   "source": [
    "![](https://i.stack.imgur.com/M2LD0.png)"
   ]
  },
  {
   "cell_type": "code",
   "execution_count": null,
   "metadata": {},
   "outputs": [],
   "source": []
  }
 ],
 "metadata": {
  "kernelspec": {
   "display_name": "Python 3",
   "language": "python",
   "name": "python3"
  },
  "language_info": {
   "codemirror_mode": {
    "name": "ipython",
    "version": 3
   },
   "file_extension": ".py",
   "mimetype": "text/x-python",
   "name": "python",
   "nbconvert_exporter": "python",
   "pygments_lexer": "ipython3",
   "version": "3.7.1"
  },
  "toc": {
   "base_numbering": 1,
   "nav_menu": {},
   "number_sections": true,
   "sideBar": true,
   "skip_h1_title": false,
   "title_cell": "Table of Contents",
   "title_sidebar": "Contents",
   "toc_cell": false,
   "toc_position": {},
   "toc_section_display": true,
   "toc_window_display": false
  }
 },
 "nbformat": 4,
 "nbformat_minor": 2
}
