{
 "cells": [
  {
   "cell_type": "code",
   "execution_count": 1,
   "metadata": {
    "ExecuteTime": {
     "end_time": "2018-11-21T14:35:39.380660Z",
     "start_time": "2018-11-21T14:35:38.213876Z"
    }
   },
   "outputs": [
    {
     "data": {
      "text/plain": [
       "'1.0.29.dev0'"
      ]
     },
     "execution_count": 1,
     "metadata": {},
     "output_type": "execute_result"
    }
   ],
   "source": [
    "from fastai.text import *\n",
    "from fastai.datasets import *\n",
    "from pathlib import Path\n",
    "import pandas as pd\n",
    "from fastai.metrics import *\n",
    "from fastai.train import *\n",
    "from fastai.vision import *\n",
    "from fastai.imports import nn, torch\n",
    "from sklearn import metrics\n",
    "from fastai.callbacks import *\n",
    "from fastai.basic_train import get_preds\n",
    "\n",
    "import sklearn.metrics\n",
    "import datetime\n",
    "torch.cuda.set_device(3)\n",
    "\n",
    "import fastai\n",
    "fastai.__version__"
   ]
  },
  {
   "cell_type": "code",
   "execution_count": 2,
   "metadata": {
    "ExecuteTime": {
     "end_time": "2018-11-21T14:35:39.384514Z",
     "start_time": "2018-11-21T14:35:39.382394Z"
    }
   },
   "outputs": [],
   "source": [
    "EX_PA = Path('/mnt/data/group07/johannes/ynacc_proc/replicate/lmmodels2')"
   ]
  },
  {
   "cell_type": "code",
   "execution_count": 3,
   "metadata": {
    "ExecuteTime": {
     "end_time": "2018-11-21T14:35:41.572368Z",
     "start_time": "2018-11-21T14:35:40.455657Z"
    }
   },
   "outputs": [],
   "source": [
    "data_lm = TextLMDataBunch.load(EX_PA)"
   ]
  },
  {
   "cell_type": "code",
   "execution_count": 4,
   "metadata": {
    "ExecuteTime": {
     "end_time": "2018-11-21T14:35:55.286128Z",
     "start_time": "2018-11-21T14:35:50.543553Z"
    }
   },
   "outputs": [],
   "source": [
    "learn = language_model_learner(data_lm, drop_mult=0.2).load(EX_PA/\"models\"/\"2018_11_21_12_55_24_022251\")"
   ]
  },
  {
   "cell_type": "code",
   "execution_count": 5,
   "metadata": {
    "ExecuteTime": {
     "end_time": "2018-11-21T14:35:57.339108Z",
     "start_time": "2018-11-21T14:35:57.334986Z"
    }
   },
   "outputs": [],
   "source": [
    "learn.unfreeze()"
   ]
  },
  {
   "cell_type": "code",
   "execution_count": 10,
   "metadata": {
    "ExecuteTime": {
     "end_time": "2018-11-21T14:40:41.095775Z",
     "start_time": "2018-11-21T14:38:31.613433Z"
    }
   },
   "outputs": [
    {
     "name": "stdout",
     "output_type": "stream",
     "text": [
      "LR Finder is complete, type {learner_name}.recorder.plot() to see the graph.\n"
     ]
    }
   ],
   "source": [
    "# learn.lr_find()\n",
    "learn.lr_find(start_lr=1e-15, end_lr=1e-2, num_it=1000)"
   ]
  },
  {
   "cell_type": "code",
   "execution_count": 11,
   "metadata": {
    "ExecuteTime": {
     "end_time": "2018-11-21T14:40:41.230121Z",
     "start_time": "2018-11-21T14:40:41.097398Z"
    }
   },
   "outputs": [
    {
     "data": {
      "image/png": "[encoded data removed]",
      "text/plain": [
       "<Figure size 432x288 with 1 Axes>"
      ]
     },
     "metadata": {
      "needs_background": "light"
     },
     "output_type": "display_data"
    }
   ],
   "source": [
    "learn.recorder.plot()"
   ]
  },
  {
   "cell_type": "code",
   "execution_count": 13,
   "metadata": {
    "ExecuteTime": {
     "end_time": "2018-11-21T14:41:04.132760Z",
     "start_time": "2018-11-21T14:41:04.129068Z"
    }
   },
   "outputs": [],
   "source": [
    "lr = 1e-4"
   ]
  },
  {
   "cell_type": "code",
   "execution_count": 14,
   "metadata": {
    "ExecuteTime": {
     "end_time": "2018-11-21T14:46:27.630543Z",
     "start_time": "2018-11-21T14:41:04.477533Z"
    }
   },
   "outputs": [
    {
     "name": "stdout",
     "output_type": "stream",
     "text": [
      "Total time: 05:23\n",
      "epoch  train_loss  valid_loss  accuracy\n",
      "1      3.871703    3.872188    0.281689  (05:23)\n",
      "\n"
     ]
    }
   ],
   "source": [
    "learn.fit_one_cycle(1, [lr / 2.6*3, lr / 2.6*2, lr / 2.6, lr])"
   ]
  },
  {
   "cell_type": "markdown",
   "metadata": {
    "ExecuteTime": {
     "end_time": "2018-11-11T17:59:53.238084Z",
     "start_time": "2018-11-11T17:59:53.233049Z"
    }
   },
   "source": [
    "## 1      4.109582    4.304508    0.257547  (08:11)"
   ]
  },
  {
   "cell_type": "markdown",
   "metadata": {
    "ExecuteTime": {
     "end_time": "2018-11-11T18:10:18.909435Z",
     "start_time": "2018-11-11T18:10:18.904496Z"
    }
   },
   "source": [
    "# 1      4.169057    4.333825    0.254068  (08:12)\n",
    "learn.fit_one_cycle(1, slice(1e-5, 1e-4))"
   ]
  },
  {
   "cell_type": "markdown",
   "metadata": {},
   "source": [
    "# learn.fit_one_cycle(1, [lr / 2.6**3, lr / 2.6**2, lr / 2.6, lr])\n",
    "\n",
    "executed in 8m 15s, finished 19:22:40 2018-11-11\n",
    "\n",
    "Total time: 08:15\n",
    "epoch  train_loss  valid_loss  accuracy\n",
    "1      4.239848    4.370053    0.251408  (08:15)\n",
    "\n"
   ]
  },
  {
   "cell_type": "code",
   "execution_count": 16,
   "metadata": {
    "ExecuteTime": {
     "end_time": "2018-11-21T14:50:15.797549Z",
     "start_time": "2018-11-21T14:50:15.661541Z"
    }
   },
   "outputs": [
    {
     "ename": "TypeError",
     "evalue": "Device() received an invalid combination of arguments - got (), but expected one of:\n * (torch.device device)\n * (str type, int index)\n",
     "output_type": "error",
     "traceback": [
      "\u001b[0;31m---------------------------------------------------------------------------\u001b[0m",
      "\u001b[0;31mTypeError\u001b[0m                                 Traceback (most recent call last)",
      "\u001b[0;32m<ipython-input-16-fe909b70420b>\u001b[0m in \u001b[0;36m<module>\u001b[0;34m\u001b[0m\n\u001b[0;32m----> 1\u001b[0;31m \u001b[0mtorch\u001b[0m\u001b[0;34m.\u001b[0m\u001b[0mdevice\u001b[0m\u001b[0;34m(\u001b[0m\u001b[0;34m)\u001b[0m\u001b[0;34m\u001b[0m\u001b[0m\n\u001b[0m",
      "\u001b[0;31mTypeError\u001b[0m: Device() received an invalid combination of arguments - got (), but expected one of:\n * (torch.device device)\n * (str type, int index)\n"
     ]
    }
   ],
   "source": [
    "torch."
   ]
  },
  {
   "cell_type": "code",
   "execution_count": 23,
   "metadata": {
    "ExecuteTime": {
     "end_time": "2018-11-21T14:51:28.709877Z",
     "start_time": "2018-11-21T14:51:28.704067Z"
    }
   },
   "outputs": [
    {
     "data": {
      "text/plain": [
       "'GeForce GTX 1080 Ti'"
      ]
     },
     "execution_count": 23,
     "metadata": {},
     "output_type": "execute_result"
    }
   ],
   "source": [
    "torch.cuda.get_device_name(2)"
   ]
  },
  {
   "cell_type": "code",
   "execution_count": null,
   "metadata": {},
   "outputs": [],
   "source": []
  }
 ],
 "metadata": {
  "kernelspec": {
   "display_name": "Python 3",
   "language": "python",
   "name": "python3"
  },
  "language_info": {
   "codemirror_mode": {
    "name": "ipython",
    "version": 3
   },
   "file_extension": ".py",
   "mimetype": "text/x-python",
   "name": "python",
   "nbconvert_exporter": "python",
   "pygments_lexer": "ipython3",
   "version": "3.6.6"
  },
  "toc": {
   "base_numbering": 1,
   "nav_menu": {},
   "number_sections": true,
   "sideBar": true,
   "skip_h1_title": false,
   "title_cell": "Table of Contents",
   "title_sidebar": "Contents",
   "toc_cell": false,
   "toc_position": {},
   "toc_section_display": true,
   "toc_window_display": false
  }
 },
 "nbformat": 4,
 "nbformat_minor": 2
}
