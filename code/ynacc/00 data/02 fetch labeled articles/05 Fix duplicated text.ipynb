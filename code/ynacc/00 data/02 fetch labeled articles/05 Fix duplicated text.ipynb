{
 "cells": [
  {
   "cell_type": "code",
   "execution_count": 1,
   "metadata": {
    "ExecuteTime": {
     "end_time": "2018-12-19T20:48:34.968076Z",
     "start_time": "2018-12-19T20:48:34.641535Z"
    }
   },
   "outputs": [],
   "source": [
    "import pandas as pd"
   ]
  },
  {
   "cell_type": "code",
   "execution_count": 4,
   "metadata": {
    "ExecuteTime": {
     "end_time": "2018-12-19T20:55:20.094407Z",
     "start_time": "2018-12-19T20:55:20.059237Z"
    }
   },
   "outputs": [],
   "source": [
    "df = pd.read_csv('~/data/ynacc_proc/articles/articles_fixed_4.csv')"
   ]
  },
  {
   "cell_type": "code",
   "execution_count": 13,
   "metadata": {
    "ExecuteTime": {
     "end_time": "2018-12-19T21:05:49.184835Z",
     "start_time": "2018-12-19T21:05:49.179238Z"
    }
   },
   "outputs": [],
   "source": [
    "urls = df[df['text'].duplicated()]['url'].tolist()"
   ]
  },
  {
   "cell_type": "code",
   "execution_count": 11,
   "metadata": {
    "ExecuteTime": {
     "end_time": "2018-12-19T21:00:24.672052Z",
     "start_time": "2018-12-19T21:00:24.669188Z"
    }
   },
   "outputs": [],
   "source": [
    "# manually copied & pasted text from websites"
   ]
  },
  {
   "cell_type": "code",
   "execution_count": 12,
   "metadata": {
    "ExecuteTime": {
     "end_time": "2018-12-19T21:05:41.929490Z",
     "start_time": "2018-12-19T21:05:41.908198Z"
    }
   },
   "outputs": [],
   "source": [
    "texts = [\"\"\"\n",
    "A gorilla was caught on camera dancing up a storm inside a British zoo.\n",
    "\n",
    "Read: Ruh Roh! Owners Return Home to Discover Mischievous Dog Found Their Calligraphy Ink\n",
    "\n",
    "Lope, a three-year-old, silverback gorilla was caught by Helen Fairhead dancing inside the Twycross Zoo in Leicestershire, England.\n",
    "\n",
    "Video of the dancing primate was posted online on Monday and has been seen over one million times.\n",
    "\n",
    "Read: Goat Escapes Its Home, Wanders Into a Starbucks\n",
    "\n",
    "The zoo’s director of life science, Dr. Chartlotte Macdonald told BBC the gorilla's dancing is evidence of him playing, which according to her, is an important aspect of a young ape's behavior.\n",
    "\n",
    "Watch: Mother Gorilla Dies At Zoo Shortly After Giving Birth Via Emergency C-Section\"\"\",\"\"\"The woman who recorded a video of a panther whizzing right by her called the encounter “amazing.”\n",
    "\n",
    "Read: Diver Straddles Shark to Untangle It From Rope\n",
    "\n",
    "Tina Dorschel was taking an early morning stroll through Corkscrew Swamp Sanctuary in Naples, Florida, when, out of nowhere a panther, came right in her direction.\n",
    "\n",
    "She told IE: “It was extremely surprising.”\n",
    "\n",
    "Though nervous, she kept right on recording the big cat earlier this week.\n",
    "\n",
    "\"I was hoping it wasn't angry,\" she said.\n",
    "\n",
    "Read: Panda Poses For Selfie With Caretaker\n",
    "\n",
    "She posted the video on Facebook and it has racked up more than four million views.\n",
    " \n",
    "\n",
    "    On on early morning nature walk we saw a gator, a snake, frogs, pretty birds, and had this unexpected encounter. (Warning...curse word at end!)(For licensing or usage, please contact licensing@viralhog.com)\n",
    "    Posted by Tina Dorschel on Tuesday, March 29, 2016\n",
    "\n",
    "The panther may have been more frightened than she was.\n",
    "\n",
    "On the sanctuary’s Facebook page, staff wrote: “Panthers are shy creatures and this kind of encounter was a lucky and extremely rare experience.”\n",
    "\n",
    "Watch: Abandoned Sloth Clings to Stuffed Animal for Emotional Support\"\"\",\"\"\"Prince’s body is scheduled to undergo an autopsy on Friday to confirm what caused his death.\n",
    "\n",
    "Read: World is Bathed in Purple for Prince As His Sister Says: 'Thank You For Loving Him'\n",
    "\n",
    "He passed away just days after his private plane made an emergency landing in Moline, Illinois last Friday -- supposedly because he was suffering from a terrible case of the flu.\n",
    "\n",
    "But reports now say the medical crisis was actually a drug overdose. According to the reports, Prince may have been brought back from the brink of death by a “save shot.”\n",
    "\n",
    "The shots, also known as Narcan, are used to counteract the effects of opiates.\n",
    "\n",
    "According to TMZ, doctors advised Prince to stay in the hospital for 24 hours, but he left after three.\n",
    "\n",
    "Prince was found unresponsive Thursday morning in his elevator.\n",
    "\n",
    "Reports suggest that Prince may have overdosed on the painkiller Percocet. The drug contains acetaminophen and oxycodone, an opioid, and is known to be highly addictive.\n",
    "\n",
    "According to TMZ, Prince was taking the painkillers for a hip problem. The singer had hip surgery in 2010.\n",
    "\n",
    "Read: Singer Prince Found Dead Inside Elevator At His Home, Age 57\n",
    "\n",
    "Musician Sheila E, once Prince's fiancée, has flown to Minnesota to investigate the death and settle some of mysterious circumstances.\n",
    "\n",
    "As she boarded a flight at LAX, she told TMZ that she is determined to find out what happened to her former lover and close friend.\n",
    "\n",
    "Watch: Remembering the Most Iconic Moments of Prince's Lengthy Career\"\"\",\"\"\"\n",
    "\n",
    "Here are 5 stocks added to the Zacks Rank #1 (Strong Buy) List today:\n",
    "\n",
    "    American Superconductor Corporation (AMSC - Free Report)\n",
    "    BlackBerry Ltd\n",
    "    Blueprint Medicines Corp (BPMC - Free Report)\n",
    "    Darden Restaurants, Inc (DRI - Free Report)\n",
    "    eGain Corp (EGAN - Free Report) \n",
    "\n",
    "View the entire Zacks Rank #1 List.\n",
    "\n",
    "\n",
    "Zacks Restaurant Recommendations: In addition to dining at these special places, you can feast on their stock shares. A Zacks Special Report spotlights 5 recent IPOs to watch plus 2 stocks that offer immediate promise in a booming sector. Download it free »\"\"\",\n",
    " \"\"\"Two tandem skydivers died in California on Saturday after the parachute failed to open.\n",
    "\n",
    "One of the victims, whose name has not been released, was a teenager whose family was watching from below as he and the instructor hit the ground at about 10 a.m.\n",
    "\n",
    "It was the teen's first-ever jump.\n",
    "\n",
    "Read: Daredevil With No Parachute Survives 25,000 Foot Leap From Plane Into Net\n",
    "\n",
    "Both victims died on impact in a Lodi vineyard, according to reports.\n",
    "\n",
    "Tragically, the San Joaquine County Sheriff's Office said it appeared that the parachute deployed after impact.\n",
    "\n",
    "Read: 16 Dead After Hot Air Balloon Hits High Voltage Power Lines\n",
    "\n",
    "Authorities on Sunday were still trying to reach one of the men's families for notification, sheriff's Sgt. Brandon Riley. The instructor was in his mid-20s, Riley said.\n",
    "\n",
    "Sheriff’s deputies first responded to a 911 call from a citizen reporting that one of his field workers called him and said a skydiver hit the ground without an open parachute.\n",
    "\n",
    "The FAA has been contacted and will be taking over the investigation into the circumstances surrounding the accident.\n",
    "\n",
    "Watch: World War II Vet Celebrates 90th Birthday by Skydiving, Days After His Brother Dies\n",
    " \"\"\"]"
   ]
  },
  {
   "cell_type": "code",
   "execution_count": 19,
   "metadata": {
    "ExecuteTime": {
     "end_time": "2018-12-19T21:09:08.106447Z",
     "start_time": "2018-12-19T21:09:08.090767Z"
    }
   },
   "outputs": [],
   "source": [
    "for [url, text] in zip(urls, texts):\n",
    "    df.loc[df['url'] == url, ['text']] = text"
   ]
  },
  {
   "cell_type": "code",
   "execution_count": 20,
   "metadata": {
    "ExecuteTime": {
     "end_time": "2018-12-19T21:09:09.119409Z",
     "start_time": "2018-12-19T21:09:09.114613Z"
    }
   },
   "outputs": [
    {
     "data": {
      "text/plain": [
       "[]"
      ]
     },
     "execution_count": 20,
     "metadata": {},
     "output_type": "execute_result"
    }
   ],
   "source": [
    "df[df['text'].duplicated()]['url'].tolist()"
   ]
  },
  {
   "cell_type": "code",
   "execution_count": 22,
   "metadata": {
    "ExecuteTime": {
     "end_time": "2018-12-19T21:09:32.580220Z",
     "start_time": "2018-12-19T21:09:32.568421Z"
    }
   },
   "outputs": [
    {
     "data": {
      "text/html": [
       "<div>\n",
       "<style scoped>\n",
       "    .dataframe tbody tr th:only-of-type {\n",
       "        vertical-align: middle;\n",
       "    }\n",
       "\n",
       "    .dataframe tbody tr th {\n",
       "        vertical-align: top;\n",
       "    }\n",
       "\n",
       "    .dataframe thead th {\n",
       "        text-align: right;\n",
       "    }\n",
       "</style>\n",
       "<table border=\"1\" class=\"dataframe\">\n",
       "  <thead>\n",
       "    <tr style=\"text-align: right;\">\n",
       "      <th></th>\n",
       "      <th>Unnamed: 0</th>\n",
       "      <th>url</th>\n",
       "      <th>text</th>\n",
       "      <th>title</th>\n",
       "      <th>publish_date</th>\n",
       "    </tr>\n",
       "  </thead>\n",
       "  <tbody>\n",
       "  </tbody>\n",
       "</table>\n",
       "</div>"
      ],
      "text/plain": [
       "Empty DataFrame\n",
       "Columns: [Unnamed: 0, url, text, title, publish_date]\n",
       "Index: []"
      ]
     },
     "execution_count": 22,
     "metadata": {},
     "output_type": "execute_result"
    }
   ],
   "source": [
    "df[df['url'].duplicated()]"
   ]
  },
  {
   "cell_type": "code",
   "execution_count": 26,
   "metadata": {
    "ExecuteTime": {
     "end_time": "2018-12-19T21:11:04.779715Z",
     "start_time": "2018-12-19T21:11:04.762600Z"
    }
   },
   "outputs": [
    {
     "data": {
      "text/html": [
       "<div>\n",
       "<style scoped>\n",
       "    .dataframe tbody tr th:only-of-type {\n",
       "        vertical-align: middle;\n",
       "    }\n",
       "\n",
       "    .dataframe tbody tr th {\n",
       "        vertical-align: top;\n",
       "    }\n",
       "\n",
       "    .dataframe thead th {\n",
       "        text-align: right;\n",
       "    }\n",
       "</style>\n",
       "<table border=\"1\" class=\"dataframe\">\n",
       "  <thead>\n",
       "    <tr style=\"text-align: right;\">\n",
       "      <th></th>\n",
       "      <th>Unnamed: 0</th>\n",
       "      <th>url</th>\n",
       "      <th>text</th>\n",
       "      <th>title</th>\n",
       "      <th>publish_date</th>\n",
       "    </tr>\n",
       "  </thead>\n",
       "  <tbody>\n",
       "    <tr>\n",
       "      <th>297</th>\n",
       "      <td>298</td>\n",
       "      <td>http://time.com/money/4304559/donald-trump-per...</td>\n",
       "      <td>\\n\\n\\n\\nTop aides to GOP front-runner Donald T...</td>\n",
       "      <td>Can Donald Trump’s Negatives Be Fixed?</td>\n",
       "      <td>2016-04-22 11:06:56</td>\n",
       "    </tr>\n",
       "  </tbody>\n",
       "</table>\n",
       "</div>"
      ],
      "text/plain": [
       "     Unnamed: 0                                                url  \\\n",
       "297         298  http://time.com/money/4304559/donald-trump-per...   \n",
       "\n",
       "                                                  text  \\\n",
       "297  \\n\\n\\n\\nTop aides to GOP front-runner Donald T...   \n",
       "\n",
       "                                      title         publish_date  \n",
       "297  Can Donald Trump’s Negatives Be Fixed?  2016-04-22 11:06:56  "
      ]
     },
     "execution_count": 26,
     "metadata": {},
     "output_type": "execute_result"
    }
   ],
   "source": [
    "df[df['text'].str.contains('Accept')]"
   ]
  },
  {
   "cell_type": "code",
   "execution_count": 27,
   "metadata": {
    "ExecuteTime": {
     "end_time": "2018-12-19T21:11:11.549212Z",
     "start_time": "2018-12-19T21:11:11.478409Z"
    }
   },
   "outputs": [],
   "source": [
    "df.to_csv('~/data/ynacc_proc/articles/articles_fixed_5.csv')"
   ]
  },
  {
   "cell_type": "code",
   "execution_count": null,
   "metadata": {},
   "outputs": [],
   "source": []
  }
 ],
 "metadata": {
  "kernelspec": {
   "display_name": "Python 3",
   "language": "python",
   "name": "python3"
  },
  "language_info": {
   "codemirror_mode": {
    "name": "ipython",
    "version": 3
   },
   "file_extension": ".py",
   "mimetype": "text/x-python",
   "name": "python",
   "nbconvert_exporter": "python",
   "pygments_lexer": "ipython3",
   "version": "3.6.5"
  },
  "toc": {
   "base_numbering": 1,
   "nav_menu": {},
   "number_sections": true,
   "sideBar": true,
   "skip_h1_title": false,
   "title_cell": "Table of Contents",
   "title_sidebar": "Contents",
   "toc_cell": false,
   "toc_position": {},
   "toc_section_display": true,
   "toc_window_display": false
  }
 },
 "nbformat": 4,
 "nbformat_minor": 2
}
