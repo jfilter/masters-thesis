{
 "cells": [
  {
   "cell_type": "code",
   "execution_count": 1,
   "metadata": {
    "ExecuteTime": {
     "end_time": "2019-02-26T20:57:05.856671Z",
     "start_time": "2019-02-26T20:57:05.787153Z"
    }
   },
   "outputs": [],
   "source": [
    "import pymongo\n",
    "from collections import defaultdict"
   ]
  },
  {
   "cell_type": "code",
   "execution_count": 2,
   "metadata": {
    "ExecuteTime": {
     "end_time": "2019-02-26T20:57:05.976897Z",
     "start_time": "2019-02-26T20:57:05.860924Z"
    }
   },
   "outputs": [
    {
     "name": "stdout",
     "output_type": "stream",
     "text": [
      "{'name': '10000', 'sizeOnDisk': 270336.0, 'empty': False}\n",
      "{'name': '10000_cl', 'sizeOnDisk': 262144.0, 'empty': False}\n",
      "{'name': '10000_cl_clagreement', 'sizeOnDisk': 253952.0, 'empty': False}\n",
      "{'name': '10000_cl_claudience', 'sizeOnDisk': 368640.0, 'empty': False}\n",
      "{'name': '10000_cl_clcontroversial', 'sizeOnDisk': 262144.0, 'empty': False}\n",
      "{'name': '10000_cl_cldisagreement', 'sizeOnDisk': 262144.0, 'empty': False}\n",
      "{'name': '10000_cl_clinformative', 'sizeOnDisk': 258048.0, 'empty': False}\n",
      "{'name': '10000_cl_clmean', 'sizeOnDisk': 262144.0, 'empty': False}\n",
      "{'name': '10000_cl_clpersuasive', 'sizeOnDisk': 360448.0, 'empty': False}\n",
      "{'name': '10000_cl_clsentiment', 'sizeOnDisk': 262144.0, 'empty': False}\n",
      "{'name': '10000_cl_cltopic', 'sizeOnDisk': 262144.0, 'empty': False}\n",
      "{'name': '10000_ner', 'sizeOnDisk': 274432.0, 'empty': False}\n",
      "{'name': '10000_ner_cl', 'sizeOnDisk': 262144.0, 'empty': False}\n",
      "{'name': '10000_ner_cl_clagreement', 'sizeOnDisk': 253952.0, 'empty': False}\n",
      "{'name': '10000_ner_cl_claudience', 'sizeOnDisk': 262144.0, 'empty': False}\n",
      "{'name': '10000_ner_cl_clcontroversial', 'sizeOnDisk': 258048.0, 'empty': False}\n",
      "{'name': '10000_ner_cl_cldisagreement', 'sizeOnDisk': 262144.0, 'empty': False}\n",
      "{'name': '10000_ner_cl_clinformative', 'sizeOnDisk': 253952.0, 'empty': False}\n",
      "{'name': '10000_ner_cl_clmean', 'sizeOnDisk': 258048.0, 'empty': False}\n",
      "{'name': '10000_ner_cl_clpersuasive', 'sizeOnDisk': 253952.0, 'empty': False}\n",
      "{'name': '10000_ner_cl_clsentiment', 'sizeOnDisk': 258048.0, 'empty': False}\n",
      "{'name': '10000_ner_cl_cltopic', 'sizeOnDisk': 262144.0, 'empty': False}\n",
      "{'name': '20000', 'sizeOnDisk': 253952.0, 'empty': False}\n",
      "{'name': '20000_cl', 'sizeOnDisk': 262144.0, 'empty': False}\n",
      "{'name': '20000_cl_clagreement', 'sizeOnDisk': 253952.0, 'empty': False}\n",
      "{'name': '20000_cl_claudience', 'sizeOnDisk': 368640.0, 'empty': False}\n",
      "{'name': '20000_cl_clcontroversial', 'sizeOnDisk': 262144.0, 'empty': False}\n",
      "{'name': '20000_cl_cldisagreement', 'sizeOnDisk': 262144.0, 'empty': False}\n",
      "{'name': '20000_cl_clinformative', 'sizeOnDisk': 253952.0, 'empty': False}\n",
      "{'name': '20000_cl_clmean', 'sizeOnDisk': 253952.0, 'empty': False}\n",
      "{'name': '20000_cl_clpersuasive', 'sizeOnDisk': 368640.0, 'empty': False}\n",
      "{'name': '20000_cl_clsentiment', 'sizeOnDisk': 368640.0, 'empty': False}\n",
      "{'name': '20000_cl_cltopic', 'sizeOnDisk': 253952.0, 'empty': False}\n",
      "{'name': '20000_ner', 'sizeOnDisk': 245760.0, 'empty': False}\n",
      "{'name': '20000_ner_cl_clagreement', 'sizeOnDisk': 253952.0, 'empty': False}\n",
      "{'name': '20000_ner_cl_claudience', 'sizeOnDisk': 262144.0, 'empty': False}\n",
      "{'name': '20000_ner_cl_clcontroversial', 'sizeOnDisk': 262144.0, 'empty': False}\n",
      "{'name': '20000_ner_cl_cldisagreement', 'sizeOnDisk': 258048.0, 'empty': False}\n",
      "{'name': '20000_ner_cl_clinformative', 'sizeOnDisk': 253952.0, 'empty': False}\n",
      "{'name': '20000_ner_cl_clmean', 'sizeOnDisk': 253952.0, 'empty': False}\n",
      "{'name': '20000_ner_cl_clpersuasive', 'sizeOnDisk': 253952.0, 'empty': False}\n",
      "{'name': '20000_ner_cl_clsentiment', 'sizeOnDisk': 262144.0, 'empty': False}\n",
      "{'name': '20000_ner_cl_cltopic', 'sizeOnDisk': 258048.0, 'empty': False}\n",
      "{'name': '20k', 'sizeOnDisk': 344064.0, 'empty': False}\n",
      "{'name': '20k_class_best', 'sizeOnDisk': 344064.0, 'empty': False}\n",
      "{'name': '20k_class_no_over', 'sizeOnDisk': 352256.0, 'empty': False}\n",
      "{'name': '20k_ner', 'sizeOnDisk': 540672.0, 'empty': False}\n",
      "{'name': '20k_ner_best', 'sizeOnDisk': 483328.0, 'empty': False}\n",
      "{'name': '20k_ner_noover', 'sizeOnDisk': 495616.0, 'empty': False}\n",
      "{'name': '30000', 'sizeOnDisk': 253952.0, 'empty': False}\n",
      "{'name': '30000_cl_clagreement', 'sizeOnDisk': 360448.0, 'empty': False}\n",
      "{'name': '30000_cl_claudience', 'sizeOnDisk': 368640.0, 'empty': False}\n",
      "{'name': '30000_cl_clcontroversial', 'sizeOnDisk': 262144.0, 'empty': False}\n",
      "{'name': '30000_cl_cldisagreement', 'sizeOnDisk': 270336.0, 'empty': False}\n",
      "{'name': '30000_cl_clinformative', 'sizeOnDisk': 262144.0, 'empty': False}\n",
      "{'name': '30000_cl_clmean', 'sizeOnDisk': 262144.0, 'empty': False}\n",
      "{'name': '30000_cl_clpersuasive', 'sizeOnDisk': 368640.0, 'empty': False}\n",
      "{'name': '30000_cl_clsentiment', 'sizeOnDisk': 368640.0, 'empty': False}\n",
      "{'name': '30000_cl_cltopic', 'sizeOnDisk': 262144.0, 'empty': False}\n",
      "{'name': '30000_ctx_ner', 'sizeOnDisk': 368640.0, 'empty': False}\n",
      "{'name': '30000_ctx_ner_cl_clagreement', 'sizeOnDisk': 253952.0, 'empty': False}\n",
      "{'name': '30000_ctx_ner_cl_claudience', 'sizeOnDisk': 262144.0, 'empty': False}\n",
      "{'name': '30000_ctx_ner_cl_clcontroversial', 'sizeOnDisk': 262144.0, 'empty': False}\n",
      "{'name': '30000_ctx_ner_cl_cldisagreement', 'sizeOnDisk': 262144.0, 'empty': False}\n",
      "{'name': '30000_ctx_ner_cl_clinformative', 'sizeOnDisk': 253952.0, 'empty': False}\n",
      "{'name': '30000_ctx_ner_cl_clmean', 'sizeOnDisk': 253952.0, 'empty': False}\n",
      "{'name': '30000_ctx_ner_cl_clpersuasive', 'sizeOnDisk': 253952.0, 'empty': False}\n",
      "{'name': '30000_ctx_ner_cl_clsentiment', 'sizeOnDisk': 262144.0, 'empty': False}\n",
      "{'name': '30000_ctx_ner_cl_cltopic', 'sizeOnDisk': 253952.0, 'empty': False}\n",
      "{'name': '30000_ctx_ner_fixed', 'sizeOnDisk': 368640.0, 'empty': False}\n",
      "{'name': '30000_ctx_ner_fixed_cl_clagreement', 'sizeOnDisk': 253952.0, 'empty': False}\n",
      "{'name': '30000_ctx_ner_fixed_cl_claudience', 'sizeOnDisk': 405504.0, 'empty': False}\n",
      "{'name': '30000_ctx_ner_fixed_cl_clcontroversial', 'sizeOnDisk': 262144.0, 'empty': False}\n",
      "{'name': '30000_ctx_ner_fixed_cl_cldisagreement', 'sizeOnDisk': 253952.0, 'empty': False}\n",
      "{'name': '30000_ctx_ner_fixed_cl_clinformative', 'sizeOnDisk': 253952.0, 'empty': False}\n",
      "{'name': '30000_ctx_ner_fixed_cl_clmean', 'sizeOnDisk': 262144.0, 'empty': False}\n",
      "{'name': '30000_ctx_ner_fixed_cl_clpersuasive', 'sizeOnDisk': 253952.0, 'empty': False}\n",
      "{'name': '30000_ctx_ner_fixed_cl_clsentiment', 'sizeOnDisk': 262144.0, 'empty': False}\n",
      "{'name': '30000_ctx_ner_fixed_cl_cltopic', 'sizeOnDisk': 425984.0, 'empty': False}\n",
      "{'name': '30000_ner', 'sizeOnDisk': 262144.0, 'empty': False}\n",
      "{'name': '30000_ner_cl_clagreement', 'sizeOnDisk': 253952.0, 'empty': False}\n",
      "{'name': '30000_ner_cl_claudience', 'sizeOnDisk': 253952.0, 'empty': False}\n",
      "{'name': '30000_ner_cl_clcontroversial', 'sizeOnDisk': 262144.0, 'empty': False}\n",
      "{'name': '30000_ner_cl_cldisagreement', 'sizeOnDisk': 270336.0, 'empty': False}\n",
      "{'name': '30000_ner_cl_clinformative', 'sizeOnDisk': 253952.0, 'empty': False}\n",
      "{'name': '30000_ner_cl_clmean', 'sizeOnDisk': 262144.0, 'empty': False}\n",
      "{'name': '30000_ner_cl_clpersuasive', 'sizeOnDisk': 253952.0, 'empty': False}\n",
      "{'name': '30000_ner_cl_clsentiment', 'sizeOnDisk': 262144.0, 'empty': False}\n",
      "{'name': '30000_ner_cl_cltopic', 'sizeOnDisk': 270336.0, 'empty': False}\n",
      "{'name': '30000_threads', 'sizeOnDisk': 245760.0, 'empty': False}\n",
      "{'name': '30000_threads_cl_clagreement', 'sizeOnDisk': 389120.0, 'empty': False}\n",
      "{'name': '30000_threads_cl_claudience', 'sizeOnDisk': 421888.0, 'empty': False}\n",
      "{'name': '30000_threads_cl_clcontroversial', 'sizeOnDisk': 380928.0, 'empty': False}\n",
      "{'name': '30000_threads_cl_cldisagreement', 'sizeOnDisk': 434176.0, 'empty': False}\n",
      "{'name': '30000_threads_cl_clinformative', 'sizeOnDisk': 376832.0, 'empty': False}\n",
      "{'name': '30000_threads_cl_clmean', 'sizeOnDisk': 385024.0, 'empty': False}\n",
      "{'name': '30000_threads_cl_clpersuasive', 'sizeOnDisk': 417792.0, 'empty': False}\n",
      "{'name': '30000_threads_cl_clsentiment', 'sizeOnDisk': 409600.0, 'empty': False}\n",
      "{'name': '30000_threads_cl_cltopic', 'sizeOnDisk': 491520.0, 'empty': False}\n",
      "{'name': '30000_threads_last', 'sizeOnDisk': 315392.0, 'empty': False}\n",
      "{'name': '30000_threads_last_cl_clagreement', 'sizeOnDisk': 393216.0, 'empty': False}\n",
      "{'name': '30000_threads_last_cl_claudience', 'sizeOnDisk': 385024.0, 'empty': False}\n",
      "{'name': '30000_threads_last_cl_clcontroversial', 'sizeOnDisk': 385024.0, 'empty': False}\n",
      "{'name': '30000_threads_last_cl_cldisagreement', 'sizeOnDisk': 385024.0, 'empty': False}\n",
      "{'name': '30000_threads_last_cl_clinformative', 'sizeOnDisk': 385024.0, 'empty': False}\n",
      "{'name': '30000_threads_last_cl_clmean', 'sizeOnDisk': 389120.0, 'empty': False}\n",
      "{'name': '30000_threads_last_cl_clpersuasive', 'sizeOnDisk': 270336.0, 'empty': False}\n",
      "{'name': '30000_threads_last_cl_clsentiment', 'sizeOnDisk': 446464.0, 'empty': False}\n",
      "{'name': '30000_threads_last_cl_cltopic', 'sizeOnDisk': 368640.0, 'empty': False}\n",
      "{'name': '30000_threads_prev3', 'sizeOnDisk': 299008.0, 'empty': False}\n",
      "{'name': '30000_threads_prev3_cl_clagreement', 'sizeOnDisk': 253952.0, 'empty': False}\n",
      "{'name': '30000_threads_prev3_cl_claudience', 'sizeOnDisk': 253952.0, 'empty': False}\n",
      "{'name': '30000_threads_prev3_cl_clcontroversial', 'sizeOnDisk': 262144.0, 'empty': False}\n",
      "{'name': '30000_threads_prev3_cl_cldisagreement', 'sizeOnDisk': 262144.0, 'empty': False}\n",
      "{'name': '30000_threads_prev3_cl_clinformative', 'sizeOnDisk': 253952.0, 'empty': False}\n",
      "{'name': '30000_threads_prev3_cl_clmean', 'sizeOnDisk': 253952.0, 'empty': False}\n",
      "{'name': '30000_threads_prev3_cl_clpersuasive', 'sizeOnDisk': 253952.0, 'empty': False}\n",
      "{'name': '30000_threads_prev3_cl_clsentiment', 'sizeOnDisk': 262144.0, 'empty': False}\n",
      "{'name': '30000_threads_prev3_cl_cltopic', 'sizeOnDisk': 262144.0, 'empty': False}\n",
      "{'name': '30000_threads_prev6', 'sizeOnDisk': 278528.0, 'empty': False}\n",
      "{'name': '30000_threads_prev6_cl_clagreement', 'sizeOnDisk': 253952.0, 'empty': False}\n",
      "{'name': '30000_threads_prev6_cl_claudience', 'sizeOnDisk': 253952.0, 'empty': False}\n",
      "{'name': '30000_threads_prev6_cl_clcontroversial', 'sizeOnDisk': 262144.0, 'empty': False}\n",
      "{'name': '30000_threads_prev6_cl_cldisagreement', 'sizeOnDisk': 262144.0, 'empty': False}\n",
      "{'name': '30000_threads_prev6_cl_clinformative', 'sizeOnDisk': 253952.0, 'empty': False}\n",
      "{'name': '30000_threads_prev6_cl_clmean', 'sizeOnDisk': 262144.0, 'empty': False}\n",
      "{'name': '30000_threads_prev6_cl_clpersuasive', 'sizeOnDisk': 253952.0, 'empty': False}\n",
      "{'name': '30000_threads_prev6_cl_clsentiment', 'sizeOnDisk': 262144.0, 'empty': False}\n",
      "{'name': '30000_threads_prev6_cl_cltopic', 'sizeOnDisk': 262144.0, 'empty': False}\n",
      "{'name': '40000', 'sizeOnDisk': 385024.0, 'empty': False}\n",
      "{'name': '40000_cl_clagreement', 'sizeOnDisk': 253952.0, 'empty': False}\n",
      "{'name': '40000_cl_claudience', 'sizeOnDisk': 262144.0, 'empty': False}\n",
      "{'name': '40000_cl_clcontroversial', 'sizeOnDisk': 360448.0, 'empty': False}\n",
      "{'name': '40000_cl_cldisagreement', 'sizeOnDisk': 270336.0, 'empty': False}\n",
      "{'name': '40000_cl_clinformative', 'sizeOnDisk': 253952.0, 'empty': False}\n",
      "{'name': '40000_cl_clmean', 'sizeOnDisk': 253952.0, 'empty': False}\n",
      "{'name': '40000_cl_clpersuasive', 'sizeOnDisk': 253952.0, 'empty': False}\n",
      "{'name': '40000_cl_clsentiment', 'sizeOnDisk': 262144.0, 'empty': False}\n",
      "{'name': '40000_cl_cltopic', 'sizeOnDisk': 372736.0, 'empty': False}\n",
      "{'name': '40000_ner', 'sizeOnDisk': 360448.0, 'empty': False}\n",
      "{'name': '50000', 'sizeOnDisk': 360448.0, 'empty': False}\n",
      "{'name': '50000_cl_clagreement', 'sizeOnDisk': 253952.0, 'empty': False}\n",
      "{'name': '50000_cl_claudience', 'sizeOnDisk': 262144.0, 'empty': False}\n",
      "{'name': '50000_cl_clcontroversial', 'sizeOnDisk': 262144.0, 'empty': False}\n",
      "{'name': '50000_cl_cldisagreement', 'sizeOnDisk': 270336.0, 'empty': False}\n",
      "{'name': '50000_cl_clinformative', 'sizeOnDisk': 274432.0, 'empty': False}\n",
      "{'name': '50000_cl_clmean', 'sizeOnDisk': 270336.0, 'empty': False}\n",
      "{'name': '50000_cl_clpersuasive', 'sizeOnDisk': 253952.0, 'empty': False}\n",
      "{'name': '50000_cl_clsentiment', 'sizeOnDisk': 262144.0, 'empty': False}\n",
      "{'name': '50000_cl_cltopic', 'sizeOnDisk': 262144.0, 'empty': False}\n",
      "{'name': '50000_ner', 'sizeOnDisk': 360448.0, 'empty': False}\n",
      "{'name': '60000', 'sizeOnDisk': 262144.0, 'empty': False}\n",
      "{'name': '60000_cl_clagreement', 'sizeOnDisk': 253952.0, 'empty': False}\n",
      "{'name': '60000_cl_claudience', 'sizeOnDisk': 262144.0, 'empty': False}\n",
      "{'name': '60000_cl_clcontroversial', 'sizeOnDisk': 262144.0, 'empty': False}\n",
      "{'name': '60000_cl_cldisagreement', 'sizeOnDisk': 270336.0, 'empty': False}\n",
      "{'name': '60000_cl_clinformative', 'sizeOnDisk': 270336.0, 'empty': False}\n",
      "{'name': '60000_cl_clmean', 'sizeOnDisk': 270336.0, 'empty': False}\n",
      "{'name': '60000_cl_clpersuasive', 'sizeOnDisk': 253952.0, 'empty': False}\n",
      "{'name': '60000_cl_clsentiment', 'sizeOnDisk': 262144.0, 'empty': False}\n",
      "{'name': '60000_cl_cltopic', 'sizeOnDisk': 258048.0, 'empty': False}\n",
      "{'name': '60000_ner', 'sizeOnDisk': 253952.0, 'empty': False}\n",
      "{'name': '60000_threads', 'sizeOnDisk': 831488.0, 'empty': False}\n",
      "{'name': 'classify', 'sizeOnDisk': 249856.0, 'empty': False}\n",
      "{'name': 'dat_false_par_false_hea_false30000_cl_clagreement', 'sizeOnDisk': 458752.0, 'empty': False}\n",
      "{'name': 'dat_false_par_false_hea_false30000_cl_claudience', 'sizeOnDisk': 479232.0, 'empty': False}\n",
      "{'name': 'dat_false_par_false_hea_false30000_cl_clcontroversial', 'sizeOnDisk': 442368.0, 'empty': False}\n",
      "{'name': 'dat_false_par_false_hea_false30000_cl_cldisagreement', 'sizeOnDisk': 442368.0, 'empty': False}\n",
      "{'name': 'dat_false_par_false_hea_false30000_cl_clinformative', 'sizeOnDisk': 442368.0, 'empty': False}\n",
      "{'name': 'dat_false_par_false_hea_false30000_cl_clmean', 'sizeOnDisk': 458752.0, 'empty': False}\n",
      "{'name': 'dat_false_par_false_hea_false30000_cl_clpersuasive', 'sizeOnDisk': 462848.0, 'empty': False}\n",
      "{'name': 'dat_false_par_false_hea_false30000_cl_clsentiment', 'sizeOnDisk': 458752.0, 'empty': False}\n",
      "{'name': 'dat_false_par_false_hea_false30000_cl_cltopic', 'sizeOnDisk': 462848.0, 'empty': False}\n",
      "{'name': 'dat_false_par_false_hea_false_bysdid', 'sizeOnDisk': 131072.0, 'empty': False}\n",
      "{'name': 'dat_false_par_false_hea_false_bysdid30000', 'sizeOnDisk': 376832.0, 'empty': False}\n",
      "{'name': 'dat_false_par_false_hea_false_bysdid30000_cl_clagreement', 'sizeOnDisk': 253952.0, 'empty': False}\n",
      "{'name': 'dat_false_par_false_hea_false_bysdid30000_cl_claudience', 'sizeOnDisk': 262144.0, 'empty': False}\n",
      "{'name': 'dat_false_par_false_hea_false_bysdid30000_cl_clcontroversial', 'sizeOnDisk': 258048.0, 'empty': False}\n",
      "{'name': 'dat_false_par_false_hea_false_bysdid30000_cl_cldisagreement', 'sizeOnDisk': 262144.0, 'empty': False}\n",
      "{'name': 'dat_false_par_false_hea_false_bysdid30000_cl_clinformative', 'sizeOnDisk': 253952.0, 'empty': False}\n",
      "{'name': 'dat_false_par_false_hea_false_bysdid30000_cl_clmean', 'sizeOnDisk': 253952.0, 'empty': False}\n",
      "{'name': 'dat_false_par_false_hea_false_bysdid30000_cl_clpersuasive', 'sizeOnDisk': 253952.0, 'empty': False}\n",
      "{'name': 'dat_false_par_false_hea_false_bysdid30000_cl_clsentiment', 'sizeOnDisk': 262144.0, 'empty': False}\n",
      "{'name': 'dat_false_par_false_hea_false_bysdid30000_cl_cltopic', 'sizeOnDisk': 253952.0, 'empty': False}\n",
      "{'name': 'dat_false_par_false_hea_false_bysdid_sep30000', 'sizeOnDisk': 376832.0, 'empty': False}\n",
      "{'name': 'dat_false_par_false_hea_false_bysdid_sep30000_cl_clagreement', 'sizeOnDisk': 253952.0, 'empty': False}\n",
      "{'name': 'dat_false_par_false_hea_false_bysdid_sep30000_cl_claudience', 'sizeOnDisk': 253952.0, 'empty': False}\n",
      "{'name': 'dat_false_par_false_hea_false_bysdid_sep30000_cl_cldisagreement', 'sizeOnDisk': 262144.0, 'empty': False}\n",
      "{'name': 'dat_false_par_false_hea_false_bysdid_sep30000_cl_clinformative', 'sizeOnDisk': 253952.0, 'empty': False}\n",
      "{'name': 'dat_false_par_false_hea_false_bysdid_sep30000_cl_clmean', 'sizeOnDisk': 258048.0, 'empty': False}\n",
      "{'name': 'dat_false_par_false_hea_false_bysdid_sep30000_cl_clpersuasive', 'sizeOnDisk': 253952.0, 'empty': False}\n",
      "{'name': 'dat_false_par_false_hea_false_bysdid_sep30000_cl_clsentiment', 'sizeOnDisk': 262144.0, 'empty': False}\n",
      "{'name': 'dat_false_par_false_hea_false_bysdid_sep30000_cl_cltopic', 'sizeOnDisk': 397312.0, 'empty': False}\n",
      "{'name': 'dat_false_par_true_hea_false30000', 'sizeOnDisk': 286720.0, 'empty': False}\n",
      "{'name': 'dat_false_par_true_hea_false30000_cl_clagreement', 'sizeOnDisk': 286720.0, 'empty': False}\n",
      "{'name': 'dat_false_par_true_hea_false30000_cl_claudience', 'sizeOnDisk': 405504.0, 'empty': False}\n",
      "{'name': 'dat_false_par_true_hea_false30000_cl_clcontroversial', 'sizeOnDisk': 307200.0, 'empty': False}\n",
      "{'name': 'dat_false_par_true_hea_false30000_cl_cldisagreement', 'sizeOnDisk': 303104.0, 'empty': False}\n",
      "{'name': 'dat_false_par_true_hea_false30000_cl_clinformative', 'sizeOnDisk': 303104.0, 'empty': False}\n",
      "{'name': 'dat_false_par_true_hea_false30000_cl_clmean', 'sizeOnDisk': 307200.0, 'empty': False}\n",
      "{'name': 'dat_false_par_true_hea_false30000_cl_clpersuasive', 'sizeOnDisk': 397312.0, 'empty': False}\n",
      "{'name': 'dat_false_par_true_hea_false30000_cl_clsentiment', 'sizeOnDisk': 303104.0, 'empty': False}\n",
      "{'name': 'dat_false_par_true_hea_false30000_cl_cltopic', 'sizeOnDisk': 286720.0, 'empty': False}\n",
      "{'name': 'dat_true_par_true_hea_false30000', 'sizeOnDisk': 376832.0, 'empty': False}\n",
      "{'name': 'dat_true_par_true_hea_true30000', 'sizeOnDisk': 376832.0, 'empty': False}\n",
      "{'name': 'dat_true_par_true_hea_true30000_cl_cldisagreement', 'sizeOnDisk': 258048.0, 'empty': False}\n",
      "{'name': 'explm', 'sizeOnDisk': 253952.0, 'empty': False}\n",
      "{'name': 'germanlm', 'sizeOnDisk': 380928.0, 'empty': False}\n",
      "{'name': 'headline_root_threads_cl_clagreement', 'sizeOnDisk': 413696.0, 'empty': False}\n",
      "{'name': 'headline_root_threads_cl_claudience', 'sizeOnDisk': 417792.0, 'empty': False}\n",
      "{'name': 'headline_root_threads_cl_clcontroversial', 'sizeOnDisk': 339968.0, 'empty': False}\n",
      "{'name': 'headline_root_threads_cl_cldisagreement', 'sizeOnDisk': 389120.0, 'empty': False}\n",
      "{'name': 'headline_root_threads_cl_clinformative', 'sizeOnDisk': 389120.0, 'empty': False}\n",
      "{'name': 'headline_root_threads_cl_clmean', 'sizeOnDisk': 397312.0, 'empty': False}\n",
      "{'name': 'headline_root_threads_cl_clpersuasive', 'sizeOnDisk': 393216.0, 'empty': False}\n",
      "{'name': 'headline_root_threads_cl_clsentiment', 'sizeOnDisk': 385024.0, 'empty': False}\n",
      "{'name': 'headline_root_threads_cl_cltopic', 'sizeOnDisk': 372736.0, 'empty': False}\n",
      "{'name': 'headline_root_threads_no_over_cl_clagreement', 'sizeOnDisk': 221184.0, 'empty': False}\n",
      "{'name': 'headline_root_threads_no_over_cl_claudience', 'sizeOnDisk': 204800.0, 'empty': False}\n",
      "{'name': 'headline_root_threads_no_over_cl_clcontroversial', 'sizeOnDisk': 204800.0, 'empty': False}\n",
      "{'name': 'headline_root_threads_no_over_cl_cldisagreement', 'sizeOnDisk': 221184.0, 'empty': False}\n",
      "{'name': 'headline_root_threads_no_over_cl_clinformative', 'sizeOnDisk': 212992.0, 'empty': False}\n",
      "{'name': 'headline_root_threads_no_over_cl_clmean', 'sizeOnDisk': 221184.0, 'empty': False}\n",
      "{'name': 'headline_root_threads_no_over_cl_clpersuasive', 'sizeOnDisk': 221184.0, 'empty': False}\n",
      "{'name': 'headline_root_threads_no_over_cl_clsentiment', 'sizeOnDisk': 221184.0, 'empty': False}\n",
      "{'name': 'headline_root_threads_no_over_cl_cltopic', 'sizeOnDisk': 221184.0, 'empty': False}\n",
      "{'name': 'lm_threads_cl_clagreement', 'sizeOnDisk': 471040.0, 'empty': False}\n",
      "{'name': 'lm_threads_cl_claudience', 'sizeOnDisk': 450560.0, 'empty': False}\n",
      "{'name': 'lm_threads_cl_clcontroversial', 'sizeOnDisk': 454656.0, 'empty': False}\n",
      "{'name': 'lm_threads_cl_cldisagreement', 'sizeOnDisk': 520192.0, 'empty': False}\n",
      "{'name': 'lm_threads_cl_clinformative', 'sizeOnDisk': 450560.0, 'empty': False}\n",
      "{'name': 'lm_threads_cl_clmean', 'sizeOnDisk': 491520.0, 'empty': False}\n",
      "{'name': 'lm_threads_cl_clpersuasive', 'sizeOnDisk': 507904.0, 'empty': False}\n",
      "{'name': 'lm_threads_cl_clsentiment', 'sizeOnDisk': 466944.0, 'empty': False}\n",
      "{'name': 'lm_threads_cl_cltopic', 'sizeOnDisk': 643072.0, 'empty': False}\n",
      "{'name': 'lm_threads_cut_cl_clagreement', 'sizeOnDisk': 462848.0, 'empty': False}\n",
      "{'name': 'lm_threads_cut_cl_claudience', 'sizeOnDisk': 479232.0, 'empty': False}\n",
      "{'name': 'lm_threads_cut_cl_clcontroversial', 'sizeOnDisk': 438272.0, 'empty': False}\n",
      "{'name': 'lm_threads_cut_cl_cldisagreement', 'sizeOnDisk': 442368.0, 'empty': False}\n",
      "{'name': 'lm_threads_cut_cl_clinformative', 'sizeOnDisk': 471040.0, 'empty': False}\n",
      "{'name': 'lm_threads_cut_cl_clmean', 'sizeOnDisk': 450560.0, 'empty': False}\n",
      "{'name': 'lm_threads_cut_cl_clpersuasive', 'sizeOnDisk': 466944.0, 'empty': False}\n",
      "{'name': 'lm_threads_cut_cl_clsentiment', 'sizeOnDisk': 454656.0, 'empty': False}\n",
      "{'name': 'lm_threads_cut_cl_cltopic', 'sizeOnDisk': 475136.0, 'empty': False}\n",
      "{'name': 'local', 'sizeOnDisk': 73728.0, 'empty': False}\n",
      "{'name': 'only_threads_unlimited_30000_cl_clagreement', 'sizeOnDisk': 479232.0, 'empty': False}\n",
      "{'name': 'only_threads_unlimited_30000_cl_claudience', 'sizeOnDisk': 479232.0, 'empty': False}\n",
      "{'name': 'only_threads_unlimited_30000_cl_clcontroversial', 'sizeOnDisk': 458752.0, 'empty': False}\n",
      "{'name': 'only_threads_unlimited_30000_cl_cldisagreement', 'sizeOnDisk': 475136.0, 'empty': False}\n",
      "{'name': 'only_threads_unlimited_30000_cl_clinformative', 'sizeOnDisk': 483328.0, 'empty': False}\n",
      "{'name': 'only_threads_unlimited_30000_cl_clmean', 'sizeOnDisk': 475136.0, 'empty': False}\n",
      "{'name': 'only_threads_unlimited_30000_cl_clpersuasive', 'sizeOnDisk': 479232.0, 'empty': False}\n",
      "{'name': 'only_threads_unlimited_30000_cl_clsentiment', 'sizeOnDisk': 479232.0, 'empty': False}\n",
      "{'name': 'only_threads_unlimited_30000_cl_cltopic', 'sizeOnDisk': 483328.0, 'empty': False}\n",
      "{'name': 'only_threads_unlimited_30000_cl_prog_dev_claudience', 'sizeOnDisk': 487424.0, 'empty': False}\n",
      "{'name': 'only_threads_unlimited_30000_cutlm', 'sizeOnDisk': 245760.0, 'empty': False}\n",
      "{'name': 'only_threads_unlimited_30000lm', 'sizeOnDisk': 479232.0, 'empty': False}\n",
      "{'name': 're_exp_f0lm', 'sizeOnDisk': 253952.0, 'empty': False}\n",
      "{'name': 're_exp_f1lm', 'sizeOnDisk': 131072.0, 'empty': False}\n",
      "{'name': 're_exp_f_1400_0lm', 'sizeOnDisk': 200704.0, 'empty': False}\n",
      "{'name': 're_exp_f_600_0lm', 'sizeOnDisk': 385024.0, 'empty': False}\n",
      "{'name': 're_explm', 'sizeOnDisk': 393216.0, 'empty': False}\n",
      "{'name': 're_xplm', 'sizeOnDisk': 262144.0, 'empty': False}\n",
      "{'name': 'reddit_first_cl', 'sizeOnDisk': 561152.0, 'empty': False}\n",
      "{'name': 'sacred', 'sizeOnDisk': 46804992.0, 'empty': False}\n",
      "{'name': 'seclm', 'sizeOnDisk': 479232.0, 'empty': False}\n",
      "{'name': 'threads_constructive', 'sizeOnDisk': 434176.0, 'empty': False}\n",
      "{'name': 'threads_headline_article_cl_clagreement', 'sizeOnDisk': 450560.0, 'empty': False}\n",
      "{'name': 'threads_headline_article_cl_claudience', 'sizeOnDisk': 454656.0, 'empty': False}\n",
      "{'name': 'threads_headline_article_cl_clcontroversial', 'sizeOnDisk': 409600.0, 'empty': False}\n",
      "{'name': 'threads_headline_article_cl_cldisagreement', 'sizeOnDisk': 438272.0, 'empty': False}\n",
      "{'name': 'threads_headline_article_cl_clinformative', 'sizeOnDisk': 434176.0, 'empty': False}\n",
      "{'name': 'threads_headline_article_cl_clmean', 'sizeOnDisk': 442368.0, 'empty': False}\n",
      "{'name': 'threads_headline_article_cl_clpersuasive', 'sizeOnDisk': 421888.0, 'empty': False}\n",
      "{'name': 'threads_headline_article_cl_clsentiment', 'sizeOnDisk': 421888.0, 'empty': False}\n",
      "{'name': 'threads_headline_article_cl_cltopic', 'sizeOnDisk': 434176.0, 'empty': False}\n",
      "{'name': 'threads_headline_article_unlimited_30000_cutlm', 'sizeOnDisk': 425984.0, 'empty': False}\n",
      "{'name': 'threads_headline_article_unlimited_30lm', 'sizeOnDisk': 131072.0, 'empty': False}\n",
      "{'name': 'threads_headline_cl_cl', 'sizeOnDisk': 167936.0, 'empty': False}\n",
      "{'name': 'threads_headline_cl_clagreement', 'sizeOnDisk': 475136.0, 'empty': False}\n",
      "{'name': 'threads_headline_cl_claudience', 'sizeOnDisk': 442368.0, 'empty': False}\n",
      "{'name': 'threads_headline_cl_clcontroversial', 'sizeOnDisk': 430080.0, 'empty': False}\n",
      "{'name': 'threads_headline_cl_cldisagreement', 'sizeOnDisk': 450560.0, 'empty': False}\n",
      "{'name': 'threads_headline_cl_clinformative', 'sizeOnDisk': 458752.0, 'empty': False}\n",
      "{'name': 'threads_headline_cl_clmean', 'sizeOnDisk': 446464.0, 'empty': False}\n",
      "{'name': 'threads_headline_cl_clpersuasive', 'sizeOnDisk': 479232.0, 'empty': False}\n",
      "{'name': 'threads_headline_cl_clsentiment', 'sizeOnDisk': 466944.0, 'empty': False}\n",
      "{'name': 'threads_headline_cl_cltopic', 'sizeOnDisk': 442368.0, 'empty': False}\n",
      "{'name': 'threads_headline_unlimited_30000_cutlm', 'sizeOnDisk': 352256.0, 'empty': False}\n",
      "{'name': 'threads_headline_unlimited_30000lm', 'sizeOnDisk': 131072.0, 'empty': False}\n",
      "{'name': 'threads_root_headine_unlimited_30000_cutlm', 'sizeOnDisk': 131072.0, 'empty': False}\n",
      "{'name': 'threads_root_headline_unlimited_30000_cutlm', 'sizeOnDisk': 352256.0, 'empty': False}\n"
     ]
    }
   ],
   "source": [
    "# print all available databases\n",
    "client = pymongo.MongoClient('localhost', 27017)\n",
    "cursor = client.list_databases()\n",
    "for db in cursor:\n",
    "    print(db)"
   ]
  },
  {
   "cell_type": "code",
   "execution_count": 3,
   "metadata": {
    "ExecuteTime": {
     "end_time": "2019-02-26T20:57:05.988233Z",
     "start_time": "2019-02-26T20:57:05.982289Z"
    }
   },
   "outputs": [],
   "source": [
    "all_cols =  ['claudience', 'clpersuasive', 'clsentiment', 'clagreement', 'cldisagreement', 'clinformative', 'clmean', 'clcontroversial', 'cltopic']"
   ]
  },
  {
   "cell_type": "code",
   "execution_count": 4,
   "metadata": {
    "ExecuteTime": {
     "end_time": "2019-02-26T20:57:06.018508Z",
     "start_time": "2019-02-26T20:57:05.992252Z"
    }
   },
   "outputs": [],
   "source": [
    "def get_mets(db, conf=None):\n",
    "    mydb = client[db]\n",
    "    res = mydb[\"metrics\"].aggregate([{\n",
    "        \"$match\": {\"name\": 'kappa_score'}  # only consider metric\n",
    "    },\n",
    "        {\"$unwind\": \"$values\"},\n",
    "        {\"$group\":\n",
    "         {'_id': '$_id',\n",
    "          'val': {'$max': \"$values\"}, 'run_id' : { '$first': '$run_id' }}\n",
    "         },  # find min values\n",
    "        {\"$sort\": {\"val\": -1}}  # sort\n",
    "    ])\n",
    "    \n",
    "    if not conf is None:\n",
    "        runs = mydb['runs'].find(conf)\n",
    "        runs  = [r['_id'] for r in list(runs)]\n",
    "        res = [r for r in res if r['run_id'] in runs]\n",
    "\n",
    "    best = list(res)[0]\n",
    "\n",
    "    epoch = None\n",
    "    max_epochs = 0\n",
    "\n",
    "    for x in mydb['metrics'].find({'run_id': best['run_id'], 'name': 'kappa_score'}):\n",
    "        max_epochs = len(x['values'])\n",
    "        for i, v in enumerate(x['values']):\n",
    "            if v == best['val'] and epoch is None:\n",
    "                epoch = i + 1\n",
    "\n",
    "    for x in mydb['metrics'].find({'run_id': best['run_id'], 'name': 'F1_macro'}):\n",
    "        f1_macro = x['values'][epoch - 1]\n",
    "\n",
    "    for x in mydb['metrics'].find({'run_id': best['run_id'], 'name': 'accuracy'}):\n",
    "        f1_micro = x['values'][epoch - 1]\n",
    "    \n",
    "    run = list(mydb['runs'].find({'_id': best['run_id']}))[0]\n",
    "        \n",
    "    mod = ''\n",
    "    if 'mod' in  run['config']:\n",
    "        mod= run['config']['mod']\n",
    "        \n",
    "    return best['val'], f1_micro, f1_macro, epoch, max_epochs, run['config']['exp_id'], run['config']['drop_mult'], mod"
   ]
  },
  {
   "cell_type": "code",
   "execution_count": 5,
   "metadata": {
    "ExecuteTime": {
     "end_time": "2019-02-26T20:57:06.063058Z",
     "start_time": "2019-02-26T20:57:06.021019Z"
    }
   },
   "outputs": [
    {
     "data": {
      "text/plain": [
       "(0.44218260049819946,\n",
       " 0.7632933259010315,\n",
       " 0.7209945900957136,\n",
       " 40,\n",
       " 52,\n",
       " '2019_ 1_27_20_53_08_545796',\n",
       " 1,\n",
       " '')"
      ]
     },
     "execution_count": 5,
     "metadata": {},
     "output_type": "execute_result"
    }
   ],
   "source": [
    "get_mets('lm_threads_cl_cltopic')"
   ]
  },
  {
   "cell_type": "code",
   "execution_count": 6,
   "metadata": {
    "ExecuteTime": {
     "end_time": "2019-02-26T20:57:06.071861Z",
     "start_time": "2019-02-26T20:57:06.066083Z"
    }
   },
   "outputs": [],
   "source": [
    "def get_all(db, **kwargs):\n",
    "    for col in all_cols:\n",
    "        print(col)\n",
    "        print(get_mets(db + col, **kwargs))"
   ]
  },
  {
   "cell_type": "code",
   "execution_count": 7,
   "metadata": {
    "ExecuteTime": {
     "end_time": "2019-02-25T13:59:35.443891Z",
     "start_time": "2019-02-25T13:59:35.328191Z"
    }
   },
   "outputs": [
    {
     "name": "stdout",
     "output_type": "stream",
     "text": [
      "claudience\n",
      "(0.5690997838973999, 0.8278829455375671, 0.7772512575144154, 22, 43, '2019_ 1_29_23_51_17_179985', 0.8, 'simle_fit')\n",
      "clpersuasive\n",
      "(0.34844154119491577, 0.8456260561943054, 0.6740183896620278, 120, 141, '2019_ 1_29_22_56_40_420538', 1.0, 'simle_fit')\n",
      "clsentiment\n",
      "(0.32171106338500977, 0.6159169673919678, 0.42018169515097575, 39, 60, '2019_ 1_30_02_18_08_573913', 0.8, 'simle_fit')\n",
      "clagreement\n",
      "(0.4948951005935669, 0.9125214219093323, 0.7460996541565261, 55, 76, '2019_ 1_30_03_45_35_481969', 0.8, 'simle_fit')\n",
      "cldisagreement\n",
      "(0.5476285219192505, 0.7821612358093262, 0.7738135606164749, 45, 66, '2019_ 1_30_05_36_50_858836', 0.8, 'simle_fit')\n",
      "clinformative\n",
      "(0.3481070399284363, 0.843910813331604, 0.67211767250703, 39, 60, '2019_ 1_30_07_13_44_296713', 0.8, 'simle_fit')\n",
      "clmean\n",
      "(0.45336586236953735, 0.8404802680015564, 0.7247836349331235, 27, 48, '2019_ 1_30_08_40_58_145853', 0.8, 'simle_fit')\n",
      "clcontroversial\n",
      "(0.34643083810806274, 0.7255574464797974, 0.6723154315262907, 24, 45, '2019_ 1_30_09_48_11_000563', 0.8, 'simle_fit')\n",
      "cltopic\n",
      "(0.42665547132492065, 0.7632933259010315, 0.7125246548323472, 20, 41, '2019_ 1_30_14_59_36_022246', 1.0, 'simle_fit')\n"
     ]
    }
   ],
   "source": [
    "get_all('lm_threads_cl_', conf={'config.mod': 'simle_fit'})"
   ]
  },
  {
   "cell_type": "code",
   "execution_count": 8,
   "metadata": {
    "ExecuteTime": {
     "end_time": "2019-02-25T13:59:35.571622Z",
     "start_time": "2019-02-25T13:59:35.450009Z"
    }
   },
   "outputs": [
    {
     "name": "stdout",
     "output_type": "stream",
     "text": [
      "claudience\n",
      "(0.6009355783462524, 0.8364887833595276, 0.7963261585921615, 63, 84, '2019_ 2_01_17_37_08_103558', 1.2, 'simple_fit')\n",
      "clpersuasive\n",
      "(0.40735119581222534, 0.8473413586616516, 0.703592626233198, 53, 74, '2019_ 1_29_20_41_55_980599', 1, 'simple_fit')\n",
      "clsentiment\n",
      "(0.3614158630371094, 0.6470588445663452, 0.40863006396588486, 64, 85, '2019_ 2_05_17_42_04_600587', 1.3, 'simple_fit')\n",
      "clagreement\n",
      "(0.5264347791671753, 0.9210977554321289, 0.7613207547169811, 40, 61, '2019_ 1_30_21_52_02_248101', 1.1, 'simple_fit')\n",
      "cldisagreement\n",
      "(0.5722670555114746, 0.7941681146621704, 0.7861335289801907, 25, 46, '2019_ 1_30_01_20_48_014374', 1, 'simple_fit')\n",
      "clinformative\n",
      "(0.39166170358657837, 0.8473413586616516, 0.6950424637808927, 75, 96, '2019_ 1_31_00_23_03_377347', 1.1, 'simple_fit')\n",
      "clmean\n",
      "(0.45350390672683716, 0.8147512674331665, 0.7266333229134104, 82, 103, '2019_ 1_31_13_33_26_202644', 1.2, 'simple_fit')\n",
      "clcontroversial\n",
      "(0.3601683974266052, 0.728987991809845, 0.6795455177980018, 45, 66, '2019_ 2_06_03_20_54_029819', 1.3, 'simple_fit')\n",
      "cltopic\n",
      "(0.4445362091064453, 0.7547169923782349, 0.7220004735085315, 51, 72, '2019_ 2_06_04_58_09_289376', 1.3, 'simple_fit')\n"
     ]
    }
   ],
   "source": [
    "get_all('lm_threads_cut_cl_', conf={'config.mod': 'simple_fit'})"
   ]
  },
  {
   "cell_type": "code",
   "execution_count": 9,
   "metadata": {
    "ExecuteTime": {
     "end_time": "2019-02-25T13:59:35.638185Z",
     "start_time": "2019-02-25T13:59:35.589295Z"
    }
   },
   "outputs": [
    {
     "name": "stdout",
     "output_type": "stream",
     "text": [
      "claudience\n",
      "(0.5690997838973999, 0.8278829455375671, 0.7772512575144154, 22, 43, '2019_ 1_29_23_51_17_179985', 0.8, 'simle_fit')\n",
      "clpersuasive\n",
      "(0.34844154119491577, 0.8456260561943054, 0.6740183896620278, 120, 141, '2019_ 1_29_22_56_40_420538', 1.0, 'simle_fit')\n",
      "clsentiment\n",
      "(0.32171106338500977, 0.6159169673919678, 0.42018169515097575, 39, 60, '2019_ 1_30_02_18_08_573913', 0.8, 'simle_fit')\n",
      "clagreement\n",
      "(0.4948951005935669, 0.9125214219093323, 0.7460996541565261, 55, 76, '2019_ 1_30_03_45_35_481969', 0.8, 'simle_fit')\n",
      "cldisagreement\n",
      "(0.5657382011413574, 0.7907375693321228, 0.7828664582621012, 46, 53, '2019_ 1_29_02_28_53_082834', 0.9, '')\n",
      "clinformative\n",
      "(0.3481070399284363, 0.843910813331604, 0.67211767250703, 39, 60, '2019_ 1_30_07_13_44_296713', 0.8, 'simle_fit')\n",
      "clmean\n",
      "(0.45336586236953735, 0.8404802680015564, 0.7247836349331235, 27, 48, '2019_ 1_30_08_40_58_145853', 0.8, 'simle_fit')\n",
      "clcontroversial\n",
      "(0.3548339009284973, 0.7066895365715027, 0.6765367206891517, 19, 32, '2019_ 1_28_06_36_07_546016', 0.9, '')\n",
      "cltopic\n",
      "(0.44218260049819946, 0.7632933259010315, 0.7209945900957136, 40, 52, '2019_ 1_27_20_53_08_545796', 1, '')\n"
     ]
    }
   ],
   "source": [
    "get_all('lm_threads_cl_')"
   ]
  },
  {
   "cell_type": "code",
   "execution_count": 10,
   "metadata": {
    "ExecuteTime": {
     "end_time": "2019-02-25T13:59:35.776433Z",
     "start_time": "2019-02-25T13:59:35.727877Z"
    }
   },
   "outputs": [
    {
     "name": "stdout",
     "output_type": "stream",
     "text": [
      "claudience\n",
      "(0.6009355783462524, 0.8364887833595276, 0.7963261585921615, 63, 84, '2019_ 2_01_17_37_08_103558', 1.2, 'simple_fit')\n",
      "clpersuasive\n",
      "(0.40735119581222534, 0.8473413586616516, 0.703592626233198, 53, 74, '2019_ 1_29_20_41_55_980599', 1, 'simple_fit')\n",
      "clsentiment\n",
      "(0.3614158630371094, 0.6470588445663452, 0.40863006396588486, 64, 85, '2019_ 2_05_17_42_04_600587', 1.3, 'simple_fit')\n",
      "clagreement\n",
      "(0.5264347791671753, 0.9210977554321289, 0.7613207547169811, 40, 61, '2019_ 1_30_21_52_02_248101', 1.1, 'simple_fit')\n",
      "cldisagreement\n",
      "(0.5722670555114746, 0.7941681146621704, 0.7861335289801907, 25, 46, '2019_ 1_30_01_20_48_014374', 1, 'simple_fit')\n",
      "clinformative\n",
      "(0.39166170358657837, 0.8473413586616516, 0.6950424637808927, 75, 96, '2019_ 1_31_00_23_03_377347', 1.1, 'simple_fit')\n",
      "clmean\n",
      "(0.45350390672683716, 0.8147512674331665, 0.7266333229134104, 82, 103, '2019_ 1_31_13_33_26_202644', 1.2, 'simple_fit')\n",
      "clcontroversial\n",
      "(0.3601683974266052, 0.728987991809845, 0.6795455177980018, 45, 66, '2019_ 2_06_03_20_54_029819', 1.3, 'simple_fit')\n",
      "cltopic\n",
      "(0.4445362091064453, 0.7547169923782349, 0.7220004735085315, 51, 72, '2019_ 2_06_04_58_09_289376', 1.3, 'simple_fit')\n"
     ]
    }
   ],
   "source": [
    "get_all('lm_threads_cut_cl_')"
   ]
  },
  {
   "cell_type": "code",
   "execution_count": 11,
   "metadata": {
    "ExecuteTime": {
     "end_time": "2019-02-25T13:59:35.961752Z",
     "start_time": "2019-02-25T13:59:35.876300Z"
    }
   },
   "outputs": [
    {
     "name": "stdout",
     "output_type": "stream",
     "text": [
      "claudience\n",
      "(0.6008878946304321, 0.8399311304092407, 0.7941482370421167, 40, 61, '2019_ 2_07_13_00_37_295654', 1.2, 'simple_fit')\n",
      "clpersuasive\n",
      "(0.3780103325843811, 0.8473413586616516, 0.688988389587192, 85, 106, '2019_ 2_09_17_52_21_077774', 1.3, 'simple_fit')\n",
      "clsentiment\n",
      "(0.318831205368042, 0.6038062572479248, 0.40958570678427597, 50, 71, '2019_ 2_07_15_37_11_457239', 1.2, 'simple_fit')\n",
      "clagreement\n",
      "(0.5264347791671753, 0.9210977554321289, 0.7613207547169811, 54, 75, '2019_ 2_07_17_16_37_999916', 1.2, 'simple_fit')\n",
      "cldisagreement\n",
      "(0.5678068399429321, 0.7924528121948242, 0.7838974613473515, 41, 62, '2019_ 2_19_21_52_21_475283', 1.1, 'simple_fit')\n",
      "clinformative\n",
      "(0.39213693141937256, 0.8593481779098511, 0.6932523997741389, 32, 53, '2019_ 2_19_22_30_15_247649', 1.0, 'simple_fit')\n",
      "clmean\n",
      "(0.5002095699310303, 0.8456260561943054, 0.7496278057718735, 41, 62, '2019_ 2_19_23_54_34_673133', 1.0, 'simple_fit')\n",
      "clcontroversial\n",
      "(0.36971259117126465, 0.7272727489471436, 0.6848037865573136, 15, 36, '2019_ 2_08_16_12_32_547323', 1.2, 'simple_fit')\n",
      "cltopic\n",
      "(0.40778064727783203, 0.7581475377082825, 0.7025779257195579, 59, 80, '2019_ 2_20_03_38_41_753388', 1.0, 'simple_fit')\n"
     ]
    }
   ],
   "source": [
    "# the first audiance is not correct because it was run on wrong data, so better check again!\n",
    "get_all('threads_headline_cl_')"
   ]
  },
  {
   "cell_type": "code",
   "execution_count": 12,
   "metadata": {
    "ExecuteTime": {
     "end_time": "2019-02-25T13:59:36.101184Z",
     "start_time": "2019-02-25T13:59:36.019076Z"
    }
   },
   "outputs": [
    {
     "name": "stdout",
     "output_type": "stream",
     "text": [
      "claudience\n",
      "(0.5837217569351196, 0.8330464959144592, 0.7852943977751109, 41, 62, '2019_ 2_14_11_45_40_468691', 1.3, 'simple_fit')\n",
      "clpersuasive\n",
      "(0.3036462664604187, 0.8113207817077637, 0.6512095896967324, 32, 53, '2019_ 2_16_14_30_08_504370', 1.1, 'simple_fit')\n",
      "clsentiment\n",
      "(0.32407450675964355, 0.6089965105056763, 0.42122653355484513, 51, 72, '2019_ 2_16_18_41_49_371875', 1.2, 'simple_fit')\n",
      "clagreement\n",
      "(0.4669921398162842, 0.9090909361839294, 0.7318097784104224, 65, 86, '2019_ 2_16_21_40_28_972048', 1.2, 'simple_fit')\n",
      "cldisagreement\n",
      "(0.5134850740432739, 0.7632933259010315, 0.7565541031227306, 102, 123, '2019_ 2_15_06_31_53_152954', 1.3, 'simple_fit')\n",
      "clinformative\n",
      "(0.3340609073638916, 0.8267581462860107, 0.6667119480622393, 52, 73, '2019_ 2_17_01_33_55_340111', 1.1, 'simple_fit')\n",
      "clmean\n",
      "(0.45505446195602417, 0.8267581462860107, 0.7273745861981156, 87, 108, '2019_ 2_19_01_24_18_664466', 1.2, 'simple_fit')\n",
      "clcontroversial\n",
      "(0.3809050917625427, 0.739279568195343, 0.689719887955182, 17, 38, '2019_ 2_19_05_46_07_727052', 1.2, 'simple_fit')\n",
      "cltopic\n",
      "(0.42313718795776367, 0.7530016899108887, 0.7115527335697203, 59, 80, '2019_ 2_19_07_14_59_913378', 1.2, 'simple_fit')\n"
     ]
    }
   ],
   "source": [
    "get_all('threads_headline_article_cl_')"
   ]
  },
  {
   "cell_type": "code",
   "execution_count": 13,
   "metadata": {
    "ExecuteTime": {
     "end_time": "2019-02-25T13:59:36.234771Z",
     "start_time": "2019-02-25T13:59:36.146194Z"
    }
   },
   "outputs": [
    {
     "name": "stdout",
     "output_type": "stream",
     "text": [
      "claudience\n",
      "(0.5960416793823242, 0.826161801815033, 0.7970646110644243, 58, 79, '2019_ 2_15_21_48_12_538092', 1.1, 'simple_fit')\n",
      "clpersuasive\n",
      "(0.4427451491355896, 0.8713550567626953, 0.7209725279984686, 44, 65, '2019_ 2_16_18_44_40_802093', 1.2, 'simple_fit')\n",
      "clsentiment\n",
      "(0.3285176753997803, 0.6107266545295715, 0.41123962765207106, 74, 95, '2019_ 2_15_14_17_26_051079', 1.2, 'simple_fit')\n",
      "clagreement\n",
      "(0.5290092825889587, 0.9159519672393799, 0.7636453894841353, 116, 137, '2019_ 2_19_21_00_07_972344', 1.3, 'simple_fit')\n",
      "cldisagreement\n",
      "(0.5541368722915649, 0.7855917811393738, 0.7770677255248659, 49, 70, '2019_ 2_16_05_17_50_166639', 1.1, 'simple_fit')\n",
      "clinformative\n",
      "(0.3819933533668518, 0.8456260561943054, 0.6901133947554925, 31, 52, '2019_ 2_16_06_58_57_065647', 1.1, 'simple_fit')\n",
      "clmean\n",
      "(0.4779966473579407, 0.838765025138855, 0.738500152695068, 28, 49, '2019_ 2_19_00_10_28_080602', 0.9, 'simple_fit')\n",
      "clcontroversial\n",
      "(0.37279385328292847, 0.728987991809845, 0.6863285932221859, 13, 34, '2019_ 2_15_06_03_09_957173', 1.0, 'simple_fit')\n",
      "cltopic\n",
      "(0.48174339532852173, 0.7701543569564819, 0.7405274345688854, 25, 46, '2019_ 2_18_16_15_55_695376', 0.9, 'simple_fit')\n"
     ]
    }
   ],
   "source": [
    "get_all('headline_root_threads_cl_')"
   ]
  },
  {
   "cell_type": "code",
   "execution_count": 14,
   "metadata": {
    "ExecuteTime": {
     "end_time": "2019-02-25T13:59:36.364667Z",
     "start_time": "2019-02-25T13:59:36.300851Z"
    }
   },
   "outputs": [
    {
     "name": "stdout",
     "output_type": "stream",
     "text": [
      "claudience\n",
      "(0.558082640171051, 0.824440598487854, 0.7708352668213456, 22, 43, '2019_ 2_18_18_06_01_350738', 0.9, 'simple_fit')\n",
      "clpersuasive\n",
      "(0.31206053495407104, 0.8353344798088074, 0.6558949387634647, 49, 70, '2019_ 2_18_19_09_08_264497', 0.9, 'simple_fit')\n",
      "clsentiment\n",
      "(0.28415054082870483, 0.6038062572479248, 0.38467205501397067, 24, 45, '2019_ 2_18_20_52_38_196497', 0.9, 'simple_fit')\n",
      "clagreement\n",
      "(0.4440755844116211, 0.9073756337165833, 0.719811320754717, 59, 80, '2019_ 2_18_21_58_27_422204', 0.9, 'simple_fit')\n",
      "cldisagreement\n",
      "(0.5378996729850769, 0.7770154476165771, 0.7689385624740861, 20, 41, '2019_ 2_18_23_57_12_219262', 0.9, 'simple_fit')\n",
      "clinformative\n",
      "(0.3001561760902405, 0.8404802680015564, 0.6462401722506769, 17, 38, '2019_ 2_19_00_56_42_643245', 0.9, 'simple_fit')\n",
      "clmean\n",
      "(0.4645414352416992, 0.8233276009559631, 0.7322695272617026, 24, 45, '2019_ 2_19_01_52_37_215603', 0.9, 'simple_fit')\n",
      "clcontroversial\n",
      "(0.3557744026184082, 0.7255574464797974, 0.6775264118590629, 9, 30, '2019_ 2_19_02_54_45_566390', 0.9, 'simple_fit')\n",
      "cltopic\n",
      "(0.45489513874053955, 0.775300145149231, 0.7266271257422872, 33, 54, '2019_ 2_19_03_34_45_063604', 0.9, 'simple_fit')\n"
     ]
    }
   ],
   "source": [
    "get_all('headline_root_threads_no_over_cl_')"
   ]
  },
  {
   "cell_type": "code",
   "execution_count": 15,
   "metadata": {
    "ExecuteTime": {
     "end_time": "2019-02-25T13:59:36.521874Z",
     "start_time": "2019-02-25T13:59:36.440253Z"
    }
   },
   "outputs": [
    {
     "name": "stdout",
     "output_type": "stream",
     "text": [
      "claudience\n",
      "(0.5918749570846558, 0.8347676396369934, 0.7905299843768778, 44, 65, '2019_ 2_22_12_33_53_919038', 0.8, '')\n",
      "clpersuasive\n",
      "(0.3704584240913391, 0.8301886916160583, 0.6847323198942499, 88, 109, '2019_ 2_22_14_08_11_910835', 0.9, '')\n",
      "clsentiment\n",
      "(0.322735071182251, 0.6280276775360107, 0.44814216067070645, 35, 56, '2019_ 2_22_14_12_51_580715', 0.8, '')\n",
      "clagreement\n",
      "(0.4012119770050049, 0.8970840573310852, 0.6988636363636364, 28, 49, '2019_ 2_23_01_15_49_259348', 1.0, '')\n",
      "cldisagreement\n",
      "(0.5461447238922119, 0.7787306904792786, 0.7728248951074299, 74, 95, '2019_ 2_22_22_17_53_610249', 0.8, '')\n",
      "clinformative\n",
      "(0.3440946936607361, 0.8421955108642578, 0.6702326496483203, 82, 103, '2019_ 2_22_23_49_46_233061', 0.8, '')\n",
      "clmean\n",
      "(0.4895244240760803, 0.833619236946106, 0.74475182010625, 65, 86, '2019_ 2_23_01_27_11_345391', 0.8, '')\n",
      "clcontroversial\n",
      "(0.34311848878860474, 0.6809605360031128, 0.6650667160859896, 25, 46, '2019_ 2_23_01_52_17_601046', 0.9, '')\n",
      "cltopic\n",
      "(0.2864335775375366, 0.698113203048706, 0.6430380451420779, 21, 42, '2019_ 2_23_02_32_41_291261', 0.9, '')\n"
     ]
    }
   ],
   "source": [
    "get_all('dat_false_par_true_hea_false30000_cl_')"
   ]
  },
  {
   "cell_type": "code",
   "execution_count": 16,
   "metadata": {
    "ExecuteTime": {
     "end_time": "2019-02-25T13:59:36.725094Z",
     "start_time": "2019-02-25T13:59:36.588937Z"
    }
   },
   "outputs": [
    {
     "name": "stdout",
     "output_type": "stream",
     "text": [
      "claudience\n"
     ]
    },
    {
     "ename": "IndexError",
     "evalue": "list index out of range",
     "output_type": "error",
     "traceback": [
      "\u001b[0;31m---------------------------------------------------------------------------\u001b[0m",
      "\u001b[0;31mIndexError\u001b[0m                                Traceback (most recent call last)",
      "\u001b[0;32m<ipython-input-16-3135d45b7228>\u001b[0m in \u001b[0;36m<module>\u001b[0;34m\u001b[0m\n\u001b[0;32m----> 1\u001b[0;31m \u001b[0mget_all\u001b[0m\u001b[0;34m(\u001b[0m\u001b[0;34m'threads_constructive'\u001b[0m\u001b[0;34m)\u001b[0m\u001b[0;34m\u001b[0m\u001b[0;34m\u001b[0m\u001b[0m\n\u001b[0m",
      "\u001b[0;32m<ipython-input-6-91515de774f3>\u001b[0m in \u001b[0;36mget_all\u001b[0;34m(db, **kwargs)\u001b[0m\n\u001b[1;32m      2\u001b[0m     \u001b[0;32mfor\u001b[0m \u001b[0mcol\u001b[0m \u001b[0;32min\u001b[0m \u001b[0mall_cols\u001b[0m\u001b[0;34m:\u001b[0m\u001b[0;34m\u001b[0m\u001b[0;34m\u001b[0m\u001b[0m\n\u001b[1;32m      3\u001b[0m         \u001b[0mprint\u001b[0m\u001b[0;34m(\u001b[0m\u001b[0mcol\u001b[0m\u001b[0;34m)\u001b[0m\u001b[0;34m\u001b[0m\u001b[0;34m\u001b[0m\u001b[0m\n\u001b[0;32m----> 4\u001b[0;31m         \u001b[0mprint\u001b[0m\u001b[0;34m(\u001b[0m\u001b[0mget_mets\u001b[0m\u001b[0;34m(\u001b[0m\u001b[0mdb\u001b[0m \u001b[0;34m+\u001b[0m \u001b[0mcol\u001b[0m\u001b[0;34m,\u001b[0m \u001b[0;34m**\u001b[0m\u001b[0mkwargs\u001b[0m\u001b[0;34m)\u001b[0m\u001b[0;34m)\u001b[0m\u001b[0;34m\u001b[0m\u001b[0;34m\u001b[0m\u001b[0m\n\u001b[0m",
      "\u001b[0;32m<ipython-input-4-a577aeefc997>\u001b[0m in \u001b[0;36mget_mets\u001b[0;34m(db, conf)\u001b[0m\n\u001b[1;32m     17\u001b[0m         \u001b[0mres\u001b[0m \u001b[0;34m=\u001b[0m \u001b[0;34m[\u001b[0m\u001b[0mr\u001b[0m \u001b[0;32mfor\u001b[0m \u001b[0mr\u001b[0m \u001b[0;32min\u001b[0m \u001b[0mres\u001b[0m \u001b[0;32mif\u001b[0m \u001b[0mr\u001b[0m\u001b[0;34m[\u001b[0m\u001b[0;34m'run_id'\u001b[0m\u001b[0;34m]\u001b[0m \u001b[0;32min\u001b[0m \u001b[0mruns\u001b[0m\u001b[0;34m]\u001b[0m\u001b[0;34m\u001b[0m\u001b[0;34m\u001b[0m\u001b[0m\n\u001b[1;32m     18\u001b[0m \u001b[0;34m\u001b[0m\u001b[0m\n\u001b[0;32m---> 19\u001b[0;31m     \u001b[0mbest\u001b[0m \u001b[0;34m=\u001b[0m \u001b[0mlist\u001b[0m\u001b[0;34m(\u001b[0m\u001b[0mres\u001b[0m\u001b[0;34m)\u001b[0m\u001b[0;34m[\u001b[0m\u001b[0;36m0\u001b[0m\u001b[0;34m]\u001b[0m\u001b[0;34m\u001b[0m\u001b[0;34m\u001b[0m\u001b[0m\n\u001b[0m\u001b[1;32m     20\u001b[0m \u001b[0;34m\u001b[0m\u001b[0m\n\u001b[1;32m     21\u001b[0m     \u001b[0mepoch\u001b[0m \u001b[0;34m=\u001b[0m \u001b[0;32mNone\u001b[0m\u001b[0;34m\u001b[0m\u001b[0;34m\u001b[0m\u001b[0m\n",
      "\u001b[0;31mIndexError\u001b[0m: list index out of range"
     ]
    }
   ],
   "source": [
    "get_all('threads_constructive')"
   ]
  },
  {
   "cell_type": "code",
   "execution_count": null,
   "metadata": {
    "ExecuteTime": {
     "end_time": "2019-02-25T13:59:36.727796Z",
     "start_time": "2019-02-25T13:59:36.705Z"
    }
   },
   "outputs": [],
   "source": [
    "for r in reas:\n",
    "    print(r)"
   ]
  },
  {
   "cell_type": "code",
   "execution_count": 17,
   "metadata": {
    "ExecuteTime": {
     "end_time": "2019-02-25T13:59:36.889342Z",
     "start_time": "2019-02-25T13:59:36.857623Z"
    }
   },
   "outputs": [],
   "source": [
    "def get_best(db, metric, config_param=None, config_val=None, config_param2=None, config_val2=None, one=True):\n",
    "    myclient = pymongo.MongoClient(\"mongodb://localhost:27017/\")\n",
    "    mydb = myclient[db]\n",
    "    res = mydb[\"metrics\"].aggregate([{\n",
    "        \"$match\": {\"name\": metric}  # only consider metric\n",
    "    },\n",
    "        {\"$unwind\": \"$values\"},\n",
    "        {\"$group\":\n",
    "         {'_id': '$_id',\n",
    "          'val': {'$max': \"$values\"}, 'run_id' : { '$first': '$run_id' }}\n",
    "         },  # find min values\n",
    "        {\"$sort\": {\"val\": -1}}  # sort\n",
    "    ])\n",
    "    \n",
    "    if config_param is None:\n",
    "        if one:\n",
    "            return list(res)[0]['val']\n",
    "        return [x['val'] for x in list(res)]\n",
    "    \n",
    "    filtered_res = []\n",
    "#   filter only results for the config\n",
    "    for res_obj in res:\n",
    "        run = list(mydb['runs'].find({'_id': res_obj['run_id']}))[0]\n",
    "        if config_param in run['config']:\n",
    "            if run['config'][config_param] == config_val:\n",
    "                if config_param2 is None:\n",
    "                    filtered_res.append(res_obj)\n",
    "                else:\n",
    "                    if not config_param2 in run['config']:\n",
    "                        continue\n",
    "#                     print(run['config'][config_param2])\n",
    "                    if run['config'][config_param2] == config_val2:\n",
    "#                         print('yes')\n",
    "                        filtered_res.append(res_obj)\n",
    "        else:\n",
    "            pass\n",
    "#             print('NB: just used run without considering param')\n",
    "#             filtered_res.append(res_obj)\n",
    "    if one:\n",
    "        return filtered_res[0]['val']\n",
    "    return [x['val'] for x in filtered_res]"
   ]
  },
  {
   "cell_type": "code",
   "execution_count": null,
   "metadata": {},
   "outputs": [],
   "source": []
  },
  {
   "cell_type": "code",
   "execution_count": null,
   "metadata": {},
   "outputs": [],
   "source": []
  },
  {
   "cell_type": "code",
   "execution_count": null,
   "metadata": {},
   "outputs": [],
   "source": []
  },
  {
   "cell_type": "code",
   "execution_count": null,
   "metadata": {},
   "outputs": [],
   "source": []
  }
 ],
 "metadata": {
  "kernelspec": {
   "display_name": "Python 3",
   "language": "python",
   "name": "python3"
  },
  "language_info": {
   "codemirror_mode": {
    "name": "ipython",
    "version": 3
   },
   "file_extension": ".py",
   "mimetype": "text/x-python",
   "name": "python",
   "nbconvert_exporter": "python",
   "pygments_lexer": "ipython3",
   "version": "3.7.1"
  },
  "toc": {
   "base_numbering": 1,
   "nav_menu": {},
   "number_sections": true,
   "sideBar": true,
   "skip_h1_title": false,
   "title_cell": "Table of Contents",
   "title_sidebar": "Contents",
   "toc_cell": false,
   "toc_position": {},
   "toc_section_display": true,
   "toc_window_display": false
  }
 },
 "nbformat": 4,
 "nbformat_minor": 2
}
