{
 "cells": [
  {
   "cell_type": "code",
   "execution_count": 1,
   "metadata": {
    "ExecuteTime": {
     "end_time": "2019-03-30T22:02:44.416747Z",
     "start_time": "2019-03-30T22:02:42.199050Z"
    }
   },
   "outputs": [
    {
     "name": "stdout",
     "output_type": "stream",
     "text": [
      "{'name': '10000', 'sizeOnDisk': 270336.0, 'empty': False}\n",
      "{'name': '10000_cl', 'sizeOnDisk': 262144.0, 'empty': False}\n",
      "{'name': '10000_cl_clagreement', 'sizeOnDisk': 253952.0, 'empty': False}\n",
      "{'name': '10000_cl_claudience', 'sizeOnDisk': 368640.0, 'empty': False}\n",
      "{'name': '10000_cl_clcontroversial', 'sizeOnDisk': 262144.0, 'empty': False}\n",
      "{'name': '10000_cl_cldisagreement', 'sizeOnDisk': 262144.0, 'empty': False}\n",
      "{'name': '10000_cl_clinformative', 'sizeOnDisk': 258048.0, 'empty': False}\n",
      "{'name': '10000_cl_clmean', 'sizeOnDisk': 262144.0, 'empty': False}\n",
      "{'name': '10000_cl_clpersuasive', 'sizeOnDisk': 360448.0, 'empty': False}\n",
      "{'name': '10000_cl_clsentiment', 'sizeOnDisk': 262144.0, 'empty': False}\n",
      "{'name': '10000_cl_cltopic', 'sizeOnDisk': 262144.0, 'empty': False}\n",
      "{'name': '10000_ner', 'sizeOnDisk': 274432.0, 'empty': False}\n",
      "{'name': '10000_ner_cl', 'sizeOnDisk': 262144.0, 'empty': False}\n",
      "{'name': '10000_ner_cl_clagreement', 'sizeOnDisk': 253952.0, 'empty': False}\n",
      "{'name': '10000_ner_cl_claudience', 'sizeOnDisk': 262144.0, 'empty': False}\n",
      "{'name': '10000_ner_cl_clcontroversial', 'sizeOnDisk': 258048.0, 'empty': False}\n",
      "{'name': '10000_ner_cl_cldisagreement', 'sizeOnDisk': 262144.0, 'empty': False}\n",
      "{'name': '10000_ner_cl_clinformative', 'sizeOnDisk': 253952.0, 'empty': False}\n",
      "{'name': '10000_ner_cl_clmean', 'sizeOnDisk': 258048.0, 'empty': False}\n",
      "{'name': '10000_ner_cl_clpersuasive', 'sizeOnDisk': 253952.0, 'empty': False}\n",
      "{'name': '10000_ner_cl_clsentiment', 'sizeOnDisk': 258048.0, 'empty': False}\n",
      "{'name': '10000_ner_cl_cltopic', 'sizeOnDisk': 262144.0, 'empty': False}\n",
      "{'name': '20000', 'sizeOnDisk': 253952.0, 'empty': False}\n",
      "{'name': '20000_cl', 'sizeOnDisk': 262144.0, 'empty': False}\n",
      "{'name': '20000_cl_clagreement', 'sizeOnDisk': 253952.0, 'empty': False}\n",
      "{'name': '20000_cl_claudience', 'sizeOnDisk': 368640.0, 'empty': False}\n",
      "{'name': '20000_cl_clcontroversial', 'sizeOnDisk': 262144.0, 'empty': False}\n",
      "{'name': '20000_cl_cldisagreement', 'sizeOnDisk': 262144.0, 'empty': False}\n",
      "{'name': '20000_cl_clinformative', 'sizeOnDisk': 253952.0, 'empty': False}\n",
      "{'name': '20000_cl_clmean', 'sizeOnDisk': 253952.0, 'empty': False}\n",
      "{'name': '20000_cl_clpersuasive', 'sizeOnDisk': 368640.0, 'empty': False}\n",
      "{'name': '20000_cl_clsentiment', 'sizeOnDisk': 368640.0, 'empty': False}\n",
      "{'name': '20000_cl_cltopic', 'sizeOnDisk': 253952.0, 'empty': False}\n",
      "{'name': '20000_ner', 'sizeOnDisk': 245760.0, 'empty': False}\n",
      "{'name': '20000_ner_cl_clagreement', 'sizeOnDisk': 253952.0, 'empty': False}\n",
      "{'name': '20000_ner_cl_claudience', 'sizeOnDisk': 262144.0, 'empty': False}\n",
      "{'name': '20000_ner_cl_clcontroversial', 'sizeOnDisk': 262144.0, 'empty': False}\n",
      "{'name': '20000_ner_cl_cldisagreement', 'sizeOnDisk': 258048.0, 'empty': False}\n",
      "{'name': '20000_ner_cl_clinformative', 'sizeOnDisk': 253952.0, 'empty': False}\n",
      "{'name': '20000_ner_cl_clmean', 'sizeOnDisk': 253952.0, 'empty': False}\n",
      "{'name': '20000_ner_cl_clpersuasive', 'sizeOnDisk': 253952.0, 'empty': False}\n",
      "{'name': '20000_ner_cl_clsentiment', 'sizeOnDisk': 262144.0, 'empty': False}\n",
      "{'name': '20000_ner_cl_cltopic', 'sizeOnDisk': 258048.0, 'empty': False}\n",
      "{'name': '20k', 'sizeOnDisk': 344064.0, 'empty': False}\n",
      "{'name': '20k_class_best', 'sizeOnDisk': 344064.0, 'empty': False}\n",
      "{'name': '20k_class_no_over', 'sizeOnDisk': 352256.0, 'empty': False}\n",
      "{'name': '20k_ner', 'sizeOnDisk': 540672.0, 'empty': False}\n",
      "{'name': '20k_ner_best', 'sizeOnDisk': 483328.0, 'empty': False}\n",
      "{'name': '20k_ner_noover', 'sizeOnDisk': 495616.0, 'empty': False}\n",
      "{'name': '30000', 'sizeOnDisk': 253952.0, 'empty': False}\n",
      "{'name': '30000_cl_clagreement', 'sizeOnDisk': 360448.0, 'empty': False}\n",
      "{'name': '30000_cl_claudience', 'sizeOnDisk': 368640.0, 'empty': False}\n",
      "{'name': '30000_cl_clcontroversial', 'sizeOnDisk': 262144.0, 'empty': False}\n",
      "{'name': '30000_cl_cldisagreement', 'sizeOnDisk': 270336.0, 'empty': False}\n",
      "{'name': '30000_cl_clinformative', 'sizeOnDisk': 262144.0, 'empty': False}\n",
      "{'name': '30000_cl_clmean', 'sizeOnDisk': 262144.0, 'empty': False}\n",
      "{'name': '30000_cl_clpersuasive', 'sizeOnDisk': 368640.0, 'empty': False}\n",
      "{'name': '30000_cl_clsentiment', 'sizeOnDisk': 368640.0, 'empty': False}\n",
      "{'name': '30000_cl_cltopic', 'sizeOnDisk': 262144.0, 'empty': False}\n",
      "{'name': '30000_ctx_ner', 'sizeOnDisk': 368640.0, 'empty': False}\n",
      "{'name': '30000_ctx_ner_cl_clagreement', 'sizeOnDisk': 253952.0, 'empty': False}\n",
      "{'name': '30000_ctx_ner_cl_claudience', 'sizeOnDisk': 262144.0, 'empty': False}\n",
      "{'name': '30000_ctx_ner_cl_clcontroversial', 'sizeOnDisk': 262144.0, 'empty': False}\n",
      "{'name': '30000_ctx_ner_cl_cldisagreement', 'sizeOnDisk': 262144.0, 'empty': False}\n",
      "{'name': '30000_ctx_ner_cl_clinformative', 'sizeOnDisk': 253952.0, 'empty': False}\n",
      "{'name': '30000_ctx_ner_cl_clmean', 'sizeOnDisk': 253952.0, 'empty': False}\n",
      "{'name': '30000_ctx_ner_cl_clpersuasive', 'sizeOnDisk': 253952.0, 'empty': False}\n",
      "{'name': '30000_ctx_ner_cl_clsentiment', 'sizeOnDisk': 262144.0, 'empty': False}\n",
      "{'name': '30000_ctx_ner_cl_cltopic', 'sizeOnDisk': 253952.0, 'empty': False}\n",
      "{'name': '30000_ctx_ner_fixed', 'sizeOnDisk': 368640.0, 'empty': False}\n",
      "{'name': '30000_ctx_ner_fixed_cl_clagreement', 'sizeOnDisk': 253952.0, 'empty': False}\n",
      "{'name': '30000_ctx_ner_fixed_cl_claudience', 'sizeOnDisk': 405504.0, 'empty': False}\n",
      "{'name': '30000_ctx_ner_fixed_cl_clcontroversial', 'sizeOnDisk': 262144.0, 'empty': False}\n",
      "{'name': '30000_ctx_ner_fixed_cl_cldisagreement', 'sizeOnDisk': 253952.0, 'empty': False}\n",
      "{'name': '30000_ctx_ner_fixed_cl_clinformative', 'sizeOnDisk': 253952.0, 'empty': False}\n",
      "{'name': '30000_ctx_ner_fixed_cl_clmean', 'sizeOnDisk': 262144.0, 'empty': False}\n",
      "{'name': '30000_ctx_ner_fixed_cl_clpersuasive', 'sizeOnDisk': 253952.0, 'empty': False}\n",
      "{'name': '30000_ctx_ner_fixed_cl_clsentiment', 'sizeOnDisk': 262144.0, 'empty': False}\n",
      "{'name': '30000_ctx_ner_fixed_cl_cltopic', 'sizeOnDisk': 425984.0, 'empty': False}\n",
      "{'name': '30000_ner', 'sizeOnDisk': 262144.0, 'empty': False}\n",
      "{'name': '30000_ner_cl_clagreement', 'sizeOnDisk': 253952.0, 'empty': False}\n",
      "{'name': '30000_ner_cl_claudience', 'sizeOnDisk': 253952.0, 'empty': False}\n",
      "{'name': '30000_ner_cl_clcontroversial', 'sizeOnDisk': 262144.0, 'empty': False}\n",
      "{'name': '30000_ner_cl_cldisagreement', 'sizeOnDisk': 270336.0, 'empty': False}\n",
      "{'name': '30000_ner_cl_clinformative', 'sizeOnDisk': 253952.0, 'empty': False}\n",
      "{'name': '30000_ner_cl_clmean', 'sizeOnDisk': 262144.0, 'empty': False}\n",
      "{'name': '30000_ner_cl_clpersuasive', 'sizeOnDisk': 253952.0, 'empty': False}\n",
      "{'name': '30000_ner_cl_clsentiment', 'sizeOnDisk': 262144.0, 'empty': False}\n",
      "{'name': '30000_ner_cl_cltopic', 'sizeOnDisk': 270336.0, 'empty': False}\n",
      "{'name': '30000_threads', 'sizeOnDisk': 245760.0, 'empty': False}\n",
      "{'name': '30000_threads_cl_clagreement', 'sizeOnDisk': 389120.0, 'empty': False}\n",
      "{'name': '30000_threads_cl_claudience', 'sizeOnDisk': 421888.0, 'empty': False}\n",
      "{'name': '30000_threads_cl_clcontroversial', 'sizeOnDisk': 380928.0, 'empty': False}\n",
      "{'name': '30000_threads_cl_cldisagreement', 'sizeOnDisk': 434176.0, 'empty': False}\n",
      "{'name': '30000_threads_cl_clinformative', 'sizeOnDisk': 376832.0, 'empty': False}\n",
      "{'name': '30000_threads_cl_clmean', 'sizeOnDisk': 385024.0, 'empty': False}\n",
      "{'name': '30000_threads_cl_clpersuasive', 'sizeOnDisk': 417792.0, 'empty': False}\n",
      "{'name': '30000_threads_cl_clsentiment', 'sizeOnDisk': 409600.0, 'empty': False}\n",
      "{'name': '30000_threads_cl_cltopic', 'sizeOnDisk': 491520.0, 'empty': False}\n",
      "{'name': '30000_threads_last', 'sizeOnDisk': 315392.0, 'empty': False}\n",
      "{'name': '30000_threads_last_cl_clagreement', 'sizeOnDisk': 393216.0, 'empty': False}\n",
      "{'name': '30000_threads_last_cl_claudience', 'sizeOnDisk': 385024.0, 'empty': False}\n",
      "{'name': '30000_threads_last_cl_clcontroversial', 'sizeOnDisk': 385024.0, 'empty': False}\n",
      "{'name': '30000_threads_last_cl_cldisagreement', 'sizeOnDisk': 385024.0, 'empty': False}\n",
      "{'name': '30000_threads_last_cl_clinformative', 'sizeOnDisk': 385024.0, 'empty': False}\n",
      "{'name': '30000_threads_last_cl_clmean', 'sizeOnDisk': 389120.0, 'empty': False}\n",
      "{'name': '30000_threads_last_cl_clpersuasive', 'sizeOnDisk': 270336.0, 'empty': False}\n",
      "{'name': '30000_threads_last_cl_clsentiment', 'sizeOnDisk': 446464.0, 'empty': False}\n",
      "{'name': '30000_threads_last_cl_cltopic', 'sizeOnDisk': 368640.0, 'empty': False}\n",
      "{'name': '30000_threads_prev3', 'sizeOnDisk': 299008.0, 'empty': False}\n",
      "{'name': '30000_threads_prev3_cl_clagreement', 'sizeOnDisk': 253952.0, 'empty': False}\n",
      "{'name': '30000_threads_prev3_cl_claudience', 'sizeOnDisk': 253952.0, 'empty': False}\n",
      "{'name': '30000_threads_prev3_cl_clcontroversial', 'sizeOnDisk': 262144.0, 'empty': False}\n",
      "{'name': '30000_threads_prev3_cl_cldisagreement', 'sizeOnDisk': 262144.0, 'empty': False}\n",
      "{'name': '30000_threads_prev3_cl_clinformative', 'sizeOnDisk': 253952.0, 'empty': False}\n",
      "{'name': '30000_threads_prev3_cl_clmean', 'sizeOnDisk': 253952.0, 'empty': False}\n",
      "{'name': '30000_threads_prev3_cl_clpersuasive', 'sizeOnDisk': 253952.0, 'empty': False}\n",
      "{'name': '30000_threads_prev3_cl_clsentiment', 'sizeOnDisk': 262144.0, 'empty': False}\n",
      "{'name': '30000_threads_prev3_cl_cltopic', 'sizeOnDisk': 262144.0, 'empty': False}\n",
      "{'name': '30000_threads_prev6', 'sizeOnDisk': 278528.0, 'empty': False}\n",
      "{'name': '30000_threads_prev6_cl_clagreement', 'sizeOnDisk': 253952.0, 'empty': False}\n",
      "{'name': '30000_threads_prev6_cl_claudience', 'sizeOnDisk': 253952.0, 'empty': False}\n",
      "{'name': '30000_threads_prev6_cl_clcontroversial', 'sizeOnDisk': 262144.0, 'empty': False}\n",
      "{'name': '30000_threads_prev6_cl_cldisagreement', 'sizeOnDisk': 262144.0, 'empty': False}\n",
      "{'name': '30000_threads_prev6_cl_clinformative', 'sizeOnDisk': 253952.0, 'empty': False}\n",
      "{'name': '30000_threads_prev6_cl_clmean', 'sizeOnDisk': 262144.0, 'empty': False}\n",
      "{'name': '30000_threads_prev6_cl_clpersuasive', 'sizeOnDisk': 253952.0, 'empty': False}\n",
      "{'name': '30000_threads_prev6_cl_clsentiment', 'sizeOnDisk': 262144.0, 'empty': False}\n",
      "{'name': '30000_threads_prev6_cl_cltopic', 'sizeOnDisk': 262144.0, 'empty': False}\n",
      "{'name': '40000', 'sizeOnDisk': 385024.0, 'empty': False}\n",
      "{'name': '40000_cl_clagreement', 'sizeOnDisk': 253952.0, 'empty': False}\n",
      "{'name': '40000_cl_claudience', 'sizeOnDisk': 262144.0, 'empty': False}\n",
      "{'name': '40000_cl_clcontroversial', 'sizeOnDisk': 360448.0, 'empty': False}\n",
      "{'name': '40000_cl_cldisagreement', 'sizeOnDisk': 270336.0, 'empty': False}\n",
      "{'name': '40000_cl_clinformative', 'sizeOnDisk': 253952.0, 'empty': False}\n",
      "{'name': '40000_cl_clmean', 'sizeOnDisk': 253952.0, 'empty': False}\n",
      "{'name': '40000_cl_clpersuasive', 'sizeOnDisk': 253952.0, 'empty': False}\n",
      "{'name': '40000_cl_clsentiment', 'sizeOnDisk': 262144.0, 'empty': False}\n",
      "{'name': '40000_cl_cltopic', 'sizeOnDisk': 372736.0, 'empty': False}\n",
      "{'name': '40000_ner', 'sizeOnDisk': 360448.0, 'empty': False}\n",
      "{'name': '50000', 'sizeOnDisk': 360448.0, 'empty': False}\n",
      "{'name': '50000_cl_clagreement', 'sizeOnDisk': 253952.0, 'empty': False}\n",
      "{'name': '50000_cl_claudience', 'sizeOnDisk': 262144.0, 'empty': False}\n",
      "{'name': '50000_cl_clcontroversial', 'sizeOnDisk': 262144.0, 'empty': False}\n",
      "{'name': '50000_cl_cldisagreement', 'sizeOnDisk': 270336.0, 'empty': False}\n",
      "{'name': '50000_cl_clinformative', 'sizeOnDisk': 274432.0, 'empty': False}\n",
      "{'name': '50000_cl_clmean', 'sizeOnDisk': 270336.0, 'empty': False}\n",
      "{'name': '50000_cl_clpersuasive', 'sizeOnDisk': 253952.0, 'empty': False}\n",
      "{'name': '50000_cl_clsentiment', 'sizeOnDisk': 262144.0, 'empty': False}\n",
      "{'name': '50000_cl_cltopic', 'sizeOnDisk': 262144.0, 'empty': False}\n",
      "{'name': '50000_ner', 'sizeOnDisk': 360448.0, 'empty': False}\n",
      "{'name': '60000', 'sizeOnDisk': 262144.0, 'empty': False}\n",
      "{'name': '60000_cl_clagreement', 'sizeOnDisk': 253952.0, 'empty': False}\n",
      "{'name': '60000_cl_claudience', 'sizeOnDisk': 262144.0, 'empty': False}\n",
      "{'name': '60000_cl_clcontroversial', 'sizeOnDisk': 262144.0, 'empty': False}\n",
      "{'name': '60000_cl_cldisagreement', 'sizeOnDisk': 270336.0, 'empty': False}\n",
      "{'name': '60000_cl_clinformative', 'sizeOnDisk': 270336.0, 'empty': False}\n",
      "{'name': '60000_cl_clmean', 'sizeOnDisk': 270336.0, 'empty': False}\n",
      "{'name': '60000_cl_clpersuasive', 'sizeOnDisk': 253952.0, 'empty': False}\n",
      "{'name': '60000_cl_clsentiment', 'sizeOnDisk': 262144.0, 'empty': False}\n",
      "{'name': '60000_cl_cltopic', 'sizeOnDisk': 258048.0, 'empty': False}\n",
      "{'name': '60000_ner', 'sizeOnDisk': 253952.0, 'empty': False}\n",
      "{'name': '60000_threads', 'sizeOnDisk': 831488.0, 'empty': False}\n",
      "{'name': 'classify', 'sizeOnDisk': 249856.0, 'empty': False}\n",
      "{'name': 'dat_false_par_false_hea_false30000_cl_clagreement', 'sizeOnDisk': 458752.0, 'empty': False}\n",
      "{'name': 'dat_false_par_false_hea_false30000_cl_claudience', 'sizeOnDisk': 479232.0, 'empty': False}\n",
      "{'name': 'dat_false_par_false_hea_false30000_cl_clcontroversial', 'sizeOnDisk': 442368.0, 'empty': False}\n",
      "{'name': 'dat_false_par_false_hea_false30000_cl_cldisagreement', 'sizeOnDisk': 442368.0, 'empty': False}\n",
      "{'name': 'dat_false_par_false_hea_false30000_cl_clinformative', 'sizeOnDisk': 442368.0, 'empty': False}\n",
      "{'name': 'dat_false_par_false_hea_false30000_cl_clmean', 'sizeOnDisk': 458752.0, 'empty': False}\n",
      "{'name': 'dat_false_par_false_hea_false30000_cl_clpersuasive', 'sizeOnDisk': 462848.0, 'empty': False}\n",
      "{'name': 'dat_false_par_false_hea_false30000_cl_clsentiment', 'sizeOnDisk': 458752.0, 'empty': False}\n",
      "{'name': 'dat_false_par_false_hea_false30000_cl_cltopic', 'sizeOnDisk': 462848.0, 'empty': False}\n",
      "{'name': 'dat_false_par_false_hea_false_bysdid', 'sizeOnDisk': 131072.0, 'empty': False}\n",
      "{'name': 'dat_false_par_false_hea_false_bysdid30000', 'sizeOnDisk': 376832.0, 'empty': False}\n",
      "{'name': 'dat_false_par_false_hea_false_bysdid30000_cl_clagreement', 'sizeOnDisk': 253952.0, 'empty': False}\n",
      "{'name': 'dat_false_par_false_hea_false_bysdid30000_cl_claudience', 'sizeOnDisk': 262144.0, 'empty': False}\n",
      "{'name': 'dat_false_par_false_hea_false_bysdid30000_cl_clcontroversial', 'sizeOnDisk': 258048.0, 'empty': False}\n",
      "{'name': 'dat_false_par_false_hea_false_bysdid30000_cl_cldisagreement', 'sizeOnDisk': 262144.0, 'empty': False}\n",
      "{'name': 'dat_false_par_false_hea_false_bysdid30000_cl_clinformative', 'sizeOnDisk': 253952.0, 'empty': False}\n",
      "{'name': 'dat_false_par_false_hea_false_bysdid30000_cl_clmean', 'sizeOnDisk': 253952.0, 'empty': False}\n",
      "{'name': 'dat_false_par_false_hea_false_bysdid30000_cl_clpersuasive', 'sizeOnDisk': 253952.0, 'empty': False}\n",
      "{'name': 'dat_false_par_false_hea_false_bysdid30000_cl_clsentiment', 'sizeOnDisk': 262144.0, 'empty': False}\n",
      "{'name': 'dat_false_par_false_hea_false_bysdid30000_cl_cltopic', 'sizeOnDisk': 253952.0, 'empty': False}\n",
      "{'name': 'dat_false_par_false_hea_false_bysdid_sep30000', 'sizeOnDisk': 376832.0, 'empty': False}\n",
      "{'name': 'dat_false_par_false_hea_false_bysdid_sep30000_cl_clagreement', 'sizeOnDisk': 253952.0, 'empty': False}\n",
      "{'name': 'dat_false_par_false_hea_false_bysdid_sep30000_cl_claudience', 'sizeOnDisk': 253952.0, 'empty': False}\n",
      "{'name': 'dat_false_par_false_hea_false_bysdid_sep30000_cl_cldisagreement', 'sizeOnDisk': 262144.0, 'empty': False}\n",
      "{'name': 'dat_false_par_false_hea_false_bysdid_sep30000_cl_clinformative', 'sizeOnDisk': 253952.0, 'empty': False}\n",
      "{'name': 'dat_false_par_false_hea_false_bysdid_sep30000_cl_clmean', 'sizeOnDisk': 258048.0, 'empty': False}\n",
      "{'name': 'dat_false_par_false_hea_false_bysdid_sep30000_cl_clpersuasive', 'sizeOnDisk': 253952.0, 'empty': False}\n",
      "{'name': 'dat_false_par_false_hea_false_bysdid_sep30000_cl_clsentiment', 'sizeOnDisk': 262144.0, 'empty': False}\n",
      "{'name': 'dat_false_par_false_hea_false_bysdid_sep30000_cl_cltopic', 'sizeOnDisk': 397312.0, 'empty': False}\n",
      "{'name': 'dat_false_par_true_hea_false30000', 'sizeOnDisk': 286720.0, 'empty': False}\n",
      "{'name': 'dat_false_par_true_hea_false30000_cl_clagreement', 'sizeOnDisk': 286720.0, 'empty': False}\n",
      "{'name': 'dat_false_par_true_hea_false30000_cl_claudience', 'sizeOnDisk': 405504.0, 'empty': False}\n",
      "{'name': 'dat_false_par_true_hea_false30000_cl_clcontroversial', 'sizeOnDisk': 307200.0, 'empty': False}\n",
      "{'name': 'dat_false_par_true_hea_false30000_cl_cldisagreement', 'sizeOnDisk': 303104.0, 'empty': False}\n",
      "{'name': 'dat_false_par_true_hea_false30000_cl_clinformative', 'sizeOnDisk': 303104.0, 'empty': False}\n",
      "{'name': 'dat_false_par_true_hea_false30000_cl_clmean', 'sizeOnDisk': 307200.0, 'empty': False}\n",
      "{'name': 'dat_false_par_true_hea_false30000_cl_clpersuasive', 'sizeOnDisk': 397312.0, 'empty': False}\n",
      "{'name': 'dat_false_par_true_hea_false30000_cl_clsentiment', 'sizeOnDisk': 303104.0, 'empty': False}\n",
      "{'name': 'dat_false_par_true_hea_false30000_cl_cltopic', 'sizeOnDisk': 286720.0, 'empty': False}\n",
      "{'name': 'dat_true_par_true_hea_false30000', 'sizeOnDisk': 376832.0, 'empty': False}\n",
      "{'name': 'dat_true_par_true_hea_true30000', 'sizeOnDisk': 376832.0, 'empty': False}\n",
      "{'name': 'dat_true_par_true_hea_true30000_cl_cldisagreement', 'sizeOnDisk': 258048.0, 'empty': False}\n",
      "{'name': 'explm', 'sizeOnDisk': 253952.0, 'empty': False}\n",
      "{'name': 'germanlm', 'sizeOnDisk': 380928.0, 'empty': False}\n",
      "{'name': 'headline_root_threads_cl_clagreement', 'sizeOnDisk': 413696.0, 'empty': False}\n",
      "{'name': 'headline_root_threads_cl_claudience', 'sizeOnDisk': 417792.0, 'empty': False}\n",
      "{'name': 'headline_root_threads_cl_clcontroversial', 'sizeOnDisk': 339968.0, 'empty': False}\n",
      "{'name': 'headline_root_threads_cl_cldisagreement', 'sizeOnDisk': 389120.0, 'empty': False}\n",
      "{'name': 'headline_root_threads_cl_clinformative', 'sizeOnDisk': 389120.0, 'empty': False}\n",
      "{'name': 'headline_root_threads_cl_clmean', 'sizeOnDisk': 397312.0, 'empty': False}\n",
      "{'name': 'headline_root_threads_cl_clpersuasive', 'sizeOnDisk': 393216.0, 'empty': False}\n",
      "{'name': 'headline_root_threads_cl_clsentiment', 'sizeOnDisk': 385024.0, 'empty': False}\n",
      "{'name': 'headline_root_threads_cl_cltopic', 'sizeOnDisk': 372736.0, 'empty': False}\n",
      "{'name': 'headline_root_threads_no_over_cl_clagreement', 'sizeOnDisk': 221184.0, 'empty': False}\n",
      "{'name': 'headline_root_threads_no_over_cl_claudience', 'sizeOnDisk': 204800.0, 'empty': False}\n",
      "{'name': 'headline_root_threads_no_over_cl_clcontroversial', 'sizeOnDisk': 204800.0, 'empty': False}\n",
      "{'name': 'headline_root_threads_no_over_cl_cldisagreement', 'sizeOnDisk': 221184.0, 'empty': False}\n",
      "{'name': 'headline_root_threads_no_over_cl_clinformative', 'sizeOnDisk': 212992.0, 'empty': False}\n",
      "{'name': 'headline_root_threads_no_over_cl_clmean', 'sizeOnDisk': 221184.0, 'empty': False}\n",
      "{'name': 'headline_root_threads_no_over_cl_clpersuasive', 'sizeOnDisk': 221184.0, 'empty': False}\n",
      "{'name': 'headline_root_threads_no_over_cl_clsentiment', 'sizeOnDisk': 221184.0, 'empty': False}\n",
      "{'name': 'headline_root_threads_no_over_cl_cltopic', 'sizeOnDisk': 221184.0, 'empty': False}\n",
      "{'name': 'lm_threads_cl_clagreement', 'sizeOnDisk': 471040.0, 'empty': False}\n",
      "{'name': 'lm_threads_cl_claudience', 'sizeOnDisk': 450560.0, 'empty': False}\n",
      "{'name': 'lm_threads_cl_clcontroversial', 'sizeOnDisk': 454656.0, 'empty': False}\n",
      "{'name': 'lm_threads_cl_cldisagreement', 'sizeOnDisk': 520192.0, 'empty': False}\n",
      "{'name': 'lm_threads_cl_clinformative', 'sizeOnDisk': 450560.0, 'empty': False}\n",
      "{'name': 'lm_threads_cl_clmean', 'sizeOnDisk': 491520.0, 'empty': False}\n",
      "{'name': 'lm_threads_cl_clpersuasive', 'sizeOnDisk': 507904.0, 'empty': False}\n",
      "{'name': 'lm_threads_cl_clsentiment', 'sizeOnDisk': 466944.0, 'empty': False}\n",
      "{'name': 'lm_threads_cl_cltopic', 'sizeOnDisk': 643072.0, 'empty': False}\n",
      "{'name': 'lm_threads_cut_cl_clagreement', 'sizeOnDisk': 462848.0, 'empty': False}\n",
      "{'name': 'lm_threads_cut_cl_claudience', 'sizeOnDisk': 479232.0, 'empty': False}\n",
      "{'name': 'lm_threads_cut_cl_clcontroversial', 'sizeOnDisk': 438272.0, 'empty': False}\n",
      "{'name': 'lm_threads_cut_cl_cldisagreement', 'sizeOnDisk': 442368.0, 'empty': False}\n",
      "{'name': 'lm_threads_cut_cl_clinformative', 'sizeOnDisk': 471040.0, 'empty': False}\n",
      "{'name': 'lm_threads_cut_cl_clmean', 'sizeOnDisk': 450560.0, 'empty': False}\n",
      "{'name': 'lm_threads_cut_cl_clpersuasive', 'sizeOnDisk': 466944.0, 'empty': False}\n",
      "{'name': 'lm_threads_cut_cl_clsentiment', 'sizeOnDisk': 454656.0, 'empty': False}\n",
      "{'name': 'lm_threads_cut_cl_cltopic', 'sizeOnDisk': 475136.0, 'empty': False}\n",
      "{'name': 'local', 'sizeOnDisk': 73728.0, 'empty': False}\n",
      "{'name': 'ompclm', 'sizeOnDisk': 376832.0, 'empty': False}\n",
      "{'name': 'only_threads_unlimited_30000_cl_clagreement', 'sizeOnDisk': 479232.0, 'empty': False}\n",
      "{'name': 'only_threads_unlimited_30000_cl_claudience', 'sizeOnDisk': 479232.0, 'empty': False}\n",
      "{'name': 'only_threads_unlimited_30000_cl_clcontroversial', 'sizeOnDisk': 458752.0, 'empty': False}\n",
      "{'name': 'only_threads_unlimited_30000_cl_cldisagreement', 'sizeOnDisk': 475136.0, 'empty': False}\n",
      "{'name': 'only_threads_unlimited_30000_cl_clinformative', 'sizeOnDisk': 483328.0, 'empty': False}\n",
      "{'name': 'only_threads_unlimited_30000_cl_clmean', 'sizeOnDisk': 475136.0, 'empty': False}\n",
      "{'name': 'only_threads_unlimited_30000_cl_clpersuasive', 'sizeOnDisk': 479232.0, 'empty': False}\n",
      "{'name': 'only_threads_unlimited_30000_cl_clsentiment', 'sizeOnDisk': 479232.0, 'empty': False}\n",
      "{'name': 'only_threads_unlimited_30000_cl_cltopic', 'sizeOnDisk': 483328.0, 'empty': False}\n",
      "{'name': 'only_threads_unlimited_30000_cl_prog_dev_claudience', 'sizeOnDisk': 487424.0, 'empty': False}\n",
      "{'name': 'only_threads_unlimited_30000_cutlm', 'sizeOnDisk': 245760.0, 'empty': False}\n",
      "{'name': 'only_threads_unlimited_30000lm', 'sizeOnDisk': 479232.0, 'empty': False}\n",
      "{'name': 're_exp_f0lm', 'sizeOnDisk': 253952.0, 'empty': False}\n",
      "{'name': 're_exp_f1lm', 'sizeOnDisk': 131072.0, 'empty': False}\n",
      "{'name': 're_exp_f_1400_0lm', 'sizeOnDisk': 200704.0, 'empty': False}\n",
      "{'name': 're_exp_f_600_0lm', 'sizeOnDisk': 385024.0, 'empty': False}\n",
      "{'name': 're_explm', 'sizeOnDisk': 393216.0, 'empty': False}\n",
      "{'name': 're_xplm', 'sizeOnDisk': 262144.0, 'empty': False}\n",
      "{'name': 'reddit_first_cl', 'sizeOnDisk': 561152.0, 'empty': False}\n",
      "{'name': 'sacred', 'sizeOnDisk': 46804992.0, 'empty': False}\n",
      "{'name': 'seclm', 'sizeOnDisk': 479232.0, 'empty': False}\n",
      "{'name': 'threads_constructive', 'sizeOnDisk': 434176.0, 'empty': False}\n",
      "{'name': 'threads_headline_article_cl_clagreement', 'sizeOnDisk': 450560.0, 'empty': False}\n",
      "{'name': 'threads_headline_article_cl_claudience', 'sizeOnDisk': 454656.0, 'empty': False}\n",
      "{'name': 'threads_headline_article_cl_clcontroversial', 'sizeOnDisk': 409600.0, 'empty': False}\n",
      "{'name': 'threads_headline_article_cl_cldisagreement', 'sizeOnDisk': 438272.0, 'empty': False}\n",
      "{'name': 'threads_headline_article_cl_clinformative', 'sizeOnDisk': 434176.0, 'empty': False}\n",
      "{'name': 'threads_headline_article_cl_clmean', 'sizeOnDisk': 442368.0, 'empty': False}\n",
      "{'name': 'threads_headline_article_cl_clpersuasive', 'sizeOnDisk': 421888.0, 'empty': False}\n",
      "{'name': 'threads_headline_article_cl_clsentiment', 'sizeOnDisk': 421888.0, 'empty': False}\n",
      "{'name': 'threads_headline_article_cl_cltopic', 'sizeOnDisk': 434176.0, 'empty': False}\n",
      "{'name': 'threads_headline_article_unlimited_30000_cutlm', 'sizeOnDisk': 425984.0, 'empty': False}\n",
      "{'name': 'threads_headline_article_unlimited_30lm', 'sizeOnDisk': 131072.0, 'empty': False}\n",
      "{'name': 'threads_headline_cl_cl', 'sizeOnDisk': 167936.0, 'empty': False}\n",
      "{'name': 'threads_headline_cl_clagreement', 'sizeOnDisk': 475136.0, 'empty': False}\n",
      "{'name': 'threads_headline_cl_claudience', 'sizeOnDisk': 442368.0, 'empty': False}\n",
      "{'name': 'threads_headline_cl_clcontroversial', 'sizeOnDisk': 430080.0, 'empty': False}\n",
      "{'name': 'threads_headline_cl_cldisagreement', 'sizeOnDisk': 450560.0, 'empty': False}\n",
      "{'name': 'threads_headline_cl_clinformative', 'sizeOnDisk': 458752.0, 'empty': False}\n",
      "{'name': 'threads_headline_cl_clmean', 'sizeOnDisk': 446464.0, 'empty': False}\n",
      "{'name': 'threads_headline_cl_clpersuasive', 'sizeOnDisk': 479232.0, 'empty': False}\n",
      "{'name': 'threads_headline_cl_clsentiment', 'sizeOnDisk': 466944.0, 'empty': False}\n",
      "{'name': 'threads_headline_cl_cltopic', 'sizeOnDisk': 442368.0, 'empty': False}\n",
      "{'name': 'threads_headline_unlimited_30000_cutlm', 'sizeOnDisk': 352256.0, 'empty': False}\n",
      "{'name': 'threads_headline_unlimited_30000lm', 'sizeOnDisk': 131072.0, 'empty': False}\n",
      "{'name': 'threads_root_headine_unlimited_30000_cutlm', 'sizeOnDisk': 131072.0, 'empty': False}\n",
      "{'name': 'threads_root_headline_unlimited_30000_cutlm', 'sizeOnDisk': 352256.0, 'empty': False}\n"
     ]
    }
   ],
   "source": [
    "import torch\n",
    "from fastai.text import *\n",
    "from pathlib import Path\n",
    "import news_utils.plot\n",
    "from sklearn.metrics import f1_score, cohen_kappa_score\n",
    "\n",
    "import pymongo\n",
    "from collections import defaultdict\n",
    "\n",
    "# print all available databases\n",
    "client = pymongo.MongoClient('localhost', 27017)\n",
    "cursor = client.list_databases()\n",
    "for db in cursor:\n",
    "    print(db)"
   ]
  },
  {
   "cell_type": "code",
   "execution_count": 2,
   "metadata": {
    "ExecuteTime": {
     "end_time": "2019-03-30T22:02:44.442263Z",
     "start_time": "2019-03-30T22:02:44.420188Z"
    }
   },
   "outputs": [],
   "source": [
    "def get_mets(db, conf=None):\n",
    "    mydb = client[db]\n",
    "    res = mydb[\"metrics\"].aggregate([{\n",
    "        \"$match\": {\"name\": 'kappa_score'}  # only consider metric\n",
    "    },\n",
    "        {\"$unwind\": \"$values\"},\n",
    "        {\"$group\":\n",
    "         {'_id': '$_id',\n",
    "          'val': {'$max': \"$values\"}, 'run_id' : { '$first': '$run_id' }}\n",
    "         },  # find min values\n",
    "        {\"$sort\": {\"val\": -1}}  # sort\n",
    "    ])\n",
    "    \n",
    "    if not conf is None:\n",
    "        runs = mydb['runs'].find(conf)\n",
    "        runs  = [r['_id'] for r in list(runs)]\n",
    "        res = [r for r in res if r['run_id'] in runs]\n",
    "\n",
    "    best = list(res)[0]\n",
    "\n",
    "    epoch = None\n",
    "    max_epochs = 0\n",
    "\n",
    "    for x in mydb['metrics'].find({'run_id': best['run_id'], 'name': 'kappa_score'}):\n",
    "        max_epochs = len(x['values'])\n",
    "        for i, v in enumerate(x['values']):\n",
    "            if v == best['val'] and epoch is None:\n",
    "                epoch = i + 1\n",
    "\n",
    "    for x in mydb['metrics'].find({'run_id': best['run_id'], 'name': 'F1_macro'}):\n",
    "        f1_macro = x['values'][epoch - 1]\n",
    "\n",
    "    for x in mydb['metrics'].find({'run_id': best['run_id'], 'name': 'accuracy'}):\n",
    "        f1_micro = x['values'][epoch - 1]\n",
    "    \n",
    "    run = list(mydb['runs'].find({'_id': best['run_id']}))[0]\n",
    "        \n",
    "    mod = ''\n",
    "    if 'mod' in  run['config']:\n",
    "        mod= run['config']['mod']\n",
    "        \n",
    "    return best['val'], f1_micro, f1_macro, epoch, max_epochs, run['config']['exp_id'], run['config']['drop_mult'], mod"
   ]
  },
  {
   "cell_type": "code",
   "execution_count": 3,
   "metadata": {
    "ExecuteTime": {
     "end_time": "2019-03-30T22:02:44.456574Z",
     "start_time": "2019-03-30T22:02:44.444819Z"
    }
   },
   "outputs": [],
   "source": [
    "all_cols =  ['claudience', 'clpersuasive', 'clsentiment', 'clagreement', 'cldisagreement', 'clinformative', 'clmean', 'clcontroversial', 'cltopic']"
   ]
  },
  {
   "cell_type": "code",
   "execution_count": 4,
   "metadata": {
    "ExecuteTime": {
     "end_time": "2019-03-30T22:02:47.237440Z",
     "start_time": "2019-03-30T22:02:47.201776Z"
    }
   },
   "outputs": [],
   "source": [
    "def test_model(model_id, clas, datafile, baseline):\n",
    "    p = list(Path('/home/group7/data/ynacc_proc').glob(f'**/{model_id}.pth'))[0]\n",
    "    p_fixed = '/'.join(p.parts[:-2])[1:]\n",
    "    exp = p.parts[-3]\n",
    "    \n",
    "    if baseline:\n",
    "        data_lm = TextLMDataBunch.load(Path('/mnt/data/group07/johannes/ynacc_proc/proper_baseline/exp/' + exp))\n",
    "    else:\n",
    "        data_lm = TextLMDataBunch.load(Path('/mnt/data/group07/johannes/ynacc_proc/proper_threads/exp/lm/' + exp))\n",
    "    \n",
    "    if baseline:\n",
    "        UT = Path('~/data/ynacc_proc/proper_baseline/cls')/datafile\n",
    "    else:\n",
    "        UT = Path('~/data/ynacc_proc/proper_threads/data/cls')/datafile\n",
    "    data_clas_train = pd.read_csv(UT/'train.csv')\n",
    "    data_clas_val = pd.read_csv(UT/'test.csv')\n",
    "    \n",
    "    print(data_clas_val.shape)\n",
    "\n",
    "    data_clas_train = data_clas_train[[clas, 'text_proc']]\n",
    "    data_clas_val = data_clas_val[[clas, 'text_proc']]\n",
    "\n",
    "    data_clas_train = data_clas_train.dropna()\n",
    "    data_clas_val = data_clas_val.dropna()\n",
    "\n",
    "    data_clas_train[clas] = data_clas_train[clas].astype(int)\n",
    "    data_clas_val[clas] = data_clas_val[clas].astype(int)\n",
    "\n",
    "    data_clas = TextClasDataBunch.from_df(p_fixed, data_clas_train, data_clas_val,\n",
    "                                          vocab=data_lm.train_ds.vocab, bs=64, text_cols=['text_proc'], label_cols=[clas],tokenizer=Tokenizer(cut_n_from_behind=1398))\n",
    "    del data_lm\n",
    "    learn = text_classifier_learner(data_clas).load(p.stem)\n",
    "    res = learn.get_preds(ordered=True)\n",
    "    preds = np.argmax(res[0], axis=1)\n",
    "    f1ma = f1_score(res[1], preds, average='macro')\n",
    "    f1mi = f1_score(res[1], preds, average='micro')\n",
    "    kappa = cohen_kappa_score(res[1], preds)\n",
    "    return f1ma, f1mi, kappa"
   ]
  },
  {
   "cell_type": "code",
   "execution_count": 5,
   "metadata": {
    "ExecuteTime": {
     "end_time": "2019-03-30T22:02:47.636517Z",
     "start_time": "2019-03-30T22:02:47.622615Z"
    }
   },
   "outputs": [],
   "source": [
    "def test_all(db, df, baseline=False, **kwargs):\n",
    "    dic = {}\n",
    "    for col in all_cols:\n",
    "        mid = get_mets(db + col, **kwargs)[5]\n",
    "        res = test_model(mid, col, df, baseline)\n",
    "        dic[col] = res\n",
    "    return dic"
   ]
  },
  {
   "cell_type": "code",
   "execution_count": 25,
   "metadata": {
    "ExecuteTime": {
     "end_time": "2019-02-25T14:16:43.901827Z",
     "start_time": "2019-02-25T14:16:40.153642Z"
    }
   },
   "outputs": [
    {
     "ename": "KeyboardInterrupt",
     "evalue": "",
     "output_type": "error",
     "traceback": [
      "\u001b[0;31m---------------------------------------------------------------------------\u001b[0m",
      "\u001b[0;31mKeyboardInterrupt\u001b[0m                         Traceback (most recent call last)",
      "\u001b[0;32m<ipython-input-25-f03c8d19d3d0>\u001b[0m in \u001b[0;36m<module>\u001b[0;34m\u001b[0m\n\u001b[0;32m----> 1\u001b[0;31m \u001b[0md\u001b[0m \u001b[0;34m=\u001b[0m \u001b[0mtest_all\u001b[0m\u001b[0;34m(\u001b[0m\u001b[0;34m'lm_threads_cut_cl_'\u001b[0m\u001b[0;34m,\u001b[0m \u001b[0mconf\u001b[0m\u001b[0;34m=\u001b[0m\u001b[0;34m{\u001b[0m\u001b[0;34m'config.mod'\u001b[0m\u001b[0;34m:\u001b[0m \u001b[0;34m'simple_fit'\u001b[0m\u001b[0;34m}\u001b[0m\u001b[0;34m,\u001b[0m \u001b[0mdf\u001b[0m\u001b[0;34m=\u001b[0m\u001b[0;34m'only_threads_unlimited_30000_cut'\u001b[0m\u001b[0;34m)\u001b[0m\u001b[0;34m\u001b[0m\u001b[0;34m\u001b[0m\u001b[0m\n\u001b[0m",
      "\u001b[0;32m<ipython-input-24-6bde2fe671da>\u001b[0m in \u001b[0;36mtest_all\u001b[0;34m(db, df, baseline, **kwargs)\u001b[0m\n\u001b[1;32m      3\u001b[0m     \u001b[0;32mfor\u001b[0m \u001b[0mcol\u001b[0m \u001b[0;32min\u001b[0m \u001b[0mall_cols\u001b[0m\u001b[0;34m:\u001b[0m\u001b[0;34m\u001b[0m\u001b[0;34m\u001b[0m\u001b[0m\n\u001b[1;32m      4\u001b[0m         \u001b[0mmid\u001b[0m \u001b[0;34m=\u001b[0m \u001b[0mget_mets\u001b[0m\u001b[0;34m(\u001b[0m\u001b[0mdb\u001b[0m \u001b[0;34m+\u001b[0m \u001b[0mcol\u001b[0m\u001b[0;34m,\u001b[0m \u001b[0;34m**\u001b[0m\u001b[0mkwargs\u001b[0m\u001b[0;34m)\u001b[0m\u001b[0;34m[\u001b[0m\u001b[0;36m5\u001b[0m\u001b[0;34m]\u001b[0m\u001b[0;34m\u001b[0m\u001b[0;34m\u001b[0m\u001b[0m\n\u001b[0;32m----> 5\u001b[0;31m         \u001b[0mres\u001b[0m \u001b[0;34m=\u001b[0m \u001b[0mtest_model\u001b[0m\u001b[0;34m(\u001b[0m\u001b[0mmid\u001b[0m\u001b[0;34m,\u001b[0m \u001b[0mcol\u001b[0m\u001b[0;34m,\u001b[0m \u001b[0mdf\u001b[0m\u001b[0;34m,\u001b[0m \u001b[0mbaseline\u001b[0m\u001b[0;34m)\u001b[0m\u001b[0;34m\u001b[0m\u001b[0;34m\u001b[0m\u001b[0m\n\u001b[0m\u001b[1;32m      6\u001b[0m         \u001b[0mdic\u001b[0m\u001b[0;34m[\u001b[0m\u001b[0mcol\u001b[0m\u001b[0;34m]\u001b[0m \u001b[0;34m=\u001b[0m \u001b[0mres\u001b[0m\u001b[0;34m\u001b[0m\u001b[0;34m\u001b[0m\u001b[0m\n\u001b[1;32m      7\u001b[0m     \u001b[0;32mreturn\u001b[0m \u001b[0mdic\u001b[0m\u001b[0;34m\u001b[0m\u001b[0;34m\u001b[0m\u001b[0m\n",
      "\u001b[0;32m<ipython-input-23-ab6def80f9b3>\u001b[0m in \u001b[0;36mtest_model\u001b[0;34m(model_id, clas, datafile, baseline)\u001b[0m\n\u001b[1;32m      7\u001b[0m         \u001b[0mdata_lm\u001b[0m \u001b[0;34m=\u001b[0m \u001b[0mTextLMDataBunch\u001b[0m\u001b[0;34m.\u001b[0m\u001b[0mload\u001b[0m\u001b[0;34m(\u001b[0m\u001b[0mPath\u001b[0m\u001b[0;34m(\u001b[0m\u001b[0;34m'/mnt/data/group07/johannes/ynacc_proc/proper_baseline/exp/'\u001b[0m \u001b[0;34m+\u001b[0m \u001b[0mexp\u001b[0m\u001b[0;34m)\u001b[0m\u001b[0;34m)\u001b[0m\u001b[0;34m\u001b[0m\u001b[0;34m\u001b[0m\u001b[0m\n\u001b[1;32m      8\u001b[0m     \u001b[0;32melse\u001b[0m\u001b[0;34m:\u001b[0m\u001b[0;34m\u001b[0m\u001b[0;34m\u001b[0m\u001b[0m\n\u001b[0;32m----> 9\u001b[0;31m         \u001b[0mdata_lm\u001b[0m \u001b[0;34m=\u001b[0m \u001b[0mTextLMDataBunch\u001b[0m\u001b[0;34m.\u001b[0m\u001b[0mload\u001b[0m\u001b[0;34m(\u001b[0m\u001b[0mPath\u001b[0m\u001b[0;34m(\u001b[0m\u001b[0;34m'/mnt/data/group07/johannes/ynacc_proc/proper_threads/exp/lm/'\u001b[0m \u001b[0;34m+\u001b[0m \u001b[0mexp\u001b[0m\u001b[0;34m)\u001b[0m\u001b[0;34m)\u001b[0m\u001b[0;34m\u001b[0m\u001b[0;34m\u001b[0m\u001b[0m\n\u001b[0m\u001b[1;32m     10\u001b[0m \u001b[0;34m\u001b[0m\u001b[0m\n\u001b[1;32m     11\u001b[0m     \u001b[0;32mif\u001b[0m \u001b[0mbaseline\u001b[0m\u001b[0;34m:\u001b[0m\u001b[0;34m\u001b[0m\u001b[0;34m\u001b[0m\u001b[0m\n",
      "\u001b[0;32m~/dev/fastai/fastai/text/data.py\u001b[0m in \u001b[0;36mload\u001b[0;34m(cls, path, cache_name, processor, **kwargs)\u001b[0m\n\u001b[1;32m    174\u001b[0m         \u001b[0mcache_path\u001b[0m \u001b[0;34m=\u001b[0m \u001b[0mPath\u001b[0m\u001b[0;34m(\u001b[0m\u001b[0mpath\u001b[0m\u001b[0;34m)\u001b[0m\u001b[0;34m/\u001b[0m\u001b[0mcache_name\u001b[0m\u001b[0;34m\u001b[0m\u001b[0;34m\u001b[0m\u001b[0m\n\u001b[1;32m    175\u001b[0m         \u001b[0mvocab\u001b[0m \u001b[0;34m=\u001b[0m \u001b[0mVocab\u001b[0m\u001b[0;34m(\u001b[0m\u001b[0mpickle\u001b[0m\u001b[0;34m.\u001b[0m\u001b[0mload\u001b[0m\u001b[0;34m(\u001b[0m\u001b[0mopen\u001b[0m\u001b[0;34m(\u001b[0m\u001b[0mcache_path\u001b[0m\u001b[0;34m/\u001b[0m\u001b[0;34m'itos.pkl'\u001b[0m\u001b[0;34m,\u001b[0m\u001b[0;34m'rb'\u001b[0m\u001b[0;34m)\u001b[0m\u001b[0;34m)\u001b[0m\u001b[0;34m)\u001b[0m\u001b[0;34m\u001b[0m\u001b[0;34m\u001b[0m\u001b[0m\n\u001b[0;32m--> 176\u001b[0;31m         \u001b[0mtrain_ids\u001b[0m\u001b[0;34m,\u001b[0m\u001b[0mtrain_lbls\u001b[0m \u001b[0;34m=\u001b[0m \u001b[0mnp\u001b[0m\u001b[0;34m.\u001b[0m\u001b[0mload\u001b[0m\u001b[0;34m(\u001b[0m\u001b[0mcache_path\u001b[0m\u001b[0;34m/\u001b[0m\u001b[0;34mf'train_ids.npy'\u001b[0m\u001b[0;34m)\u001b[0m\u001b[0;34m,\u001b[0m \u001b[0mnp\u001b[0m\u001b[0;34m.\u001b[0m\u001b[0mload\u001b[0m\u001b[0;34m(\u001b[0m\u001b[0mcache_path\u001b[0m\u001b[0;34m/\u001b[0m\u001b[0;34mf'train_lbl.npy'\u001b[0m\u001b[0;34m)\u001b[0m\u001b[0;34m\u001b[0m\u001b[0;34m\u001b[0m\u001b[0m\n\u001b[0m\u001b[1;32m    177\u001b[0m         \u001b[0mvalid_ids\u001b[0m\u001b[0;34m,\u001b[0m\u001b[0mvalid_lbls\u001b[0m \u001b[0;34m=\u001b[0m \u001b[0mnp\u001b[0m\u001b[0;34m.\u001b[0m\u001b[0mload\u001b[0m\u001b[0;34m(\u001b[0m\u001b[0mcache_path\u001b[0m\u001b[0;34m/\u001b[0m\u001b[0;34mf'valid_ids.npy'\u001b[0m\u001b[0;34m)\u001b[0m\u001b[0;34m,\u001b[0m \u001b[0mnp\u001b[0m\u001b[0;34m.\u001b[0m\u001b[0mload\u001b[0m\u001b[0;34m(\u001b[0m\u001b[0mcache_path\u001b[0m\u001b[0;34m/\u001b[0m\u001b[0;34mf'valid_lbl.npy'\u001b[0m\u001b[0;34m)\u001b[0m\u001b[0;34m\u001b[0m\u001b[0;34m\u001b[0m\u001b[0m\n\u001b[1;32m    178\u001b[0m         \u001b[0mtest_ids\u001b[0m \u001b[0;34m=\u001b[0m \u001b[0mnp\u001b[0m\u001b[0;34m.\u001b[0m\u001b[0mload\u001b[0m\u001b[0;34m(\u001b[0m\u001b[0mcache_path\u001b[0m\u001b[0;34m/\u001b[0m\u001b[0;34mf'test_ids.npy'\u001b[0m\u001b[0;34m)\u001b[0m \u001b[0;32mif\u001b[0m \u001b[0mos\u001b[0m\u001b[0;34m.\u001b[0m\u001b[0mpath\u001b[0m\u001b[0;34m.\u001b[0m\u001b[0misfile\u001b[0m\u001b[0;34m(\u001b[0m\u001b[0mcache_path\u001b[0m\u001b[0;34m/\u001b[0m\u001b[0;34mf'test_ids.npy'\u001b[0m\u001b[0;34m)\u001b[0m \u001b[0;32melse\u001b[0m \u001b[0;32mNone\u001b[0m\u001b[0;34m\u001b[0m\u001b[0;34m\u001b[0m\u001b[0m\n",
      "\u001b[0;32m~/anaconda3/envs/dev/lib/python3.7/site-packages/numpy/lib/npyio.py\u001b[0m in \u001b[0;36mload\u001b[0;34m(file, mmap_mode, allow_pickle, fix_imports, encoding)\u001b[0m\n\u001b[1;32m    431\u001b[0m             \u001b[0;32melse\u001b[0m\u001b[0;34m:\u001b[0m\u001b[0;34m\u001b[0m\u001b[0;34m\u001b[0m\u001b[0m\n\u001b[1;32m    432\u001b[0m                 return format.read_array(fid, allow_pickle=allow_pickle,\n\u001b[0;32m--> 433\u001b[0;31m                                          pickle_kwargs=pickle_kwargs)\n\u001b[0m\u001b[1;32m    434\u001b[0m         \u001b[0;32melse\u001b[0m\u001b[0;34m:\u001b[0m\u001b[0;34m\u001b[0m\u001b[0;34m\u001b[0m\u001b[0m\n\u001b[1;32m    435\u001b[0m             \u001b[0;31m# Try a pickle\u001b[0m\u001b[0;34m\u001b[0m\u001b[0;34m\u001b[0m\u001b[0;34m\u001b[0m\u001b[0m\n",
      "\u001b[0;32m~/anaconda3/envs/dev/lib/python3.7/site-packages/numpy/lib/format.py\u001b[0m in \u001b[0;36mread_array\u001b[0;34m(fp, allow_pickle, pickle_kwargs)\u001b[0m\n\u001b[1;32m    655\u001b[0m             \u001b[0mpickle_kwargs\u001b[0m \u001b[0;34m=\u001b[0m \u001b[0;34m{\u001b[0m\u001b[0;34m}\u001b[0m\u001b[0;34m\u001b[0m\u001b[0;34m\u001b[0m\u001b[0m\n\u001b[1;32m    656\u001b[0m         \u001b[0;32mtry\u001b[0m\u001b[0;34m:\u001b[0m\u001b[0;34m\u001b[0m\u001b[0;34m\u001b[0m\u001b[0m\n\u001b[0;32m--> 657\u001b[0;31m             \u001b[0marray\u001b[0m \u001b[0;34m=\u001b[0m \u001b[0mpickle\u001b[0m\u001b[0;34m.\u001b[0m\u001b[0mload\u001b[0m\u001b[0;34m(\u001b[0m\u001b[0mfp\u001b[0m\u001b[0;34m,\u001b[0m \u001b[0;34m**\u001b[0m\u001b[0mpickle_kwargs\u001b[0m\u001b[0;34m)\u001b[0m\u001b[0;34m\u001b[0m\u001b[0;34m\u001b[0m\u001b[0m\n\u001b[0m\u001b[1;32m    658\u001b[0m         \u001b[0;32mexcept\u001b[0m \u001b[0mUnicodeError\u001b[0m \u001b[0;32mas\u001b[0m \u001b[0merr\u001b[0m\u001b[0;34m:\u001b[0m\u001b[0;34m\u001b[0m\u001b[0;34m\u001b[0m\u001b[0m\n\u001b[1;32m    659\u001b[0m             \u001b[0;32mif\u001b[0m \u001b[0msys\u001b[0m\u001b[0;34m.\u001b[0m\u001b[0mversion_info\u001b[0m\u001b[0;34m[\u001b[0m\u001b[0;36m0\u001b[0m\u001b[0;34m]\u001b[0m \u001b[0;34m>=\u001b[0m \u001b[0;36m3\u001b[0m\u001b[0;34m:\u001b[0m\u001b[0;34m\u001b[0m\u001b[0;34m\u001b[0m\u001b[0m\n",
      "\u001b[0;31mKeyboardInterrupt\u001b[0m: "
     ]
    }
   ],
   "source": [
    "d = test_all('lm_threads_cut_cl_', conf={'config.mod': 'simple_fit'}, df='only_threads_unlimited_30000_cut')"
   ]
  },
  {
   "cell_type": "code",
   "execution_count": 54,
   "metadata": {
    "ExecuteTime": {
     "end_time": "2019-02-14T16:44:16.408247Z",
     "start_time": "2019-02-14T16:44:16.399813Z"
    }
   },
   "outputs": [
    {
     "data": {
      "text/plain": [
       "{'claudience': (0.8421709668455142, 0.8784029038112523, 0.6849359494081402),\n",
       " 'clpersuasive': (0.6277251307544922, 0.8119349005424954, 0.2582159624413145),\n",
       " 'clsentiment': (0.44014628350696794, 0.6454545454545455, 0.33399157941801105),\n",
       " 'clagreement': (0.677451451314074, 0.8770343580470162, 0.36844580296261464),\n",
       " 'cldisagreement': (0.7172282679952799,\n",
       "  0.7179023508137432,\n",
       "  0.44105222236620445),\n",
       " 'clinformative': (0.5790177561055901,\n",
       "  0.7992766726943942,\n",
       "  0.15817984832069343),\n",
       " 'clmean': (0.6757378478747876, 0.7884267631103075, 0.3674562749909568),\n",
       " 'clcontroversial': (0.580391373801917,\n",
       "  0.5877034358047016,\n",
       "  0.24910667492496064),\n",
       " 'cltopic': (0.5927595145516673, 0.6383363471971067, 0.19354838709677424)}"
      ]
     },
     "execution_count": 54,
     "metadata": {},
     "output_type": "execute_result"
    }
   ],
   "source": [
    "d"
   ]
  },
  {
   "cell_type": "code",
   "execution_count": 11,
   "metadata": {
    "ExecuteTime": {
     "end_time": "2019-02-15T15:03:14.431124Z",
     "start_time": "2019-02-15T14:53:47.562606Z"
    }
   },
   "outputs": [],
   "source": [
    "d2 = test_all('lm_threads_cl_', conf={'config.mod': 'simle_fit'}, df=\"threads_headline_unlimited_30000_cut\")"
   ]
  },
  {
   "cell_type": "code",
   "execution_count": 12,
   "metadata": {
    "ExecuteTime": {
     "end_time": "2019-02-15T15:03:14.446981Z",
     "start_time": "2019-02-15T15:03:14.437353Z"
    }
   },
   "outputs": [
    {
     "data": {
      "text/plain": [
       "{'claudience': (0.8356205250596659, 0.8802177858439202, 0.6740930599369086),\n",
       " 'clpersuasive': (0.6456240845365139, 0.8227848101265823, 0.2943673341840055),\n",
       " 'clsentiment': (0.4406875486894789, 0.6454545454545455, 0.3146877276386918),\n",
       " 'clagreement': (0.6314807410369185, 0.8553345388788427, 0.2757277102910841),\n",
       " 'cldisagreement': (0.7164922704805974,\n",
       "  0.7179023508137432,\n",
       "  0.4424826801778513),\n",
       " 'clinformative': (0.5886866314347231,\n",
       "  0.8282097649186256,\n",
       "  0.17923039667536367),\n",
       " 'clmean': (0.6993963322175493, 0.8282097649186256, 0.402977441900108),\n",
       " 'clcontroversial': (0.5491620955160788,\n",
       "  0.5605786618444847,\n",
       "  0.20784380765988553),\n",
       " 'cltopic': (0.5872282965435757, 0.6401446654611211, 0.17913965822038902)}"
      ]
     },
     "execution_count": 12,
     "metadata": {},
     "output_type": "execute_result"
    }
   ],
   "source": [
    "d2"
   ]
  },
  {
   "cell_type": "code",
   "execution_count": 6,
   "metadata": {
    "ExecuteTime": {
     "end_time": "2019-03-12T16:21:41.192190Z",
     "start_time": "2019-03-12T16:19:13.466961Z"
    }
   },
   "outputs": [],
   "source": [
    "d_headline = test_all('threads_headline_cl_', df='threads_headline_unlimited_30000_cut')"
   ]
  },
  {
   "cell_type": "code",
   "execution_count": 8,
   "metadata": {
    "ExecuteTime": {
     "end_time": "2019-03-12T16:22:39.206571Z",
     "start_time": "2019-03-12T16:22:39.192793Z"
    }
   },
   "outputs": [
    {
     "data": {
      "text/plain": [
       "{'claudience': (0.8540197332358854, 0.8947368421052632, 0.7110801721332225),\n",
       " 'clpersuasive': (0.6455128205128206, 0.8155515370705244, 0.292466320463611),\n",
       " 'clsentiment': (0.4279077011508827, 0.6236363636363637, 0.31490775174206587),\n",
       " 'clagreement': (0.6340299547196099, 0.8625678119349005, 0.28489757027155793),\n",
       " 'cldisagreement': (0.6995485572601279, 0.701627486437613, 0.4111972226344963),\n",
       " 'clinformative': (0.5641551071878941,\n",
       "  0.8191681735985533,\n",
       "  0.13053048646268994),\n",
       " 'clmean': (0.6902753996575506, 0.810126582278481, 0.3896952943525924),\n",
       " 'clcontroversial': (0.5668643115923915,\n",
       "  0.5750452079566004,\n",
       "  0.22763986045157103),\n",
       " 'cltopic': (0.5594910861540878, 0.6148282097649186, 0.12448620082207862)}"
      ]
     },
     "execution_count": 8,
     "metadata": {},
     "output_type": "execute_result"
    }
   ],
   "source": [
    "d_headline"
   ]
  },
  {
   "cell_type": "code",
   "execution_count": 6,
   "metadata": {
    "ExecuteTime": {
     "end_time": "2019-03-30T22:05:27.331459Z",
     "start_time": "2019-03-30T22:02:57.207382Z"
    }
   },
   "outputs": [],
   "source": [
    "d_headline_root = test_all('headline_root_threads_cl_', df='threads_root_headline_unlimited_30000_cut')"
   ]
  },
  {
   "cell_type": "code",
   "execution_count": 7,
   "metadata": {
    "ExecuteTime": {
     "end_time": "2019-03-30T22:05:27.340788Z",
     "start_time": "2019-03-30T22:05:27.334937Z"
    }
   },
   "outputs": [
    {
     "data": {
      "text/plain": [
       "{'claudience': (0.7819326726776149, 0.8166969147005445, 0.5647675282524538),\n",
       " 'clpersuasive': (0.6571858216970998, 0.8173598553345389, 0.31508209989331315),\n",
       " 'clsentiment': (0.43345907296087877, 0.62, 0.30324887865195793),\n",
       " 'clagreement': (0.6624114242440634, 0.8571428571428571, 0.3311542171257099),\n",
       " 'cldisagreement': (0.7090698653198653, 0.7106690777576854, 0.428431157220191),\n",
       " 'clinformative': (0.5791139240506329, 0.7938517179023509, 0.1587894638520455),\n",
       " 'clmean': (0.7063598462743613, 0.8173598553345389, 0.422582679444634),\n",
       " 'clcontroversial': (0.580518983667977,\n",
       "  0.5840867992766727,\n",
       "  0.2309320240413104),\n",
       " 'cltopic': (0.5796766144251768, 0.6292947558770343, 0.16618245206275417)}"
      ]
     },
     "execution_count": 7,
     "metadata": {},
     "output_type": "execute_result"
    }
   ],
   "source": [
    "d_headline_root"
   ]
  },
  {
   "cell_type": "code",
   "execution_count": 19,
   "metadata": {
    "ExecuteTime": {
     "end_time": "2019-03-12T16:42:01.817636Z",
     "start_time": "2019-03-12T16:39:29.527220Z"
    }
   },
   "outputs": [],
   "source": [
    "d_headline_article = test_all('threads_headline_article_cl_', df='threads_headline_unlimited_30000_cut')"
   ]
  },
  {
   "cell_type": "code",
   "execution_count": 20,
   "metadata": {
    "ExecuteTime": {
     "end_time": "2019-03-12T17:09:08.253761Z",
     "start_time": "2019-03-12T17:09:08.239502Z"
    }
   },
   "outputs": [
    {
     "data": {
      "text/plain": [
       "{'claudience': (0.848465994905435, 0.8892921960072595, 0.6994375240326576),\n",
       " 'clpersuasive': (0.656187827816965, 0.8010849909584087, 0.3125155398838182),\n",
       " 'clsentiment': (0.4478810198506771, 0.5945454545454546, 0.32271246341598103),\n",
       " 'clagreement': (0.6166630105734217, 0.8571428571428571, 0.25176837309675093),\n",
       " 'cldisagreement': (0.710668131638152, 0.7106690777576854, 0.4232674558064349),\n",
       " 'clinformative': (0.5941882874171005, 0.806509945750452, 0.18851570964247022),\n",
       " 'clmean': (0.6718925985518905, 0.786618444846293, 0.3595642359407204),\n",
       " 'clcontroversial': (0.5061957357951423,\n",
       "  0.5298372513562387,\n",
       "  0.1709719082983533),\n",
       " 'cltopic': (0.5548103999308974, 0.5786618444846293, 0.1447299423177767)}"
      ]
     },
     "execution_count": 20,
     "metadata": {},
     "output_type": "execute_result"
    }
   ],
   "source": [
    "d_headline_article"
   ]
  },
  {
   "cell_type": "code",
   "execution_count": 9,
   "metadata": {
    "ExecuteTime": {
     "end_time": "2019-03-30T22:07:02.247828Z",
     "start_time": "2019-03-30T22:07:02.225814Z"
    }
   },
   "outputs": [],
   "source": [
    "def get_table(dic, db, **kwargs):\n",
    "    rows = []\n",
    "    for col in all_cols:\n",
    "        r = []\n",
    "        r.append(col[2:].title())\n",
    "        kappa, micro, macro, *rest = get_mets(db + col, **kwargs)\n",
    "        r += [micro, macro, kappa]\n",
    "        r.append(dic[col][1])\n",
    "        r.append(dic[col][0])\n",
    "        r.append(dic[col][2])\n",
    "        rows.append(r)\n",
    "\n",
    "    for r in rows:\n",
    "        r = [str(x) for x in r]\n",
    "        print(' & '.join(r) + ' \\\\\\\\')"
   ]
  },
  {
   "cell_type": "code",
   "execution_count": 10,
   "metadata": {
    "ExecuteTime": {
     "end_time": "2019-02-15T14:49:44.364211Z",
     "start_time": "2019-02-15T14:49:44.314249Z"
    }
   },
   "outputs": [
    {
     "name": "stdout",
     "output_type": "stream",
     "text": [
      "Audience & 0.8364887833595276 & 0.7963261585921615 & 0.6009355783462524 & 0.8784029038112523 & 0.8421709668455142 & 0.6849359494081402 \\\\\n",
      "Persuasive & 0.8473413586616516 & 0.703592626233198 & 0.40735119581222534 & 0.8083182640144665 & 0.6280206112295665 & 0.25792485314968605 \\\\\n",
      "Sentiment & 0.6470588445663452 & 0.40863006396588486 & 0.3614158630371094 & 0.6454545454545455 & 0.44014628350696794 & 0.33399157941801105 \\\\\n",
      "Agreement & 0.9210977554321289 & 0.7613207547169811 & 0.5264347791671753 & 0.8770343580470162 & 0.677451451314074 & 0.36844580296261464 \\\\\n",
      "Disagreement & 0.7941681146621704 & 0.7861335289801907 & 0.5722670555114746 & 0.7160940325497287 & 0.7152560272081179 & 0.43782982277792526 \\\\\n",
      "Informative & 0.8473413586616516 & 0.6950424637808927 & 0.39166170358657837 & 0.7974683544303798 & 0.5775401069518716 & 0.15528763536182866 \\\\\n",
      "Mean & 0.8147512674331665 & 0.7266333229134104 & 0.45350390672683716 & 0.7884267631103075 & 0.6757378478747876 & 0.3674562749909568 \\\\\n",
      "Controversial & 0.728987991809845 & 0.6795455177980018 & 0.3601683974266052 & 0.5877034358047016 & 0.5799776137302454 & 0.2501338154654994 \\\\\n",
      "Topic & 0.7547169923782349 & 0.7220004735085315 & 0.4445362091064453 & 0.6383363471971067 & 0.5927595145516673 & 0.19354838709677424 \\\\\n"
     ]
    }
   ],
   "source": [
    "get_table(d, db='lm_threads_cut_cl_', conf={'config.mod': 'simple_fit'})"
   ]
  },
  {
   "cell_type": "code",
   "execution_count": 13,
   "metadata": {
    "ExecuteTime": {
     "end_time": "2019-02-15T15:03:14.497896Z",
     "start_time": "2019-02-15T15:03:14.450158Z"
    }
   },
   "outputs": [
    {
     "name": "stdout",
     "output_type": "stream",
     "text": [
      "Audience & 0.8278829455375671 & 0.7772512575144154 & 0.5690997838973999 & 0.8802177858439202 & 0.8356205250596659 & 0.6740930599369086 \\\\\n",
      "Persuasive & 0.8456260561943054 & 0.6740183896620278 & 0.34844154119491577 & 0.8227848101265823 & 0.6456240845365139 & 0.2943673341840055 \\\\\n",
      "Sentiment & 0.6159169673919678 & 0.42018169515097575 & 0.32171106338500977 & 0.6454545454545455 & 0.4406875486894789 & 0.3146877276386918 \\\\\n",
      "Agreement & 0.9125214219093323 & 0.7460996541565261 & 0.4948951005935669 & 0.8553345388788427 & 0.6314807410369185 & 0.2757277102910841 \\\\\n",
      "Disagreement & 0.7821612358093262 & 0.7738135606164749 & 0.5476285219192505 & 0.7179023508137432 & 0.7164922704805974 & 0.4424826801778513 \\\\\n",
      "Informative & 0.843910813331604 & 0.67211767250703 & 0.3481070399284363 & 0.8282097649186256 & 0.5886866314347231 & 0.17923039667536367 \\\\\n",
      "Mean & 0.8404802680015564 & 0.7247836349331235 & 0.45336586236953735 & 0.8282097649186256 & 0.6993963322175493 & 0.402977441900108 \\\\\n",
      "Controversial & 0.7255574464797974 & 0.6723154315262907 & 0.34643083810806274 & 0.5605786618444847 & 0.5491620955160788 & 0.20784380765988553 \\\\\n",
      "Topic & 0.7632933259010315 & 0.7125246548323472 & 0.42665547132492065 & 0.6401446654611211 & 0.5872282965435757 & 0.17913965822038902 \\\\\n"
     ]
    }
   ],
   "source": [
    "get_table(d2, db='lm_threads_cl_', conf={'config.mod': 'simle_fit'})"
   ]
  },
  {
   "cell_type": "code",
   "execution_count": 6,
   "metadata": {
    "ExecuteTime": {
     "end_time": "2019-02-26T20:59:16.473655Z",
     "start_time": "2019-02-26T20:57:25.711589Z"
    }
   },
   "outputs": [],
   "source": [
    "d_baseline = test_all('dat_false_par_true_hea_false30000_cl_', df='dat_false_par_true_hea_false', baseline=True)"
   ]
  },
  {
   "cell_type": "code",
   "execution_count": 9,
   "metadata": {
    "ExecuteTime": {
     "end_time": "2019-02-26T20:59:22.329805Z",
     "start_time": "2019-02-26T20:59:22.284376Z"
    }
   },
   "outputs": [
    {
     "name": "stdout",
     "output_type": "stream",
     "text": [
      "Audience & 0.8347676396369934 & 0.7905299843768778 & 0.5918749570846558 & 0.8820326678765881 & 0.8393549978694297 & 0.6811143856899913 \\\\\n",
      "Persuasive & 0.8301886916160583 & 0.6847323198942499 & 0.3704584240913391 & 0.7956600361663653 & 0.6234082430860648 & 0.24718397243605972 \\\\\n",
      "Sentiment & 0.6280276775360107 & 0.44814216067070645 & 0.322735071182251 & 0.6527272727272727 & 0.4368316980488497 & 0.3029382100010617 \\\\\n",
      "Agreement & 0.9125214219093323 & 0.6960592895476616 & 0.40444666147232056 & 0.8679927667269439 & 0.6092402404437174 & 0.24918630386668417 \\\\\n",
      "Disagreement & 0.7787306904792786 & 0.7728248951074299 & 0.5461447238922119 & 0.6907775768535263 & 0.6903725823404026 & 0.38638885464184447 \\\\\n",
      "Informative & 0.8473413586616516 & 0.6793238775068756 & 0.36243438720703125 & 0.8083182640144665 & 0.5252834467120182 & 0.054273821432028524 \\\\\n",
      "Mean & 0.8404802680015564 & 0.7521813652672715 & 0.5044736862182617 & 0.8010849909584087 & 0.6900350576821166 & 0.3935315347650097 \\\\\n",
      "Controversial & 0.7066895365715027 & 0.672649362163227 & 0.34607386589050293 & 0.6057866184448463 & 0.6006029684601113 & 0.27708950480325256 \\\\\n",
      "Topic & 0.7066895365715027 & 0.6444018790596141 & 0.29064828157424927 & 0.6781193490054249 & 0.5962642735267095 & 0.19300518134715028 \\\\\n"
     ]
    }
   ],
   "source": [
    "get_table(d_baseline, db='dat_false_par_true_hea_false30000_cl_')"
   ]
  },
  {
   "cell_type": "code",
   "execution_count": 11,
   "metadata": {
    "ExecuteTime": {
     "end_time": "2019-03-12T16:23:05.796574Z",
     "start_time": "2019-03-12T16:23:05.684175Z"
    }
   },
   "outputs": [
    {
     "name": "stdout",
     "output_type": "stream",
     "text": [
      "Audience & 0.8399311304092407 & 0.7941482370421167 & 0.6008878946304321 & 0.8947368421052632 & 0.8540197332358854 & 0.7110801721332225 \\\\\n",
      "Persuasive & 0.8473413586616516 & 0.688988389587192 & 0.3780103325843811 & 0.8155515370705244 & 0.6455128205128206 & 0.292466320463611 \\\\\n",
      "Sentiment & 0.6038062572479248 & 0.40958570678427597 & 0.318831205368042 & 0.6236363636363637 & 0.4279077011508827 & 0.31490775174206587 \\\\\n",
      "Agreement & 0.9210977554321289 & 0.7613207547169811 & 0.5264347791671753 & 0.8625678119349005 & 0.6340299547196099 & 0.28489757027155793 \\\\\n",
      "Disagreement & 0.7924528121948242 & 0.7838974613473515 & 0.5678068399429321 & 0.701627486437613 & 0.6995485572601279 & 0.4111972226344963 \\\\\n",
      "Informative & 0.8593481779098511 & 0.6932523997741389 & 0.39213693141937256 & 0.8191681735985533 & 0.5641551071878941 & 0.13053048646268994 \\\\\n",
      "Mean & 0.8456260561943054 & 0.7496278057718735 & 0.5002095699310303 & 0.810126582278481 & 0.6902753996575506 & 0.3896952943525924 \\\\\n",
      "Controversial & 0.7272727489471436 & 0.6848037865573136 & 0.36971259117126465 & 0.5750452079566004 & 0.5668643115923915 & 0.22763986045157103 \\\\\n",
      "Topic & 0.7581475377082825 & 0.7025779257195579 & 0.40778064727783203 & 0.6148282097649186 & 0.5594910861540878 & 0.12448620082207862 \\\\\n"
     ]
    }
   ],
   "source": [
    "get_table(d_headline, db='threads_headline_cl_', conf={'config.mod': 'simple_fit'})"
   ]
  },
  {
   "cell_type": "code",
   "execution_count": 10,
   "metadata": {
    "ExecuteTime": {
     "end_time": "2019-03-30T22:07:05.396027Z",
     "start_time": "2019-03-30T22:07:05.284355Z"
    }
   },
   "outputs": [
    {
     "name": "stdout",
     "output_type": "stream",
     "text": [
      "Audience & 0.826161801815033 & 0.7970646110644243 & 0.5960416793823242 & 0.8166969147005445 & 0.7819326726776149 & 0.5647675282524538 \\\\\n",
      "Persuasive & 0.8713550567626953 & 0.7209725279984686 & 0.4427451491355896 & 0.8173598553345389 & 0.6571858216970998 & 0.31508209989331315 \\\\\n",
      "Sentiment & 0.6107266545295715 & 0.41123962765207106 & 0.3285176753997803 & 0.62 & 0.43345907296087877 & 0.30324887865195793 \\\\\n",
      "Agreement & 0.9159519672393799 & 0.7636453894841353 & 0.5290092825889587 & 0.8571428571428571 & 0.6624114242440634 & 0.3311542171257099 \\\\\n",
      "Disagreement & 0.7855917811393738 & 0.7770677255248659 & 0.5541368722915649 & 0.7106690777576854 & 0.7090698653198653 & 0.428431157220191 \\\\\n",
      "Informative & 0.8456260561943054 & 0.6901133947554925 & 0.3819933533668518 & 0.7938517179023509 & 0.5791139240506329 & 0.1587894638520455 \\\\\n",
      "Mean & 0.838765025138855 & 0.738500152695068 & 0.4779966473579407 & 0.8173598553345389 & 0.7063598462743613 & 0.422582679444634 \\\\\n",
      "Controversial & 0.728987991809845 & 0.6863285932221859 & 0.37279385328292847 & 0.5840867992766727 & 0.580518983667977 & 0.2309320240413104 \\\\\n",
      "Topic & 0.7701543569564819 & 0.7405274345688854 & 0.48174339532852173 & 0.6292947558770343 & 0.5796766144251768 & 0.16618245206275417 \\\\\n"
     ]
    }
   ],
   "source": [
    "get_table(d_headline_root, db='headline_root_threads_cl_', conf={'config.mod': 'simple_fit'})"
   ]
  },
  {
   "cell_type": "code",
   "execution_count": 21,
   "metadata": {
    "ExecuteTime": {
     "end_time": "2019-03-12T17:09:54.535555Z",
     "start_time": "2019-03-12T17:09:54.419196Z"
    }
   },
   "outputs": [
    {
     "name": "stdout",
     "output_type": "stream",
     "text": [
      "Audience & 0.8330464959144592 & 0.7852943977751109 & 0.5837217569351196 & 0.8892921960072595 & 0.848465994905435 & 0.6994375240326576 \\\\\n",
      "Persuasive & 0.8113207817077637 & 0.6512095896967324 & 0.3036462664604187 & 0.8010849909584087 & 0.656187827816965 & 0.3125155398838182 \\\\\n",
      "Sentiment & 0.6089965105056763 & 0.42122653355484513 & 0.32407450675964355 & 0.5945454545454546 & 0.4478810198506771 & 0.32271246341598103 \\\\\n",
      "Agreement & 0.9090909361839294 & 0.7318097784104224 & 0.4669921398162842 & 0.8571428571428571 & 0.6166630105734217 & 0.25176837309675093 \\\\\n",
      "Disagreement & 0.7632933259010315 & 0.7565541031227306 & 0.5134850740432739 & 0.7106690777576854 & 0.710668131638152 & 0.4232674558064349 \\\\\n",
      "Informative & 0.8267581462860107 & 0.6667119480622393 & 0.3340609073638916 & 0.806509945750452 & 0.5941882874171005 & 0.18851570964247022 \\\\\n",
      "Mean & 0.8267581462860107 & 0.7273745861981156 & 0.45505446195602417 & 0.786618444846293 & 0.6718925985518905 & 0.3595642359407204 \\\\\n",
      "Controversial & 0.739279568195343 & 0.689719887955182 & 0.3809050917625427 & 0.5298372513562387 & 0.5061957357951423 & 0.1709719082983533 \\\\\n",
      "Topic & 0.7530016899108887 & 0.7115527335697203 & 0.42313718795776367 & 0.5786618444846293 & 0.5548103999308974 & 0.1447299423177767 \\\\\n"
     ]
    }
   ],
   "source": [
    "get_table(d_headline_article, db='threads_headline_article_cl_', conf={'config.mod': 'simple_fit'})"
   ]
  },
  {
   "cell_type": "code",
   "execution_count": null,
   "metadata": {},
   "outputs": [],
   "source": []
  }
 ],
 "metadata": {
  "kernelspec": {
   "display_name": "Python 3",
   "language": "python",
   "name": "python3"
  },
  "language_info": {
   "codemirror_mode": {
    "name": "ipython",
    "version": 3
   },
   "file_extension": ".py",
   "mimetype": "text/x-python",
   "name": "python",
   "nbconvert_exporter": "python",
   "pygments_lexer": "ipython3",
   "version": "3.7.1"
  },
  "toc": {
   "base_numbering": 1,
   "nav_menu": {},
   "number_sections": true,
   "sideBar": true,
   "skip_h1_title": false,
   "title_cell": "Table of Contents",
   "title_sidebar": "Contents",
   "toc_cell": false,
   "toc_position": {},
   "toc_section_display": true,
   "toc_window_display": false
  }
 },
 "nbformat": 4,
 "nbformat_minor": 2
}
