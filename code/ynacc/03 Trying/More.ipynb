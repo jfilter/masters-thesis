{
 "cells": [
  {
   "cell_type": "code",
   "execution_count": 1,
   "metadata": {
    "ExecuteTime": {
     "end_time": "2018-11-11T18:14:10.089458Z",
     "start_time": "2018-11-11T18:14:08.941416Z"
    }
   },
   "outputs": [
    {
     "data": {
      "text/plain": [
       "'1.0.22'"
      ]
     },
     "execution_count": 1,
     "metadata": {},
     "output_type": "execute_result"
    }
   ],
   "source": [
    "from fastai.text import *\n",
    "from fastai.datasets import *\n",
    "from pathlib import Path\n",
    "import pandas as pd\n",
    "from fastai.metrics import *\n",
    "from fastai.train import *\n",
    "from fastai.vision import *\n",
    "from fastai.imports import nn, torch\n",
    "from sklearn import metrics\n",
    "from fastai.callbacks import *\n",
    "from fastai.basic_train import get_preds\n",
    "\n",
    "import sklearn.metrics\n",
    "import datetime\n",
    "torch.cuda.set_device(3)\n",
    "\n",
    "import fastai\n",
    "fastai.__version__"
   ]
  },
  {
   "cell_type": "code",
   "execution_count": 4,
   "metadata": {
    "ExecuteTime": {
     "end_time": "2018-11-11T18:14:14.027054Z",
     "start_time": "2018-11-11T18:14:14.023355Z"
    }
   },
   "outputs": [],
   "source": [
    "EX_PA = Path('/mnt/data/group07/johannes/ynacc_proc/replicate/lmmodels')"
   ]
  },
  {
   "cell_type": "code",
   "execution_count": 5,
   "metadata": {
    "ExecuteTime": {
     "end_time": "2018-11-11T18:14:15.910789Z",
     "start_time": "2018-11-11T18:14:14.404191Z"
    }
   },
   "outputs": [],
   "source": [
    "data_lm = TextLMDataBunch.load(EX_PA)"
   ]
  },
  {
   "cell_type": "code",
   "execution_count": 16,
   "metadata": {
    "ExecuteTime": {
     "end_time": "2018-11-11T18:28:45.224656Z",
     "start_time": "2018-11-11T18:28:44.537325Z"
    }
   },
   "outputs": [],
   "source": [
    "learn = language_model_learner(data_lm, drop_mult=0.2).load(EX_PA/\"models\"/\"2018_11_11_16_27_24_932260\")"
   ]
  },
  {
   "cell_type": "code",
   "execution_count": 17,
   "metadata": {
    "ExecuteTime": {
     "end_time": "2018-11-11T18:28:45.228553Z",
     "start_time": "2018-11-11T18:28:45.226382Z"
    }
   },
   "outputs": [],
   "source": [
    "learn.unfreeze()"
   ]
  },
  {
   "cell_type": "code",
   "execution_count": 12,
   "metadata": {
    "ExecuteTime": {
     "end_time": "2018-11-11T18:26:45.924926Z",
     "start_time": "2018-11-11T18:24:04.230489Z"
    }
   },
   "outputs": [
    {
     "name": "stdout",
     "output_type": "stream",
     "text": [
      "LR Finder complete, type {learner_name}.recorder.plot() to see the graph.\n"
     ]
    }
   ],
   "source": [
    "learn.lr_find(start_lr=1e-10, end_lr=1e-2, num_it=1000)"
   ]
  },
  {
   "cell_type": "code",
   "execution_count": 13,
   "metadata": {
    "ExecuteTime": {
     "end_time": "2018-11-11T18:26:46.493795Z",
     "start_time": "2018-11-11T18:26:45.927317Z"
    }
   },
   "outputs": [
    {
     "data": {
      "image/png": "[encoded data removed]",
      "text/plain": [
       "<Figure size 432x288 with 1 Axes>"
      ]
     },
     "metadata": {
      "needs_background": "light"
     },
     "output_type": "display_data"
    }
   ],
   "source": [
    "learn.recorder.plot()"
   ]
  },
  {
   "cell_type": "code",
   "execution_count": 18,
   "metadata": {
    "ExecuteTime": {
     "end_time": "2018-11-11T18:28:46.596337Z",
     "start_time": "2018-11-11T18:28:46.592401Z"
    }
   },
   "outputs": [],
   "source": [
    "lr = 1e-4"
   ]
  },
  {
   "cell_type": "code",
   "execution_count": 19,
   "metadata": {
    "ExecuteTime": {
     "end_time": "2018-11-11T18:36:59.357478Z",
     "start_time": "2018-11-11T18:28:47.070593Z"
    }
   },
   "outputs": [
    {
     "name": "stdout",
     "output_type": "stream",
     "text": [
      "Total time: 08:12\n",
      "epoch  train_loss  valid_loss  accuracy\n",
      "1      4.220524    4.314507    0.256391  (08:12)\n",
      "\n"
     ]
    }
   ],
   "source": [
    "learn.fit_one_cycle(1, [lr / 2.6*3, lr / 2.6*2, lr / 2.6, lr])"
   ]
  },
  {
   "cell_type": "markdown",
   "metadata": {
    "ExecuteTime": {
     "end_time": "2018-11-11T17:59:53.238084Z",
     "start_time": "2018-11-11T17:59:53.233049Z"
    }
   },
   "source": [
    "## 1      4.109582    4.304508    0.257547  (08:11)"
   ]
  },
  {
   "cell_type": "markdown",
   "metadata": {
    "ExecuteTime": {
     "end_time": "2018-11-11T18:10:18.909435Z",
     "start_time": "2018-11-11T18:10:18.904496Z"
    }
   },
   "source": [
    "# 1      4.169057    4.333825    0.254068  (08:12)\n",
    "learn.fit_one_cycle(1, slice(1e-5, 1e-4))"
   ]
  },
  {
   "cell_type": "markdown",
   "metadata": {},
   "source": [
    "# learn.fit_one_cycle(1, [lr / 2.6**3, lr / 2.6**2, lr / 2.6, lr])\n",
    "\n",
    "executed in 8m 15s, finished 19:22:40 2018-11-11\n",
    "\n",
    "Total time: 08:15\n",
    "epoch  train_loss  valid_loss  accuracy\n",
    "1      4.239848    4.370053    0.251408  (08:15)\n",
    "\n"
   ]
  },
  {
   "cell_type": "code",
   "execution_count": null,
   "metadata": {},
   "outputs": [],
   "source": []
  }
 ],
 "metadata": {
  "kernelspec": {
   "display_name": "Python 3",
   "language": "python",
   "name": "python3"
  },
  "language_info": {
   "codemirror_mode": {
    "name": "ipython",
    "version": 3
   },
   "file_extension": ".py",
   "mimetype": "text/x-python",
   "name": "python",
   "nbconvert_exporter": "python",
   "pygments_lexer": "ipython3",
   "version": "3.6.6"
  },
  "toc": {
   "base_numbering": 1,
   "nav_menu": {},
   "number_sections": true,
   "sideBar": true,
   "skip_h1_title": false,
   "title_cell": "Table of Contents",
   "title_sidebar": "Contents",
   "toc_cell": false,
   "toc_position": {},
   "toc_section_display": true,
   "toc_window_display": false
  }
 },
 "nbformat": 4,
 "nbformat_minor": 2
}
