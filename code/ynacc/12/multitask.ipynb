{
 "cells": [
  {
   "cell_type": "code",
   "execution_count": 1,
   "metadata": {
    "ExecuteTime": {
     "end_time": "2019-01-24T17:19:26.035618Z",
     "start_time": "2019-01-24T17:19:16.217869Z"
    }
   },
   "outputs": [
    {
     "name": "stdout",
     "output_type": "stream",
     "text": [
      "1.0.39.dev0\n",
      "saved enconder, best model id: 2019_ 1_16_20_07_47_497762\n"
     ]
    }
   ],
   "source": [
    "#!/usr/bin/env python\n",
    "# coding: utf-8\n",
    "\n",
    "# In[ ]:\n",
    "\n",
    "\n",
    "#!/usr/bin/env python\n",
    "\n",
    "\n",
    "# In[10]:\n",
    "\n",
    "\n",
    "import argparse\n",
    "import datetime\n",
    "from pathlib import Path\n",
    "import shutil\n",
    "\n",
    "import fastai\n",
    "import pandas as pd\n",
    "import pymongo\n",
    "import sacred\n",
    "import sklearn.metrics\n",
    "from fastai.basic_train import get_preds\n",
    "from fastai.callbacks import *\n",
    "from fastai.datasets import *\n",
    "from fastai.imports import nn, torch\n",
    "from fastai.metrics import *\n",
    "from fastai.text import *\n",
    "from fastai.text.data import DataBunch\n",
    "from fastai.train import *\n",
    "from fastai.vision import *\n",
    "from sacred import Experiment\n",
    "from sacred.observers import MongoObserver\n",
    "from sklearn import metrics\n",
    "\n",
    "import news_utils.fastai\n",
    "\n",
    "from types import SimpleNamespace\n",
    "# \"2019_ 1_17_03_57_13_062934\"\n",
    "args = SimpleNamespace(**{'exp': 'only_threads_unlimited_30000', 'best': '2019_ 1_16_20_07_47_497762', 'device': 3})\n",
    "# args = SimpleNamespace(**{'exp': 'only_threads_unlimited_30000', 'best': '2019_ 1_17_03_57_13_062934', 'device': 3})\n",
    "\n",
    "\n",
    "EX_PA = Path('/mnt/data/group07/johannes/ynacc_proc/proper_threads/exp/cl/' + args.exp)\n",
    "\n",
    "# torch.cuda.set_device(args.device)\n",
    "\n",
    "print(fastai.__version__)\n",
    "\n",
    "\n",
    "best_lm_exp_id = args.best\n",
    "\n",
    "# all_classes = ['claudience', 'clpersuasive', 'clsentiment', 'clagreement', 'cldisagreement', 'clinformative', 'clmean', 'clcontroversial', 'cltopic']\n",
    "all_classes = ['claudience', 'clpersuasive', 'clagreement', 'cldisagreement', 'clinformative', 'clmean', 'clcontroversial', 'cltopic']\n",
    "\n",
    "data_lm = TextLMDataBunch.load(Path('/mnt/data/group07/johannes/ynacc_proc/proper_threads/exp/lm/' + args.exp))\n",
    "learn_lm = language_model_learner(data_lm).load(\n",
    "    Path('/mnt/data/group07/johannes/ynacc_proc/proper_threads/exp/lm/'+ args.exp  + \"/models/\" + best_lm_exp_id, device=\"cpu\"))\n",
    "learn_lm.save_encoder('encoder_' + best_lm_exp_id)\n",
    "shutil.move('/mnt/data/group07/johannes/ynacc_proc/proper_threads/exp/lm/'+ args.exp  + \"/models/\"  + 'encoder_' + best_lm_exp_id + '.pth', '/mnt/data/group07/johannes/ynacc_proc/proper_threads/exp/cl/'+ args.exp  + \"/models/\" + 'encoder_' + best_lm_exp_id + '.pth')\n",
    "learn_lm_vocab = data_lm.train_ds.vocab\n",
    "del data_lm\n",
    "del learn_lm\n",
    "\n",
    "print('saved enconder, best model id:', best_lm_exp_id)"
   ]
  },
  {
   "cell_type": "code",
   "execution_count": 2,
   "metadata": {
    "ExecuteTime": {
     "end_time": "2019-01-24T17:19:26.092822Z",
     "start_time": "2019-01-24T17:19:26.082488Z"
    }
   },
   "outputs": [],
   "source": [
    "def setup_data():\n",
    "    UT = Path('~/data/ynacc_proc/proper_threads/data/cls/' + args.exp)\n",
    "    \n",
    "    data_clas_train = pd.read_csv(UT/'train.csv')\n",
    "    data_clas_val = pd.read_csv(UT/'val.csv')\n",
    "\n",
    "#     data_clas_train = data_clas_train[[clas, 'text_proc']]\n",
    "#     data_clas_val = data_clas_val[[clas, 'text_proc']]\n",
    "\n",
    "    print(data_clas_train.shape)\n",
    "    print(data_clas_val.shape)\n",
    "\n",
    "    data_clas_train = data_clas_train.dropna(subset=all_classes)\n",
    "    data_clas_val = data_clas_val.dropna(subset=all_classes)\n",
    "    \n",
    "    print(data_clas_train.shape)\n",
    "    print(data_clas_val.shape)\n",
    "    \n",
    "    for clas in all_classes:\n",
    "        data_clas_train[clas] = data_clas_train[clas].astype(int)\n",
    "        data_clas_val[clas] = data_clas_val[clas].astype(int)\n",
    "\n",
    "    data_clas = TextClasDataBunch.from_df(EX_PA, data_clas_train, data_clas_val,\n",
    "                                          vocab=learn_lm_vocab, bs=50, text_cols=['text_proc'], label_cols=all_classes,tokenizer=Tokenizer(cut_n_from_behind=1398))\n",
    "    return data_clas"
   ]
  },
  {
   "cell_type": "code",
   "execution_count": 3,
   "metadata": {
    "ExecuteTime": {
     "end_time": "2019-01-24T17:19:36.579466Z",
     "start_time": "2019-01-24T17:19:26.095196Z"
    }
   },
   "outputs": [],
   "source": [
    "data_clas = setup_data()"
   ]
  },
  {
   "cell_type": "code",
   "execution_count": 4,
   "metadata": {
    "ExecuteTime": {
     "end_time": "2019-01-24T17:19:38.017340Z",
     "start_time": "2019-01-24T17:19:36.584034Z"
    }
   },
   "outputs": [
    {
     "data": {
      "text/plain": [
       "(tensor([[  530,    50,  4193,  ...,    65,     4,     2],\n",
       "         [   58,   120,    65,  ...,    26,     4,     2],\n",
       "         [    8,    13, 15265,  ...,    12,     4,     2],\n",
       "         ...,\n",
       "         [    1,     1,     1,  ...,   114,     4,     2],\n",
       "         [    1,     1,     1,  ...,    40,     4,     2],\n",
       "         [    1,     1,     1,  ...,    24,     4,     2]]),\n",
       " tensor([[1., 0., 1., 0., 0., 0., 0., 1.],\n",
       "         [1., 0., 1., 0., 0., 0., 1., 1.],\n",
       "         [1., 0., 0., 1., 0., 1., 1., 0.],\n",
       "         [1., 0., 0., 1., 0., 1., 0., 1.],\n",
       "         [1., 0., 0., 1., 0., 0., 0., 0.],\n",
       "         [1., 0., 0., 1., 0., 0., 1., 1.],\n",
       "         [1., 0., 1., 0., 0., 0., 0., 1.],\n",
       "         [1., 1., 0., 1., 1., 0., 0., 0.],\n",
       "         [0., 0., 0., 0., 0., 0., 0., 1.],\n",
       "         [1., 1., 0., 1., 1., 0., 1., 1.],\n",
       "         [1., 0., 0., 1., 0., 0., 1., 1.],\n",
       "         [1., 0., 0., 0., 0., 1., 1., 0.],\n",
       "         [1., 0., 0., 1., 0., 1., 1., 0.],\n",
       "         [1., 0., 0., 0., 0., 0., 0., 0.],\n",
       "         [1., 0., 0., 1., 0., 0., 0., 0.],\n",
       "         [1., 1., 0., 1., 1., 0., 0., 1.],\n",
       "         [1., 0., 0., 1., 0., 0., 0., 0.],\n",
       "         [1., 0., 0., 1., 0., 1., 0., 0.],\n",
       "         [1., 0., 0., 1., 0., 0., 1., 1.],\n",
       "         [1., 0., 0., 0., 0., 0., 0., 1.],\n",
       "         [1., 0., 0., 1., 0., 1., 0., 1.],\n",
       "         [1., 1., 0., 0., 1., 0., 0., 1.],\n",
       "         [1., 1., 0., 1., 0., 0., 1., 1.],\n",
       "         [1., 1., 0., 0., 1., 0., 0., 1.],\n",
       "         [1., 1., 0., 1., 1., 0., 1., 0.]]))"
      ]
     },
     "execution_count": 4,
     "metadata": {},
     "output_type": "execute_result"
    }
   ],
   "source": [
    "data_clas.one_batch()"
   ]
  },
  {
   "cell_type": "code",
   "execution_count": null,
   "metadata": {
    "ExecuteTime": {
     "start_time": "2019-01-24T17:19:20.240Z"
    }
   },
   "outputs": [
    {
     "name": "stdout",
     "output_type": "stream",
     "text": [
      "LR Finder is complete, type {learner_name}.recorder.plot() to see the graph.\n",
      "best lr: 0.007177942912713615\n"
     ]
    }
   ],
   "source": [
    "encoder_name = 'encoder_' + best_lm_exp_id\n",
    "drop_mult = 0.8\n",
    "\n",
    "learn = text_classifier_learner(data_clas, drop_mult=drop_mult, embed_prevent_first=6)\n",
    "learn.load_encoder(encoder_name)\n",
    "\n",
    "optim_lr = news_utils.fastai.get_optimal_lr(learn, runs=3)"
   ]
  },
  {
   "cell_type": "code",
   "execution_count": null,
   "metadata": {
    "ExecuteTime": {
     "start_time": "2019-01-24T17:19:20.392Z"
    }
   },
   "outputs": [],
   "source": [
    "# optim_lr = 0.0042854852039743915\n",
    "\n",
    "#     @ex.config\n",
    "#     def my_config():\n",
    "exp_id = datetime.datetime.now().strftime(\"%Y_%_m_%d_%H_%M_%S_%f\")\n",
    "factor = 2.6\n",
    "wd = 1e-7\n",
    "moms = (0.8, 0.7)\n",
    "full_epochs = 10\n",
    "bs = 50\n",
    "embed_prevent=6\n",
    "# lm_model_type='trained_0_embed_prevent'\n",
    "\n",
    "#     @ex.main\n",
    "#     def run_exp(exp_id, drop_mult, lr, moms, wd, factor, full_epochs):\n",
    "\n",
    "lr = optim_lr\n",
    "\n",
    "lrs = [lr / (factor ** (4 - x)) for x in range(4)] + [lr]\n",
    "\n",
    "learn = text_classifier_learner(data_clas, drop_mult=drop_mult, embed_prevent_first=6)\n",
    "learn.load_encoder(encoder_name)\n",
    "learn.metrics =[fbeta]\n",
    "\n",
    "# learn.metrics += [news_utils.fastai.F1Macro(),\n",
    "#                   news_utils.fastai.F1Weighted(), news_utils.fastai.PrecisionMacro(), news_utils.fastai.RecallMacro()]\n",
    "\n",
    "learn.callbacks += [\n",
    "    SaveModelCallback(learn, name=exp_id),\n",
    "#     news_utils.fastai.SacredLogger(learn, ex),\n",
    "]"
   ]
  },
  {
   "cell_type": "code",
   "execution_count": null,
   "metadata": {
    "ExecuteTime": {
     "start_time": "2019-01-24T17:19:20.938Z"
    }
   },
   "outputs": [],
   "source": [
    "# learn.fit_one_cycle(1, np.array(lrs), wd=wd, moms=moms)"
   ]
  },
  {
   "cell_type": "code",
   "execution_count": null,
   "metadata": {
    "ExecuteTime": {
     "start_time": "2019-01-24T17:19:21.366Z"
    }
   },
   "outputs": [
    {
     "data": {
      "text/html": [
       "Total time: 00:42 <p><table style='width:300px; margin-bottom:10px'>\n",
       "  <tr>\n",
       "    <th>epoch</th>\n",
       "    <th>train_loss</th>\n",
       "    <th>valid_loss</th>\n",
       "    <th>fbeta</th>\n",
       "  </tr>\n",
       "  <tr>\n",
       "    <th>1</th>\n",
       "    <th>0.520436</th>\n",
       "    <th>0.519239</th>\n",
       "    <th>0.705325</th>\n",
       "  </tr>\n",
       "</table>\n"
      ],
      "text/plain": [
       "<IPython.core.display.HTML object>"
      ]
     },
     "metadata": {},
     "output_type": "display_data"
    },
    {
     "data": {
      "text/html": [
       "Total time: 00:55 <p><table style='width:300px; margin-bottom:10px'>\n",
       "  <tr>\n",
       "    <th>epoch</th>\n",
       "    <th>train_loss</th>\n",
       "    <th>valid_loss</th>\n",
       "    <th>fbeta</th>\n",
       "  </tr>\n",
       "  <tr>\n",
       "    <th>1</th>\n",
       "    <th>0.499429</th>\n",
       "    <th>0.472250</th>\n",
       "    <th>0.733340</th>\n",
       "  </tr>\n",
       "</table>\n"
      ],
      "text/plain": [
       "<IPython.core.display.HTML object>"
      ]
     },
     "metadata": {},
     "output_type": "display_data"
    },
    {
     "data": {
      "text/html": [
       "\n",
       "    <div>\n",
       "        <style>\n",
       "            /* Turns off some styling */\n",
       "            progress {\n",
       "                /* gets rid of default border in Firefox and Opera. */\n",
       "                border: none;\n",
       "                /* Needs to be in here for Safari polyfill so background images work as expected. */\n",
       "                background-size: auto;\n",
       "            }\n",
       "            .progress-bar-interrupted, .progress-bar-interrupted::-webkit-progress-bar {\n",
       "                background: #F44336;\n",
       "            }\n",
       "        </style>\n",
       "      <progress value='5' class='' max='10', style='width:300px; height:20px; vertical-align: middle;'></progress>\n",
       "      50.00% [5/10 08:19<08:19]\n",
       "    </div>\n",
       "    \n",
       "<table style='width:300px; margin-bottom:10px'>\n",
       "  <tr>\n",
       "    <th>epoch</th>\n",
       "    <th>train_loss</th>\n",
       "    <th>valid_loss</th>\n",
       "    <th>fbeta</th>\n",
       "  </tr>\n",
       "  <tr>\n",
       "    <th>1</th>\n",
       "    <th>0.480551</th>\n",
       "    <th>0.463268</th>\n",
       "    <th>0.738417</th>\n",
       "  </tr>\n",
       "  <tr>\n",
       "    <th>2</th>\n",
       "    <th>0.471284</th>\n",
       "    <th>0.456904</th>\n",
       "    <th>0.743069</th>\n",
       "  </tr>\n",
       "  <tr>\n",
       "    <th>3</th>\n",
       "    <th>0.456786</th>\n",
       "    <th>0.436887</th>\n",
       "    <th>0.743163</th>\n",
       "  </tr>\n",
       "  <tr>\n",
       "    <th>4</th>\n",
       "    <th>0.468172</th>\n",
       "    <th>0.436046</th>\n",
       "    <th>0.748603</th>\n",
       "  </tr>\n",
       "  <tr>\n",
       "    <th>5</th>\n",
       "    <th>0.466117</th>\n",
       "    <th>0.430138</th>\n",
       "    <th>0.750996</th>\n",
       "  </tr>\n",
       "</table>\n",
       "\n",
       "\n",
       "    <div>\n",
       "        <style>\n",
       "            /* Turns off some styling */\n",
       "            progress {\n",
       "                /* gets rid of default border in Firefox and Opera. */\n",
       "                border: none;\n",
       "                /* Needs to be in here for Safari polyfill so background images work as expected. */\n",
       "                background-size: auto;\n",
       "            }\n",
       "            .progress-bar-interrupted, .progress-bar-interrupted::-webkit-progress-bar {\n",
       "                background: #F44336;\n",
       "            }\n",
       "        </style>\n",
       "      <progress value='240' class='' max='314', style='width:300px; height:20px; vertical-align: middle;'></progress>\n",
       "      76.43% [240/314 01:20<00:24 0.4658]\n",
       "    </div>\n",
       "    "
      ],
      "text/plain": [
       "<IPython.core.display.HTML object>"
      ]
     },
     "metadata": {},
     "output_type": "display_data"
    }
   ],
   "source": [
    "for i in range(1, 4):\n",
    "    epochs = 1\n",
    "    if i in [1, 2]:\n",
    "        learn.freeze_to(-i)\n",
    "    else:\n",
    "        learn.unfreeze()\n",
    "        epochs = full_epochs\n",
    "    learn.fit_one_cycle(epochs, np.array(lrs), wd=wd, moms=moms)\n",
    "\n",
    "#     for _ in range(it):\n",
    "#         ex.run(config_updates={\"lr\": optim_lr, \"drop_mult\": drop_mult})\n",
    "\n",
    "\n",
    "# run_for_class(all_classes[args.cl])"
   ]
  },
  {
   "cell_type": "code",
   "execution_count": null,
   "metadata": {
    "ExecuteTime": {
     "start_time": "2019-01-24T17:19:21.681Z"
    }
   },
   "outputs": [],
   "source": [
    "data_clas.valid_dl"
   ]
  },
  {
   "cell_type": "code",
   "execution_count": null,
   "metadata": {
    "ExecuteTime": {
     "start_time": "2019-01-24T17:19:21.847Z"
    }
   },
   "outputs": [],
   "source": [
    "learn.predict('that is cool')"
   ]
  },
  {
   "cell_type": "code",
   "execution_count": null,
   "metadata": {
    "ExecuteTime": {
     "start_time": "2019-01-24T17:19:21.998Z"
    }
   },
   "outputs": [],
   "source": [
    "b1, b2 = learn.get_preds()"
   ]
  },
  {
   "cell_type": "code",
   "execution_count": null,
   "metadata": {
    "ExecuteTime": {
     "start_time": "2019-01-24T17:19:22.144Z"
    }
   },
   "outputs": [],
   "source": [
    "b1"
   ]
  },
  {
   "cell_type": "code",
   "execution_count": null,
   "metadata": {
    "ExecuteTime": {
     "start_time": "2019-01-24T17:19:22.289Z"
    }
   },
   "outputs": [],
   "source": [
    "for i in range(8):\n",
    "    preds = [round(x[i].item()) for x in b1]\n",
    "    targs = [round(x[i].item()) for x in b2]\n",
    "    print(all_classes[i])\n",
    "#     print((preds))\n",
    "    print(metrics.f1_score(targs, preds, average=\"micro\"))\n",
    "    print(metrics.f1_score(targs, preds, average=\"macro\"))\n",
    "    print()"
   ]
  },
  {
   "cell_type": "code",
   "execution_count": null,
   "metadata": {},
   "outputs": [],
   "source": []
  },
  {
   "cell_type": "code",
   "execution_count": null,
   "metadata": {},
   "outputs": [],
   "source": []
  }
 ],
 "metadata": {
  "kernelspec": {
   "display_name": "Python 3",
   "language": "python",
   "name": "python3"
  },
  "language_info": {
   "codemirror_mode": {
    "name": "ipython",
    "version": 3
   },
   "file_extension": ".py",
   "mimetype": "text/x-python",
   "name": "python",
   "nbconvert_exporter": "python",
   "pygments_lexer": "ipython3",
   "version": "3.7.1"
  },
  "toc": {
   "base_numbering": 1,
   "nav_menu": {},
   "number_sections": true,
   "sideBar": true,
   "skip_h1_title": false,
   "title_cell": "Table of Contents",
   "title_sidebar": "Contents",
   "toc_cell": false,
   "toc_position": {},
   "toc_section_display": true,
   "toc_window_display": false
  }
 },
 "nbformat": 4,
 "nbformat_minor": 2
}
